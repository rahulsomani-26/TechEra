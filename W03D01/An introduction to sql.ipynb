{
 "cells": [
  {
   "cell_type": "markdown",
   "id": "6d6dfeb4",
   "metadata": {},
   "source": [
    "`` SQL -- Structured Query Language ``\n"
   ]
  },
  {
   "cell_type": "code",
   "execution_count": 1,
   "id": "fc22db47",
   "metadata": {},
   "outputs": [],
   "source": [
    "import sqlite3"
   ]
  },
  {
   "cell_type": "code",
   "execution_count": 2,
   "id": "2d1616da",
   "metadata": {},
   "outputs": [
    {
     "data": {
      "text/plain": [
       "<module 'sqlite3' from 'c:\\\\users\\\\soman\\\\appdata\\\\local\\\\programs\\\\python\\\\python39\\\\lib\\\\sqlite3\\\\__init__.py'>"
      ]
     },
     "execution_count": 2,
     "metadata": {},
     "output_type": "execute_result"
    }
   ],
   "source": [
    "sqlite3"
   ]
  },
  {
   "cell_type": "markdown",
   "id": "41b5b392",
   "metadata": {},
   "source": [
    "# Steps in creating databases \n",
    "\n",
    "`` The First step is to make a connection to the db ``\n",
    "\n",
    "`` Second step involves creation of table ``\n",
    "\n",
    "`` A table has a name and consists of field names along with their desired data type ``\n",
    "\n",
    "`` Fields can be unique, they can have additional attributes like, primary key, foreign key, not null ``\n",
    "\n",
    "\n",
    "\n",
    "\n"
   ]
  },
  {
   "cell_type": "code",
   "execution_count": 3,
   "id": "26c98415",
   "metadata": {},
   "outputs": [
    {
     "name": "stdout",
     "output_type": "stream",
     "text": [
      "['Binary', 'Connection', 'Cursor', 'DataError', 'DatabaseError', 'Date', 'DateFromTicks', 'Error', 'IntegrityError', 'InterfaceError', 'InternalError', 'NotSupportedError', 'OperationalError', 'OptimizedUnicode', 'PARSE_COLNAMES', 'PARSE_DECLTYPES', 'PrepareProtocol', 'ProgrammingError', 'Row', 'SQLITE_ALTER_TABLE', 'SQLITE_ANALYZE', 'SQLITE_ATTACH', 'SQLITE_CREATE_INDEX', 'SQLITE_CREATE_TABLE', 'SQLITE_CREATE_TEMP_INDEX', 'SQLITE_CREATE_TEMP_TABLE', 'SQLITE_CREATE_TEMP_TRIGGER', 'SQLITE_CREATE_TEMP_VIEW', 'SQLITE_CREATE_TRIGGER', 'SQLITE_CREATE_VIEW', 'SQLITE_CREATE_VTABLE', 'SQLITE_DELETE', 'SQLITE_DENY', 'SQLITE_DETACH', 'SQLITE_DONE', 'SQLITE_DROP_INDEX', 'SQLITE_DROP_TABLE', 'SQLITE_DROP_TEMP_INDEX', 'SQLITE_DROP_TEMP_TABLE', 'SQLITE_DROP_TEMP_TRIGGER', 'SQLITE_DROP_TEMP_VIEW', 'SQLITE_DROP_TRIGGER', 'SQLITE_DROP_VIEW', 'SQLITE_DROP_VTABLE', 'SQLITE_FUNCTION', 'SQLITE_IGNORE', 'SQLITE_INSERT', 'SQLITE_OK', 'SQLITE_PRAGMA', 'SQLITE_READ', 'SQLITE_RECURSIVE', 'SQLITE_REINDEX', 'SQLITE_SAVEPOINT', 'SQLITE_SELECT', 'SQLITE_TRANSACTION', 'SQLITE_UPDATE', 'Time', 'TimeFromTicks', 'Timestamp', 'TimestampFromTicks', 'Warning', '__builtins__', '__cached__', '__doc__', '__file__', '__loader__', '__name__', '__package__', '__path__', '__spec__', 'adapt', 'adapters', 'apilevel', 'collections', 'complete_statement', 'connect', 'converters', 'datetime', 'dbapi2', 'enable_callback_tracebacks', 'enable_shared_cache', 'paramstyle', 'register_adapter', 'register_converter', 'sqlite_version', 'sqlite_version_info', 'threadsafety', 'time', 'version', 'version_info']\n"
     ]
    }
   ],
   "source": [
    "print(dir(sqlite3))"
   ]
  },
  {
   "cell_type": "code",
   "execution_count": 4,
   "id": "9c3f357c",
   "metadata": {},
   "outputs": [
    {
     "data": {
      "text/plain": [
       "'2.6.0'"
      ]
     },
     "execution_count": 4,
     "metadata": {},
     "output_type": "execute_result"
    }
   ],
   "source": [
    "sqlite3.version"
   ]
  },
  {
   "cell_type": "code",
   "execution_count": 5,
   "id": "6a87b968",
   "metadata": {},
   "outputs": [
    {
     "data": {
      "text/plain": [
       "(2, 6, 0)"
      ]
     },
     "execution_count": 5,
     "metadata": {},
     "output_type": "execute_result"
    }
   ],
   "source": [
    "sqlite3.version_info"
   ]
  },
  {
   "cell_type": "code",
   "execution_count": 6,
   "id": "4f4c0b39",
   "metadata": {},
   "outputs": [
    {
     "data": {
      "text/plain": [
       "<function _sqlite3.connect>"
      ]
     },
     "execution_count": 6,
     "metadata": {},
     "output_type": "execute_result"
    }
   ],
   "source": [
    "sqlite3.connect"
   ]
  },
  {
   "cell_type": "code",
   "execution_count": 7,
   "id": "8da44d7c",
   "metadata": {},
   "outputs": [],
   "source": [
    "import sqlite3 as sq"
   ]
  },
  {
   "cell_type": "code",
   "execution_count": 8,
   "id": "4d105a39",
   "metadata": {},
   "outputs": [
    {
     "data": {
      "text/plain": [
       "<module 'sqlite3' from 'c:\\\\users\\\\soman\\\\appdata\\\\local\\\\programs\\\\python\\\\python39\\\\lib\\\\sqlite3\\\\__init__.py'>"
      ]
     },
     "execution_count": 8,
     "metadata": {},
     "output_type": "execute_result"
    }
   ],
   "source": [
    "sq"
   ]
  },
  {
   "cell_type": "markdown",
   "id": "2d5887e4",
   "metadata": {},
   "source": [
    "`` Our First Database Implemenation ``"
   ]
  },
  {
   "cell_type": "code",
   "execution_count": 9,
   "id": "4d315cd6",
   "metadata": {},
   "outputs": [
    {
     "name": "stdout",
     "output_type": "stream",
     "text": [
      "Help on built-in function connect in module _sqlite3:\n",
      "\n",
      "connect(...)\n",
      "    connect(database[, timeout, detect_types, isolation_level,\n",
      "            check_same_thread, factory, cached_statements, uri])\n",
      "    \n",
      "    Opens a connection to the SQLite database file *database*. You can use\n",
      "    \":memory:\" to open a database connection to a database that resides in\n",
      "    RAM instead of on disk.\n",
      "\n"
     ]
    }
   ],
   "source": [
    "help(sq.connect)"
   ]
  },
  {
   "cell_type": "code",
   "execution_count": 10,
   "id": "ff250bde",
   "metadata": {},
   "outputs": [
    {
     "data": {
      "text/plain": [
       "'connect(database[, timeout, detect_types, isolation_level,\\n        check_same_thread, factory, cached_statements, uri])\\n\\nOpens a connection to the SQLite database file *database*. You can use\\n\":memory:\" to open a database connection to a database that resides in\\nRAM instead of on disk.'"
      ]
     },
     "execution_count": 10,
     "metadata": {},
     "output_type": "execute_result"
    }
   ],
   "source": [
    "sq.connect.__doc__"
   ]
  },
  {
   "cell_type": "code",
   "execution_count": 11,
   "id": "34de251d",
   "metadata": {},
   "outputs": [],
   "source": [
    "con = sq.connect('mydb.sqlite3')"
   ]
  },
  {
   "cell_type": "code",
   "execution_count": 12,
   "id": "051c98ae",
   "metadata": {},
   "outputs": [
    {
     "data": {
      "text/plain": [
       "(<sqlite3.Connection at 0x27d7e7ddd50>, sqlite3.Connection)"
      ]
     },
     "execution_count": 12,
     "metadata": {},
     "output_type": "execute_result"
    }
   ],
   "source": [
    "con, type(con)"
   ]
  },
  {
   "cell_type": "code",
   "execution_count": 13,
   "id": "b329b678",
   "metadata": {},
   "outputs": [],
   "source": [
    "# Create a Table \n",
    "# Table name : USER, id int, name text, age int"
   ]
  },
  {
   "cell_type": "code",
   "execution_count": 14,
   "id": "128ce69e",
   "metadata": {},
   "outputs": [
    {
     "name": "stdout",
     "output_type": "stream",
     "text": [
      "['DataError', 'DatabaseError', 'Error', 'IntegrityError', 'InterfaceError', 'InternalError', 'NotSupportedError', 'OperationalError', 'ProgrammingError', 'Warning', '__call__', '__class__', '__delattr__', '__dir__', '__doc__', '__enter__', '__eq__', '__exit__', '__format__', '__ge__', '__getattribute__', '__gt__', '__hash__', '__init__', '__init_subclass__', '__le__', '__lt__', '__ne__', '__new__', '__reduce__', '__reduce_ex__', '__repr__', '__setattr__', '__sizeof__', '__str__', '__subclasshook__', 'backup', 'close', 'commit', 'create_aggregate', 'create_collation', 'create_function', 'cursor', 'enable_load_extension', 'execute', 'executemany', 'executescript', 'in_transaction', 'interrupt', 'isolation_level', 'iterdump', 'load_extension', 'rollback', 'row_factory', 'set_authorizer', 'set_progress_handler', 'set_trace_callback', 'text_factory', 'total_changes']\n"
     ]
    }
   ],
   "source": [
    "print(dir(con))"
   ]
  },
  {
   "cell_type": "code",
   "execution_count": 15,
   "id": "16f707e5",
   "metadata": {},
   "outputs": [],
   "source": [
    "cur = con.cursor()"
   ]
  },
  {
   "cell_type": "code",
   "execution_count": 16,
   "id": "f6ce7e09",
   "metadata": {},
   "outputs": [
    {
     "name": "stdout",
     "output_type": "stream",
     "text": [
      "Help on built-in function execute:\n",
      "\n",
      "execute(...) method of sqlite3.Cursor instance\n",
      "    Executes a SQL statement.\n",
      "\n"
     ]
    }
   ],
   "source": [
    "help(cur.execute)"
   ]
  },
  {
   "cell_type": "code",
   "execution_count": 18,
   "id": "681ad56e",
   "metadata": {},
   "outputs": [
    {
     "ename": "OperationalError",
     "evalue": "table USER already exists",
     "output_type": "error",
     "traceback": [
      "\u001b[1;31m---------------------------------------------------------------------------\u001b[0m",
      "\u001b[1;31mOperationalError\u001b[0m                          Traceback (most recent call last)",
      "\u001b[1;32m<ipython-input-18-43e3f051c451>\u001b[0m in \u001b[0;36m<module>\u001b[1;34m\u001b[0m\n\u001b[1;32m----> 1\u001b[1;33m \u001b[0mcur\u001b[0m\u001b[1;33m.\u001b[0m\u001b[0mexecute\u001b[0m\u001b[1;33m(\u001b[0m\u001b[1;34m'create table USER(id int,name text,age int)'\u001b[0m\u001b[1;33m)\u001b[0m\u001b[1;33m\u001b[0m\u001b[1;33m\u001b[0m\u001b[0m\n\u001b[0m",
      "\u001b[1;31mOperationalError\u001b[0m: table USER already exists"
     ]
    }
   ],
   "source": [
    "cur.execute('create table USER(id int,name text,age int)')"
   ]
  },
  {
   "cell_type": "code",
   "execution_count": 19,
   "id": "a88e40b4",
   "metadata": {},
   "outputs": [
    {
     "data": {
      "text/plain": [
       "<sqlite3.Cursor at 0x27d7e8b2ce0>"
      ]
     },
     "execution_count": 19,
     "metadata": {},
     "output_type": "execute_result"
    }
   ],
   "source": [
    "cur.execute('create table if not exists USER(id int,name text,age int)')"
   ]
  },
  {
   "cell_type": "code",
   "execution_count": 20,
   "id": "94edfa02",
   "metadata": {},
   "outputs": [
    {
     "data": {
      "text/plain": [
       "<sqlite3.Cursor at 0x27d7e8b2ce0>"
      ]
     },
     "execution_count": 20,
     "metadata": {},
     "output_type": "execute_result"
    }
   ],
   "source": [
    "cur.execute('insert into USER values(?,?,?)',(1,\"Rahul\",38))"
   ]
  },
  {
   "cell_type": "code",
   "execution_count": 21,
   "id": "567fff0f",
   "metadata": {},
   "outputs": [
    {
     "data": {
      "text/plain": [
       "<sqlite3.Cursor at 0x27d7e8b2ce0>"
      ]
     },
     "execution_count": 21,
     "metadata": {},
     "output_type": "execute_result"
    }
   ],
   "source": [
    "cur.execute('insert into USER values(?,?,?)',(2,\"Ujjwal\",34))"
   ]
  },
  {
   "cell_type": "code",
   "execution_count": 22,
   "id": "c6cbbb6e",
   "metadata": {},
   "outputs": [
    {
     "data": {
      "text/plain": [
       "<sqlite3.Cursor at 0x27d7e8b2ce0>"
      ]
     },
     "execution_count": 22,
     "metadata": {},
     "output_type": "execute_result"
    }
   ],
   "source": [
    "cur.execute('insert into USER values(?,?,?)',(3,\"Shweta\",40))"
   ]
  },
  {
   "cell_type": "code",
   "execution_count": 23,
   "id": "1cbc46f3",
   "metadata": {},
   "outputs": [],
   "source": [
    "# Retrieving data "
   ]
  },
  {
   "cell_type": "markdown",
   "id": "5375a463",
   "metadata": {},
   "source": [
    "`` select * from table_name  ``\n",
    "\n",
    "`` select item1,item2 from table_name ``\n",
    "\n",
    "`` select id,name,age from USER ``"
   ]
  },
  {
   "cell_type": "code",
   "execution_count": 34,
   "id": "d5e21dd4",
   "metadata": {},
   "outputs": [],
   "source": [
    "resultset = cur.execute('select * from USER')"
   ]
  },
  {
   "cell_type": "code",
   "execution_count": 32,
   "id": "5b48aba9",
   "metadata": {},
   "outputs": [
    {
     "data": {
      "text/plain": [
       "<sqlite3.Cursor at 0x27d7e8b2ce0>"
      ]
     },
     "execution_count": 32,
     "metadata": {},
     "output_type": "execute_result"
    }
   ],
   "source": [
    "resultset"
   ]
  },
  {
   "cell_type": "code",
   "execution_count": 35,
   "id": "002ddcae",
   "metadata": {},
   "outputs": [
    {
     "name": "stdout",
     "output_type": "stream",
     "text": [
      "Rahul\n",
      "Ujjwal\n",
      "Shweta\n"
     ]
    }
   ],
   "source": [
    "for row in resultset:\n",
    "    print(row[1])"
   ]
  },
  {
   "cell_type": "code",
   "execution_count": 41,
   "id": "d89d1983",
   "metadata": {},
   "outputs": [],
   "source": [
    "# Filtering data \n",
    "\n",
    "resultset = cur.execute('select id,name from USER')"
   ]
  },
  {
   "cell_type": "code",
   "execution_count": 42,
   "id": "61689f2d",
   "metadata": {},
   "outputs": [
    {
     "name": "stdout",
     "output_type": "stream",
     "text": [
      "(1, 'Rahul')\n",
      "(2, 'Ujjwal')\n",
      "(3, 'Shweta')\n"
     ]
    }
   ],
   "source": [
    "for row in resultset:\n",
    "    print(row)"
   ]
  },
  {
   "cell_type": "code",
   "execution_count": 38,
   "id": "993b5d4c",
   "metadata": {},
   "outputs": [],
   "source": [
    "resultset = cur.execute('select * from USER where id=1')"
   ]
  },
  {
   "cell_type": "code",
   "execution_count": 39,
   "id": "09aa9bbb",
   "metadata": {},
   "outputs": [
    {
     "name": "stdout",
     "output_type": "stream",
     "text": [
      "(1, 'Rahul', 38)\n"
     ]
    }
   ],
   "source": [
    "for r in resultset:\n",
    "    print(r)"
   ]
  },
  {
   "cell_type": "code",
   "execution_count": null,
   "id": "ba5a09a4",
   "metadata": {},
   "outputs": [],
   "source": []
  }
 ],
 "metadata": {
  "kernelspec": {
   "display_name": "Python 3",
   "language": "python",
   "name": "python3"
  },
  "language_info": {
   "codemirror_mode": {
    "name": "ipython",
    "version": 3
   },
   "file_extension": ".py",
   "mimetype": "text/x-python",
   "name": "python",
   "nbconvert_exporter": "python",
   "pygments_lexer": "ipython3",
   "version": "3.9.6"
  }
 },
 "nbformat": 4,
 "nbformat_minor": 5
}
