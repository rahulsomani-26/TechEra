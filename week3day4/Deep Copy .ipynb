{
 "cells": [
  {
   "cell_type": "code",
   "execution_count": 1,
   "id": "dea80b37",
   "metadata": {},
   "outputs": [],
   "source": [
    "import copy"
   ]
  },
  {
   "cell_type": "code",
   "execution_count": 2,
   "id": "a9430f80",
   "metadata": {},
   "outputs": [
    {
     "name": "stdout",
     "output_type": "stream",
     "text": [
      "['Error', '__all__', '__builtins__', '__cached__', '__doc__', '__file__', '__loader__', '__name__', '__package__', '__spec__', '_copy_dispatch', '_copy_immutable', '_deepcopy_atomic', '_deepcopy_dict', '_deepcopy_dispatch', '_deepcopy_list', '_deepcopy_method', '_deepcopy_tuple', '_keep_alive', '_reconstruct', 'copy', 'deepcopy', 'dispatch_table', 'error']\n"
     ]
    }
   ],
   "source": [
    "print(dir(copy))"
   ]
  },
  {
   "cell_type": "code",
   "execution_count": 3,
   "id": "2efc248b",
   "metadata": {},
   "outputs": [],
   "source": [
    "l = [1,2,3]\n",
    "lcopy = copy.copy(l)"
   ]
  },
  {
   "cell_type": "code",
   "execution_count": 4,
   "id": "78510d59",
   "metadata": {},
   "outputs": [
    {
     "data": {
      "text/plain": [
       "([1, 2, 3], [1, 2, 3])"
      ]
     },
     "execution_count": 4,
     "metadata": {},
     "output_type": "execute_result"
    }
   ],
   "source": [
    "l,lcopy"
   ]
  },
  {
   "cell_type": "code",
   "execution_count": 5,
   "id": "6df02640",
   "metadata": {},
   "outputs": [
    {
     "data": {
      "text/plain": [
       "(1604080252800, 1604079950592)"
      ]
     },
     "execution_count": 5,
     "metadata": {},
     "output_type": "execute_result"
    }
   ],
   "source": [
    "id(l), id(lcopy)"
   ]
  },
  {
   "cell_type": "code",
   "execution_count": 6,
   "id": "c6a35398",
   "metadata": {},
   "outputs": [
    {
     "data": {
      "text/plain": [
       "(1604009879856, 1604009879856)"
      ]
     },
     "execution_count": 6,
     "metadata": {},
     "output_type": "execute_result"
    }
   ],
   "source": [
    "id(l[0]), id(lcopy[0])"
   ]
  },
  {
   "cell_type": "code",
   "execution_count": 7,
   "id": "b2bfc51d",
   "metadata": {},
   "outputs": [
    {
     "data": {
      "text/plain": [
       "<function copy.deepcopy(x, memo=None, _nil=[])>"
      ]
     },
     "execution_count": 7,
     "metadata": {},
     "output_type": "execute_result"
    }
   ],
   "source": [
    "copy.deepcopy"
   ]
  },
  {
   "cell_type": "code",
   "execution_count": 8,
   "id": "91e37199",
   "metadata": {},
   "outputs": [
    {
     "data": {
      "text/plain": [
       "\"Deep copy operation on arbitrary Python objects.\\n\\n    See the module's __doc__ string for more info.\\n    \""
      ]
     },
     "execution_count": 8,
     "metadata": {},
     "output_type": "execute_result"
    }
   ],
   "source": [
    "copy.deepcopy.__doc__"
   ]
  },
  {
   "cell_type": "code",
   "execution_count": 9,
   "id": "28b36ddd",
   "metadata": {},
   "outputs": [
    {
     "name": "stdout",
     "output_type": "stream",
     "text": [
      "Help on function deepcopy in module copy:\n",
      "\n",
      "deepcopy(x, memo=None, _nil=[])\n",
      "    Deep copy operation on arbitrary Python objects.\n",
      "    \n",
      "    See the module's __doc__ string for more info.\n",
      "\n"
     ]
    }
   ],
   "source": [
    "help(copy.deepcopy)"
   ]
  },
  {
   "cell_type": "code",
   "execution_count": 10,
   "id": "808a1f32",
   "metadata": {},
   "outputs": [
    {
     "data": {
      "text/plain": [
       "[1, 2, 3]"
      ]
     },
     "execution_count": 10,
     "metadata": {},
     "output_type": "execute_result"
    }
   ],
   "source": [
    "l"
   ]
  },
  {
   "cell_type": "code",
   "execution_count": 11,
   "id": "eee0844d",
   "metadata": {},
   "outputs": [],
   "source": [
    "ldeep = copy.deepcopy(l)"
   ]
  },
  {
   "cell_type": "code",
   "execution_count": 12,
   "id": "08b577b3",
   "metadata": {},
   "outputs": [
    {
     "data": {
      "text/plain": [
       "[1, 2, 3]"
      ]
     },
     "execution_count": 12,
     "metadata": {},
     "output_type": "execute_result"
    }
   ],
   "source": [
    "ldeep"
   ]
  },
  {
   "cell_type": "code",
   "execution_count": 13,
   "id": "8bbd67f1",
   "metadata": {},
   "outputs": [
    {
     "data": {
      "text/plain": [
       "(1604080042880, 1604080252800)"
      ]
     },
     "execution_count": 13,
     "metadata": {},
     "output_type": "execute_result"
    }
   ],
   "source": [
    "id(ldeep), id(l)"
   ]
  },
  {
   "cell_type": "code",
   "execution_count": 14,
   "id": "cf24ace4",
   "metadata": {},
   "outputs": [
    {
     "data": {
      "text/plain": [
       "1604009879856"
      ]
     },
     "execution_count": 14,
     "metadata": {},
     "output_type": "execute_result"
    }
   ],
   "source": [
    "id(ldeep[0])"
   ]
  },
  {
   "cell_type": "code",
   "execution_count": 15,
   "id": "f9bd61a2",
   "metadata": {},
   "outputs": [
    {
     "data": {
      "text/plain": [
       "1604009879856"
      ]
     },
     "execution_count": 15,
     "metadata": {},
     "output_type": "execute_result"
    }
   ],
   "source": [
    "id(l[0])"
   ]
  },
  {
   "cell_type": "code",
   "execution_count": 16,
   "id": "5c582b55",
   "metadata": {},
   "outputs": [],
   "source": [
    "l = [ [0,0], [1,0], [1,1]]\n",
    "lcopy = copy.deepcopy(l)"
   ]
  },
  {
   "cell_type": "code",
   "execution_count": 17,
   "id": "2be3ef08",
   "metadata": {},
   "outputs": [
    {
     "data": {
      "text/plain": [
       "(1604080262080, 1604079969280)"
      ]
     },
     "execution_count": 17,
     "metadata": {},
     "output_type": "execute_result"
    }
   ],
   "source": [
    "id(l), id(lcopy)"
   ]
  },
  {
   "cell_type": "code",
   "execution_count": 18,
   "id": "a6d6c7c8",
   "metadata": {},
   "outputs": [
    {
     "data": {
      "text/plain": [
       "(1604080206016, 1604080020992)"
      ]
     },
     "execution_count": 18,
     "metadata": {},
     "output_type": "execute_result"
    }
   ],
   "source": [
    "id(l[0]), id(lcopy[0])"
   ]
  },
  {
   "cell_type": "code",
   "execution_count": 19,
   "id": "5559de5f",
   "metadata": {},
   "outputs": [],
   "source": [
    "lcopy[0].append(100)"
   ]
  },
  {
   "cell_type": "code",
   "execution_count": 20,
   "id": "58d13624",
   "metadata": {},
   "outputs": [
    {
     "data": {
      "text/plain": [
       "[[0, 0, 100], [1, 0], [1, 1]]"
      ]
     },
     "execution_count": 20,
     "metadata": {},
     "output_type": "execute_result"
    }
   ],
   "source": [
    "lcopy"
   ]
  },
  {
   "cell_type": "code",
   "execution_count": 21,
   "id": "a38fcf21",
   "metadata": {},
   "outputs": [
    {
     "data": {
      "text/plain": [
       "[[0, 0], [1, 0], [1, 1]]"
      ]
     },
     "execution_count": 21,
     "metadata": {},
     "output_type": "execute_result"
    }
   ],
   "source": [
    "l"
   ]
  },
  {
   "cell_type": "code",
   "execution_count": 22,
   "id": "7c3fe49b",
   "metadata": {},
   "outputs": [
    {
     "name": "stdout",
     "output_type": "stream",
     "text": [
      "original sequence = ([100, 200], [300, 400])\n",
      "Copied sequence = ([100, 200], [300, 400])\n"
     ]
    }
   ],
   "source": [
    "t = ([100,200],[300,400])\n",
    "print('original sequence = {}'.format(t))\n",
    "tcopy = copy.deepcopy(t)\n",
    "print('Copied sequence = {}'.format(tcopy))\n",
    "\n",
    "                                      "
   ]
  },
  {
   "cell_type": "code",
   "execution_count": 23,
   "id": "e6156df5",
   "metadata": {},
   "outputs": [
    {
     "data": {
      "text/plain": [
       "(1604079219008, 1604079321408)"
      ]
     },
     "execution_count": 23,
     "metadata": {},
     "output_type": "execute_result"
    }
   ],
   "source": [
    "id(t), id(tcopy)"
   ]
  },
  {
   "cell_type": "code",
   "execution_count": 24,
   "id": "cb824ae8",
   "metadata": {},
   "outputs": [
    {
     "data": {
      "text/plain": [
       "[100, 200]"
      ]
     },
     "execution_count": 24,
     "metadata": {},
     "output_type": "execute_result"
    }
   ],
   "source": [
    "tcopy[0]"
   ]
  },
  {
   "cell_type": "code",
   "execution_count": 25,
   "id": "bf2e3a39",
   "metadata": {},
   "outputs": [],
   "source": [
    "tcopy[0].append(1023)"
   ]
  },
  {
   "cell_type": "code",
   "execution_count": 26,
   "id": "7fc4c4aa",
   "metadata": {},
   "outputs": [
    {
     "data": {
      "text/plain": [
       "([100, 200, 1023], [300, 400])"
      ]
     },
     "execution_count": 26,
     "metadata": {},
     "output_type": "execute_result"
    }
   ],
   "source": [
    "tcopy"
   ]
  },
  {
   "cell_type": "code",
   "execution_count": 27,
   "id": "a8d8fd92",
   "metadata": {},
   "outputs": [
    {
     "data": {
      "text/plain": [
       "([100, 200], [300, 400])"
      ]
     },
     "execution_count": 27,
     "metadata": {},
     "output_type": "execute_result"
    }
   ],
   "source": [
    "t"
   ]
  },
  {
   "cell_type": "code",
   "execution_count": null,
   "id": "62127d79",
   "metadata": {},
   "outputs": [],
   "source": []
  }
 ],
 "metadata": {
  "kernelspec": {
   "display_name": "Python 3",
   "language": "python",
   "name": "python3"
  },
  "language_info": {
   "codemirror_mode": {
    "name": "ipython",
    "version": 3
   },
   "file_extension": ".py",
   "mimetype": "text/x-python",
   "name": "python",
   "nbconvert_exporter": "python",
   "pygments_lexer": "ipython3",
   "version": "3.9.6"
  }
 },
 "nbformat": 4,
 "nbformat_minor": 5
}
