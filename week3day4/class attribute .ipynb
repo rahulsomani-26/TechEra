{
 "cells": [
  {
   "cell_type": "markdown",
   "id": "abc9f895",
   "metadata": {},
   "source": [
    "`` Class Attributes `` "
   ]
  },
  {
   "cell_type": "code",
   "execution_count": 1,
   "id": "88b05ef4",
   "metadata": {},
   "outputs": [],
   "source": [
    "class Language:\n",
    "    name = 'python'\n",
    "    version = '3.9.7'\n"
   ]
  },
  {
   "cell_type": "markdown",
   "id": "159bf98b",
   "metadata": {},
   "source": [
    "# To find whether an attribute is a class attribute or an instance attribute "
   ]
  },
  {
   "cell_type": "code",
   "execution_count": 2,
   "id": "e90092c6",
   "metadata": {},
   "outputs": [
    {
     "data": {
      "text/plain": [
       "'python'"
      ]
     },
     "execution_count": 2,
     "metadata": {},
     "output_type": "execute_result"
    }
   ],
   "source": [
    "Language.name"
   ]
  },
  {
   "cell_type": "code",
   "execution_count": 3,
   "id": "b364b20b",
   "metadata": {},
   "outputs": [
    {
     "data": {
      "text/plain": [
       "'3.9.7'"
      ]
     },
     "execution_count": 3,
     "metadata": {},
     "output_type": "execute_result"
    }
   ],
   "source": [
    "Language.version "
   ]
  },
  {
   "cell_type": "code",
   "execution_count": 4,
   "id": "f784eb0c",
   "metadata": {},
   "outputs": [],
   "source": [
    "# Second way "
   ]
  },
  {
   "cell_type": "code",
   "execution_count": 6,
   "id": "89a3c78d",
   "metadata": {},
   "outputs": [
    {
     "data": {
      "text/plain": [
       "mappingproxy({'__module__': '__main__',\n",
       "              'name': 'python',\n",
       "              'version': '3.9.7',\n",
       "              '__dict__': <attribute '__dict__' of 'Language' objects>,\n",
       "              '__weakref__': <attribute '__weakref__' of 'Language' objects>,\n",
       "              '__doc__': None})"
      ]
     },
     "execution_count": 6,
     "metadata": {},
     "output_type": "execute_result"
    }
   ],
   "source": [
    "Language.__dict__"
   ]
  },
  {
   "cell_type": "code",
   "execution_count": 7,
   "id": "6dfb0c6e",
   "metadata": {},
   "outputs": [
    {
     "data": {
      "text/plain": [
       "<function getattr>"
      ]
     },
     "execution_count": 7,
     "metadata": {},
     "output_type": "execute_result"
    }
   ],
   "source": [
    "# One more way \n",
    "getattr"
   ]
  },
  {
   "cell_type": "code",
   "execution_count": 8,
   "id": "4c7f79b2",
   "metadata": {},
   "outputs": [
    {
     "name": "stdout",
     "output_type": "stream",
     "text": [
      "Help on built-in function getattr in module builtins:\n",
      "\n",
      "getattr(...)\n",
      "    getattr(object, name[, default]) -> value\n",
      "    \n",
      "    Get a named attribute from an object; getattr(x, 'y') is equivalent to x.y.\n",
      "    When a default argument is given, it is returned when the attribute doesn't\n",
      "    exist; without it, an exception is raised in that case.\n",
      "\n"
     ]
    }
   ],
   "source": [
    "help(getattr)"
   ]
  },
  {
   "cell_type": "code",
   "execution_count": 10,
   "id": "03890a18",
   "metadata": {},
   "outputs": [
    {
     "data": {
      "text/plain": [
       "('python', 'python')"
      ]
     },
     "execution_count": 10,
     "metadata": {},
     "output_type": "execute_result"
    }
   ],
   "source": [
    "getattr(Language,'name'), Language.name"
   ]
  },
  {
   "cell_type": "code",
   "execution_count": 11,
   "id": "cde79b51",
   "metadata": {},
   "outputs": [
    {
     "data": {
      "text/plain": [
       "'python'"
      ]
     },
     "execution_count": 11,
     "metadata": {},
     "output_type": "execute_result"
    }
   ],
   "source": [
    "# Avoid this approach \n",
    "Language.__dict__['name']"
   ]
  },
  {
   "cell_type": "code",
   "execution_count": 12,
   "id": "c6d53893",
   "metadata": {},
   "outputs": [
    {
     "ename": "AttributeError",
     "evalue": "type object 'Language' has no attribute 'origin'",
     "output_type": "error",
     "traceback": [
      "\u001b[1;31m---------------------------------------------------------------------------\u001b[0m",
      "\u001b[1;31mAttributeError\u001b[0m                            Traceback (most recent call last)",
      "\u001b[1;32m<ipython-input-12-796b5996c272>\u001b[0m in \u001b[0;36m<module>\u001b[1;34m\u001b[0m\n\u001b[1;32m----> 1\u001b[1;33m \u001b[0mLanguage\u001b[0m\u001b[1;33m.\u001b[0m\u001b[0morigin\u001b[0m\u001b[1;33m\u001b[0m\u001b[1;33m\u001b[0m\u001b[0m\n\u001b[0m",
      "\u001b[1;31mAttributeError\u001b[0m: type object 'Language' has no attribute 'origin'"
     ]
    }
   ],
   "source": [
    "Language.origin"
   ]
  },
  {
   "cell_type": "code",
   "execution_count": 13,
   "id": "3fe519b4",
   "metadata": {},
   "outputs": [
    {
     "data": {
      "text/plain": [
       "'Not available'"
      ]
     },
     "execution_count": 13,
     "metadata": {},
     "output_type": "execute_result"
    }
   ],
   "source": [
    "getattr(Language,'origin','Not available')"
   ]
  },
  {
   "cell_type": "code",
   "execution_count": 14,
   "id": "a6aba482",
   "metadata": {},
   "outputs": [
    {
     "data": {
      "text/plain": [
       "<function setattr(obj, name, value, /)>"
      ]
     },
     "execution_count": 14,
     "metadata": {},
     "output_type": "execute_result"
    }
   ],
   "source": [
    "setattr"
   ]
  },
  {
   "cell_type": "code",
   "execution_count": 15,
   "id": "44b698e9",
   "metadata": {},
   "outputs": [
    {
     "name": "stdout",
     "output_type": "stream",
     "text": [
      "Help on built-in function setattr in module builtins:\n",
      "\n",
      "setattr(obj, name, value, /)\n",
      "    Sets the named attribute on the given object to the specified value.\n",
      "    \n",
      "    setattr(x, 'y', v) is equivalent to ``x.y = v''\n",
      "\n"
     ]
    }
   ],
   "source": [
    "help(setattr)"
   ]
  },
  {
   "cell_type": "code",
   "execution_count": 16,
   "id": "8ceec863",
   "metadata": {},
   "outputs": [],
   "source": [
    "setattr(Language,'origin','India')"
   ]
  },
  {
   "cell_type": "code",
   "execution_count": 17,
   "id": "f5892101",
   "metadata": {},
   "outputs": [
    {
     "data": {
      "text/plain": [
       "mappingproxy({'__module__': '__main__',\n",
       "              'name': 'python',\n",
       "              'version': '3.9.7',\n",
       "              '__dict__': <attribute '__dict__' of 'Language' objects>,\n",
       "              '__weakref__': <attribute '__weakref__' of 'Language' objects>,\n",
       "              '__doc__': None,\n",
       "              'origin': 'India'})"
      ]
     },
     "execution_count": 17,
     "metadata": {},
     "output_type": "execute_result"
    }
   ],
   "source": [
    "Language.__dict__"
   ]
  },
  {
   "cell_type": "code",
   "execution_count": 18,
   "id": "ba9be91c",
   "metadata": {},
   "outputs": [
    {
     "data": {
      "text/plain": [
       "<function delattr(obj, name, /)>"
      ]
     },
     "execution_count": 18,
     "metadata": {},
     "output_type": "execute_result"
    }
   ],
   "source": [
    "delattr"
   ]
  },
  {
   "cell_type": "code",
   "execution_count": 19,
   "id": "9c04326a",
   "metadata": {},
   "outputs": [
    {
     "name": "stdout",
     "output_type": "stream",
     "text": [
      "Help on built-in function delattr in module builtins:\n",
      "\n",
      "delattr(obj, name, /)\n",
      "    Deletes the named attribute from the given object.\n",
      "    \n",
      "    delattr(x, 'y') is equivalent to ``del x.y''\n",
      "\n"
     ]
    }
   ],
   "source": [
    "help(delattr)"
   ]
  },
  {
   "cell_type": "code",
   "execution_count": 20,
   "id": "e2d7e35e",
   "metadata": {},
   "outputs": [],
   "source": [
    "delattr(Language,'origin')"
   ]
  },
  {
   "cell_type": "code",
   "execution_count": 21,
   "id": "422f52cb",
   "metadata": {},
   "outputs": [
    {
     "data": {
      "text/plain": [
       "mappingproxy({'__module__': '__main__',\n",
       "              'name': 'python',\n",
       "              'version': '3.9.7',\n",
       "              '__dict__': <attribute '__dict__' of 'Language' objects>,\n",
       "              '__weakref__': <attribute '__weakref__' of 'Language' objects>,\n",
       "              '__doc__': None})"
      ]
     },
     "execution_count": 21,
     "metadata": {},
     "output_type": "execute_result"
    }
   ],
   "source": [
    "Language.__dict__"
   ]
  },
  {
   "cell_type": "code",
   "execution_count": 22,
   "id": "ae3d17d9",
   "metadata": {},
   "outputs": [
    {
     "ename": "TypeError",
     "evalue": "delattr expected 2 arguments, got 3",
     "output_type": "error",
     "traceback": [
      "\u001b[1;31m---------------------------------------------------------------------------\u001b[0m",
      "\u001b[1;31mTypeError\u001b[0m                                 Traceback (most recent call last)",
      "\u001b[1;32m<ipython-input-22-dc1fbad2c435>\u001b[0m in \u001b[0;36m<module>\u001b[1;34m\u001b[0m\n\u001b[1;32m----> 1\u001b[1;33m \u001b[0mdelattr\u001b[0m\u001b[1;33m(\u001b[0m\u001b[0mLanguage\u001b[0m\u001b[1;33m,\u001b[0m\u001b[1;34m'origin'\u001b[0m\u001b[1;33m,\u001b[0m \u001b[1;34m'N/A'\u001b[0m\u001b[1;33m)\u001b[0m\u001b[1;33m\u001b[0m\u001b[1;33m\u001b[0m\u001b[0m\n\u001b[0m",
      "\u001b[1;31mTypeError\u001b[0m: delattr expected 2 arguments, got 3"
     ]
    }
   ],
   "source": [
    "delattr(Language,'origin', 'N/A')"
   ]
  },
  {
   "cell_type": "code",
   "execution_count": 23,
   "id": "c57dfcbb",
   "metadata": {},
   "outputs": [],
   "source": [
    "del Language.name"
   ]
  },
  {
   "cell_type": "code",
   "execution_count": 24,
   "id": "02f9667a",
   "metadata": {},
   "outputs": [
    {
     "data": {
      "text/plain": [
       "mappingproxy({'__module__': '__main__',\n",
       "              'version': '3.9.7',\n",
       "              '__dict__': <attribute '__dict__' of 'Language' objects>,\n",
       "              '__weakref__': <attribute '__weakref__' of 'Language' objects>,\n",
       "              '__doc__': None})"
      ]
     },
     "execution_count": 24,
     "metadata": {},
     "output_type": "execute_result"
    }
   ],
   "source": [
    "Language.__dict__"
   ]
  },
  {
   "cell_type": "code",
   "execution_count": 25,
   "id": "50775481",
   "metadata": {},
   "outputs": [
    {
     "data": {
      "text/plain": [
       "2339119501376"
      ]
     },
     "execution_count": 25,
     "metadata": {},
     "output_type": "execute_result"
    }
   ],
   "source": [
    "id(Language)"
   ]
  },
  {
   "cell_type": "code",
   "execution_count": 26,
   "id": "af8b18a3",
   "metadata": {},
   "outputs": [],
   "source": [
    "setattr(Language,'name','Python')"
   ]
  },
  {
   "cell_type": "code",
   "execution_count": 27,
   "id": "ee82efc8",
   "metadata": {},
   "outputs": [
    {
     "data": {
      "text/plain": [
       "2339119501376"
      ]
     },
     "execution_count": 27,
     "metadata": {},
     "output_type": "execute_result"
    }
   ],
   "source": [
    "id(Language)"
   ]
  },
  {
   "cell_type": "code",
   "execution_count": 28,
   "id": "2aecd1c3",
   "metadata": {},
   "outputs": [
    {
     "data": {
      "text/plain": [
       "'Python'"
      ]
     },
     "execution_count": 28,
     "metadata": {},
     "output_type": "execute_result"
    }
   ],
   "source": [
    "Language.name"
   ]
  },
  {
   "cell_type": "code",
   "execution_count": 29,
   "id": "63569afc",
   "metadata": {},
   "outputs": [
    {
     "data": {
      "text/plain": [
       "mappingproxy({'__module__': '__main__',\n",
       "              'version': '3.9.7',\n",
       "              '__dict__': <attribute '__dict__' of 'Language' objects>,\n",
       "              '__weakref__': <attribute '__weakref__' of 'Language' objects>,\n",
       "              '__doc__': None,\n",
       "              'name': 'Python'})"
      ]
     },
     "execution_count": 29,
     "metadata": {},
     "output_type": "execute_result"
    }
   ],
   "source": [
    "Language.__dict__"
   ]
  },
  {
   "cell_type": "markdown",
   "id": "d196f84c",
   "metadata": {},
   "source": [
    "# Create a Student class and initialize it with name and roll number. Create methods to \n",
    "\n",
    "    `` 1. display() ----> Display all the information of the student ``\n",
    "    ``  2. setage()  ----> Assign age to student ``\n",
    "    ``  3. setmarks() ----> assign marks to student `` \n"
   ]
  },
  {
   "cell_type": "code",
   "execution_count": 30,
   "id": "a06b0588",
   "metadata": {},
   "outputs": [],
   "source": [
    "class Student:\n",
    "    def __init__(self,name,roll):\n",
    "        self.name = name \n",
    "        self.roll = roll \n",
    "        print(\" Object Initialized..\")\n",
    "        \n",
    "    def display(self):\n",
    "        print('Student name = {} and Roll Number = {}'.format(self.name,self.roll))\n",
    "        \n",
    "    def set_age(self,age):\n",
    "        self.age =age\n",
    "        \n",
    "    def set_marks(self,marks):\n",
    "        self.marks = marks\n",
    "        \n",
    "        "
   ]
  },
  {
   "cell_type": "code",
   "execution_count": 31,
   "id": "aaa95758",
   "metadata": {},
   "outputs": [
    {
     "name": "stdout",
     "output_type": "stream",
     "text": [
      " Object Initialized..\n"
     ]
    }
   ],
   "source": [
    "s = Student('Teja',23)\n"
   ]
  },
  {
   "cell_type": "code",
   "execution_count": 32,
   "id": "79333a79",
   "metadata": {},
   "outputs": [
    {
     "data": {
      "text/plain": [
       "{'name': 'Teja', 'roll': 23}"
      ]
     },
     "execution_count": 32,
     "metadata": {},
     "output_type": "execute_result"
    }
   ],
   "source": [
    "s.__dict__"
   ]
  },
  {
   "cell_type": "code",
   "execution_count": 33,
   "id": "dfce066d",
   "metadata": {},
   "outputs": [
    {
     "name": "stdout",
     "output_type": "stream",
     "text": [
      "Student name = Teja and Roll Number = 23\n"
     ]
    }
   ],
   "source": [
    "s.display()"
   ]
  },
  {
   "cell_type": "code",
   "execution_count": 34,
   "id": "af685915",
   "metadata": {},
   "outputs": [],
   "source": [
    "s.set_age(20)"
   ]
  },
  {
   "cell_type": "code",
   "execution_count": 35,
   "id": "f21b9777",
   "metadata": {},
   "outputs": [],
   "source": [
    "s.set_marks(90)"
   ]
  },
  {
   "cell_type": "code",
   "execution_count": 36,
   "id": "7c108b9a",
   "metadata": {},
   "outputs": [
    {
     "data": {
      "text/plain": [
       "{'name': 'Teja', 'roll': 23, 'age': 20, 'marks': 90}"
      ]
     },
     "execution_count": 36,
     "metadata": {},
     "output_type": "execute_result"
    }
   ],
   "source": [
    "s.__dict__"
   ]
  },
  {
   "cell_type": "code",
   "execution_count": 37,
   "id": "3ddc6887",
   "metadata": {},
   "outputs": [
    {
     "data": {
      "text/plain": [
       "'Teja'"
      ]
     },
     "execution_count": 37,
     "metadata": {},
     "output_type": "execute_result"
    }
   ],
   "source": [
    "s.name"
   ]
  },
  {
   "cell_type": "code",
   "execution_count": 38,
   "id": "b6d5b775",
   "metadata": {},
   "outputs": [
    {
     "data": {
      "text/plain": [
       "23"
      ]
     },
     "execution_count": 38,
     "metadata": {},
     "output_type": "execute_result"
    }
   ],
   "source": [
    "s.roll"
   ]
  },
  {
   "cell_type": "code",
   "execution_count": 39,
   "id": "d3e8aed8",
   "metadata": {},
   "outputs": [
    {
     "data": {
      "text/plain": [
       "20"
      ]
     },
     "execution_count": 39,
     "metadata": {},
     "output_type": "execute_result"
    }
   ],
   "source": [
    "s.age"
   ]
  },
  {
   "cell_type": "code",
   "execution_count": 40,
   "id": "4522ef6b",
   "metadata": {},
   "outputs": [
    {
     "data": {
      "text/plain": [
       "90"
      ]
     },
     "execution_count": 40,
     "metadata": {},
     "output_type": "execute_result"
    }
   ],
   "source": [
    "s.marks"
   ]
  },
  {
   "cell_type": "code",
   "execution_count": 41,
   "id": "fc45b1ef",
   "metadata": {},
   "outputs": [
    {
     "data": {
      "text/plain": [
       "type"
      ]
     },
     "execution_count": 41,
     "metadata": {},
     "output_type": "execute_result"
    }
   ],
   "source": [
    "type(Student)"
   ]
  },
  {
   "cell_type": "code",
   "execution_count": 42,
   "id": "d03dba7e",
   "metadata": {},
   "outputs": [
    {
     "data": {
      "text/plain": [
       "type"
      ]
     },
     "execution_count": 42,
     "metadata": {},
     "output_type": "execute_result"
    }
   ],
   "source": [
    "type(type)"
   ]
  },
  {
   "cell_type": "code",
   "execution_count": 44,
   "id": "7b46a773",
   "metadata": {},
   "outputs": [
    {
     "data": {
      "text/plain": [
       "'Teja'"
      ]
     },
     "execution_count": 44,
     "metadata": {},
     "output_type": "execute_result"
    }
   ],
   "source": [
    "getattr(s,'name')"
   ]
  },
  {
   "cell_type": "code",
   "execution_count": 45,
   "id": "0cea53e3",
   "metadata": {},
   "outputs": [
    {
     "data": {
      "text/plain": [
       "90"
      ]
     },
     "execution_count": 45,
     "metadata": {},
     "output_type": "execute_result"
    }
   ],
   "source": [
    "getattr(s,'marks')"
   ]
  },
  {
   "cell_type": "code",
   "execution_count": 46,
   "id": "c32f6b55",
   "metadata": {},
   "outputs": [],
   "source": [
    "setattr(s,'persona','Silent, docile and charming')"
   ]
  },
  {
   "cell_type": "code",
   "execution_count": 47,
   "id": "502b9a78",
   "metadata": {},
   "outputs": [
    {
     "data": {
      "text/plain": [
       "{'name': 'Teja',\n",
       " 'roll': 23,\n",
       " 'age': 20,\n",
       " 'marks': 90,\n",
       " 'persona': 'Silent, docile and charming'}"
      ]
     },
     "execution_count": 47,
     "metadata": {},
     "output_type": "execute_result"
    }
   ],
   "source": [
    "s.__dict__"
   ]
  },
  {
   "cell_type": "code",
   "execution_count": 49,
   "id": "8bd717f7",
   "metadata": {},
   "outputs": [
    {
     "name": "stdout",
     "output_type": "stream",
     "text": [
      "Student name = Teja and Roll Number = 23\n"
     ]
    }
   ],
   "source": [
    "Student.display(s)"
   ]
  },
  {
   "cell_type": "markdown",
   "id": "f3399d8b",
   "metadata": {},
   "source": [
    "`` write a class that mimics pow(base,exponent)``"
   ]
  },
  {
   "cell_type": "code",
   "execution_count": 50,
   "id": "7246e652",
   "metadata": {},
   "outputs": [
    {
     "data": {
      "text/plain": [
       "<function pow(base, exp, mod=None)>"
      ]
     },
     "execution_count": 50,
     "metadata": {},
     "output_type": "execute_result"
    }
   ],
   "source": [
    "pow"
   ]
  },
  {
   "cell_type": "code",
   "execution_count": 51,
   "id": "f28d20cb",
   "metadata": {},
   "outputs": [
    {
     "data": {
      "text/plain": [
       "8"
      ]
     },
     "execution_count": 51,
     "metadata": {},
     "output_type": "execute_result"
    }
   ],
   "source": [
    "pow(2,3)"
   ]
  },
  {
   "cell_type": "code",
   "execution_count": null,
   "id": "c6b505b1",
   "metadata": {},
   "outputs": [],
   "source": []
  }
 ],
 "metadata": {
  "kernelspec": {
   "display_name": "Python 3",
   "language": "python",
   "name": "python3"
  },
  "language_info": {
   "codemirror_mode": {
    "name": "ipython",
    "version": 3
   },
   "file_extension": ".py",
   "mimetype": "text/x-python",
   "name": "python",
   "nbconvert_exporter": "python",
   "pygments_lexer": "ipython3",
   "version": "3.9.6"
  }
 },
 "nbformat": 4,
 "nbformat_minor": 5
}
