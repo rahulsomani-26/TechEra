{
 "cells": [
  {
   "cell_type": "markdown",
   "id": "5f397721",
   "metadata": {},
   "source": [
    "# Copying Sequences \n",
    "`` Why the need to copy `` \n",
    "\n",
    "`` You may want to make sure that whatever sequences we are working with cannot  ``\n",
    "\n",
    "`` cannot be changed or modified, by us or by 3rd party functions ``\n",
    "   \n"
   ]
  },
  {
   "cell_type": "code",
   "execution_count": 1,
   "id": "ce183740",
   "metadata": {},
   "outputs": [
    {
     "name": "stdout",
     "output_type": "stream",
     "text": [
      "2485711545472 [1, 2, 3, 4]\n",
      "2485711545472 [1, 2, 3, 4]\n"
     ]
    }
   ],
   "source": [
    "l = [1,2,3,4]\n",
    "lcopy = l \n",
    "print(id(l), l)\n",
    "print(id(lcopy),lcopy)\n"
   ]
  },
  {
   "cell_type": "code",
   "execution_count": 2,
   "id": "db8d0423",
   "metadata": {},
   "outputs": [
    {
     "name": "stdout",
     "output_type": "stream",
     "text": [
      "2485711555264 [1, 2, 3]\n",
      "2485711556800 [1, 2, 3]\n"
     ]
    }
   ],
   "source": [
    "l = [1,2,3]\n",
    "lcopy = []\n",
    "for item in l:\n",
    "    lcopy.append(item)\n",
    "print(id(l), l)\n",
    "print(id(lcopy),lcopy)\n"
   ]
  },
  {
   "cell_type": "code",
   "execution_count": 3,
   "id": "a18da252",
   "metadata": {},
   "outputs": [
    {
     "data": {
      "text/plain": [
       "3"
      ]
     },
     "execution_count": 3,
     "metadata": {},
     "output_type": "execute_result"
    }
   ],
   "source": [
    "lcopy.pop()"
   ]
  },
  {
   "cell_type": "code",
   "execution_count": 4,
   "id": "3b946717",
   "metadata": {},
   "outputs": [
    {
     "data": {
      "text/plain": [
       "[1, 2, 3]"
      ]
     },
     "execution_count": 4,
     "metadata": {},
     "output_type": "execute_result"
    }
   ],
   "source": [
    "l"
   ]
  },
  {
   "cell_type": "code",
   "execution_count": 5,
   "id": "4b3cc0b6",
   "metadata": {},
   "outputs": [
    {
     "data": {
      "text/plain": [
       "[1, 2]"
      ]
     },
     "execution_count": 5,
     "metadata": {},
     "output_type": "execute_result"
    }
   ],
   "source": [
    "lcopy"
   ]
  },
  {
   "cell_type": "markdown",
   "id": "1a0a938d",
   "metadata": {},
   "source": [
    "# Copy sequence using list comprehension"
   ]
  },
  {
   "cell_type": "code",
   "execution_count": 7,
   "id": "0bb06ea7",
   "metadata": {},
   "outputs": [],
   "source": [
    "lcopy = [item for item in l]"
   ]
  },
  {
   "cell_type": "code",
   "execution_count": 8,
   "id": "d3680ceb",
   "metadata": {},
   "outputs": [
    {
     "name": "stdout",
     "output_type": "stream",
     "text": [
      "2485711555264 [1, 2, 3]\n",
      "2485711221056 [1, 2, 3]\n"
     ]
    }
   ],
   "source": [
    "print(id(l), l)\n",
    "print(id(lcopy),lcopy)\n"
   ]
  },
  {
   "cell_type": "markdown",
   "id": "d3bc6cce",
   "metadata": {},
   "source": [
    "# Copying Sequences using Slice "
   ]
  },
  {
   "cell_type": "code",
   "execution_count": 21,
   "id": "30b77ff2",
   "metadata": {},
   "outputs": [],
   "source": [
    "l = [100,200,300,400]\n",
    "lcopy = l[:]\n",
    "\n"
   ]
  },
  {
   "cell_type": "code",
   "execution_count": 22,
   "id": "f20d3d20",
   "metadata": {},
   "outputs": [
    {
     "name": "stdout",
     "output_type": "stream",
     "text": [
      "2485711289536 [100, 200, 300, 400]\n",
      "2485711558912 [100, 200, 300, 400]\n"
     ]
    }
   ],
   "source": [
    "print(id(l), l)\n",
    "print(id(lcopy),lcopy)\n"
   ]
  },
  {
   "cell_type": "markdown",
   "id": "d6b96bf8",
   "metadata": {},
   "source": [
    "# Copying using list() constructor/ factory method / function "
   ]
  },
  {
   "cell_type": "code",
   "execution_count": 10,
   "id": "46d7097d",
   "metadata": {},
   "outputs": [],
   "source": [
    "l = [1,2,3,4]\n",
    "lcopy = list(l)"
   ]
  },
  {
   "cell_type": "code",
   "execution_count": 11,
   "id": "685e8cce",
   "metadata": {},
   "outputs": [
    {
     "name": "stdout",
     "output_type": "stream",
     "text": [
      "[1, 2, 3, 4] 2485711252992\n",
      "[1, 2, 3, 4] 2485711507264\n"
     ]
    }
   ],
   "source": [
    "print(l,id(l))\n",
    "print(lcopy,id(lcopy))"
   ]
  },
  {
   "cell_type": "markdown",
   "id": "0280bc70",
   "metadata": {},
   "source": [
    "# An example of shallow copy"
   ]
  },
  {
   "cell_type": "code",
   "execution_count": 12,
   "id": "abf78d94",
   "metadata": {},
   "outputs": [
    {
     "name": "stdout",
     "output_type": "stream",
     "text": [
      "2485711252864 [1, 2, 3, 4]\n",
      "2485711252864 [1, 2, 3, 4]\n"
     ]
    }
   ],
   "source": [
    "l = [1,2,3,4]\n",
    "lcopy = l \n",
    "print(id(l), l)\n",
    "print(id(lcopy),lcopy)\n"
   ]
  },
  {
   "cell_type": "code",
   "execution_count": 13,
   "id": "c5fea724",
   "metadata": {},
   "outputs": [],
   "source": [
    "lcopy.append('Rahul')"
   ]
  },
  {
   "cell_type": "code",
   "execution_count": 14,
   "id": "9d15be24",
   "metadata": {},
   "outputs": [
    {
     "data": {
      "text/plain": [
       "([1, 2, 3, 4, 'Rahul'], [1, 2, 3, 4, 'Rahul'])"
      ]
     },
     "execution_count": 14,
     "metadata": {},
     "output_type": "execute_result"
    }
   ],
   "source": [
    "l,lcopy"
   ]
  },
  {
   "cell_type": "code",
   "execution_count": 15,
   "id": "56b20dd7",
   "metadata": {},
   "outputs": [],
   "source": [
    "t1 = 1,2,3\n",
    "t2 = 1,2,3"
   ]
  },
  {
   "cell_type": "code",
   "execution_count": 16,
   "id": "6fa69854",
   "metadata": {},
   "outputs": [
    {
     "data": {
      "text/plain": [
       "(2485711301696, 2485711511872)"
      ]
     },
     "execution_count": 16,
     "metadata": {},
     "output_type": "execute_result"
    }
   ],
   "source": [
    "id(t1), id(t2)"
   ]
  },
  {
   "cell_type": "code",
   "execution_count": 17,
   "id": "a73936dd",
   "metadata": {},
   "outputs": [
    {
     "data": {
      "text/plain": [
       "True"
      ]
     },
     "execution_count": 17,
     "metadata": {},
     "output_type": "execute_result"
    }
   ],
   "source": [
    "t1==t2"
   ]
  },
  {
   "cell_type": "code",
   "execution_count": 18,
   "id": "3b9dc40a",
   "metadata": {},
   "outputs": [
    {
     "data": {
      "text/plain": [
       "False"
      ]
     },
     "execution_count": 18,
     "metadata": {},
     "output_type": "execute_result"
    }
   ],
   "source": [
    "id(t1)==id(t2)"
   ]
  },
  {
   "cell_type": "code",
   "execution_count": 19,
   "id": "6202f7d3",
   "metadata": {},
   "outputs": [
    {
     "data": {
      "text/plain": [
       "True"
      ]
     },
     "execution_count": 19,
     "metadata": {},
     "output_type": "execute_result"
    }
   ],
   "source": [
    "type(t1)==type(t2)"
   ]
  },
  {
   "cell_type": "code",
   "execution_count": 20,
   "id": "f8ffe815",
   "metadata": {},
   "outputs": [
    {
     "name": "stdout",
     "output_type": "stream",
     "text": [
      "(100, 200, 300) 2485711370432\n",
      "(100, 200, 300) 2485711370432\n"
     ]
    }
   ],
   "source": [
    "t = 100,200,300\n",
    "tcopy = t \n",
    "print(t,id(t))\n",
    "print(tcopy,id(tcopy))"
   ]
  },
  {
   "cell_type": "code",
   "execution_count": 23,
   "id": "b0090d8f",
   "metadata": {},
   "outputs": [
    {
     "name": "stdout",
     "output_type": "stream",
     "text": [
      "(100, 200, 300) 2485711514688\n",
      "(100, 200, 300) 2485711514688\n"
     ]
    }
   ],
   "source": [
    "t = 100,200,300\n",
    "tcopy = t[:]\n",
    "print(t,id(t))\n",
    "print(tcopy,id(tcopy))"
   ]
  },
  {
   "cell_type": "markdown",
   "id": "c757a692",
   "metadata": {},
   "source": [
    "`` Can a immutable sequence mutate ( change its state ) ? ``"
   ]
  },
  {
   "cell_type": "code",
   "execution_count": 24,
   "id": "1b7bcf44",
   "metadata": {},
   "outputs": [],
   "source": [
    "t = 100,200,300,'Shabeena','Immtutable'\n",
    "tcopy = tuple(t)\n"
   ]
  },
  {
   "cell_type": "code",
   "execution_count": 26,
   "id": "c41d5bf9",
   "metadata": {},
   "outputs": [
    {
     "data": {
      "text/plain": [
       "((100, 200, 300, 'Shabeena', 'Immtutable'), 2485711114464)"
      ]
     },
     "execution_count": 26,
     "metadata": {},
     "output_type": "execute_result"
    }
   ],
   "source": [
    "tcopy,id(tcopy)"
   ]
  },
  {
   "cell_type": "code",
   "execution_count": 27,
   "id": "c9fb61dd",
   "metadata": {},
   "outputs": [
    {
     "data": {
      "text/plain": [
       "((100, 200, 300, 'Shabeena', 'Immtutable'), 2485711114464)"
      ]
     },
     "execution_count": 27,
     "metadata": {},
     "output_type": "execute_result"
    }
   ],
   "source": [
    "t,id(t)"
   ]
  },
  {
   "cell_type": "code",
   "execution_count": 28,
   "id": "035f77f3",
   "metadata": {},
   "outputs": [
    {
     "data": {
      "text/plain": [
       "True"
      ]
     },
     "execution_count": 28,
     "metadata": {},
     "output_type": "execute_result"
    }
   ],
   "source": [
    "tcopy == t"
   ]
  },
  {
   "cell_type": "code",
   "execution_count": 29,
   "id": "9d1f1424",
   "metadata": {},
   "outputs": [
    {
     "data": {
      "text/plain": [
       "True"
      ]
     },
     "execution_count": 29,
     "metadata": {},
     "output_type": "execute_result"
    }
   ],
   "source": [
    "tcopy is t"
   ]
  },
  {
   "cell_type": "code",
   "execution_count": 30,
   "id": "4d72b5f0",
   "metadata": {},
   "outputs": [
    {
     "data": {
      "text/plain": [
       "True"
      ]
     },
     "execution_count": 30,
     "metadata": {},
     "output_type": "execute_result"
    }
   ],
   "source": [
    "id(tcopy)==id(t)"
   ]
  },
  {
   "cell_type": "markdown",
   "id": "9cc569cb",
   "metadata": {},
   "source": [
    "`` No copies are made of immutable types. It does not make sense, since it cannot mutate ``"
   ]
  },
  {
   "cell_type": "code",
   "execution_count": 31,
   "id": "11eeb1ec",
   "metadata": {},
   "outputs": [
    {
     "name": "stdout",
     "output_type": "stream",
     "text": [
      "Rahul 2485711492976\n",
      "Rahul 2485711492976\n"
     ]
    }
   ],
   "source": [
    "s = \"Rahul\"\n",
    "scopy = s\n",
    "print(s,id(s))\n",
    "print(scopy,id(scopy))"
   ]
  },
  {
   "cell_type": "code",
   "execution_count": 32,
   "id": "070c7dd4",
   "metadata": {},
   "outputs": [
    {
     "name": "stdout",
     "output_type": "stream",
     "text": [
      "Rahul 2485711492976\n",
      "Rahul 2485711492976\n"
     ]
    }
   ],
   "source": [
    "s = \"Rahul\"\n",
    "scopy = s[:]\n",
    "print(s,id(s))\n",
    "print(scopy,id(scopy))"
   ]
  },
  {
   "cell_type": "code",
   "execution_count": 33,
   "id": "fafda883",
   "metadata": {},
   "outputs": [
    {
     "data": {
      "text/plain": [
       "'1'"
      ]
     },
     "execution_count": 33,
     "metadata": {},
     "output_type": "execute_result"
    }
   ],
   "source": [
    "str(1)"
   ]
  },
  {
   "cell_type": "code",
   "execution_count": 34,
   "id": "631c7856",
   "metadata": {},
   "outputs": [
    {
     "data": {
      "text/plain": [
       "str"
      ]
     },
     "execution_count": 34,
     "metadata": {},
     "output_type": "execute_result"
    }
   ],
   "source": [
    "str"
   ]
  },
  {
   "cell_type": "code",
   "execution_count": 36,
   "id": "a3775d92",
   "metadata": {},
   "outputs": [
    {
     "name": "stdout",
     "output_type": "stream",
     "text": [
      "Rahul 2485711492976\n",
      "Rahul 2485711492976\n"
     ]
    }
   ],
   "source": [
    "s = \"Rahul\"\n",
    "scopy = str(s)\n",
    "print(s,id(s))\n",
    "print(scopy,id(scopy))"
   ]
  },
  {
   "cell_type": "code",
   "execution_count": 37,
   "id": "069e45b8",
   "metadata": {},
   "outputs": [
    {
     "name": "stdout",
     "output_type": "stream",
     "text": [
      "2485710647424\n",
      "2485711505792\n"
     ]
    }
   ],
   "source": [
    "friend_list = ['Me','you',\"him\",'her']\n",
    "copy_friend_list = friend_list[:]\n",
    "print(id(friend_list))\n",
    "print(id(copy_friend_list))\n"
   ]
  },
  {
   "cell_type": "code",
   "execution_count": 39,
   "id": "4db9678a",
   "metadata": {},
   "outputs": [
    {
     "data": {
      "text/plain": [
       "'her'"
      ]
     },
     "execution_count": 39,
     "metadata": {},
     "output_type": "execute_result"
    }
   ],
   "source": [
    "copy_friend_list.pop()"
   ]
  },
  {
   "cell_type": "code",
   "execution_count": 40,
   "id": "54a2edab",
   "metadata": {},
   "outputs": [
    {
     "data": {
      "text/plain": [
       "['Me', 'you', 'him']"
      ]
     },
     "execution_count": 40,
     "metadata": {},
     "output_type": "execute_result"
    }
   ],
   "source": [
    "copy_friend_list"
   ]
  },
  {
   "cell_type": "code",
   "execution_count": 41,
   "id": "57958b56",
   "metadata": {},
   "outputs": [
    {
     "data": {
      "text/plain": [
       "['Me', 'you', 'him', 'her']"
      ]
     },
     "execution_count": 41,
     "metadata": {},
     "output_type": "execute_result"
    }
   ],
   "source": [
    "friend_list"
   ]
  },
  {
   "cell_type": "code",
   "execution_count": 43,
   "id": "12499604",
   "metadata": {},
   "outputs": [],
   "source": [
    "new_copy = friend_list.copy()"
   ]
  },
  {
   "cell_type": "code",
   "execution_count": 45,
   "id": "7dddec9b",
   "metadata": {},
   "outputs": [
    {
     "data": {
      "text/plain": [
       "(['Me', 'you', 'him', 'her'], 2485711288512)"
      ]
     },
     "execution_count": 45,
     "metadata": {},
     "output_type": "execute_result"
    }
   ],
   "source": [
    "new_copy,id(new_copy)"
   ]
  },
  {
   "cell_type": "code",
   "execution_count": 46,
   "id": "4fb8df5a",
   "metadata": {},
   "outputs": [],
   "source": [
    "new_copy.append('Rao')"
   ]
  },
  {
   "cell_type": "code",
   "execution_count": 47,
   "id": "c9686102",
   "metadata": {},
   "outputs": [
    {
     "data": {
      "text/plain": [
       "['Me', 'you', 'him', 'her', 'Rao']"
      ]
     },
     "execution_count": 47,
     "metadata": {},
     "output_type": "execute_result"
    }
   ],
   "source": [
    "new_copy"
   ]
  },
  {
   "cell_type": "code",
   "execution_count": 48,
   "id": "c163c057",
   "metadata": {},
   "outputs": [
    {
     "data": {
      "text/plain": [
       "['Me', 'you', 'him', 'her']"
      ]
     },
     "execution_count": 48,
     "metadata": {},
     "output_type": "execute_result"
    }
   ],
   "source": [
    "friend_list"
   ]
  },
  {
   "cell_type": "code",
   "execution_count": 49,
   "id": "a371649a",
   "metadata": {},
   "outputs": [
    {
     "data": {
      "text/plain": [
       "['Me', 'you', 'him']"
      ]
     },
     "execution_count": 49,
     "metadata": {},
     "output_type": "execute_result"
    }
   ],
   "source": [
    "copy_friend_list"
   ]
  },
  {
   "cell_type": "code",
   "execution_count": 51,
   "id": "ce2be87b",
   "metadata": {},
   "outputs": [],
   "source": [
    "def my_friends(seq):\n",
    "    friend_copy = seq.copy()\n",
    "    print(id(seq))\n",
    "    print(id(friend_copy))\n",
    "    friend_copy.extend(['hyena','zebra'])\n",
    "    print('Original seq = {}'.format(seq))\n",
    "    print('Copied seq = {}'.format(friend_copy))\n"
   ]
  },
  {
   "cell_type": "code",
   "execution_count": 52,
   "id": "ae8d041c",
   "metadata": {},
   "outputs": [
    {
     "name": "stdout",
     "output_type": "stream",
     "text": [
      "2485711531904\n",
      "2485710545344\n",
      "Original seq = ['Me', 'you', 'him', 'her']\n",
      "Copied seq = ['Me', 'you', 'him', 'her', 'hyena', 'zebra']\n"
     ]
    }
   ],
   "source": [
    "friend_list = ['Me','you',\"him\",'her']\n",
    "\n",
    "my_friends(friend_list)"
   ]
  },
  {
   "cell_type": "code",
   "execution_count": 53,
   "id": "3289896d",
   "metadata": {},
   "outputs": [],
   "source": [
    "class CopySequence:\n",
    "    def __init__(self,sequence):\n",
    "        self.sequence = sequence \n",
    "    \n",
    "    def create_copy(self):\n",
    "        self.mycopy = list(self.sequence)\n",
    "        print('Done copying')\n",
    "        \n",
    "    def show(self):\n",
    "        print('Original sequence = {} id = {}'.format(self.sequence,id(self.sequence)))\n",
    "        print('Copied Sequence = {} id = {}'.format(self.mycopy,id(self.mycopy)))\n",
    "        \n"
   ]
  },
  {
   "cell_type": "code",
   "execution_count": 55,
   "id": "bf4a3680",
   "metadata": {},
   "outputs": [],
   "source": [
    "o1 = CopySequence([1,2,3])"
   ]
  },
  {
   "cell_type": "code",
   "execution_count": 56,
   "id": "524ec1f6",
   "metadata": {},
   "outputs": [
    {
     "data": {
      "text/plain": [
       "<__main__.CopySequence at 0x242bff00dc0>"
      ]
     },
     "execution_count": 56,
     "metadata": {},
     "output_type": "execute_result"
    }
   ],
   "source": [
    "o1"
   ]
  },
  {
   "cell_type": "code",
   "execution_count": 58,
   "id": "de3b63cf",
   "metadata": {},
   "outputs": [
    {
     "name": "stdout",
     "output_type": "stream",
     "text": [
      "Done copying\n"
     ]
    }
   ],
   "source": [
    "o1.create_copy()"
   ]
  },
  {
   "cell_type": "code",
   "execution_count": 59,
   "id": "174ab4af",
   "metadata": {},
   "outputs": [
    {
     "name": "stdout",
     "output_type": "stream",
     "text": [
      "Original sequence = [1, 2, 3] id = 2485712093824\n",
      "Copied Sequence = [1, 2, 3] id = 2485689467264\n"
     ]
    }
   ],
   "source": [
    "o1.show()"
   ]
  },
  {
   "cell_type": "markdown",
   "id": "297ae933",
   "metadata": {},
   "source": [
    "`` Aakash Implemenation ``"
   ]
  },
  {
   "cell_type": "code",
   "execution_count": 61,
   "id": "08c1a8e0",
   "metadata": {},
   "outputs": [],
   "source": [
    "class MyFriends:\n",
    "    \n",
    "    def __init__(self,seq):\n",
    "        self.seq=seq\n",
    "        print(id(self.seq))\n",
    "        self.pull_data()\n",
    "        \n",
    "    def pull_data(self):\n",
    "        print(self.seq)\n",
    "        self.seqcopy=list(self.seq)\n",
    "        print(f'These are my friends till now={self.seqcopy}')\n",
    "        print(f'I dont want {self.seqcopy[3]} anymore')\n",
    "        self.seqcopy.pop(3)\n",
    "        print(f'Lets ok with these {self.seqcopy}')\n",
    "        print(id(self.seqcopy))"
   ]
  },
  {
   "cell_type": "code",
   "execution_count": 64,
   "id": "533b4163",
   "metadata": {},
   "outputs": [
    {
     "name": "stdout",
     "output_type": "stream",
     "text": [
      "2485710518016\n",
      "['Aaksh', 'Rao', 'Saida', 'Dharma', 'Rafi', 'Shabeena', 'Sunayana', 'Divya', 'Saithili']\n",
      "These are my friends till now=['Aaksh', 'Rao', 'Saida', 'Dharma', 'Rafi', 'Shabeena', 'Sunayana', 'Divya', 'Saithili']\n",
      "I dont want Dharma anymore\n",
      "Lets ok with these ['Aaksh', 'Rao', 'Saida', 'Rafi', 'Shabeena', 'Sunayana', 'Divya', 'Saithili']\n",
      "2485711278528\n"
     ]
    }
   ],
   "source": [
    "friend_list = ['Aaksh','Rao','Saida','Dharma','Rafi','Shabeena','Sunayana','Divya','Saithili']\n",
    "friends = MyFriends(friend_list)"
   ]
  },
  {
   "cell_type": "code",
   "execution_count": 65,
   "id": "55914ff9",
   "metadata": {},
   "outputs": [],
   "source": [
    "l = [1,2,3,4]\n",
    "lcopy = l.copy()"
   ]
  },
  {
   "cell_type": "code",
   "execution_count": 66,
   "id": "77fc18e9",
   "metadata": {},
   "outputs": [
    {
     "data": {
      "text/plain": [
       "(2485712093376, 2485711255872)"
      ]
     },
     "execution_count": 66,
     "metadata": {},
     "output_type": "execute_result"
    }
   ],
   "source": [
    "id(l),id(lcopy)"
   ]
  },
  {
   "cell_type": "code",
   "execution_count": 67,
   "id": "f6c770db",
   "metadata": {},
   "outputs": [
    {
     "data": {
      "text/plain": [
       "(2485636655408, 2485636655408)"
      ]
     },
     "execution_count": 67,
     "metadata": {},
     "output_type": "execute_result"
    }
   ],
   "source": [
    "id(l[0]), id(lcopy[0])"
   ]
  },
  {
   "cell_type": "code",
   "execution_count": 68,
   "id": "a908548d",
   "metadata": {},
   "outputs": [
    {
     "data": {
      "text/plain": [
       "(2485636655504, 2485636655504)"
      ]
     },
     "execution_count": 68,
     "metadata": {},
     "output_type": "execute_result"
    }
   ],
   "source": [
    "id(l[-1]), id(lcopy[-1])"
   ]
  },
  {
   "cell_type": "code",
   "execution_count": 69,
   "id": "b44c8924",
   "metadata": {},
   "outputs": [],
   "source": [
    "l = [ [1,2,3] , [4,5,6] ]"
   ]
  },
  {
   "cell_type": "code",
   "execution_count": 70,
   "id": "a7c638cc",
   "metadata": {},
   "outputs": [
    {
     "data": {
      "text/plain": [
       "list"
      ]
     },
     "execution_count": 70,
     "metadata": {},
     "output_type": "execute_result"
    }
   ],
   "source": [
    "type(l)"
   ]
  },
  {
   "cell_type": "code",
   "execution_count": 73,
   "id": "9878f627",
   "metadata": {},
   "outputs": [
    {
     "data": {
      "text/plain": [
       "2"
      ]
     },
     "execution_count": 73,
     "metadata": {},
     "output_type": "execute_result"
    }
   ],
   "source": [
    "len(l)"
   ]
  },
  {
   "cell_type": "code",
   "execution_count": 74,
   "id": "b60d63a4",
   "metadata": {},
   "outputs": [],
   "source": [
    "lcopy = l[:]"
   ]
  },
  {
   "cell_type": "code",
   "execution_count": 75,
   "id": "d7f06c26",
   "metadata": {},
   "outputs": [
    {
     "data": {
      "text/plain": [
       "(2485712094784, 2485710671168)"
      ]
     },
     "execution_count": 75,
     "metadata": {},
     "output_type": "execute_result"
    }
   ],
   "source": [
    "id(l), id(lcopy)"
   ]
  },
  {
   "cell_type": "code",
   "execution_count": 76,
   "id": "b1a7f713",
   "metadata": {},
   "outputs": [
    {
     "data": {
      "text/plain": [
       "[[1, 2, 3], [4, 5, 6]]"
      ]
     },
     "execution_count": 76,
     "metadata": {},
     "output_type": "execute_result"
    }
   ],
   "source": [
    "lcopy"
   ]
  },
  {
   "cell_type": "code",
   "execution_count": 77,
   "id": "37b777a4",
   "metadata": {},
   "outputs": [
    {
     "data": {
      "text/plain": [
       "[[1, 2, 3], [4, 5, 6]]"
      ]
     },
     "execution_count": 77,
     "metadata": {},
     "output_type": "execute_result"
    }
   ],
   "source": [
    "l"
   ]
  },
  {
   "cell_type": "code",
   "execution_count": 78,
   "id": "0d93cd6c",
   "metadata": {},
   "outputs": [
    {
     "data": {
      "text/plain": [
       "(2485712095680, 2485712095680)"
      ]
     },
     "execution_count": 78,
     "metadata": {},
     "output_type": "execute_result"
    }
   ],
   "source": [
    "id(lcopy[0]), id(l[0])"
   ]
  },
  {
   "cell_type": "code",
   "execution_count": 79,
   "id": "7c306d49",
   "metadata": {},
   "outputs": [],
   "source": [
    "lcopy[0].append(100)"
   ]
  },
  {
   "cell_type": "code",
   "execution_count": 80,
   "id": "39e72ac6",
   "metadata": {},
   "outputs": [
    {
     "data": {
      "text/plain": [
       "[[1, 2, 3, 100], [4, 5, 6]]"
      ]
     },
     "execution_count": 80,
     "metadata": {},
     "output_type": "execute_result"
    }
   ],
   "source": [
    "lcopy"
   ]
  },
  {
   "cell_type": "code",
   "execution_count": 81,
   "id": "56773560",
   "metadata": {},
   "outputs": [
    {
     "data": {
      "text/plain": [
       "[[1, 2, 3, 100], [4, 5, 6]]"
      ]
     },
     "execution_count": 81,
     "metadata": {},
     "output_type": "execute_result"
    }
   ],
   "source": [
    "l"
   ]
  },
  {
   "cell_type": "code",
   "execution_count": 82,
   "id": "6b6b689c",
   "metadata": {},
   "outputs": [
    {
     "data": {
      "text/plain": [
       "(2485710671168, 2485712094784)"
      ]
     },
     "execution_count": 82,
     "metadata": {},
     "output_type": "execute_result"
    }
   ],
   "source": [
    "id(lcopy), id(l)\n"
   ]
  },
  {
   "cell_type": "code",
   "execution_count": 83,
   "id": "c46d2daa",
   "metadata": {},
   "outputs": [
    {
     "data": {
      "text/plain": [
       "1"
      ]
     },
     "execution_count": 83,
     "metadata": {},
     "output_type": "execute_result"
    }
   ],
   "source": [
    "lcopy[0][0]"
   ]
  },
  {
   "cell_type": "code",
   "execution_count": 84,
   "id": "e63ce462",
   "metadata": {},
   "outputs": [
    {
     "data": {
      "text/plain": [
       "2485636655408"
      ]
     },
     "execution_count": 84,
     "metadata": {},
     "output_type": "execute_result"
    }
   ],
   "source": [
    "id(lcopy[0][0])"
   ]
  },
  {
   "cell_type": "code",
   "execution_count": 85,
   "id": "598d6e8b",
   "metadata": {},
   "outputs": [
    {
     "data": {
      "text/plain": [
       "2485636655408"
      ]
     },
     "execution_count": 85,
     "metadata": {},
     "output_type": "execute_result"
    }
   ],
   "source": [
    "id(l[0][0])"
   ]
  },
  {
   "cell_type": "code",
   "execution_count": null,
   "id": "087e2c49",
   "metadata": {},
   "outputs": [],
   "source": []
  }
 ],
 "metadata": {
  "kernelspec": {
   "display_name": "Python 3",
   "language": "python",
   "name": "python3"
  },
  "language_info": {
   "codemirror_mode": {
    "name": "ipython",
    "version": 3
   },
   "file_extension": ".py",
   "mimetype": "text/x-python",
   "name": "python",
   "nbconvert_exporter": "python",
   "pygments_lexer": "ipython3",
   "version": "3.9.6"
  }
 },
 "nbformat": 4,
 "nbformat_minor": 5
}
