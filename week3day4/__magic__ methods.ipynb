{
 "cells": [
  {
   "cell_type": "code",
   "execution_count": 1,
   "id": "6fd46208",
   "metadata": {},
   "outputs": [],
   "source": [
    "class Simple:\n",
    "    name = 'Arrow'    \n",
    "    def __init__(self):\n",
    "        print('Object Initialized')\n",
    "    \n",
    "    def __del__(self):\n",
    "        print('Object Destroyed')\n",
    "        \n",
    "        \n",
    "        "
   ]
  },
  {
   "cell_type": "code",
   "execution_count": 2,
   "id": "ae483190",
   "metadata": {},
   "outputs": [
    {
     "name": "stdout",
     "output_type": "stream",
     "text": [
      "Object Initialized\n"
     ]
    }
   ],
   "source": [
    "s = Simple()"
   ]
  },
  {
   "cell_type": "code",
   "execution_count": 3,
   "id": "bbc81886",
   "metadata": {},
   "outputs": [],
   "source": [
    "class Dimple:\n",
    "    def __new__(self):\n",
    "        print('Object Created')\n",
    "        \n",
    "    def __init__(self):\n",
    "        print('object Initialized')\n",
    "        \n",
    "    def __del__(self):\n",
    "        print('Object Destroyed')\n",
    "        "
   ]
  },
  {
   "cell_type": "code",
   "execution_count": 4,
   "id": "132cbf75",
   "metadata": {},
   "outputs": [
    {
     "name": "stdout",
     "output_type": "stream",
     "text": [
      "Object Created\n"
     ]
    }
   ],
   "source": [
    "d = Dimple()"
   ]
  },
  {
   "cell_type": "code",
   "execution_count": 5,
   "id": "2fb16bc7",
   "metadata": {},
   "outputs": [],
   "source": [
    "class Animal:\n",
    "    \n",
    "    def __init__(self,name):\n",
    "        self.name = name \n",
    "        \n",
    "    def speak(self):\n",
    "        print('Hey {} why are you  barking ?'.format(self.name))\n",
    "        \n"
   ]
  },
  {
   "cell_type": "code",
   "execution_count": 6,
   "id": "ddd55c6a",
   "metadata": {},
   "outputs": [],
   "source": [
    "a = Animal('Arrow')"
   ]
  },
  {
   "cell_type": "code",
   "execution_count": 7,
   "id": "15f0e177",
   "metadata": {},
   "outputs": [
    {
     "data": {
      "text/plain": [
       "<__main__.Animal at 0x18ecabcd580>"
      ]
     },
     "execution_count": 7,
     "metadata": {},
     "output_type": "execute_result"
    }
   ],
   "source": [
    "a"
   ]
  },
  {
   "cell_type": "code",
   "execution_count": 8,
   "id": "37f0e261",
   "metadata": {},
   "outputs": [
    {
     "data": {
      "text/plain": [
       "__main__.Animal"
      ]
     },
     "execution_count": 8,
     "metadata": {},
     "output_type": "execute_result"
    }
   ],
   "source": [
    "Animal"
   ]
  },
  {
   "cell_type": "code",
   "execution_count": 13,
   "id": "3a053fb2",
   "metadata": {},
   "outputs": [],
   "source": [
    "class Animal:\n",
    "    \n",
    "    def __init__(self,name):\n",
    "        self.name = name \n",
    "        \n",
    "    def speak(self):\n",
    "        print('Hey {} why are you  barking ?'.format(self.name))\n",
    "        \n",
    "    def __repr__(self):\n",
    "        return f'Animal is barking'        "
   ]
  },
  {
   "cell_type": "code",
   "execution_count": 14,
   "id": "4c004b8e",
   "metadata": {},
   "outputs": [
    {
     "data": {
      "text/plain": [
       "__main__.Animal"
      ]
     },
     "execution_count": 14,
     "metadata": {},
     "output_type": "execute_result"
    }
   ],
   "source": [
    "Animal"
   ]
  },
  {
   "cell_type": "code",
   "execution_count": 15,
   "id": "9d91b393",
   "metadata": {},
   "outputs": [],
   "source": [
    "a = Animal('Bow')"
   ]
  },
  {
   "cell_type": "code",
   "execution_count": 16,
   "id": "6e5c04ad",
   "metadata": {},
   "outputs": [
    {
     "data": {
      "text/plain": [
       "Animal is barking"
      ]
     },
     "execution_count": 16,
     "metadata": {},
     "output_type": "execute_result"
    }
   ],
   "source": [
    "a"
   ]
  },
  {
   "cell_type": "code",
   "execution_count": null,
   "id": "a9aa647e",
   "metadata": {},
   "outputs": [],
   "source": []
  }
 ],
 "metadata": {
  "kernelspec": {
   "display_name": "Python 3",
   "language": "python",
   "name": "python3"
  },
  "language_info": {
   "codemirror_mode": {
    "name": "ipython",
    "version": 3
   },
   "file_extension": ".py",
   "mimetype": "text/x-python",
   "name": "python",
   "nbconvert_exporter": "python",
   "pygments_lexer": "ipython3",
   "version": "3.9.6"
  }
 },
 "nbformat": 4,
 "nbformat_minor": 5
}
