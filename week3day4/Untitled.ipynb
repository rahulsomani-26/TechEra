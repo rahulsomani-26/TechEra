{
 "cells": [
  {
   "cell_type": "code",
   "execution_count": 1,
   "id": "16b44cf9",
   "metadata": {},
   "outputs": [],
   "source": [
    "class MyList:\n",
    "    def __init__(self,a,b):\n",
    "        self.a = a\n",
    "        self.b = b \n",
    "        \n",
    "    def sum_me(self):\n",
    "        return sum(self.a) + sum(self.b)\n",
    "    "
   ]
  },
  {
   "cell_type": "code",
   "execution_count": 2,
   "id": "4dd80ba8",
   "metadata": {},
   "outputs": [],
   "source": [
    "l1 = [1,2,3,4]\n",
    "l2 = [10,20,30,40] \n",
    "m = MyList(l1,l2)"
   ]
  },
  {
   "cell_type": "code",
   "execution_count": 3,
   "id": "e44e7f2b",
   "metadata": {},
   "outputs": [
    {
     "data": {
      "text/plain": [
       "110"
      ]
     },
     "execution_count": 3,
     "metadata": {},
     "output_type": "execute_result"
    }
   ],
   "source": [
    "m.sum_me()"
   ]
  },
  {
   "cell_type": "code",
   "execution_count": 4,
   "id": "ba3683e4",
   "metadata": {},
   "outputs": [],
   "source": [
    "n = MyList([1,2,3,'a'],[1,2,3,4])"
   ]
  },
  {
   "cell_type": "code",
   "execution_count": 5,
   "id": "b3ed8b3d",
   "metadata": {},
   "outputs": [
    {
     "ename": "TypeError",
     "evalue": "unsupported operand type(s) for +: 'int' and 'str'",
     "output_type": "error",
     "traceback": [
      "\u001b[1;31m---------------------------------------------------------------------------\u001b[0m",
      "\u001b[1;31mTypeError\u001b[0m                                 Traceback (most recent call last)",
      "\u001b[1;32m<ipython-input-5-15f36aab244f>\u001b[0m in \u001b[0;36m<module>\u001b[1;34m\u001b[0m\n\u001b[1;32m----> 1\u001b[1;33m \u001b[0mn\u001b[0m\u001b[1;33m.\u001b[0m\u001b[0msum_me\u001b[0m\u001b[1;33m(\u001b[0m\u001b[1;33m)\u001b[0m\u001b[1;33m\u001b[0m\u001b[1;33m\u001b[0m\u001b[0m\n\u001b[0m",
      "\u001b[1;32m<ipython-input-1-57aea84ea7cc>\u001b[0m in \u001b[0;36msum_me\u001b[1;34m(self)\u001b[0m\n\u001b[0;32m      5\u001b[0m \u001b[1;33m\u001b[0m\u001b[0m\n\u001b[0;32m      6\u001b[0m     \u001b[1;32mdef\u001b[0m \u001b[0msum_me\u001b[0m\u001b[1;33m(\u001b[0m\u001b[0mself\u001b[0m\u001b[1;33m)\u001b[0m\u001b[1;33m:\u001b[0m\u001b[1;33m\u001b[0m\u001b[1;33m\u001b[0m\u001b[0m\n\u001b[1;32m----> 7\u001b[1;33m         \u001b[1;32mreturn\u001b[0m \u001b[0msum\u001b[0m\u001b[1;33m(\u001b[0m\u001b[0mself\u001b[0m\u001b[1;33m.\u001b[0m\u001b[0ma\u001b[0m\u001b[1;33m)\u001b[0m \u001b[1;33m+\u001b[0m \u001b[0msum\u001b[0m\u001b[1;33m(\u001b[0m\u001b[0mself\u001b[0m\u001b[1;33m.\u001b[0m\u001b[0mb\u001b[0m\u001b[1;33m)\u001b[0m\u001b[1;33m\u001b[0m\u001b[1;33m\u001b[0m\u001b[0m\n\u001b[0m\u001b[0;32m      8\u001b[0m \u001b[1;33m\u001b[0m\u001b[0m\n",
      "\u001b[1;31mTypeError\u001b[0m: unsupported operand type(s) for +: 'int' and 'str'"
     ]
    }
   ],
   "source": [
    "n.sum_me()"
   ]
  },
  {
   "cell_type": "markdown",
   "id": "bf6eaeb6",
   "metadata": {},
   "source": [
    "`` Create a class and initialize it with a filename ``\n",
    "\n",
    "`` Methods: ``\n",
    "\n",
    "`` write_to_file  --> write to file``\n",
    "\n",
    "``read_from_file ---> Read from file ``\n",
    "            \n",
    "\n",
    "\n"
   ]
  },
  {
   "cell_type": "code",
   "execution_count": 11,
   "id": "83818f67",
   "metadata": {},
   "outputs": [],
   "source": [
    "class FileOperation:\n",
    "    \n",
    "    def __init__(self,filename):\n",
    "        self.filename = open(filename,'w')\n",
    "    \n",
    "    def write_to_file(self,text):\n",
    "        self.filename.write(text)\n",
    "    \n",
    "    def read_from_file(self):\n",
    "        self.filename = open(filename,'r')\n",
    "        self.filename.readlines()\n",
    "    "
   ]
  },
  {
   "cell_type": "code",
   "execution_count": 7,
   "id": "669a397c",
   "metadata": {},
   "outputs": [],
   "source": [
    "class Power:\n",
    "\n",
    "    def __init__(self,num,exponent):\n",
    "        self.num=num\n",
    "        self.exponent=exponent\n",
    "       \n",
    "\n",
    "    def get_power(self):\n",
    "            result = self.num**self.exponent\n",
    "            return result"
   ]
  },
  {
   "cell_type": "code",
   "execution_count": 9,
   "id": "3d49a1b3",
   "metadata": {},
   "outputs": [],
   "source": [
    "p = Power(2,3)"
   ]
  },
  {
   "cell_type": "code",
   "execution_count": 10,
   "id": "c3e4453f",
   "metadata": {},
   "outputs": [
    {
     "data": {
      "text/plain": [
       "8"
      ]
     },
     "execution_count": 10,
     "metadata": {},
     "output_type": "execute_result"
    }
   ],
   "source": [
    "p.get_power()"
   ]
  },
  {
   "cell_type": "code",
   "execution_count": 25,
   "id": "48280253",
   "metadata": {},
   "outputs": [],
   "source": [
    "class FileOperation:\n",
    "    \n",
    "    def __init__(self,filename):\n",
    "        self.filename = filename\n",
    "        self.f = open(filename,'w')\n",
    "    \n",
    "    def write_to_file(self,text):\n",
    "        self.f.write(text)\n",
    "    \n",
    "    def read_from_file(self):\n",
    "        self.f = open(self.filename,'r')\n",
    "        print(self.f.readlines())\n",
    "    "
   ]
  },
  {
   "cell_type": "code",
   "execution_count": 26,
   "id": "76d1983a",
   "metadata": {},
   "outputs": [],
   "source": [
    "myfile = FileOperation('rahul.txt')"
   ]
  },
  {
   "cell_type": "code",
   "execution_count": 27,
   "id": "28240b57",
   "metadata": {},
   "outputs": [
    {
     "data": {
      "text/plain": [
       "(<__main__.FileOperation at 0x1ad7d74fd30>, __main__.FileOperation)"
      ]
     },
     "execution_count": 27,
     "metadata": {},
     "output_type": "execute_result"
    }
   ],
   "source": [
    "myfile,type(myfile)"
   ]
  },
  {
   "cell_type": "code",
   "execution_count": 28,
   "id": "d9bdad77",
   "metadata": {},
   "outputs": [],
   "source": [
    "myfile.write_to_file('Ujjwal Somani')"
   ]
  },
  {
   "cell_type": "code",
   "execution_count": 29,
   "id": "88bbcd1b",
   "metadata": {},
   "outputs": [
    {
     "name": "stdout",
     "output_type": "stream",
     "text": [
      "['Ujjwal Somani']\n"
     ]
    }
   ],
   "source": [
    "myfile.read_from_file()"
   ]
  },
  {
   "cell_type": "raw",
   "id": "cca4feb0",
   "metadata": {},
   "source": [
    "print(dir(FileOperation))"
   ]
  },
  {
   "cell_type": "code",
   "execution_count": 31,
   "id": "2ff79016",
   "metadata": {},
   "outputs": [
    {
     "name": "stdout",
     "output_type": "stream",
     "text": [
      "['__class__', '__delattr__', '__dict__', '__dir__', '__doc__', '__eq__', '__format__', '__ge__', '__getattribute__', '__gt__', '__hash__', '__init__', '__init_subclass__', '__le__', '__lt__', '__module__', '__ne__', '__new__', '__reduce__', '__reduce_ex__', '__repr__', '__setattr__', '__sizeof__', '__str__', '__subclasshook__', '__weakref__', 'f', 'filename', 'read_from_file', 'write_to_file']\n"
     ]
    }
   ],
   "source": [
    "print(dir(myfile))"
   ]
  },
  {
   "cell_type": "code",
   "execution_count": 32,
   "id": "409d4aba",
   "metadata": {},
   "outputs": [
    {
     "data": {
      "text/plain": [
       "False"
      ]
     },
     "execution_count": 32,
     "metadata": {},
     "output_type": "execute_result"
    }
   ],
   "source": [
    "'__del__' in dir(myfile)"
   ]
  },
  {
   "cell_type": "code",
   "execution_count": null,
   "id": "098f7b8a",
   "metadata": {},
   "outputs": [],
   "source": []
  }
 ],
 "metadata": {
  "kernelspec": {
   "display_name": "Python 3",
   "language": "python",
   "name": "python3"
  },
  "language_info": {
   "codemirror_mode": {
    "name": "ipython",
    "version": 3
   },
   "file_extension": ".py",
   "mimetype": "text/x-python",
   "name": "python",
   "nbconvert_exporter": "python",
   "pygments_lexer": "ipython3",
   "version": "3.9.6"
  }
 },
 "nbformat": 4,
 "nbformat_minor": 5
}
