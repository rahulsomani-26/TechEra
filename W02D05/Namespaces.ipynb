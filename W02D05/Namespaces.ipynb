{
 "cells": [
  {
   "cell_type": "markdown",
   "id": "9e1348f5",
   "metadata": {},
   "source": [
    "# Iteration \n",
    "`` It is way to iterate over a container ``\n",
    "`` Most commonly it is done by using for statement``"
   ]
  },
  {
   "cell_type": "markdown",
   "id": "3a321277",
   "metadata": {},
   "source": [
    "`` SYNTAX : \n",
    "    for var_name in iterable:\n",
    "        # do something \n",
    "    # do something outside of for ``"
   ]
  },
  {
   "cell_type": "code",
   "execution_count": 2,
   "id": "47d5888e",
   "metadata": {},
   "outputs": [
    {
     "name": "stdout",
     "output_type": "stream",
     "text": [
      "r\n",
      "a\n",
      "h\n",
      "u\n",
      "l\n"
     ]
    }
   ],
   "source": [
    "for i in \"rahul\":\n",
    "    print(i)"
   ]
  },
  {
   "cell_type": "code",
   "execution_count": 4,
   "id": "bc4825ed",
   "metadata": {},
   "outputs": [
    {
     "name": "stdout",
     "output_type": "stream",
     "text": [
      "0\n",
      "1\n",
      "2\n",
      "3\n",
      "4\n"
     ]
    }
   ],
   "source": [
    "for i in range(len(\"rahul\")):\n",
    "    print(i)\n",
    "    "
   ]
  },
  {
   "cell_type": "code",
   "execution_count": 5,
   "id": "78b7bd8c",
   "metadata": {},
   "outputs": [
    {
     "data": {
      "text/plain": [
       "5"
      ]
     },
     "execution_count": 5,
     "metadata": {},
     "output_type": "execute_result"
    }
   ],
   "source": [
    "len(\"rahul\")"
   ]
  },
  {
   "cell_type": "code",
   "execution_count": 6,
   "id": "30c5487e",
   "metadata": {},
   "outputs": [
    {
     "data": {
      "text/plain": [
       "range(0, 5)"
      ]
     },
     "execution_count": 6,
     "metadata": {},
     "output_type": "execute_result"
    }
   ],
   "source": [
    "range(len(\"rahul\"))"
   ]
  },
  {
   "cell_type": "code",
   "execution_count": 7,
   "id": "7e2f6222",
   "metadata": {},
   "outputs": [
    {
     "data": {
      "text/plain": [
       "[0, 1, 2, 3, 4]"
      ]
     },
     "execution_count": 7,
     "metadata": {},
     "output_type": "execute_result"
    }
   ],
   "source": [
    "list(range(len(\"rahul\")))"
   ]
  },
  {
   "cell_type": "code",
   "execution_count": 8,
   "id": "04f637b6",
   "metadata": {},
   "outputs": [
    {
     "ename": "TypeError",
     "evalue": "'int' object is not iterable",
     "output_type": "error",
     "traceback": [
      "\u001b[1;31m---------------------------------------------------------------------------\u001b[0m",
      "\u001b[1;31mTypeError\u001b[0m                                 Traceback (most recent call last)",
      "\u001b[1;32m<ipython-input-8-2ce37977c71e>\u001b[0m in \u001b[0;36m<module>\u001b[1;34m\u001b[0m\n\u001b[1;32m----> 1\u001b[1;33m \u001b[1;32mfor\u001b[0m \u001b[0mi\u001b[0m \u001b[1;32min\u001b[0m \u001b[1;36m5\u001b[0m\u001b[1;33m:\u001b[0m\u001b[1;33m\u001b[0m\u001b[1;33m\u001b[0m\u001b[0m\n\u001b[0m\u001b[0;32m      2\u001b[0m     \u001b[0mprint\u001b[0m\u001b[1;33m(\u001b[0m\u001b[0mi\u001b[0m\u001b[1;33m)\u001b[0m\u001b[1;33m\u001b[0m\u001b[1;33m\u001b[0m\u001b[0m\n",
      "\u001b[1;31mTypeError\u001b[0m: 'int' object is not iterable"
     ]
    }
   ],
   "source": [
    "for i in 5:\n",
    "    print(i)"
   ]
  },
  {
   "cell_type": "code",
   "execution_count": 10,
   "id": "cf696404",
   "metadata": {},
   "outputs": [
    {
     "ename": "TypeError",
     "evalue": "'float' object is not iterable",
     "output_type": "error",
     "traceback": [
      "\u001b[1;31m---------------------------------------------------------------------------\u001b[0m",
      "\u001b[1;31mTypeError\u001b[0m                                 Traceback (most recent call last)",
      "\u001b[1;32m<ipython-input-10-f6c2940f8e40>\u001b[0m in \u001b[0;36m<module>\u001b[1;34m\u001b[0m\n\u001b[1;32m----> 1\u001b[1;33m \u001b[1;32mfor\u001b[0m \u001b[0mi\u001b[0m \u001b[1;32min\u001b[0m \u001b[1;36m2.3\u001b[0m\u001b[1;33m:\u001b[0m\u001b[1;33m\u001b[0m\u001b[1;33m\u001b[0m\u001b[0m\n\u001b[0m\u001b[0;32m      2\u001b[0m     \u001b[0mprint\u001b[0m\u001b[1;33m(\u001b[0m\u001b[0mi\u001b[0m\u001b[1;33m)\u001b[0m\u001b[1;33m\u001b[0m\u001b[1;33m\u001b[0m\u001b[0m\n",
      "\u001b[1;31mTypeError\u001b[0m: 'float' object is not iterable"
     ]
    }
   ],
   "source": [
    "for i in 2.3:\n",
    "    print(i)"
   ]
  },
  {
   "cell_type": "code",
   "execution_count": 11,
   "id": "3dbb15d0",
   "metadata": {},
   "outputs": [
    {
     "name": "stdout",
     "output_type": "stream",
     "text": [
      "1\n",
      "2\n",
      "3\n",
      "4\n"
     ]
    }
   ],
   "source": [
    "for i in [1,2,3,4]:\n",
    "    print(i)"
   ]
  },
  {
   "cell_type": "code",
   "execution_count": 13,
   "id": "2f6c8bd9",
   "metadata": {},
   "outputs": [
    {
     "name": "stdout",
     "output_type": "stream",
     "text": [
      "1\n",
      "2\n",
      "3\n",
      "4\n",
      "a\n",
      "rahul\n",
      "deep\n",
      "20.3\n"
     ]
    }
   ],
   "source": [
    "for i in {1,2,3,4,'a','rahul','deep',20.3}:\n",
    "    print(i)"
   ]
  },
  {
   "cell_type": "code",
   "execution_count": 15,
   "id": "08c4c14b",
   "metadata": {},
   "outputs": [],
   "source": [
    "def my_func():\n",
    "    name = input(\"Enter your name : \")\n",
    "    for character in name:\n",
    "        print('Character = {}'.format(character))\n",
    "    else:\n",
    "        print('This prints when for finishes')\n",
    "    print('End of Program'.center(100,'='))"
   ]
  },
  {
   "cell_type": "code",
   "execution_count": 17,
   "id": "16667cda",
   "metadata": {},
   "outputs": [
    {
     "name": "stdout",
     "output_type": "stream",
     "text": [
      "Enter your name : chandra123\n",
      "Character = c\n",
      "Character = h\n",
      "Character = a\n",
      "Character = n\n",
      "Character = d\n",
      "Character = r\n",
      "Character = a\n",
      "Character = 1\n",
      "Character = 2\n",
      "Character = 3\n",
      "This prints when for finishes\n",
      "===========================================End of Program===========================================\n"
     ]
    }
   ],
   "source": [
    "my_func()"
   ]
  },
  {
   "cell_type": "code",
   "execution_count": 23,
   "id": "da37bc62",
   "metadata": {},
   "outputs": [],
   "source": [
    "def my_function_definition(name):\n",
    "#     name = \"Rafi\"\n",
    "    for i in name:\n",
    "        print(i,end='\\t')\n",
    "    else:\n",
    "        print('\\n End of the for statement')\n",
    "    print('end of program'.title)"
   ]
  },
  {
   "cell_type": "code",
   "execution_count": 24,
   "id": "d5513210",
   "metadata": {},
   "outputs": [
    {
     "name": "stdout",
     "output_type": "stream",
     "text": [
      "S\to\tm\ta\tn\ti\t\n",
      " End of the for statement\n",
      "<built-in method title of str object at 0x000001D911C6F6B0>\n"
     ]
    }
   ],
   "source": [
    "my_function_definition('Somani')"
   ]
  },
  {
   "cell_type": "markdown",
   "id": "b0c79d92",
   "metadata": {},
   "source": [
    "# Knowing something about Namespaces \n",
    "# Where does python stores variables, functions ( infact, all of it are objects)\n",
    "`` Python does it seamlessly for us``\n",
    "`` There are a couple of namespaces used for different purposes ``\n",
    "`` 1. Builtin namespace\n",
    "   2. Global namespace\n",
    "   3. Local Namespace\n",
    "   4. Nolocal Namespace `` "
   ]
  },
  {
   "cell_type": "code",
   "execution_count": 25,
   "id": "d3c0ab35",
   "metadata": {},
   "outputs": [],
   "source": [
    "name = 'rahul'.capitalize()   # Global variable\n",
    "def simple_func():\n",
    "    print(name)\n",
    "    "
   ]
  },
  {
   "cell_type": "code",
   "execution_count": 26,
   "id": "b36be1ab",
   "metadata": {},
   "outputs": [
    {
     "data": {
      "text/plain": [
       "'Rahul'"
      ]
     },
     "execution_count": 26,
     "metadata": {},
     "output_type": "execute_result"
    }
   ],
   "source": [
    "name"
   ]
  },
  {
   "cell_type": "code",
   "execution_count": 27,
   "id": "938fa4c3",
   "metadata": {},
   "outputs": [
    {
     "name": "stdout",
     "output_type": "stream",
     "text": [
      "Rahul\n"
     ]
    }
   ],
   "source": [
    "simple_func()"
   ]
  },
  {
   "cell_type": "code",
   "execution_count": 28,
   "id": "b28aa771",
   "metadata": {},
   "outputs": [],
   "source": [
    "n = 10\n",
    "def changed():\n",
    "    n = 20 \n",
    "    print(' The value of n = {}'.format(n))\n",
    "  "
   ]
  },
  {
   "cell_type": "code",
   "execution_count": 29,
   "id": "c76d342c",
   "metadata": {},
   "outputs": [
    {
     "data": {
      "text/plain": [
       "(10, 2031743167056)"
      ]
     },
     "execution_count": 29,
     "metadata": {},
     "output_type": "execute_result"
    }
   ],
   "source": [
    "n,id(n)"
   ]
  },
  {
   "cell_type": "code",
   "execution_count": 30,
   "id": "005944cf",
   "metadata": {},
   "outputs": [
    {
     "name": "stdout",
     "output_type": "stream",
     "text": [
      " The value of n = 20\n"
     ]
    }
   ],
   "source": [
    "changed()"
   ]
  },
  {
   "cell_type": "code",
   "execution_count": 31,
   "id": "7922c04f",
   "metadata": {},
   "outputs": [
    {
     "data": {
      "text/plain": [
       "10"
      ]
     },
     "execution_count": 31,
     "metadata": {},
     "output_type": "execute_result"
    }
   ],
   "source": [
    "n"
   ]
  },
  {
   "cell_type": "code",
   "execution_count": 32,
   "id": "bd47d870",
   "metadata": {},
   "outputs": [
    {
     "data": {
      "text/plain": [
       "<function globals()>"
      ]
     },
     "execution_count": 32,
     "metadata": {},
     "output_type": "execute_result"
    }
   ],
   "source": [
    "globals"
   ]
  },
  {
   "cell_type": "code",
   "execution_count": 33,
   "id": "637aab03",
   "metadata": {},
   "outputs": [
    {
     "name": "stdout",
     "output_type": "stream",
     "text": [
      "Help on built-in function globals in module builtins:\n",
      "\n",
      "globals()\n",
      "    Return the dictionary containing the current scope's global variables.\n",
      "    \n",
      "    NOTE: Updates to this dictionary *will* affect name lookups in the current\n",
      "    global scope and vice-versa.\n",
      "\n"
     ]
    }
   ],
   "source": [
    "help(globals)"
   ]
  },
  {
   "cell_type": "code",
   "execution_count": 34,
   "id": "5423615a",
   "metadata": {},
   "outputs": [
    {
     "data": {
      "text/plain": [
       "{'__name__': '__main__',\n",
       " '__doc__': 'Automatically created module for IPython interactive environment',\n",
       " '__package__': None,\n",
       " '__loader__': None,\n",
       " '__spec__': None,\n",
       " '__builtin__': <module 'builtins' (built-in)>,\n",
       " '__builtins__': <module 'builtins' (built-in)>,\n",
       " '_ih': ['',\n",
       "  'for i in \"rahul\":',\n",
       "  'for i in \"rahul\":\\n    print(i)',\n",
       "  'for i in range(len(\"rahul\")):\\n    ',\n",
       "  'for i in range(len(\"rahul\")):\\n    print(i)\\n    ',\n",
       "  'len(\"rahul\")',\n",
       "  'range(len(\"rahul\"))',\n",
       "  'list(range(len(\"rahul\")))',\n",
       "  'for i in 5:\\n    print(i)',\n",
       "  'for i in 2.3:\\n    print(I)',\n",
       "  'for i in 2.3:\\n    print(i)',\n",
       "  'for i in [1,2,3,4]:\\n    print(i)',\n",
       "  'for i in {1,2,3,4}:\\n    print(i)',\n",
       "  \"for i in {1,2,3,4,'a','rahul','deep',20.3}:\\n    print(i)\",\n",
       "  'name = input(\"Enter your name : \")\\nfor character in name:\\n    print(\\'Character = {}\\'.format(character))\\nelse:\\n    print(\\'This prints when for finishes\\')\\nprint(\\'End of Program\\'.center(100,\\'=\\'))',\n",
       "  'def my_func():\\n    name = input(\"Enter your name : \")\\n    for character in name:\\n        print(\\'Character = {}\\'.format(character))\\n    else:\\n        print(\\'This prints when for finishes\\')\\n    print(\\'End of Program\\'.center(100,\\'=\\'))',\n",
       "  'my_func',\n",
       "  'my_func()',\n",
       "  'def my_function_definition(name):\\n    name = \"Rafi\"\\n    for i in name:\\n        print(name,end=\\'\\\\t\\')\\n    else:\\n        print(\\'\\\\n End of the for statement\\')\\n    print(\\'end of program\\'.title)',\n",
       "  'my_function_definition()',\n",
       "  \"my_function_definition('Somani')\",\n",
       "  'def my_function_definition(name):\\n    name = \"Rafi\"\\n    for i in name:\\n        print(i,end=\\'\\\\t\\')\\n    else:\\n        print(\\'\\\\n End of the for statement\\')\\n    print(\\'end of program\\'.title)',\n",
       "  \"my_function_definition('Somani')\",\n",
       "  'def my_function_definition(name):\\n#     name = \"Rafi\"\\n    for i in name:\\n        print(i,end=\\'\\\\t\\')\\n    else:\\n        print(\\'\\\\n End of the for statement\\')\\n    print(\\'end of program\\'.title)',\n",
       "  \"my_function_definition('Somani')\",\n",
       "  \"name = 'rahul'.capitalize()\\ndef simple_func():\\n    print(name)\\n\\n    \",\n",
       "  'name',\n",
       "  'simple_func()',\n",
       "  \"n = 10\\ndef changed():\\n    n = 20 \\n    print(' The value of n = {}'.format(n))\\n\\n    \",\n",
       "  'n,id(n)',\n",
       "  'changed()',\n",
       "  'n',\n",
       "  'globals',\n",
       "  'help(globals)',\n",
       "  'globals()'],\n",
       " '_oh': {5: 5,\n",
       "  6: range(0, 5),\n",
       "  7: [0, 1, 2, 3, 4],\n",
       "  16: <function __main__.my_func()>,\n",
       "  26: 'Rahul',\n",
       "  29: (10, 2031743167056),\n",
       "  31: 10,\n",
       "  32: <function globals()>},\n",
       " '_dh': ['C:\\\\Users\\\\soman\\\\TE_BATCH2_PYTHON\\\\W02D05'],\n",
       " 'In': ['',\n",
       "  'for i in \"rahul\":',\n",
       "  'for i in \"rahul\":\\n    print(i)',\n",
       "  'for i in range(len(\"rahul\")):\\n    ',\n",
       "  'for i in range(len(\"rahul\")):\\n    print(i)\\n    ',\n",
       "  'len(\"rahul\")',\n",
       "  'range(len(\"rahul\"))',\n",
       "  'list(range(len(\"rahul\")))',\n",
       "  'for i in 5:\\n    print(i)',\n",
       "  'for i in 2.3:\\n    print(I)',\n",
       "  'for i in 2.3:\\n    print(i)',\n",
       "  'for i in [1,2,3,4]:\\n    print(i)',\n",
       "  'for i in {1,2,3,4}:\\n    print(i)',\n",
       "  \"for i in {1,2,3,4,'a','rahul','deep',20.3}:\\n    print(i)\",\n",
       "  'name = input(\"Enter your name : \")\\nfor character in name:\\n    print(\\'Character = {}\\'.format(character))\\nelse:\\n    print(\\'This prints when for finishes\\')\\nprint(\\'End of Program\\'.center(100,\\'=\\'))',\n",
       "  'def my_func():\\n    name = input(\"Enter your name : \")\\n    for character in name:\\n        print(\\'Character = {}\\'.format(character))\\n    else:\\n        print(\\'This prints when for finishes\\')\\n    print(\\'End of Program\\'.center(100,\\'=\\'))',\n",
       "  'my_func',\n",
       "  'my_func()',\n",
       "  'def my_function_definition(name):\\n    name = \"Rafi\"\\n    for i in name:\\n        print(name,end=\\'\\\\t\\')\\n    else:\\n        print(\\'\\\\n End of the for statement\\')\\n    print(\\'end of program\\'.title)',\n",
       "  'my_function_definition()',\n",
       "  \"my_function_definition('Somani')\",\n",
       "  'def my_function_definition(name):\\n    name = \"Rafi\"\\n    for i in name:\\n        print(i,end=\\'\\\\t\\')\\n    else:\\n        print(\\'\\\\n End of the for statement\\')\\n    print(\\'end of program\\'.title)',\n",
       "  \"my_function_definition('Somani')\",\n",
       "  'def my_function_definition(name):\\n#     name = \"Rafi\"\\n    for i in name:\\n        print(i,end=\\'\\\\t\\')\\n    else:\\n        print(\\'\\\\n End of the for statement\\')\\n    print(\\'end of program\\'.title)',\n",
       "  \"my_function_definition('Somani')\",\n",
       "  \"name = 'rahul'.capitalize()\\ndef simple_func():\\n    print(name)\\n\\n    \",\n",
       "  'name',\n",
       "  'simple_func()',\n",
       "  \"n = 10\\ndef changed():\\n    n = 20 \\n    print(' The value of n = {}'.format(n))\\n\\n    \",\n",
       "  'n,id(n)',\n",
       "  'changed()',\n",
       "  'n',\n",
       "  'globals',\n",
       "  'help(globals)',\n",
       "  'globals()'],\n",
       " 'Out': {5: 5,\n",
       "  6: range(0, 5),\n",
       "  7: [0, 1, 2, 3, 4],\n",
       "  16: <function __main__.my_func()>,\n",
       "  26: 'Rahul',\n",
       "  29: (10, 2031743167056),\n",
       "  31: 10,\n",
       "  32: <function globals()>},\n",
       " 'get_ipython': <bound method InteractiveShell.get_ipython of <ipykernel.zmqshell.ZMQInteractiveShell object at 0x000001D911AFE670>>,\n",
       " 'exit': <IPython.core.autocall.ZMQExitAutocall at 0x1d911afe8b0>,\n",
       " 'quit': <IPython.core.autocall.ZMQExitAutocall at 0x1d911afe8b0>,\n",
       " '_': <function globals()>,\n",
       " '__': 10,\n",
       " '___': (10, 2031743167056),\n",
       " '_i': 'help(globals)',\n",
       " '_ii': 'globals',\n",
       " '_iii': 'n',\n",
       " '_i1': 'for i in \"rahul\":',\n",
       " '_i2': 'for i in \"rahul\":\\n    print(i)',\n",
       " 'i': 20.3,\n",
       " '_i3': 'for i in range(len(\"rahul\")):\\n    ',\n",
       " '_i4': 'for i in range(len(\"rahul\")):\\n    print(i)\\n    ',\n",
       " '_i5': 'len(\"rahul\")',\n",
       " '_5': 5,\n",
       " '_i6': 'range(len(\"rahul\"))',\n",
       " '_6': range(0, 5),\n",
       " '_i7': 'list(range(len(\"rahul\")))',\n",
       " '_7': [0, 1, 2, 3, 4],\n",
       " '_i8': 'for i in 5:\\n    print(i)',\n",
       " '_i9': 'for i in 2.3:\\n    print(I)',\n",
       " '_i10': 'for i in 2.3:\\n    print(i)',\n",
       " '_i11': 'for i in [1,2,3,4]:\\n    print(i)',\n",
       " '_i12': 'for i in {1,2,3,4}:\\n    print(i)',\n",
       " '_i13': \"for i in {1,2,3,4,'a','rahul','deep',20.3}:\\n    print(i)\",\n",
       " '_i14': 'name = input(\"Enter your name : \")\\nfor character in name:\\n    print(\\'Character = {}\\'.format(character))\\nelse:\\n    print(\\'This prints when for finishes\\')\\nprint(\\'End of Program\\'.center(100,\\'=\\'))',\n",
       " 'name': 'Rahul',\n",
       " 'character': 'a',\n",
       " '_i15': 'def my_func():\\n    name = input(\"Enter your name : \")\\n    for character in name:\\n        print(\\'Character = {}\\'.format(character))\\n    else:\\n        print(\\'This prints when for finishes\\')\\n    print(\\'End of Program\\'.center(100,\\'=\\'))',\n",
       " 'my_func': <function __main__.my_func()>,\n",
       " '_i16': 'my_func',\n",
       " '_16': <function __main__.my_func()>,\n",
       " '_i17': 'my_func()',\n",
       " '_i18': 'def my_function_definition(name):\\n    name = \"Rafi\"\\n    for i in name:\\n        print(name,end=\\'\\\\t\\')\\n    else:\\n        print(\\'\\\\n End of the for statement\\')\\n    print(\\'end of program\\'.title)',\n",
       " 'my_function_definition': <function __main__.my_function_definition(name)>,\n",
       " '_i19': 'my_function_definition()',\n",
       " '_i20': \"my_function_definition('Somani')\",\n",
       " '_i21': 'def my_function_definition(name):\\n    name = \"Rafi\"\\n    for i in name:\\n        print(i,end=\\'\\\\t\\')\\n    else:\\n        print(\\'\\\\n End of the for statement\\')\\n    print(\\'end of program\\'.title)',\n",
       " '_i22': \"my_function_definition('Somani')\",\n",
       " '_i23': 'def my_function_definition(name):\\n#     name = \"Rafi\"\\n    for i in name:\\n        print(i,end=\\'\\\\t\\')\\n    else:\\n        print(\\'\\\\n End of the for statement\\')\\n    print(\\'end of program\\'.title)',\n",
       " '_i24': \"my_function_definition('Somani')\",\n",
       " '_i25': \"name = 'rahul'.capitalize()\\ndef simple_func():\\n    print(name)\\n\\n    \",\n",
       " 'simple_func': <function __main__.simple_func()>,\n",
       " '_i26': 'name',\n",
       " '_26': 'Rahul',\n",
       " '_i27': 'simple_func()',\n",
       " '_i28': \"n = 10\\ndef changed():\\n    n = 20 \\n    print(' The value of n = {}'.format(n))\\n\\n    \",\n",
       " 'n': 10,\n",
       " 'changed': <function __main__.changed()>,\n",
       " '_i29': 'n,id(n)',\n",
       " '_29': (10, 2031743167056),\n",
       " '_i30': 'changed()',\n",
       " '_i31': 'n',\n",
       " '_31': 10,\n",
       " '_i32': 'globals',\n",
       " '_32': <function globals()>,\n",
       " '_i33': 'help(globals)',\n",
       " '_i34': 'globals()'}"
      ]
     },
     "execution_count": 34,
     "metadata": {},
     "output_type": "execute_result"
    }
   ],
   "source": [
    "globals()"
   ]
  },
  {
   "cell_type": "code",
   "execution_count": 35,
   "id": "a299fd6d",
   "metadata": {},
   "outputs": [],
   "source": [
    "d = globals()"
   ]
  },
  {
   "cell_type": "code",
   "execution_count": 36,
   "id": "b56b5bd4",
   "metadata": {},
   "outputs": [
    {
     "data": {
      "text/plain": [
       "dict"
      ]
     },
     "execution_count": 36,
     "metadata": {},
     "output_type": "execute_result"
    }
   ],
   "source": [
    "type(d)"
   ]
  },
  {
   "cell_type": "code",
   "execution_count": 37,
   "id": "d38143c0",
   "metadata": {},
   "outputs": [
    {
     "data": {
      "text/plain": [
       "'name'"
      ]
     },
     "execution_count": 37,
     "metadata": {},
     "output_type": "execute_result"
    }
   ],
   "source": [
    "d['_i26']"
   ]
  },
  {
   "cell_type": "code",
   "execution_count": 38,
   "id": "14619b46",
   "metadata": {},
   "outputs": [
    {
     "data": {
      "text/plain": [
       "'simple_func()'"
      ]
     },
     "execution_count": 38,
     "metadata": {},
     "output_type": "execute_result"
    }
   ],
   "source": [
    "d['_i27']"
   ]
  },
  {
   "cell_type": "code",
   "execution_count": 39,
   "id": "3a023e6b",
   "metadata": {},
   "outputs": [],
   "source": [
    "# No Change in the global variable \n",
    "n=10\n",
    "def counter():\n",
    "    n = 20 \n",
    "    print(n)\n",
    "    "
   ]
  },
  {
   "cell_type": "code",
   "execution_count": 40,
   "id": "7b320d7f",
   "metadata": {},
   "outputs": [
    {
     "data": {
      "text/plain": [
       "10"
      ]
     },
     "execution_count": 40,
     "metadata": {},
     "output_type": "execute_result"
    }
   ],
   "source": [
    "n"
   ]
  },
  {
   "cell_type": "code",
   "execution_count": 41,
   "id": "6a3f3eed",
   "metadata": {},
   "outputs": [
    {
     "name": "stdout",
     "output_type": "stream",
     "text": [
      "20\n"
     ]
    }
   ],
   "source": [
    "counter()"
   ]
  },
  {
   "cell_type": "code",
   "execution_count": 42,
   "id": "43895734",
   "metadata": {},
   "outputs": [
    {
     "data": {
      "text/plain": [
       "10"
      ]
     },
     "execution_count": 42,
     "metadata": {},
     "output_type": "execute_result"
    }
   ],
   "source": [
    "n"
   ]
  },
  {
   "cell_type": "code",
   "execution_count": 43,
   "id": "a13a118e",
   "metadata": {},
   "outputs": [],
   "source": [
    "# Change the global variable \n",
    "n=10\n",
    "def counter():\n",
    "    global n\n",
    "    n = 20 \n",
    "    print(n)\n",
    "    "
   ]
  },
  {
   "cell_type": "code",
   "execution_count": 44,
   "id": "b9923913",
   "metadata": {},
   "outputs": [
    {
     "data": {
      "text/plain": [
       "10"
      ]
     },
     "execution_count": 44,
     "metadata": {},
     "output_type": "execute_result"
    }
   ],
   "source": [
    "n"
   ]
  },
  {
   "cell_type": "code",
   "execution_count": 45,
   "id": "bdf5bbac",
   "metadata": {},
   "outputs": [
    {
     "name": "stdout",
     "output_type": "stream",
     "text": [
      "20\n"
     ]
    }
   ],
   "source": [
    "counter()"
   ]
  },
  {
   "cell_type": "code",
   "execution_count": 46,
   "id": "86162af3",
   "metadata": {},
   "outputs": [
    {
     "data": {
      "text/plain": [
       "20"
      ]
     },
     "execution_count": 46,
     "metadata": {},
     "output_type": "execute_result"
    }
   ],
   "source": [
    "n \n"
   ]
  },
  {
   "cell_type": "code",
   "execution_count": 47,
   "id": "c059829f",
   "metadata": {},
   "outputs": [],
   "source": [
    "# Some more "
   ]
  },
  {
   "cell_type": "code",
   "execution_count": 49,
   "id": "e45fbb9a",
   "metadata": {},
   "outputs": [],
   "source": [
    "m = 10 \n",
    "def outer():\n",
    "    y = 300\n",
    "    def inner():\n",
    "        print(m,y)\n",
    "        print('Within the inner function')\n",
    "    return inner \n"
   ]
  },
  {
   "cell_type": "code",
   "execution_count": 50,
   "id": "4cc49d9a",
   "metadata": {},
   "outputs": [
    {
     "data": {
      "text/plain": [
       "10"
      ]
     },
     "execution_count": 50,
     "metadata": {},
     "output_type": "execute_result"
    }
   ],
   "source": [
    "m"
   ]
  },
  {
   "cell_type": "code",
   "execution_count": 51,
   "id": "586c4c74",
   "metadata": {},
   "outputs": [
    {
     "data": {
      "text/plain": [
       "<function __main__.outer.<locals>.inner()>"
      ]
     },
     "execution_count": 51,
     "metadata": {},
     "output_type": "execute_result"
    }
   ],
   "source": [
    "outer()"
   ]
  },
  {
   "cell_type": "code",
   "execution_count": 52,
   "id": "66575730",
   "metadata": {},
   "outputs": [],
   "source": [
    "some_func = outer()"
   ]
  },
  {
   "cell_type": "code",
   "execution_count": 53,
   "id": "dd2b0f45",
   "metadata": {},
   "outputs": [
    {
     "data": {
      "text/plain": [
       "<function __main__.outer.<locals>.inner()>"
      ]
     },
     "execution_count": 53,
     "metadata": {},
     "output_type": "execute_result"
    }
   ],
   "source": [
    "some_func"
   ]
  },
  {
   "cell_type": "code",
   "execution_count": 54,
   "id": "35b392e2",
   "metadata": {},
   "outputs": [
    {
     "name": "stdout",
     "output_type": "stream",
     "text": [
      "10 300\n",
      "Within the inner function\n"
     ]
    }
   ],
   "source": [
    "some_func()"
   ]
  },
  {
   "cell_type": "code",
   "execution_count": 58,
   "id": "9d30eeda",
   "metadata": {},
   "outputs": [],
   "source": [
    "name = 'Akash'\n",
    "def test_one():\n",
    "    age = 25    \n",
    "    def test_two():\n",
    "        global name\n",
    "        print(' Name = {} and age = {}'.format(name,age))\n",
    "        print('-'*100)\n",
    "        print('Attempting to change the global variable')\n",
    "        name = 'Shah Rukh Khan'\n",
    "        print('Name changed to = {}'.format(name))\n",
    "    test_two()\n",
    "        \n",
    "        \n",
    "    "
   ]
  },
  {
   "cell_type": "code",
   "execution_count": 59,
   "id": "84173e8e",
   "metadata": {},
   "outputs": [
    {
     "data": {
      "text/plain": [
       "'Akash'"
      ]
     },
     "execution_count": 59,
     "metadata": {},
     "output_type": "execute_result"
    }
   ],
   "source": [
    "name"
   ]
  },
  {
   "cell_type": "code",
   "execution_count": 60,
   "id": "705db56e",
   "metadata": {},
   "outputs": [
    {
     "ename": "NameError",
     "evalue": "name 'test_two' is not defined",
     "output_type": "error",
     "traceback": [
      "\u001b[1;31m---------------------------------------------------------------------------\u001b[0m",
      "\u001b[1;31mNameError\u001b[0m                                 Traceback (most recent call last)",
      "\u001b[1;32m<ipython-input-60-5586cce41c20>\u001b[0m in \u001b[0;36m<module>\u001b[1;34m\u001b[0m\n\u001b[1;32m----> 1\u001b[1;33m \u001b[0mtest_two\u001b[0m\u001b[1;33m(\u001b[0m\u001b[1;33m)\u001b[0m\u001b[1;33m\u001b[0m\u001b[1;33m\u001b[0m\u001b[0m\n\u001b[0m",
      "\u001b[1;31mNameError\u001b[0m: name 'test_two' is not defined"
     ]
    }
   ],
   "source": [
    "test_two()"
   ]
  },
  {
   "cell_type": "code",
   "execution_count": 61,
   "id": "688891ee",
   "metadata": {},
   "outputs": [
    {
     "name": "stdout",
     "output_type": "stream",
     "text": [
      " Name = Akash and age = 25\n",
      "----------------------------------------------------------------------------------------------------\n",
      "Attempting to change the global variable\n",
      "Name changed to = Shah Rukh Khan\n"
     ]
    }
   ],
   "source": [
    "test_one()"
   ]
  },
  {
   "cell_type": "code",
   "execution_count": 62,
   "id": "63ecb500",
   "metadata": {},
   "outputs": [
    {
     "data": {
      "text/plain": [
       "'Shah Rukh Khan'"
      ]
     },
     "execution_count": 62,
     "metadata": {},
     "output_type": "execute_result"
    }
   ],
   "source": [
    "name"
   ]
  },
  {
   "cell_type": "code",
   "execution_count": 69,
   "id": "85471402",
   "metadata": {},
   "outputs": [],
   "source": [
    "# Try to change the local variable age to 50 \n",
    "\n",
    "name = 'Akash'\n",
    "profession = 's/w'\n",
    "\n",
    "def test_one():\n",
    "    age = 25  \n",
    "    \n",
    "    def test_two():\n",
    "        global professsion\n",
    "        global name\n",
    "        nonlocal age \n",
    "        print(' Name = {} and age = {}'.format(name,age))\n",
    "        print('-'*100)\n",
    "        print('Attempting to change the global variable')\n",
    "        name = 'Shah Rukh Khan'\n",
    "        print('Name changed to = {}'.format(name))\n",
    "        \n",
    "        print('-'*100)\n",
    "        print('Attempting to change the Nonlocal variable')\n",
    "        age = 50\n",
    "        print('Age is now  = {}'.format(age))\n",
    "        profession = 'Doctor'\n",
    "        \n",
    "    test_two()\n",
    "    print(age==50)\n",
    "    print(profession)    \n",
    "        "
   ]
  },
  {
   "cell_type": "code",
   "execution_count": 70,
   "id": "ecf259f7",
   "metadata": {},
   "outputs": [
    {
     "name": "stdout",
     "output_type": "stream",
     "text": [
      " Name = Akash and age = 25\n",
      "----------------------------------------------------------------------------------------------------\n",
      "Attempting to change the global variable\n",
      "Name changed to = Shah Rukh Khan\n",
      "----------------------------------------------------------------------------------------------------\n",
      "Attempting to change the Nonlocal variable\n",
      "Age is now  = 50\n",
      "True\n",
      "s/w\n"
     ]
    }
   ],
   "source": [
    "test_one()"
   ]
  },
  {
   "cell_type": "code",
   "execution_count": 67,
   "id": "0abe1fb3",
   "metadata": {},
   "outputs": [
    {
     "data": {
      "text/plain": [
       "<function print>"
      ]
     },
     "execution_count": 67,
     "metadata": {},
     "output_type": "execute_result"
    }
   ],
   "source": [
    "print"
   ]
  },
  {
   "cell_type": "code",
   "execution_count": 68,
   "id": "5f6452da",
   "metadata": {},
   "outputs": [
    {
     "name": "stdout",
     "output_type": "stream",
     "text": [
      "Help on built-in function print in module builtins:\n",
      "\n",
      "print(...)\n",
      "    print(value, ..., sep=' ', end='\\n', file=sys.stdout, flush=False)\n",
      "    \n",
      "    Prints the values to a stream, or to sys.stdout by default.\n",
      "    Optional keyword arguments:\n",
      "    file:  a file-like object (stream); defaults to the current sys.stdout.\n",
      "    sep:   string inserted between values, default a space.\n",
      "    end:   string appended after the last value, default a newline.\n",
      "    flush: whether to forcibly flush the stream.\n",
      "\n"
     ]
    }
   ],
   "source": [
    "help(print)"
   ]
  },
  {
   "cell_type": "code",
   "execution_count": 71,
   "id": "05267831",
   "metadata": {},
   "outputs": [],
   "source": [
    "# Try to change the local variable age to 50 \n",
    "name = 'Akash'\n",
    "profession = 's/w'\n",
    "def test_one():\n",
    "    age = 25  \n",
    "    def test_two():\n",
    "        global profession\n",
    "        global name\n",
    "        nonlocal age \n",
    "        print(' Name = {} and age = {}'.format(name,age))\n",
    "        print('-'*100)\n",
    "        print('Attempting to change the global variable')\n",
    "        name = 'Shah Rukh Khan'\n",
    "        print('Name changed to = {}'.format(name))\n",
    "        \n",
    "        print('-'*100)\n",
    "        print('Attempting to change the Nonlocal variable')\n",
    "        age = 50\n",
    "        print('Age is now  = {}'.format(age))\n",
    "        profession = 'Doctor'\n",
    "        \n",
    "    test_two()\n",
    "    print(age==50)\n",
    "    print(profession)    \n",
    "        "
   ]
  },
  {
   "cell_type": "code",
   "execution_count": 72,
   "id": "2bc0ee9a",
   "metadata": {},
   "outputs": [
    {
     "name": "stdout",
     "output_type": "stream",
     "text": [
      " Name = Akash and age = 25\n",
      "----------------------------------------------------------------------------------------------------\n",
      "Attempting to change the global variable\n",
      "Name changed to = Shah Rukh Khan\n",
      "----------------------------------------------------------------------------------------------------\n",
      "Attempting to change the Nonlocal variable\n",
      "Age is now  = 50\n",
      "True\n",
      "Doctor\n"
     ]
    }
   ],
   "source": [
    "test_one()"
   ]
  },
  {
   "cell_type": "code",
   "execution_count": 83,
   "id": "ac58aa7c",
   "metadata": {},
   "outputs": [],
   "source": [
    "# Global var\n",
    "count = 0\n",
    "def counter():\n",
    "    count = 10 \n",
    "    step = 1\n",
    "    stop = 2\n",
    "    print(count)\n",
    "    "
   ]
  },
  {
   "cell_type": "code",
   "execution_count": 74,
   "id": "aceebfa4",
   "metadata": {},
   "outputs": [
    {
     "data": {
      "text/plain": [
       "0"
      ]
     },
     "execution_count": 74,
     "metadata": {},
     "output_type": "execute_result"
    }
   ],
   "source": [
    "count"
   ]
  },
  {
   "cell_type": "code",
   "execution_count": 75,
   "id": "69be76fd",
   "metadata": {},
   "outputs": [
    {
     "name": "stdout",
     "output_type": "stream",
     "text": [
      "10\n"
     ]
    }
   ],
   "source": [
    "counter()"
   ]
  },
  {
   "cell_type": "code",
   "execution_count": 76,
   "id": "26e95780",
   "metadata": {},
   "outputs": [
    {
     "data": {
      "text/plain": [
       "0"
      ]
     },
     "execution_count": 76,
     "metadata": {},
     "output_type": "execute_result"
    }
   ],
   "source": [
    "count"
   ]
  },
  {
   "cell_type": "code",
   "execution_count": 80,
   "id": "c81ec797",
   "metadata": {},
   "outputs": [
    {
     "data": {
      "text/plain": [
       "['__class__',\n",
       " '__delattr__',\n",
       " '__dir__',\n",
       " '__doc__',\n",
       " '__eq__',\n",
       " '__format__',\n",
       " '__ge__',\n",
       " '__getattribute__',\n",
       " '__gt__',\n",
       " '__hash__',\n",
       " '__init__',\n",
       " '__init_subclass__',\n",
       " '__le__',\n",
       " '__lt__',\n",
       " '__ne__',\n",
       " '__new__',\n",
       " '__reduce__',\n",
       " '__reduce_ex__',\n",
       " '__repr__',\n",
       " '__setattr__',\n",
       " '__sizeof__',\n",
       " '__str__',\n",
       " '__subclasshook__',\n",
       " 'co_argcount',\n",
       " 'co_cellvars',\n",
       " 'co_code',\n",
       " 'co_consts',\n",
       " 'co_filename',\n",
       " 'co_firstlineno',\n",
       " 'co_flags',\n",
       " 'co_freevars',\n",
       " 'co_kwonlyargcount',\n",
       " 'co_lnotab',\n",
       " 'co_name',\n",
       " 'co_names',\n",
       " 'co_nlocals',\n",
       " 'co_posonlyargcount',\n",
       " 'co_stacksize',\n",
       " 'co_varnames',\n",
       " 'replace']"
      ]
     },
     "execution_count": 80,
     "metadata": {},
     "output_type": "execute_result"
    }
   ],
   "source": [
    "dir(counter.__code__)"
   ]
  },
  {
   "cell_type": "code",
   "execution_count": 84,
   "id": "e73eaf7c",
   "metadata": {},
   "outputs": [
    {
     "data": {
      "text/plain": [
       "3"
      ]
     },
     "execution_count": 84,
     "metadata": {},
     "output_type": "execute_result"
    }
   ],
   "source": [
    "# Need not understand it. \n",
    "counter.__code__.co_nlocals"
   ]
  },
  {
   "cell_type": "code",
   "execution_count": 86,
   "id": "b2e09cec",
   "metadata": {},
   "outputs": [],
   "source": [
    "count = 0\n",
    "def new_counter():\n",
    "    print('Hi new counter')\n",
    "    "
   ]
  },
  {
   "cell_type": "code",
   "execution_count": 89,
   "id": "55737b5b",
   "metadata": {},
   "outputs": [
    {
     "data": {
      "text/plain": [
       "(0, 2031743166736)"
      ]
     },
     "execution_count": 89,
     "metadata": {},
     "output_type": "execute_result"
    }
   ],
   "source": [
    "count,id(count)"
   ]
  },
  {
   "cell_type": "code",
   "execution_count": 90,
   "id": "025bffd7",
   "metadata": {},
   "outputs": [
    {
     "data": {
      "text/plain": [
       "2031817801584"
      ]
     },
     "execution_count": 90,
     "metadata": {},
     "output_type": "execute_result"
    }
   ],
   "source": [
    "id(new_counter)"
   ]
  },
  {
   "cell_type": "code",
   "execution_count": 91,
   "id": "4fd86cd5",
   "metadata": {},
   "outputs": [
    {
     "name": "stdout",
     "output_type": "stream",
     "text": [
      "Hi new counter\n"
     ]
    }
   ],
   "source": [
    "new_counter()"
   ]
  },
  {
   "cell_type": "code",
   "execution_count": 94,
   "id": "00ffb98f",
   "metadata": {},
   "outputs": [
    {
     "data": {
      "text/plain": [
       "0"
      ]
     },
     "execution_count": 94,
     "metadata": {},
     "output_type": "execute_result"
    }
   ],
   "source": [
    "new_counter.__code__.co_nlocals"
   ]
  },
  {
   "cell_type": "code",
   "execution_count": null,
   "id": "33d84788",
   "metadata": {},
   "outputs": [],
   "source": []
  }
 ],
 "metadata": {
  "kernelspec": {
   "display_name": "Python 3",
   "language": "python",
   "name": "python3"
  },
  "language_info": {
   "codemirror_mode": {
    "name": "ipython",
    "version": 3
   },
   "file_extension": ".py",
   "mimetype": "text/x-python",
   "name": "python",
   "nbconvert_exporter": "python",
   "pygments_lexer": "ipython3",
   "version": "3.9.6"
  }
 },
 "nbformat": 4,
 "nbformat_minor": 5
}
