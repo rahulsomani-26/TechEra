{
 "cells": [
  {
   "cell_type": "markdown",
   "id": "370f63b2",
   "metadata": {},
   "source": [
    "# This is a way to pass in variable number of positional arguments\n",
    "`` mostly denoted by *args , although you can use any name of your choice, \n",
    "  which I am doing beneath ``\n",
    "\n"
   ]
  },
  {
   "cell_type": "code",
   "execution_count": 19,
   "id": "b1a5e365",
   "metadata": {},
   "outputs": [],
   "source": [
    "def my_func(*a):\n",
    "    print(a)"
   ]
  },
  {
   "cell_type": "code",
   "execution_count": null,
   "id": "13908728",
   "metadata": {},
   "outputs": [],
   "source": []
  },
  {
   "cell_type": "code",
   "execution_count": 3,
   "id": "a1760604",
   "metadata": {},
   "outputs": [
    {
     "data": {
      "text/plain": [
       "<function __main__.my_func(*a)>"
      ]
     },
     "execution_count": 3,
     "metadata": {},
     "output_type": "execute_result"
    }
   ],
   "source": [
    "my_func"
   ]
  },
  {
   "cell_type": "code",
   "execution_count": 4,
   "id": "cc7536aa",
   "metadata": {},
   "outputs": [
    {
     "name": "stdout",
     "output_type": "stream",
     "text": [
      "(1,)\n"
     ]
    }
   ],
   "source": [
    "my_func(1)"
   ]
  },
  {
   "cell_type": "code",
   "execution_count": 5,
   "id": "8d356a5a",
   "metadata": {},
   "outputs": [
    {
     "name": "stdout",
     "output_type": "stream",
     "text": [
      "(1, 100)\n"
     ]
    }
   ],
   "source": [
    "my_func(1,100)"
   ]
  },
  {
   "cell_type": "code",
   "execution_count": 6,
   "id": "a957d9c6",
   "metadata": {},
   "outputs": [
    {
     "name": "stdout",
     "output_type": "stream",
     "text": [
      "(1, 100, 'rahul', 'akash')\n"
     ]
    }
   ],
   "source": [
    "my_func(1,100,\"rahul\",'akash')"
   ]
  },
  {
   "cell_type": "code",
   "execution_count": 7,
   "id": "3d11abe1",
   "metadata": {},
   "outputs": [],
   "source": [
    "def my_func(*args):\n",
    "    print(args)\n",
    "    print(type(args))\n",
    "    "
   ]
  },
  {
   "cell_type": "code",
   "execution_count": 9,
   "id": "d5aee0df",
   "metadata": {},
   "outputs": [
    {
     "data": {
      "text/plain": [
       "1572237313792"
      ]
     },
     "execution_count": 9,
     "metadata": {},
     "output_type": "execute_result"
    }
   ],
   "source": [
    "id(my_func)"
   ]
  },
  {
   "cell_type": "code",
   "execution_count": 10,
   "id": "eabbff5c",
   "metadata": {},
   "outputs": [
    {
     "name": "stdout",
     "output_type": "stream",
     "text": [
      "()\n",
      "<class 'tuple'>\n"
     ]
    }
   ],
   "source": [
    "my_func() # With no argument"
   ]
  },
  {
   "cell_type": "code",
   "execution_count": 11,
   "id": "31fc150f",
   "metadata": {},
   "outputs": [
    {
     "name": "stdout",
     "output_type": "stream",
     "text": [
      "(1, 2, 3, 4, 5)\n",
      "<class 'tuple'>\n"
     ]
    }
   ],
   "source": [
    "my_func(1,2,3,4,5)"
   ]
  },
  {
   "cell_type": "code",
   "execution_count": 12,
   "id": "ee3aafad",
   "metadata": {},
   "outputs": [
    {
     "name": "stdout",
     "output_type": "stream",
     "text": [
      "('Rahul', True, 2.3, 200)\n",
      "<class 'tuple'>\n"
     ]
    }
   ],
   "source": [
    "my_func('Rahul',True,2.3,200)"
   ]
  },
  {
   "cell_type": "code",
   "execution_count": 14,
   "id": "d3c77b3c",
   "metadata": {},
   "outputs": [],
   "source": [
    "def my_func(a,b):\n",
    "    pass"
   ]
  },
  {
   "cell_type": "code",
   "execution_count": 17,
   "id": "eb0dcd4d",
   "metadata": {},
   "outputs": [],
   "source": [
    "my_func(1,2)"
   ]
  },
  {
   "cell_type": "code",
   "execution_count": 18,
   "id": "d412081b",
   "metadata": {},
   "outputs": [],
   "source": [
    "del my_func"
   ]
  },
  {
   "cell_type": "code",
   "execution_count": 20,
   "id": "25010400",
   "metadata": {},
   "outputs": [
    {
     "ename": "TypeError",
     "evalue": "my_func() got an unexpected keyword argument 'a'",
     "output_type": "error",
     "traceback": [
      "\u001b[1;31m---------------------------------------------------------------------------\u001b[0m",
      "\u001b[1;31mTypeError\u001b[0m                                 Traceback (most recent call last)",
      "\u001b[1;32m<ipython-input-20-697ff89fae62>\u001b[0m in \u001b[0;36m<module>\u001b[1;34m\u001b[0m\n\u001b[1;32m----> 1\u001b[1;33m \u001b[0mmy_func\u001b[0m\u001b[1;33m(\u001b[0m\u001b[0ma\u001b[0m\u001b[1;33m=\u001b[0m\u001b[1;36m10\u001b[0m\u001b[1;33m,\u001b[0m\u001b[0mb\u001b[0m\u001b[1;33m=\u001b[0m\u001b[1;36m20\u001b[0m\u001b[1;33m)\u001b[0m\u001b[1;33m\u001b[0m\u001b[1;33m\u001b[0m\u001b[0m\n\u001b[0m",
      "\u001b[1;31mTypeError\u001b[0m: my_func() got an unexpected keyword argument 'a'"
     ]
    }
   ],
   "source": [
    "my_func(a=10,b=20)"
   ]
  },
  {
   "cell_type": "markdown",
   "id": "49415e87",
   "metadata": {},
   "source": [
    "`` Implement this: \n",
    "    A function which can accept variable number of \n",
    "    positional arguments and find the sum of those \n",
    "    numbers.``"
   ]
  },
  {
   "cell_type": "code",
   "execution_count": 21,
   "id": "e83b93cc",
   "metadata": {},
   "outputs": [],
   "source": [
    "def my_func(*ignore):\n",
    "    return sum(ignore)\n"
   ]
  },
  {
   "cell_type": "code",
   "execution_count": 22,
   "id": "719ac615",
   "metadata": {},
   "outputs": [
    {
     "ename": "TypeError",
     "evalue": "unsupported operand type(s) for +: 'int' and 'str'",
     "output_type": "error",
     "traceback": [
      "\u001b[1;31m---------------------------------------------------------------------------\u001b[0m",
      "\u001b[1;31mTypeError\u001b[0m                                 Traceback (most recent call last)",
      "\u001b[1;32m<ipython-input-22-c2347e77d54c>\u001b[0m in \u001b[0;36m<module>\u001b[1;34m\u001b[0m\n\u001b[1;32m----> 1\u001b[1;33m \u001b[0mmy_func\u001b[0m\u001b[1;33m(\u001b[0m\u001b[1;34m'a'\u001b[0m\u001b[1;33m,\u001b[0m\u001b[1;34m'b'\u001b[0m\u001b[1;33m,\u001b[0m\u001b[1;34m'c'\u001b[0m\u001b[1;33m)\u001b[0m\u001b[1;33m\u001b[0m\u001b[1;33m\u001b[0m\u001b[0m\n\u001b[0m",
      "\u001b[1;32m<ipython-input-21-406cbf2b97ee>\u001b[0m in \u001b[0;36mmy_func\u001b[1;34m(*ignore)\u001b[0m\n\u001b[0;32m      1\u001b[0m \u001b[1;32mdef\u001b[0m \u001b[0mmy_func\u001b[0m\u001b[1;33m(\u001b[0m\u001b[1;33m*\u001b[0m\u001b[0mignore\u001b[0m\u001b[1;33m)\u001b[0m\u001b[1;33m:\u001b[0m\u001b[1;33m\u001b[0m\u001b[1;33m\u001b[0m\u001b[0m\n\u001b[1;32m----> 2\u001b[1;33m     \u001b[1;32mreturn\u001b[0m \u001b[0msum\u001b[0m\u001b[1;33m(\u001b[0m\u001b[0mignore\u001b[0m\u001b[1;33m)\u001b[0m\u001b[1;33m\u001b[0m\u001b[1;33m\u001b[0m\u001b[0m\n\u001b[0m",
      "\u001b[1;31mTypeError\u001b[0m: unsupported operand type(s) for +: 'int' and 'str'"
     ]
    }
   ],
   "source": [
    "my_func('a','b','c')"
   ]
  },
  {
   "cell_type": "code",
   "execution_count": 24,
   "id": "4de257c9",
   "metadata": {},
   "outputs": [
    {
     "data": {
      "text/plain": [
       "3"
      ]
     },
     "execution_count": 24,
     "metadata": {},
     "output_type": "execute_result"
    }
   ],
   "source": [
    "my_func(1,2)"
   ]
  },
  {
   "cell_type": "code",
   "execution_count": 25,
   "id": "56700b2c",
   "metadata": {},
   "outputs": [
    {
     "ename": "TypeError",
     "evalue": "unsupported operand type(s) for +: 'int' and 'str'",
     "output_type": "error",
     "traceback": [
      "\u001b[1;31m---------------------------------------------------------------------------\u001b[0m",
      "\u001b[1;31mTypeError\u001b[0m                                 Traceback (most recent call last)",
      "\u001b[1;32m<ipython-input-25-9ec3a4d1c47b>\u001b[0m in \u001b[0;36m<module>\u001b[1;34m\u001b[0m\n\u001b[1;32m----> 1\u001b[1;33m \u001b[0mmy_func\u001b[0m\u001b[1;33m(\u001b[0m\u001b[1;36m1\u001b[0m\u001b[1;33m,\u001b[0m\u001b[1;36m2\u001b[0m\u001b[1;33m,\u001b[0m\u001b[1;34m'a'\u001b[0m\u001b[1;33m)\u001b[0m\u001b[1;33m\u001b[0m\u001b[1;33m\u001b[0m\u001b[0m\n\u001b[0m",
      "\u001b[1;32m<ipython-input-21-406cbf2b97ee>\u001b[0m in \u001b[0;36mmy_func\u001b[1;34m(*ignore)\u001b[0m\n\u001b[0;32m      1\u001b[0m \u001b[1;32mdef\u001b[0m \u001b[0mmy_func\u001b[0m\u001b[1;33m(\u001b[0m\u001b[1;33m*\u001b[0m\u001b[0mignore\u001b[0m\u001b[1;33m)\u001b[0m\u001b[1;33m:\u001b[0m\u001b[1;33m\u001b[0m\u001b[1;33m\u001b[0m\u001b[0m\n\u001b[1;32m----> 2\u001b[1;33m     \u001b[1;32mreturn\u001b[0m \u001b[0msum\u001b[0m\u001b[1;33m(\u001b[0m\u001b[0mignore\u001b[0m\u001b[1;33m)\u001b[0m\u001b[1;33m\u001b[0m\u001b[1;33m\u001b[0m\u001b[0m\n\u001b[0m",
      "\u001b[1;31mTypeError\u001b[0m: unsupported operand type(s) for +: 'int' and 'str'"
     ]
    }
   ],
   "source": [
    "my_func(1,2,'a')"
   ]
  },
  {
   "cell_type": "code",
   "execution_count": 26,
   "id": "d38f7b48",
   "metadata": {},
   "outputs": [
    {
     "data": {
      "text/plain": [
       "'rahul'"
      ]
     },
     "execution_count": 26,
     "metadata": {},
     "output_type": "execute_result"
    }
   ],
   "source": [
    "str(\"rahul\")"
   ]
  },
  {
   "cell_type": "code",
   "execution_count": 27,
   "id": "6aa78982",
   "metadata": {},
   "outputs": [
    {
     "data": {
      "text/plain": [
       "\"'rahul'\""
      ]
     },
     "execution_count": 27,
     "metadata": {},
     "output_type": "execute_result"
    }
   ],
   "source": [
    "repr(\"rahul\")"
   ]
  },
  {
   "cell_type": "code",
   "execution_count": 28,
   "id": "9b4d11d7",
   "metadata": {},
   "outputs": [
    {
     "data": {
      "text/plain": [
       "'rahul'"
      ]
     },
     "execution_count": 28,
     "metadata": {},
     "output_type": "execute_result"
    }
   ],
   "source": [
    "\"rahul\".__str__()"
   ]
  },
  {
   "cell_type": "code",
   "execution_count": 29,
   "id": "e1252a1a",
   "metadata": {},
   "outputs": [
    {
     "data": {
      "text/plain": [
       "\"'rahul'\""
      ]
     },
     "execution_count": 29,
     "metadata": {},
     "output_type": "execute_result"
    }
   ],
   "source": [
    "\"rahul\".__repr__()"
   ]
  },
  {
   "cell_type": "code",
   "execution_count": 30,
   "id": "390e14df",
   "metadata": {},
   "outputs": [],
   "source": [
    "t= ([1,2], [1,2])"
   ]
  },
  {
   "cell_type": "code",
   "execution_count": 31,
   "id": "4ed5d010",
   "metadata": {},
   "outputs": [
    {
     "ename": "TypeError",
     "evalue": "unsupported operand type(s) for +: 'int' and 'list'",
     "output_type": "error",
     "traceback": [
      "\u001b[1;31m---------------------------------------------------------------------------\u001b[0m",
      "\u001b[1;31mTypeError\u001b[0m                                 Traceback (most recent call last)",
      "\u001b[1;32m<ipython-input-31-bccdc7007585>\u001b[0m in \u001b[0;36m<module>\u001b[1;34m\u001b[0m\n\u001b[1;32m----> 1\u001b[1;33m \u001b[0msum\u001b[0m\u001b[1;33m(\u001b[0m\u001b[0mt\u001b[0m\u001b[1;33m)\u001b[0m\u001b[1;33m\u001b[0m\u001b[1;33m\u001b[0m\u001b[0m\n\u001b[0m",
      "\u001b[1;31mTypeError\u001b[0m: unsupported operand type(s) for +: 'int' and 'list'"
     ]
    }
   ],
   "source": [
    "sum(t)"
   ]
  },
  {
   "cell_type": "markdown",
   "id": "f8010268",
   "metadata": {},
   "source": [
    "# Keyword arguments \n",
    "`` key=value ``"
   ]
  },
  {
   "cell_type": "code",
   "execution_count": 32,
   "id": "714520f5",
   "metadata": {},
   "outputs": [],
   "source": [
    "def my_func(**bucket):\n",
    "    print(bucket)"
   ]
  },
  {
   "cell_type": "code",
   "execution_count": 33,
   "id": "5352db36",
   "metadata": {},
   "outputs": [
    {
     "data": {
      "text/plain": [
       "<function __main__.my_func(**bucket)>"
      ]
     },
     "execution_count": 33,
     "metadata": {},
     "output_type": "execute_result"
    }
   ],
   "source": [
    "my_func"
   ]
  },
  {
   "cell_type": "code",
   "execution_count": 34,
   "id": "16dc9fe6",
   "metadata": {},
   "outputs": [
    {
     "name": "stdout",
     "output_type": "stream",
     "text": [
      "{'name': 'Rahul', 'age': 35}\n"
     ]
    }
   ],
   "source": [
    "my_func(name='Rahul',age=35)"
   ]
  },
  {
   "cell_type": "code",
   "execution_count": 35,
   "id": "1b26c56b",
   "metadata": {},
   "outputs": [],
   "source": [
    "def my_func(**kwargs):\n",
    "    print(kwargs)"
   ]
  },
  {
   "cell_type": "code",
   "execution_count": 36,
   "id": "de9a2804",
   "metadata": {},
   "outputs": [
    {
     "name": "stdout",
     "output_type": "stream",
     "text": [
      "{}\n"
     ]
    }
   ],
   "source": [
    "my_func()"
   ]
  },
  {
   "cell_type": "code",
   "execution_count": 37,
   "id": "1a3bd78f",
   "metadata": {},
   "outputs": [
    {
     "name": "stdout",
     "output_type": "stream",
     "text": [
      "{'a': 10, 'b': 20, 'c': 30}\n"
     ]
    }
   ],
   "source": [
    "my_func(a=10,b=20,c=30)"
   ]
  },
  {
   "cell_type": "code",
   "execution_count": 38,
   "id": "ce9f58d5",
   "metadata": {},
   "outputs": [],
   "source": [
    "t = 1,2,3,'rahul','somani'\n"
   ]
  },
  {
   "cell_type": "code",
   "execution_count": 43,
   "id": "efd26cc7",
   "metadata": {},
   "outputs": [],
   "source": [
    "first,*rest,last = t"
   ]
  },
  {
   "cell_type": "code",
   "execution_count": 44,
   "id": "7e0c693d",
   "metadata": {},
   "outputs": [
    {
     "data": {
      "text/plain": [
       "(1, [2, 3, 'rahul'], 'somani')"
      ]
     },
     "execution_count": 44,
     "metadata": {},
     "output_type": "execute_result"
    }
   ],
   "source": [
    "first,rest,last"
   ]
  },
  {
   "cell_type": "markdown",
   "id": "96262245",
   "metadata": {},
   "source": [
    "Think about this "
   ]
  },
  {
   "cell_type": "code",
   "execution_count": 46,
   "id": "26a62c92",
   "metadata": {},
   "outputs": [
    {
     "ename": "SyntaxError",
     "evalue": "invalid syntax (<ipython-input-46-89499f251011>, line 2)",
     "output_type": "error",
     "traceback": [
      "\u001b[1;36m  File \u001b[1;32m\"<ipython-input-46-89499f251011>\"\u001b[1;36m, line \u001b[1;32m2\u001b[0m\n\u001b[1;33m    first,*ignore,**rest = t\u001b[0m\n\u001b[1;37m                  ^\u001b[0m\n\u001b[1;31mSyntaxError\u001b[0m\u001b[1;31m:\u001b[0m invalid syntax\n"
     ]
    }
   ],
   "source": [
    "t = 1,2,3,'rahul','somani'\n",
    "first,*ignore,**rest = t\n"
   ]
  },
  {
   "cell_type": "code",
   "execution_count": 47,
   "id": "23435f66",
   "metadata": {},
   "outputs": [],
   "source": [
    "def my_func(*args,**kwargs):\n",
    "    print(' Hi , welcome to {}'.format(my_func.__name__))\n",
    "    print('Positional Arguments = {}'.format(args))\n",
    "    print('Keyword only arguments = {}'.format(kwargs))\n",
    "    "
   ]
  },
  {
   "cell_type": "code",
   "execution_count": 48,
   "id": "76046989",
   "metadata": {},
   "outputs": [
    {
     "name": "stdout",
     "output_type": "stream",
     "text": [
      "Help on function my_func in module __main__:\n",
      "\n",
      "my_func(*args, **kwargs)\n",
      "\n"
     ]
    }
   ],
   "source": [
    "help(my_func)"
   ]
  },
  {
   "cell_type": "code",
   "execution_count": 49,
   "id": "95bec7af",
   "metadata": {},
   "outputs": [
    {
     "name": "stdout",
     "output_type": "stream",
     "text": [
      " Hi , welcome to my_func\n",
      "Positional Arguments = (10,)\n",
      "Keyword only arguments = {}\n"
     ]
    }
   ],
   "source": [
    "my_func(10)"
   ]
  },
  {
   "cell_type": "code",
   "execution_count": 50,
   "id": "8e9a641a",
   "metadata": {},
   "outputs": [
    {
     "name": "stdout",
     "output_type": "stream",
     "text": [
      " Hi , welcome to my_func\n",
      "Positional Arguments = ([10, 20, 30], (100, 200), 'Rajdeep')\n",
      "Keyword only arguments = {}\n"
     ]
    }
   ],
   "source": [
    "my_func([10,20,30],(100,200),\"Rajdeep\")"
   ]
  },
  {
   "cell_type": "code",
   "execution_count": 51,
   "id": "3e5d6834",
   "metadata": {},
   "outputs": [
    {
     "name": "stdout",
     "output_type": "stream",
     "text": [
      " Hi , welcome to my_func\n",
      "Positional Arguments = ()\n",
      "Keyword only arguments = {'name': 'Rahul', 'age': 35}\n"
     ]
    }
   ],
   "source": [
    "my_func(name='Rahul',age=35)"
   ]
  },
  {
   "cell_type": "markdown",
   "id": "fb8407f7",
   "metadata": {},
   "source": [
    "`` Would you please write a program that can student and marks as an input. The first should be positional argument, while the rest should be keyword only argument. Then finally print the sum of the marks ``"
   ]
  },
  {
   "cell_type": "markdown",
   "id": "51f5ca1e",
   "metadata": {},
   "source": [
    "`` function signature : def student_marks('rahul',eng=60, maths=90,...)``\n",
    "\n",
    "`` You should be able to call it like : func_name(name='rahul',eng=60,math=90, ...)``"
   ]
  },
  {
   "cell_type": "code",
   "execution_count": 60,
   "id": "347b8520",
   "metadata": {},
   "outputs": [],
   "source": [
    "def student_marks(*args,**kwargs):\n",
    "    print(' Hi ', args[0])\n",
    "    print(kwargs['eng'])\n",
    "    print(kwargs['hin'])    "
   ]
  },
  {
   "cell_type": "code",
   "execution_count": 61,
   "id": "4c17e90c",
   "metadata": {},
   "outputs": [
    {
     "name": "stdout",
     "output_type": "stream",
     "text": [
      " Hi  rahul\n",
      "10\n",
      "20\n"
     ]
    }
   ],
   "source": [
    "student_marks('rahul',eng=10,hin=20)"
   ]
  },
  {
   "cell_type": "code",
   "execution_count": 62,
   "id": "0a3bec97",
   "metadata": {},
   "outputs": [],
   "source": [
    "def student_marks(*args,**kwargs):\n",
    "    print(' Hi ', args[0])\n",
    "    marks = kwargs.values()\n",
    "    print(marks)"
   ]
  },
  {
   "cell_type": "code",
   "execution_count": 63,
   "id": "ee609fb6",
   "metadata": {},
   "outputs": [
    {
     "name": "stdout",
     "output_type": "stream",
     "text": [
      " Hi  akash\n",
      "dict_values([10, 20, 30])\n"
     ]
    }
   ],
   "source": [
    "student_marks('akash',e=10,h=20,s=30)"
   ]
  },
  {
   "cell_type": "code",
   "execution_count": 64,
   "id": "86f0db34",
   "metadata": {},
   "outputs": [],
   "source": [
    "def student_marks(*args,**kwargs):\n",
    "    print(' Hi ', args[0])\n",
    "    marks = sum(kwargs.values())\n",
    "    print(marks)"
   ]
  },
  {
   "cell_type": "code",
   "execution_count": 65,
   "id": "1fec3836",
   "metadata": {},
   "outputs": [
    {
     "name": "stdout",
     "output_type": "stream",
     "text": [
      " Hi  akash\n",
      "60\n"
     ]
    }
   ],
   "source": [
    "student_marks('akash',e=10,h=20,s=30)"
   ]
  },
  {
   "cell_type": "code",
   "execution_count": 66,
   "id": "75b232df",
   "metadata": {},
   "outputs": [],
   "source": [
    "t = 1,"
   ]
  },
  {
   "cell_type": "code",
   "execution_count": 67,
   "id": "4a4a33b0",
   "metadata": {},
   "outputs": [
    {
     "data": {
      "text/plain": [
       "tuple"
      ]
     },
     "execution_count": 67,
     "metadata": {},
     "output_type": "execute_result"
    }
   ],
   "source": [
    "type(t)"
   ]
  },
  {
   "cell_type": "code",
   "execution_count": 68,
   "id": "f06ee74c",
   "metadata": {
    "scrolled": true
   },
   "outputs": [
    {
     "name": "stdout",
     "output_type": "stream",
     "text": [
      "(1,)\n"
     ]
    }
   ],
   "source": [
    "print(t)"
   ]
  },
  {
   "cell_type": "code",
   "execution_count": 69,
   "id": "89809668",
   "metadata": {},
   "outputs": [
    {
     "name": "stdout",
     "output_type": "stream",
     "text": [
      "1\n"
     ]
    }
   ],
   "source": [
    "print(t[0])"
   ]
  },
  {
   "cell_type": "markdown",
   "id": "de3c8815",
   "metadata": {},
   "source": [
    "`` Try to get the number of positional args and keyword only arguments ``\n"
   ]
  },
  {
   "cell_type": "code",
   "execution_count": 70,
   "id": "237ad0e7",
   "metadata": {},
   "outputs": [
    {
     "data": {
      "text/plain": [
       "('print', 'sum', 'values')"
      ]
     },
     "execution_count": 70,
     "metadata": {},
     "output_type": "execute_result"
    }
   ],
   "source": [
    "student_marks.__code__.co_names"
   ]
  },
  {
   "cell_type": "code",
   "execution_count": 71,
   "id": "e5b5ecfc",
   "metadata": {},
   "outputs": [
    {
     "name": "stdout",
     "output_type": "stream",
     "text": [
      "['__class__', '__delattr__', '__dir__', '__doc__', '__eq__', '__format__', '__ge__', '__getattribute__', '__gt__', '__hash__', '__init__', '__init_subclass__', '__le__', '__lt__', '__ne__', '__new__', '__reduce__', '__reduce_ex__', '__repr__', '__setattr__', '__sizeof__', '__str__', '__subclasshook__', 'co_argcount', 'co_cellvars', 'co_code', 'co_consts', 'co_filename', 'co_firstlineno', 'co_flags', 'co_freevars', 'co_kwonlyargcount', 'co_lnotab', 'co_name', 'co_names', 'co_nlocals', 'co_posonlyargcount', 'co_stacksize', 'co_varnames', 'replace']\n"
     ]
    }
   ],
   "source": [
    "print(dir(student_marks.__code__))"
   ]
  },
  {
   "cell_type": "code",
   "execution_count": 73,
   "id": "ac8a0a1f",
   "metadata": {},
   "outputs": [
    {
     "data": {
      "text/plain": [
       "0"
      ]
     },
     "execution_count": 73,
     "metadata": {},
     "output_type": "execute_result"
    }
   ],
   "source": [
    "student_marks.__code__.co_argcount"
   ]
  },
  {
   "cell_type": "code",
   "execution_count": 74,
   "id": "57b7e84f",
   "metadata": {},
   "outputs": [],
   "source": [
    "def test(name,age=35,profession='trainer'):\n",
    "    print('All well')\n"
   ]
  },
  {
   "cell_type": "code",
   "execution_count": 75,
   "id": "e5f7f795",
   "metadata": {},
   "outputs": [
    {
     "name": "stdout",
     "output_type": "stream",
     "text": [
      "All well\n"
     ]
    }
   ],
   "source": [
    "test('rahul')"
   ]
  },
  {
   "cell_type": "code",
   "execution_count": 76,
   "id": "6dc00773",
   "metadata": {},
   "outputs": [
    {
     "data": {
      "text/plain": [
       "3"
      ]
     },
     "execution_count": 76,
     "metadata": {},
     "output_type": "execute_result"
    }
   ],
   "source": [
    "test.__code__.co_argcount"
   ]
  },
  {
   "cell_type": "code",
   "execution_count": 77,
   "id": "cbfc21bf",
   "metadata": {},
   "outputs": [
    {
     "ename": "AttributeError",
     "evalue": "'code' object has no attribute 'kwonlyargcount'",
     "output_type": "error",
     "traceback": [
      "\u001b[1;31m---------------------------------------------------------------------------\u001b[0m",
      "\u001b[1;31mAttributeError\u001b[0m                            Traceback (most recent call last)",
      "\u001b[1;32m<ipython-input-77-15c9976e2b86>\u001b[0m in \u001b[0;36m<module>\u001b[1;34m\u001b[0m\n\u001b[1;32m----> 1\u001b[1;33m \u001b[0mtest\u001b[0m\u001b[1;33m.\u001b[0m\u001b[0m__code__\u001b[0m\u001b[1;33m.\u001b[0m\u001b[0mkwonlyargcount\u001b[0m\u001b[1;33m\u001b[0m\u001b[1;33m\u001b[0m\u001b[0m\n\u001b[0m",
      "\u001b[1;31mAttributeError\u001b[0m: 'code' object has no attribute 'kwonlyargcount'"
     ]
    }
   ],
   "source": [
    "test.__code__.kwonlyargcount"
   ]
  },
  {
   "cell_type": "code",
   "execution_count": 78,
   "id": "3f16241e",
   "metadata": {},
   "outputs": [],
   "source": [
    "def student_marks(*args,**kwargs):\n",
    "    print(' Hi ', args[0])\n",
    "    print('Number of positonal arg = {}'.format(len(args)))\n",
    "    print('Number of keyword only arg = {}'.format(len(kwargs)))\n",
    "    \n",
    "    marks = sum(kwargs.values())\n",
    "    print(marks)"
   ]
  },
  {
   "cell_type": "code",
   "execution_count": 81,
   "id": "4c2c3af6",
   "metadata": {},
   "outputs": [
    {
     "name": "stdout",
     "output_type": "stream",
     "text": [
      " Hi  rahul\n",
      "Number of positonal arg = 3\n",
      "Number of keyword only arg = 4\n",
      "309\n"
     ]
    }
   ],
   "source": [
    "student_marks('rahul','somani', 'ujjwal', cs=70,eng=70,hindi=80,marathi=89)"
   ]
  },
  {
   "cell_type": "code",
   "execution_count": 82,
   "id": "2a6f8700",
   "metadata": {},
   "outputs": [
    {
     "name": "stdout",
     "output_type": "stream",
     "text": [
      " Hi  rahul\n",
      "Number of positonal arg = 3\n",
      "Number of keyword only arg = 4\n",
      "309\n"
     ]
    }
   ],
   "source": [
    "student_marks('rahul','somani', 'ujjwal', eng=70,hindi=80,marathi=89,cs=70)"
   ]
  },
  {
   "cell_type": "code",
   "execution_count": 83,
   "id": "76ffb687",
   "metadata": {},
   "outputs": [],
   "source": [
    "def test_func(name='Rahul',age=35):\n",
    "    print(name,age)"
   ]
  },
  {
   "cell_type": "code",
   "execution_count": 84,
   "id": "221680e0",
   "metadata": {},
   "outputs": [
    {
     "name": "stdout",
     "output_type": "stream",
     "text": [
      "Rahul 35\n"
     ]
    }
   ],
   "source": [
    "test_func()"
   ]
  },
  {
   "cell_type": "code",
   "execution_count": 85,
   "id": "d170a3d9",
   "metadata": {},
   "outputs": [
    {
     "name": "stdout",
     "output_type": "stream",
     "text": [
      "Ujjwal 32\n"
     ]
    }
   ],
   "source": [
    "test_func(name='Ujjwal',age=32)"
   ]
  },
  {
   "cell_type": "code",
   "execution_count": 86,
   "id": "8f5ae796",
   "metadata": {},
   "outputs": [
    {
     "name": "stdout",
     "output_type": "stream",
     "text": [
      "Ujjwal 32\n"
     ]
    }
   ],
   "source": [
    "test_func(age=32,name='Ujjwal')"
   ]
  },
  {
   "cell_type": "code",
   "execution_count": 91,
   "id": "3a2ed725",
   "metadata": {},
   "outputs": [
    {
     "name": "stdout",
     "output_type": "stream",
     "text": [
      "somani 56\n"
     ]
    }
   ],
   "source": [
    "test_func('somani',56)"
   ]
  },
  {
   "cell_type": "code",
   "execution_count": 88,
   "id": "cef5361c",
   "metadata": {},
   "outputs": [
    {
     "name": "stdout",
     "output_type": "stream",
     "text": [
      "56 somani\n"
     ]
    }
   ],
   "source": [
    "test_func(56,'somani')"
   ]
  },
  {
   "cell_type": "code",
   "execution_count": 90,
   "id": "72eb6fd8",
   "metadata": {},
   "outputs": [
    {
     "name": "stdout",
     "output_type": "stream",
     "text": [
      "mani 56\n"
     ]
    }
   ],
   "source": [
    "test_func(age=56,name='mani')"
   ]
  },
  {
   "cell_type": "code",
   "execution_count": null,
   "id": "25af3142",
   "metadata": {},
   "outputs": [],
   "source": []
  }
 ],
 "metadata": {
  "kernelspec": {
   "display_name": "Python 3",
   "language": "python",
   "name": "python3"
  },
  "language_info": {
   "codemirror_mode": {
    "name": "ipython",
    "version": 3
   },
   "file_extension": ".py",
   "mimetype": "text/x-python",
   "name": "python",
   "nbconvert_exporter": "python",
   "pygments_lexer": "ipython3",
   "version": "3.9.6"
  }
 },
 "nbformat": 4,
 "nbformat_minor": 5
}
