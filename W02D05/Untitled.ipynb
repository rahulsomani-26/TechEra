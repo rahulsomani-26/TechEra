{
 "cells": [
  {
   "cell_type": "markdown",
   "id": "b1241f4d",
   "metadata": {},
   "source": [
    "# lambda \n",
    "# Anonymous \n",
    "`` A function that does not have a name ``\n",
    "`` Anonymous functions can be created using the lambda keyword `` \n",
    "\n",
    "\n"
   ]
  },
  {
   "cell_type": "markdown",
   "id": "8de74813",
   "metadata": {},
   "source": [
    "`` lamda x,y:x+y ``"
   ]
  },
  {
   "cell_type": "code",
   "execution_count": 5,
   "id": "fde52c6b",
   "metadata": {},
   "outputs": [],
   "source": [
    "def add(x,y):\n",
    "    return x"
   ]
  },
  {
   "cell_type": "code",
   "execution_count": 6,
   "id": "22178224",
   "metadata": {},
   "outputs": [
    {
     "data": {
      "text/plain": [
       "2"
      ]
     },
     "execution_count": 6,
     "metadata": {},
     "output_type": "execute_result"
    }
   ],
   "source": [
    "add(1,1)"
   ]
  },
  {
   "cell_type": "code",
   "execution_count": 7,
   "id": "f00e7411",
   "metadata": {},
   "outputs": [
    {
     "data": {
      "text/plain": [
       "<function __main__.<lambda>(x, y)>"
      ]
     },
     "execution_count": 7,
     "metadata": {},
     "output_type": "execute_result"
    }
   ],
   "source": [
    "lambda x,y:x+y"
   ]
  },
  {
   "cell_type": "code",
   "execution_count": 8,
   "id": "b37f8f6d",
   "metadata": {},
   "outputs": [],
   "source": [
    "example=lambda x,y:x+y"
   ]
  },
  {
   "cell_type": "code",
   "execution_count": 9,
   "id": "2194e838",
   "metadata": {},
   "outputs": [
    {
     "data": {
      "text/plain": [
       "<function __main__.<lambda>(x, y)>"
      ]
     },
     "execution_count": 9,
     "metadata": {},
     "output_type": "execute_result"
    }
   ],
   "source": [
    "example"
   ]
  },
  {
   "cell_type": "code",
   "execution_count": 10,
   "id": "b59127ed",
   "metadata": {},
   "outputs": [
    {
     "data": {
      "text/plain": [
       "2"
      ]
     },
     "execution_count": 10,
     "metadata": {},
     "output_type": "execute_result"
    }
   ],
   "source": [
    "example(1,1)"
   ]
  },
  {
   "cell_type": "code",
   "execution_count": 11,
   "id": "e8aabb0d",
   "metadata": {},
   "outputs": [],
   "source": [
    "f=lambda seq:seq[-1]"
   ]
  },
  {
   "cell_type": "code",
   "execution_count": 12,
   "id": "59ca771f",
   "metadata": {},
   "outputs": [
    {
     "data": {
      "text/plain": [
       "'l'"
      ]
     },
     "execution_count": 12,
     "metadata": {},
     "output_type": "execute_result"
    }
   ],
   "source": [
    "f(\"rahul\")"
   ]
  },
  {
   "cell_type": "code",
   "execution_count": 13,
   "id": "412d21e1",
   "metadata": {},
   "outputs": [
    {
     "data": {
      "text/plain": [
       "4"
      ]
     },
     "execution_count": 13,
     "metadata": {},
     "output_type": "execute_result"
    }
   ],
   "source": [
    "f([1,2,3,4])"
   ]
  },
  {
   "cell_type": "code",
   "execution_count": 14,
   "id": "828a32ca",
   "metadata": {},
   "outputs": [
    {
     "data": {
      "text/plain": [
       "300"
      ]
     },
     "execution_count": 14,
     "metadata": {},
     "output_type": "execute_result"
    }
   ],
   "source": [
    "f((100,200,300))"
   ]
  },
  {
   "cell_type": "code",
   "execution_count": 15,
   "id": "c788fe73",
   "metadata": {},
   "outputs": [
    {
     "ename": "TypeError",
     "evalue": "'set' object is not subscriptable",
     "output_type": "error",
     "traceback": [
      "\u001b[1;31m---------------------------------------------------------------------------\u001b[0m",
      "\u001b[1;31mTypeError\u001b[0m                                 Traceback (most recent call last)",
      "\u001b[1;32m<ipython-input-15-58fd2afb7a7a>\u001b[0m in \u001b[0;36m<module>\u001b[1;34m\u001b[0m\n\u001b[1;32m----> 1\u001b[1;33m \u001b[0mf\u001b[0m\u001b[1;33m(\u001b[0m\u001b[1;33m{\u001b[0m\u001b[1;36m1\u001b[0m\u001b[1;33m,\u001b[0m\u001b[1;36m2\u001b[0m\u001b[1;33m,\u001b[0m\u001b[1;36m3\u001b[0m\u001b[1;33m,\u001b[0m\u001b[1;36m4\u001b[0m\u001b[1;33m}\u001b[0m\u001b[1;33m)\u001b[0m\u001b[1;33m\u001b[0m\u001b[1;33m\u001b[0m\u001b[0m\n\u001b[0m",
      "\u001b[1;32m<ipython-input-11-765ca03424c9>\u001b[0m in \u001b[0;36m<lambda>\u001b[1;34m(seq)\u001b[0m\n\u001b[1;32m----> 1\u001b[1;33m \u001b[0mf\u001b[0m\u001b[1;33m=\u001b[0m\u001b[1;32mlambda\u001b[0m \u001b[0mseq\u001b[0m\u001b[1;33m:\u001b[0m\u001b[0mseq\u001b[0m\u001b[1;33m[\u001b[0m\u001b[1;33m-\u001b[0m\u001b[1;36m1\u001b[0m\u001b[1;33m]\u001b[0m\u001b[1;33m\u001b[0m\u001b[1;33m\u001b[0m\u001b[0m\n\u001b[0m",
      "\u001b[1;31mTypeError\u001b[0m: 'set' object is not subscriptable"
     ]
    }
   ],
   "source": [
    "f({1,2,3,4})"
   ]
  },
  {
   "cell_type": "code",
   "execution_count": 16,
   "id": "28937b1d",
   "metadata": {},
   "outputs": [
    {
     "ename": "KeyError",
     "evalue": "-1",
     "output_type": "error",
     "traceback": [
      "\u001b[1;31m---------------------------------------------------------------------------\u001b[0m",
      "\u001b[1;31mKeyError\u001b[0m                                  Traceback (most recent call last)",
      "\u001b[1;32m<ipython-input-16-44d62e675ed8>\u001b[0m in \u001b[0;36m<module>\u001b[1;34m\u001b[0m\n\u001b[1;32m----> 1\u001b[1;33m \u001b[0mf\u001b[0m\u001b[1;33m(\u001b[0m\u001b[1;33m{\u001b[0m\u001b[1;34m'name'\u001b[0m\u001b[1;33m:\u001b[0m\u001b[1;34m'rahul'\u001b[0m\u001b[1;33m,\u001b[0m\u001b[1;34m'key'\u001b[0m\u001b[1;33m:\u001b[0m\u001b[1;36m34\u001b[0m\u001b[1;33m}\u001b[0m\u001b[1;33m)\u001b[0m\u001b[1;33m\u001b[0m\u001b[1;33m\u001b[0m\u001b[0m\n\u001b[0m",
      "\u001b[1;32m<ipython-input-11-765ca03424c9>\u001b[0m in \u001b[0;36m<lambda>\u001b[1;34m(seq)\u001b[0m\n\u001b[1;32m----> 1\u001b[1;33m \u001b[0mf\u001b[0m\u001b[1;33m=\u001b[0m\u001b[1;32mlambda\u001b[0m \u001b[0mseq\u001b[0m\u001b[1;33m:\u001b[0m\u001b[0mseq\u001b[0m\u001b[1;33m[\u001b[0m\u001b[1;33m-\u001b[0m\u001b[1;36m1\u001b[0m\u001b[1;33m]\u001b[0m\u001b[1;33m\u001b[0m\u001b[1;33m\u001b[0m\u001b[0m\n\u001b[0m",
      "\u001b[1;31mKeyError\u001b[0m: -1"
     ]
    }
   ],
   "source": [
    "f({'name':'rahul','key':34})"
   ]
  },
  {
   "cell_type": "code",
   "execution_count": 17,
   "id": "1f312482",
   "metadata": {},
   "outputs": [],
   "source": [
    "d = {'name':'rahul','key':34}"
   ]
  },
  {
   "cell_type": "code",
   "execution_count": 18,
   "id": "cbe2bad7",
   "metadata": {},
   "outputs": [
    {
     "data": {
      "text/plain": [
       "dict"
      ]
     },
     "execution_count": 18,
     "metadata": {},
     "output_type": "execute_result"
    }
   ],
   "source": [
    "type(d)"
   ]
  },
  {
   "cell_type": "code",
   "execution_count": 19,
   "id": "2bc29c8f",
   "metadata": {},
   "outputs": [
    {
     "ename": "KeyError",
     "evalue": "0",
     "output_type": "error",
     "traceback": [
      "\u001b[1;31m---------------------------------------------------------------------------\u001b[0m",
      "\u001b[1;31mKeyError\u001b[0m                                  Traceback (most recent call last)",
      "\u001b[1;32m<ipython-input-19-123a9cc6df61>\u001b[0m in \u001b[0;36m<module>\u001b[1;34m\u001b[0m\n\u001b[1;32m----> 1\u001b[1;33m \u001b[0md\u001b[0m\u001b[1;33m[\u001b[0m\u001b[1;36m0\u001b[0m\u001b[1;33m]\u001b[0m\u001b[1;33m\u001b[0m\u001b[1;33m\u001b[0m\u001b[0m\n\u001b[0m",
      "\u001b[1;31mKeyError\u001b[0m: 0"
     ]
    }
   ],
   "source": [
    "d[0]"
   ]
  },
  {
   "cell_type": "code",
   "execution_count": 20,
   "id": "01e2e741",
   "metadata": {},
   "outputs": [
    {
     "ename": "KeyError",
     "evalue": "-1",
     "output_type": "error",
     "traceback": [
      "\u001b[1;31m---------------------------------------------------------------------------\u001b[0m",
      "\u001b[1;31mKeyError\u001b[0m                                  Traceback (most recent call last)",
      "\u001b[1;32m<ipython-input-20-1bab3c6dc314>\u001b[0m in \u001b[0;36m<module>\u001b[1;34m\u001b[0m\n\u001b[1;32m----> 1\u001b[1;33m \u001b[0md\u001b[0m\u001b[1;33m[\u001b[0m\u001b[1;33m-\u001b[0m\u001b[1;36m1\u001b[0m\u001b[1;33m]\u001b[0m\u001b[1;33m\u001b[0m\u001b[1;33m\u001b[0m\u001b[0m\n\u001b[0m",
      "\u001b[1;31mKeyError\u001b[0m: -1"
     ]
    }
   ],
   "source": [
    "d[-1]"
   ]
  },
  {
   "cell_type": "code",
   "execution_count": 21,
   "id": "d8a09272",
   "metadata": {},
   "outputs": [
    {
     "data": {
      "text/plain": [
       "'rahul'"
      ]
     },
     "execution_count": 21,
     "metadata": {},
     "output_type": "execute_result"
    }
   ],
   "source": [
    "d['name']"
   ]
  },
  {
   "cell_type": "code",
   "execution_count": 22,
   "id": "29ec063f",
   "metadata": {},
   "outputs": [
    {
     "data": {
      "text/plain": [
       "34"
      ]
     },
     "execution_count": 22,
     "metadata": {},
     "output_type": "execute_result"
    }
   ],
   "source": [
    "d['key']"
   ]
  },
  {
   "cell_type": "code",
   "execution_count": 23,
   "id": "781d9c28",
   "metadata": {},
   "outputs": [],
   "source": [
    "def sequence(seq,start=0,stop=100):\n",
    "    return seq[start:stop]\n",
    "    "
   ]
  },
  {
   "cell_type": "code",
   "execution_count": 24,
   "id": "862eb5ce",
   "metadata": {},
   "outputs": [
    {
     "data": {
      "text/plain": [
       "'ahul'"
      ]
     },
     "execution_count": 24,
     "metadata": {},
     "output_type": "execute_result"
    }
   ],
   "source": [
    "sequence(\"Rahul\",start=1,stop=5)"
   ]
  },
  {
   "cell_type": "code",
   "execution_count": 25,
   "id": "4cc5c9d8",
   "metadata": {},
   "outputs": [
    {
     "data": {
      "text/plain": [
       "<function __main__.<lambda>(seq, start=0, stop=100)>"
      ]
     },
     "execution_count": 25,
     "metadata": {},
     "output_type": "execute_result"
    }
   ],
   "source": [
    "lambda seq,start=0,stop=100:seq[start:stop]"
   ]
  },
  {
   "cell_type": "code",
   "execution_count": 26,
   "id": "18bcd733",
   "metadata": {},
   "outputs": [],
   "source": [
    "s=lambda seq,start=0,stop=100:seq[start:stop]"
   ]
  },
  {
   "cell_type": "code",
   "execution_count": 28,
   "id": "4050ddf6",
   "metadata": {},
   "outputs": [
    {
     "data": {
      "text/plain": [
       "'ahul'"
      ]
     },
     "execution_count": 28,
     "metadata": {},
     "output_type": "execute_result"
    }
   ],
   "source": [
    "s(\"rahul\",start=1,stop=5)"
   ]
  },
  {
   "cell_type": "markdown",
   "id": "47021a64",
   "metadata": {},
   "source": [
    "`` write a function using lambda that takes 2 input and returns True if both are equal ``"
   ]
  },
  {
   "cell_type": "code",
   "execution_count": 29,
   "id": "bd3a819c",
   "metadata": {},
   "outputs": [
    {
     "data": {
      "text/plain": [
       "<function __main__.<lambda>(x, y)>"
      ]
     },
     "execution_count": 29,
     "metadata": {},
     "output_type": "execute_result"
    }
   ],
   "source": [
    "lambda x,y: x if x>y else y"
   ]
  },
  {
   "cell_type": "code",
   "execution_count": 31,
   "id": "719edcc1",
   "metadata": {},
   "outputs": [],
   "source": [
    "maxval=lambda x,y: x if x>y else y"
   ]
  },
  {
   "cell_type": "code",
   "execution_count": 32,
   "id": "cb67ff29",
   "metadata": {},
   "outputs": [
    {
     "data": {
      "text/plain": [
       "20"
      ]
     },
     "execution_count": 32,
     "metadata": {},
     "output_type": "execute_result"
    }
   ],
   "source": [
    "maxval(10,20)"
   ]
  },
  {
   "cell_type": "code",
   "execution_count": 33,
   "id": "48d2b5b4",
   "metadata": {},
   "outputs": [
    {
     "name": "stdout",
     "output_type": "stream",
     "text": [
      "Hello\n"
     ]
    }
   ],
   "source": [
    "x,y=10,20\n",
    "print(\"Hello\") if x < y else print(\"Hi\")"
   ]
  },
  {
   "cell_type": "code",
   "execution_count": 38,
   "id": "99ad4cef",
   "metadata": {},
   "outputs": [
    {
     "name": "stdout",
     "output_type": "stream",
     "text": [
      "10 20\n"
     ]
    }
   ],
   "source": [
    "print(x,y)"
   ]
  },
  {
   "cell_type": "code",
   "execution_count": 39,
   "id": "73126080",
   "metadata": {},
   "outputs": [
    {
     "data": {
      "text/plain": [
       "200"
      ]
     },
     "execution_count": 39,
     "metadata": {},
     "output_type": "execute_result"
    }
   ],
   "source": [
    "maxval(200,100)"
   ]
  },
  {
   "cell_type": "code",
   "execution_count": 40,
   "id": "22d5ec49",
   "metadata": {},
   "outputs": [
    {
     "data": {
      "text/plain": [
       "'b'"
      ]
     },
     "execution_count": 40,
     "metadata": {},
     "output_type": "execute_result"
    }
   ],
   "source": [
    "maxval('a','b')"
   ]
  },
  {
   "cell_type": "code",
   "execution_count": 43,
   "id": "60e0c095",
   "metadata": {},
   "outputs": [
    {
     "data": {
      "text/plain": [
       "-32"
      ]
     },
     "execution_count": 43,
     "metadata": {},
     "output_type": "execute_result"
    }
   ],
   "source": [
    "ord('A') - ord('a')"
   ]
  },
  {
   "cell_type": "code",
   "execution_count": 44,
   "id": "c11c24f8",
   "metadata": {},
   "outputs": [
    {
     "data": {
      "text/plain": [
       "[100, 200]"
      ]
     },
     "execution_count": 44,
     "metadata": {},
     "output_type": "execute_result"
    }
   ],
   "source": [
    "maxval([2,3,4],[100,200])"
   ]
  },
  {
   "cell_type": "code",
   "execution_count": 47,
   "id": "6d00693f",
   "metadata": {},
   "outputs": [],
   "source": [
    "def sort_me(seq):\n",
    "    \"\"\"\n",
    "    Suppose the input is a list with items of the same type \n",
    "    It will sort in ascending order\n",
    "    \"\"\"\n",
    "    return seq.sort()\n",
    "    \n",
    "    "
   ]
  },
  {
   "cell_type": "code",
   "execution_count": 48,
   "id": "d7b60050",
   "metadata": {},
   "outputs": [],
   "source": [
    "sort_me([10,2,4,10,19,1])"
   ]
  },
  {
   "cell_type": "code",
   "execution_count": 45,
   "id": "545e0e97",
   "metadata": {},
   "outputs": [],
   "source": [
    "l = [10,2,4,10,19,1]\n",
    "l.sort()\n"
   ]
  },
  {
   "cell_type": "code",
   "execution_count": null,
   "id": "375efaa4",
   "metadata": {},
   "outputs": [],
   "source": []
  },
  {
   "cell_type": "code",
   "execution_count": 46,
   "id": "684f3fb7",
   "metadata": {},
   "outputs": [
    {
     "data": {
      "text/plain": [
       "[1, 2, 4, 10, 10, 19]"
      ]
     },
     "execution_count": 46,
     "metadata": {},
     "output_type": "execute_result"
    }
   ],
   "source": [
    "l"
   ]
  },
  {
   "cell_type": "code",
   "execution_count": 57,
   "id": "51331075",
   "metadata": {},
   "outputs": [],
   "source": [
    "def sort_me(seq):\n",
    "    \"\"\"\n",
    "    Suppose the input is a list with items of the same type \n",
    "    It will sort in ascending order\n",
    "    \"\"\"\n",
    "     \n",
    "    return sorted(seq)\n",
    "    \n",
    "    "
   ]
  },
  {
   "cell_type": "code",
   "execution_count": 58,
   "id": "bc07242e",
   "metadata": {},
   "outputs": [
    {
     "data": {
      "text/plain": [
       "[1, 2, 4, 10, 10, 19]"
      ]
     },
     "execution_count": 58,
     "metadata": {},
     "output_type": "execute_result"
    }
   ],
   "source": [
    "sort_me([10,2,4,10,19,1])"
   ]
  },
  {
   "cell_type": "code",
   "execution_count": 55,
   "id": "908b90d3",
   "metadata": {},
   "outputs": [],
   "source": [
    "f=lambda x:sorted(x)"
   ]
  },
  {
   "cell_type": "code",
   "execution_count": 56,
   "id": "a640465d",
   "metadata": {},
   "outputs": [
    {
     "data": {
      "text/plain": [
       "[2, 3, 10]"
      ]
     },
     "execution_count": 56,
     "metadata": {},
     "output_type": "execute_result"
    }
   ],
   "source": [
    "f([10,2,3])"
   ]
  },
  {
   "cell_type": "code",
   "execution_count": 59,
   "id": "bb1f85ed",
   "metadata": {},
   "outputs": [
    {
     "data": {
      "text/plain": [
       "<function __main__.<lambda>(seq)>"
      ]
     },
     "execution_count": 59,
     "metadata": {},
     "output_type": "execute_result"
    }
   ],
   "source": [
    "lambda seq:sorted(seq)"
   ]
  },
  {
   "cell_type": "code",
   "execution_count": 60,
   "id": "6d135ac9",
   "metadata": {},
   "outputs": [],
   "source": [
    "mysort=lambda seq:sorted(seq)"
   ]
  },
  {
   "cell_type": "code",
   "execution_count": 61,
   "id": "392800a4",
   "metadata": {},
   "outputs": [
    {
     "data": {
      "text/plain": [
       "['a', 'b', 'c', 'd', 'e', 'z']"
      ]
     },
     "execution_count": 61,
     "metadata": {},
     "output_type": "execute_result"
    }
   ],
   "source": [
    "mysort('deabcz')"
   ]
  },
  {
   "cell_type": "markdown",
   "id": "a590d17f",
   "metadata": {},
   "source": [
    "`` Question session ``\n",
    "\n",
    "`` 1. Wap to find the fibonacii series using functions \n",
    "   2. using lambda wap that takes a name as input toand returns True if in uppercase \n",
    "      else  returns false \n",
    " Note: Take care of documenting your functions ( not in case of lambda ) and also annotating it ``"
   ]
  }
 ],
 "metadata": {
  "kernelspec": {
   "display_name": "Python 3",
   "language": "python",
   "name": "python3"
  },
  "language_info": {
   "codemirror_mode": {
    "name": "ipython",
    "version": 3
   },
   "file_extension": ".py",
   "mimetype": "text/x-python",
   "name": "python",
   "nbconvert_exporter": "python",
   "pygments_lexer": "ipython3",
   "version": "3.9.6"
  }
 },
 "nbformat": 4,
 "nbformat_minor": 5
}
