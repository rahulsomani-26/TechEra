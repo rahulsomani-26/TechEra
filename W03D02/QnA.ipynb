{
 "cells": [
  {
   "cell_type": "markdown",
   "id": "3c87d4ca",
   "metadata": {},
   "source": [
    "`` write a function that asks for the student name,marks( eng,math,science) \n",
    "   save the data into a file \n",
    "   print the content of the file \n",
    "   finally return the average of the marks ``"
   ]
  },
  {
   "cell_type": "code",
   "execution_count": 13,
   "id": "95d161b4",
   "metadata": {},
   "outputs": [],
   "source": [
    "def my_func():\n",
    "    \"\"\"Creates a file, and adds student data to it\"\"\"\n",
    "    student_list=[]\n",
    "    f = open('student.txt','a')\n",
    "    name = input(\"Enter Name \")\n",
    "    eng = int(input(\"Enter Eng marks \"))\n",
    "    math = int(input(\"Enter Math marks \"))\n",
    "    science = int(input(\"Enter Science marks \"))\n",
    "    student_list.extend([name,str(eng),str(math),str(science)])\n",
    "    print(student_list)\n",
    "    \n",
    "    avg = (eng + math + science )/3\n",
    "    f.writelines('  '.join(student_list))\n",
    "    f.close()\n",
    "    return avg\n",
    "    \n",
    "    "
   ]
  },
  {
   "cell_type": "code",
   "execution_count": 14,
   "id": "bfb779f3",
   "metadata": {},
   "outputs": [
    {
     "name": "stdout",
     "output_type": "stream",
     "text": [
      "Enter Name ra\n",
      "Enter Eng marks 90\n",
      "Enter Math marks 90\n",
      "Enter Science marks 90\n",
      "['ra', '90', '90', '90']\n"
     ]
    },
    {
     "data": {
      "text/plain": [
       "90.0"
      ]
     },
     "execution_count": 14,
     "metadata": {},
     "output_type": "execute_result"
    }
   ],
   "source": [
    "my_func()"
   ]
  },
  {
   "cell_type": "code",
   "execution_count": 19,
   "id": "c6409d03",
   "metadata": {},
   "outputs": [
    {
     "ename": "SyntaxError",
     "evalue": "invalid non-printable character U+00A0 (<ipython-input-19-cc4256e227b7>, line 7)",
     "output_type": "error",
     "traceback": [
      "\u001b[1;36m  File \u001b[1;32m\"<ipython-input-19-cc4256e227b7>\"\u001b[1;36m, line \u001b[1;32m7\u001b[0m\n\u001b[1;33m    print(\"Table created successfully\")\u001b[0m\n\u001b[1;37m    ^\u001b[0m\n\u001b[1;31mSyntaxError\u001b[0m\u001b[1;31m:\u001b[0m invalid non-printable character U+00A0\n"
     ]
    }
   ],
   "source": [
    "\n",
    "import sqlite3 as sq\n",
    "con = sq.connect('mydb.db')\n",
    "\n",
    "def create_t():\n",
    "    cur = con.cursor()\n",
    "    cur.execute('create table if not exists AVGTAB(name TEXT,english INT,math INT,science INT,avg INT)')\n",
    "    print(\"Table created successfully\")\n",
    "    cur.commit()\n",
    "#     con.close()\n",
    "\n",
    "def insert_d():\n",
    "\n",
    "    \"\"\"inserting data into table\"\"\"\n",
    "    name=input(\"Enter your name\")\n",
    "    english=int(input(\"Enter your marks in english\"))\n",
    "    math=int(input(\"Enter your marks in math\"))\n",
    "    science=int(input(\"Enter your marks in science\"))\n",
    "    avg=(english+math+science)/3\n",
    "\n",
    "    cur=con.cursor()\n",
    "    cur.execute('insert into AVGTAB values(?,?,?,?,?)',(name,english,math,science,avg))\n",
    "    con.commit()\n",
    "\n",
    "    con.close()\n",
    "\n",
    "def retrieve_d():\n",
    "\n",
    "    \"\"\"Retrieving data from table\"\"\"\n",
    "    cur=con.cursor()\n",
    "    record=cur.execute('select * from AVGTAB')\n",
    "    for row in record:\n",
    "        print(row)\n",
    "\n",
    "    #con.close()    \n",
    "\n"
   ]
  },
  {
   "cell_type": "code",
   "execution_count": 32,
   "id": "ab04a95e",
   "metadata": {},
   "outputs": [],
   "source": [
    "import sqlite3 as sq\n",
    "def student_marks():\n",
    "    \n",
    "    con = sq.connect('student.db',timeout=10)\n",
    "    cur = con.cursor()\n",
    "    cur.execute('create table if not exists STUDENT(name TEXT,eng int,math int,science int)')\n",
    "    \n",
    "    print(\"Table Created...\")\n",
    "    print('--'*80)\n",
    "    \n",
    "    name = input(\"Enter student name \")\n",
    "    eng = input(\"Eng\")\n",
    "    math = input(\"Math\")    \n",
    "    science = input(\"Science\")    \n",
    "    \n",
    "    cur.execute('insert into STUDENT values(?,?,?,?)', (name,eng,math,science))\n",
    "    con.commit()\n",
    "\n",
    "    result = cur.execute('select * from STUDENT')\n",
    "    for row in result:\n",
    "        print(row)\n",
    "    \n",
    "    con.close()\n",
    "        \n",
    " \n",
    "    "
   ]
  },
  {
   "cell_type": "code",
   "execution_count": 24,
   "id": "6f8ae348",
   "metadata": {},
   "outputs": [
    {
     "data": {
      "text/plain": [
       "<function __main__.student_marks()>"
      ]
     },
     "execution_count": 24,
     "metadata": {},
     "output_type": "execute_result"
    }
   ],
   "source": [
    "student_marks"
   ]
  },
  {
   "cell_type": "code",
   "execution_count": 33,
   "id": "681ab8cc",
   "metadata": {},
   "outputs": [
    {
     "name": "stdout",
     "output_type": "stream",
     "text": [
      "Table Created...\n",
      "----------------------------------------------------------------------------------------------------------------------------------------------------------------\n",
      "Enter student name Ria\n",
      "Eng10\n",
      "Math20\n",
      "Science30\n"
     ]
    },
    {
     "ename": "OperationalError",
     "evalue": "database is locked",
     "output_type": "error",
     "traceback": [
      "\u001b[1;31m---------------------------------------------------------------------------\u001b[0m",
      "\u001b[1;31mOperationalError\u001b[0m                          Traceback (most recent call last)",
      "\u001b[1;32m<ipython-input-33-cc4364f720dd>\u001b[0m in \u001b[0;36m<module>\u001b[1;34m\u001b[0m\n\u001b[1;32m----> 1\u001b[1;33m \u001b[0mstudent_marks\u001b[0m\u001b[1;33m(\u001b[0m\u001b[1;33m)\u001b[0m\u001b[1;33m\u001b[0m\u001b[1;33m\u001b[0m\u001b[0m\n\u001b[0m",
      "\u001b[1;32m<ipython-input-32-fd63bf238881>\u001b[0m in \u001b[0;36mstudent_marks\u001b[1;34m()\u001b[0m\n\u001b[0;32m     14\u001b[0m     \u001b[0mscience\u001b[0m \u001b[1;33m=\u001b[0m \u001b[0minput\u001b[0m\u001b[1;33m(\u001b[0m\u001b[1;34m\"Science\"\u001b[0m\u001b[1;33m)\u001b[0m\u001b[1;33m\u001b[0m\u001b[1;33m\u001b[0m\u001b[0m\n\u001b[0;32m     15\u001b[0m \u001b[1;33m\u001b[0m\u001b[0m\n\u001b[1;32m---> 16\u001b[1;33m     \u001b[0mcur\u001b[0m\u001b[1;33m.\u001b[0m\u001b[0mexecute\u001b[0m\u001b[1;33m(\u001b[0m\u001b[1;34m'insert into STUDENT values(?,?,?,?)'\u001b[0m\u001b[1;33m,\u001b[0m \u001b[1;33m(\u001b[0m\u001b[0mname\u001b[0m\u001b[1;33m,\u001b[0m\u001b[0meng\u001b[0m\u001b[1;33m,\u001b[0m\u001b[0mmath\u001b[0m\u001b[1;33m,\u001b[0m\u001b[0mscience\u001b[0m\u001b[1;33m)\u001b[0m\u001b[1;33m)\u001b[0m\u001b[1;33m\u001b[0m\u001b[1;33m\u001b[0m\u001b[0m\n\u001b[0m\u001b[0;32m     17\u001b[0m     \u001b[0mcon\u001b[0m\u001b[1;33m.\u001b[0m\u001b[0mcommit\u001b[0m\u001b[1;33m(\u001b[0m\u001b[1;33m)\u001b[0m\u001b[1;33m\u001b[0m\u001b[1;33m\u001b[0m\u001b[0m\n\u001b[0;32m     18\u001b[0m \u001b[1;33m\u001b[0m\u001b[0m\n",
      "\u001b[1;31mOperationalError\u001b[0m: database is locked"
     ]
    }
   ],
   "source": [
    "student_marks()"
   ]
  },
  {
   "cell_type": "code",
   "execution_count": 35,
   "id": "11f3a477",
   "metadata": {},
   "outputs": [
    {
     "data": {
      "text/plain": [
       "10.0"
      ]
     },
     "execution_count": 35,
     "metadata": {},
     "output_type": "execute_result"
    }
   ],
   "source": [
    "n = 10 \n",
    "m  = 100 \n",
    "\n",
    "marks = (n / m)*100\n",
    "marks"
   ]
  },
  {
   "cell_type": "code",
   "execution_count": null,
   "id": "7e9f5232",
   "metadata": {},
   "outputs": [],
   "source": [
    "e = \n",
    "total = 300"
   ]
  }
 ],
 "metadata": {
  "kernelspec": {
   "display_name": "Python 3",
   "language": "python",
   "name": "python3"
  },
  "language_info": {
   "codemirror_mode": {
    "name": "ipython",
    "version": 3
   },
   "file_extension": ".py",
   "mimetype": "text/x-python",
   "name": "python",
   "nbconvert_exporter": "python",
   "pygments_lexer": "ipython3",
   "version": "3.9.6"
  }
 },
 "nbformat": 4,
 "nbformat_minor": 5
}
