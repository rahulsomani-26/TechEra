{
 "cells": [
  {
   "cell_type": "markdown",
   "id": "da4bba90",
   "metadata": {},
   "source": [
    "# List Comprehension\n",
    "\n",
    "`` Is a short way to create list ``\n",
    "\n",
    "`` Syntax : \n",
    "      [expression for item in iterable if condition==True ] ``"
   ]
  },
  {
   "cell_type": "code",
   "execution_count": 1,
   "id": "6482d719",
   "metadata": {},
   "outputs": [],
   "source": [
    "l = []\n",
    "for item in \"Rahul\":\n",
    "    l.append(item)\n",
    "    "
   ]
  },
  {
   "cell_type": "code",
   "execution_count": 2,
   "id": "f8113db3",
   "metadata": {},
   "outputs": [
    {
     "data": {
      "text/plain": [
       "['R', 'a', 'h', 'u', 'l']"
      ]
     },
     "execution_count": 2,
     "metadata": {},
     "output_type": "execute_result"
    }
   ],
   "source": [
    "l"
   ]
  },
  {
   "cell_type": "code",
   "execution_count": 3,
   "id": "a4ab4f26",
   "metadata": {},
   "outputs": [
    {
     "data": {
      "text/plain": [
       "['R', 'a', 'h', 'u', 'l']"
      ]
     },
     "execution_count": 3,
     "metadata": {},
     "output_type": "execute_result"
    }
   ],
   "source": [
    "[ item for item in \"Rahul\" ]"
   ]
  },
  {
   "cell_type": "code",
   "execution_count": 4,
   "id": "f5fd438e",
   "metadata": {},
   "outputs": [],
   "source": [
    "fruit_basket = ['apple','banana','cherry','kiwi','mango']\n",
    "mylist=[]\n",
    "\n",
    "for fruit in fruit_basket:\n",
    "    mylist.append(fruit)"
   ]
  },
  {
   "cell_type": "code",
   "execution_count": 5,
   "id": "e3ccbe06",
   "metadata": {},
   "outputs": [
    {
     "data": {
      "text/plain": [
       "['apple', 'banana', 'cherry', 'kiwi', 'mango']"
      ]
     },
     "execution_count": 5,
     "metadata": {},
     "output_type": "execute_result"
    }
   ],
   "source": [
    "mylist"
   ]
  },
  {
   "cell_type": "code",
   "execution_count": 6,
   "id": "caf0a814",
   "metadata": {},
   "outputs": [
    {
     "data": {
      "text/plain": [
       "['apple', 'banana', 'cherry', 'kiwi', 'mango']"
      ]
     },
     "execution_count": 6,
     "metadata": {},
     "output_type": "execute_result"
    }
   ],
   "source": [
    "[fruit for fruit in fruit_basket]"
   ]
  },
  {
   "cell_type": "code",
   "execution_count": 7,
   "id": "62aa3114",
   "metadata": {},
   "outputs": [],
   "source": [
    "fruit_basket = ['apple','banana','cherry','kiwi','mango']\n",
    "fruit_list=[]\n",
    "for fruit in fruit_basket:\n",
    "    if 'a' in fruit:\n",
    "        fruit_list.append(fruit)"
   ]
  },
  {
   "cell_type": "code",
   "execution_count": 8,
   "id": "b0bbae79",
   "metadata": {},
   "outputs": [
    {
     "data": {
      "text/plain": [
       "['apple', 'banana', 'mango']"
      ]
     },
     "execution_count": 8,
     "metadata": {},
     "output_type": "execute_result"
    }
   ],
   "source": [
    "fruit_list"
   ]
  },
  {
   "cell_type": "code",
   "execution_count": 9,
   "id": "549d055b",
   "metadata": {},
   "outputs": [
    {
     "data": {
      "text/plain": [
       "['apple', 'banana', 'mango']"
      ]
     },
     "execution_count": 9,
     "metadata": {},
     "output_type": "execute_result"
    }
   ],
   "source": [
    "[item for item in fruit_basket if 'a' in item]"
   ]
  },
  {
   "cell_type": "markdown",
   "id": "0a4cea84",
   "metadata": {},
   "source": [
    "`` wap to generate a list of even numbers using list comprehension ``"
   ]
  },
  {
   "cell_type": "code",
   "execution_count": 13,
   "id": "6677f6fc",
   "metadata": {},
   "outputs": [],
   "source": [
    "l = [1,2,3]\n",
    "m=l.__iter__()"
   ]
  },
  {
   "cell_type": "code",
   "execution_count": 14,
   "id": "cdc3b76a",
   "metadata": {},
   "outputs": [
    {
     "data": {
      "text/plain": [
       "<list_iterator at 0x28d0863fa90>"
      ]
     },
     "execution_count": 14,
     "metadata": {},
     "output_type": "execute_result"
    }
   ],
   "source": [
    "m"
   ]
  },
  {
   "cell_type": "code",
   "execution_count": 15,
   "id": "45c41881",
   "metadata": {},
   "outputs": [
    {
     "data": {
      "text/plain": [
       "1"
      ]
     },
     "execution_count": 15,
     "metadata": {},
     "output_type": "execute_result"
    }
   ],
   "source": [
    "next(m)"
   ]
  },
  {
   "cell_type": "code",
   "execution_count": 17,
   "id": "b275e705",
   "metadata": {},
   "outputs": [
    {
     "data": {
      "text/plain": [
       "2"
      ]
     },
     "execution_count": 17,
     "metadata": {},
     "output_type": "execute_result"
    }
   ],
   "source": [
    "m.__next__()"
   ]
  },
  {
   "cell_type": "code",
   "execution_count": 18,
   "id": "be5be7a4",
   "metadata": {},
   "outputs": [
    {
     "data": {
      "text/plain": [
       "3"
      ]
     },
     "execution_count": 18,
     "metadata": {},
     "output_type": "execute_result"
    }
   ],
   "source": [
    "m.__next__()"
   ]
  },
  {
   "cell_type": "code",
   "execution_count": 19,
   "id": "dd828fbf",
   "metadata": {},
   "outputs": [
    {
     "ename": "StopIteration",
     "evalue": "",
     "output_type": "error",
     "traceback": [
      "\u001b[1;31m---------------------------------------------------------------------------\u001b[0m",
      "\u001b[1;31mStopIteration\u001b[0m                             Traceback (most recent call last)",
      "\u001b[1;32m<ipython-input-19-265c00c4031f>\u001b[0m in \u001b[0;36m<module>\u001b[1;34m\u001b[0m\n\u001b[1;32m----> 1\u001b[1;33m \u001b[0mm\u001b[0m\u001b[1;33m.\u001b[0m\u001b[0m__next__\u001b[0m\u001b[1;33m(\u001b[0m\u001b[1;33m)\u001b[0m\u001b[1;33m\u001b[0m\u001b[1;33m\u001b[0m\u001b[0m\n\u001b[0m",
      "\u001b[1;31mStopIteration\u001b[0m: "
     ]
    }
   ],
   "source": [
    "m.__next__()"
   ]
  },
  {
   "cell_type": "code",
   "execution_count": 22,
   "id": "428e468b",
   "metadata": {},
   "outputs": [
    {
     "data": {
      "text/plain": [
       "[2, 4, 6, 8, 10, 12, 14, 16, 18, 20, 22, 24, 26, 28]"
      ]
     },
     "execution_count": 22,
     "metadata": {},
     "output_type": "execute_result"
    }
   ],
   "source": [
    "[i for i in range(1,30) if i%2==0]"
   ]
  },
  {
   "cell_type": "code",
   "execution_count": 24,
   "id": "4dd12a25",
   "metadata": {},
   "outputs": [
    {
     "data": {
      "text/plain": [
       "[1, 4, 9, 16, 25, 36, 49, 64, 81]"
      ]
     },
     "execution_count": 24,
     "metadata": {},
     "output_type": "execute_result"
    }
   ],
   "source": [
    "[val**2 for val in range(1,10)]"
   ]
  },
  {
   "cell_type": "code",
   "execution_count": 30,
   "id": "f43115ef",
   "metadata": {},
   "outputs": [],
   "source": [
    "from time import time"
   ]
  },
  {
   "cell_type": "code",
   "execution_count": 31,
   "id": "5a49fe81",
   "metadata": {},
   "outputs": [
    {
     "data": {
      "text/plain": [
       "1634023157.6858456"
      ]
     },
     "execution_count": 31,
     "metadata": {},
     "output_type": "execute_result"
    }
   ],
   "source": [
    "time()"
   ]
  },
  {
   "cell_type": "code",
   "execution_count": 38,
   "id": "37680b84",
   "metadata": {},
   "outputs": [
    {
     "name": "stdout",
     "output_type": "stream",
     "text": [
      "Time taken = 0.029000043869018555 seconds \n"
     ]
    }
   ],
   "source": [
    "l=[]\n",
    "start = time()\n",
    "for i in range(100000):\n",
    "    l.append(i)\n",
    "end = time()\n",
    "print(\"Time taken = {} seconds \".format(end-start))\n",
    "    "
   ]
  },
  {
   "cell_type": "code",
   "execution_count": 37,
   "id": "6e8f8a12",
   "metadata": {},
   "outputs": [
    {
     "name": "stdout",
     "output_type": "stream",
     "text": [
      "Time taken = 0.010000467300415039 seconds \n"
     ]
    }
   ],
   "source": [
    "start = time()\n",
    "temp=[i for i in range(100000)]\n",
    "end = time()\n",
    "# print(temp)\n",
    "print(\"Time taken = {} seconds \".format(end-start))\n",
    "\n"
   ]
  },
  {
   "cell_type": "code",
   "execution_count": 43,
   "id": "be3fbbb3",
   "metadata": {},
   "outputs": [
    {
     "data": {
      "text/plain": [
       "('First', str)"
      ]
     },
     "execution_count": 43,
     "metadata": {},
     "output_type": "execute_result"
    }
   ],
   "source": [
    "l = ['First','second','third','fourth']\n",
    "l[0], type(l[0])"
   ]
  },
  {
   "cell_type": "code",
   "execution_count": 44,
   "id": "27cdece6",
   "metadata": {},
   "outputs": [
    {
     "data": {
      "text/plain": [
       "'FIRST'"
      ]
     },
     "execution_count": 44,
     "metadata": {},
     "output_type": "execute_result"
    }
   ],
   "source": [
    "l[0].upper()"
   ]
  },
  {
   "cell_type": "code",
   "execution_count": 45,
   "id": "afe94379",
   "metadata": {},
   "outputs": [
    {
     "data": {
      "text/plain": [
       "False"
      ]
     },
     "execution_count": 45,
     "metadata": {},
     "output_type": "execute_result"
    }
   ],
   "source": [
    "l[0].isupper()"
   ]
  },
  {
   "cell_type": "markdown",
   "id": "27d183db",
   "metadata": {},
   "source": [
    "`` generate a list of elements using comprehensions where all the elements are first converted to uppercase ``"
   ]
  },
  {
   "cell_type": "code",
   "execution_count": 46,
   "id": "4fa02f2b",
   "metadata": {},
   "outputs": [
    {
     "data": {
      "text/plain": [
       "'Rahul somani'"
      ]
     },
     "execution_count": 46,
     "metadata": {},
     "output_type": "execute_result"
    }
   ],
   "source": [
    "\"rahul somani\".capitalize()"
   ]
  },
  {
   "cell_type": "code",
   "execution_count": 47,
   "id": "f237ebd8",
   "metadata": {},
   "outputs": [
    {
     "data": {
      "text/plain": [
       "'Rahul Somani'"
      ]
     },
     "execution_count": 47,
     "metadata": {},
     "output_type": "execute_result"
    }
   ],
   "source": [
    "\"rahul somani\".title()"
   ]
  },
  {
   "cell_type": "code",
   "execution_count": 48,
   "id": "71f16f8a",
   "metadata": {},
   "outputs": [
    {
     "data": {
      "text/plain": [
       "['Rahul somani', 'Amit singh', 'Naina singh', 'Ratnesh chaudhary']"
      ]
     },
     "execution_count": 48,
     "metadata": {},
     "output_type": "execute_result"
    }
   ],
   "source": [
    "[item.capitalize() for item in ['rahul somani','amit singh','naina singh','ratnesh Chaudhary'] ]"
   ]
  },
  {
   "cell_type": "code",
   "execution_count": 49,
   "id": "06c75d89",
   "metadata": {},
   "outputs": [],
   "source": [
    "l = [1,2,3]\n",
    "t = 100,200,300,400\n",
    "s = \"Placify\"\n"
   ]
  },
  {
   "cell_type": "code",
   "execution_count": 50,
   "id": "79df47f7",
   "metadata": {},
   "outputs": [
    {
     "data": {
      "text/plain": [
       "(1, 2)"
      ]
     },
     "execution_count": 50,
     "metadata": {},
     "output_type": "execute_result"
    }
   ],
   "source": [
    "l[0], l.__getitem__(1)"
   ]
  },
  {
   "cell_type": "code",
   "execution_count": 51,
   "id": "477197b7",
   "metadata": {},
   "outputs": [
    {
     "data": {
      "text/plain": [
       "(100, 200)"
      ]
     },
     "execution_count": 51,
     "metadata": {},
     "output_type": "execute_result"
    }
   ],
   "source": [
    "t[0], t.__getitem__(1)"
   ]
  },
  {
   "cell_type": "code",
   "execution_count": 52,
   "id": "94204b5f",
   "metadata": {},
   "outputs": [
    {
     "data": {
      "text/plain": [
       "('P', 'l')"
      ]
     },
     "execution_count": 52,
     "metadata": {},
     "output_type": "execute_result"
    }
   ],
   "source": [
    "s[0], s.__getitem__(1)"
   ]
  },
  {
   "cell_type": "code",
   "execution_count": 53,
   "id": "c018ef75",
   "metadata": {},
   "outputs": [
    {
     "name": "stdout",
     "output_type": "stream",
     "text": [
      "1\n",
      "2\n",
      "3\n"
     ]
    }
   ],
   "source": [
    "for i in l:\n",
    "    print(i)"
   ]
  },
  {
   "cell_type": "code",
   "execution_count": 56,
   "id": "f9386592",
   "metadata": {},
   "outputs": [
    {
     "name": "stdout",
     "output_type": "stream",
     "text": [
      "100\n",
      "200\n",
      "300\n",
      "400\n"
     ]
    }
   ],
   "source": [
    "for i in t:\n",
    "    print(i)"
   ]
  },
  {
   "cell_type": "code",
   "execution_count": 57,
   "id": "502716bc",
   "metadata": {},
   "outputs": [
    {
     "name": "stdout",
     "output_type": "stream",
     "text": [
      "P\n",
      "l\n",
      "a\n",
      "c\n",
      "i\n",
      "f\n",
      "y\n"
     ]
    }
   ],
   "source": [
    "for i in s:\n",
    "    print(i)"
   ]
  },
  {
   "cell_type": "code",
   "execution_count": 59,
   "id": "e4d3fded",
   "metadata": {},
   "outputs": [
    {
     "name": "stdout",
     "output_type": "stream",
     "text": [
      "0 1\n",
      "1 2\n",
      "2 3\n"
     ]
    }
   ],
   "source": [
    "for item in range(len(l)):\n",
    "    print(item,l[item])\n",
    "    "
   ]
  },
  {
   "cell_type": "code",
   "execution_count": null,
   "id": "a585763c",
   "metadata": {},
   "outputs": [],
   "source": [
    "l = ['A','B','C','D']\n",
    "print(' Length of the list is {}'.format(len(l)))  # 4 \n",
    "for pos in range(len(l)):  # for pos in range(4) --> [0,1,2,3]\n",
    "    print(' Index Number = {} and Item = {}'.format(pos,l[pos]))\n",
    "else:\n",
    "    print(\"End of For \")\n",
    "print(\"End of Program\".center(100,'__'))"
   ]
  }
 ],
 "metadata": {
  "kernelspec": {
   "display_name": "Python 3",
   "language": "python",
   "name": "python3"
  },
  "language_info": {
   "codemirror_mode": {
    "name": "ipython",
    "version": 3
   },
   "file_extension": ".py",
   "mimetype": "text/x-python",
   "name": "python",
   "nbconvert_exporter": "python",
   "pygments_lexer": "ipython3",
   "version": "3.9.6"
  }
 },
 "nbformat": 4,
 "nbformat_minor": 5
}
