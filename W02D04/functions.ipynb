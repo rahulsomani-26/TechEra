{
 "cells": [
  {
   "cell_type": "markdown",
   "id": "3d22fb61",
   "metadata": {},
   "source": [
    "# Functions \n",
    "`` Function does something \n",
    "Syntax: def function_name():\n",
    "            statement_1\n",
    "            statement_2``\n",
    "        \n"
   ]
  },
  {
   "cell_type": "code",
   "execution_count": 2,
   "id": "eaf9087d",
   "metadata": {},
   "outputs": [],
   "source": [
    "def my_func():\n",
    "    print(' Wow , within function')\n"
   ]
  },
  {
   "cell_type": "code",
   "execution_count": 3,
   "id": "3faa19ce",
   "metadata": {},
   "outputs": [
    {
     "data": {
      "text/plain": [
       "<function __main__.my_func()>"
      ]
     },
     "execution_count": 3,
     "metadata": {},
     "output_type": "execute_result"
    }
   ],
   "source": [
    "my_func"
   ]
  },
  {
   "cell_type": "code",
   "execution_count": 4,
   "id": "c816ec89",
   "metadata": {},
   "outputs": [
    {
     "name": "stdout",
     "output_type": "stream",
     "text": [
      "Help on function my_func in module __main__:\n",
      "\n",
      "my_func()\n",
      "\n"
     ]
    }
   ],
   "source": [
    "help(my_func)"
   ]
  },
  {
   "cell_type": "code",
   "execution_count": 5,
   "id": "bc52f6e1",
   "metadata": {},
   "outputs": [
    {
     "data": {
      "text/plain": [
       "1888437760064"
      ]
     },
     "execution_count": 5,
     "metadata": {},
     "output_type": "execute_result"
    }
   ],
   "source": [
    "id(my_func)"
   ]
  },
  {
   "cell_type": "code",
   "execution_count": 6,
   "id": "5716c07d",
   "metadata": {},
   "outputs": [
    {
     "ename": "TypeError",
     "evalue": "my_func() takes 0 positional arguments but 2 were given",
     "output_type": "error",
     "traceback": [
      "\u001b[1;31m---------------------------------------------------------------------------\u001b[0m",
      "\u001b[1;31mTypeError\u001b[0m                                 Traceback (most recent call last)",
      "\u001b[1;32m<ipython-input-6-e2e1b89bea64>\u001b[0m in \u001b[0;36m<module>\u001b[1;34m\u001b[0m\n\u001b[1;32m----> 1\u001b[1;33m \u001b[0mmy_func\u001b[0m\u001b[1;33m(\u001b[0m\u001b[1;36m1\u001b[0m\u001b[1;33m,\u001b[0m\u001b[1;36m2\u001b[0m\u001b[1;33m)\u001b[0m\u001b[1;33m\u001b[0m\u001b[1;33m\u001b[0m\u001b[0m\n\u001b[0m",
      "\u001b[1;31mTypeError\u001b[0m: my_func() takes 0 positional arguments but 2 were given"
     ]
    }
   ],
   "source": [
    "my_func(1,2)"
   ]
  },
  {
   "cell_type": "code",
   "execution_count": 7,
   "id": "d09d165a",
   "metadata": {},
   "outputs": [
    {
     "name": "stdout",
     "output_type": "stream",
     "text": [
      " Wow , within function\n"
     ]
    }
   ],
   "source": [
    "my_func()"
   ]
  },
  {
   "cell_type": "code",
   "execution_count": 8,
   "id": "22ccd749",
   "metadata": {},
   "outputs": [],
   "source": [
    "def adder(a,b):\n",
    "    result = a+b\n",
    "    return result"
   ]
  },
  {
   "cell_type": "code",
   "execution_count": 9,
   "id": "c455e759",
   "metadata": {},
   "outputs": [
    {
     "data": {
      "text/plain": [
       "<function __main__.adder(a, b)>"
      ]
     },
     "execution_count": 9,
     "metadata": {},
     "output_type": "execute_result"
    }
   ],
   "source": [
    "adder"
   ]
  },
  {
   "cell_type": "code",
   "execution_count": 10,
   "id": "dfa7fc39",
   "metadata": {},
   "outputs": [
    {
     "name": "stdout",
     "output_type": "stream",
     "text": [
      "Help on function adder in module __main__:\n",
      "\n",
      "adder(a, b)\n",
      "\n"
     ]
    }
   ],
   "source": [
    "help(adder)"
   ]
  },
  {
   "cell_type": "code",
   "execution_count": 12,
   "id": "0801f662",
   "metadata": {},
   "outputs": [
    {
     "data": {
      "text/plain": [
       "5"
      ]
     },
     "execution_count": 12,
     "metadata": {},
     "output_type": "execute_result"
    }
   ],
   "source": [
    "adder(2,3)"
   ]
  },
  {
   "cell_type": "code",
   "execution_count": 13,
   "id": "247d7d19",
   "metadata": {},
   "outputs": [
    {
     "name": "stdout",
     "output_type": "stream",
     "text": [
      "7\n"
     ]
    }
   ],
   "source": [
    "print(adder(5,2))"
   ]
  },
  {
   "cell_type": "code",
   "execution_count": 14,
   "id": "73a56bc8",
   "metadata": {},
   "outputs": [],
   "source": [
    "def adder(a,b):\n",
    "    \"\"\"\n",
    "     adder takes into two integers and\n",
    "     returns the sum of the two numbers\n",
    "    \"\"\"\n",
    "    result = a+b\n",
    "    return result"
   ]
  },
  {
   "cell_type": "code",
   "execution_count": 15,
   "id": "a36bb319",
   "metadata": {},
   "outputs": [
    {
     "data": {
      "text/plain": [
       "<function __main__.adder(a, b)>"
      ]
     },
     "execution_count": 15,
     "metadata": {},
     "output_type": "execute_result"
    }
   ],
   "source": [
    "adder"
   ]
  },
  {
   "cell_type": "code",
   "execution_count": 16,
   "id": "3450328e",
   "metadata": {},
   "outputs": [
    {
     "name": "stdout",
     "output_type": "stream",
     "text": [
      "Help on function adder in module __main__:\n",
      "\n",
      "adder(a, b)\n",
      "    adder takes into two integers and\n",
      "    returns the sum of the two numbers\n",
      "\n"
     ]
    }
   ],
   "source": [
    "help(adder)"
   ]
  },
  {
   "cell_type": "markdown",
   "id": "931f6ad3",
   "metadata": {},
   "source": [
    "`` Define a function, give it an meaningful name \n",
    "   The function should accept two arguments \n",
    "    and return the multiplication of the numbers. You should also use docstrings to \n",
    "make the function more readable for the user ``"
   ]
  },
  {
   "cell_type": "code",
   "execution_count": 17,
   "id": "e831b6d9",
   "metadata": {},
   "outputs": [],
   "source": [
    "def power(num,exponent):\n",
    "    \"\"\"\n",
    "       Gives the power of num raised to exponent \n",
    "       if exponent = 0 returns 1\n",
    "     \"\"\"\n",
    "    if exponent ==0:\n",
    "        return 1\n",
    "    else:\n",
    "        return num**exponent"
   ]
  },
  {
   "cell_type": "code",
   "execution_count": 18,
   "id": "988b153d",
   "metadata": {},
   "outputs": [
    {
     "data": {
      "text/plain": [
       "<function __main__.power(num, exponent)>"
      ]
     },
     "execution_count": 18,
     "metadata": {},
     "output_type": "execute_result"
    }
   ],
   "source": [
    "power"
   ]
  },
  {
   "cell_type": "code",
   "execution_count": 19,
   "id": "240543ae",
   "metadata": {},
   "outputs": [
    {
     "name": "stdout",
     "output_type": "stream",
     "text": [
      "Help on function power in module __main__:\n",
      "\n",
      "power(num, exponent)\n",
      "    Gives the power of num raised to exponent \n",
      "    if exponent = 0 returns 1\n",
      "\n"
     ]
    }
   ],
   "source": [
    "help(power)"
   ]
  },
  {
   "cell_type": "code",
   "execution_count": 20,
   "id": "e0277c52",
   "metadata": {},
   "outputs": [
    {
     "data": {
      "text/plain": [
       "1"
      ]
     },
     "execution_count": 20,
     "metadata": {},
     "output_type": "execute_result"
    }
   ],
   "source": [
    "power(2,0)"
   ]
  },
  {
   "cell_type": "code",
   "execution_count": 21,
   "id": "a1f96f92",
   "metadata": {},
   "outputs": [
    {
     "data": {
      "text/plain": [
       "1"
      ]
     },
     "execution_count": 21,
     "metadata": {},
     "output_type": "execute_result"
    }
   ],
   "source": [
    "2**0"
   ]
  },
  {
   "cell_type": "code",
   "execution_count": 22,
   "id": "49a53ca1",
   "metadata": {},
   "outputs": [
    {
     "data": {
      "text/plain": [
       "0.015625"
      ]
     },
     "execution_count": 22,
     "metadata": {},
     "output_type": "execute_result"
    }
   ],
   "source": [
    "# 8\n",
    "8**-2  "
   ]
  },
  {
   "cell_type": "code",
   "execution_count": 23,
   "id": "6e83d4f3",
   "metadata": {},
   "outputs": [
    {
     "data": {
      "text/plain": [
       "0.015625"
      ]
     },
     "execution_count": 23,
     "metadata": {},
     "output_type": "execute_result"
    }
   ],
   "source": [
    "1/64"
   ]
  },
  {
   "cell_type": "code",
   "execution_count": 24,
   "id": "3ba9551c",
   "metadata": {},
   "outputs": [
    {
     "data": {
      "text/plain": [
       "0.25"
      ]
     },
     "execution_count": 24,
     "metadata": {},
     "output_type": "execute_result"
    }
   ],
   "source": [
    "power(2,-2)"
   ]
  },
  {
   "cell_type": "code",
   "execution_count": 28,
   "id": "f67b6f3f",
   "metadata": {},
   "outputs": [
    {
     "data": {
      "text/plain": [
       "<function __main__.power(num, exponent)>"
      ]
     },
     "execution_count": 28,
     "metadata": {},
     "output_type": "execute_result"
    }
   ],
   "source": [
    "power"
   ]
  },
  {
   "cell_type": "code",
   "execution_count": 29,
   "id": "0dc14bf1",
   "metadata": {},
   "outputs": [
    {
     "name": "stdout",
     "output_type": "stream",
     "text": [
      "['__annotations__', '__call__', '__class__', '__closure__', '__code__', '__defaults__', '__delattr__', '__dict__', '__dir__', '__doc__', '__eq__', '__format__', '__ge__', '__get__', '__getattribute__', '__globals__', '__gt__', '__hash__', '__init__', '__init_subclass__', '__kwdefaults__', '__le__', '__lt__', '__module__', '__name__', '__ne__', '__new__', '__qualname__', '__reduce__', '__reduce_ex__', '__repr__', '__setattr__', '__sizeof__', '__str__', '__subclasshook__']\n"
     ]
    }
   ],
   "source": [
    "print(dir(power))"
   ]
  },
  {
   "cell_type": "code",
   "execution_count": 30,
   "id": "92a6d19d",
   "metadata": {},
   "outputs": [
    {
     "name": "stdout",
     "output_type": "stream",
     "text": [
      "Help on function power in module __main__:\n",
      "\n",
      "power(num, exponent)\n",
      "    Gives the power of num raised to exponent \n",
      "    if exponent = 0 returns 1\n",
      "\n"
     ]
    }
   ],
   "source": [
    "help(power)"
   ]
  },
  {
   "cell_type": "code",
   "execution_count": 31,
   "id": "00cd2d71",
   "metadata": {},
   "outputs": [
    {
     "data": {
      "text/plain": [
       "'\\n       Gives the power of num raised to exponent \\n       if exponent = 0 returns 1\\n     '"
      ]
     },
     "execution_count": 31,
     "metadata": {},
     "output_type": "execute_result"
    }
   ],
   "source": [
    "power.__doc__"
   ]
  },
  {
   "cell_type": "code",
   "execution_count": 32,
   "id": "4ba93888",
   "metadata": {},
   "outputs": [
    {
     "data": {
      "text/plain": [
       "<function sorted(iterable, /, *, key=None, reverse=False)>"
      ]
     },
     "execution_count": 32,
     "metadata": {},
     "output_type": "execute_result"
    }
   ],
   "source": [
    "sorted"
   ]
  },
  {
   "cell_type": "code",
   "execution_count": 33,
   "id": "c57424da",
   "metadata": {},
   "outputs": [
    {
     "name": "stdout",
     "output_type": "stream",
     "text": [
      "Help on built-in function sorted in module builtins:\n",
      "\n",
      "sorted(iterable, /, *, key=None, reverse=False)\n",
      "    Return a new list containing all items from the iterable in ascending order.\n",
      "    \n",
      "    A custom key function can be supplied to customize the sort order, and the\n",
      "    reverse flag can be set to request the result in descending order.\n",
      "\n"
     ]
    }
   ],
   "source": [
    "help(sorted)"
   ]
  },
  {
   "cell_type": "code",
   "execution_count": 34,
   "id": "dcdea469",
   "metadata": {},
   "outputs": [
    {
     "data": {
      "text/plain": [
       "'Return a new list containing all items from the iterable in ascending order.\\n\\nA custom key function can be supplied to customize the sort order, and the\\nreverse flag can be set to request the result in descending order.'"
      ]
     },
     "execution_count": 34,
     "metadata": {},
     "output_type": "execute_result"
    }
   ],
   "source": [
    "sorted.__doc__"
   ]
  },
  {
   "cell_type": "code",
   "execution_count": 46,
   "id": "85d5bf4c",
   "metadata": {},
   "outputs": [],
   "source": [
    "def factorial(num):\n",
    "    if num <0 :\n",
    "        return 'Negative number'\n",
    "    if num == 0 or num == 1:\n",
    "        return 1\n",
    "    else:\n",
    "#         return 'wait i am calulcating'\n",
    "        result = 1\n",
    "        while num >=1:\n",
    "            result = result * num \n",
    "            num = num - 1\n",
    "            return f' The factorial = {result}'\n",
    "    \n",
    "        "
   ]
  },
  {
   "cell_type": "code",
   "execution_count": 47,
   "id": "21b3f893",
   "metadata": {},
   "outputs": [
    {
     "data": {
      "text/plain": [
       "' The factorial of 3'"
      ]
     },
     "execution_count": 47,
     "metadata": {},
     "output_type": "execute_result"
    }
   ],
   "source": [
    "factorial(3)"
   ]
  },
  {
   "cell_type": "code",
   "execution_count": 42,
   "id": "fea86c09",
   "metadata": {},
   "outputs": [
    {
     "data": {
      "text/plain": [
       "'Negative number'"
      ]
     },
     "execution_count": 42,
     "metadata": {},
     "output_type": "execute_result"
    }
   ],
   "source": [
    "factorial(-3)"
   ]
  },
  {
   "cell_type": "code",
   "execution_count": 48,
   "id": "48ad4d38",
   "metadata": {},
   "outputs": [],
   "source": [
    "def factorial(num):\n",
    "    if num == 0 :\n",
    "        return 1\n",
    "    else:\n",
    "#         return 'wait i am calulcating'\n",
    "        result = 1\n",
    "        while num > 1:\n",
    "            result = result * num \n",
    "            num = num - 1\n",
    "        print(result)\n",
    "    "
   ]
  },
  {
   "cell_type": "code",
   "execution_count": 54,
   "id": "4afaf237",
   "metadata": {},
   "outputs": [
    {
     "name": "stdout",
     "output_type": "stream",
     "text": [
      "1\n"
     ]
    }
   ],
   "source": [
    "factorial(-5)"
   ]
  },
  {
   "cell_type": "code",
   "execution_count": 55,
   "id": "64a0c501",
   "metadata": {},
   "outputs": [],
   "source": [
    "def print_name(name):\n",
    "    print('Hello {}'.format(name))\n",
    "    "
   ]
  },
  {
   "cell_type": "code",
   "execution_count": 56,
   "id": "b49f2d54",
   "metadata": {},
   "outputs": [
    {
     "data": {
      "text/plain": [
       "<function __main__.print_name(name)>"
      ]
     },
     "execution_count": 56,
     "metadata": {},
     "output_type": "execute_result"
    }
   ],
   "source": [
    "print_name"
   ]
  },
  {
   "cell_type": "code",
   "execution_count": 57,
   "id": "800ce59c",
   "metadata": {},
   "outputs": [
    {
     "ename": "TypeError",
     "evalue": "print_name() missing 1 required positional argument: 'name'",
     "output_type": "error",
     "traceback": [
      "\u001b[1;31m---------------------------------------------------------------------------\u001b[0m",
      "\u001b[1;31mTypeError\u001b[0m                                 Traceback (most recent call last)",
      "\u001b[1;32m<ipython-input-57-43fda9c5862d>\u001b[0m in \u001b[0;36m<module>\u001b[1;34m\u001b[0m\n\u001b[1;32m----> 1\u001b[1;33m \u001b[0mprint_name\u001b[0m\u001b[1;33m(\u001b[0m\u001b[1;33m)\u001b[0m\u001b[1;33m\u001b[0m\u001b[1;33m\u001b[0m\u001b[0m\n\u001b[0m",
      "\u001b[1;31mTypeError\u001b[0m: print_name() missing 1 required positional argument: 'name'"
     ]
    }
   ],
   "source": [
    "print_name()"
   ]
  },
  {
   "cell_type": "code",
   "execution_count": 58,
   "id": "096c13dd",
   "metadata": {},
   "outputs": [
    {
     "name": "stdout",
     "output_type": "stream",
     "text": [
      "Hello Rahul Somani\n"
     ]
    }
   ],
   "source": [
    "print_name(\"Rahul Somani\")"
   ]
  },
  {
   "cell_type": "code",
   "execution_count": 59,
   "id": "6bbe7ad1",
   "metadata": {},
   "outputs": [],
   "source": [
    "def friend_list(seq):\n",
    "    print(seq)\n",
    "    "
   ]
  },
  {
   "cell_type": "code",
   "execution_count": 60,
   "id": "2fcd5e7d",
   "metadata": {},
   "outputs": [
    {
     "name": "stdout",
     "output_type": "stream",
     "text": [
      "1\n"
     ]
    }
   ],
   "source": [
    "friend_list(1)"
   ]
  },
  {
   "cell_type": "code",
   "execution_count": 61,
   "id": "1c755a6f",
   "metadata": {},
   "outputs": [
    {
     "name": "stdout",
     "output_type": "stream",
     "text": [
      "rahul\n"
     ]
    }
   ],
   "source": [
    "  friend_list(\"rahul\" )\n"
   ]
  },
  {
   "cell_type": "code",
   "execution_count": 62,
   "id": "a11a5ae6",
   "metadata": {},
   "outputs": [
    {
     "name": "stdout",
     "output_type": "stream",
     "text": [
      "[1, 2, 3]\n"
     ]
    }
   ],
   "source": [
    "friend_list([1,2,3])"
   ]
  },
  {
   "cell_type": "code",
   "execution_count": 63,
   "id": "62207de5",
   "metadata": {},
   "outputs": [
    {
     "name": "stdout",
     "output_type": "stream",
     "text": [
      "(1, 2, 3)\n"
     ]
    }
   ],
   "source": [
    "friend_list((1,2,3))"
   ]
  },
  {
   "cell_type": "code",
   "execution_count": 64,
   "id": "9648fc15",
   "metadata": {},
   "outputs": [],
   "source": [
    "def friend_list(seq):\n",
    "    \"\"\"\n",
    "    this function requires a sequence to be passed in \n",
    "    and will return the first element from the sequence.\n",
    "    Also, the sequence type should be ordered \n",
    "    \"\"\"\n",
    "    return seq[0]\n",
    "    "
   ]
  },
  {
   "cell_type": "code",
   "execution_count": 65,
   "id": "beea7489",
   "metadata": {},
   "outputs": [
    {
     "ename": "TypeError",
     "evalue": "'int' object is not subscriptable",
     "output_type": "error",
     "traceback": [
      "\u001b[1;31m---------------------------------------------------------------------------\u001b[0m",
      "\u001b[1;31mTypeError\u001b[0m                                 Traceback (most recent call last)",
      "\u001b[1;32m<ipython-input-65-c85b64380aa6>\u001b[0m in \u001b[0;36m<module>\u001b[1;34m\u001b[0m\n\u001b[1;32m----> 1\u001b[1;33m \u001b[0mfriend_list\u001b[0m\u001b[1;33m(\u001b[0m\u001b[1;36m100\u001b[0m\u001b[1;33m)\u001b[0m\u001b[1;33m\u001b[0m\u001b[1;33m\u001b[0m\u001b[0m\n\u001b[0m",
      "\u001b[1;32m<ipython-input-64-becac865d237>\u001b[0m in \u001b[0;36mfriend_list\u001b[1;34m(seq)\u001b[0m\n\u001b[0;32m      5\u001b[0m     \u001b[0mAlso\u001b[0m\u001b[1;33m,\u001b[0m \u001b[0mthe\u001b[0m \u001b[0msequence\u001b[0m \u001b[0mtype\u001b[0m \u001b[0mshould\u001b[0m \u001b[0mbe\u001b[0m \u001b[0mordered\u001b[0m\u001b[1;33m\u001b[0m\u001b[1;33m\u001b[0m\u001b[0m\n\u001b[0;32m      6\u001b[0m     \"\"\"\n\u001b[1;32m----> 7\u001b[1;33m     \u001b[1;32mreturn\u001b[0m \u001b[0mseq\u001b[0m\u001b[1;33m[\u001b[0m\u001b[1;36m0\u001b[0m\u001b[1;33m]\u001b[0m\u001b[1;33m\u001b[0m\u001b[1;33m\u001b[0m\u001b[0m\n\u001b[0m\u001b[0;32m      8\u001b[0m \u001b[1;33m\u001b[0m\u001b[0m\n",
      "\u001b[1;31mTypeError\u001b[0m: 'int' object is not subscriptable"
     ]
    }
   ],
   "source": [
    "friend_list(100)"
   ]
  },
  {
   "cell_type": "code",
   "execution_count": 66,
   "id": "cf18b63e",
   "metadata": {},
   "outputs": [
    {
     "name": "stdout",
     "output_type": "stream",
     "text": [
      "Help on function friend_list in module __main__:\n",
      "\n",
      "friend_list(seq)\n",
      "    this function requires a sequence to be passed in \n",
      "    and will return the first element from the sequence.\n",
      "    Also, the sequence type should be ordered\n",
      "\n"
     ]
    }
   ],
   "source": [
    "help(friend_list)"
   ]
  },
  {
   "cell_type": "code",
   "execution_count": 67,
   "id": "aa00641a",
   "metadata": {},
   "outputs": [
    {
     "data": {
      "text/plain": [
       "100"
      ]
     },
     "execution_count": 67,
     "metadata": {},
     "output_type": "execute_result"
    }
   ],
   "source": [
    "friend_list([100,200,300])"
   ]
  },
  {
   "cell_type": "code",
   "execution_count": 68,
   "id": "48feddaa",
   "metadata": {},
   "outputs": [
    {
     "data": {
      "text/plain": [
       "'Saida'"
      ]
     },
     "execution_count": 68,
     "metadata": {},
     "output_type": "execute_result"
    }
   ],
   "source": [
    "friend_list(('Saida',100,200,300))"
   ]
  },
  {
   "cell_type": "code",
   "execution_count": 69,
   "id": "d61cb773",
   "metadata": {},
   "outputs": [
    {
     "data": {
      "text/plain": [
       "'W'"
      ]
     },
     "execution_count": 69,
     "metadata": {},
     "output_type": "execute_result"
    }
   ],
   "source": [
    "friend_list(\"What is your name\")"
   ]
  },
  {
   "cell_type": "code",
   "execution_count": 70,
   "id": "c607949d",
   "metadata": {},
   "outputs": [
    {
     "data": {
      "text/plain": [
       "'\\n    this function requires a sequence to be passed in \\n    and will return the first element from the sequence.\\n    Also, the sequence type should be ordered \\n    '"
      ]
     },
     "execution_count": 70,
     "metadata": {},
     "output_type": "execute_result"
    }
   ],
   "source": [
    "friend_list.__doc__"
   ]
  },
  {
   "cell_type": "code",
   "execution_count": 71,
   "id": "22cf8be2",
   "metadata": {},
   "outputs": [],
   "source": [
    "l = [1,2,3]\n",
    "s = 'akash'\n",
    "t= 100,200,300,400\n"
   ]
  },
  {
   "cell_type": "code",
   "execution_count": 73,
   "id": "a2bd5d06",
   "metadata": {},
   "outputs": [
    {
     "data": {
      "text/plain": [
       "(3, 3)"
      ]
     },
     "execution_count": 73,
     "metadata": {},
     "output_type": "execute_result"
    }
   ],
   "source": [
    "len(l), l.__len__()"
   ]
  },
  {
   "cell_type": "code",
   "execution_count": 74,
   "id": "f988a37f",
   "metadata": {},
   "outputs": [],
   "source": [
    "friend_list.__doc__ = 'Is it changed'"
   ]
  },
  {
   "cell_type": "code",
   "execution_count": 75,
   "id": "3b414c22",
   "metadata": {},
   "outputs": [
    {
     "name": "stdout",
     "output_type": "stream",
     "text": [
      "Help on function friend_list in module __main__:\n",
      "\n",
      "friend_list(seq)\n",
      "    Is it changed\n",
      "\n"
     ]
    }
   ],
   "source": [
    "help(friend_list)"
   ]
  },
  {
   "cell_type": "code",
   "execution_count": 76,
   "id": "7ab81358",
   "metadata": {},
   "outputs": [],
   "source": [
    "def reverse_me(seq):\n",
    "    return seq[::-1]"
   ]
  },
  {
   "cell_type": "code",
   "execution_count": 77,
   "id": "8c1a0171",
   "metadata": {},
   "outputs": [
    {
     "data": {
      "text/plain": [
       "<function __main__.reverse_me(seq)>"
      ]
     },
     "execution_count": 77,
     "metadata": {},
     "output_type": "execute_result"
    }
   ],
   "source": [
    "reverse_me"
   ]
  },
  {
   "cell_type": "code",
   "execution_count": 78,
   "id": "d4358f53",
   "metadata": {},
   "outputs": [
    {
     "name": "stdout",
     "output_type": "stream",
     "text": [
      "Help on function reverse_me in module __main__:\n",
      "\n",
      "reverse_me(seq)\n",
      "\n"
     ]
    }
   ],
   "source": [
    "help(reverse_me)"
   ]
  },
  {
   "cell_type": "code",
   "execution_count": 79,
   "id": "f920a109",
   "metadata": {},
   "outputs": [],
   "source": [
    "reverse_me.__doc__ = 'It reverses a sequence '"
   ]
  },
  {
   "cell_type": "code",
   "execution_count": 80,
   "id": "bbb70adc",
   "metadata": {},
   "outputs": [
    {
     "name": "stdout",
     "output_type": "stream",
     "text": [
      "Help on function reverse_me in module __main__:\n",
      "\n",
      "reverse_me(seq)\n",
      "    It reverses a sequence\n",
      "\n"
     ]
    }
   ],
   "source": [
    "help(reverse_me)"
   ]
  },
  {
   "cell_type": "code",
   "execution_count": 81,
   "id": "ad4e139f",
   "metadata": {},
   "outputs": [
    {
     "data": {
      "text/plain": [
       "[5, 4, 3, 2, 1]"
      ]
     },
     "execution_count": 81,
     "metadata": {},
     "output_type": "execute_result"
    }
   ],
   "source": [
    "reverse_me([1,2,3,4,5])"
   ]
  },
  {
   "cell_type": "code",
   "execution_count": 82,
   "id": "17626839",
   "metadata": {},
   "outputs": [
    {
     "data": {
      "text/plain": [
       "'Luhar'"
      ]
     },
     "execution_count": 82,
     "metadata": {},
     "output_type": "execute_result"
    }
   ],
   "source": [
    "reverse_me('rahuL')"
   ]
  },
  {
   "cell_type": "code",
   "execution_count": 83,
   "id": "3ce263dc",
   "metadata": {},
   "outputs": [
    {
     "data": {
      "text/plain": [
       "'LUHAR'"
      ]
     },
     "execution_count": 83,
     "metadata": {},
     "output_type": "execute_result"
    }
   ],
   "source": [
    "reverse_me('rahul'.upper())"
   ]
  },
  {
   "cell_type": "code",
   "execution_count": 84,
   "id": "3af432e8",
   "metadata": {},
   "outputs": [],
   "source": [
    "result = 'rahul'.upper()"
   ]
  },
  {
   "cell_type": "code",
   "execution_count": 85,
   "id": "4fd8b859",
   "metadata": {},
   "outputs": [
    {
     "data": {
      "text/plain": [
       "'RAHUL'"
      ]
     },
     "execution_count": 85,
     "metadata": {},
     "output_type": "execute_result"
    }
   ],
   "source": [
    "result"
   ]
  },
  {
   "cell_type": "code",
   "execution_count": 86,
   "id": "b5326f11",
   "metadata": {},
   "outputs": [
    {
     "data": {
      "text/plain": [
       "'LUHAR'"
      ]
     },
     "execution_count": 86,
     "metadata": {},
     "output_type": "execute_result"
    }
   ],
   "source": [
    "reverse_me(result)"
   ]
  },
  {
   "cell_type": "markdown",
   "id": "f03befed",
   "metadata": {},
   "source": [
    "# Positional Arguments \n",
    "`` It is a way of assigning arguments to parameters, via the order they are passed (posiiton)``\n",
    "\n",
    "`` def my_func(name,age):\n",
    "       # codes\n",
    "``\n",
    "`` during function call , my_func('Rahul',35) ----> name -> 'Rahul'\n",
    "    age = 35 ``\n",
    "    \n",
    "``my_func(35,'Rahul')``\n",
    "`` name = 35 , age = 'Rahul'``\n"
   ]
  },
  {
   "cell_type": "code",
   "execution_count": 87,
   "id": "868584c8",
   "metadata": {},
   "outputs": [],
   "source": [
    "def my_func(name,age):\n",
    "    print('Hello {} you are {} years old !! '.format(name,age))"
   ]
  },
  {
   "cell_type": "code",
   "execution_count": 88,
   "id": "ed855672",
   "metadata": {},
   "outputs": [
    {
     "data": {
      "text/plain": [
       "<function __main__.my_func(name, age)>"
      ]
     },
     "execution_count": 88,
     "metadata": {},
     "output_type": "execute_result"
    }
   ],
   "source": [
    "my_func"
   ]
  },
  {
   "cell_type": "code",
   "execution_count": 89,
   "id": "f1941c7f",
   "metadata": {},
   "outputs": [
    {
     "name": "stdout",
     "output_type": "stream",
     "text": [
      "Hello Rahul you are 35 years old !! \n"
     ]
    }
   ],
   "source": [
    "my_func('Rahul',35)"
   ]
  },
  {
   "cell_type": "code",
   "execution_count": 90,
   "id": "767a4019",
   "metadata": {},
   "outputs": [
    {
     "name": "stdout",
     "output_type": "stream",
     "text": [
      "Hello 35 you are Rahul years old !! \n"
     ]
    }
   ],
   "source": [
    "my_func(35,'Rahul')"
   ]
  },
  {
   "cell_type": "markdown",
   "id": "bdf1b94e",
   "metadata": {},
   "source": [
    "# Default values \n",
    "`` A positional argument can be made optional by speciying a default value for the corresponding parameter\n",
    "def my_func(name,age=35):\n",
    "    # code ``\n",
    "    \n",
    "``Function Call`` \n",
    "\n",
    "`` my_func('Rahul', 50)  name= 'Rahul' age=50 ``\n",
    "``my_func('Rahul') name = 'Rahul' age = 35 ``\n"
   ]
  },
  {
   "cell_type": "code",
   "execution_count": 91,
   "id": "e3974761",
   "metadata": {},
   "outputs": [],
   "source": [
    "def my_func(name,age=35):\n",
    "    print(' Hi {} you are {} years old '.format(name,age))"
   ]
  },
  {
   "cell_type": "code",
   "execution_count": 92,
   "id": "d121d1cd",
   "metadata": {},
   "outputs": [
    {
     "data": {
      "text/plain": [
       "<function __main__.my_func(name, age=35)>"
      ]
     },
     "execution_count": 92,
     "metadata": {},
     "output_type": "execute_result"
    }
   ],
   "source": [
    "my_func"
   ]
  },
  {
   "cell_type": "code",
   "execution_count": 93,
   "id": "7086cc08",
   "metadata": {},
   "outputs": [
    {
     "name": "stdout",
     "output_type": "stream",
     "text": [
      " Hi Rahul you are 50 years old \n"
     ]
    }
   ],
   "source": [
    "my_func('Rahul',50)"
   ]
  },
  {
   "cell_type": "code",
   "execution_count": 94,
   "id": "7c7db4bd",
   "metadata": {},
   "outputs": [
    {
     "name": "stdout",
     "output_type": "stream",
     "text": [
      " Hi Rahul you are 35 years old \n"
     ]
    }
   ],
   "source": [
    "my_func('Rahul')"
   ]
  },
  {
   "cell_type": "code",
   "execution_count": 95,
   "id": "0fb3fff3",
   "metadata": {},
   "outputs": [
    {
     "ename": "SyntaxError",
     "evalue": "non-default argument follows default argument (<ipython-input-95-9259767484a1>, line 1)",
     "output_type": "error",
     "traceback": [
      "\u001b[1;36m  File \u001b[1;32m\"<ipython-input-95-9259767484a1>\"\u001b[1;36m, line \u001b[1;32m1\u001b[0m\n\u001b[1;33m    def my_func(name,age=34,profession):\u001b[0m\n\u001b[1;37m                                      ^\u001b[0m\n\u001b[1;31mSyntaxError\u001b[0m\u001b[1;31m:\u001b[0m non-default argument follows default argument\n"
     ]
    }
   ],
   "source": [
    "def my_func(name,age=34,profession):\n",
    "    print(' Hi {} you are {} years and you are a {}'.format(name,age,profession))"
   ]
  },
  {
   "cell_type": "markdown",
   "id": "e70f3198",
   "metadata": {},
   "source": [
    "# my_func('Rahul',36,'trainer')\n",
    "# my_func('Rahul','Trainer')\n"
   ]
  },
  {
   "cell_type": "code",
   "execution_count": 96,
   "id": "4f9441be",
   "metadata": {},
   "outputs": [],
   "source": [
    "def myrange(start=0,step=1):\n",
    "    pass\n",
    "    "
   ]
  },
  {
   "cell_type": "code",
   "execution_count": 98,
   "id": "162ac607",
   "metadata": {},
   "outputs": [
    {
     "data": {
      "text/plain": [
       "(<function __main__.myrange(start=0, step=1)>, 1888438644160)"
      ]
     },
     "execution_count": 98,
     "metadata": {},
     "output_type": "execute_result"
    }
   ],
   "source": [
    "myrange,id(myrange)"
   ]
  },
  {
   "cell_type": "code",
   "execution_count": 104,
   "id": "5fe251fe",
   "metadata": {},
   "outputs": [],
   "source": [
    "def myrange(start=0,step=1):\n",
    "    l = []\n",
    "    while start < 100:\n",
    "        l.append(start)\n",
    "        start = start + step \n",
    "    return l\n",
    "        \n",
    "    "
   ]
  },
  {
   "cell_type": "code",
   "execution_count": 100,
   "id": "343cd599",
   "metadata": {},
   "outputs": [
    {
     "name": "stdout",
     "output_type": "stream",
     "text": [
      "===========================================End of Program===========================================\n"
     ]
    },
    {
     "data": {
      "text/plain": [
       "[0,\n",
       " 1,\n",
       " 2,\n",
       " 3,\n",
       " 4,\n",
       " 5,\n",
       " 6,\n",
       " 7,\n",
       " 8,\n",
       " 9,\n",
       " 10,\n",
       " 11,\n",
       " 12,\n",
       " 13,\n",
       " 14,\n",
       " 15,\n",
       " 16,\n",
       " 17,\n",
       " 18,\n",
       " 19,\n",
       " 20,\n",
       " 21,\n",
       " 22,\n",
       " 23,\n",
       " 24,\n",
       " 25,\n",
       " 26,\n",
       " 27,\n",
       " 28,\n",
       " 29,\n",
       " 30,\n",
       " 31,\n",
       " 32,\n",
       " 33,\n",
       " 34,\n",
       " 35,\n",
       " 36,\n",
       " 37,\n",
       " 38,\n",
       " 39,\n",
       " 40,\n",
       " 41,\n",
       " 42,\n",
       " 43,\n",
       " 44,\n",
       " 45,\n",
       " 46,\n",
       " 47,\n",
       " 48,\n",
       " 49,\n",
       " 50,\n",
       " 51,\n",
       " 52,\n",
       " 53,\n",
       " 54,\n",
       " 55,\n",
       " 56,\n",
       " 57,\n",
       " 58,\n",
       " 59,\n",
       " 60,\n",
       " 61,\n",
       " 62,\n",
       " 63,\n",
       " 64,\n",
       " 65,\n",
       " 66,\n",
       " 67,\n",
       " 68,\n",
       " 69,\n",
       " 70,\n",
       " 71,\n",
       " 72,\n",
       " 73,\n",
       " 74,\n",
       " 75,\n",
       " 76,\n",
       " 77,\n",
       " 78,\n",
       " 79,\n",
       " 80,\n",
       " 81,\n",
       " 82,\n",
       " 83,\n",
       " 84,\n",
       " 85,\n",
       " 86,\n",
       " 87,\n",
       " 88,\n",
       " 89,\n",
       " 90,\n",
       " 91,\n",
       " 92,\n",
       " 93,\n",
       " 94,\n",
       " 95,\n",
       " 96,\n",
       " 97,\n",
       " 98,\n",
       " 99]"
      ]
     },
     "execution_count": 100,
     "metadata": {},
     "output_type": "execute_result"
    }
   ],
   "source": [
    "myrange()"
   ]
  },
  {
   "cell_type": "code",
   "execution_count": 105,
   "id": "aaeeaf59",
   "metadata": {},
   "outputs": [
    {
     "data": {
      "text/plain": [
       "[50,\n",
       " 51,\n",
       " 52,\n",
       " 53,\n",
       " 54,\n",
       " 55,\n",
       " 56,\n",
       " 57,\n",
       " 58,\n",
       " 59,\n",
       " 60,\n",
       " 61,\n",
       " 62,\n",
       " 63,\n",
       " 64,\n",
       " 65,\n",
       " 66,\n",
       " 67,\n",
       " 68,\n",
       " 69,\n",
       " 70,\n",
       " 71,\n",
       " 72,\n",
       " 73,\n",
       " 74,\n",
       " 75,\n",
       " 76,\n",
       " 77,\n",
       " 78,\n",
       " 79,\n",
       " 80,\n",
       " 81,\n",
       " 82,\n",
       " 83,\n",
       " 84,\n",
       " 85,\n",
       " 86,\n",
       " 87,\n",
       " 88,\n",
       " 89,\n",
       " 90,\n",
       " 91,\n",
       " 92,\n",
       " 93,\n",
       " 94,\n",
       " 95,\n",
       " 96,\n",
       " 97,\n",
       " 98,\n",
       " 99]"
      ]
     },
     "execution_count": 105,
     "metadata": {},
     "output_type": "execute_result"
    }
   ],
   "source": [
    "myrange(50)"
   ]
  },
  {
   "cell_type": "code",
   "execution_count": 106,
   "id": "3e225bdf",
   "metadata": {},
   "outputs": [
    {
     "data": {
      "text/plain": [
       "[50, 53, 56, 59, 62, 65, 68, 71, 74, 77, 80, 83, 86, 89, 92, 95, 98]"
      ]
     },
     "execution_count": 106,
     "metadata": {},
     "output_type": "execute_result"
    }
   ],
   "source": [
    "myrange(50,3)"
   ]
  },
  {
   "cell_type": "markdown",
   "id": "8e7f9ba4",
   "metadata": {},
   "source": [
    "`` WAF that takes an sequence as an input, calulate the average and returns it `` "
   ]
  },
  {
   "cell_type": "code",
   "execution_count": 109,
   "id": "04b964e7",
   "metadata": {},
   "outputs": [],
   "source": [
    "def averager(seq):\n",
    "    \"\"\"\n",
    "    Takes a sequence ( assuming that all are integers ) \n",
    "    returns the average\n",
    "    \"\"\"\n",
    "    return sum(seq)/len(seq)"
   ]
  },
  {
   "cell_type": "code",
   "execution_count": 112,
   "id": "1a2d5824",
   "metadata": {},
   "outputs": [
    {
     "name": "stdout",
     "output_type": "stream",
     "text": [
      "Help on function averager in module __main__:\n",
      "\n",
      "averager(seq)\n",
      "    Takes a sequence ( assuming that all are integers ) \n",
      "    returns the average\n",
      "\n"
     ]
    }
   ],
   "source": [
    "help(averager)"
   ]
  },
  {
   "cell_type": "code",
   "execution_count": 113,
   "id": "025429df",
   "metadata": {},
   "outputs": [
    {
     "data": {
      "text/plain": [
       "'\\n    Takes a sequence ( assuming that all are integers ) \\n    returns the average\\n    '"
      ]
     },
     "execution_count": 113,
     "metadata": {},
     "output_type": "execute_result"
    }
   ],
   "source": [
    "averager.__doc__"
   ]
  },
  {
   "cell_type": "code",
   "execution_count": 114,
   "id": "d4be8d6d",
   "metadata": {},
   "outputs": [
    {
     "data": {
      "text/plain": [
       "2.5"
      ]
     },
     "execution_count": 114,
     "metadata": {},
     "output_type": "execute_result"
    }
   ],
   "source": [
    "averager([1,2,3,4])"
   ]
  },
  {
   "cell_type": "code",
   "execution_count": 115,
   "id": "100cda3d",
   "metadata": {},
   "outputs": [
    {
     "data": {
      "text/plain": [
       "2.5"
      ]
     },
     "execution_count": 115,
     "metadata": {},
     "output_type": "execute_result"
    }
   ],
   "source": [
    "averager((1,2,3,4))"
   ]
  },
  {
   "cell_type": "code",
   "execution_count": 116,
   "id": "991171d5",
   "metadata": {},
   "outputs": [
    {
     "ename": "TypeError",
     "evalue": "unsupported operand type(s) for +: 'int' and 'str'",
     "output_type": "error",
     "traceback": [
      "\u001b[1;31m---------------------------------------------------------------------------\u001b[0m",
      "\u001b[1;31mTypeError\u001b[0m                                 Traceback (most recent call last)",
      "\u001b[1;32m<ipython-input-116-96833120fda1>\u001b[0m in \u001b[0;36m<module>\u001b[1;34m\u001b[0m\n\u001b[1;32m----> 1\u001b[1;33m \u001b[0maverager\u001b[0m\u001b[1;33m(\u001b[0m\u001b[1;33m[\u001b[0m\u001b[1;36m1\u001b[0m\u001b[1;33m,\u001b[0m\u001b[1;36m2\u001b[0m\u001b[1;33m,\u001b[0m\u001b[1;36m3\u001b[0m\u001b[1;33m,\u001b[0m\u001b[1;34m'a'\u001b[0m\u001b[1;33m]\u001b[0m\u001b[1;33m)\u001b[0m\u001b[1;33m\u001b[0m\u001b[1;33m\u001b[0m\u001b[0m\n\u001b[0m",
      "\u001b[1;32m<ipython-input-109-ecca350296e8>\u001b[0m in \u001b[0;36maverager\u001b[1;34m(seq)\u001b[0m\n\u001b[0;32m      4\u001b[0m     \u001b[0mreturns\u001b[0m \u001b[0mthe\u001b[0m \u001b[0maverage\u001b[0m\u001b[1;33m\u001b[0m\u001b[1;33m\u001b[0m\u001b[0m\n\u001b[0;32m      5\u001b[0m     \"\"\"\n\u001b[1;32m----> 6\u001b[1;33m     \u001b[1;32mreturn\u001b[0m \u001b[0msum\u001b[0m\u001b[1;33m(\u001b[0m\u001b[0mseq\u001b[0m\u001b[1;33m)\u001b[0m\u001b[1;33m/\u001b[0m\u001b[0mlen\u001b[0m\u001b[1;33m(\u001b[0m\u001b[0mseq\u001b[0m\u001b[1;33m)\u001b[0m\u001b[1;33m\u001b[0m\u001b[1;33m\u001b[0m\u001b[0m\n\u001b[0m",
      "\u001b[1;31mTypeError\u001b[0m: unsupported operand type(s) for +: 'int' and 'str'"
     ]
    }
   ],
   "source": [
    "averager([1,2,3,'a'])"
   ]
  },
  {
   "cell_type": "code",
   "execution_count": 118,
   "id": "ca1d90a3",
   "metadata": {},
   "outputs": [
    {
     "data": {
      "text/plain": [
       "6"
      ]
     },
     "execution_count": 118,
     "metadata": {},
     "output_type": "execute_result"
    }
   ],
   "source": [
    "1 + 2 + 3 "
   ]
  },
  {
   "cell_type": "code",
   "execution_count": 119,
   "id": "a420348d",
   "metadata": {},
   "outputs": [
    {
     "data": {
      "text/plain": [
       "'aaaaaa'"
      ]
     },
     "execution_count": 119,
     "metadata": {},
     "output_type": "execute_result"
    }
   ],
   "source": [
    "6 *'a'"
   ]
  },
  {
   "cell_type": "markdown",
   "id": "ea399142",
   "metadata": {},
   "source": [
    "`` Implement a function that takes two inputs and returns the largest of them ``"
   ]
  },
  {
   "cell_type": "code",
   "execution_count": 121,
   "id": "d60fe6c9",
   "metadata": {},
   "outputs": [
    {
     "data": {
      "text/plain": [
       "<function print>"
      ]
     },
     "execution_count": 121,
     "metadata": {},
     "output_type": "execute_result"
    }
   ],
   "source": [
    "print"
   ]
  },
  {
   "cell_type": "code",
   "execution_count": 122,
   "id": "c431a67a",
   "metadata": {},
   "outputs": [
    {
     "name": "stdout",
     "output_type": "stream",
     "text": [
      "Help on built-in function print in module builtins:\n",
      "\n",
      "print(...)\n",
      "    print(value, ..., sep=' ', end='\\n', file=sys.stdout, flush=False)\n",
      "    \n",
      "    Prints the values to a stream, or to sys.stdout by default.\n",
      "    Optional keyword arguments:\n",
      "    file:  a file-like object (stream); defaults to the current sys.stdout.\n",
      "    sep:   string inserted between values, default a space.\n",
      "    end:   string appended after the last value, default a newline.\n",
      "    flush: whether to forcibly flush the stream.\n",
      "\n"
     ]
    }
   ],
   "source": [
    "help(print)"
   ]
  },
  {
   "cell_type": "code",
   "execution_count": 123,
   "id": "3dd1c10d",
   "metadata": {},
   "outputs": [
    {
     "data": {
      "text/plain": [
       "\"print(value, ..., sep=' ', end='\\\\n', file=sys.stdout, flush=False)\\n\\nPrints the values to a stream, or to sys.stdout by default.\\nOptional keyword arguments:\\nfile:  a file-like object (stream); defaults to the current sys.stdout.\\nsep:   string inserted between values, default a space.\\nend:   string appended after the last value, default a newline.\\nflush: whether to forcibly flush the stream.\""
      ]
     },
     "execution_count": 123,
     "metadata": {},
     "output_type": "execute_result"
    }
   ],
   "source": [
    "print.__doc__"
   ]
  },
  {
   "cell_type": "code",
   "execution_count": 124,
   "id": "25302822",
   "metadata": {},
   "outputs": [],
   "source": [
    "def print(msg):\n",
    "    return msg \n",
    "    "
   ]
  },
  {
   "cell_type": "code",
   "execution_count": 125,
   "id": "bdd8ed4e",
   "metadata": {},
   "outputs": [
    {
     "name": "stdout",
     "output_type": "stream",
     "text": [
      "Help on function print in module __main__:\n",
      "\n",
      "print(msg)\n",
      "\n"
     ]
    }
   ],
   "source": [
    "help(print)"
   ]
  },
  {
   "cell_type": "code",
   "execution_count": 126,
   "id": "49363cf6",
   "metadata": {},
   "outputs": [
    {
     "data": {
      "text/plain": [
       "'hello rahul '"
      ]
     },
     "execution_count": 126,
     "metadata": {},
     "output_type": "execute_result"
    }
   ],
   "source": [
    "name = 'rahul'\n",
    "print('hello {} '.format(name))"
   ]
  },
  {
   "cell_type": "code",
   "execution_count": 127,
   "id": "45e685c7",
   "metadata": {},
   "outputs": [
    {
     "data": {
      "text/plain": [
       "'rahul'"
      ]
     },
     "execution_count": 127,
     "metadata": {},
     "output_type": "execute_result"
    }
   ],
   "source": [
    "print(\"rahul\")"
   ]
  },
  {
   "cell_type": "code",
   "execution_count": 128,
   "id": "29a757bb",
   "metadata": {},
   "outputs": [
    {
     "data": {
      "text/plain": [
       "<function __main__.print(msg)>"
      ]
     },
     "execution_count": 128,
     "metadata": {},
     "output_type": "execute_result"
    }
   ],
   "source": [
    "print"
   ]
  },
  {
   "cell_type": "code",
   "execution_count": 129,
   "id": "b46a63c6",
   "metadata": {},
   "outputs": [
    {
     "ename": "TypeError",
     "evalue": "print() takes 1 positional argument but 2 were given",
     "output_type": "error",
     "traceback": [
      "\u001b[1;31m---------------------------------------------------------------------------\u001b[0m",
      "\u001b[1;31mTypeError\u001b[0m                                 Traceback (most recent call last)",
      "\u001b[1;32m<ipython-input-129-c27a1074cf24>\u001b[0m in \u001b[0;36m<module>\u001b[1;34m\u001b[0m\n\u001b[1;32m----> 1\u001b[1;33m \u001b[0mprint\u001b[0m\u001b[1;33m(\u001b[0m\u001b[1;34m'hello'\u001b[0m\u001b[1;33m,\u001b[0m\u001b[1;34m'work'\u001b[0m\u001b[1;33m)\u001b[0m\u001b[1;33m\u001b[0m\u001b[1;33m\u001b[0m\u001b[0m\n\u001b[0m",
      "\u001b[1;31mTypeError\u001b[0m: print() takes 1 positional argument but 2 were given"
     ]
    }
   ],
   "source": [
    "print('hello','work')"
   ]
  },
  {
   "cell_type": "code",
   "execution_count": 130,
   "id": "0f8fbee2",
   "metadata": {},
   "outputs": [],
   "source": [
    "del print\n",
    "    "
   ]
  },
  {
   "cell_type": "code",
   "execution_count": 131,
   "id": "0547df40",
   "metadata": {},
   "outputs": [
    {
     "name": "stdout",
     "output_type": "stream",
     "text": [
      "rahul 35\n"
     ]
    }
   ],
   "source": [
    "name,age='rahul',35\n",
    "print(name,age)"
   ]
  },
  {
   "cell_type": "code",
   "execution_count": 132,
   "id": "e05fa3a1",
   "metadata": {},
   "outputs": [
    {
     "name": "stdout",
     "output_type": "stream",
     "text": [
      "me you\n"
     ]
    }
   ],
   "source": [
    "print('me','you')"
   ]
  },
  {
   "cell_type": "markdown",
   "id": "fa5f4ebc",
   "metadata": {},
   "source": [
    "`` WAF that takes two arguments of sequence type and add the corresponding elements ``\n",
    "``l1 = [1,2,3,4]``\n",
    "``l2 = [3,4,5,6]``\n",
    "\n",
    "``l = [l1[0] + l2[0], l1[1] + l2[1]....]\n",
    "l = [4,6,8,10]``"
   ]
  },
  {
   "cell_type": "code",
   "execution_count": 133,
   "id": "c95f4ba9",
   "metadata": {},
   "outputs": [],
   "source": [
    "def test():\n",
    "    \"\"\" Test \"\"\"\n",
    "    print('test')"
   ]
  },
  {
   "cell_type": "code",
   "execution_count": 134,
   "id": "ed1ca661",
   "metadata": {},
   "outputs": [
    {
     "data": {
      "text/plain": [
       "' Test '"
      ]
     },
     "execution_count": 134,
     "metadata": {},
     "output_type": "execute_result"
    }
   ],
   "source": [
    "test.__doc__"
   ]
  },
  {
   "cell_type": "code",
   "execution_count": 135,
   "id": "57204acf",
   "metadata": {},
   "outputs": [
    {
     "name": "stdout",
     "output_type": "stream",
     "text": [
      "Help on function test in module __main__:\n",
      "\n",
      "test()\n",
      "    Test\n",
      "\n"
     ]
    }
   ],
   "source": [
    "help(test)"
   ]
  },
  {
   "cell_type": "code",
   "execution_count": 140,
   "id": "5f6a6192",
   "metadata": {},
   "outputs": [],
   "source": [
    "def test():\n",
    "    print('test1')\n",
    "    msg= \"\"\" Test \"\"\"\n",
    "    print(msg)"
   ]
  },
  {
   "cell_type": "code",
   "execution_count": 141,
   "id": "4acfe7d7",
   "metadata": {},
   "outputs": [],
   "source": [
    "test.__doc__"
   ]
  },
  {
   "cell_type": "code",
   "execution_count": 142,
   "id": "6b819e28",
   "metadata": {},
   "outputs": [
    {
     "name": "stdout",
     "output_type": "stream",
     "text": [
      "None\n"
     ]
    }
   ],
   "source": [
    "print(test.__doc__)"
   ]
  },
  {
   "cell_type": "code",
   "execution_count": 143,
   "id": "326f9c57",
   "metadata": {},
   "outputs": [
    {
     "name": "stdout",
     "output_type": "stream",
     "text": [
      "Help on function test in module __main__:\n",
      "\n",
      "test()\n",
      "\n"
     ]
    }
   ],
   "source": [
    "help(test)"
   ]
  },
  {
   "cell_type": "code",
   "execution_count": 145,
   "id": "834ef631",
   "metadata": {},
   "outputs": [
    {
     "name": "stdout",
     "output_type": "stream",
     "text": [
      "test1\n",
      " Test \n"
     ]
    }
   ],
   "source": [
    "test()"
   ]
  },
  {
   "cell_type": "code",
   "execution_count": 147,
   "id": "66ea9997",
   "metadata": {},
   "outputs": [
    {
     "data": {
      "text/plain": [
       "[(1, 100), (2, 200), (3, 300), (4, 400)]"
      ]
     },
     "execution_count": 147,
     "metadata": {},
     "output_type": "execute_result"
    }
   ],
   "source": [
    "list(zip([1,2,3,4],[100,200,300,400]))"
   ]
  },
  {
   "cell_type": "code",
   "execution_count": 148,
   "id": "a298fe43",
   "metadata": {},
   "outputs": [
    {
     "data": {
      "text/plain": [
       "zip"
      ]
     },
     "execution_count": 148,
     "metadata": {},
     "output_type": "execute_result"
    }
   ],
   "source": [
    "zip"
   ]
  },
  {
   "cell_type": "code",
   "execution_count": 149,
   "id": "acdcd689",
   "metadata": {},
   "outputs": [
    {
     "name": "stdout",
     "output_type": "stream",
     "text": [
      "Help on class zip in module builtins:\n",
      "\n",
      "class zip(object)\n",
      " |  zip(*iterables) --> A zip object yielding tuples until an input is exhausted.\n",
      " |  \n",
      " |     >>> list(zip('abcdefg', range(3), range(4)))\n",
      " |     [('a', 0, 0), ('b', 1, 1), ('c', 2, 2)]\n",
      " |  \n",
      " |  The zip object yields n-length tuples, where n is the number of iterables\n",
      " |  passed as positional arguments to zip().  The i-th element in every tuple\n",
      " |  comes from the i-th iterable argument to zip().  This continues until the\n",
      " |  shortest argument is exhausted.\n",
      " |  \n",
      " |  Methods defined here:\n",
      " |  \n",
      " |  __getattribute__(self, name, /)\n",
      " |      Return getattr(self, name).\n",
      " |  \n",
      " |  __iter__(self, /)\n",
      " |      Implement iter(self).\n",
      " |  \n",
      " |  __next__(self, /)\n",
      " |      Implement next(self).\n",
      " |  \n",
      " |  __reduce__(...)\n",
      " |      Return state information for pickling.\n",
      " |  \n",
      " |  ----------------------------------------------------------------------\n",
      " |  Static methods defined here:\n",
      " |  \n",
      " |  __new__(*args, **kwargs) from builtins.type\n",
      " |      Create and return a new object.  See help(type) for accurate signature.\n",
      "\n"
     ]
    }
   ],
   "source": [
    "help(zip)"
   ]
  },
  {
   "cell_type": "code",
   "execution_count": 150,
   "id": "b76ac828",
   "metadata": {},
   "outputs": [
    {
     "name": "stdout",
     "output_type": "stream",
     "text": [
      "Help on built-in function sum in module builtins:\n",
      "\n",
      "sum(iterable, /, start=0)\n",
      "    Return the sum of a 'start' value (default: 0) plus an iterable of numbers\n",
      "    \n",
      "    When the iterable is empty, return the start value.\n",
      "    This function is intended specifically for use with numeric values and may\n",
      "    reject non-numeric types.\n",
      "\n"
     ]
    }
   ],
   "source": [
    "help(sum)"
   ]
  },
  {
   "cell_type": "code",
   "execution_count": 151,
   "id": "f5b97569",
   "metadata": {},
   "outputs": [],
   "source": [
    "l = list(zip([1,2,3,4],[100,200,300,400]))"
   ]
  },
  {
   "cell_type": "code",
   "execution_count": 152,
   "id": "16c00c2e",
   "metadata": {},
   "outputs": [
    {
     "data": {
      "text/plain": [
       "[(1, 100), (2, 200), (3, 300), (4, 400)]"
      ]
     },
     "execution_count": 152,
     "metadata": {},
     "output_type": "execute_result"
    }
   ],
   "source": [
    "l"
   ]
  },
  {
   "cell_type": "code",
   "execution_count": 153,
   "id": "6e96794e",
   "metadata": {},
   "outputs": [
    {
     "data": {
      "text/plain": [
       "list"
      ]
     },
     "execution_count": 153,
     "metadata": {},
     "output_type": "execute_result"
    }
   ],
   "source": [
    "type(l)"
   ]
  },
  {
   "cell_type": "code",
   "execution_count": 154,
   "id": "50747334",
   "metadata": {},
   "outputs": [
    {
     "data": {
      "text/plain": [
       "(1, 100)"
      ]
     },
     "execution_count": 154,
     "metadata": {},
     "output_type": "execute_result"
    }
   ],
   "source": [
    "l[0]"
   ]
  },
  {
   "cell_type": "code",
   "execution_count": 155,
   "id": "49f5814f",
   "metadata": {},
   "outputs": [
    {
     "ename": "TypeError",
     "evalue": "unsupported operand type(s) for +: 'int' and 'tuple'",
     "output_type": "error",
     "traceback": [
      "\u001b[1;31m---------------------------------------------------------------------------\u001b[0m",
      "\u001b[1;31mTypeError\u001b[0m                                 Traceback (most recent call last)",
      "\u001b[1;32m<ipython-input-155-b957b889506a>\u001b[0m in \u001b[0;36m<module>\u001b[1;34m\u001b[0m\n\u001b[1;32m----> 1\u001b[1;33m \u001b[0msum\u001b[0m\u001b[1;33m(\u001b[0m\u001b[0ml\u001b[0m\u001b[1;33m)\u001b[0m\u001b[1;33m\u001b[0m\u001b[1;33m\u001b[0m\u001b[0m\n\u001b[0m",
      "\u001b[1;31mTypeError\u001b[0m: unsupported operand type(s) for +: 'int' and 'tuple'"
     ]
    }
   ],
   "source": [
    "sum(l)"
   ]
  },
  {
   "cell_type": "markdown",
   "id": "3bec6c7e",
   "metadata": {},
   "source": [
    "`` Implement a function that asks the user for an input and print its multiplication table``"
   ]
  },
  {
   "cell_type": "code",
   "execution_count": 156,
   "id": "bc970b44",
   "metadata": {},
   "outputs": [
    {
     "data": {
      "text/plain": [
       "(1, 1)"
      ]
     },
     "execution_count": 156,
     "metadata": {},
     "output_type": "execute_result"
    }
   ],
   "source": [
    "l = [1,2,3]\n",
    "l[0],l.__getitem__(0)\n"
   ]
  },
  {
   "cell_type": "code",
   "execution_count": 157,
   "id": "8d558037",
   "metadata": {},
   "outputs": [
    {
     "data": {
      "text/plain": [
       "(3, 3)"
      ]
     },
     "execution_count": 157,
     "metadata": {},
     "output_type": "execute_result"
    }
   ],
   "source": [
    "l[-1], l.__getitem__(-1)"
   ]
  },
  {
   "cell_type": "code",
   "execution_count": 158,
   "id": "df4870cb",
   "metadata": {},
   "outputs": [],
   "source": [
    "def my_func(l1,l2):\n",
    "    \"\"\" Try to return the pairs first,\n",
    "        e.g [(l1[0],l2[0]), (l1[1],l2[1]),... ]\n",
    "    \"\"\"\n",
    "    l = [\n",
    "        l1[0] + l2[0],\n",
    "        l1[1] + l2[1]\n",
    "      ]\n",
    "    return l "
   ]
  },
  {
   "cell_type": "code",
   "execution_count": 159,
   "id": "9ef3c5d8",
   "metadata": {},
   "outputs": [
    {
     "data": {
      "text/plain": [
       "<function __main__.my_func(l1, l2)>"
      ]
     },
     "execution_count": 159,
     "metadata": {},
     "output_type": "execute_result"
    }
   ],
   "source": [
    "my_func"
   ]
  },
  {
   "cell_type": "code",
   "execution_count": 160,
   "id": "318895e2",
   "metadata": {},
   "outputs": [
    {
     "name": "stdout",
     "output_type": "stream",
     "text": [
      "Help on function my_func in module __main__:\n",
      "\n",
      "my_func(l1, l2)\n",
      "    Try to return the pairs first,\n",
      "    e.g [(l1[0],l2[0]), (l1[1],l2[1]),... ]\n",
      "\n"
     ]
    }
   ],
   "source": [
    "help(my_func)"
   ]
  },
  {
   "cell_type": "code",
   "execution_count": 161,
   "id": "ee9a0fab",
   "metadata": {},
   "outputs": [
    {
     "data": {
      "text/plain": [
       "[2, 4]"
      ]
     },
     "execution_count": 161,
     "metadata": {},
     "output_type": "execute_result"
    }
   ],
   "source": [
    "my_func([1,2],[1,2])"
   ]
  },
  {
   "cell_type": "code",
   "execution_count": 162,
   "id": "5b19f44a",
   "metadata": {},
   "outputs": [
    {
     "data": {
      "text/plain": [
       "[2, 4]"
      ]
     },
     "execution_count": 162,
     "metadata": {},
     "output_type": "execute_result"
    }
   ],
   "source": [
    "my_func([1,2,3,4],[1,2,3,4,5])"
   ]
  },
  {
   "cell_type": "code",
   "execution_count": 163,
   "id": "e3846ef3",
   "metadata": {},
   "outputs": [
    {
     "data": {
      "text/plain": [
       "[0, 1, 4, 9, 16, 25, 36, 49, 64, 81]"
      ]
     },
     "execution_count": 163,
     "metadata": {},
     "output_type": "execute_result"
    }
   ],
   "source": [
    "[i*i for i in range(10) ]"
   ]
  },
  {
   "cell_type": "code",
   "execution_count": 164,
   "id": "b2ef63a5",
   "metadata": {},
   "outputs": [
    {
     "data": {
      "text/plain": [
       "[0, 4, 16, 36, 64]"
      ]
     },
     "execution_count": 164,
     "metadata": {},
     "output_type": "execute_result"
    }
   ],
   "source": [
    "[i*i for i in range(10) if i%2==0]"
   ]
  },
  {
   "cell_type": "code",
   "execution_count": 165,
   "id": "fba69aae",
   "metadata": {},
   "outputs": [
    {
     "data": {
      "text/plain": [
       "[1, 9, 25, 49, 81]"
      ]
     },
     "execution_count": 165,
     "metadata": {},
     "output_type": "execute_result"
    }
   ],
   "source": [
    "[i*i for i in range(10) if i%2!=0]"
   ]
  },
  {
   "cell_type": "code",
   "execution_count": 166,
   "id": "b5ad857e",
   "metadata": {},
   "outputs": [],
   "source": [
    "def my_func(l1,l2):\n",
    "    \"\"\" Try to return the pairs first,\n",
    "        e.g [(l1[0],l2[0]), (l1[1],l2[1]),... ]\n",
    "    \"\"\"\n",
    "    l=[]\n",
    "    pos = 0 \n",
    "    while pos < len(l1) and pos < len(l2):\n",
    "        l.append(l1[pos]+ l2[pos])\n",
    "        pos +=1\n",
    "       \n",
    "\n",
    "    return l "
   ]
  },
  {
   "cell_type": "code",
   "execution_count": 167,
   "id": "56da836f",
   "metadata": {},
   "outputs": [
    {
     "data": {
      "text/plain": [
       "<function __main__.my_func(l1, l2)>"
      ]
     },
     "execution_count": 167,
     "metadata": {},
     "output_type": "execute_result"
    }
   ],
   "source": [
    "my_func"
   ]
  },
  {
   "cell_type": "code",
   "execution_count": 168,
   "id": "6a38f9c8",
   "metadata": {},
   "outputs": [
    {
     "data": {
      "text/plain": [
       "[1, 3, 1, 7]"
      ]
     },
     "execution_count": 168,
     "metadata": {},
     "output_type": "execute_result"
    }
   ],
   "source": [
    "my_func([1,2,3,4],[0,1,-2,3])"
   ]
  },
  {
   "cell_type": "code",
   "execution_count": 171,
   "id": "e0b05ba2",
   "metadata": {},
   "outputs": [
    {
     "data": {
      "text/plain": [
       "[1, 3, 1, 7, 120]"
      ]
     },
     "execution_count": 171,
     "metadata": {},
     "output_type": "execute_result"
    }
   ],
   "source": [
    "my_func([1,2,3,4,20],[0,1,-2,3,100,200])"
   ]
  },
  {
   "cell_type": "code",
   "execution_count": 172,
   "id": "5b815394",
   "metadata": {},
   "outputs": [
    {
     "data": {
      "text/plain": [
       "{}"
      ]
     },
     "execution_count": 172,
     "metadata": {},
     "output_type": "execute_result"
    }
   ],
   "source": [
    "my_func.__dict__"
   ]
  },
  {
   "cell_type": "code",
   "execution_count": 173,
   "id": "5b71e207",
   "metadata": {},
   "outputs": [],
   "source": [
    "my_func.author = 'Saithili and Aakash'\n",
    "my_func.version = '1.0.0.1'"
   ]
  },
  {
   "cell_type": "code",
   "execution_count": 174,
   "id": "dda2b8e6",
   "metadata": {},
   "outputs": [
    {
     "data": {
      "text/plain": [
       "{'author': 'Saithil and Aakash', 'version': '1.0.0.1'}"
      ]
     },
     "execution_count": 174,
     "metadata": {},
     "output_type": "execute_result"
    }
   ],
   "source": [
    "my_func.__dict__"
   ]
  },
  {
   "cell_type": "code",
   "execution_count": 175,
   "id": "8e131929",
   "metadata": {},
   "outputs": [
    {
     "data": {
      "text/plain": [
       "'Saithil and Aakash'"
      ]
     },
     "execution_count": 175,
     "metadata": {},
     "output_type": "execute_result"
    }
   ],
   "source": [
    "my_func.__dict__['author']"
   ]
  },
  {
   "cell_type": "code",
   "execution_count": 177,
   "id": "162675a0",
   "metadata": {},
   "outputs": [
    {
     "data": {
      "text/plain": [
       "False"
      ]
     },
     "execution_count": 177,
     "metadata": {},
     "output_type": "execute_result"
    }
   ],
   "source": [
    "'__dict__' in dir(print)"
   ]
  },
  {
   "cell_type": "code",
   "execution_count": 179,
   "id": "230ac65c",
   "metadata": {},
   "outputs": [
    {
     "ename": "SyntaxError",
     "evalue": "invalid non-printable character U+00A0 (<ipython-input-179-437c500271c4>, line 10)",
     "output_type": "error",
     "traceback": [
      "\u001b[1;36m  File \u001b[1;32m\"<ipython-input-179-437c500271c4>\"\u001b[1;36m, line \u001b[1;32m10\u001b[0m\n\u001b[1;33m    \u001b[0m\n\u001b[1;37m    ^\u001b[0m\n\u001b[1;31mSyntaxError\u001b[0m\u001b[1;31m:\u001b[0m invalid non-printable character U+00A0\n"
     ]
    }
   ],
   "source": [
    "def adder(l1,l2):\n",
    "    if len(l1)==len(l2):\n",
    "        i=0\n",
    "        while i < len(l1):\n",
    "            l.append(l1[i]+l2[i])\n",
    "            i+=1\n",
    "        print('From Rao')\n",
    "        return l\n",
    "    \n",
    "     \n",
    "#     if len(l1)== len(l2):\n",
    "#         i=0\n",
    "#         while i<=len(l1):\n",
    "#             a=l1[i]+l2[i]\n",
    "#             l.append(a)\n",
    "#             i+=1\n",
    "#     else:\n",
    "#         return 1\n",
    "#     return l\n",
    "\n"
   ]
  },
  {
   "cell_type": "code",
   "execution_count": 180,
   "id": "6e38ec5b",
   "metadata": {},
   "outputs": [],
   "source": [
    "def adder(l1,l2):\n",
    "    if len(l1)==len(l2):\n",
    "        i=0\n",
    "        while i < len(l1):\n",
    "            l.append(l1[i]+l2[i])\n",
    "            i+=1\n",
    "        print('From Rao')\n",
    "        return l"
   ]
  },
  {
   "cell_type": "code",
   "execution_count": 181,
   "id": "4bf39eb6",
   "metadata": {},
   "outputs": [
    {
     "data": {
      "text/plain": [
       "<function __main__.adder(l1, l2)>"
      ]
     },
     "execution_count": 181,
     "metadata": {},
     "output_type": "execute_result"
    }
   ],
   "source": [
    "adder"
   ]
  },
  {
   "cell_type": "code",
   "execution_count": 182,
   "id": "1167b95b",
   "metadata": {},
   "outputs": [
    {
     "name": "stdout",
     "output_type": "stream",
     "text": [
      "From Rao\n"
     ]
    },
    {
     "data": {
      "text/plain": [
       "[1, 2, 3, 1, 3]"
      ]
     },
     "execution_count": 182,
     "metadata": {},
     "output_type": "execute_result"
    }
   ],
   "source": [
    "adder([1,2],[0,1])"
   ]
  },
  {
   "cell_type": "code",
   "execution_count": 183,
   "id": "0d3536ce",
   "metadata": {},
   "outputs": [],
   "source": [
    "# Function Annotations "
   ]
  },
  {
   "cell_type": "code",
   "execution_count": 184,
   "id": "a419d7ab",
   "metadata": {},
   "outputs": [],
   "source": [
    "def adder(a:\"requires integer\",b:\"should be an int\")->'Return addition of a and b':\n",
    "    return a+b"
   ]
  },
  {
   "cell_type": "code",
   "execution_count": 185,
   "id": "bfb0ccf7",
   "metadata": {},
   "outputs": [
    {
     "data": {
      "text/plain": [
       "<function __main__.adder(a: 'requires integer', b: 'should be an int') -> 'Return addition of a and b'>"
      ]
     },
     "execution_count": 185,
     "metadata": {},
     "output_type": "execute_result"
    }
   ],
   "source": [
    "adder"
   ]
  },
  {
   "cell_type": "code",
   "execution_count": 186,
   "id": "4000c0e7",
   "metadata": {},
   "outputs": [
    {
     "name": "stdout",
     "output_type": "stream",
     "text": [
      "Help on function adder in module __main__:\n",
      "\n",
      "adder(a: 'requires integer', b: 'should be an int') -> 'Return addition of a and b'\n",
      "\n"
     ]
    }
   ],
   "source": [
    "help(adder)"
   ]
  },
  {
   "cell_type": "markdown",
   "id": "5fe5d695",
   "metadata": {},
   "source": [
    "# Chill guys , Remember\n",
    "##  patience and practice "
   ]
  },
  {
   "cell_type": "code",
   "execution_count": 188,
   "id": "a4e9b04a",
   "metadata": {},
   "outputs": [],
   "source": [
    "k=10"
   ]
  },
  {
   "cell_type": "code",
   "execution_count": 189,
   "id": "3d710793",
   "metadata": {},
   "outputs": [
    {
     "data": {
      "text/plain": [
       "10"
      ]
     },
     "execution_count": 189,
     "metadata": {},
     "output_type": "execute_result"
    }
   ],
   "source": [
    "k"
   ]
  },
  {
   "cell_type": "code",
   "execution_count": null,
   "id": "33135486",
   "metadata": {},
   "outputs": [],
   "source": []
  }
 ],
 "metadata": {
  "kernelspec": {
   "display_name": "Python 3",
   "language": "python",
   "name": "python3"
  },
  "language_info": {
   "codemirror_mode": {
    "name": "ipython",
    "version": 3
   },
   "file_extension": ".py",
   "mimetype": "text/x-python",
   "name": "python",
   "nbconvert_exporter": "python",
   "pygments_lexer": "ipython3",
   "version": "3.9.6"
  }
 },
 "nbformat": 4,
 "nbformat_minor": 5
}
