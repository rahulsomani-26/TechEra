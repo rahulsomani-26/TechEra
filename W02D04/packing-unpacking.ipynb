{
 "cells": [
  {
   "cell_type": "code",
   "execution_count": 1,
   "id": "9383dca2",
   "metadata": {},
   "outputs": [],
   "source": [
    "# So far we have seen sequence type / non-sequence type \n",
    "# They may be Mutable or Immutable in nature \n"
   ]
  },
  {
   "cell_type": "markdown",
   "id": "729842d4",
   "metadata": {},
   "source": [
    "# Packing  ( Iterable )\n",
    "\n",
    "`` packing is the act of putting values in an iterable ( list , tuple , str ) \n",
    "`` Unpacking is the act of splitting packed values into individual variables contained in a list or a tuple`` \n"
   ]
  },
  {
   "cell_type": "code",
   "execution_count": null,
   "id": "91d1b6e2",
   "metadata": {},
   "outputs": [],
   "source": [
    "\n",
    "l = [\"Rahul\", \"Somani\", 35, \"Trainer\", \"India\"]\n",
    "id(l), l, len(l)\n"
   ]
  },
  {
   "cell_type": "code",
   "execution_count": null,
   "id": "d83395db",
   "metadata": {},
   "outputs": [],
   "source": []
  },
  {
   "cell_type": "code",
   "execution_count": 4,
   "id": "565a8458",
   "metadata": {},
   "outputs": [],
   "source": [
    "# Unpacking ( Iterable )\n",
    "firstname,lastname,age,profession,country = l "
   ]
  },
  {
   "cell_type": "code",
   "execution_count": 6,
   "id": "2e69ba60",
   "metadata": {},
   "outputs": [
    {
     "data": {
      "text/plain": [
       "('Rahul', 'Somani', 35, 'Trainer', 'India')"
      ]
     },
     "execution_count": 6,
     "metadata": {},
     "output_type": "execute_result"
    }
   ],
   "source": [
    "firstname,lastname, age,profession,country\n"
   ]
  },
  {
   "cell_type": "code",
   "execution_count": 7,
   "id": "2eeb3279",
   "metadata": {},
   "outputs": [
    {
     "name": "stdout",
     "output_type": "stream",
     "text": [
      "Rahul\n"
     ]
    }
   ],
   "source": [
    "print(firstname)"
   ]
  },
  {
   "cell_type": "code",
   "execution_count": 8,
   "id": "026d3151",
   "metadata": {},
   "outputs": [
    {
     "name": "stdout",
     "output_type": "stream",
     "text": [
      "India\n"
     ]
    }
   ],
   "source": [
    "print(country)"
   ]
  },
  {
   "cell_type": "code",
   "execution_count": 55,
   "id": "56975db0",
   "metadata": {},
   "outputs": [
    {
     "name": "stdout",
     "output_type": "stream",
     "text": [
      "<class 'list'>\n",
      "2453716671552 2453716671552\n"
     ]
    }
   ],
   "source": [
    "\n",
    "l = [\"Rahul\", \"Somani\", 35, \"Trainer\", \"India\"]\n",
    "firstname = l\n",
    "print(type(firstname))\n",
    "print(id(firstname), id(l))\n"
   ]
  },
  {
   "cell_type": "code",
   "execution_count": 13,
   "id": "29a23b71",
   "metadata": {},
   "outputs": [
    {
     "ename": "ValueError",
     "evalue": "too many values to unpack (expected 2)",
     "output_type": "error",
     "traceback": [
      "\u001b[1;31m---------------------------------------------------------------------------\u001b[0m",
      "\u001b[1;31mValueError\u001b[0m                                Traceback (most recent call last)",
      "\u001b[1;32m<ipython-input-13-5e2c994e437c>\u001b[0m in \u001b[0;36m<module>\u001b[1;34m\u001b[0m\n\u001b[0;32m      1\u001b[0m \u001b[0ml\u001b[0m \u001b[1;33m=\u001b[0m \u001b[1;33m[\u001b[0m\u001b[1;34m\"Rahul\"\u001b[0m\u001b[1;33m,\u001b[0m \u001b[1;34m\"Somani\"\u001b[0m\u001b[1;33m,\u001b[0m \u001b[1;36m35\u001b[0m\u001b[1;33m,\u001b[0m \u001b[1;34m\"Trainer\"\u001b[0m\u001b[1;33m,\u001b[0m \u001b[1;34m\"India\"\u001b[0m\u001b[1;33m]\u001b[0m\u001b[1;33m\u001b[0m\u001b[1;33m\u001b[0m\u001b[0m\n\u001b[1;32m----> 2\u001b[1;33m \u001b[0mfirstname\u001b[0m\u001b[1;33m,\u001b[0m\u001b[0mlastname\u001b[0m \u001b[1;33m=\u001b[0m \u001b[0ml\u001b[0m\u001b[1;33m\u001b[0m\u001b[1;33m\u001b[0m\u001b[0m\n\u001b[0m\u001b[0;32m      3\u001b[0m \u001b[0mid\u001b[0m\u001b[1;33m(\u001b[0m\u001b[0mfirstname\u001b[0m\u001b[1;33m)\u001b[0m\u001b[1;33m,\u001b[0m \u001b[0mid\u001b[0m\u001b[1;33m(\u001b[0m\u001b[0ml\u001b[0m\u001b[1;33m)\u001b[0m\u001b[1;33m\u001b[0m\u001b[1;33m\u001b[0m\u001b[0m\n",
      "\u001b[1;31mValueError\u001b[0m: too many values to unpack (expected 2)"
     ]
    }
   ],
   "source": [
    "l = [\"Rahul\", \"Somani\", 35, \"Trainer\", \"India\"]\n",
    "firstname,lastname = l\n",
    "id(firstname), id(l)"
   ]
  },
  {
   "cell_type": "code",
   "execution_count": 14,
   "id": "2e9a1dd2",
   "metadata": {},
   "outputs": [
    {
     "data": {
      "text/plain": [
       "'rajiv'"
      ]
     },
     "execution_count": 14,
     "metadata": {},
     "output_type": "execute_result"
    }
   ],
   "source": [
    "a,b,c = [\"rajiv\",'akash','shabeena']\n",
    "a"
   ]
  },
  {
   "cell_type": "code",
   "execution_count": 15,
   "id": "658736c2",
   "metadata": {},
   "outputs": [
    {
     "data": {
      "text/plain": [
       "'akash'"
      ]
     },
     "execution_count": 15,
     "metadata": {},
     "output_type": "execute_result"
    }
   ],
   "source": [
    "b"
   ]
  },
  {
   "cell_type": "code",
   "execution_count": 16,
   "id": "9d79713e",
   "metadata": {},
   "outputs": [
    {
     "data": {
      "text/plain": [
       "'shabeena'"
      ]
     },
     "execution_count": 16,
     "metadata": {},
     "output_type": "execute_result"
    }
   ],
   "source": [
    "c"
   ]
  },
  {
   "cell_type": "code",
   "execution_count": 17,
   "id": "2f27d294",
   "metadata": {},
   "outputs": [],
   "source": [
    "a,b = 10,20"
   ]
  },
  {
   "cell_type": "code",
   "execution_count": 18,
   "id": "768f33ae",
   "metadata": {},
   "outputs": [
    {
     "data": {
      "text/plain": [
       "10"
      ]
     },
     "execution_count": 18,
     "metadata": {},
     "output_type": "execute_result"
    }
   ],
   "source": [
    "a"
   ]
  },
  {
   "cell_type": "code",
   "execution_count": 19,
   "id": "7c503bb3",
   "metadata": {},
   "outputs": [
    {
     "data": {
      "text/plain": [
       "20"
      ]
     },
     "execution_count": 19,
     "metadata": {},
     "output_type": "execute_result"
    }
   ],
   "source": [
    "b"
   ]
  },
  {
   "cell_type": "code",
   "execution_count": 20,
   "id": "d4d8fc53",
   "metadata": {},
   "outputs": [],
   "source": [
    "a = 10 "
   ]
  },
  {
   "cell_type": "code",
   "execution_count": 21,
   "id": "9a78a731",
   "metadata": {},
   "outputs": [],
   "source": [
    "b = a"
   ]
  },
  {
   "cell_type": "code",
   "execution_count": 22,
   "id": "a1324d21",
   "metadata": {},
   "outputs": [
    {
     "data": {
      "text/plain": [
       "(2453640997456, 2453640997456)"
      ]
     },
     "execution_count": 22,
     "metadata": {},
     "output_type": "execute_result"
    }
   ],
   "source": [
    "id(a),id(b)"
   ]
  },
  {
   "cell_type": "code",
   "execution_count": 23,
   "id": "e0dff3ce",
   "metadata": {},
   "outputs": [
    {
     "data": {
      "text/plain": [
       "10"
      ]
     },
     "execution_count": 23,
     "metadata": {},
     "output_type": "execute_result"
    }
   ],
   "source": [
    "a"
   ]
  },
  {
   "cell_type": "code",
   "execution_count": 24,
   "id": "61742963",
   "metadata": {},
   "outputs": [
    {
     "data": {
      "text/plain": [
       "10"
      ]
     },
     "execution_count": 24,
     "metadata": {},
     "output_type": "execute_result"
    }
   ],
   "source": [
    "b"
   ]
  },
  {
   "cell_type": "code",
   "execution_count": 25,
   "id": "bfa539fa",
   "metadata": {},
   "outputs": [
    {
     "data": {
      "text/plain": [
       "True"
      ]
     },
     "execution_count": 25,
     "metadata": {},
     "output_type": "execute_result"
    }
   ],
   "source": [
    "a == b "
   ]
  },
  {
   "cell_type": "code",
   "execution_count": 26,
   "id": "21784f2d",
   "metadata": {},
   "outputs": [],
   "source": [
    "a,b,c = (100,200,300)"
   ]
  },
  {
   "cell_type": "code",
   "execution_count": 27,
   "id": "d6a03787",
   "metadata": {},
   "outputs": [
    {
     "data": {
      "text/plain": [
       "100"
      ]
     },
     "execution_count": 27,
     "metadata": {},
     "output_type": "execute_result"
    }
   ],
   "source": [
    "a"
   ]
  },
  {
   "cell_type": "code",
   "execution_count": 28,
   "id": "d0f84e3d",
   "metadata": {},
   "outputs": [
    {
     "data": {
      "text/plain": [
       "200"
      ]
     },
     "execution_count": 28,
     "metadata": {},
     "output_type": "execute_result"
    }
   ],
   "source": [
    "b"
   ]
  },
  {
   "cell_type": "code",
   "execution_count": 29,
   "id": "6a85de47",
   "metadata": {},
   "outputs": [
    {
     "data": {
      "text/plain": [
       "300"
      ]
     },
     "execution_count": 29,
     "metadata": {},
     "output_type": "execute_result"
    }
   ],
   "source": [
    "c"
   ]
  },
  {
   "cell_type": "code",
   "execution_count": 31,
   "id": "8592a38d",
   "metadata": {},
   "outputs": [],
   "source": [
    "a,b,c = 1001,2001,3001"
   ]
  },
  {
   "cell_type": "code",
   "execution_count": 33,
   "id": "e8ae305e",
   "metadata": {},
   "outputs": [
    {
     "data": {
      "text/plain": [
       "tuple"
      ]
     },
     "execution_count": 33,
     "metadata": {},
     "output_type": "execute_result"
    }
   ],
   "source": [
    "type((100,200,300))"
   ]
  },
  {
   "cell_type": "code",
   "execution_count": 34,
   "id": "3be8a484",
   "metadata": {},
   "outputs": [
    {
     "data": {
      "text/plain": [
       "1001"
      ]
     },
     "execution_count": 34,
     "metadata": {},
     "output_type": "execute_result"
    }
   ],
   "source": [
    "a"
   ]
  },
  {
   "cell_type": "code",
   "execution_count": 35,
   "id": "64dedea9",
   "metadata": {},
   "outputs": [
    {
     "data": {
      "text/plain": [
       "(2001, 3001)"
      ]
     },
     "execution_count": 35,
     "metadata": {},
     "output_type": "execute_result"
    }
   ],
   "source": [
    "b,c"
   ]
  },
  {
   "cell_type": "code",
   "execution_count": 36,
   "id": "47521593",
   "metadata": {},
   "outputs": [
    {
     "data": {
      "text/plain": [
       "'rahul'"
      ]
     },
     "execution_count": 36,
     "metadata": {},
     "output_type": "execute_result"
    }
   ],
   "source": [
    "a,b,c = 'rahul',10,'sameer'\n",
    "a"
   ]
  },
  {
   "cell_type": "code",
   "execution_count": 37,
   "id": "83fe4ef0",
   "metadata": {},
   "outputs": [
    {
     "data": {
      "text/plain": [
       "10"
      ]
     },
     "execution_count": 37,
     "metadata": {},
     "output_type": "execute_result"
    }
   ],
   "source": [
    "b"
   ]
  },
  {
   "cell_type": "code",
   "execution_count": 38,
   "id": "c9ee337f",
   "metadata": {},
   "outputs": [
    {
     "data": {
      "text/plain": [
       "'sameer'"
      ]
     },
     "execution_count": 38,
     "metadata": {},
     "output_type": "execute_result"
    }
   ],
   "source": [
    "c"
   ]
  },
  {
   "cell_type": "code",
   "execution_count": 39,
   "id": "db95c2d0",
   "metadata": {},
   "outputs": [],
   "source": [
    "a,b,c='Ted'"
   ]
  },
  {
   "cell_type": "code",
   "execution_count": 40,
   "id": "3f0f9cc4",
   "metadata": {},
   "outputs": [
    {
     "data": {
      "text/plain": [
       "'T'"
      ]
     },
     "execution_count": 40,
     "metadata": {},
     "output_type": "execute_result"
    }
   ],
   "source": [
    "a"
   ]
  },
  {
   "cell_type": "code",
   "execution_count": 41,
   "id": "87e0e377",
   "metadata": {},
   "outputs": [
    {
     "data": {
      "text/plain": [
       "'e'"
      ]
     },
     "execution_count": 41,
     "metadata": {},
     "output_type": "execute_result"
    }
   ],
   "source": [
    "b"
   ]
  },
  {
   "cell_type": "code",
   "execution_count": 42,
   "id": "f637ef26",
   "metadata": {},
   "outputs": [
    {
     "data": {
      "text/plain": [
       "'d'"
      ]
     },
     "execution_count": 42,
     "metadata": {},
     "output_type": "execute_result"
    }
   ],
   "source": [
    "c"
   ]
  },
  {
   "cell_type": "code",
   "execution_count": 43,
   "id": "22af7415",
   "metadata": {},
   "outputs": [],
   "source": [
    "name = 'rahul'\n",
    "age = 35 "
   ]
  },
  {
   "cell_type": "code",
   "execution_count": 44,
   "id": "84d7e11c",
   "metadata": {},
   "outputs": [
    {
     "data": {
      "text/plain": [
       "('rahul', 35)"
      ]
     },
     "execution_count": 44,
     "metadata": {},
     "output_type": "execute_result"
    }
   ],
   "source": [
    "name,age"
   ]
  },
  {
   "cell_type": "code",
   "execution_count": 48,
   "id": "5f3718f6",
   "metadata": {},
   "outputs": [],
   "source": [
    "name,age = 'somani',35"
   ]
  },
  {
   "cell_type": "code",
   "execution_count": 49,
   "id": "a9c45063",
   "metadata": {},
   "outputs": [
    {
     "data": {
      "text/plain": [
       "'somani'"
      ]
     },
     "execution_count": 49,
     "metadata": {},
     "output_type": "execute_result"
    }
   ],
   "source": [
    "name"
   ]
  },
  {
   "cell_type": "code",
   "execution_count": 47,
   "id": "61abec93",
   "metadata": {},
   "outputs": [
    {
     "data": {
      "text/plain": [
       "35"
      ]
     },
     "execution_count": 47,
     "metadata": {},
     "output_type": "execute_result"
    }
   ],
   "source": [
    "age"
   ]
  },
  {
   "cell_type": "code",
   "execution_count": 51,
   "id": "5f1214e5",
   "metadata": {},
   "outputs": [
    {
     "data": {
      "text/plain": [
       "(2453715704384, 2453715729648, 2453640997776, 2453716661552)"
      ]
     },
     "execution_count": 51,
     "metadata": {},
     "output_type": "execute_result"
    }
   ],
   "source": [
    "t = ('shabeena', 20,'software')\n",
    "id(t), id(t[0]), id(t[1]), id(t[2])"
   ]
  },
  {
   "cell_type": "code",
   "execution_count": 52,
   "id": "d770a80e",
   "metadata": {},
   "outputs": [],
   "source": [
    "name,age,profession = t"
   ]
  },
  {
   "cell_type": "code",
   "execution_count": 53,
   "id": "b2db9b04",
   "metadata": {},
   "outputs": [
    {
     "data": {
      "text/plain": [
       "('shabeena', 2453715729648)"
      ]
     },
     "execution_count": 53,
     "metadata": {},
     "output_type": "execute_result"
    }
   ],
   "source": [
    "name,id(name)\n"
   ]
  },
  {
   "cell_type": "code",
   "execution_count": 54,
   "id": "c8bf8446",
   "metadata": {},
   "outputs": [
    {
     "data": {
      "text/plain": [
       "(20, 2453640997776)"
      ]
     },
     "execution_count": 54,
     "metadata": {},
     "output_type": "execute_result"
    }
   ],
   "source": [
    "age, id(age)"
   ]
  },
  {
   "cell_type": "code",
   "execution_count": 56,
   "id": "785d0ae2",
   "metadata": {},
   "outputs": [],
   "source": [
    "t = ('shabeena', 20,'software','hyderabad','India')\n"
   ]
  },
  {
   "cell_type": "markdown",
   "id": "417eba63",
   "metadata": {},
   "source": [
    "``get the first and second item from the tuple and leave the rest ``"
   ]
  },
  {
   "cell_type": "code",
   "execution_count": 57,
   "id": "8a5b35a5",
   "metadata": {},
   "outputs": [],
   "source": [
    "name,age,*ignore = t "
   ]
  },
  {
   "cell_type": "code",
   "execution_count": 58,
   "id": "aa94b299",
   "metadata": {},
   "outputs": [
    {
     "data": {
      "text/plain": [
       "'shabeena'"
      ]
     },
     "execution_count": 58,
     "metadata": {},
     "output_type": "execute_result"
    }
   ],
   "source": [
    "name \n"
   ]
  },
  {
   "cell_type": "code",
   "execution_count": 59,
   "id": "9ef1c6fc",
   "metadata": {},
   "outputs": [
    {
     "data": {
      "text/plain": [
       "20"
      ]
     },
     "execution_count": 59,
     "metadata": {},
     "output_type": "execute_result"
    }
   ],
   "source": [
    "age"
   ]
  },
  {
   "cell_type": "code",
   "execution_count": 60,
   "id": "17732005",
   "metadata": {},
   "outputs": [
    {
     "data": {
      "text/plain": [
       "['software', 'hyderabad', 'India']"
      ]
     },
     "execution_count": 60,
     "metadata": {},
     "output_type": "execute_result"
    }
   ],
   "source": [
    "ignore"
   ]
  },
  {
   "cell_type": "code",
   "execution_count": 61,
   "id": "13c95619",
   "metadata": {},
   "outputs": [],
   "source": [
    "first, *ignore,last = t"
   ]
  },
  {
   "cell_type": "code",
   "execution_count": 62,
   "id": "b720873d",
   "metadata": {},
   "outputs": [
    {
     "data": {
      "text/plain": [
       "('shabeena', 'India')"
      ]
     },
     "execution_count": 62,
     "metadata": {},
     "output_type": "execute_result"
    }
   ],
   "source": [
    "first,last"
   ]
  },
  {
   "cell_type": "code",
   "execution_count": 63,
   "id": "d6218f7f",
   "metadata": {},
   "outputs": [
    {
     "data": {
      "text/plain": [
       "[20, 'software', 'hyderabad']"
      ]
     },
     "execution_count": 63,
     "metadata": {},
     "output_type": "execute_result"
    }
   ],
   "source": [
    "ignore"
   ]
  },
  {
   "cell_type": "code",
   "execution_count": 64,
   "id": "bca41cfa",
   "metadata": {},
   "outputs": [],
   "source": [
    "first, *other,last = t"
   ]
  },
  {
   "cell_type": "code",
   "execution_count": 65,
   "id": "65692255",
   "metadata": {},
   "outputs": [
    {
     "data": {
      "text/plain": [
       "[20, 'software', 'hyderabad']"
      ]
     },
     "execution_count": 65,
     "metadata": {},
     "output_type": "execute_result"
    }
   ],
   "source": [
    "other"
   ]
  },
  {
   "cell_type": "code",
   "execution_count": 66,
   "id": "e712c709",
   "metadata": {},
   "outputs": [],
   "source": [
    "t1 = 'Saida',22,'Developer','Banaglore'\n"
   ]
  },
  {
   "cell_type": "code",
   "execution_count": 70,
   "id": "4721fb2f",
   "metadata": {},
   "outputs": [
    {
     "ename": "SyntaxError",
     "evalue": "multiple starred expressions in assignment (<ipython-input-70-f23dcecf2c96>, line 1)",
     "output_type": "error",
     "traceback": [
      "\u001b[1;36m  File \u001b[1;32m\"<ipython-input-70-f23dcecf2c96>\"\u001b[1;36m, line \u001b[1;32m1\u001b[0m\n\u001b[1;33m    *ignore,age,profession,*city=t1\u001b[0m\n\u001b[1;37m    ^\u001b[0m\n\u001b[1;31mSyntaxError\u001b[0m\u001b[1;31m:\u001b[0m multiple starred expressions in assignment\n"
     ]
    }
   ],
   "source": [
    "*ignore,age,profession,city=t1"
   ]
  },
  {
   "cell_type": "code",
   "execution_count": 69,
   "id": "f67b8966",
   "metadata": {},
   "outputs": [
    {
     "data": {
      "text/plain": [
       "['Saida']"
      ]
     },
     "execution_count": 69,
     "metadata": {},
     "output_type": "execute_result"
    }
   ],
   "source": [
    "ignore"
   ]
  },
  {
   "cell_type": "code",
   "execution_count": 72,
   "id": "d4524838",
   "metadata": {},
   "outputs": [],
   "source": [
    "*ignore,age,(profession,*city)=t1"
   ]
  },
  {
   "cell_type": "code",
   "execution_count": 73,
   "id": "5e6bf69e",
   "metadata": {},
   "outputs": [
    {
     "data": {
      "text/plain": [
       "'Developer'"
      ]
     },
     "execution_count": 73,
     "metadata": {},
     "output_type": "execute_result"
    }
   ],
   "source": [
    "age"
   ]
  },
  {
   "cell_type": "code",
   "execution_count": 74,
   "id": "dc8b00ff",
   "metadata": {},
   "outputs": [
    {
     "data": {
      "text/plain": [
       "['Saida', 22]"
      ]
     },
     "execution_count": 74,
     "metadata": {},
     "output_type": "execute_result"
    }
   ],
   "source": [
    "ignore"
   ]
  },
  {
   "cell_type": "code",
   "execution_count": 75,
   "id": "575b4cf1",
   "metadata": {},
   "outputs": [
    {
     "data": {
      "text/plain": [
       "'B'"
      ]
     },
     "execution_count": 75,
     "metadata": {},
     "output_type": "execute_result"
    }
   ],
   "source": [
    "profession"
   ]
  },
  {
   "cell_type": "code",
   "execution_count": 76,
   "id": "a8225bb5",
   "metadata": {},
   "outputs": [
    {
     "data": {
      "text/plain": [
       "['a', 'n', 'a', 'g', 'l', 'o', 'r', 'e']"
      ]
     },
     "execution_count": 76,
     "metadata": {},
     "output_type": "execute_result"
    }
   ],
   "source": [
    "city"
   ]
  },
  {
   "cell_type": "code",
   "execution_count": 77,
   "id": "42d1d1a2",
   "metadata": {},
   "outputs": [],
   "source": [
    "a,b,c = {'k1':10,'k2':20,'k3':30}"
   ]
  },
  {
   "cell_type": "code",
   "execution_count": 78,
   "id": "cfcaaf7c",
   "metadata": {},
   "outputs": [
    {
     "data": {
      "text/plain": [
       "'k1'"
      ]
     },
     "execution_count": 78,
     "metadata": {},
     "output_type": "execute_result"
    }
   ],
   "source": [
    "a"
   ]
  },
  {
   "cell_type": "code",
   "execution_count": 79,
   "id": "fbf121b8",
   "metadata": {},
   "outputs": [
    {
     "data": {
      "text/plain": [
       "'k2'"
      ]
     },
     "execution_count": 79,
     "metadata": {},
     "output_type": "execute_result"
    }
   ],
   "source": [
    "b"
   ]
  },
  {
   "cell_type": "code",
   "execution_count": 80,
   "id": "6c2755f3",
   "metadata": {},
   "outputs": [
    {
     "data": {
      "text/plain": [
       "'k3'"
      ]
     },
     "execution_count": 80,
     "metadata": {},
     "output_type": "execute_result"
    }
   ],
   "source": [
    "c"
   ]
  },
  {
   "cell_type": "code",
   "execution_count": 81,
   "id": "f39ff895",
   "metadata": {},
   "outputs": [],
   "source": [
    "t  = 1,2,3,4,5,6,7,8,9\n",
    "first,second,*value = t "
   ]
  },
  {
   "cell_type": "code",
   "execution_count": 82,
   "id": "f5ecffe1",
   "metadata": {},
   "outputs": [
    {
     "data": {
      "text/plain": [
       "[3, 4, 5, 6, 7, 8, 9]"
      ]
     },
     "execution_count": 82,
     "metadata": {},
     "output_type": "execute_result"
    }
   ],
   "source": [
    "value"
   ]
  },
  {
   "cell_type": "code",
   "execution_count": 83,
   "id": "106330b2",
   "metadata": {},
   "outputs": [],
   "source": [
    "t  = 1,2,3,4,5,6,7,8,9\n",
    "first,*value,end = t "
   ]
  },
  {
   "cell_type": "code",
   "execution_count": 84,
   "id": "f1904795",
   "metadata": {},
   "outputs": [
    {
     "data": {
      "text/plain": [
       "(1, 9)"
      ]
     },
     "execution_count": 84,
     "metadata": {},
     "output_type": "execute_result"
    }
   ],
   "source": [
    "first,end "
   ]
  },
  {
   "cell_type": "code",
   "execution_count": 85,
   "id": "9d935940",
   "metadata": {},
   "outputs": [
    {
     "data": {
      "text/plain": [
       "[2, 3, 4, 5, 6, 7, 8]"
      ]
     },
     "execution_count": 85,
     "metadata": {},
     "output_type": "execute_result"
    }
   ],
   "source": [
    "value"
   ]
  },
  {
   "cell_type": "code",
   "execution_count": null,
   "id": "f5f7f67c",
   "metadata": {},
   "outputs": [],
   "source": []
  }
 ],
 "metadata": {
  "kernelspec": {
   "display_name": "Python 3",
   "language": "python",
   "name": "python3"
  },
  "language_info": {
   "codemirror_mode": {
    "name": "ipython",
    "version": 3
   },
   "file_extension": ".py",
   "mimetype": "text/x-python",
   "name": "python",
   "nbconvert_exporter": "python",
   "pygments_lexer": "ipython3",
   "version": "3.9.6"
  }
 },
 "nbformat": 4,
 "nbformat_minor": 5
}
