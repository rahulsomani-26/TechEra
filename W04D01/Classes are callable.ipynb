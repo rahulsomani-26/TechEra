{
 "cells": [
  {
   "cell_type": "code",
   "execution_count": 1,
   "id": "277ea978",
   "metadata": {},
   "outputs": [],
   "source": [
    "class Rating:\n",
    "    rating = 3  # Class Attribute \n",
    "    "
   ]
  },
  {
   "cell_type": "code",
   "execution_count": 2,
   "id": "e66b1408",
   "metadata": {},
   "outputs": [
    {
     "data": {
      "text/plain": [
       "__main__.Rating"
      ]
     },
     "execution_count": 2,
     "metadata": {},
     "output_type": "execute_result"
    }
   ],
   "source": [
    "Rating"
   ]
  },
  {
   "cell_type": "code",
   "execution_count": 3,
   "id": "c9eab237",
   "metadata": {},
   "outputs": [
    {
     "data": {
      "text/plain": [
       "3"
      ]
     },
     "execution_count": 3,
     "metadata": {},
     "output_type": "execute_result"
    }
   ],
   "source": [
    "Rating.rating"
   ]
  },
  {
   "cell_type": "code",
   "execution_count": 4,
   "id": "4c5a2331",
   "metadata": {},
   "outputs": [
    {
     "data": {
      "text/plain": [
       "mappingproxy({'__module__': '__main__',\n",
       "              'rating': 3,\n",
       "              '__dict__': <attribute '__dict__' of 'Rating' objects>,\n",
       "              '__weakref__': <attribute '__weakref__' of 'Rating' objects>,\n",
       "              '__doc__': None})"
      ]
     },
     "execution_count": 4,
     "metadata": {},
     "output_type": "execute_result"
    }
   ],
   "source": [
    "Rating.__dict__  # Class Namespace "
   ]
  },
  {
   "cell_type": "code",
   "execution_count": 5,
   "id": "2ad0e158",
   "metadata": {},
   "outputs": [],
   "source": [
    "r = Rating()"
   ]
  },
  {
   "cell_type": "code",
   "execution_count": 6,
   "id": "331775c6",
   "metadata": {},
   "outputs": [
    {
     "data": {
      "text/plain": [
       "<__main__.Rating at 0x1fc06119c10>"
      ]
     },
     "execution_count": 6,
     "metadata": {},
     "output_type": "execute_result"
    }
   ],
   "source": [
    "r"
   ]
  },
  {
   "cell_type": "code",
   "execution_count": 7,
   "id": "dfa57bc3",
   "metadata": {},
   "outputs": [
    {
     "data": {
      "text/plain": [
       "{}"
      ]
     },
     "execution_count": 7,
     "metadata": {},
     "output_type": "execute_result"
    }
   ],
   "source": [
    "r.__dict__"
   ]
  },
  {
   "cell_type": "code",
   "execution_count": 8,
   "id": "399f6c40",
   "metadata": {},
   "outputs": [],
   "source": [
    "r.name = 'Aakash'"
   ]
  },
  {
   "cell_type": "code",
   "execution_count": 9,
   "id": "ca3f5972",
   "metadata": {},
   "outputs": [
    {
     "data": {
      "text/plain": [
       "{'name': 'Aakash'}"
      ]
     },
     "execution_count": 9,
     "metadata": {},
     "output_type": "execute_result"
    }
   ],
   "source": [
    "r.__dict__  # Object's namespace "
   ]
  },
  {
   "cell_type": "code",
   "execution_count": 10,
   "id": "eb1a273c",
   "metadata": {},
   "outputs": [
    {
     "data": {
      "text/plain": [
       "mappingproxy({'__module__': '__main__',\n",
       "              'rating': 3,\n",
       "              '__dict__': <attribute '__dict__' of 'Rating' objects>,\n",
       "              '__weakref__': <attribute '__weakref__' of 'Rating' objects>,\n",
       "              '__doc__': None})"
      ]
     },
     "execution_count": 10,
     "metadata": {},
     "output_type": "execute_result"
    }
   ],
   "source": [
    "Rating.__dict__"
   ]
  },
  {
   "cell_type": "code",
   "execution_count": 11,
   "id": "3f5b81dd",
   "metadata": {},
   "outputs": [],
   "source": [
    "class Vehicle:\n",
    "    pass"
   ]
  },
  {
   "cell_type": "code",
   "execution_count": 12,
   "id": "194c505b",
   "metadata": {},
   "outputs": [],
   "source": [
    "car = Vehicle()"
   ]
  },
  {
   "cell_type": "code",
   "execution_count": 13,
   "id": "a49ed166",
   "metadata": {},
   "outputs": [],
   "source": [
    "truck = Vehicle()"
   ]
  },
  {
   "cell_type": "code",
   "execution_count": 14,
   "id": "9f3ad345",
   "metadata": {},
   "outputs": [
    {
     "data": {
      "text/plain": [
       "<function isinstance(obj, class_or_tuple, /)>"
      ]
     },
     "execution_count": 14,
     "metadata": {},
     "output_type": "execute_result"
    }
   ],
   "source": [
    "isinstance"
   ]
  },
  {
   "cell_type": "code",
   "execution_count": 15,
   "id": "c96ef955",
   "metadata": {},
   "outputs": [
    {
     "data": {
      "text/plain": [
       "True"
      ]
     },
     "execution_count": 15,
     "metadata": {},
     "output_type": "execute_result"
    }
   ],
   "source": [
    "isinstance(car,Vehicle)"
   ]
  },
  {
   "cell_type": "code",
   "execution_count": 16,
   "id": "8065999f",
   "metadata": {},
   "outputs": [
    {
     "data": {
      "text/plain": [
       "False"
      ]
     },
     "execution_count": 16,
     "metadata": {},
     "output_type": "execute_result"
    }
   ],
   "source": [
    "isinstance(car,Rating)"
   ]
  },
  {
   "cell_type": "code",
   "execution_count": 17,
   "id": "ce329676",
   "metadata": {},
   "outputs": [
    {
     "name": "stdout",
     "output_type": "stream",
     "text": [
      "Help on built-in function isinstance in module builtins:\n",
      "\n",
      "isinstance(obj, class_or_tuple, /)\n",
      "    Return whether an object is an instance of a class or of a subclass thereof.\n",
      "    \n",
      "    A tuple, as in ``isinstance(x, (A, B, ...))``, may be given as the target to\n",
      "    check against. This is equivalent to ``isinstance(x, A) or isinstance(x, B)\n",
      "    or ...`` etc.\n",
      "\n"
     ]
    }
   ],
   "source": [
    "help(isinstance)"
   ]
  },
  {
   "cell_type": "code",
   "execution_count": 18,
   "id": "6ab4998a",
   "metadata": {},
   "outputs": [],
   "source": [
    "class Rating:\n",
    "    stars = 2\n",
    "    def show_rating():\n",
    "        print('My Rating = {} '.format(Rating.stars))\n",
    "        "
   ]
  },
  {
   "cell_type": "code",
   "execution_count": 19,
   "id": "0aebe10b",
   "metadata": {},
   "outputs": [
    {
     "data": {
      "text/plain": [
       "mappingproxy({'__module__': '__main__',\n",
       "              'stars': 2,\n",
       "              'show_rating': <function __main__.Rating.show_rating()>,\n",
       "              '__dict__': <attribute '__dict__' of 'Rating' objects>,\n",
       "              '__weakref__': <attribute '__weakref__' of 'Rating' objects>,\n",
       "              '__doc__': None})"
      ]
     },
     "execution_count": 19,
     "metadata": {},
     "output_type": "execute_result"
    }
   ],
   "source": [
    "Rating.__dict__"
   ]
  },
  {
   "cell_type": "code",
   "execution_count": 20,
   "id": "d3664472",
   "metadata": {},
   "outputs": [
    {
     "data": {
      "text/plain": [
       "2"
      ]
     },
     "execution_count": 20,
     "metadata": {},
     "output_type": "execute_result"
    }
   ],
   "source": [
    "Rating.__dict__['stars']"
   ]
  },
  {
   "cell_type": "code",
   "execution_count": 21,
   "id": "3958fa94",
   "metadata": {},
   "outputs": [
    {
     "data": {
      "text/plain": [
       "<function __main__.Rating.show_rating()>"
      ]
     },
     "execution_count": 21,
     "metadata": {},
     "output_type": "execute_result"
    }
   ],
   "source": [
    "Rating.__dict__['show_rating']"
   ]
  },
  {
   "cell_type": "code",
   "execution_count": 22,
   "id": "246c3ec1",
   "metadata": {},
   "outputs": [
    {
     "name": "stdout",
     "output_type": "stream",
     "text": [
      "My Rating = 2 \n"
     ]
    }
   ],
   "source": [
    "Rating.__dict__['show_rating']()"
   ]
  },
  {
   "cell_type": "code",
   "execution_count": 23,
   "id": "de2e9121",
   "metadata": {},
   "outputs": [
    {
     "name": "stdout",
     "output_type": "stream",
     "text": [
      "My Rating = 2 \n"
     ]
    }
   ],
   "source": [
    "# class_name.attribute_name\n",
    "Rating.show_rating()"
   ]
  },
  {
   "cell_type": "code",
   "execution_count": 24,
   "id": "4296e6a4",
   "metadata": {},
   "outputs": [
    {
     "data": {
      "text/plain": [
       "2"
      ]
     },
     "execution_count": 24,
     "metadata": {},
     "output_type": "execute_result"
    }
   ],
   "source": [
    "getattr(Rating,'stars')"
   ]
  },
  {
   "cell_type": "code",
   "execution_count": 25,
   "id": "302cab81",
   "metadata": {},
   "outputs": [
    {
     "data": {
      "text/plain": [
       "<function __main__.Rating.show_rating()>"
      ]
     },
     "execution_count": 25,
     "metadata": {},
     "output_type": "execute_result"
    }
   ],
   "source": [
    "getattr(Rating,'show_rating')"
   ]
  },
  {
   "cell_type": "code",
   "execution_count": 26,
   "id": "2a1b69ae",
   "metadata": {},
   "outputs": [],
   "source": [
    "f = getattr(Rating,'show_rating')"
   ]
  },
  {
   "cell_type": "code",
   "execution_count": 27,
   "id": "625ee30f",
   "metadata": {},
   "outputs": [
    {
     "name": "stdout",
     "output_type": "stream",
     "text": [
      "My Rating = 2 \n"
     ]
    }
   ],
   "source": [
    "f()"
   ]
  },
  {
   "cell_type": "code",
   "execution_count": 35,
   "id": "68ba2d29",
   "metadata": {},
   "outputs": [],
   "source": [
    "class Rating:\n",
    "    stars = 2\n",
    "    \n",
    "    def set_rating():\n",
    "        print('Within set_rating')\n",
    "#         stars = int(input(\"Enter new rating\"))\n",
    "        Ratingh.stars = 5\n",
    "        \n",
    "    def get_rating():\n",
    "        print('Within get_rating')\n",
    "        print(\"Rating = {}\".format(Rating.stars))\n",
    "        \n",
    "    "
   ]
  },
  {
   "cell_type": "code",
   "execution_count": 29,
   "id": "c429296e",
   "metadata": {},
   "outputs": [
    {
     "data": {
      "text/plain": [
       "mappingproxy({'__module__': '__main__',\n",
       "              'stars': 2,\n",
       "              'set_rating': <function __main__.Rating.set_rating()>,\n",
       "              'get_rating': <function __main__.Rating.get_rating()>,\n",
       "              '__dict__': <attribute '__dict__' of 'Rating' objects>,\n",
       "              '__weakref__': <attribute '__weakref__' of 'Rating' objects>,\n",
       "              '__doc__': None})"
      ]
     },
     "execution_count": 29,
     "metadata": {},
     "output_type": "execute_result"
    }
   ],
   "source": [
    "Rating.__dict__"
   ]
  },
  {
   "cell_type": "code",
   "execution_count": 36,
   "id": "1912f4ca",
   "metadata": {},
   "outputs": [
    {
     "name": "stdout",
     "output_type": "stream",
     "text": [
      "Within get_rating\n",
      "Rating = 2\n"
     ]
    }
   ],
   "source": [
    "Rating.get_rating()"
   ]
  },
  {
   "cell_type": "code",
   "execution_count": 37,
   "id": "d8562d4a",
   "metadata": {},
   "outputs": [
    {
     "name": "stdout",
     "output_type": "stream",
     "text": [
      "Within set_rating\n"
     ]
    }
   ],
   "source": [
    "Rating.set_rating()"
   ]
  },
  {
   "cell_type": "code",
   "execution_count": 33,
   "id": "2e4619a7",
   "metadata": {},
   "outputs": [
    {
     "data": {
      "text/plain": [
       "2"
      ]
     },
     "execution_count": 33,
     "metadata": {},
     "output_type": "execute_result"
    }
   ],
   "source": [
    "Rating.stars"
   ]
  },
  {
   "cell_type": "code",
   "execution_count": 38,
   "id": "2cc3b0ae",
   "metadata": {},
   "outputs": [
    {
     "name": "stdout",
     "output_type": "stream",
     "text": [
      "Within get_rating\n",
      "Rating = 5\n"
     ]
    }
   ],
   "source": [
    "Rating.get_rating()"
   ]
  },
  {
   "cell_type": "code",
   "execution_count": 39,
   "id": "c1bc3ff2",
   "metadata": {},
   "outputs": [],
   "source": [
    "class Rating:\n",
    "    stars = 2\n",
    "    \n",
    "    def set_rating():\n",
    "        Rating.stars = int(input(\"Enter new rating\"))\n",
    "        \n",
    "    def get_rating():\n",
    "        print('Within get_rating')\n",
    "        print(\"Rating = {}\".format(Rating.stars))\n",
    "        \n",
    "    "
   ]
  },
  {
   "cell_type": "code",
   "execution_count": 40,
   "id": "e3628b55",
   "metadata": {},
   "outputs": [
    {
     "name": "stdout",
     "output_type": "stream",
     "text": [
      "Enter new rating5\n"
     ]
    }
   ],
   "source": [
    "Rating.set_rating()"
   ]
  },
  {
   "cell_type": "code",
   "execution_count": 41,
   "id": "6b4fd30a",
   "metadata": {},
   "outputs": [
    {
     "name": "stdout",
     "output_type": "stream",
     "text": [
      "Within get_rating\n",
      "Rating = 5\n"
     ]
    }
   ],
   "source": [
    "Rating.get_rating()"
   ]
  },
  {
   "cell_type": "code",
   "execution_count": 42,
   "id": "eb09bd95",
   "metadata": {},
   "outputs": [
    {
     "data": {
      "text/plain": [
       "5"
      ]
     },
     "execution_count": 42,
     "metadata": {},
     "output_type": "execute_result"
    }
   ],
   "source": [
    "Rating.stars"
   ]
  },
  {
   "cell_type": "code",
   "execution_count": 43,
   "id": "025041a5",
   "metadata": {},
   "outputs": [],
   "source": [
    "Rating.stars = 10"
   ]
  },
  {
   "cell_type": "code",
   "execution_count": 44,
   "id": "0caeccfd",
   "metadata": {},
   "outputs": [
    {
     "data": {
      "text/plain": [
       "10"
      ]
     },
     "execution_count": 44,
     "metadata": {},
     "output_type": "execute_result"
    }
   ],
   "source": [
    "Rating.stars"
   ]
  },
  {
   "cell_type": "code",
   "execution_count": 45,
   "id": "add0a2e2",
   "metadata": {},
   "outputs": [
    {
     "data": {
      "text/plain": [
       "mappingproxy({'__module__': '__main__',\n",
       "              'stars': 10,\n",
       "              'set_rating': <function __main__.Rating.set_rating()>,\n",
       "              'get_rating': <function __main__.Rating.get_rating()>,\n",
       "              '__dict__': <attribute '__dict__' of 'Rating' objects>,\n",
       "              '__weakref__': <attribute '__weakref__' of 'Rating' objects>,\n",
       "              '__doc__': None})"
      ]
     },
     "execution_count": 45,
     "metadata": {},
     "output_type": "execute_result"
    }
   ],
   "source": [
    "Rating.__dict__"
   ]
  },
  {
   "cell_type": "code",
   "execution_count": 46,
   "id": "9507138f",
   "metadata": {},
   "outputs": [],
   "source": [
    "stars = 100"
   ]
  },
  {
   "cell_type": "code",
   "execution_count": 47,
   "id": "30577727",
   "metadata": {},
   "outputs": [
    {
     "data": {
      "text/plain": [
       "10"
      ]
     },
     "execution_count": 47,
     "metadata": {},
     "output_type": "execute_result"
    }
   ],
   "source": [
    "Rating.stars"
   ]
  },
  {
   "cell_type": "code",
   "execution_count": 48,
   "id": "240dfa98",
   "metadata": {},
   "outputs": [],
   "source": [
    "stars = 100"
   ]
  },
  {
   "cell_type": "code",
   "execution_count": 49,
   "id": "80abbb50",
   "metadata": {},
   "outputs": [
    {
     "data": {
      "text/plain": [
       "10"
      ]
     },
     "execution_count": 49,
     "metadata": {},
     "output_type": "execute_result"
    }
   ],
   "source": [
    "Rating.stars"
   ]
  },
  {
   "cell_type": "code",
   "execution_count": 54,
   "id": "115d7efe",
   "metadata": {},
   "outputs": [],
   "source": [
    "class Student:\n",
    "    \"\"\"Test student class\"\"\"\n",
    "    \n",
    "    def __init__(self,name,age,gender):\n",
    "        self.name = name \n",
    "        self.age = age \n",
    "        self.gender = gender\n",
    "        \n",
    "    def get_details(self):\n",
    "        print(f'Hey {self.name}, I am  a {self.gender} {self.age} years old')"
   ]
  },
  {
   "cell_type": "code",
   "execution_count": 55,
   "id": "5f341268",
   "metadata": {},
   "outputs": [],
   "source": [
    "s = Student('A',2,'male')"
   ]
  },
  {
   "cell_type": "code",
   "execution_count": 56,
   "id": "1e8e6694",
   "metadata": {},
   "outputs": [
    {
     "name": "stdout",
     "output_type": "stream",
     "text": [
      "Hey A, I am  a male 2 years old\n"
     ]
    }
   ],
   "source": [
    "s.get_details()"
   ]
  },
  {
   "cell_type": "code",
   "execution_count": 57,
   "id": "3cd3db87",
   "metadata": {},
   "outputs": [
    {
     "name": "stdout",
     "output_type": "stream",
     "text": [
      "Help on class Student in module __main__:\n",
      "\n",
      "class Student(builtins.object)\n",
      " |  Student(name, age, gender)\n",
      " |  \n",
      " |  Test student class\n",
      " |  \n",
      " |  Methods defined here:\n",
      " |  \n",
      " |  __init__(self, name, age, gender)\n",
      " |      Initialize self.  See help(type(self)) for accurate signature.\n",
      " |  \n",
      " |  get_details(self)\n",
      " |  \n",
      " |  ----------------------------------------------------------------------\n",
      " |  Data descriptors defined here:\n",
      " |  \n",
      " |  __dict__\n",
      " |      dictionary for instance variables (if defined)\n",
      " |  \n",
      " |  __weakref__\n",
      " |      list of weak references to the object (if defined)\n",
      "\n"
     ]
    }
   ],
   "source": [
    "help(Student)"
   ]
  },
  {
   "cell_type": "code",
   "execution_count": null,
   "id": "3d604183",
   "metadata": {},
   "outputs": [],
   "source": []
  }
 ],
 "metadata": {
  "kernelspec": {
   "display_name": "Python 3",
   "language": "python",
   "name": "python3"
  },
  "language_info": {
   "codemirror_mode": {
    "name": "ipython",
    "version": 3
   },
   "file_extension": ".py",
   "mimetype": "text/x-python",
   "name": "python",
   "nbconvert_exporter": "python",
   "pygments_lexer": "ipython3",
   "version": "3.9.6"
  }
 },
 "nbformat": 4,
 "nbformat_minor": 5
}
