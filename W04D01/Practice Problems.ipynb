{
 "cells": [
  {
   "cell_type": "markdown",
   "id": "0fe0ec69",
   "metadata": {},
   "source": [
    "# Practice Problem  \n"
   ]
  },
  {
   "cell_type": "markdown",
   "id": "d89b4cb2",
   "metadata": {},
   "source": [
    "  ``Write a program which accepts a sequence of comma-separated numbers from console \n",
    "    and generate a list and a tuple which contains every number.\n",
    "    Suppose the following input is supplied to the program:\n",
    "        10,23,12,56,19\n",
    "    Then the output should be :\n",
    "        ['10','23','12','56','19']\n",
    "        ('10','23','12','56','19')\n",
    " ``\n"
   ]
  },
  {
   "cell_type": "markdown",
   "id": "6c31c5ee",
   "metadata": {},
   "source": [
    "``With a given integral number n, write a program to generate a dictionary that contains (i, i*i) such that is an integral number between 1 and n (both included). and then the program should print the dictionary.\n",
    "Suppose the following input is supplied to the program:\n",
    "8\n",
    "Then, the output should be:\n",
    "{1: 1, 2: 4, 3: 9, 4: 16, 5: 25, 6: 36, 7: 49, 8: 64}\n",
    "``"
   ]
  },
  {
   "cell_type": "markdown",
   "id": "0cb81d6c",
   "metadata": {},
   "source": [
    "`` Solution 1 of program 1 ``"
   ]
  },
  {
   "cell_type": "code",
   "execution_count": 1,
   "id": "46f40569",
   "metadata": {},
   "outputs": [
    {
     "name": "stdout",
     "output_type": "stream",
     "text": [
      "Enter comma seperated values 10,20,30,40\n",
      "['10', '20', '30', '40']\n"
     ]
    }
   ],
   "source": [
    "user_input = input(\"Enter comma seperated values \")\n",
    "print(user_input.split(','))"
   ]
  },
  {
   "cell_type": "code",
   "execution_count": 2,
   "id": "e6aa8325",
   "metadata": {},
   "outputs": [
    {
     "name": "stdout",
     "output_type": "stream",
     "text": [
      "Enter comma seperated values 10,20,30,40,50\n",
      "['10', '20', '30', '40', '50']\n",
      "('10', '20', '30', '40', '50')\n"
     ]
    }
   ],
   "source": [
    "user_input = input(\"Enter comma seperated values \")\n",
    "l=user_input.split(',')\n",
    "t = tuple(l)\n",
    "print(l)\n",
    "print(t)"
   ]
  },
  {
   "cell_type": "code",
   "execution_count": 7,
   "id": "c2dfe0e9",
   "metadata": {},
   "outputs": [],
   "source": [
    "def f():\n",
    "    try:\n",
    "        f=open('abcd','r')\n",
    "    except Exception as e:\n",
    "#         print(e,repr(e))\n",
    "        print('File not found')\n",
    "        print('creating file')\n",
    "        f = open('abcd','w')\n",
    "        f.write('hello world')\n",
    "    finally:\n",
    "        f = open('abcd','r')\n",
    "        print(f.read())\n",
    "        f.close()\n",
    "        print('It will be Excecuted')\n",
    "    print('Out of the block')\n",
    "    print('End of the program')"
   ]
  },
  {
   "cell_type": "code",
   "execution_count": 8,
   "id": "bb0f0002",
   "metadata": {},
   "outputs": [
    {
     "name": "stdout",
     "output_type": "stream",
     "text": [
      "File not found\n",
      "creating file\n",
      "hello world\n",
      "It will be Excecuted\n",
      "Out of the block\n",
      "End of the program\n"
     ]
    }
   ],
   "source": [
    "f()"
   ]
  },
  {
   "cell_type": "code",
   "execution_count": 12,
   "id": "fe79da24",
   "metadata": {},
   "outputs": [
    {
     "name": "stdout",
     "output_type": "stream",
     "text": [
      "Enter a number10\n",
      "{1: 1, 2: 4, 3: 9, 4: 16, 5: 25, 6: 36, 7: 49, 8: 64, 9: 81, 10: 100}\n"
     ]
    }
   ],
   "source": [
    "n = int(input(\"Enter a number\"))\n",
    "d = dict()\n",
    "for i in range(1,n+1):\n",
    "    d[i]=i*i\n",
    "print(d)   "
   ]
  },
  {
   "cell_type": "code",
   "execution_count": 11,
   "id": "fd44b6c0",
   "metadata": {},
   "outputs": [
    {
     "data": {
      "text/plain": [
       "{1: 1, 2: 4, 3: 9, 4: 16, 5: 25, 6: 36, 7: 49, 8: 64}"
      ]
     },
     "execution_count": 11,
     "metadata": {},
     "output_type": "execute_result"
    }
   ],
   "source": [
    "d"
   ]
  },
  {
   "cell_type": "markdown",
   "id": "b99a0d05",
   "metadata": {},
   "source": [
    "`` Write a program, which will find all such numbers between 1000 and 3000 (both included) \n",
    "such that each digit of the number is an even number.\n",
    "The numbers obtained should be printed in a comma-separated sequence on a single line. ``\n"
   ]
  },
  {
   "cell_type": "markdown",
   "id": "adf69037",
   "metadata": {},
   "source": [
    "`` Wap that accepts a sentence and calculates the number of uppercase and lower case letters\n",
    "  e.g :---> input  Tirumala\n",
    "  outptut ---> {'uppercase':1,'lowercase':7}\n",
    "``"
   ]
  },
  {
   "cell_type": "code",
   "execution_count": 18,
   "id": "98c3854f",
   "metadata": {},
   "outputs": [],
   "source": [
    "def get_all_even(start,end):\n",
    "    even_bucket = []\n",
    "    for i in range(start,end+1):\n",
    "        # do something \n",
    "        text = str(i)\n",
    "        for s in text:\n",
    "            if s[0]%2 == 0 and s[1]%2==0 and s[2]%2==0 and s[3]%2==0:\n",
    "                even_bucket.append(s)\n",
    "        else:\n",
    "            print('End of inner for')\n",
    "    else:\n",
    "        print('End of outer for')\n",
    "    print(even_bucket)"
   ]
  },
  {
   "cell_type": "code",
   "execution_count": 23,
   "id": "601eb4c6",
   "metadata": {},
   "outputs": [],
   "source": [
    "def get_all_even(start,end):\n",
    "    even_bucket = []\n",
    "    for i in range(start,end+1):\n",
    "        # do something \n",
    "        s = str(i)\n",
    "        if (int(s[0])%2 == 0) and (int(s[1])%2==0) and (int(s[2])%2==0) and (int(s[3])%2==0):\n",
    "            even_bucket.append(s)\n",
    "    print(even_bucket,len(even_bucket))\n",
    "        "
   ]
  },
  {
   "cell_type": "code",
   "execution_count": 24,
   "id": "f37fcb00",
   "metadata": {},
   "outputs": [
    {
     "name": "stdout",
     "output_type": "stream",
     "text": [
      "['2000', '2002', '2004', '2006', '2008', '2020', '2022', '2024', '2026', '2028', '2040', '2042', '2044', '2046', '2048', '2060', '2062', '2064', '2066', '2068', '2080', '2082', '2084', '2086', '2088', '2200', '2202', '2204', '2206', '2208', '2220', '2222', '2224', '2226', '2228', '2240', '2242', '2244', '2246', '2248', '2260', '2262', '2264', '2266', '2268', '2280', '2282', '2284', '2286', '2288', '2400', '2402', '2404', '2406', '2408', '2420', '2422', '2424', '2426', '2428', '2440', '2442', '2444', '2446', '2448', '2460', '2462', '2464', '2466', '2468', '2480', '2482', '2484', '2486', '2488', '2600', '2602', '2604', '2606', '2608', '2620', '2622', '2624', '2626', '2628', '2640', '2642', '2644', '2646', '2648', '2660', '2662', '2664', '2666', '2668', '2680', '2682', '2684', '2686', '2688', '2800', '2802', '2804', '2806', '2808', '2820', '2822', '2824', '2826', '2828', '2840', '2842', '2844', '2846', '2848', '2860', '2862', '2864', '2866', '2868', '2880', '2882', '2884', '2886', '2888'] 125\n"
     ]
    }
   ],
   "source": [
    "get_all_even(1000,3000)"
   ]
  },
  {
   "cell_type": "code",
   "execution_count": 25,
   "id": "cee5bd62",
   "metadata": {},
   "outputs": [],
   "source": [
    "def upper_and_lower():\n",
    "    \n",
    "    d={'uppercase':0,'lowercase':0}\n",
    "    msg = input(\"Enter Something\")\n",
    "    for ch in msg:\n",
    "        if ch.isupper():\n",
    "            d['uppercase']+=1\n",
    "        elif ch.islower():\n",
    "            d['lowercase']+=1\n",
    "        else:\n",
    "            print('Has reached the else clause')\n",
    "            pass\n",
    "    print(d)\n",
    "    \n",
    "    "
   ]
  },
  {
   "cell_type": "code",
   "execution_count": 26,
   "id": "ef54cfc6",
   "metadata": {},
   "outputs": [
    {
     "name": "stdout",
     "output_type": "stream",
     "text": [
      "Enter SomethingTirumala\n",
      "{'uppercase': 1, 'lowercase': 7}\n"
     ]
    }
   ],
   "source": [
    "upper_and_lower()"
   ]
  },
  {
   "cell_type": "markdown",
   "id": "368f5e7f",
   "metadata": {},
   "source": [
    "`` Use a list comprehension to get each odd number in the list. The list is a sequence of comma seperated numbers ``\n",
    "   \n",
    "``    \n",
    "  Example : \n",
    "    input ----> 1,2,3,4,5,6,7,8,9\n",
    "    output ---> 1,3,5,7,9 \n",
    "``"
   ]
  },
  {
   "cell_type": "markdown",
   "id": "5ede4b83",
   "metadata": {},
   "source": [
    "`` Aakash Code `` "
   ]
  },
  {
   "cell_type": "code",
   "execution_count": 28,
   "id": "8da5a66a",
   "metadata": {},
   "outputs": [
    {
     "name": "stdout",
     "output_type": "stream",
     "text": [
      "Enter something1,2,3,4,5\n",
      "1,2,3,4,5 <class 'str'>\n"
     ]
    }
   ],
   "source": [
    "n = input(\"Enter something\")\n",
    "print(n,type(n))"
   ]
  },
  {
   "cell_type": "code",
   "execution_count": null,
   "id": "33755c36",
   "metadata": {},
   "outputs": [],
   "source": []
  },
  {
   "cell_type": "code",
   "execution_count": null,
   "id": "b2ef8cae",
   "metadata": {},
   "outputs": [],
   "source": []
  },
  {
   "cell_type": "code",
   "execution_count": null,
   "id": "79c132ec",
   "metadata": {},
   "outputs": [],
   "source": []
  },
  {
   "cell_type": "code",
   "execution_count": 34,
   "id": "cd2b40b2",
   "metadata": {},
   "outputs": [
    {
     "name": "stdout",
     "output_type": "stream",
     "text": [
      "Enter numbers separated by commas:1,2,3,4,5,6\n",
      "['1', '2', '3', '4', '5', '6']\n",
      "['1', '3', '5']\n"
     ]
    }
   ],
   "source": [
    "list_of_num=input(\"Enter numbers separated by commas:\")\n",
    "l=[item for item in list_of_num.split(',')]\n",
    "print(l)\n",
    "odd_list=[]\n",
    "for i in range(0,len(l)):\n",
    "    if int(l[i])%2!=0:\n",
    "        odd_list.append(l[i])\n",
    "    else:\n",
    "        pass\n",
    "print(odd_list)\n",
    "    \n"
   ]
  },
  {
   "cell_type": "markdown",
   "id": "9aa37b2a",
   "metadata": {},
   "source": [
    "`` Implement a counter using class `` \n",
    "\n",
    "`` Basic Skeleton `` \n",
    "\n",
    "``\n",
    "class Counter:\n",
    "    count = 0\n",
    "    pass\n",
    "``"
   ]
  },
  {
   "cell_type": "code",
   "execution_count": 44,
   "id": "6c1e2ff7",
   "metadata": {},
   "outputs": [],
   "source": [
    "class Counter:\n",
    "    count = 0 \n",
    "    def inc(self):\n",
    "        Counter.count = Counter.count+1\n",
    "        return Counter.count"
   ]
  },
  {
   "cell_type": "code",
   "execution_count": 45,
   "id": "4a6abd12",
   "metadata": {},
   "outputs": [],
   "source": [
    "a= Counter()\n",
    "c = Counter()"
   ]
  },
  {
   "cell_type": "code",
   "execution_count": 46,
   "id": "c7bab18a",
   "metadata": {},
   "outputs": [
    {
     "data": {
      "text/plain": [
       "1"
      ]
     },
     "execution_count": 46,
     "metadata": {},
     "output_type": "execute_result"
    }
   ],
   "source": [
    "c.inc()"
   ]
  },
  {
   "cell_type": "code",
   "execution_count": 47,
   "id": "02770c01",
   "metadata": {},
   "outputs": [
    {
     "data": {
      "text/plain": [
       "2"
      ]
     },
     "execution_count": 47,
     "metadata": {},
     "output_type": "execute_result"
    }
   ],
   "source": [
    "c.inc()"
   ]
  },
  {
   "cell_type": "code",
   "execution_count": 48,
   "id": "0a0d02c2",
   "metadata": {},
   "outputs": [
    {
     "data": {
      "text/plain": [
       "3"
      ]
     },
     "execution_count": 48,
     "metadata": {},
     "output_type": "execute_result"
    }
   ],
   "source": [
    "a.inc()"
   ]
  },
  {
   "cell_type": "code",
   "execution_count": 51,
   "id": "0858e4fa",
   "metadata": {},
   "outputs": [],
   "source": [
    "class Counter:\n",
    "    count = 0\n",
    "    def __call__(self):\n",
    "        Counter.count+=1\n",
    "        return Counter.count\n",
    "    "
   ]
  },
  {
   "cell_type": "code",
   "execution_count": 52,
   "id": "18e5e47c",
   "metadata": {},
   "outputs": [],
   "source": [
    "c = Counter()"
   ]
  },
  {
   "cell_type": "code",
   "execution_count": 53,
   "id": "5ee6145c",
   "metadata": {},
   "outputs": [
    {
     "data": {
      "text/plain": [
       "<__main__.Counter at 0x1bcf4976730>"
      ]
     },
     "execution_count": 53,
     "metadata": {},
     "output_type": "execute_result"
    }
   ],
   "source": [
    "c"
   ]
  },
  {
   "cell_type": "code",
   "execution_count": 54,
   "id": "1db3365b",
   "metadata": {},
   "outputs": [
    {
     "data": {
      "text/plain": [
       "1"
      ]
     },
     "execution_count": 54,
     "metadata": {},
     "output_type": "execute_result"
    }
   ],
   "source": [
    "c()"
   ]
  },
  {
   "cell_type": "code",
   "execution_count": 55,
   "id": "b23ca43f",
   "metadata": {},
   "outputs": [
    {
     "data": {
      "text/plain": [
       "2"
      ]
     },
     "execution_count": 55,
     "metadata": {},
     "output_type": "execute_result"
    }
   ],
   "source": [
    "c()"
   ]
  },
  {
   "cell_type": "code",
   "execution_count": 56,
   "id": "d2bad591",
   "metadata": {},
   "outputs": [
    {
     "data": {
      "text/plain": [
       "3"
      ]
     },
     "execution_count": 56,
     "metadata": {},
     "output_type": "execute_result"
    }
   ],
   "source": [
    "c()"
   ]
  },
  {
   "cell_type": "markdown",
   "id": "933b57c7",
   "metadata": {},
   "source": [
    "# Callables \n"
   ]
  },
  {
   "cell_type": "markdown",
   "id": "2e8d2200",
   "metadata": {},
   "source": [
    "`` Function is a callable, class is too ``"
   ]
  },
  {
   "cell_type": "code",
   "execution_count": 57,
   "id": "b4624f3e",
   "metadata": {},
   "outputs": [
    {
     "name": "stderr",
     "output_type": "stream",
     "text": [
      "<>:1: SyntaxWarning: 'int' object is not callable; perhaps you missed a comma?\n",
      "<>:1: SyntaxWarning: 'int' object is not callable; perhaps you missed a comma?\n",
      "<ipython-input-57-c69d3a57c0fc>:1: SyntaxWarning: 'int' object is not callable; perhaps you missed a comma?\n",
      "  2()\n"
     ]
    },
    {
     "ename": "TypeError",
     "evalue": "'int' object is not callable",
     "output_type": "error",
     "traceback": [
      "\u001b[1;31m---------------------------------------------------------------------------\u001b[0m",
      "\u001b[1;31mTypeError\u001b[0m                                 Traceback (most recent call last)",
      "\u001b[1;32m<ipython-input-57-c69d3a57c0fc>\u001b[0m in \u001b[0;36m<module>\u001b[1;34m\u001b[0m\n\u001b[1;32m----> 1\u001b[1;33m \u001b[1;36m2\u001b[0m\u001b[1;33m(\u001b[0m\u001b[1;33m)\u001b[0m\u001b[1;33m\u001b[0m\u001b[1;33m\u001b[0m\u001b[0m\n\u001b[0m",
      "\u001b[1;31mTypeError\u001b[0m: 'int' object is not callable"
     ]
    }
   ],
   "source": [
    "2()"
   ]
  },
  {
   "cell_type": "code",
   "execution_count": 61,
   "id": "e9aebae2",
   "metadata": {},
   "outputs": [],
   "source": [
    "class Counter:\n",
    "    \"\"\"Counter class with callable\"\"\"\n",
    "    \n",
    "    count = 0\n",
    "    def __call__(self):\n",
    "        Counter.count+=1\n",
    "        return Counter.count\n",
    "    "
   ]
  },
  {
   "cell_type": "raw",
   "id": "5d8dcd84",
   "metadata": {},
   "source": [
    "Counter.__dict__"
   ]
  },
  {
   "cell_type": "code",
   "execution_count": 62,
   "id": "db8208f2",
   "metadata": {},
   "outputs": [
    {
     "data": {
      "text/plain": [
       "mappingproxy({'__module__': '__main__',\n",
       "              '__doc__': 'Counter class with callable',\n",
       "              'count': 0,\n",
       "              '__call__': <function __main__.Counter.__call__(self)>,\n",
       "              '__dict__': <attribute '__dict__' of 'Counter' objects>,\n",
       "              '__weakref__': <attribute '__weakref__' of 'Counter' objects>})"
      ]
     },
     "execution_count": 62,
     "metadata": {},
     "output_type": "execute_result"
    }
   ],
   "source": [
    "Counter.__dict__"
   ]
  },
  {
   "cell_type": "code",
   "execution_count": 63,
   "id": "ca9a0199",
   "metadata": {},
   "outputs": [
    {
     "data": {
      "text/plain": [
       "<function callable(obj, /)>"
      ]
     },
     "execution_count": 63,
     "metadata": {},
     "output_type": "execute_result"
    }
   ],
   "source": [
    "callable"
   ]
  },
  {
   "cell_type": "code",
   "execution_count": 64,
   "id": "7b7d597a",
   "metadata": {},
   "outputs": [
    {
     "name": "stdout",
     "output_type": "stream",
     "text": [
      "Help on built-in function callable in module builtins:\n",
      "\n",
      "callable(obj, /)\n",
      "    Return whether the object is callable (i.e., some kind of function).\n",
      "    \n",
      "    Note that classes are callable, as are instances of classes with a\n",
      "    __call__() method.\n",
      "\n"
     ]
    }
   ],
   "source": [
    "help(callable)"
   ]
  },
  {
   "cell_type": "code",
   "execution_count": 65,
   "id": "0c18a764",
   "metadata": {},
   "outputs": [
    {
     "data": {
      "text/plain": [
       "False"
      ]
     },
     "execution_count": 65,
     "metadata": {},
     "output_type": "execute_result"
    }
   ],
   "source": [
    "callable(True)"
   ]
  },
  {
   "cell_type": "code",
   "execution_count": 66,
   "id": "f58df6b9",
   "metadata": {},
   "outputs": [
    {
     "data": {
      "text/plain": [
       "True"
      ]
     },
     "execution_count": 66,
     "metadata": {},
     "output_type": "execute_result"
    }
   ],
   "source": [
    "callable(print)"
   ]
  },
  {
   "cell_type": "code",
   "execution_count": 67,
   "id": "e92dcdba",
   "metadata": {},
   "outputs": [
    {
     "data": {
      "text/plain": [
       "False"
      ]
     },
     "execution_count": 67,
     "metadata": {},
     "output_type": "execute_result"
    }
   ],
   "source": [
    "callable(1)"
   ]
  },
  {
   "cell_type": "code",
   "execution_count": 68,
   "id": "5c06109d",
   "metadata": {},
   "outputs": [
    {
     "data": {
      "text/plain": [
       "True"
      ]
     },
     "execution_count": 68,
     "metadata": {},
     "output_type": "execute_result"
    }
   ],
   "source": [
    "callable(c)"
   ]
  },
  {
   "cell_type": "code",
   "execution_count": 69,
   "id": "75df316d",
   "metadata": {},
   "outputs": [],
   "source": [
    "class One:\n",
    "    def __init__(self):\n",
    "        print('__init__ called ')\n",
    "        "
   ]
  },
  {
   "cell_type": "code",
   "execution_count": 70,
   "id": "884d3aae",
   "metadata": {},
   "outputs": [],
   "source": [
    "class Two:\n",
    "    def __init__(self):\n",
    "        print('__init__ called')\n",
    "        \n",
    "    def __call__(self):\n",
    "        print('__call__ implemented ')"
   ]
  },
  {
   "cell_type": "code",
   "execution_count": 71,
   "id": "78d1f768",
   "metadata": {},
   "outputs": [
    {
     "data": {
      "text/plain": [
       "mappingproxy({'__module__': '__main__',\n",
       "              '__init__': <function __main__.One.__init__(self)>,\n",
       "              '__dict__': <attribute '__dict__' of 'One' objects>,\n",
       "              '__weakref__': <attribute '__weakref__' of 'One' objects>,\n",
       "              '__doc__': None})"
      ]
     },
     "execution_count": 71,
     "metadata": {},
     "output_type": "execute_result"
    }
   ],
   "source": [
    "One.__dict__"
   ]
  },
  {
   "cell_type": "code",
   "execution_count": 72,
   "id": "4afa1108",
   "metadata": {},
   "outputs": [
    {
     "data": {
      "text/plain": [
       "mappingproxy({'__module__': '__main__',\n",
       "              '__init__': <function __main__.Two.__init__(self)>,\n",
       "              '__call__': <function __main__.Two.__call__(self)>,\n",
       "              '__dict__': <attribute '__dict__' of 'Two' objects>,\n",
       "              '__weakref__': <attribute '__weakref__' of 'Two' objects>,\n",
       "              '__doc__': None})"
      ]
     },
     "execution_count": 72,
     "metadata": {},
     "output_type": "execute_result"
    }
   ],
   "source": [
    "Two.__dict__"
   ]
  },
  {
   "cell_type": "code",
   "execution_count": 73,
   "id": "7a12a1ac",
   "metadata": {},
   "outputs": [
    {
     "name": "stdout",
     "output_type": "stream",
     "text": [
      "__init__ called \n"
     ]
    }
   ],
   "source": [
    "one = One()"
   ]
  },
  {
   "cell_type": "code",
   "execution_count": 74,
   "id": "95fa2786",
   "metadata": {},
   "outputs": [
    {
     "data": {
      "text/plain": [
       "False"
      ]
     },
     "execution_count": 74,
     "metadata": {},
     "output_type": "execute_result"
    }
   ],
   "source": [
    "callable(one)"
   ]
  },
  {
   "cell_type": "code",
   "execution_count": 75,
   "id": "3ccfcf73",
   "metadata": {},
   "outputs": [
    {
     "name": "stdout",
     "output_type": "stream",
     "text": [
      "__init__ called\n"
     ]
    }
   ],
   "source": [
    "two = Two()"
   ]
  },
  {
   "cell_type": "code",
   "execution_count": 76,
   "id": "f75d9c41",
   "metadata": {},
   "outputs": [
    {
     "data": {
      "text/plain": [
       "True"
      ]
     },
     "execution_count": 76,
     "metadata": {},
     "output_type": "execute_result"
    }
   ],
   "source": [
    "callable(two)"
   ]
  },
  {
   "cell_type": "code",
   "execution_count": 77,
   "id": "926a5571",
   "metadata": {},
   "outputs": [
    {
     "name": "stdout",
     "output_type": "stream",
     "text": [
      "__call__ implemented \n"
     ]
    }
   ],
   "source": [
    "two()"
   ]
  },
  {
   "cell_type": "markdown",
   "id": "07369545",
   "metadata": {},
   "source": [
    "`` Create a function that takes a function as an argument and variable number of \n",
    "positional arguments / keyword arg. Your program should be able to count the number of times\n",
    "a function has been called ``"
   ]
  },
  {
   "cell_type": "code",
   "execution_count": 78,
   "id": "0c7f76c6",
   "metadata": {},
   "outputs": [],
   "source": [
    "def my_func(fn,*args,**kwargs):\n",
    "    fn(*args,**kwargs)\n",
    "    "
   ]
  },
  {
   "cell_type": "code",
   "execution_count": 79,
   "id": "78600299",
   "metadata": {},
   "outputs": [
    {
     "name": "stdout",
     "output_type": "stream",
     "text": [
      "1 2 3\n"
     ]
    }
   ],
   "source": [
    "my_func(print,1,2,3)"
   ]
  },
  {
   "cell_type": "code",
   "execution_count": 80,
   "id": "ad8aa149",
   "metadata": {},
   "outputs": [
    {
     "name": "stdout",
     "output_type": "stream",
     "text": [
      "Hello Akash \n"
     ]
    }
   ],
   "source": [
    "my_func(print,\"Hello Akash \")"
   ]
  },
  {
   "cell_type": "code",
   "execution_count": null,
   "id": "d0da979e",
   "metadata": {},
   "outputs": [],
   "source": []
  }
 ],
 "metadata": {
  "kernelspec": {
   "display_name": "Python 3",
   "language": "python",
   "name": "python3"
  },
  "language_info": {
   "codemirror_mode": {
    "name": "ipython",
    "version": 3
   },
   "file_extension": ".py",
   "mimetype": "text/x-python",
   "name": "python",
   "nbconvert_exporter": "python",
   "pygments_lexer": "ipython3",
   "version": "3.9.6"
  }
 },
 "nbformat": 4,
 "nbformat_minor": 5
}
