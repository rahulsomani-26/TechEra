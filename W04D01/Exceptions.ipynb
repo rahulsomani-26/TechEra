{
 "cells": [
  {
   "cell_type": "markdown",
   "id": "d1f9d8c5",
   "metadata": {},
   "source": [
    "# Exceptions"
   ]
  },
  {
   "cell_type": "code",
   "execution_count": 1,
   "id": "1374d3ba",
   "metadata": {},
   "outputs": [
    {
     "name": "stdout",
     "output_type": "stream",
     "text": [
      "First Line\n",
      "Second Line\n"
     ]
    },
    {
     "ename": "ZeroDivisionError",
     "evalue": "division by zero",
     "output_type": "error",
     "traceback": [
      "\u001b[1;31m---------------------------------------------------------------------------\u001b[0m",
      "\u001b[1;31mZeroDivisionError\u001b[0m                         Traceback (most recent call last)",
      "\u001b[1;32m<ipython-input-1-e1cab8ccba36>\u001b[0m in \u001b[0;36m<module>\u001b[1;34m\u001b[0m\n\u001b[0;32m      2\u001b[0m \u001b[0mprint\u001b[0m\u001b[1;33m(\u001b[0m\u001b[1;34m'Second Line'\u001b[0m\u001b[1;33m)\u001b[0m\u001b[1;33m\u001b[0m\u001b[1;33m\u001b[0m\u001b[0m\n\u001b[0;32m      3\u001b[0m \u001b[0ma\u001b[0m\u001b[1;33m,\u001b[0m\u001b[0mb\u001b[0m\u001b[1;33m=\u001b[0m\u001b[1;36m1\u001b[0m\u001b[1;33m,\u001b[0m\u001b[1;36m0\u001b[0m\u001b[1;33m\u001b[0m\u001b[1;33m\u001b[0m\u001b[0m\n\u001b[1;32m----> 4\u001b[1;33m \u001b[0mr\u001b[0m \u001b[1;33m=\u001b[0m \u001b[0ma\u001b[0m\u001b[1;33m/\u001b[0m\u001b[0mb\u001b[0m\u001b[1;33m\u001b[0m\u001b[1;33m\u001b[0m\u001b[0m\n\u001b[0m\u001b[0;32m      5\u001b[0m \u001b[0mprint\u001b[0m\u001b[1;33m(\u001b[0m\u001b[1;34m'Third printable Line'\u001b[0m\u001b[1;33m)\u001b[0m\u001b[1;33m\u001b[0m\u001b[1;33m\u001b[0m\u001b[0m\n\u001b[0;32m      6\u001b[0m \u001b[0mprint\u001b[0m\u001b[1;33m(\u001b[0m\u001b[1;34m'End of Program'\u001b[0m\u001b[1;33m)\u001b[0m\u001b[1;33m\u001b[0m\u001b[1;33m\u001b[0m\u001b[0m\n",
      "\u001b[1;31mZeroDivisionError\u001b[0m: division by zero"
     ]
    }
   ],
   "source": [
    "print('First Line')\n",
    "print('Second Line')\n",
    "a,b=1,0\n",
    "r = a/b\n",
    "print('Third printable Line')\n",
    "print('End of Program')"
   ]
  },
  {
   "cell_type": "markdown",
   "id": "df22f738",
   "metadata": {},
   "source": [
    "`` Exception is a class and it is a subclass of BaseException ``"
   ]
  },
  {
   "cell_type": "code",
   "execution_count": 2,
   "id": "539b5d82",
   "metadata": {},
   "outputs": [
    {
     "name": "stdout",
     "output_type": "stream",
     "text": [
      "<class 'type'>\n"
     ]
    }
   ],
   "source": [
    "print(type(Exception))"
   ]
  },
  {
   "cell_type": "code",
   "execution_count": 3,
   "id": "451c188f",
   "metadata": {},
   "outputs": [
    {
     "data": {
      "text/plain": [
       "<function issubclass(cls, class_or_tuple, /)>"
      ]
     },
     "execution_count": 3,
     "metadata": {},
     "output_type": "execute_result"
    }
   ],
   "source": [
    "issubclass"
   ]
  },
  {
   "cell_type": "code",
   "execution_count": 4,
   "id": "fc924797",
   "metadata": {},
   "outputs": [
    {
     "data": {
      "text/plain": [
       "True"
      ]
     },
     "execution_count": 4,
     "metadata": {},
     "output_type": "execute_result"
    }
   ],
   "source": [
    "issubclass(Exception,BaseException)"
   ]
  },
  {
   "cell_type": "markdown",
   "id": "d67e0797",
   "metadata": {},
   "source": [
    "`` Syntax : ``\n",
    "    \n",
    "    `` try:\n",
    "          statement1\n",
    "          statement2\n",
    "       except :\n",
    "          statement3\n",
    "       \n",
    "       finally:\n",
    "            It will always be executed \n",
    "            \n",
    "``\n",
    "    \n",
    "    "
   ]
  },
  {
   "cell_type": "code",
   "execution_count": 5,
   "id": "39095f33",
   "metadata": {},
   "outputs": [
    {
     "name": "stdout",
     "output_type": "stream",
     "text": [
      "First Line\n",
      "Second Line\n",
      "Error occured\n",
      "Third printable Line\n",
      "End of Program\n"
     ]
    }
   ],
   "source": [
    "print('First Line')\n",
    "print('Second Line')\n",
    "a,b=1,0\n",
    "try:\n",
    "    r = a/b\n",
    "except:\n",
    "    print(\"Error occured\")\n",
    "print('Third printable Line')\n",
    "print('End of Program')"
   ]
  },
  {
   "cell_type": "code",
   "execution_count": 6,
   "id": "7592a92b",
   "metadata": {},
   "outputs": [
    {
     "ename": "ZeroDivisionError",
     "evalue": "division by zero",
     "output_type": "error",
     "traceback": [
      "\u001b[1;31m---------------------------------------------------------------------------\u001b[0m",
      "\u001b[1;31mZeroDivisionError\u001b[0m                         Traceback (most recent call last)",
      "\u001b[1;32m<ipython-input-6-9e1622b385b6>\u001b[0m in \u001b[0;36m<module>\u001b[1;34m\u001b[0m\n\u001b[1;32m----> 1\u001b[1;33m \u001b[1;36m1\u001b[0m\u001b[1;33m/\u001b[0m\u001b[1;36m0\u001b[0m\u001b[1;33m\u001b[0m\u001b[1;33m\u001b[0m\u001b[0m\n\u001b[0m",
      "\u001b[1;31mZeroDivisionError\u001b[0m: division by zero"
     ]
    }
   ],
   "source": [
    "1/0"
   ]
  },
  {
   "cell_type": "code",
   "execution_count": 7,
   "id": "12b53dd8",
   "metadata": {},
   "outputs": [
    {
     "ename": "NameError",
     "evalue": "name 'p' is not defined",
     "output_type": "error",
     "traceback": [
      "\u001b[1;31m---------------------------------------------------------------------------\u001b[0m",
      "\u001b[1;31mNameError\u001b[0m                                 Traceback (most recent call last)",
      "\u001b[1;32m<ipython-input-7-6c10289a8da7>\u001b[0m in \u001b[0;36m<module>\u001b[1;34m\u001b[0m\n\u001b[1;32m----> 1\u001b[1;33m \u001b[0mp\u001b[0m\u001b[1;33m\u001b[0m\u001b[1;33m\u001b[0m\u001b[0m\n\u001b[0m",
      "\u001b[1;31mNameError\u001b[0m: name 'p' is not defined"
     ]
    }
   ],
   "source": [
    "p"
   ]
  },
  {
   "cell_type": "code",
   "execution_count": 8,
   "id": "edb7d192",
   "metadata": {},
   "outputs": [],
   "source": [
    "l=[1,2]\n"
   ]
  },
  {
   "cell_type": "code",
   "execution_count": 9,
   "id": "3af14f43",
   "metadata": {},
   "outputs": [
    {
     "ename": "IndexError",
     "evalue": "list index out of range",
     "output_type": "error",
     "traceback": [
      "\u001b[1;31m---------------------------------------------------------------------------\u001b[0m",
      "\u001b[1;31mIndexError\u001b[0m                                Traceback (most recent call last)",
      "\u001b[1;32m<ipython-input-9-cb842cca7e42>\u001b[0m in \u001b[0;36m<module>\u001b[1;34m\u001b[0m\n\u001b[1;32m----> 1\u001b[1;33m \u001b[0ml\u001b[0m\u001b[1;33m[\u001b[0m\u001b[1;36m6\u001b[0m\u001b[1;33m]\u001b[0m\u001b[1;33m\u001b[0m\u001b[1;33m\u001b[0m\u001b[0m\n\u001b[0m",
      "\u001b[1;31mIndexError\u001b[0m: list index out of range"
     ]
    }
   ],
   "source": [
    "l[6]"
   ]
  },
  {
   "cell_type": "code",
   "execution_count": 10,
   "id": "c0de60fc",
   "metadata": {},
   "outputs": [
    {
     "name": "stdout",
     "output_type": "stream",
     "text": [
      "['__cause__', '__class__', '__context__', '__delattr__', '__dict__', '__dir__', '__doc__', '__eq__', '__format__', '__ge__', '__getattribute__', '__gt__', '__hash__', '__init__', '__init_subclass__', '__le__', '__lt__', '__ne__', '__new__', '__reduce__', '__reduce_ex__', '__repr__', '__setattr__', '__setstate__', '__sizeof__', '__str__', '__subclasshook__', '__suppress_context__', '__traceback__', 'args', 'with_traceback']\n"
     ]
    }
   ],
   "source": [
    "print(dir(BaseException))"
   ]
  },
  {
   "cell_type": "code",
   "execution_count": 11,
   "id": "038dce65",
   "metadata": {},
   "outputs": [
    {
     "data": {
      "text/plain": [
       "mappingproxy({'__repr__': <slot wrapper '__repr__' of 'BaseException' objects>,\n",
       "              '__str__': <slot wrapper '__str__' of 'BaseException' objects>,\n",
       "              '__getattribute__': <slot wrapper '__getattribute__' of 'BaseException' objects>,\n",
       "              '__setattr__': <slot wrapper '__setattr__' of 'BaseException' objects>,\n",
       "              '__delattr__': <slot wrapper '__delattr__' of 'BaseException' objects>,\n",
       "              '__init__': <slot wrapper '__init__' of 'BaseException' objects>,\n",
       "              '__new__': <function BaseException.__new__(*args, **kwargs)>,\n",
       "              '__reduce__': <method '__reduce__' of 'BaseException' objects>,\n",
       "              '__setstate__': <method '__setstate__' of 'BaseException' objects>,\n",
       "              'with_traceback': <method 'with_traceback' of 'BaseException' objects>,\n",
       "              '__suppress_context__': <member '__suppress_context__' of 'BaseException' objects>,\n",
       "              '__dict__': <attribute '__dict__' of 'BaseException' objects>,\n",
       "              'args': <attribute 'args' of 'BaseException' objects>,\n",
       "              '__traceback__': <attribute '__traceback__' of 'BaseException' objects>,\n",
       "              '__context__': <attribute '__context__' of 'BaseException' objects>,\n",
       "              '__cause__': <attribute '__cause__' of 'BaseException' objects>,\n",
       "              '__doc__': 'Common base class for all exceptions'})"
      ]
     },
     "execution_count": 11,
     "metadata": {},
     "output_type": "execute_result"
    }
   ],
   "source": [
    "BaseException.__dict__"
   ]
  },
  {
   "cell_type": "code",
   "execution_count": 12,
   "id": "e16f1419",
   "metadata": {},
   "outputs": [],
   "source": [
    "def f1():\n",
    "    l=[1,2,3]\n",
    "    print(\"Hello I am a function \")\n",
    "    print(f1.__name__)\n",
    "    print(l[10])\n",
    "    print(\"These will not be executed at all \")\n",
    "    print('End of the Program'.center(100,'*'))"
   ]
  },
  {
   "cell_type": "code",
   "execution_count": 13,
   "id": "53e731bd",
   "metadata": {},
   "outputs": [
    {
     "data": {
      "text/plain": [
       "{'__name__': '__main__',\n",
       " '__doc__': 'Automatically created module for IPython interactive environment',\n",
       " '__package__': None,\n",
       " '__loader__': None,\n",
       " '__spec__': None,\n",
       " '__builtin__': <module 'builtins' (built-in)>,\n",
       " '__builtins__': <module 'builtins' (built-in)>,\n",
       " '_ih': ['',\n",
       "  \"print('First Line')\\nprint('Second Line')\\na,b=1,0\\nr = a/b\\nprint('Third printable Line')\\nprint('End of Program')\",\n",
       "  'print(type(Exception))',\n",
       "  'issubclass',\n",
       "  'issubclass(Exception,BaseException)',\n",
       "  'print(\\'First Line\\')\\nprint(\\'Second Line\\')\\na,b=1,0\\ntry:\\n    r = a/b\\nexcept:\\n    print(\"Error occured\")\\nprint(\\'Third printable Line\\')\\nprint(\\'End of Program\\')',\n",
       "  '1/0',\n",
       "  'p',\n",
       "  'l=[1,2]',\n",
       "  'l[6]',\n",
       "  'print(dir(BaseException))',\n",
       "  'BaseException.__dict__',\n",
       "  'def f1():\\n    l=[1,2,3]\\n    print(\"Hello I am a function \")\\n    print(f1.__name__)\\n    print(l[10])\\n    print(\"These will not be executed at all \")\\n    print(\\'End of the Program\\'.center(100,\\'*\\'))',\n",
       "  'globals()'],\n",
       " '_oh': {3: <function issubclass(cls, class_or_tuple, /)>,\n",
       "  4: True,\n",
       "  11: mappingproxy({'__repr__': <slot wrapper '__repr__' of 'BaseException' objects>,\n",
       "                '__str__': <slot wrapper '__str__' of 'BaseException' objects>,\n",
       "                '__getattribute__': <slot wrapper '__getattribute__' of 'BaseException' objects>,\n",
       "                '__setattr__': <slot wrapper '__setattr__' of 'BaseException' objects>,\n",
       "                '__delattr__': <slot wrapper '__delattr__' of 'BaseException' objects>,\n",
       "                '__init__': <slot wrapper '__init__' of 'BaseException' objects>,\n",
       "                '__new__': <function BaseException.__new__(*args, **kwargs)>,\n",
       "                '__reduce__': <method '__reduce__' of 'BaseException' objects>,\n",
       "                '__setstate__': <method '__setstate__' of 'BaseException' objects>,\n",
       "                'with_traceback': <method 'with_traceback' of 'BaseException' objects>,\n",
       "                '__suppress_context__': <member '__suppress_context__' of 'BaseException' objects>,\n",
       "                '__dict__': <attribute '__dict__' of 'BaseException' objects>,\n",
       "                'args': <attribute 'args' of 'BaseException' objects>,\n",
       "                '__traceback__': <attribute '__traceback__' of 'BaseException' objects>,\n",
       "                '__context__': <attribute '__context__' of 'BaseException' objects>,\n",
       "                '__cause__': <attribute '__cause__' of 'BaseException' objects>,\n",
       "                '__doc__': 'Common base class for all exceptions'})},\n",
       " '_dh': ['C:\\\\Users\\\\soman\\\\TE_BATCH2_PYTHON\\\\W04D01'],\n",
       " 'In': ['',\n",
       "  \"print('First Line')\\nprint('Second Line')\\na,b=1,0\\nr = a/b\\nprint('Third printable Line')\\nprint('End of Program')\",\n",
       "  'print(type(Exception))',\n",
       "  'issubclass',\n",
       "  'issubclass(Exception,BaseException)',\n",
       "  'print(\\'First Line\\')\\nprint(\\'Second Line\\')\\na,b=1,0\\ntry:\\n    r = a/b\\nexcept:\\n    print(\"Error occured\")\\nprint(\\'Third printable Line\\')\\nprint(\\'End of Program\\')',\n",
       "  '1/0',\n",
       "  'p',\n",
       "  'l=[1,2]',\n",
       "  'l[6]',\n",
       "  'print(dir(BaseException))',\n",
       "  'BaseException.__dict__',\n",
       "  'def f1():\\n    l=[1,2,3]\\n    print(\"Hello I am a function \")\\n    print(f1.__name__)\\n    print(l[10])\\n    print(\"These will not be executed at all \")\\n    print(\\'End of the Program\\'.center(100,\\'*\\'))',\n",
       "  'globals()'],\n",
       " 'Out': {3: <function issubclass(cls, class_or_tuple, /)>,\n",
       "  4: True,\n",
       "  11: mappingproxy({'__repr__': <slot wrapper '__repr__' of 'BaseException' objects>,\n",
       "                '__str__': <slot wrapper '__str__' of 'BaseException' objects>,\n",
       "                '__getattribute__': <slot wrapper '__getattribute__' of 'BaseException' objects>,\n",
       "                '__setattr__': <slot wrapper '__setattr__' of 'BaseException' objects>,\n",
       "                '__delattr__': <slot wrapper '__delattr__' of 'BaseException' objects>,\n",
       "                '__init__': <slot wrapper '__init__' of 'BaseException' objects>,\n",
       "                '__new__': <function BaseException.__new__(*args, **kwargs)>,\n",
       "                '__reduce__': <method '__reduce__' of 'BaseException' objects>,\n",
       "                '__setstate__': <method '__setstate__' of 'BaseException' objects>,\n",
       "                'with_traceback': <method 'with_traceback' of 'BaseException' objects>,\n",
       "                '__suppress_context__': <member '__suppress_context__' of 'BaseException' objects>,\n",
       "                '__dict__': <attribute '__dict__' of 'BaseException' objects>,\n",
       "                'args': <attribute 'args' of 'BaseException' objects>,\n",
       "                '__traceback__': <attribute '__traceback__' of 'BaseException' objects>,\n",
       "                '__context__': <attribute '__context__' of 'BaseException' objects>,\n",
       "                '__cause__': <attribute '__cause__' of 'BaseException' objects>,\n",
       "                '__doc__': 'Common base class for all exceptions'})},\n",
       " 'get_ipython': <bound method InteractiveShell.get_ipython of <ipykernel.zmqshell.ZMQInteractiveShell object at 0x000001DA0C8FE670>>,\n",
       " 'exit': <IPython.core.autocall.ZMQExitAutocall at 0x1da0c8fe8b0>,\n",
       " 'quit': <IPython.core.autocall.ZMQExitAutocall at 0x1da0c8fe8b0>,\n",
       " '_': mappingproxy({'__repr__': <slot wrapper '__repr__' of 'BaseException' objects>,\n",
       "               '__str__': <slot wrapper '__str__' of 'BaseException' objects>,\n",
       "               '__getattribute__': <slot wrapper '__getattribute__' of 'BaseException' objects>,\n",
       "               '__setattr__': <slot wrapper '__setattr__' of 'BaseException' objects>,\n",
       "               '__delattr__': <slot wrapper '__delattr__' of 'BaseException' objects>,\n",
       "               '__init__': <slot wrapper '__init__' of 'BaseException' objects>,\n",
       "               '__new__': <function BaseException.__new__(*args, **kwargs)>,\n",
       "               '__reduce__': <method '__reduce__' of 'BaseException' objects>,\n",
       "               '__setstate__': <method '__setstate__' of 'BaseException' objects>,\n",
       "               'with_traceback': <method 'with_traceback' of 'BaseException' objects>,\n",
       "               '__suppress_context__': <member '__suppress_context__' of 'BaseException' objects>,\n",
       "               '__dict__': <attribute '__dict__' of 'BaseException' objects>,\n",
       "               'args': <attribute 'args' of 'BaseException' objects>,\n",
       "               '__traceback__': <attribute '__traceback__' of 'BaseException' objects>,\n",
       "               '__context__': <attribute '__context__' of 'BaseException' objects>,\n",
       "               '__cause__': <attribute '__cause__' of 'BaseException' objects>,\n",
       "               '__doc__': 'Common base class for all exceptions'}),\n",
       " '__': True,\n",
       " '___': <function issubclass(cls, class_or_tuple, /)>,\n",
       " '_i': 'def f1():\\n    l=[1,2,3]\\n    print(\"Hello I am a function \")\\n    print(f1.__name__)\\n    print(l[10])\\n    print(\"These will not be executed at all \")\\n    print(\\'End of the Program\\'.center(100,\\'*\\'))',\n",
       " '_ii': 'BaseException.__dict__',\n",
       " '_iii': 'print(dir(BaseException))',\n",
       " '_i1': \"print('First Line')\\nprint('Second Line')\\na,b=1,0\\nr = a/b\\nprint('Third printable Line')\\nprint('End of Program')\",\n",
       " 'a': 1,\n",
       " 'b': 0,\n",
       " '_i2': 'print(type(Exception))',\n",
       " '_i3': 'issubclass',\n",
       " '_3': <function issubclass(cls, class_or_tuple, /)>,\n",
       " '_i4': 'issubclass(Exception,BaseException)',\n",
       " '_4': True,\n",
       " '_i5': 'print(\\'First Line\\')\\nprint(\\'Second Line\\')\\na,b=1,0\\ntry:\\n    r = a/b\\nexcept:\\n    print(\"Error occured\")\\nprint(\\'Third printable Line\\')\\nprint(\\'End of Program\\')',\n",
       " '_i6': '1/0',\n",
       " '_i7': 'p',\n",
       " '_i8': 'l=[1,2]',\n",
       " 'l': [1, 2],\n",
       " '_i9': 'l[6]',\n",
       " '_i10': 'print(dir(BaseException))',\n",
       " '_i11': 'BaseException.__dict__',\n",
       " '_11': mappingproxy({'__repr__': <slot wrapper '__repr__' of 'BaseException' objects>,\n",
       "               '__str__': <slot wrapper '__str__' of 'BaseException' objects>,\n",
       "               '__getattribute__': <slot wrapper '__getattribute__' of 'BaseException' objects>,\n",
       "               '__setattr__': <slot wrapper '__setattr__' of 'BaseException' objects>,\n",
       "               '__delattr__': <slot wrapper '__delattr__' of 'BaseException' objects>,\n",
       "               '__init__': <slot wrapper '__init__' of 'BaseException' objects>,\n",
       "               '__new__': <function BaseException.__new__(*args, **kwargs)>,\n",
       "               '__reduce__': <method '__reduce__' of 'BaseException' objects>,\n",
       "               '__setstate__': <method '__setstate__' of 'BaseException' objects>,\n",
       "               'with_traceback': <method 'with_traceback' of 'BaseException' objects>,\n",
       "               '__suppress_context__': <member '__suppress_context__' of 'BaseException' objects>,\n",
       "               '__dict__': <attribute '__dict__' of 'BaseException' objects>,\n",
       "               'args': <attribute 'args' of 'BaseException' objects>,\n",
       "               '__traceback__': <attribute '__traceback__' of 'BaseException' objects>,\n",
       "               '__context__': <attribute '__context__' of 'BaseException' objects>,\n",
       "               '__cause__': <attribute '__cause__' of 'BaseException' objects>,\n",
       "               '__doc__': 'Common base class for all exceptions'}),\n",
       " '_i12': 'def f1():\\n    l=[1,2,3]\\n    print(\"Hello I am a function \")\\n    print(f1.__name__)\\n    print(l[10])\\n    print(\"These will not be executed at all \")\\n    print(\\'End of the Program\\'.center(100,\\'*\\'))',\n",
       " 'f1': <function __main__.f1()>,\n",
       " '_i13': 'globals()'}"
      ]
     },
     "execution_count": 13,
     "metadata": {},
     "output_type": "execute_result"
    }
   ],
   "source": [
    "globals()"
   ]
  },
  {
   "cell_type": "code",
   "execution_count": 14,
   "id": "f0703901",
   "metadata": {},
   "outputs": [
    {
     "name": "stdout",
     "output_type": "stream",
     "text": [
      "Hello I am a function \n",
      "f1\n"
     ]
    },
    {
     "ename": "IndexError",
     "evalue": "list index out of range",
     "output_type": "error",
     "traceback": [
      "\u001b[1;31m---------------------------------------------------------------------------\u001b[0m",
      "\u001b[1;31mIndexError\u001b[0m                                Traceback (most recent call last)",
      "\u001b[1;32m<ipython-input-14-b27bf7c7aafe>\u001b[0m in \u001b[0;36m<module>\u001b[1;34m\u001b[0m\n\u001b[1;32m----> 1\u001b[1;33m \u001b[0mf1\u001b[0m\u001b[1;33m(\u001b[0m\u001b[1;33m)\u001b[0m\u001b[1;33m\u001b[0m\u001b[1;33m\u001b[0m\u001b[0m\n\u001b[0m",
      "\u001b[1;32m<ipython-input-12-f1846c518031>\u001b[0m in \u001b[0;36mf1\u001b[1;34m()\u001b[0m\n\u001b[0;32m      3\u001b[0m     \u001b[0mprint\u001b[0m\u001b[1;33m(\u001b[0m\u001b[1;34m\"Hello I am a function \"\u001b[0m\u001b[1;33m)\u001b[0m\u001b[1;33m\u001b[0m\u001b[1;33m\u001b[0m\u001b[0m\n\u001b[0;32m      4\u001b[0m     \u001b[0mprint\u001b[0m\u001b[1;33m(\u001b[0m\u001b[0mf1\u001b[0m\u001b[1;33m.\u001b[0m\u001b[0m__name__\u001b[0m\u001b[1;33m)\u001b[0m\u001b[1;33m\u001b[0m\u001b[1;33m\u001b[0m\u001b[0m\n\u001b[1;32m----> 5\u001b[1;33m     \u001b[0mprint\u001b[0m\u001b[1;33m(\u001b[0m\u001b[0ml\u001b[0m\u001b[1;33m[\u001b[0m\u001b[1;36m10\u001b[0m\u001b[1;33m]\u001b[0m\u001b[1;33m)\u001b[0m\u001b[1;33m\u001b[0m\u001b[1;33m\u001b[0m\u001b[0m\n\u001b[0m\u001b[0;32m      6\u001b[0m     \u001b[0mprint\u001b[0m\u001b[1;33m(\u001b[0m\u001b[1;34m\"These will not be executed at all \"\u001b[0m\u001b[1;33m)\u001b[0m\u001b[1;33m\u001b[0m\u001b[1;33m\u001b[0m\u001b[0m\n\u001b[0;32m      7\u001b[0m     \u001b[0mprint\u001b[0m\u001b[1;33m(\u001b[0m\u001b[1;34m'End of the Program'\u001b[0m\u001b[1;33m.\u001b[0m\u001b[0mcenter\u001b[0m\u001b[1;33m(\u001b[0m\u001b[1;36m100\u001b[0m\u001b[1;33m,\u001b[0m\u001b[1;34m'*'\u001b[0m\u001b[1;33m)\u001b[0m\u001b[1;33m)\u001b[0m\u001b[1;33m\u001b[0m\u001b[1;33m\u001b[0m\u001b[0m\n",
      "\u001b[1;31mIndexError\u001b[0m: list index out of range"
     ]
    }
   ],
   "source": [
    "f1()"
   ]
  },
  {
   "cell_type": "code",
   "execution_count": 15,
   "id": "04ebd0d9",
   "metadata": {},
   "outputs": [],
   "source": [
    "def f1():\n",
    "    l=[1,2,3]\n",
    "    print(\"Hello I am a function \")\n",
    "    print(f1.__name__)\n",
    "    try:\n",
    "        print(l[10])\n",
    "    except:\n",
    "        print('An error occured.. but will continue')\n",
    "    print(\"These will not be executed at all \")\n",
    "    print('End of the Program'.center(100,'*'))"
   ]
  },
  {
   "cell_type": "code",
   "execution_count": 16,
   "id": "b9116a3b",
   "metadata": {},
   "outputs": [
    {
     "name": "stdout",
     "output_type": "stream",
     "text": [
      "Hello I am a function \n",
      "f1\n",
      "An error occured.. but will continue\n",
      "These will not be executed at all \n",
      "*****************************************End of the Program*****************************************\n"
     ]
    }
   ],
   "source": [
    "f1()"
   ]
  },
  {
   "cell_type": "code",
   "execution_count": 17,
   "id": "30dad2e7",
   "metadata": {},
   "outputs": [],
   "source": [
    "def f1():\n",
    "    l=[1,2,3]\n",
    "    print(\"Hello I am a function \")\n",
    "    print(f1.__name__)\n",
    "    try:\n",
    "        print(l[10])\n",
    "    except Exception as e:\n",
    "        print(e,e.__class__)\n",
    "        print('An error occured.. but will continue')\n",
    "    print(\"These will not be executed at all \")\n",
    "    print('End of the Program'.center(100,'*'))"
   ]
  },
  {
   "cell_type": "code",
   "execution_count": 18,
   "id": "59e93d1e",
   "metadata": {},
   "outputs": [
    {
     "name": "stdout",
     "output_type": "stream",
     "text": [
      "Hello I am a function \n",
      "f1\n",
      "list index out of range <class 'IndexError'>\n",
      "An error occured.. but will continue\n",
      "These will not be executed at all \n",
      "*****************************************End of the Program*****************************************\n"
     ]
    }
   ],
   "source": [
    "f1()"
   ]
  },
  {
   "cell_type": "code",
   "execution_count": 19,
   "id": "633e34a3",
   "metadata": {},
   "outputs": [],
   "source": [
    "def f1():\n",
    "    l=[1,2,3]\n",
    "    print(\"Hello I am a function \")\n",
    "    print(f1.__name__)\n",
    "    try:\n",
    "        print(l[10])\n",
    "    except IndexError as e:\n",
    "        print(e)\n",
    "        print('An error occured.. but will continue')\n",
    "    print(\"These will not be executed at all \")\n",
    "    print('End of the Program'.center(100,'*'))"
   ]
  },
  {
   "cell_type": "code",
   "execution_count": 20,
   "id": "f3e8a51f",
   "metadata": {},
   "outputs": [
    {
     "name": "stdout",
     "output_type": "stream",
     "text": [
      "Hello I am a function \n",
      "f1\n",
      "list index out of range\n",
      "An error occured.. but will continue\n",
      "These will not be executed at all \n",
      "*****************************************End of the Program*****************************************\n"
     ]
    }
   ],
   "source": [
    "f1()"
   ]
  },
  {
   "cell_type": "code",
   "execution_count": 23,
   "id": "91044833",
   "metadata": {},
   "outputs": [],
   "source": [
    "class Student:\n",
    "    \n",
    "    def __init__(self,name,age):\n",
    "        self.name = name \n",
    "        self.age = age\n",
    "        \n",
    "    def __repr__(self):\n",
    "        return 'This is a object representation'\n",
    "    \n",
    "    def __str__(self):\n",
    "        return ' This is a string representation'\n",
    "    "
   ]
  },
  {
   "cell_type": "code",
   "execution_count": 24,
   "id": "8dd21edf",
   "metadata": {},
   "outputs": [
    {
     "data": {
      "text/plain": [
       "__main__.Student"
      ]
     },
     "execution_count": 24,
     "metadata": {},
     "output_type": "execute_result"
    }
   ],
   "source": [
    "Student"
   ]
  },
  {
   "cell_type": "code",
   "execution_count": 26,
   "id": "51fc1cf5",
   "metadata": {},
   "outputs": [],
   "source": [
    "s = Student('rahul',35)"
   ]
  },
  {
   "cell_type": "code",
   "execution_count": 27,
   "id": "d6e0f4b3",
   "metadata": {},
   "outputs": [
    {
     "data": {
      "text/plain": [
       "This is a object representation"
      ]
     },
     "execution_count": 27,
     "metadata": {},
     "output_type": "execute_result"
    }
   ],
   "source": [
    "s"
   ]
  },
  {
   "cell_type": "code",
   "execution_count": 28,
   "id": "eb4ba82c",
   "metadata": {},
   "outputs": [
    {
     "name": "stdout",
     "output_type": "stream",
     "text": [
      " This is a string representation\n"
     ]
    }
   ],
   "source": [
    "print(s)"
   ]
  },
  {
   "cell_type": "code",
   "execution_count": 29,
   "id": "38d512d1",
   "metadata": {},
   "outputs": [
    {
     "data": {
      "text/plain": [
       "' This is a string representation'"
      ]
     },
     "execution_count": 29,
     "metadata": {},
     "output_type": "execute_result"
    }
   ],
   "source": [
    "str(s)"
   ]
  },
  {
   "cell_type": "code",
   "execution_count": 30,
   "id": "01348884",
   "metadata": {},
   "outputs": [
    {
     "data": {
      "text/plain": [
       "'This is a object representation'"
      ]
     },
     "execution_count": 30,
     "metadata": {},
     "output_type": "execute_result"
    }
   ],
   "source": [
    "repr(s)"
   ]
  },
  {
   "cell_type": "code",
   "execution_count": 31,
   "id": "b56463c8",
   "metadata": {},
   "outputs": [],
   "source": [
    "my_error = IndexError('My Index Error')"
   ]
  },
  {
   "cell_type": "code",
   "execution_count": 32,
   "id": "ca3b2bd5",
   "metadata": {},
   "outputs": [
    {
     "data": {
      "text/plain": [
       "IndexError('My Index Error')"
      ]
     },
     "execution_count": 32,
     "metadata": {},
     "output_type": "execute_result"
    }
   ],
   "source": [
    "my_error"
   ]
  },
  {
   "cell_type": "code",
   "execution_count": 33,
   "id": "ceeb993b",
   "metadata": {},
   "outputs": [
    {
     "name": "stdout",
     "output_type": "stream",
     "text": [
      "Help on class IndexError in module builtins:\n",
      "\n",
      "class IndexError(LookupError)\n",
      " |  Sequence index out of range.\n",
      " |  \n",
      " |  Method resolution order:\n",
      " |      IndexError\n",
      " |      LookupError\n",
      " |      Exception\n",
      " |      BaseException\n",
      " |      object\n",
      " |  \n",
      " |  Methods defined here:\n",
      " |  \n",
      " |  __init__(self, /, *args, **kwargs)\n",
      " |      Initialize self.  See help(type(self)) for accurate signature.\n",
      " |  \n",
      " |  ----------------------------------------------------------------------\n",
      " |  Static methods defined here:\n",
      " |  \n",
      " |  __new__(*args, **kwargs) from builtins.type\n",
      " |      Create and return a new object.  See help(type) for accurate signature.\n",
      " |  \n",
      " |  ----------------------------------------------------------------------\n",
      " |  Methods inherited from BaseException:\n",
      " |  \n",
      " |  __delattr__(self, name, /)\n",
      " |      Implement delattr(self, name).\n",
      " |  \n",
      " |  __getattribute__(self, name, /)\n",
      " |      Return getattr(self, name).\n",
      " |  \n",
      " |  __reduce__(...)\n",
      " |      Helper for pickle.\n",
      " |  \n",
      " |  __repr__(self, /)\n",
      " |      Return repr(self).\n",
      " |  \n",
      " |  __setattr__(self, name, value, /)\n",
      " |      Implement setattr(self, name, value).\n",
      " |  \n",
      " |  __setstate__(...)\n",
      " |  \n",
      " |  __str__(self, /)\n",
      " |      Return str(self).\n",
      " |  \n",
      " |  with_traceback(...)\n",
      " |      Exception.with_traceback(tb) --\n",
      " |      set self.__traceback__ to tb and return self.\n",
      " |  \n",
      " |  ----------------------------------------------------------------------\n",
      " |  Data descriptors inherited from BaseException:\n",
      " |  \n",
      " |  __cause__\n",
      " |      exception cause\n",
      " |  \n",
      " |  __context__\n",
      " |      exception context\n",
      " |  \n",
      " |  __dict__\n",
      " |  \n",
      " |  __suppress_context__\n",
      " |  \n",
      " |  __traceback__\n",
      " |  \n",
      " |  args\n",
      "\n"
     ]
    }
   ],
   "source": [
    "help(IndexError)"
   ]
  },
  {
   "cell_type": "code",
   "execution_count": 35,
   "id": "4e682c7c",
   "metadata": {},
   "outputs": [
    {
     "ename": "ZeroDivisionError",
     "evalue": "It is a zero division error",
     "output_type": "error",
     "traceback": [
      "\u001b[1;31m---------------------------------------------------------------------------\u001b[0m",
      "\u001b[1;31mZeroDivisionError\u001b[0m                         Traceback (most recent call last)",
      "\u001b[1;32m<ipython-input-35-499b070be1fa>\u001b[0m in \u001b[0;36m<module>\u001b[1;34m\u001b[0m\n\u001b[1;32m----> 1\u001b[1;33m \u001b[1;32mraise\u001b[0m \u001b[0mZeroDivisionError\u001b[0m\u001b[1;33m(\u001b[0m\u001b[1;34m'It is a zero division error'\u001b[0m\u001b[1;33m)\u001b[0m\u001b[1;33m\u001b[0m\u001b[1;33m\u001b[0m\u001b[0m\n\u001b[0m",
      "\u001b[1;31mZeroDivisionError\u001b[0m: It is a zero division error"
     ]
    }
   ],
   "source": [
    "raise ZeroDivisionError('It is a zero division error')"
   ]
  },
  {
   "cell_type": "code",
   "execution_count": 36,
   "id": "843518d7",
   "metadata": {},
   "outputs": [],
   "source": [
    "def f1():\n",
    "    f2()\n",
    "    \n",
    "def f2():\n",
    "    f3()\n",
    "\n",
    "def f3():\n",
    "    raise IndexError('My Message')\n",
    "        \n"
   ]
  },
  {
   "cell_type": "code",
   "execution_count": 37,
   "id": "da0604f3",
   "metadata": {},
   "outputs": [
    {
     "ename": "IndexError",
     "evalue": "My Message",
     "output_type": "error",
     "traceback": [
      "\u001b[1;31m---------------------------------------------------------------------------\u001b[0m",
      "\u001b[1;31mIndexError\u001b[0m                                Traceback (most recent call last)",
      "\u001b[1;32m<ipython-input-37-b27bf7c7aafe>\u001b[0m in \u001b[0;36m<module>\u001b[1;34m\u001b[0m\n\u001b[1;32m----> 1\u001b[1;33m \u001b[0mf1\u001b[0m\u001b[1;33m(\u001b[0m\u001b[1;33m)\u001b[0m\u001b[1;33m\u001b[0m\u001b[1;33m\u001b[0m\u001b[0m\n\u001b[0m",
      "\u001b[1;32m<ipython-input-36-70b7c23ac02c>\u001b[0m in \u001b[0;36mf1\u001b[1;34m()\u001b[0m\n\u001b[0;32m      1\u001b[0m \u001b[1;32mdef\u001b[0m \u001b[0mf1\u001b[0m\u001b[1;33m(\u001b[0m\u001b[1;33m)\u001b[0m\u001b[1;33m:\u001b[0m\u001b[1;33m\u001b[0m\u001b[1;33m\u001b[0m\u001b[0m\n\u001b[1;32m----> 2\u001b[1;33m     \u001b[0mf2\u001b[0m\u001b[1;33m(\u001b[0m\u001b[1;33m)\u001b[0m\u001b[1;33m\u001b[0m\u001b[1;33m\u001b[0m\u001b[0m\n\u001b[0m\u001b[0;32m      3\u001b[0m \u001b[1;33m\u001b[0m\u001b[0m\n\u001b[0;32m      4\u001b[0m \u001b[1;32mdef\u001b[0m \u001b[0mf2\u001b[0m\u001b[1;33m(\u001b[0m\u001b[1;33m)\u001b[0m\u001b[1;33m:\u001b[0m\u001b[1;33m\u001b[0m\u001b[1;33m\u001b[0m\u001b[0m\n\u001b[0;32m      5\u001b[0m     \u001b[0mf3\u001b[0m\u001b[1;33m(\u001b[0m\u001b[1;33m)\u001b[0m\u001b[1;33m\u001b[0m\u001b[1;33m\u001b[0m\u001b[0m\n",
      "\u001b[1;32m<ipython-input-36-70b7c23ac02c>\u001b[0m in \u001b[0;36mf2\u001b[1;34m()\u001b[0m\n\u001b[0;32m      3\u001b[0m \u001b[1;33m\u001b[0m\u001b[0m\n\u001b[0;32m      4\u001b[0m \u001b[1;32mdef\u001b[0m \u001b[0mf2\u001b[0m\u001b[1;33m(\u001b[0m\u001b[1;33m)\u001b[0m\u001b[1;33m:\u001b[0m\u001b[1;33m\u001b[0m\u001b[1;33m\u001b[0m\u001b[0m\n\u001b[1;32m----> 5\u001b[1;33m     \u001b[0mf3\u001b[0m\u001b[1;33m(\u001b[0m\u001b[1;33m)\u001b[0m\u001b[1;33m\u001b[0m\u001b[1;33m\u001b[0m\u001b[0m\n\u001b[0m\u001b[0;32m      6\u001b[0m \u001b[1;33m\u001b[0m\u001b[0m\n\u001b[0;32m      7\u001b[0m \u001b[1;32mdef\u001b[0m \u001b[0mf3\u001b[0m\u001b[1;33m(\u001b[0m\u001b[1;33m)\u001b[0m\u001b[1;33m:\u001b[0m\u001b[1;33m\u001b[0m\u001b[1;33m\u001b[0m\u001b[0m\n",
      "\u001b[1;32m<ipython-input-36-70b7c23ac02c>\u001b[0m in \u001b[0;36mf3\u001b[1;34m()\u001b[0m\n\u001b[0;32m      6\u001b[0m \u001b[1;33m\u001b[0m\u001b[0m\n\u001b[0;32m      7\u001b[0m \u001b[1;32mdef\u001b[0m \u001b[0mf3\u001b[0m\u001b[1;33m(\u001b[0m\u001b[1;33m)\u001b[0m\u001b[1;33m:\u001b[0m\u001b[1;33m\u001b[0m\u001b[1;33m\u001b[0m\u001b[0m\n\u001b[1;32m----> 8\u001b[1;33m     \u001b[1;32mraise\u001b[0m \u001b[0mIndexError\u001b[0m\u001b[1;33m(\u001b[0m\u001b[1;34m'My Message'\u001b[0m\u001b[1;33m)\u001b[0m\u001b[1;33m\u001b[0m\u001b[1;33m\u001b[0m\u001b[0m\n\u001b[0m\u001b[0;32m      9\u001b[0m \u001b[1;33m\u001b[0m\u001b[0m\n",
      "\u001b[1;31mIndexError\u001b[0m: My Message"
     ]
    }
   ],
   "source": [
    "f1()"
   ]
  },
  {
   "cell_type": "code",
   "execution_count": 38,
   "id": "34a28f39",
   "metadata": {},
   "outputs": [],
   "source": [
    "def f1():\n",
    "    f2()\n",
    "    \n",
    "def f2():\n",
    "    try:\n",
    "        f3()\n",
    "    except IndexError:\n",
    "        print('IndexError Silenced')\n",
    "\n",
    "def f3():\n",
    "    raise IndexError('My Message')\n",
    "        \n"
   ]
  },
  {
   "cell_type": "code",
   "execution_count": 39,
   "id": "99cb59f1",
   "metadata": {},
   "outputs": [
    {
     "name": "stdout",
     "output_type": "stream",
     "text": [
      "IndexError Silenced\n"
     ]
    }
   ],
   "source": [
    "f1()"
   ]
  },
  {
   "cell_type": "code",
   "execution_count": 40,
   "id": "6a6538b5",
   "metadata": {},
   "outputs": [],
   "source": [
    "def f1():\n",
    "    try:\n",
    "        f2()\n",
    "    except IndexError:\n",
    "        print('Silenced the error in function {}'.format(f1.__name__))\n",
    "    \n",
    "def f2():\n",
    "    f3()\n",
    "\n",
    "def f3():\n",
    "    raise IndexError('My Message')\n",
    "        \n"
   ]
  },
  {
   "cell_type": "code",
   "execution_count": 41,
   "id": "0ed2b6ac",
   "metadata": {},
   "outputs": [
    {
     "name": "stdout",
     "output_type": "stream",
     "text": [
      "Silenced the error in function f1\n"
     ]
    }
   ],
   "source": [
    "f1()"
   ]
  },
  {
   "cell_type": "code",
   "execution_count": 46,
   "id": "0ea0f095",
   "metadata": {},
   "outputs": [],
   "source": [
    "def f1():\n",
    "    try:\n",
    "        f2()\n",
    "    except IndexError:\n",
    "        print('Silenced the error in function {}'.format(f1.__name__))\n",
    "    \n",
    "def f2():\n",
    "    try:\n",
    "        f3()\n",
    "    except ZeroDivisionError:\n",
    "        print('Silenced')\n",
    "\n",
    "def f3():\n",
    "    raise ZeroDivisionError('My Message')\n",
    "        "
   ]
  },
  {
   "cell_type": "code",
   "execution_count": 47,
   "id": "712c0bca",
   "metadata": {},
   "outputs": [
    {
     "name": "stdout",
     "output_type": "stream",
     "text": [
      "Silenced\n"
     ]
    }
   ],
   "source": [
    "f1()"
   ]
  },
  {
   "cell_type": "code",
   "execution_count": 48,
   "id": "6f2f36bc",
   "metadata": {},
   "outputs": [],
   "source": [
    "def f1():\n",
    "    try:\n",
    "        f2()\n",
    "    except IndexError:\n",
    "        print('Silenced the error in function {}'.format(f1.__name__))\n",
    "    \n",
    "def f2():\n",
    "    try:\n",
    "        f3()\n",
    "    except IndexError:\n",
    "        print('In function f2')\n",
    "\n",
    "def f3():\n",
    "    raise IndexError('My Message')\n",
    "        \n"
   ]
  },
  {
   "cell_type": "code",
   "execution_count": 49,
   "id": "b2878213",
   "metadata": {},
   "outputs": [
    {
     "name": "stdout",
     "output_type": "stream",
     "text": [
      "In function f2\n"
     ]
    }
   ],
   "source": [
    "f1()"
   ]
  },
  {
   "cell_type": "code",
   "execution_count": 50,
   "id": "c251fefb",
   "metadata": {},
   "outputs": [
    {
     "name": "stdout",
     "output_type": "stream",
     "text": [
      "division by zero ZeroDivisionError('division by zero')\n",
      "It will be executed\n",
      " Out of the block\n",
      "=========================================End of the program=========================================\n"
     ]
    }
   ],
   "source": [
    "try:\n",
    "    1/0\n",
    "except Exception as e:\n",
    "    print(e,repr(e))\n",
    "finally:\n",
    "    print(\"It will be executed\")\n",
    "print(' Out of the block')\n",
    "print('End of the program'.center(100,'='))"
   ]
  },
  {
   "cell_type": "code",
   "execution_count": 51,
   "id": "33230b1e",
   "metadata": {},
   "outputs": [],
   "source": [
    "def print_list(seq):\n",
    "    print(seq)\n",
    "    try:\n",
    "        print(sum(seq))\n",
    "    except Exception as e:\n",
    "        print(e)\n",
    "    finally:\n",
    "        print('Closing all resources')\n",
    "    print('Out of the block')\n",
    "    \n",
    "    "
   ]
  },
  {
   "cell_type": "code",
   "execution_count": 52,
   "id": "ba460a31",
   "metadata": {},
   "outputs": [
    {
     "data": {
      "text/plain": [
       "<function __main__.print_list(seq)>"
      ]
     },
     "execution_count": 52,
     "metadata": {},
     "output_type": "execute_result"
    }
   ],
   "source": [
    "print_list"
   ]
  },
  {
   "cell_type": "code",
   "execution_count": 53,
   "id": "fc8ae5dc",
   "metadata": {},
   "outputs": [
    {
     "name": "stdout",
     "output_type": "stream",
     "text": [
      "[1, 2, 3]\n",
      "6\n",
      "Closing all resources\n",
      "Out of the block\n"
     ]
    }
   ],
   "source": [
    "print_list([1,2,3])"
   ]
  },
  {
   "cell_type": "code",
   "execution_count": 54,
   "id": "36b19040",
   "metadata": {},
   "outputs": [
    {
     "name": "stdout",
     "output_type": "stream",
     "text": [
      "rahul\n",
      "unsupported operand type(s) for +: 'int' and 'str'\n",
      "Closing all resources\n",
      "Out of the block\n"
     ]
    }
   ],
   "source": [
    "print_list('rahul')"
   ]
  },
  {
   "cell_type": "code",
   "execution_count": 55,
   "id": "85cb90c3",
   "metadata": {},
   "outputs": [
    {
     "ename": "FileNotFoundError",
     "evalue": "[Errno 2] No such file or directory: 't'",
     "output_type": "error",
     "traceback": [
      "\u001b[1;31m---------------------------------------------------------------------------\u001b[0m",
      "\u001b[1;31mFileNotFoundError\u001b[0m                         Traceback (most recent call last)",
      "\u001b[1;32m<ipython-input-55-8ce7476aca0f>\u001b[0m in \u001b[0;36m<module>\u001b[1;34m\u001b[0m\n\u001b[1;32m----> 1\u001b[1;33m \u001b[0mf\u001b[0m \u001b[1;33m=\u001b[0m \u001b[0mopen\u001b[0m\u001b[1;33m(\u001b[0m\u001b[1;34m't'\u001b[0m\u001b[1;33m,\u001b[0m\u001b[1;34m'r'\u001b[0m\u001b[1;33m)\u001b[0m\u001b[1;33m\u001b[0m\u001b[1;33m\u001b[0m\u001b[0m\n\u001b[0m",
      "\u001b[1;31mFileNotFoundError\u001b[0m: [Errno 2] No such file or directory: 't'"
     ]
    }
   ],
   "source": [
    "f = open('t','r')"
   ]
  },
  {
   "cell_type": "code",
   "execution_count": null,
   "id": "1468b08f",
   "metadata": {},
   "outputs": [],
   "source": []
  }
 ],
 "metadata": {
  "kernelspec": {
   "display_name": "Python 3",
   "language": "python",
   "name": "python3"
  },
  "language_info": {
   "codemirror_mode": {
    "name": "ipython",
    "version": 3
   },
   "file_extension": ".py",
   "mimetype": "text/x-python",
   "name": "python",
   "nbconvert_exporter": "python",
   "pygments_lexer": "ipython3",
   "version": "3.9.6"
  }
 },
 "nbformat": 4,
 "nbformat_minor": 5
}
