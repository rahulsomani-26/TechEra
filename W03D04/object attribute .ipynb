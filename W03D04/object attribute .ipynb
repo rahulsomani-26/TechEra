{
 "cells": [
  {
   "cell_type": "markdown",
   "id": "c96ece92",
   "metadata": {},
   "source": [
    "# Objects \n",
    "\n",
    "`` They are containers `` \n",
    "\n",
    "`` Stores the state of the  ``\n",
    "\n",
    "`` Has some functionality `` \n",
    "\n"
   ]
  },
  {
   "cell_type": "code",
   "execution_count": 1,
   "id": "7f85dd60",
   "metadata": {},
   "outputs": [],
   "source": [
    "class Car:\n",
    "    def __init__(self,brand,model,year):\n",
    "        self.brand = brand\n",
    "        self.model = model \n",
    "        self.year = year \n",
    "        \n",
    "    def speed_up(self):\n",
    "        print('Speeding up')\n",
    "    \n",
    "    def apply_brake(self):\n",
    "        print(\"Trying but , Brake Fail\")\n",
    "        print(\" will meet soon in the heaven\")\n",
    "        \n",
    "    "
   ]
  },
  {
   "cell_type": "code",
   "execution_count": 2,
   "id": "f66bb477",
   "metadata": {},
   "outputs": [],
   "source": [
    "new_car = Car('Benz','C-class','2020')"
   ]
  },
  {
   "cell_type": "code",
   "execution_count": 3,
   "id": "24124ef2",
   "metadata": {},
   "outputs": [
    {
     "data": {
      "text/plain": [
       "__main__.Car"
      ]
     },
     "execution_count": 3,
     "metadata": {},
     "output_type": "execute_result"
    }
   ],
   "source": [
    "type(new_car)"
   ]
  },
  {
   "cell_type": "code",
   "execution_count": 4,
   "id": "76ecd21d",
   "metadata": {},
   "outputs": [
    {
     "data": {
      "text/plain": [
       "<__main__.Car at 0x1c84cde6550>"
      ]
     },
     "execution_count": 4,
     "metadata": {},
     "output_type": "execute_result"
    }
   ],
   "source": [
    "new_car"
   ]
  },
  {
   "cell_type": "code",
   "execution_count": 5,
   "id": "3dac981a",
   "metadata": {},
   "outputs": [
    {
     "data": {
      "text/plain": [
       "{'brand': 'Benz', 'model': 'C-class', 'year': '2020'}"
      ]
     },
     "execution_count": 5,
     "metadata": {},
     "output_type": "execute_result"
    }
   ],
   "source": [
    "# object attribute \n",
    "new_car.__dict__  "
   ]
  },
  {
   "cell_type": "code",
   "execution_count": 6,
   "id": "20d18c2a",
   "metadata": {},
   "outputs": [
    {
     "name": "stdout",
     "output_type": "stream",
     "text": [
      "Speeding up\n"
     ]
    }
   ],
   "source": [
    "new_car.speed_up()"
   ]
  },
  {
   "cell_type": "code",
   "execution_count": 8,
   "id": "1d419350",
   "metadata": {},
   "outputs": [
    {
     "data": {
      "text/plain": [
       "<bound method Car.apply_brake of <__main__.Car object at 0x000001C84CDE6550>>"
      ]
     },
     "execution_count": 8,
     "metadata": {},
     "output_type": "execute_result"
    }
   ],
   "source": [
    "new_car.apply_brake"
   ]
  },
  {
   "cell_type": "code",
   "execution_count": 9,
   "id": "decc603f",
   "metadata": {},
   "outputs": [
    {
     "name": "stdout",
     "output_type": "stream",
     "text": [
      "Trying but , Brake Fail\n",
      " will meet soon in the heaven\n"
     ]
    }
   ],
   "source": [
    "new_car.apply_brake()"
   ]
  },
  {
   "cell_type": "code",
   "execution_count": 10,
   "id": "34eabcf5",
   "metadata": {},
   "outputs": [],
   "source": [
    "class SmartHuman:\n",
    "    name = 'Aaksh'\n",
    "    \n",
    "    def __init__(self,age):\n",
    "        self.age =age \n"
   ]
  },
  {
   "cell_type": "code",
   "execution_count": 11,
   "id": "f2d1ae4a",
   "metadata": {},
   "outputs": [
    {
     "data": {
      "text/plain": [
       "mappingproxy({'__module__': '__main__',\n",
       "              'name': 'Aaksh',\n",
       "              '__init__': <function __main__.SmartHuman.__init__(self, age)>,\n",
       "              '__dict__': <attribute '__dict__' of 'SmartHuman' objects>,\n",
       "              '__weakref__': <attribute '__weakref__' of 'SmartHuman' objects>,\n",
       "              '__doc__': None})"
      ]
     },
     "execution_count": 11,
     "metadata": {},
     "output_type": "execute_result"
    }
   ],
   "source": [
    "SmartHuman.__dict__"
   ]
  },
  {
   "cell_type": "code",
   "execution_count": 12,
   "id": "0fb37c14",
   "metadata": {},
   "outputs": [],
   "source": [
    "human = SmartHuman(30)"
   ]
  },
  {
   "cell_type": "code",
   "execution_count": 13,
   "id": "08ea3a01",
   "metadata": {},
   "outputs": [
    {
     "data": {
      "text/plain": [
       "{'age': 30}"
      ]
     },
     "execution_count": 13,
     "metadata": {},
     "output_type": "execute_result"
    }
   ],
   "source": [
    "human.__dict__"
   ]
  },
  {
   "cell_type": "code",
   "execution_count": 14,
   "id": "d2d11b2c",
   "metadata": {},
   "outputs": [
    {
     "data": {
      "text/plain": [
       "mappingproxy({'__module__': '__main__',\n",
       "              'name': 'Aaksh',\n",
       "              '__init__': <function __main__.SmartHuman.__init__(self, age)>,\n",
       "              '__dict__': <attribute '__dict__' of 'SmartHuman' objects>,\n",
       "              '__weakref__': <attribute '__weakref__' of 'SmartHuman' objects>,\n",
       "              '__doc__': None})"
      ]
     },
     "execution_count": 14,
     "metadata": {},
     "output_type": "execute_result"
    }
   ],
   "source": [
    "SmartHuman.__dict__"
   ]
  },
  {
   "cell_type": "code",
   "execution_count": null,
   "id": "19570c1d",
   "metadata": {},
   "outputs": [],
   "source": []
  }
 ],
 "metadata": {
  "kernelspec": {
   "display_name": "Python 3",
   "language": "python",
   "name": "python3"
  },
  "language_info": {
   "codemirror_mode": {
    "name": "ipython",
    "version": 3
   },
   "file_extension": ".py",
   "mimetype": "text/x-python",
   "name": "python",
   "nbconvert_exporter": "python",
   "pygments_lexer": "ipython3",
   "version": "3.9.6"
  }
 },
 "nbformat": 4,
 "nbformat_minor": 5
}
