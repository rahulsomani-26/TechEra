{
 "cells": [
  {
   "cell_type": "markdown",
   "id": "f89d2b0e",
   "metadata": {},
   "source": [
    "### Class Level attribute are shareable across every instance( object ) of the class"
   ]
  },
  {
   "cell_type": "code",
   "execution_count": 1,
   "id": "908cb906",
   "metadata": {},
   "outputs": [],
   "source": [
    "class Point:\n",
    "    x = y = 10 \n",
    "    "
   ]
  },
  {
   "cell_type": "code",
   "execution_count": 2,
   "id": "d948e196",
   "metadata": {},
   "outputs": [],
   "source": [
    "p = Point()"
   ]
  },
  {
   "cell_type": "code",
   "execution_count": 3,
   "id": "17c76153",
   "metadata": {},
   "outputs": [
    {
     "data": {
      "text/plain": [
       "__main__.Point"
      ]
     },
     "execution_count": 3,
     "metadata": {},
     "output_type": "execute_result"
    }
   ],
   "source": [
    "type(p) "
   ]
  },
  {
   "cell_type": "code",
   "execution_count": 4,
   "id": "5d213e07",
   "metadata": {},
   "outputs": [
    {
     "data": {
      "text/plain": [
       "10"
      ]
     },
     "execution_count": 4,
     "metadata": {},
     "output_type": "execute_result"
    }
   ],
   "source": [
    "p.x"
   ]
  },
  {
   "cell_type": "code",
   "execution_count": 5,
   "id": "6cd544e9",
   "metadata": {},
   "outputs": [
    {
     "data": {
      "text/plain": [
       "10"
      ]
     },
     "execution_count": 5,
     "metadata": {},
     "output_type": "execute_result"
    }
   ],
   "source": [
    "p.y"
   ]
  },
  {
   "cell_type": "code",
   "execution_count": 6,
   "id": "33b13c80",
   "metadata": {},
   "outputs": [],
   "source": [
    "p1 = Point()\n",
    "p2 = Point()"
   ]
  },
  {
   "cell_type": "code",
   "execution_count": 7,
   "id": "fd737e7f",
   "metadata": {},
   "outputs": [
    {
     "data": {
      "text/plain": [
       "(10, 10, 10)"
      ]
     },
     "execution_count": 7,
     "metadata": {},
     "output_type": "execute_result"
    }
   ],
   "source": [
    "p.x,p1.x,p2.x"
   ]
  },
  {
   "cell_type": "code",
   "execution_count": 11,
   "id": "d98e2cc7",
   "metadata": {},
   "outputs": [],
   "source": [
    "class Point:\n",
    "    x = 0\n",
    "    y = 100 \n",
    "\n",
    "ps = Point()"
   ]
  },
  {
   "cell_type": "code",
   "execution_count": 8,
   "id": "616b0ad4",
   "metadata": {},
   "outputs": [],
   "source": [
    "def test(self):\n",
    "    print(self.x,self.y)"
   ]
  },
  {
   "cell_type": "code",
   "execution_count": 12,
   "id": "99388265",
   "metadata": {},
   "outputs": [
    {
     "name": "stdout",
     "output_type": "stream",
     "text": [
      "0 100\n"
     ]
    }
   ],
   "source": [
    "test(ps)"
   ]
  },
  {
   "cell_type": "code",
   "execution_count": 10,
   "id": "db6a3aa6",
   "metadata": {},
   "outputs": [
    {
     "name": "stdout",
     "output_type": "stream",
     "text": [
      "10 10\n"
     ]
    }
   ],
   "source": [
    "test(p)"
   ]
  },
  {
   "cell_type": "code",
   "execution_count": null,
   "id": "da02b193",
   "metadata": {},
   "outputs": [],
   "source": []
  }
 ],
 "metadata": {
  "kernelspec": {
   "display_name": "Python 3",
   "language": "python",
   "name": "python3"
  },
  "language_info": {
   "codemirror_mode": {
    "name": "ipython",
    "version": 3
   },
   "file_extension": ".py",
   "mimetype": "text/x-python",
   "name": "python",
   "nbconvert_exporter": "python",
   "pygments_lexer": "ipython3",
   "version": "3.9.6"
  }
 },
 "nbformat": 4,
 "nbformat_minor": 5
}
