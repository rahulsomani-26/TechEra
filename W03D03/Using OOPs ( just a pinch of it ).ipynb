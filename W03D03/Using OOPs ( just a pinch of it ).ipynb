{
 "cells": [
  {
   "cell_type": "code",
   "execution_count": 1,
   "id": "2b2de0fb",
   "metadata": {},
   "outputs": [],
   "source": [
    "class Adder:\n",
    "    \n",
    "    def __init__(self,seq):\n",
    "        print(' Within init ')\n",
    "        self.seq = seq\n",
    "        \n",
    "    def calsum(self):\n",
    "        return sum(self.seq)\n",
    "    \n",
    "    def average(self):\n",
    "        \"\"\"Implement this to return the average of the sequence\"\"\"\n",
    "        return ' The average '\n",
    "    \n",
    "    \n",
    "        \n",
    " \n",
    "    "
   ]
  },
  {
   "cell_type": "code",
   "execution_count": 2,
   "id": "c4c9b309",
   "metadata": {},
   "outputs": [
    {
     "name": "stdout",
     "output_type": "stream",
     "text": [
      " Within init \n"
     ]
    }
   ],
   "source": [
    "a = Adder([1,2,3])"
   ]
  },
  {
   "cell_type": "code",
   "execution_count": 3,
   "id": "d9eab1e3",
   "metadata": {},
   "outputs": [
    {
     "data": {
      "text/plain": [
       "{'seq': [1, 2, 3]}"
      ]
     },
     "execution_count": 3,
     "metadata": {},
     "output_type": "execute_result"
    }
   ],
   "source": [
    "a.__dict__"
   ]
  },
  {
   "cell_type": "code",
   "execution_count": 4,
   "id": "2a471f11",
   "metadata": {},
   "outputs": [
    {
     "data": {
      "text/plain": [
       "6"
      ]
     },
     "execution_count": 4,
     "metadata": {},
     "output_type": "execute_result"
    }
   ],
   "source": [
    "a.calsum()"
   ]
  },
  {
   "cell_type": "code",
   "execution_count": 5,
   "id": "07c2a7a8",
   "metadata": {},
   "outputs": [
    {
     "data": {
      "text/plain": [
       "6"
      ]
     },
     "execution_count": 5,
     "metadata": {},
     "output_type": "execute_result"
    }
   ],
   "source": [
    "Adder.calsum(a)"
   ]
  },
  {
   "cell_type": "markdown",
   "id": "821a459e",
   "metadata": {},
   "source": [
    "`` Implemenations `` "
   ]
  },
  {
   "cell_type": "code",
   "execution_count": 9,
   "id": "5e8002f7",
   "metadata": {},
   "outputs": [],
   "source": [
    "import sqlite3 as sq\n",
    "class DatabaseConnection:\n",
    "    con = sq.connect('classdb.sqlite')\n",
    "    \n",
    "    def __init__(self):\n",
    "        self.con = DatabaseConnection.con \n",
    "        print(\" Connection Established \")\n",
    "    \n",
    "    def create_table(self):\n",
    "        self.con.execute(\"\"\" create table if not exists TESTDB(name TEXT,threads int)\"\"\")\n",
    "        print(\"Table created\")\n",
    "        \n",
    "    def insert_data(self,name,thread):\n",
    "        self.con.execute(\"\"\"insert into TESTDB values(?,?)\"\"\",(name,thread))\n",
    "        print(' Data inserted ')\n",
    "        \n",
    "    def retrieve_all(self):\n",
    "        self.result=self.con.execute('select * from TESTDB')\n",
    "        for row in self.result:\n",
    "            print(row)\n",
    "\n",
    "#    def get_data(self,name):\n",
    "    "
   ]
  },
  {
   "cell_type": "code",
   "execution_count": 10,
   "id": "7ab6fa9f",
   "metadata": {},
   "outputs": [
    {
     "name": "stdout",
     "output_type": "stream",
     "text": [
      " Connection Established \n"
     ]
    }
   ],
   "source": [
    "mydb = DatabaseConnection()"
   ]
  },
  {
   "cell_type": "code",
   "execution_count": 11,
   "id": "41a397a9",
   "metadata": {},
   "outputs": [
    {
     "data": {
      "text/plain": [
       "<__main__.DatabaseConnection at 0x1decaa2a730>"
      ]
     },
     "execution_count": 11,
     "metadata": {},
     "output_type": "execute_result"
    }
   ],
   "source": [
    "mydb"
   ]
  },
  {
   "cell_type": "code",
   "execution_count": 12,
   "id": "a8f98d6e",
   "metadata": {},
   "outputs": [
    {
     "data": {
      "text/plain": [
       "{'con': <sqlite3.Connection at 0x1decaaca6c0>}"
      ]
     },
     "execution_count": 12,
     "metadata": {},
     "output_type": "execute_result"
    }
   ],
   "source": [
    "mydb.__dict__"
   ]
  },
  {
   "cell_type": "code",
   "execution_count": 13,
   "id": "e4433fde",
   "metadata": {},
   "outputs": [
    {
     "name": "stdout",
     "output_type": "stream",
     "text": [
      "Table created\n"
     ]
    }
   ],
   "source": [
    "mydb.create_table()"
   ]
  },
  {
   "cell_type": "code",
   "execution_count": 14,
   "id": "c385dd6b",
   "metadata": {},
   "outputs": [
    {
     "name": "stdout",
     "output_type": "stream",
     "text": [
      " Data inserted \n"
     ]
    }
   ],
   "source": [
    "mydb.insert_data('NoSql',29)"
   ]
  },
  {
   "cell_type": "code",
   "execution_count": 15,
   "id": "bc39350e",
   "metadata": {},
   "outputs": [
    {
     "name": "stdout",
     "output_type": "stream",
     "text": [
      " Data inserted \n"
     ]
    }
   ],
   "source": [
    "mydb.insert_data('Mongodb',31)"
   ]
  },
  {
   "cell_type": "code",
   "execution_count": 16,
   "id": "5d02accc",
   "metadata": {},
   "outputs": [
    {
     "data": {
      "text/plain": [
       "<bound method DatabaseConnection.retrieve_all of <__main__.DatabaseConnection object at 0x000001DECAA2A730>>"
      ]
     },
     "execution_count": 16,
     "metadata": {},
     "output_type": "execute_result"
    }
   ],
   "source": [
    "mydb.retrieve_all"
   ]
  },
  {
   "cell_type": "code",
   "execution_count": 17,
   "id": "42f16b68",
   "metadata": {},
   "outputs": [
    {
     "name": "stdout",
     "output_type": "stream",
     "text": [
      "('NoSql', 29)\n",
      "('Mongodb', 31)\n"
     ]
    }
   ],
   "source": [
    "mydb.retrieve_all()"
   ]
  },
  {
   "cell_type": "code",
   "execution_count": 25,
   "id": "f83783ca",
   "metadata": {},
   "outputs": [
    {
     "ename": "OperationalError",
     "evalue": "database is locked",
     "output_type": "error",
     "traceback": [
      "\u001b[1;31m---------------------------------------------------------------------------\u001b[0m",
      "\u001b[1;31mOperationalError\u001b[0m                          Traceback (most recent call last)",
      "\u001b[1;32m<ipython-input-25-26850e601b28>\u001b[0m in \u001b[0;36m<module>\u001b[1;34m\u001b[0m\n\u001b[0;32m      2\u001b[0m \u001b[1;33m\u001b[0m\u001b[0m\n\u001b[0;32m      3\u001b[0m \u001b[0mcon\u001b[0m\u001b[1;33m.\u001b[0m\u001b[0mexecute\u001b[0m\u001b[1;33m(\u001b[0m\u001b[1;34m'create table if not exists TEST(name TEXT)'\u001b[0m\u001b[1;33m)\u001b[0m\u001b[1;33m\u001b[0m\u001b[1;33m\u001b[0m\u001b[0m\n\u001b[1;32m----> 4\u001b[1;33m \u001b[0mcon\u001b[0m\u001b[1;33m.\u001b[0m\u001b[0mexecute\u001b[0m\u001b[1;33m(\u001b[0m\u001b[1;34m'insert into TEST values(?)'\u001b[0m\u001b[1;33m,\u001b[0m\u001b[1;33m(\u001b[0m\u001b[1;34m\"Amit\"\u001b[0m\u001b[1;33m,\u001b[0m\u001b[1;33m)\u001b[0m\u001b[1;33m)\u001b[0m\u001b[1;33m\u001b[0m\u001b[1;33m\u001b[0m\u001b[0m\n\u001b[0m\u001b[0;32m      5\u001b[0m \u001b[0mrecord\u001b[0m \u001b[1;33m=\u001b[0m \u001b[0mcon\u001b[0m\u001b[1;33m.\u001b[0m\u001b[0mexecute\u001b[0m\u001b[1;33m(\u001b[0m\u001b[1;34m'select * from TEST'\u001b[0m\u001b[1;33m)\u001b[0m\u001b[1;33m\u001b[0m\u001b[1;33m\u001b[0m\u001b[0m\n\u001b[0;32m      6\u001b[0m \u001b[0mcon\u001b[0m\u001b[1;33m.\u001b[0m\u001b[0mcommit\u001b[0m\u001b[1;33m(\u001b[0m\u001b[1;33m)\u001b[0m\u001b[1;33m\u001b[0m\u001b[1;33m\u001b[0m\u001b[0m\n",
      "\u001b[1;31mOperationalError\u001b[0m: database is locked"
     ]
    }
   ],
   "source": [
    "con = sq.connect('divya.db')\n",
    "\n",
    "con.execute('create table if not exists TEST(name TEXT)')\n",
    "con.execute('insert into TEST values(?)',(\"Amit\",))\n",
    "record = con.execute('select * from TEST')\n",
    "con.commit()\n",
    "for r in record:\n",
    "    print(r)\n",
    "con.close()\n",
    "\n",
    "    \n",
    "            \n",
    "\n"
   ]
  },
  {
   "cell_type": "code",
   "execution_count": null,
   "id": "93a9f058",
   "metadata": {},
   "outputs": [],
   "source": []
  }
 ],
 "metadata": {
  "kernelspec": {
   "display_name": "Python 3",
   "language": "python",
   "name": "python3"
  },
  "language_info": {
   "codemirror_mode": {
    "name": "ipython",
    "version": 3
   },
   "file_extension": ".py",
   "mimetype": "text/x-python",
   "name": "python",
   "nbconvert_exporter": "python",
   "pygments_lexer": "ipython3",
   "version": "3.9.6"
  }
 },
 "nbformat": 4,
 "nbformat_minor": 5
}
