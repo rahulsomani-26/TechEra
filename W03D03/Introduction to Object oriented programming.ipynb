{
 "cells": [
  {
   "cell_type": "markdown",
   "id": "f63c13dd",
   "metadata": {},
   "source": [
    "# Object Oriented Programming \n",
    "\n",
    "`` OOPs involves the concept of class and object `` \n",
    "\n",
    "`` class ClassName: ``\n",
    "\n",
    "``    statement     ``\n",
    "\n",
    "\n",
    "\n"
   ]
  },
  {
   "cell_type": "code",
   "execution_count": 1,
   "id": "bf472cae",
   "metadata": {},
   "outputs": [],
   "source": [
    "class Empty:\n",
    "    pass"
   ]
  },
  {
   "cell_type": "code",
   "execution_count": 2,
   "id": "ee706cd7",
   "metadata": {},
   "outputs": [
    {
     "data": {
      "text/plain": [
       "__main__.Empty"
      ]
     },
     "execution_count": 2,
     "metadata": {},
     "output_type": "execute_result"
    }
   ],
   "source": [
    "Empty"
   ]
  },
  {
   "cell_type": "code",
   "execution_count": 3,
   "id": "cd76739d",
   "metadata": {},
   "outputs": [
    {
     "name": "stdout",
     "output_type": "stream",
     "text": [
      "['__class__', '__delattr__', '__dict__', '__dir__', '__doc__', '__eq__', '__format__', '__ge__', '__getattribute__', '__gt__', '__hash__', '__init__', '__init_subclass__', '__le__', '__lt__', '__module__', '__ne__', '__new__', '__reduce__', '__reduce_ex__', '__repr__', '__setattr__', '__sizeof__', '__str__', '__subclasshook__', '__weakref__']\n"
     ]
    }
   ],
   "source": [
    "print(dir(Empty))"
   ]
  },
  {
   "cell_type": "code",
   "execution_count": 4,
   "id": "dc206b5a",
   "metadata": {},
   "outputs": [
    {
     "name": "stdout",
     "output_type": "stream",
     "text": [
      "<class 'type'>\n"
     ]
    }
   ],
   "source": [
    "print(type(Empty))"
   ]
  },
  {
   "cell_type": "code",
   "execution_count": 5,
   "id": "6a255f13",
   "metadata": {},
   "outputs": [
    {
     "data": {
      "text/plain": [
       "type"
      ]
     },
     "execution_count": 5,
     "metadata": {},
     "output_type": "execute_result"
    }
   ],
   "source": [
    "type(Empty)"
   ]
  },
  {
   "cell_type": "code",
   "execution_count": 6,
   "id": "4a13baab",
   "metadata": {},
   "outputs": [
    {
     "data": {
      "text/plain": [
       "mappingproxy({'__module__': '__main__',\n",
       "              '__dict__': <attribute '__dict__' of 'Empty' objects>,\n",
       "              '__weakref__': <attribute '__weakref__' of 'Empty' objects>,\n",
       "              '__doc__': None})"
      ]
     },
     "execution_count": 6,
     "metadata": {},
     "output_type": "execute_result"
    }
   ],
   "source": [
    "Empty.__dict__"
   ]
  },
  {
   "cell_type": "code",
   "execution_count": 7,
   "id": "ced412a7",
   "metadata": {},
   "outputs": [],
   "source": [
    "Empty.rating = '* * * * *'"
   ]
  },
  {
   "cell_type": "code",
   "execution_count": 8,
   "id": "27696c74",
   "metadata": {},
   "outputs": [
    {
     "data": {
      "text/plain": [
       "mappingproxy({'__module__': '__main__',\n",
       "              '__dict__': <attribute '__dict__' of 'Empty' objects>,\n",
       "              '__weakref__': <attribute '__weakref__' of 'Empty' objects>,\n",
       "              '__doc__': None,\n",
       "              'rating': '* * * * *'})"
      ]
     },
     "execution_count": 8,
     "metadata": {},
     "output_type": "execute_result"
    }
   ],
   "source": [
    "Empty.__dict__"
   ]
  },
  {
   "cell_type": "code",
   "execution_count": 9,
   "id": "abb3d89b",
   "metadata": {},
   "outputs": [
    {
     "data": {
      "text/plain": [
       "'* * * * *'"
      ]
     },
     "execution_count": 9,
     "metadata": {},
     "output_type": "execute_result"
    }
   ],
   "source": [
    "Empty.__dict__['rating']"
   ]
  },
  {
   "cell_type": "markdown",
   "id": "96ccb02e",
   "metadata": {},
   "source": [
    "`` Make a student class and give some attributes/ properties to the class``"
   ]
  },
  {
   "cell_type": "code",
   "execution_count": 10,
   "id": "2d800e3e",
   "metadata": {},
   "outputs": [],
   "source": [
    "class Student:\n",
    "    school = 'St. Xaviers'\n",
    "    \n",
    "    def my_func(self):\n",
    "        print(\"Hey I am a class method\")\n",
    "        print(\" My First argument must be self or any name of your choice\")\n",
    "        print(\" You may call me using different approach\")\n",
    "        print('{}'.format(my_func.__class__))"
   ]
  },
  {
   "cell_type": "code",
   "execution_count": 13,
   "id": "aefb8b1b",
   "metadata": {},
   "outputs": [
    {
     "data": {
      "text/plain": [
       "(__main__.Student, type, 1589293238976)"
      ]
     },
     "execution_count": 13,
     "metadata": {},
     "output_type": "execute_result"
    }
   ],
   "source": [
    "Student,type(Student),id(Student)"
   ]
  },
  {
   "cell_type": "markdown",
   "id": "c8cfa65c",
   "metadata": {},
   "source": [
    "# Objects \n",
    "\n",
    "`` object are instance of a class ``\n",
    "\n",
    "`` You can think of an object to be a working model ``\n",
    "\n",
    "`` Syntax :  ``\n",
    "\n",
    "`` obj_name = ClassName() `` \n"
   ]
  },
  {
   "cell_type": "code",
   "execution_count": 27,
   "id": "fb2f9737",
   "metadata": {},
   "outputs": [],
   "source": [
    "class Student:\n",
    "    school = 'St. Xaviers' # shareable across every object \n",
    "    \n",
    "    def my_func(self):\n",
    "        print(\"Hey I am a class method\")\n",
    "        print(\" My First argument must be self or any name of your choice\")\n",
    "        print(\" You may call me using different approach\")\n",
    "        print('{}'.format(Student.__class__.__name__))\n",
    "    \n",
    "    "
   ]
  },
  {
   "cell_type": "code",
   "execution_count": 15,
   "id": "cf5aa6ae",
   "metadata": {},
   "outputs": [],
   "source": [
    "student = Student()"
   ]
  },
  {
   "cell_type": "code",
   "execution_count": 17,
   "id": "96935dd3",
   "metadata": {},
   "outputs": [
    {
     "data": {
      "text/plain": [
       "'St. Xaviers'"
      ]
     },
     "execution_count": 17,
     "metadata": {},
     "output_type": "execute_result"
    }
   ],
   "source": [
    "student.school"
   ]
  },
  {
   "cell_type": "code",
   "execution_count": 28,
   "id": "0c2efc1d",
   "metadata": {},
   "outputs": [],
   "source": [
    "s1 = Student()\n",
    "s2 = Student()"
   ]
  },
  {
   "cell_type": "code",
   "execution_count": 19,
   "id": "ba5e488a",
   "metadata": {},
   "outputs": [
    {
     "data": {
      "text/plain": [
       "(<__main__.Student at 0x17209f72fd0>, <__main__.Student at 0x17209f72df0>)"
      ]
     },
     "execution_count": 19,
     "metadata": {},
     "output_type": "execute_result"
    }
   ],
   "source": [
    "s1,s2"
   ]
  },
  {
   "cell_type": "code",
   "execution_count": 20,
   "id": "7ca69a12",
   "metadata": {},
   "outputs": [
    {
     "name": "stdout",
     "output_type": "stream",
     "text": [
      "<class '__main__.Student'>\n"
     ]
    }
   ],
   "source": [
    "print(type(s1))"
   ]
  },
  {
   "cell_type": "code",
   "execution_count": 21,
   "id": "aae87abc",
   "metadata": {},
   "outputs": [
    {
     "data": {
      "text/plain": [
       "('St. Xaviers', 'St. Xaviers')"
      ]
     },
     "execution_count": 21,
     "metadata": {},
     "output_type": "execute_result"
    }
   ],
   "source": [
    "# object_name.attribute_name\n",
    "s1.school, s2.school"
   ]
  },
  {
   "cell_type": "code",
   "execution_count": 22,
   "id": "581a2d38",
   "metadata": {},
   "outputs": [
    {
     "data": {
      "text/plain": [
       "<bound method Student.my_func of <__main__.Student object at 0x0000017209F72FD0>>"
      ]
     },
     "execution_count": 22,
     "metadata": {},
     "output_type": "execute_result"
    }
   ],
   "source": [
    "s1.my_func"
   ]
  },
  {
   "cell_type": "code",
   "execution_count": 29,
   "id": "e2f35286",
   "metadata": {},
   "outputs": [
    {
     "name": "stdout",
     "output_type": "stream",
     "text": [
      "Hey I am a class method\n",
      " My First argument must be self or any name of your choice\n",
      " You may call me using different approach\n",
      "type\n"
     ]
    }
   ],
   "source": [
    "# object_name.function_name\n",
    "s1.my_func()  "
   ]
  },
  {
   "cell_type": "code",
   "execution_count": 32,
   "id": "67d858a7",
   "metadata": {},
   "outputs": [
    {
     "data": {
      "text/plain": [
       "mappingproxy({'__module__': '__main__',\n",
       "              'school': 'St. Xaviers',\n",
       "              'my_func': <function __main__.Student.my_func(self)>,\n",
       "              '__dict__': <attribute '__dict__' of 'Student' objects>,\n",
       "              '__weakref__': <attribute '__weakref__' of 'Student' objects>,\n",
       "              '__doc__': None})"
      ]
     },
     "execution_count": 32,
     "metadata": {},
     "output_type": "execute_result"
    }
   ],
   "source": [
    "Student.__dict__"
   ]
  },
  {
   "cell_type": "code",
   "execution_count": 33,
   "id": "620eb131",
   "metadata": {},
   "outputs": [
    {
     "data": {
      "text/plain": [
       "{}"
      ]
     },
     "execution_count": 33,
     "metadata": {},
     "output_type": "execute_result"
    }
   ],
   "source": [
    "s1.__dict__"
   ]
  },
  {
   "cell_type": "code",
   "execution_count": 34,
   "id": "8398cf6a",
   "metadata": {},
   "outputs": [
    {
     "data": {
      "text/plain": [
       "{}"
      ]
     },
     "execution_count": 34,
     "metadata": {},
     "output_type": "execute_result"
    }
   ],
   "source": [
    "s2.__dict__"
   ]
  },
  {
   "cell_type": "code",
   "execution_count": 35,
   "id": "663345d5",
   "metadata": {},
   "outputs": [],
   "source": [
    "class Point:\n",
    "    x = 0 \n",
    "    y = 0 \n",
    "    \n",
    "    def test_func(what):\n",
    "        print(\"Does it works\")\n",
    "        print(what.x)\n",
    "        print(what.y)\n",
    "    "
   ]
  },
  {
   "cell_type": "code",
   "execution_count": 38,
   "id": "a9e0da4d",
   "metadata": {},
   "outputs": [
    {
     "data": {
      "text/plain": [
       "(__main__.Point,\n",
       " mappingproxy({'__module__': '__main__',\n",
       "               'x': 0,\n",
       "               'y': 0,\n",
       "               'test_func': <function __main__.Point.test_func(what)>,\n",
       "               '__dict__': <attribute '__dict__' of 'Point' objects>,\n",
       "               '__weakref__': <attribute '__weakref__' of 'Point' objects>,\n",
       "               '__doc__': None}))"
      ]
     },
     "execution_count": 38,
     "metadata": {},
     "output_type": "execute_result"
    }
   ],
   "source": [
    "Point, Point.__dict__"
   ]
  },
  {
   "cell_type": "code",
   "execution_count": 40,
   "id": "049f5559",
   "metadata": {},
   "outputs": [],
   "source": [
    "p1 = Point()\n",
    "p2 = Point()\n"
   ]
  },
  {
   "cell_type": "code",
   "execution_count": 41,
   "id": "e7493751",
   "metadata": {},
   "outputs": [
    {
     "data": {
      "text/plain": [
       "(1589293254080, 1589305040128, 1589305039552)"
      ]
     },
     "execution_count": 41,
     "metadata": {},
     "output_type": "execute_result"
    }
   ],
   "source": [
    "id(Point), id(p1), id(p2)"
   ]
  },
  {
   "cell_type": "code",
   "execution_count": 42,
   "id": "73c20cf0",
   "metadata": {},
   "outputs": [
    {
     "data": {
      "text/plain": [
       "False"
      ]
     },
     "execution_count": 42,
     "metadata": {},
     "output_type": "execute_result"
    }
   ],
   "source": [
    "p1 == p2 "
   ]
  },
  {
   "cell_type": "code",
   "execution_count": 43,
   "id": "6a10579f",
   "metadata": {},
   "outputs": [
    {
     "data": {
      "text/plain": [
       "False"
      ]
     },
     "execution_count": 43,
     "metadata": {},
     "output_type": "execute_result"
    }
   ],
   "source": [
    "p1 is p2"
   ]
  },
  {
   "cell_type": "code",
   "execution_count": 44,
   "id": "62e16614",
   "metadata": {},
   "outputs": [
    {
     "data": {
      "text/plain": [
       "True"
      ]
     },
     "execution_count": 44,
     "metadata": {},
     "output_type": "execute_result"
    }
   ],
   "source": [
    "type(p1) == type(p2)"
   ]
  },
  {
   "cell_type": "code",
   "execution_count": 46,
   "id": "16f3a40f",
   "metadata": {},
   "outputs": [
    {
     "data": {
      "text/plain": [
       "(__main__.Point, __main__.Point)"
      ]
     },
     "execution_count": 46,
     "metadata": {},
     "output_type": "execute_result"
    }
   ],
   "source": [
    "type(p1), type(p2)"
   ]
  },
  {
   "cell_type": "code",
   "execution_count": 47,
   "id": "5ba8b937",
   "metadata": {},
   "outputs": [],
   "source": [
    "class Point:\n",
    "    x = 0 \n",
    "    y = 0 \n",
    "    \n",
    "    def test_func(what):  # what actually denotes the object from where it is called \n",
    "        print(\"Does it works\")\n",
    "        print(what.x)\n",
    "        print(what.y)\n",
    "    "
   ]
  },
  {
   "cell_type": "code",
   "execution_count": 48,
   "id": "702f6fb4",
   "metadata": {},
   "outputs": [
    {
     "name": "stdout",
     "output_type": "stream",
     "text": [
      "Does it works\n",
      "0\n",
      "0\n"
     ]
    }
   ],
   "source": [
    "p1.test_func()"
   ]
  },
  {
   "cell_type": "code",
   "execution_count": 49,
   "id": "c8ebdcf6",
   "metadata": {},
   "outputs": [
    {
     "data": {
      "text/plain": [
       "<bound method Point.test_func of <__main__.Point object at 0x0000017209F65D00>>"
      ]
     },
     "execution_count": 49,
     "metadata": {},
     "output_type": "execute_result"
    }
   ],
   "source": [
    "p1.test_func"
   ]
  },
  {
   "cell_type": "markdown",
   "id": "530e86f5",
   "metadata": {},
   "source": [
    "# Create a class called Student that accepts student name and age "
   ]
  },
  {
   "cell_type": "code",
   "execution_count": 50,
   "id": "390a05b6",
   "metadata": {},
   "outputs": [
    {
     "name": "stdout",
     "output_type": "stream",
     "text": [
      "['__class__', '__delattr__', '__dict__', '__dir__', '__doc__', '__eq__', '__format__', '__ge__', '__getattribute__', '__gt__', '__hash__', '__init__', '__init_subclass__', '__le__', '__lt__', '__module__', '__ne__', '__new__', '__reduce__', '__reduce_ex__', '__repr__', '__setattr__', '__sizeof__', '__str__', '__subclasshook__', '__weakref__', 'my_func', 'school']\n"
     ]
    }
   ],
   "source": [
    "print(dir(Student))\n",
    "    "
   ]
  },
  {
   "cell_type": "code",
   "execution_count": 51,
   "id": "2f826361",
   "metadata": {},
   "outputs": [
    {
     "data": {
      "text/plain": [
       "<slot wrapper '__init__' of 'object' objects>"
      ]
     },
     "execution_count": 51,
     "metadata": {},
     "output_type": "execute_result"
    }
   ],
   "source": [
    "Student.__init__"
   ]
  },
  {
   "cell_type": "code",
   "execution_count": 52,
   "id": "18bce7a1",
   "metadata": {},
   "outputs": [
    {
     "name": "stdout",
     "output_type": "stream",
     "text": [
      "Help on wrapper_descriptor:\n",
      "\n",
      "__init__(self, /, *args, **kwargs)\n",
      "    Initialize self.  See help(type(self)) for accurate signature.\n",
      "\n"
     ]
    }
   ],
   "source": [
    "help(Student.__init__)"
   ]
  },
  {
   "cell_type": "code",
   "execution_count": 54,
   "id": "720e0386",
   "metadata": {},
   "outputs": [],
   "source": [
    "pass"
   ]
  },
  {
   "cell_type": "code",
   "execution_count": 55,
   "id": "e7560527",
   "metadata": {},
   "outputs": [],
   "source": [
    "class Student:\n",
    "    \n",
    "    def __init__(self,name,age):\n",
    "        print('__init__')\n",
    "        print(name,age)\n",
    "    "
   ]
  },
  {
   "cell_type": "code",
   "execution_count": 56,
   "id": "babed8b1",
   "metadata": {},
   "outputs": [],
   "source": [
    "s1 = Student"
   ]
  },
  {
   "cell_type": "code",
   "execution_count": 58,
   "id": "5539ed6a",
   "metadata": {},
   "outputs": [
    {
     "data": {
      "text/plain": [
       "mappingproxy({'__module__': '__main__',\n",
       "              '__init__': <function __main__.Student.__init__(self, name, age)>,\n",
       "              '__dict__': <attribute '__dict__' of 'Student' objects>,\n",
       "              '__weakref__': <attribute '__weakref__' of 'Student' objects>,\n",
       "              '__doc__': None})"
      ]
     },
     "execution_count": 58,
     "metadata": {},
     "output_type": "execute_result"
    }
   ],
   "source": [
    "s1.__dict__"
   ]
  },
  {
   "cell_type": "code",
   "execution_count": 59,
   "id": "8a137791",
   "metadata": {},
   "outputs": [
    {
     "name": "stdout",
     "output_type": "stream",
     "text": [
      "__init__\n",
      "Rahul 35\n"
     ]
    }
   ],
   "source": [
    "s2 = Student('Rahul',35)"
   ]
  },
  {
   "cell_type": "code",
   "execution_count": 60,
   "id": "8d4e77ef",
   "metadata": {},
   "outputs": [
    {
     "data": {
      "text/plain": [
       "(__main__.Student, <__main__.Student at 0x17209f65a90>)"
      ]
     },
     "execution_count": 60,
     "metadata": {},
     "output_type": "execute_result"
    }
   ],
   "source": [
    "s1, s2"
   ]
  },
  {
   "cell_type": "code",
   "execution_count": 61,
   "id": "3b827509",
   "metadata": {},
   "outputs": [
    {
     "data": {
      "text/plain": [
       "mappingproxy({'__module__': '__main__',\n",
       "              '__init__': <function __main__.Student.__init__(self, name, age)>,\n",
       "              '__dict__': <attribute '__dict__' of 'Student' objects>,\n",
       "              '__weakref__': <attribute '__weakref__' of 'Student' objects>,\n",
       "              '__doc__': None})"
      ]
     },
     "execution_count": 61,
     "metadata": {},
     "output_type": "execute_result"
    }
   ],
   "source": [
    "s1.__dict__"
   ]
  },
  {
   "cell_type": "code",
   "execution_count": 62,
   "id": "ca66645c",
   "metadata": {},
   "outputs": [
    {
     "data": {
      "text/plain": [
       "{}"
      ]
     },
     "execution_count": 62,
     "metadata": {},
     "output_type": "execute_result"
    }
   ],
   "source": [
    "s2.__dict__"
   ]
  },
  {
   "cell_type": "code",
   "execution_count": 63,
   "id": "974ef5e3",
   "metadata": {},
   "outputs": [
    {
     "data": {
      "text/plain": [
       "10"
      ]
     },
     "execution_count": 63,
     "metadata": {},
     "output_type": "execute_result"
    }
   ],
   "source": [
    "n = 10\n",
    "m = n \n",
    "m"
   ]
  },
  {
   "cell_type": "code",
   "execution_count": 64,
   "id": "fe87ee75",
   "metadata": {},
   "outputs": [
    {
     "ename": "TypeError",
     "evalue": "__init__() missing 2 required positional arguments: 'name' and 'age'",
     "output_type": "error",
     "traceback": [
      "\u001b[1;31m---------------------------------------------------------------------------\u001b[0m",
      "\u001b[1;31mTypeError\u001b[0m                                 Traceback (most recent call last)",
      "\u001b[1;32m<ipython-input-64-906bfe3cbabc>\u001b[0m in \u001b[0;36m<module>\u001b[1;34m\u001b[0m\n\u001b[1;32m----> 1\u001b[1;33m \u001b[0ms1\u001b[0m \u001b[1;33m=\u001b[0m \u001b[0mStudent\u001b[0m\u001b[1;33m(\u001b[0m\u001b[1;33m)\u001b[0m\u001b[1;33m\u001b[0m\u001b[1;33m\u001b[0m\u001b[0m\n\u001b[0m",
      "\u001b[1;31mTypeError\u001b[0m: __init__() missing 2 required positional arguments: 'name' and 'age'"
     ]
    }
   ],
   "source": [
    "s1 = Student()"
   ]
  },
  {
   "cell_type": "code",
   "execution_count": 66,
   "id": "6232b8e4",
   "metadata": {},
   "outputs": [],
   "source": [
    "class Car:\n",
    "    # class level attribute\n",
    "    wheels= 4 \n",
    "    model = '2021'\n",
    "    # Initialization Section \n",
    "    \n",
    "    def __init__(self,owner,brand,color):\n",
    "        self.owner = owner \n",
    "        self.brand = brand\n",
    "        self.color = color \n",
    "    "
   ]
  },
  {
   "cell_type": "code",
   "execution_count": 68,
   "id": "f3092a75",
   "metadata": {},
   "outputs": [],
   "source": [
    "c1 = Car('Aakash','Mercedez Benz','Black')"
   ]
  },
  {
   "cell_type": "code",
   "execution_count": 69,
   "id": "1fc77abe",
   "metadata": {},
   "outputs": [
    {
     "data": {
      "text/plain": [
       "'2021'"
      ]
     },
     "execution_count": 69,
     "metadata": {},
     "output_type": "execute_result"
    }
   ],
   "source": [
    "c1.model"
   ]
  },
  {
   "cell_type": "code",
   "execution_count": 71,
   "id": "2a7004d2",
   "metadata": {},
   "outputs": [
    {
     "data": {
      "text/plain": [
       "('Aakash', 'Mercedez Benz', 'Black')"
      ]
     },
     "execution_count": 71,
     "metadata": {},
     "output_type": "execute_result"
    }
   ],
   "source": [
    "c1.owner, c1.brand,c1.color"
   ]
  },
  {
   "cell_type": "code",
   "execution_count": 72,
   "id": "3fd53e88",
   "metadata": {},
   "outputs": [
    {
     "data": {
      "text/plain": [
       "{'owner': 'Aakash', 'brand': 'Mercedez Benz', 'color': 'Black'}"
      ]
     },
     "execution_count": 72,
     "metadata": {},
     "output_type": "execute_result"
    }
   ],
   "source": [
    "c1.__dict__"
   ]
  },
  {
   "cell_type": "code",
   "execution_count": 74,
   "id": "4a581873",
   "metadata": {},
   "outputs": [],
   "source": [
    "class Employee:\n",
    "    \n",
    "    \"\"\"Employee class to store Emp data\"\"\"\n",
    "    \n",
    "    def __init__(self,_id,name,profession):\n",
    "        self._id = _id\n",
    "        self.name = name \n",
    "        self.profession = profession \n",
    "        print(\" Initialization completed ... \")\n",
    "    \n",
    "    def get_record(self):\n",
    "        print(\" Name = {} id = {} profession = {} \".format(self.name,self._id,self.profession))\n",
    "    \n",
    "    def update_name(self,name):\n",
    "        self.name = name \n",
    "        print(\" It seems I have been updated ..\")   \n",
    "        \n",
    "    "
   ]
  },
  {
   "cell_type": "code",
   "execution_count": 75,
   "id": "12daa160",
   "metadata": {},
   "outputs": [
    {
     "data": {
      "text/plain": [
       "__main__.Employee"
      ]
     },
     "execution_count": 75,
     "metadata": {},
     "output_type": "execute_result"
    }
   ],
   "source": [
    "Employee"
   ]
  },
  {
   "cell_type": "code",
   "execution_count": 76,
   "id": "ae1e608e",
   "metadata": {},
   "outputs": [
    {
     "data": {
      "text/plain": [
       "mappingproxy({'__module__': '__main__',\n",
       "              '__doc__': 'Employee class to store Emp data',\n",
       "              '__init__': <function __main__.Employee.__init__(self, _id, name, profession)>,\n",
       "              'get_record': <function __main__.Employee.get_record(self)>,\n",
       "              'update_name': <function __main__.Employee.update_name(self, name)>,\n",
       "              '__dict__': <attribute '__dict__' of 'Employee' objects>,\n",
       "              '__weakref__': <attribute '__weakref__' of 'Employee' objects>})"
      ]
     },
     "execution_count": 76,
     "metadata": {},
     "output_type": "execute_result"
    }
   ],
   "source": [
    "Employee.__dict__"
   ]
  },
  {
   "cell_type": "code",
   "execution_count": 77,
   "id": "8ce1a17d",
   "metadata": {},
   "outputs": [
    {
     "name": "stdout",
     "output_type": "stream",
     "text": [
      " Initialization completed ... \n",
      " Initialization completed ... \n"
     ]
    }
   ],
   "source": [
    "emp_one = Employee(1,\"Avinash\",'Testing')\n",
    "emp_two = Employee(2,\"Suryavansham\",'Overacting')"
   ]
  },
  {
   "cell_type": "code",
   "execution_count": 79,
   "id": "5e2ab5cc",
   "metadata": {},
   "outputs": [
    {
     "data": {
      "text/plain": [
       "('Avinash', 1, 'Testing')"
      ]
     },
     "execution_count": 79,
     "metadata": {},
     "output_type": "execute_result"
    }
   ],
   "source": [
    "emp_one.name,emp_one._id,emp_one.profession"
   ]
  },
  {
   "cell_type": "code",
   "execution_count": 80,
   "id": "fd8ac0d2",
   "metadata": {},
   "outputs": [
    {
     "data": {
      "text/plain": [
       "{'_id': 1, 'name': 'Avinash', 'profession': 'Testing'}"
      ]
     },
     "execution_count": 80,
     "metadata": {},
     "output_type": "execute_result"
    }
   ],
   "source": [
    "emp_one.__dict__"
   ]
  },
  {
   "cell_type": "code",
   "execution_count": 81,
   "id": "eda0922f",
   "metadata": {},
   "outputs": [
    {
     "data": {
      "text/plain": [
       "1"
      ]
     },
     "execution_count": 81,
     "metadata": {},
     "output_type": "execute_result"
    }
   ],
   "source": [
    "emp_one.__dict__['_id']"
   ]
  },
  {
   "cell_type": "code",
   "execution_count": 82,
   "id": "bf1f2ebe",
   "metadata": {},
   "outputs": [
    {
     "data": {
      "text/plain": [
       "'Avinash'"
      ]
     },
     "execution_count": 82,
     "metadata": {},
     "output_type": "execute_result"
    }
   ],
   "source": [
    "emp_one.__dict__['name']"
   ]
  },
  {
   "cell_type": "code",
   "execution_count": 83,
   "id": "86eaf8b0",
   "metadata": {},
   "outputs": [
    {
     "ename": "AttributeError",
     "evalue": "'Employee' object has no attribute 'my'",
     "output_type": "error",
     "traceback": [
      "\u001b[1;31m---------------------------------------------------------------------------\u001b[0m",
      "\u001b[1;31mAttributeError\u001b[0m                            Traceback (most recent call last)",
      "\u001b[1;32m<ipython-input-83-cc4146f50543>\u001b[0m in \u001b[0;36m<module>\u001b[1;34m\u001b[0m\n\u001b[1;32m----> 1\u001b[1;33m \u001b[0memp_one\u001b[0m\u001b[1;33m.\u001b[0m\u001b[0mmy\u001b[0m\u001b[1;33m\u001b[0m\u001b[1;33m\u001b[0m\u001b[0m\n\u001b[0m",
      "\u001b[1;31mAttributeError\u001b[0m: 'Employee' object has no attribute 'my'"
     ]
    }
   ],
   "source": [
    "emp_one.my"
   ]
  },
  {
   "cell_type": "code",
   "execution_count": 84,
   "id": "b48b706b",
   "metadata": {},
   "outputs": [
    {
     "ename": "NameError",
     "evalue": "name 'get_record' is not defined",
     "output_type": "error",
     "traceback": [
      "\u001b[1;31m---------------------------------------------------------------------------\u001b[0m",
      "\u001b[1;31mNameError\u001b[0m                                 Traceback (most recent call last)",
      "\u001b[1;32m<ipython-input-84-025b30dcb3ad>\u001b[0m in \u001b[0;36m<module>\u001b[1;34m\u001b[0m\n\u001b[1;32m----> 1\u001b[1;33m \u001b[0mget_record\u001b[0m\u001b[1;33m\u001b[0m\u001b[1;33m\u001b[0m\u001b[0m\n\u001b[0m",
      "\u001b[1;31mNameError\u001b[0m: name 'get_record' is not defined"
     ]
    }
   ],
   "source": [
    "get_record"
   ]
  },
  {
   "cell_type": "code",
   "execution_count": 85,
   "id": "35b2dd77",
   "metadata": {},
   "outputs": [
    {
     "name": "stdout",
     "output_type": "stream",
     "text": [
      " Name = Avinash id = 1 profession = Testing \n"
     ]
    }
   ],
   "source": [
    "emp_one.get_record()"
   ]
  },
  {
   "cell_type": "code",
   "execution_count": 86,
   "id": "28c28cd0",
   "metadata": {},
   "outputs": [
    {
     "name": "stdout",
     "output_type": "stream",
     "text": [
      " Name = Suryavansham id = 2 profession = Overacting \n"
     ]
    }
   ],
   "source": [
    "emp_two.get_record()"
   ]
  },
  {
   "cell_type": "code",
   "execution_count": 87,
   "id": "06f64725",
   "metadata": {},
   "outputs": [
    {
     "data": {
      "text/plain": [
       "<function __main__.Employee.get_record(self)>"
      ]
     },
     "execution_count": 87,
     "metadata": {},
     "output_type": "execute_result"
    }
   ],
   "source": [
    "Employee.get_record"
   ]
  },
  {
   "cell_type": "code",
   "execution_count": 88,
   "id": "4e107212",
   "metadata": {},
   "outputs": [
    {
     "ename": "TypeError",
     "evalue": "get_record() missing 1 required positional argument: 'self'",
     "output_type": "error",
     "traceback": [
      "\u001b[1;31m---------------------------------------------------------------------------\u001b[0m",
      "\u001b[1;31mTypeError\u001b[0m                                 Traceback (most recent call last)",
      "\u001b[1;32m<ipython-input-88-babb12fbce03>\u001b[0m in \u001b[0;36m<module>\u001b[1;34m\u001b[0m\n\u001b[1;32m----> 1\u001b[1;33m \u001b[0mEmployee\u001b[0m\u001b[1;33m.\u001b[0m\u001b[0mget_record\u001b[0m\u001b[1;33m(\u001b[0m\u001b[1;33m)\u001b[0m\u001b[1;33m\u001b[0m\u001b[1;33m\u001b[0m\u001b[0m\n\u001b[0m",
      "\u001b[1;31mTypeError\u001b[0m: get_record() missing 1 required positional argument: 'self'"
     ]
    }
   ],
   "source": [
    "Employee.get_record()"
   ]
  },
  {
   "cell_type": "code",
   "execution_count": 89,
   "id": "c9ddd7cc",
   "metadata": {},
   "outputs": [
    {
     "name": "stdout",
     "output_type": "stream",
     "text": [
      " Name = Avinash id = 1 profession = Testing \n"
     ]
    }
   ],
   "source": [
    "# Classname.function_name(object)\n",
    "Employee.get_record(emp_one)"
   ]
  },
  {
   "cell_type": "code",
   "execution_count": 90,
   "id": "a0727f96",
   "metadata": {},
   "outputs": [
    {
     "name": "stdout",
     "output_type": "stream",
     "text": [
      " Name = Suryavansham id = 2 profession = Overacting \n"
     ]
    }
   ],
   "source": [
    "Employee.get_record(emp_two)"
   ]
  },
  {
   "cell_type": "code",
   "execution_count": 91,
   "id": "adeddd90",
   "metadata": {},
   "outputs": [
    {
     "data": {
      "text/plain": [
       "<bound method Employee.update_name of <__main__.Employee object at 0x000001720A07A5E0>>"
      ]
     },
     "execution_count": 91,
     "metadata": {},
     "output_type": "execute_result"
    }
   ],
   "source": [
    "emp_one.update_name"
   ]
  },
  {
   "cell_type": "code",
   "execution_count": 92,
   "id": "a2d8e5ce",
   "metadata": {},
   "outputs": [
    {
     "name": "stdout",
     "output_type": "stream",
     "text": [
      " It seems I have been updated ..\n"
     ]
    }
   ],
   "source": [
    "emp_one.update_name(\"Arya\")"
   ]
  },
  {
   "cell_type": "code",
   "execution_count": 93,
   "id": "6220c6ab",
   "metadata": {},
   "outputs": [
    {
     "name": "stdout",
     "output_type": "stream",
     "text": [
      " Name = Arya id = 1 profession = Testing \n"
     ]
    }
   ],
   "source": [
    "emp_one.get_record()"
   ]
  },
  {
   "cell_type": "code",
   "execution_count": 94,
   "id": "f8ad38d7",
   "metadata": {},
   "outputs": [
    {
     "name": "stdout",
     "output_type": "stream",
     "text": [
      "Help on class Employee in module __main__:\n",
      "\n",
      "class Employee(builtins.object)\n",
      " |  Employee(_id, name, profession)\n",
      " |  \n",
      " |  Employee class to store Emp data\n",
      " |  \n",
      " |  Methods defined here:\n",
      " |  \n",
      " |  __init__(self, _id, name, profession)\n",
      " |      Initialize self.  See help(type(self)) for accurate signature.\n",
      " |  \n",
      " |  get_record(self)\n",
      " |  \n",
      " |  update_name(self, name)\n",
      " |  \n",
      " |  ----------------------------------------------------------------------\n",
      " |  Data descriptors defined here:\n",
      " |  \n",
      " |  __dict__\n",
      " |      dictionary for instance variables (if defined)\n",
      " |  \n",
      " |  __weakref__\n",
      " |      list of weak references to the object (if defined)\n",
      "\n"
     ]
    }
   ],
   "source": [
    "help(Employee)"
   ]
  },
  {
   "cell_type": "code",
   "execution_count": 107,
   "id": "26379ae4",
   "metadata": {},
   "outputs": [],
   "source": [
    "class Employee:\n",
    "    \n",
    "    \"\"\" Keep track of the number of Employees \n",
    "        version 1.0.0\n",
    "    \"\"\"\n",
    "    count = 0 \n",
    "    def __init__(self,name):\n",
    "        self.name = name \n",
    "        print(f' Welcome to {self.name}  __init__ method ')\n",
    "        self.count = self.count + 1\n",
    "    \n",
    "    \n",
    "    "
   ]
  },
  {
   "cell_type": "code",
   "execution_count": 100,
   "id": "96df0bce",
   "metadata": {},
   "outputs": [
    {
     "data": {
      "text/plain": [
       "(0, 0)"
      ]
     },
     "execution_count": 100,
     "metadata": {},
     "output_type": "execute_result"
    }
   ],
   "source": [
    "Employee.count, Employee.__dict__['count']"
   ]
  },
  {
   "cell_type": "code",
   "execution_count": 108,
   "id": "52755fc8",
   "metadata": {},
   "outputs": [
    {
     "name": "stdout",
     "output_type": "stream",
     "text": [
      " Welcome to Arya  __init__ method \n"
     ]
    }
   ],
   "source": [
    "e1 = Employee(\"Arya\")"
   ]
  },
  {
   "cell_type": "code",
   "execution_count": 105,
   "id": "10e1f742",
   "metadata": {},
   "outputs": [
    {
     "data": {
      "text/plain": [
       "{'name': 'Arya'}"
      ]
     },
     "execution_count": 105,
     "metadata": {},
     "output_type": "execute_result"
    }
   ],
   "source": [
    "e1.__dict__"
   ]
  },
  {
   "cell_type": "code",
   "execution_count": 109,
   "id": "b4f42742",
   "metadata": {},
   "outputs": [
    {
     "data": {
      "text/plain": [
       "0"
      ]
     },
     "execution_count": 109,
     "metadata": {},
     "output_type": "execute_result"
    }
   ],
   "source": [
    "Employee.count"
   ]
  },
  {
   "cell_type": "code",
   "execution_count": 110,
   "id": "8fd43e58",
   "metadata": {},
   "outputs": [
    {
     "name": "stdout",
     "output_type": "stream",
     "text": [
      " Welcome to Abhishek  __init__ method \n"
     ]
    }
   ],
   "source": [
    "e2 = Employee(\"Abhishek\")"
   ]
  },
  {
   "cell_type": "code",
   "execution_count": 111,
   "id": "6634b03e",
   "metadata": {},
   "outputs": [
    {
     "data": {
      "text/plain": [
       "1"
      ]
     },
     "execution_count": 111,
     "metadata": {},
     "output_type": "execute_result"
    }
   ],
   "source": [
    "e2.count"
   ]
  },
  {
   "cell_type": "code",
   "execution_count": 112,
   "id": "86756d6f",
   "metadata": {},
   "outputs": [
    {
     "data": {
      "text/plain": [
       "1"
      ]
     },
     "execution_count": 112,
     "metadata": {},
     "output_type": "execute_result"
    }
   ],
   "source": [
    "e1.count"
   ]
  },
  {
   "cell_type": "code",
   "execution_count": 113,
   "id": "f0f3bef1",
   "metadata": {},
   "outputs": [
    {
     "data": {
      "text/plain": [
       "0"
      ]
     },
     "execution_count": 113,
     "metadata": {},
     "output_type": "execute_result"
    }
   ],
   "source": [
    "Employee.count"
   ]
  },
  {
   "cell_type": "code",
   "execution_count": null,
   "id": "0f608f22",
   "metadata": {},
   "outputs": [],
   "source": []
  }
 ],
 "metadata": {
  "kernelspec": {
   "display_name": "Python 3",
   "language": "python",
   "name": "python3"
  },
  "language_info": {
   "codemirror_mode": {
    "name": "ipython",
    "version": 3
   },
   "file_extension": ".py",
   "mimetype": "text/x-python",
   "name": "python",
   "nbconvert_exporter": "python",
   "pygments_lexer": "ipython3",
   "version": "3.9.6"
  }
 },
 "nbformat": 4,
 "nbformat_minor": 5
}
