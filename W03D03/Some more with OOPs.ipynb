{
 "cells": [
  {
   "cell_type": "code",
   "execution_count": 34,
   "id": "0b7464ab",
   "metadata": {},
   "outputs": [],
   "source": [
    "import requests \n",
    "from bs4 import BeautifulSoup \n",
    "class Scraper:\n",
    "    def __init__(self,url,item):\n",
    "        self.final_url = url + '/search?q=' + item \n",
    "        self.pull_data(self.final_url)\n",
    "    \n",
    "    def pull_data(self, finalurl):\n",
    "        self.result = requests.get(finalurl)\n",
    "        self.soup = BeautifulSoup(self.result.content)\n",
    "        self.results = self.soup.findAll('div',attrs={'class','_3pLy-c row'})\n",
    "        count=0\n",
    "        for item in self.results:\n",
    "            count=count+1\n",
    "            print(item.text)\n",
    "            print('----'*30)\n",
    "        else:\n",
    "            print('Total items in 1 page = {}'.format(count))\n",
    "        \n",
    "            print('End of the Script'.center(100,'*'))\n",
    "    "
   ]
  },
  {
   "cell_type": "code",
   "execution_count": 35,
   "id": "ac5b4d6e",
   "metadata": {},
   "outputs": [
    {
     "name": "stdout",
     "output_type": "stream",
     "text": [
      "realme C21Y (Cross Black, 64 GB)4.670,308 Ratings & 1,904 Reviews4 GB RAM | 64 GB ROM | Expandable Upto 256 GB16.51 cm (6.5 inch) HD+ Display13MP + 2MP + 2MP | 5MP Front Camera5000 mAh BatteryUnisoc T610 Processor1 Year Warranty for Mobile and 6 Months for Accessories₹9,999₹10,9999% offUpto ₹9,450 Off on Exchange\n",
      "------------------------------------------------------------------------------------------------------------------------\n",
      "realme C21Y (Cross Blue, 64 GB)4.670,308 Ratings & 1,904 Reviews4 GB RAM | 64 GB ROM | Expandable Upto 256 GB16.51 cm (6.5 inch) HD+ Display13MP + 2MP + 2MP | 5MP Front Camera5000 mAh BatteryUnisoc T610 Processor1 Year Warranty for Mobile and 6 Months for Accessories₹9,999₹10,9999% offUpto ₹9,450 Off on Exchange\n",
      "------------------------------------------------------------------------------------------------------------------------\n",
      "REDMI 9i Sport (Carbon Black, 64 GB)4.53,393 Ratings & 73 Reviews4 GB RAM | 64 GB ROM | Expandable Upto 512 GB16.59 cm (6.53 inch) HD+ Display13MP Rear Camera | 5MP Front Camera5000 mAh Li-Polymer BatteryMediaTek Helio G25 ProcessorBrand Warranty of 1 Year Available for Mobile and 6 Months for Accessories₹8,799₹9,99912% offUpto ₹8,250 Off on Exchange\n",
      "------------------------------------------------------------------------------------------------------------------------\n",
      "OPPO Reno6 Pro 5G (Stellar Black, 256 GB)4.46,154 Ratings & 844 Reviews12 GB RAM | 256 GB ROM16.64 cm (6.55 inch) Full HD+ Display64MP + 8MP + 2MP + 2MP | 32MP Front Camera4500 mAh Lithium-ion Polymer BatteryMediaTek Dimensity 1200 Processor65W SuperVOOC 2.0 Charging3D Borderless ScreenBokeh Flare Portrait Video | AI Highlight Video | OPPO Reno Glow 2.0Brand Warranty of 1 Year Available for Mobile Including Battery and 6 Months for Accessories₹39,990₹46,99014% offNo Cost EMI from ₹6,665/monthUpto ₹14,950 Off on Exchange\n",
      "------------------------------------------------------------------------------------------------------------------------\n",
      "realme C11 2021 (Cool Grey, 32 GB)4.447,855 Ratings & 2,017 Reviews2 GB RAM | 32 GB ROM | Expandable Upto 256 GB16.51 cm (6.5 inch) HD+ Display8MP Rear Camera | 5MP Front Camera5000 mAh BatteryOcta-core Processor1 Year Warranty for Mobile and 6 Months for Accessories₹7,299₹7,9998% offUpto ₹6,750 Off on Exchange\n",
      "------------------------------------------------------------------------------------------------------------------------\n",
      "realme C11 2021 (Cool Blue, 32 GB)4.447,855 Ratings & 2,017 Reviews2 GB RAM | 32 GB ROM | Expandable Upto 256 GB16.51 cm (6.5 inch) HD+ Display8MP Rear Camera | 5MP Front Camera5000 mAh BatteryOcta-core Processor1 Year Warranty for Mobile and 6 Months for Accessories₹7,299₹7,9998% offUpto ₹6,750 Off on Exchange\n",
      "------------------------------------------------------------------------------------------------------------------------\n",
      "realme C11 2021 (Cool Blue, 64 GB)4.428,805 Ratings & 1,146 Reviews4 GB RAM | 64 GB ROM | Expandable Upto 256 GB16.51 cm (6.5 inch) HD+ Display8MP Rear Camera | 5MP Front Camera5000 mAh BatteryOcta-core Processor1 Year Warranty for Mobile and 6 Months for Accessories₹8,799₹9,99912% offUpto ₹8,250 Off on Exchange\n",
      "------------------------------------------------------------------------------------------------------------------------\n",
      "OPPO F19 Pro (Crystal Silver, 128 GB)4.36,441 Ratings & 541 Reviews8 GB RAM | 128 GB ROM | Expandable Upto 256 GB16.33 cm (6.43 inch) Full HD+ Display48MP + 8MP + 2MP + 2MP | 16MP Front Camera4310 mAh BatteryMediaTek Helio P95 (MT6779V) Processor30W VOOC 4.0 Flash Charge | ColorOS 11.1 (Based on Android 11)Dual View Video | In-Display Fingerprint 3.0 | AI Color Portrait VideoBrand Warranty of 1 Year Available for Mobile Including Battery and 6 Months for Accessories₹21,990₹23,9908% offNo Cost EMI from ₹3,665/monthUpto ₹16,950 Off on Exchange\n",
      "------------------------------------------------------------------------------------------------------------------------\n",
      "realme C11 2021 (Cool Grey, 64 GB)4.428,805 Ratings & 1,146 Reviews4 GB RAM | 64 GB ROM | Expandable Upto 256 GB16.51 cm (6.5 inch) HD+ Display8MP Rear Camera | 5MP Front Camera5000 mAh BatteryOcta-core Processor1 Year Warranty for Mobile and 6 Months for Accessories₹8,799₹9,99912% offUpto ₹8,250 Off on Exchange\n",
      "------------------------------------------------------------------------------------------------------------------------\n",
      "POCO M2 Reloaded (Mostly Blue, 64 GB)4.338,206 Ratings & 2,570 Reviews4 GB RAM | 64 GB ROM | Expandable Upto 512 GB16.59 cm (6.53 inch) Full HD+ Display13MP + 8MP + 5MP + 2MP | 8MP Front Camera5000 mAh Lithium Polymer BatteryMediaTek Helio G80 Processor1 Year for Handset, 6 Months for Accessories₹9,499₹11,99920% offUpto ₹8,950 Off on Exchange\n",
      "------------------------------------------------------------------------------------------------------------------------\n",
      "realme C25Y (Metal Grey, 128 GB)4.620,234 Ratings & 354 Reviews4 GB RAM | 128 GB ROM | Expandable Upto 256 GB16.51 cm (6.5 inch) HD+ Display50MP + 2MP + 2MP | 8MP Front Camera5000 mAh BatteryUnisoc T610 Octa Core Processor1 Year Warranty for Mobile and 6 Months for Accessories₹11,999₹13,99914% off\n",
      "------------------------------------------------------------------------------------------------------------------------\n",
      "OPPO F19 Pro+ 5G (Space Silver, 128 GB)4.32,404 Ratings & 215 Reviews8 GB RAM | 128 GB ROM | Expandable Upto 256 GB16.33 cm (6.43 inch) Full HD+ Display48MP + 8MP + 2MP + 2MP | 16MP Front Camera4310 mAh Lithium-ion Polymer BatteryMediaTek Dimensity 800U ProcessorBrand Warranty of 1 Year Available for Mobile Including Battery and 6 Months for Accessories₹25,990₹29,99013% offNo Cost EMI from ₹4,332/monthUpto ₹17,450 Off on Exchange\n",
      "------------------------------------------------------------------------------------------------------------------------\n",
      "realme Narzo 50A (Oxygen Green, 128 GB)4.623,935 Ratings & 824 Reviews4 GB RAM | 128 GB ROM | Expandable Upto 256 GB16.51 cm (6.5 inch) HD+ Display50MP + 2MP + 2MP | 8MP Front Camera6000 mAh BatteryMediaTek Helio G85 Processor1 Year Warranty for Mobile and 6 Months for Accessories₹12,499₹13,99910% offUpto ₹11,900 Off on Exchange\n",
      "------------------------------------------------------------------------------------------------------------------------\n",
      "realme Narzo 50A (Oxygen Blue, 64 GB)4.623,935 Ratings & 824 Reviews4 GB RAM | 64 GB ROM | Expandable Upto 256 GB16.51 cm (6.5 inch) HD+ Display50MP + 2MP + 2MP | 8MP Front Camera6000 mAh BatteryMediaTek Helio G85 Processor1 Year Warranty for Mobile and 6 Months for Accessories₹11,499₹12,99911% offUpto ₹10,750 Off on Exchange\n",
      "------------------------------------------------------------------------------------------------------------------------\n",
      "realme Narzo 50A (Oxygen Green, 64 GB)4.623,935 Ratings & 824 Reviews4 GB RAM | 64 GB ROM | Expandable Upto 256 GB16.51 cm (6.5 inch) HD+ Display50MP + 2MP + 2MP | 8MP Front Camera6000 mAh BatteryMediaTek Helio G85 Processor1 Year Warranty for Mobile and 6 Months for Accessories₹11,499₹12,99911% offUpto ₹10,750 Off on Exchange\n",
      "------------------------------------------------------------------------------------------------------------------------\n",
      "OPPO Reno6 5G (Aurora, 128 GB)4.325,525 Ratings & 3,602 Reviews8 GB RAM | 128 GB ROM16.33 cm (6.43 inch) Full HD+ Display64MP + 8MP + 2MP | 32MP Front Camera4300 mAh Lithium-ion Polymer BatteryMediaTek Dimensity 900 Processor65W SuperVOOC 2.0 Charging90Hz AMOLED DisplayBokeh Flare Portrait Video | OPPO Reno Glow 2.0 | Ultra-slim Retro DesignBrand Warranty of 1 Year Available for Mobile Including Battery and 6 Months for Accessories₹29,990₹35,99016% offNo Cost EMI from ₹4,999/monthUpto ₹14,950 Off on Exchange\n",
      "------------------------------------------------------------------------------------------------------------------------\n",
      "realme Narzo 50A (Oxygen Blue, 128 GB)4.623,935 Ratings & 824 Reviews4 GB RAM | 128 GB ROM | Expandable Upto 256 GB16.51 cm (6.5 inch) HD+ Display50MP + 2MP + 2MP | 8MP Front Camera6000 mAh BatteryMediaTek Helio G85 Processor1 Year Warranty for Mobile and 6 Months for Accessories₹12,499₹13,99910% offUpto ₹11,900 Off on Exchange\n",
      "------------------------------------------------------------------------------------------------------------------------\n",
      "realme Narzo 50i (Carbon Black, 32 GB)4.74,865 Ratings & 115 Reviews2 GB RAM | 32 GB ROM | Expandable Upto 256 GB16.51 cm (6.5 inch) Display8MP Rear Camera | 5MP Front Camera5000 mAh BatterySC9863A Processor1 Year Warranty for Mobile and 6 Months for Accessories₹7,499₹7,9996% offUpto ₹6,950 Off on Exchange\n",
      "------------------------------------------------------------------------------------------------------------------------\n",
      "realme Narzo 50i (Mint Green, 32 GB)4.74,865 Ratings & 115 Reviews2 GB RAM | 32 GB ROM | Expandable Upto 256 GB16.51 cm (6.5 inch) Display8MP Rear Camera | 5MP Front Camera5000 mAh BatterySC9863A Processor1 Year Warranty for Mobile and 6 Months for Accessories₹7,499₹7,9996% offUpto ₹6,950 Off on Exchange\n",
      "------------------------------------------------------------------------------------------------------------------------\n",
      "IAIR S33.618 Ratings & 4 ReviewsNA GB ROM | Expandable Upto 8 GB6.1 cm (2.4 inch) Display0.8MP Rear Camera2000 mAh Battery1 Year Brand Replacement Warranty₹808₹94914% off\n",
      "------------------------------------------------------------------------------------------------------------------------\n",
      "realme Narzo 50i (Mint Green, 64 GB)4.51,548 Ratings & 41 Reviews4 GB RAM | 64 GB ROM | Expandable Upto 256 GB16.51 cm (6.5 inch) Display8MP Rear Camera | 5MP Front Camera5000 mAh BatterySC9863A Processor1 Year Warranty for Mobile and 6 Months for Accessories₹8,999₹9,99910% offUpto ₹8,450 Off on Exchange\n",
      "------------------------------------------------------------------------------------------------------------------------\n",
      "realme Narzo 50i (Carbon Black, 64 GB)4.51,548 Ratings & 41 Reviews4 GB RAM | 64 GB ROM | Expandable Upto 256 GB16.51 cm (6.5 inch) Display8MP Rear Camera | 5MP Front Camera5000 mAh BatterySC9863A Processor1 Year Warranty for Mobile and 6 Months for Accessories₹8,999₹9,99910% offUpto ₹8,450 Off on Exchange\n",
      "------------------------------------------------------------------------------------------------------------------------\n",
      "POCO M3 (Cool Blue, 64 GB)4.33,89,540 Ratings & 28,498 Reviews6 GB RAM | 64 GB ROM | Expandable Upto 512 GB16.59 cm (6.53 inch) Full HD+ Display48MP + 2MP + 2MP | 8MP Front Camera6000 mAh Lithium-ion Polymer BatteryQualcomm Snapdragon 662 ProcessorMultiple Hands-free Voice AssistantOne Year Warranty for Handset, 6 Months for Accessories₹11,499₹12,99911% off\n",
      "------------------------------------------------------------------------------------------------------------------------\n",
      "IAIR D123.8117 Ratings & 21 ReviewsNA GB ROM | Expandable Upto 32 GB4.5 cm (1.77 inch) Display0.8MP Rear Camera2800 mAh Battery1 Year Brand Replacement Warranty₹859₹8994% off\n",
      "------------------------------------------------------------------------------------------------------------------------\n",
      "Total items in 1 page = 24\n",
      "*****************************************End of the Script******************************************\n"
     ]
    }
   ],
   "source": [
    "scraper = Scraper('https://www.flipkart.com','mobiles')"
   ]
  },
  {
   "cell_type": "code",
   "execution_count": 31,
   "id": "94978fcf",
   "metadata": {},
   "outputs": [
    {
     "name": "stdout",
     "output_type": "stream",
     "text": [
      "Total items in 1 page = 0\n"
     ]
    }
   ],
   "source": [
    "newscraper=Scraper('https://www.flipkart.com','shirts')"
   ]
  },
  {
   "cell_type": "markdown",
   "id": "01d94c6b",
   "metadata": {},
   "source": [
    "`` https://www.nseindia.com/ ``"
   ]
  },
  {
   "cell_type": "code",
   "execution_count": null,
   "id": "6d71fccf",
   "metadata": {},
   "outputs": [],
   "source": [
    "import requests\n",
    "from bs4 import BeautifulSoup \n",
    "response = requests.get('https://www.nseindia.com/')\n",
    "print(response.status_code)\n",
    "if response.status_code == 200:\n",
    "    soup = BeautifulSoup(response.content)\n",
    "    print(soup.prettify())\n",
    "    \n",
    "    element = soup.find('span',attrs={'class','val_per greenTxt'})\n",
    "    print(element.text)\n",
    "    \n",
    "    "
   ]
  },
  {
   "cell_type": "code",
   "execution_count": null,
   "id": "60038734",
   "metadata": {},
   "outputs": [],
   "source": []
  }
 ],
 "metadata": {
  "kernelspec": {
   "display_name": "Python 3",
   "language": "python",
   "name": "python3"
  },
  "language_info": {
   "codemirror_mode": {
    "name": "ipython",
    "version": 3
   },
   "file_extension": ".py",
   "mimetype": "text/x-python",
   "name": "python",
   "nbconvert_exporter": "python",
   "pygments_lexer": "ipython3",
   "version": "3.9.6"
  }
 },
 "nbformat": 4,
 "nbformat_minor": 5
}
