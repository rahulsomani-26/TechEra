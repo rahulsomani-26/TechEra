{
 "cells": [
  {
   "cell_type": "code",
   "execution_count": 2,
   "id": "3d8eb9e0",
   "metadata": {},
   "outputs": [],
   "source": [
    "import tkinter as tk"
   ]
  },
  {
   "cell_type": "markdown",
   "id": "009f9915",
   "metadata": {},
   "source": [
    "`test` whether things are working fine, by using _test()"
   ]
  },
  {
   "cell_type": "code",
   "execution_count": 6,
   "id": "22af5951",
   "metadata": {},
   "outputs": [],
   "source": [
    "tk._test()"
   ]
  },
  {
   "cell_type": "code",
   "execution_count": 4,
   "id": "623f5fc2",
   "metadata": {},
   "outputs": [
    {
     "name": "stdout",
     "output_type": "stream",
     "text": [
      "Help on function _test in module tkinter:\n",
      "\n",
      "_test()\n",
      "\n"
     ]
    }
   ],
   "source": [
    "help(tk._test)"
   ]
  },
  {
   "cell_type": "markdown",
   "id": "47f9b85a",
   "metadata": {},
   "source": [
    "No docstring in \n",
    "`tk._test.__doc__`"
   ]
  },
  {
   "cell_type": "markdown",
   "id": "8ea00857",
   "metadata": {},
   "source": [
    "# Our First App"
   ]
  },
  {
   "cell_type": "code",
   "execution_count": 7,
   "id": "7442fab9",
   "metadata": {},
   "outputs": [],
   "source": [
    "import tkinter as tk \n",
    "root = tk.Tk()\n",
    "root.mainloop()"
   ]
  },
  {
   "cell_type": "markdown",
   "id": "d635b42d",
   "metadata": {},
   "source": [
    "Lets give our application a `fixed width` and a `fixed height`"
   ]
  },
  {
   "cell_type": "code",
   "execution_count": 12,
   "id": "679a17dd",
   "metadata": {},
   "outputs": [],
   "source": [
    "import tkinter as tk \n",
    "root = tk.Tk()\n",
    "\n",
    "root.mainloop()"
   ]
  },
  {
   "cell_type": "code",
   "execution_count": 13,
   "id": "f43a87ab",
   "metadata": {},
   "outputs": [
    {
     "name": "stdout",
     "output_type": "stream",
     "text": [
      "['_Misc__winfo_getint', '_Misc__winfo_parseitem', '__class__', '__delattr__', '__dict__', '__dir__', '__doc__', '__eq__', '__format__', '__ge__', '__getattr__', '__getattribute__', '__getitem__', '__gt__', '__hash__', '__init__', '__init_subclass__', '__le__', '__lt__', '__module__', '__ne__', '__new__', '__reduce__', '__reduce_ex__', '__repr__', '__setattr__', '__setitem__', '__sizeof__', '__str__', '__subclasshook__', '__weakref__', '_bind', '_configure', '_displayof', '_getboolean', '_getconfigure', '_getconfigure1', '_getdoubles', '_getints', '_grid_configure', '_gridconvvalue', '_last_child_ids', '_loadtk', '_nametowidget', '_noarg_', '_options', '_register', '_report_exception', '_root', '_subst_format', '_subst_format_str', '_substitute', '_tclCommands', '_tkloaded', '_w', '_windowingsystem', 'after', 'after_cancel', 'after_idle', 'anchor', 'aspect', 'attributes', 'bbox', 'bell', 'bind', 'bind_all', 'bind_class', 'bindtags', 'cget', 'children', 'client', 'clipboard_append', 'clipboard_clear', 'clipboard_get', 'colormapwindows', 'columnconfigure', 'command', 'config', 'configure', 'deiconify', 'deletecommand', 'destroy', 'event_add', 'event_delete', 'event_generate', 'event_info', 'focus', 'focus_displayof', 'focus_force', 'focus_get', 'focus_lastfor', 'focus_set', 'focusmodel', 'forget', 'frame', 'geometry', 'getboolean', 'getdouble', 'getint', 'getvar', 'grab_current', 'grab_release', 'grab_set', 'grab_set_global', 'grab_status', 'grid', 'grid_anchor', 'grid_bbox', 'grid_columnconfigure', 'grid_location', 'grid_propagate', 'grid_rowconfigure', 'grid_size', 'grid_slaves', 'group', 'iconbitmap', 'iconify', 'iconmask', 'iconname', 'iconphoto', 'iconposition', 'iconwindow', 'image_names', 'image_types', 'keys', 'lift', 'loadtk', 'lower', 'mainloop', 'manage', 'master', 'maxsize', 'minsize', 'nametowidget', 'option_add', 'option_clear', 'option_get', 'option_readfile', 'overrideredirect', 'pack_propagate', 'pack_slaves', 'place_slaves', 'positionfrom', 'propagate', 'protocol', 'quit', 'readprofile', 'register', 'report_callback_exception', 'resizable', 'rowconfigure', 'selection_clear', 'selection_get', 'selection_handle', 'selection_own', 'selection_own_get', 'send', 'setvar', 'size', 'sizefrom', 'slaves', 'state', 'title', 'tk', 'tk_bisque', 'tk_focusFollowsMouse', 'tk_focusNext', 'tk_focusPrev', 'tk_setPalette', 'tk_strictMotif', 'tkraise', 'transient', 'unbind', 'unbind_all', 'unbind_class', 'update', 'update_idletasks', 'wait_variable', 'wait_visibility', 'wait_window', 'waitvar', 'winfo_atom', 'winfo_atomname', 'winfo_cells', 'winfo_children', 'winfo_class', 'winfo_colormapfull', 'winfo_containing', 'winfo_depth', 'winfo_exists', 'winfo_fpixels', 'winfo_geometry', 'winfo_height', 'winfo_id', 'winfo_interps', 'winfo_ismapped', 'winfo_manager', 'winfo_name', 'winfo_parent', 'winfo_pathname', 'winfo_pixels', 'winfo_pointerx', 'winfo_pointerxy', 'winfo_pointery', 'winfo_reqheight', 'winfo_reqwidth', 'winfo_rgb', 'winfo_rootx', 'winfo_rooty', 'winfo_screen', 'winfo_screencells', 'winfo_screendepth', 'winfo_screenheight', 'winfo_screenmmheight', 'winfo_screenmmwidth', 'winfo_screenvisual', 'winfo_screenwidth', 'winfo_server', 'winfo_toplevel', 'winfo_viewable', 'winfo_visual', 'winfo_visualid', 'winfo_visualsavailable', 'winfo_vrootheight', 'winfo_vrootwidth', 'winfo_vrootx', 'winfo_vrooty', 'winfo_width', 'winfo_x', 'winfo_y', 'withdraw', 'wm_aspect', 'wm_attributes', 'wm_client', 'wm_colormapwindows', 'wm_command', 'wm_deiconify', 'wm_focusmodel', 'wm_forget', 'wm_frame', 'wm_geometry', 'wm_grid', 'wm_group', 'wm_iconbitmap', 'wm_iconify', 'wm_iconmask', 'wm_iconname', 'wm_iconphoto', 'wm_iconposition', 'wm_iconwindow', 'wm_manage', 'wm_maxsize', 'wm_minsize', 'wm_overrideredirect', 'wm_positionfrom', 'wm_protocol', 'wm_resizable', 'wm_sizefrom', 'wm_state', 'wm_title', 'wm_transient', 'wm_withdraw']\n"
     ]
    }
   ],
   "source": [
    "print(dir(root))"
   ]
  },
  {
   "cell_type": "code",
   "execution_count": 19,
   "id": "7691a444",
   "metadata": {},
   "outputs": [],
   "source": [
    "root = tk.Tk()\n",
    "root.geometry('500x500')\n",
    "root.mainloop()"
   ]
  },
  {
   "cell_type": "markdown",
   "id": "8773f00e",
   "metadata": {},
   "source": [
    "Lets try to see what does `500x500` means"
   ]
  },
  {
   "cell_type": "code",
   "execution_count": 20,
   "id": "1533f3f2",
   "metadata": {},
   "outputs": [],
   "source": [
    "root = tk.Tk()\n",
    "root.geometry('1200x500')\n",
    "root.mainloop()"
   ]
  },
  {
   "cell_type": "markdown",
   "id": "4356ca5b",
   "metadata": {},
   "source": [
    "Lets change the `height`"
   ]
  },
  {
   "cell_type": "code",
   "execution_count": 21,
   "id": "bd26abb8",
   "metadata": {},
   "outputs": [],
   "source": [
    "root = tk.Tk()\n",
    "root.geometry('1000x800')\n",
    "root.mainloop()"
   ]
  },
  {
   "cell_type": "markdown",
   "id": "e7889948",
   "metadata": {},
   "source": [
    "`Lets try to test with the geometry`"
   ]
  },
  {
   "cell_type": "code",
   "execution_count": 7,
   "id": "adab054c",
   "metadata": {},
   "outputs": [],
   "source": [
    "import tkinter as tk\n",
    "root = tk.Tk()\n",
    "root.geometry('300x300'+'10'+ '20')\n",
    "root.mainloop()"
   ]
  },
  {
   "cell_type": "code",
   "execution_count": 3,
   "id": "df5d2464",
   "metadata": {},
   "outputs": [
    {
     "name": "stdout",
     "output_type": "stream",
     "text": [
      "Help on method wm_geometry in module tkinter:\n",
      "\n",
      "wm_geometry(newGeometry=None) method of tkinter.Tk instance\n",
      "    Set geometry to NEWGEOMETRY of the form =widthxheight+x+y. Return\n",
      "    current value if None is given.\n",
      "\n"
     ]
    }
   ],
   "source": [
    "help(root.geometry)"
   ]
  },
  {
   "cell_type": "code",
   "execution_count": 12,
   "id": "af2d2f8c",
   "metadata": {},
   "outputs": [],
   "source": [
    "import tkinter as tk\n",
    "root = tk.Tk()\n",
    "root.geometry('300x300+10+20')\n",
    "root.mainloop()"
   ]
  },
  {
   "cell_type": "code",
   "execution_count": 14,
   "id": "27d04ae7",
   "metadata": {},
   "outputs": [],
   "source": [
    "import tkinter as tk\n",
    "root = tk.Tk()\n",
    "root.geometry('300x300+500+20')\n",
    "root.mainloop()"
   ]
  },
  {
   "cell_type": "code",
   "execution_count": 15,
   "id": "658cd83f",
   "metadata": {},
   "outputs": [],
   "source": [
    "import tkinter as tk\n",
    "root = tk.Tk()\n",
    "root.geometry('300x300+500+200')\n",
    "root.mainloop()"
   ]
  },
  {
   "cell_type": "markdown",
   "id": "eaf30976",
   "metadata": {},
   "source": [
    "` Difference in widthxheight +x +y\n",
    "                             -   -\n",
    "`"
   ]
  },
  {
   "cell_type": "code",
   "execution_count": 17,
   "id": "8a9a59a5",
   "metadata": {},
   "outputs": [],
   "source": [
    "import tkinter as tk\n",
    "root = tk.Tk()\n",
    "root.geometry('300x300-50+200')\n",
    "root.mainloop()"
   ]
  },
  {
   "cell_type": "markdown",
   "id": "2030befc",
   "metadata": {},
   "source": [
    "Till now all our window application was resizable\n"
   ]
  },
  {
   "cell_type": "code",
   "execution_count": null,
   "id": "fa4f7b53",
   "metadata": {},
   "outputs": [],
   "source": []
  },
  {
   "cell_type": "code",
   "execution_count": 18,
   "id": "23883560",
   "metadata": {},
   "outputs": [],
   "source": [
    "import tkinter as tk\n",
    "root = tk.Tk()\n",
    "root.geometry('300x300-50+200')\n",
    "root.resizable(True,True)\n",
    "root.mainloop()"
   ]
  },
  {
   "cell_type": "code",
   "execution_count": 19,
   "id": "7072274c",
   "metadata": {},
   "outputs": [],
   "source": [
    "import tkinter as tk\n",
    "root = tk.Tk()\n",
    "root.geometry('300x300-50+200')\n",
    "root.resizable(False,False)\n",
    "root.mainloop()"
   ]
  },
  {
   "cell_type": "markdown",
   "id": "14bd97db",
   "metadata": {},
   "source": [
    "` Resizing in only one direction `"
   ]
  },
  {
   "cell_type": "code",
   "execution_count": 20,
   "id": "8eb016b0",
   "metadata": {},
   "outputs": [],
   "source": [
    "import tkinter as tk\n",
    "root = tk.Tk()\n",
    "root.geometry('300x300-50+200')\n",
    "root.resizable(True,False)\n",
    "root.mainloop()"
   ]
  },
  {
   "cell_type": "markdown",
   "id": "ca93eef5",
   "metadata": {},
   "source": [
    "My logo `path`  = 'C:\\Users\\soman\\Downloads\\logo.ico'"
   ]
  },
  {
   "cell_type": "code",
   "execution_count": 21,
   "id": "55fd5eff",
   "metadata": {},
   "outputs": [],
   "source": [
    "import tkinter as tk\n",
    "root = tk.Tk()\n",
    "root.geometry('300x300-50+200')\n",
    "root.resizable(True,False)\n",
    "root.iconbitmap(r'C:\\Users\\soman\\Downloads\\logo.ico')\n",
    "root.mainloop()"
   ]
  },
  {
   "cell_type": "markdown",
   "id": "8a8f92f9",
   "metadata": {},
   "source": [
    "Lets change the logo to something else "
   ]
  },
  {
   "cell_type": "code",
   "execution_count": 22,
   "id": "db68a717",
   "metadata": {},
   "outputs": [],
   "source": [
    "import tkinter as tk\n",
    "root = tk.Tk()\n",
    "root.geometry('300x300-50+200')\n",
    "root.resizable(True,True)\n",
    "root.iconbitmap(r'C:\\Users\\soman\\Downloads\\logo2.ico')\n",
    "root.mainloop()"
   ]
  },
  {
   "cell_type": "markdown",
   "id": "e91aa2a0",
   "metadata": {},
   "source": [
    "# Lets add something in our application.\n",
    "\n",
    "This `something` is known as a `widget` "
   ]
  },
  {
   "cell_type": "markdown",
   "id": "93b9a906",
   "metadata": {},
   "source": [
    "# The LabeL Widget "
   ]
  },
  {
   "cell_type": "code",
   "execution_count": 24,
   "id": "fd1647c1",
   "metadata": {},
   "outputs": [],
   "source": [
    "import tkinter as tk\n",
    "\n",
    "root = tk.Tk()\n",
    "root.geometry('300x300-50+200')\n",
    "root.resizable(True,True)\n",
    "root.iconbitmap(r'C:\\Users\\soman\\Downloads\\logo2.ico')\n",
    "\n",
    "# First Label \n",
    "\n",
    "tk.Label(root,text=\"First\")\n",
    "tk.Label(root,text=\"Second\")\n",
    "\n",
    "\n",
    "root.mainloop()"
   ]
  },
  {
   "cell_type": "markdown",
   "id": "6d8b0bed",
   "metadata": {},
   "source": [
    "Nothing appears to be new "
   ]
  },
  {
   "cell_type": "markdown",
   "id": "fa512472",
   "metadata": {},
   "source": [
    "This is because we have to pack our widgets into the container "
   ]
  },
  {
   "cell_type": "code",
   "execution_count": 25,
   "id": "cb219de6",
   "metadata": {},
   "outputs": [],
   "source": [
    "import tkinter as tk\n",
    "\n",
    "root = tk.Tk()\n",
    "root.geometry('300x300-50+200')\n",
    "root.resizable(True,True)\n",
    "root.iconbitmap(r'C:\\Users\\soman\\Downloads\\logo2.ico')\n",
    "\n",
    "# First Label \n",
    "tk.Label(root,text=\"First\").pack()\n",
    "tk.Label(root,text=\"Second\").pack()\n",
    "\n",
    "\n",
    "root.mainloop()"
   ]
  },
  {
   "cell_type": "markdown",
   "id": "0ea51877",
   "metadata": {},
   "source": [
    "Lets try to see the arguments that we can pass within the `pack()\n",
    "   side: * left\n",
    "         * top\n",
    "         * right\n",
    "         * bottm\n",
    "         `\n",
    "         \n",
    "         defaults to top"
   ]
  },
  {
   "cell_type": "code",
   "execution_count": 26,
   "id": "52dcccb8",
   "metadata": {},
   "outputs": [],
   "source": [
    "import tkinter as tk\n",
    "\n",
    "root = tk.Tk()\n",
    "root.geometry('300x300-50+200')\n",
    "root.resizable(True,True)\n",
    "root.iconbitmap(r'C:\\Users\\soman\\Downloads\\logo2.ico')\n",
    "\n",
    "# First Label \n",
    "tk.Label(root,text=\"First\").pack(side='left')\n",
    "# Second Label\n",
    "tk.Label(root,text=\"Second\").pack()\n",
    "\n",
    "\n",
    "root.mainloop()"
   ]
  },
  {
   "cell_type": "code",
   "execution_count": 30,
   "id": "c6c8a810",
   "metadata": {},
   "outputs": [],
   "source": [
    "import tkinter as tk\n",
    "\n",
    "root = tk.Tk()\n",
    "root.geometry('300x300-50+200')\n",
    "root.resizable(True,True)\n",
    "root.iconbitmap(r'C:\\Users\\soman\\Downloads\\logo2.ico')\n",
    "\n",
    "# First Label \n",
    "tk.Label(root,text=\"First\",bg='red').pack(side='left')\n",
    "# Second Label\n",
    "tk.Label(root,text=\"Second\").pack(side='left')\n",
    "\n",
    "\n",
    "root.mainloop()"
   ]
  },
  {
   "cell_type": "code",
   "execution_count": 33,
   "id": "46d79bfc",
   "metadata": {},
   "outputs": [],
   "source": [
    "import tkinter as tk\n",
    "\n",
    "root = tk.Tk()\n",
    "root.geometry('300x300-50+200')\n",
    "root.resizable(True,True)\n",
    "root.iconbitmap(r'C:\\Users\\soman\\Downloads\\logo2.ico')\n",
    "\n",
    "# First Label \n",
    "tk.Label(root,text=\"First\",bg='red').pack(side='left',expand=True)\n",
    "# Second Label\n",
    "tk.Label(root,text=\"Second\").pack(side='left',expand=True)\n",
    "\n",
    "\n",
    "root.mainloop()"
   ]
  },
  {
   "cell_type": "code",
   "execution_count": 34,
   "id": "0a8576a9",
   "metadata": {},
   "outputs": [],
   "source": [
    "import tkinter as tk\n",
    "\n",
    "root = tk.Tk()\n",
    "root.geometry('300x300+50+200')\n",
    "root.resizable(True,True)\n",
    "root.iconbitmap(r'C:\\Users\\soman\\Downloads\\logo2.ico')\n",
    "\n",
    "# First Label \n",
    "tk.Label(root,text=\"First\",bg='red').pack(side='left',expand=True)\n",
    "# Second Label\n",
    "tk.Label(root,text=\"Second\").pack(side='right',expand=True)\n",
    "root.mainloop()"
   ]
  },
  {
   "cell_type": "markdown",
   "id": "14eb64c0",
   "metadata": {},
   "source": [
    "Lets add an a `Button` that just prints a message when clicked "
   ]
  },
  {
   "cell_type": "code",
   "execution_count": 35,
   "id": "956748de",
   "metadata": {},
   "outputs": [],
   "source": [
    "import tkinter as tk\n",
    "\n",
    "root = tk.Tk()\n",
    "root.geometry('300x300+50+200')\n",
    "root.resizable(True,True)\n",
    "root.iconbitmap(r'C:\\Users\\soman\\Downloads\\logo2.ico')\n",
    "\n",
    "# First Label \n",
    "tk.Label(root,text=\"First\",bg='red').pack(side='left',expand=True)\n",
    "# Second Label\n",
    "tk.Label(root,text=\"Second\").pack(side='right',expand=True)\n",
    "tk.Button(root,text=\"Click Me\").pack()\n",
    "root.mainloop()"
   ]
  },
  {
   "cell_type": "markdown",
   "id": "6181ac53",
   "metadata": {},
   "source": [
    "Nothing seems to happen when we press the button, because we have not given it enough \n",
    "information, about what to do when a certain event is trigger. In this case the click event"
   ]
  },
  {
   "cell_type": "code",
   "execution_count": 39,
   "id": "1cceebb8",
   "metadata": {},
   "outputs": [],
   "source": [
    "import tkinter as tk\n",
    "\n",
    "root = tk.Tk()\n",
    "root.geometry('300x300+50+200')\n",
    "root.resizable(True,True)\n",
    "root.iconbitmap(r'C:\\Users\\soman\\Downloads\\logo2.ico')\n",
    "\n",
    "def test_me():\n",
    "    print(' I was clicked')\n",
    "\n",
    "# First Label \n",
    "tk.Label(root,text=\"First\",bg='red').pack(side='left',expand=True)\n",
    "# Second Label\n",
    "tk.Label(root,text=\"Second\").pack(side='right',expand=True)\n",
    "tk.Button(root,text=\"Click Me\",command=test_me).pack(side='bottom')\n",
    "root.mainloop()"
   ]
  },
  {
   "cell_type": "markdown",
   "id": "5d969475",
   "metadata": {},
   "source": [
    "Now lets add a widget that can take entry from the user \n",
    "widget: `tkinter.Entry`"
   ]
  },
  {
   "cell_type": "code",
   "execution_count": 40,
   "id": "e0f42379",
   "metadata": {},
   "outputs": [
    {
     "name": "stdout",
     "output_type": "stream",
     "text": [
      " I was clicked\n"
     ]
    }
   ],
   "source": [
    "import tkinter as tk\n",
    "\n",
    "root = tk.Tk()\n",
    "root.geometry('300x300+50+200')\n",
    "root.resizable(True,True)\n",
    "root.iconbitmap(r'C:\\Users\\soman\\Downloads\\logo2.ico')\n",
    "\n",
    "def test_me():\n",
    "    print(' I was clicked')\n",
    "\n",
    "# First Label \n",
    "tk.Label(root,text=\"Enter your name \",bg='red').pack(side='left',expand=True)\n",
    "# Entry Wiget\n",
    "tk.Entry(root).pack()\n",
    "tk.Button(root,text=\"Click Me\",command=test_me).pack(side='bottom')\n",
    "root.mainloop()"
   ]
  },
  {
   "cell_type": "code",
   "execution_count": 45,
   "id": "0889cd18",
   "metadata": {},
   "outputs": [
    {
     "name": "stdout",
     "output_type": "stream",
     "text": [
      "something intresting= {'master': None, 'children': {'!label': <tkinter.Label object .!label>}, '_tkloaded': True, 'tk': <_tkinter.tkapp object at 0x0000022C2AEA6430>, '_tclCommands': ['tkerror', 'exit', '2388721835584destroy'], '_last_child_ids': {'label': 1}} \n",
      "something intresting= {'widgetName': 'entry', 'master': <tkinter.Tk object .>, 'tk': <_tkinter.tkapp object at 0x0000022C2AEA6430>, '_name': '!entry', '_w': '.!entry', 'children': {}, '_tclCommands': []} \n",
      "something intresting= {'widgetName': 'button', 'master': <tkinter.Tk object .>, 'tk': <_tkinter.tkapp object at 0x0000022C2AEA6430>, '_name': '!button', '_w': '.!button', 'children': {}, '_tclCommands': ['2388721834496show_val']} \n"
     ]
    }
   ],
   "source": [
    "import tkinter as tk \n",
    "\n",
    "def show_val():\n",
    "    print('will print in a moment')\n",
    "\n",
    "\n",
    "root = tk.Tk()\n",
    "root.geometry('600x400')\n",
    "root.resizable(True,True)\n",
    "\n",
    "label_name = tk.Label(root,text=\"Name\")\n",
    "print('something intresting= {} '.format(root.__dict__))\n",
    "label_name.pack(side=\"left\")\n",
    "\n",
    "entry_box = tk.Entry(root)\n",
    "print('something intresting= {} '.format(entry_box.__dict__))\n",
    "\n",
    "entry_box.pack(side=\"left\")\n",
    "\n",
    "msg_btn = tk.Button(root,text=\"Submit\",command=show_val)\n",
    "msg_btn.pack()\n",
    "\n",
    "quit_btn = tk.Button(root,text=\"Quit\",command=root.destroy)\n",
    "quit_btn.pack()\n",
    "print('something intresting= {} '.format(msg_btn.__dict__))\n",
    "\n",
    "root.mainloop()\n"
   ]
  },
  {
   "cell_type": "code",
   "execution_count": 48,
   "id": "12b0661a",
   "metadata": {},
   "outputs": [
    {
     "name": "stdout",
     "output_type": "stream",
     "text": [
      "typeof(name) = <class 'tkinter.StringVar'>\n",
      "something intresting= {'master': None, 'children': {'!label': <tkinter.Label object .!label>}, '_tkloaded': True, 'tk': <_tkinter.tkapp object at 0x0000022C2AEA6430>, '_tclCommands': ['tkerror', 'exit', '2388721862272destroy'], '_last_child_ids': {'label': 1}} \n"
     ]
    }
   ],
   "source": [
    "# starting point ..........\n",
    "import tkinter as tk \n",
    "\n",
    "def show_val():\n",
    "    print('will print in a moment')\n",
    "    print(name.get())\n",
    "\n",
    "\n",
    "root = tk.Tk()\n",
    "root.title('My First GUI')\n",
    "root.geometry('600x400')\n",
    "root.resizable(True,True)\n",
    "\n",
    "name = tk.StringVar()\n",
    "print('typeof(name) = {}'.format(type(name)))\n",
    "\n",
    "label_name = tk.Label(root,text=\"Name\")\n",
    "print('something intresting= {} '.format(root.__dict__))\n",
    "label_name.pack(side=\"left\")\n",
    "\n",
    "entry_box = tk.Entry(root,width=50,textvariable=name)\n",
    "entry_box.pack(side=\"left\")\n",
    "\n",
    "msg_btn = tk.Button(root,text=\"Submit\",command=show_val)\n",
    "msg_btn.pack()\n",
    "\n",
    "quit_btn = tk.Button(root,text=\"Quit\",command=root.destroy)\n",
    "quit_btn.pack()\n",
    "\n",
    "root.mainloop()\n"
   ]
  },
  {
   "cell_type": "code",
   "execution_count": 49,
   "id": "fed221d3",
   "metadata": {},
   "outputs": [
    {
     "data": {
      "text/plain": [
       "tkinter.IntVar"
      ]
     },
     "execution_count": 49,
     "metadata": {},
     "output_type": "execute_result"
    }
   ],
   "source": [
    "tk.IntVar"
   ]
  },
  {
   "cell_type": "code",
   "execution_count": 50,
   "id": "7f750331",
   "metadata": {},
   "outputs": [
    {
     "name": "stdout",
     "output_type": "stream",
     "text": [
      "Help on class IntVar in module tkinter:\n",
      "\n",
      "class IntVar(Variable)\n",
      " |  IntVar(master=None, value=None, name=None)\n",
      " |  \n",
      " |  Value holder for integer variables.\n",
      " |  \n",
      " |  Method resolution order:\n",
      " |      IntVar\n",
      " |      Variable\n",
      " |      builtins.object\n",
      " |  \n",
      " |  Methods defined here:\n",
      " |  \n",
      " |  __init__(self, master=None, value=None, name=None)\n",
      " |      Construct an integer variable.\n",
      " |      \n",
      " |      MASTER can be given as master widget.\n",
      " |      VALUE is an optional value (defaults to 0)\n",
      " |      NAME is an optional Tcl name (defaults to PY_VARnum).\n",
      " |      \n",
      " |      If NAME matches an existing variable and VALUE is omitted\n",
      " |      then the existing value is retained.\n",
      " |  \n",
      " |  get(self)\n",
      " |      Return the value of the variable as an integer.\n",
      " |  \n",
      " |  ----------------------------------------------------------------------\n",
      " |  Methods inherited from Variable:\n",
      " |  \n",
      " |  __del__(self)\n",
      " |      Unset the variable in Tcl.\n",
      " |  \n",
      " |  __eq__(self, other)\n",
      " |      Return self==value.\n",
      " |  \n",
      " |  __str__(self)\n",
      " |      Return the name of the variable in Tcl.\n",
      " |  \n",
      " |  initialize = set(self, value)\n",
      " |  \n",
      " |  set(self, value)\n",
      " |      Set the variable to VALUE.\n",
      " |  \n",
      " |  trace = trace_variable(self, mode, callback)\n",
      " |  \n",
      " |  trace_add(self, mode, callback)\n",
      " |      Define a trace callback for the variable.\n",
      " |      \n",
      " |      Mode is one of \"read\", \"write\", \"unset\", or a list or tuple of\n",
      " |      such strings.\n",
      " |      Callback must be a function which is called when the variable is\n",
      " |      read, written or unset.\n",
      " |      \n",
      " |      Return the name of the callback.\n",
      " |  \n",
      " |  trace_info(self)\n",
      " |      Return all trace callback information.\n",
      " |  \n",
      " |  trace_remove(self, mode, cbname)\n",
      " |      Delete the trace callback for a variable.\n",
      " |      \n",
      " |      Mode is one of \"read\", \"write\", \"unset\" or a list or tuple of\n",
      " |      such strings.  Must be same as were specified in trace_add().\n",
      " |      cbname is the name of the callback returned from trace_add().\n",
      " |  \n",
      " |  trace_variable(self, mode, callback)\n",
      " |      Define a trace callback for the variable.\n",
      " |      \n",
      " |      MODE is one of \"r\", \"w\", \"u\" for read, write, undefine.\n",
      " |      CALLBACK must be a function which is called when\n",
      " |      the variable is read, written or undefined.\n",
      " |      \n",
      " |      Return the name of the callback.\n",
      " |      \n",
      " |      This deprecated method wraps a deprecated Tcl method that will\n",
      " |      likely be removed in the future.  Use trace_add() instead.\n",
      " |  \n",
      " |  trace_vdelete(self, mode, cbname)\n",
      " |      Delete the trace callback for a variable.\n",
      " |      \n",
      " |      MODE is one of \"r\", \"w\", \"u\" for read, write, undefine.\n",
      " |      CBNAME is the name of the callback returned from trace_variable or trace.\n",
      " |      \n",
      " |      This deprecated method wraps a deprecated Tcl method that will\n",
      " |      likely be removed in the future.  Use trace_remove() instead.\n",
      " |  \n",
      " |  trace_vinfo(self)\n",
      " |      Return all trace callback information.\n",
      " |      \n",
      " |      This deprecated method wraps a deprecated Tcl method that will\n",
      " |      likely be removed in the future.  Use trace_info() instead.\n",
      " |  \n",
      " |  ----------------------------------------------------------------------\n",
      " |  Data descriptors inherited from Variable:\n",
      " |  \n",
      " |  __dict__\n",
      " |      dictionary for instance variables (if defined)\n",
      " |  \n",
      " |  __weakref__\n",
      " |      list of weak references to the object (if defined)\n",
      " |  \n",
      " |  ----------------------------------------------------------------------\n",
      " |  Data and other attributes inherited from Variable:\n",
      " |  \n",
      " |  __hash__ = None\n",
      "\n"
     ]
    }
   ],
   "source": [
    "help(tk.IntVar)"
   ]
  },
  {
   "cell_type": "code",
   "execution_count": 70,
   "id": "12aa223c",
   "metadata": {},
   "outputs": [],
   "source": [
    "import tkinter as tk \n",
    "root = tk.Tk()\n",
    "root.title('Second Draft')\n",
    "root.geometry('500x500-50+50')\n",
    "\n",
    "def factorial():\n",
    "    print('within {}'.format(__name__))\n",
    "    value = num.get()\n",
    "    result = 1\n",
    "    \n",
    "    while value > 1:\n",
    "        result = result*value\n",
    "        value = value - 1 \n",
    "    print(result) \n",
    "    \n",
    "    \n",
    "    \n",
    "num = tk.IntVar()\n",
    "tk.Label(root,text=\"Enter a number \",bg='#a72f4e').pack(side=\"left\",expand=True,fill=\"both\")\n",
    "\n",
    "e = tk.Entry(root,textvariable=num)\n",
    "e.pack(side=\"left\",expand=True)\n",
    "\n",
    "b1 = tk.Button(root,text=\"Factorial\",command=factorial,bg='red')\n",
    "b1.pack(side=\"left\")\n",
    "\n",
    "b2 = tk.Button(root,text=\"Quit\",command=root.destroy)\n",
    "b2.pack(side=\"left\")\n",
    "\n",
    "root.mainloop()\n",
    "\n",
    "\n"
   ]
  },
  {
   "cell_type": "code",
   "execution_count": 71,
   "id": "d19d8a05",
   "metadata": {},
   "outputs": [],
   "source": [
    "import tkinter as tk \n",
    "root = tk.Tk()\n",
    "root.title('Second Draft')\n",
    "root.geometry('500x500-50+50')\n",
    "\n",
    "def factorial():\n",
    "    print('within {}'.format(__name__))\n",
    "    value = num.get()\n",
    "    result = 1\n",
    "    \n",
    "    while value > 1:\n",
    "        result = result*value\n",
    "        value = value - 1 \n",
    "    print(result) \n",
    "    \n",
    "    \n",
    "    \n",
    "num = tk.IntVar()\n",
    "tk.Label(root,text=\"Enter a number \",bg='#a72f4e').pack(side=\"left\",expand=True,fill=\"x\")\n",
    "\n",
    "e = tk.Entry(root,textvariable=num)\n",
    "e.pack(side=\"left\",expand=True)\n",
    "\n",
    "b1 = tk.Button(root,text=\"Factorial\",command=factorial,bg='red')\n",
    "b1.pack(side=\"left\")\n",
    "\n",
    "b2 = tk.Button(root,text=\"Quit\",command=root.destroy)\n",
    "b2.pack(side=\"left\")\n",
    "\n",
    "root.mainloop()\n",
    "\n",
    "\n"
   ]
  },
  {
   "cell_type": "code",
   "execution_count": 72,
   "id": "8b607990",
   "metadata": {},
   "outputs": [],
   "source": [
    "import tkinter as tk \n",
    "root = tk.Tk()\n",
    "root.title('Second Draft')\n",
    "root.geometry('500x500-50+50')\n",
    "\n",
    "def factorial():\n",
    "    print('within {}'.format(__name__))\n",
    "    value = num.get()\n",
    "    result = 1\n",
    "    \n",
    "    while value > 1:\n",
    "        result = result*value\n",
    "        value = value - 1 \n",
    "    print(result) \n",
    "    \n",
    "    \n",
    "    \n",
    "num = tk.IntVar()\n",
    "tk.Label(root,text=\"Enter a number \",bg='#a72f4e').pack(side=\"left\",expand=True,fill=\"y\")\n",
    "\n",
    "e = tk.Entry(root,textvariable=num)\n",
    "e.pack(side=\"left\",expand=True)\n",
    "\n",
    "b1 = tk.Button(root,text=\"Factorial\",command=factorial,bg='red')\n",
    "b1.pack(side=\"left\")\n",
    "\n",
    "b2 = tk.Button(root,text=\"Quit\",command=root.destroy)\n",
    "b2.pack(side=\"left\")\n",
    "\n",
    "root.mainloop()\n",
    "\n",
    "\n"
   ]
  },
  {
   "cell_type": "markdown",
   "id": "8b92eb7b",
   "metadata": {},
   "source": [
    "# My First Try of the UI "
   ]
  },
  {
   "cell_type": "code",
   "execution_count": 78,
   "id": "a9e9240b",
   "metadata": {},
   "outputs": [],
   "source": [
    "import tkinter as tk \n",
    "import sqlite3 as sq \n",
    "\n",
    "# Make a root window \n",
    "root = tk.Tk()\n",
    "root.geometry('800x500+50+50')\n",
    "root.title('A Database App')\n",
    "\n",
    "# our functions here \n",
    "\n",
    "def get_name():\n",
    "    print(name.get())\n",
    "    \n",
    "    \n",
    "# our variables here\n",
    "\n",
    "name = tk.StringVar()\n",
    "\n",
    "# Try adding your icon here \n",
    "pass\n",
    "\n",
    "label_name = tk.Label(root,text=\"name\",width=15,bg=\"#076767\")\n",
    "label_name.pack(side=\"left\",fill=\"both\",expand=True)\n",
    "\n",
    "entry_name = tk.Entry(root,textvariable=get_name)\n",
    "entry_name.pack(side='left',fill='both',expand=True)\n",
    "\n",
    "# test it now \n",
    "\n",
    "root.mainloop()\n"
   ]
  },
  {
   "cell_type": "markdown",
   "id": "386275d8",
   "metadata": {},
   "source": [
    "# Second Draft \n",
    "\n",
    "Changes to be made \n",
    "`\n",
    "* Alignment \n",
    "* Adding 2 more entry widget for profession and age \n",
    "`\n"
   ]
  },
  {
   "cell_type": "code",
   "execution_count": 82,
   "id": "1b6f9874",
   "metadata": {},
   "outputs": [],
   "source": [
    "import tkinter as tk \n",
    "import sqlite3 as sq \n",
    "\n",
    "root = tk.Tk()\n",
    "root.geometry('800x500+50+50')\n",
    "root.title('A Database App')\n",
    "\n",
    "def get_name():\n",
    "    print(name.get())\n",
    "    \n",
    "def profession_name():\n",
    "    print(profession.get())\n",
    "    \n",
    "def get_age():\n",
    "    print(age.get())\n",
    "    \n",
    "name = tk.StringVar()\n",
    "profession = tk.StringVar()\n",
    "age = tk.IntVar()\n",
    "\n",
    "\n",
    "label_name = tk.Label(root,text=\"name\",width=15,bg=\"#076767\")\n",
    "label_name.pack(side=\"left\" )\n",
    "\n",
    "entry_name = tk.Entry(root,textvariable=get_name)\n",
    "entry_name.pack(side='left')\n",
    "\n",
    "\n",
    "profession_name = tk.Label(root,text=\"Profession\",width=15,bg=\"#076767\")\n",
    "profession_name.pack(side=\"left\" )\n",
    "\n",
    "profession_name = tk.Entry(root,textvariable=profession_name)\n",
    "profession_name.pack(side='left' )\n",
    "\n",
    "age_label = tk.Label(root,text=\"Age\",width=15,bg=\"#076767\")\n",
    "age_label.pack(side=\"left\" )\n",
    "\n",
    "age_entry = tk.Entry(root,textvariable=get_age)\n",
    "age_entry.pack(side='left' )\n",
    "\n",
    "\n",
    "\n",
    "\n",
    "# test it now \n",
    "\n",
    "root.mainloop()\n"
   ]
  },
  {
   "cell_type": "markdown",
   "id": "3e4d09f7",
   "metadata": {},
   "source": [
    "Now lets add `button` to it "
   ]
  },
  {
   "cell_type": "code",
   "execution_count": 91,
   "id": "5462dc87",
   "metadata": {},
   "outputs": [
    {
     "ename": "SyntaxError",
     "evalue": "invalid syntax (<ipython-input-91-0bb6b18cb0ba>, line 26)",
     "output_type": "error",
     "traceback": [
      "\u001b[1;36m  File \u001b[1;32m\"<ipython-input-91-0bb6b18cb0ba>\"\u001b[1;36m, line \u001b[1;32m26\u001b[0m\n\u001b[1;33m    print('inserted')\u001b[0m\n\u001b[1;37m    ^\u001b[0m\n\u001b[1;31mSyntaxError\u001b[0m\u001b[1;31m:\u001b[0m invalid syntax\n"
     ]
    }
   ],
   "source": [
    "import tkinter as tk \n",
    "import sqlite3 as sq \n",
    "\n",
    "root = tk.Tk()\n",
    "root.geometry('800x500+50+50')\n",
    "root.title('A Database App')\n",
    "\n",
    "con = sq.connect('mydb.sqlite')\n",
    "cur = con.cursor()\n",
    "cur.execute('create table if not exists EMP(name text,profession text,age int')\n",
    "\n",
    "def get_name():\n",
    "    print(name.get())\n",
    "    \n",
    "def profession_name():\n",
    "    print(profession.get())\n",
    "    \n",
    "def get_age():\n",
    "    print(age.get())\n",
    "    \n",
    "    \n",
    "def insert():\n",
    "     \n",
    "    try:\n",
    "        cur.execute('insert into table EMP values(?,?,?)',(name.get(),profession.get(),age.get())\n",
    "        print('inserted')\n",
    "        con.commit()\n",
    "    except Exception as e:\n",
    "        print(e)\n",
    "    \n",
    "    \n",
    "def show():\n",
    "    print('Showing')\n",
    "    \n",
    "    \n",
    "def update():\n",
    "    print('updating')\n",
    "    \n",
    "def quit():\n",
    "    root.destroy()\n",
    "\n",
    "name = tk.StringVar()\n",
    "profession = tk.StringVar()\n",
    "age = tk.IntVar()\n",
    "\n",
    "\n",
    "label_name = tk.Label(root,text=\"name\",width=15,bg=\"#076767\")\n",
    "label_name.pack()\n",
    "\n",
    "entry_name = tk.Entry(root,textvariable=get_name)\n",
    "entry_name.pack(side='left')\n",
    "\n",
    "\n",
    "profession_name = tk.Label(root,text=\"Profession\",width=15,bg=\"#076767\")\n",
    "profession_name.pack(side=\"left\" )\n",
    "\n",
    "profession_name = tk.Entry(root,textvariable=profession_name)\n",
    "profession_name.pack(side='left' )\n",
    "\n",
    "age_label = tk.Label(root,text=\"Age\",width=5,bg=\"#076767\")\n",
    "age_label.pack(side=\"left\" )\n",
    "\n",
    "age_entry = tk.Entry(root,textvariable=get_age)\n",
    "age_entry.pack(side='left' )\n",
    "\n",
    "insert_btn = tk.Button(root,text='Create',command=create)\n",
    "insert_btn.pack(side='left')\n",
    "\n",
    "\n",
    "insert_btn = tk.Button(root,text='Insert',command=insert)\n",
    "insert_btn.pack(side='left')\n",
    "\n",
    "\n",
    "insert_btn = tk.Button(root,text='Update',command=update)\n",
    "insert_btn.pack(side='left')\n",
    "\n",
    "\n",
    "insert_btn = tk.Button(root,text='Quit',command=quit)\n",
    "insert_btn.pack(side='left')\n",
    "\n",
    "\n",
    "\n",
    "\n",
    "# test it now \n",
    "\n",
    "root.mainloop()\n"
   ]
  },
  {
   "cell_type": "code",
   "execution_count": 104,
   "id": "6e2fd51c",
   "metadata": {},
   "outputs": [
    {
     "name": "stdout",
     "output_type": "stream",
     "text": [
      "inserted\n",
      "inserted\n",
      "('', '', 0)\n",
      "('', '', 0)\n",
      "('', '', 0)\n",
      "('', '', 0)\n",
      "('', '', 0)\n",
      "('rahul', 'tra', 30)\n",
      "('rahul', 'somani', 23)\n",
      "('akash', 'developer', 21)\n"
     ]
    }
   ],
   "source": [
    "import tkinter as tk \n",
    "import sqlite3 as sq \n",
    "\n",
    "root = tk.Tk()\n",
    "root.geometry('800x500+50+50')\n",
    "root.title('A Database App')\n",
    "\n",
    "con = sq.connect('mydb.sqlite')\n",
    "cur = con.cursor()\n",
    "cur.execute('create table if not exists EMP(name text,profession text,age int)')\n",
    "\n",
    "def get_name():\n",
    "    return name.get()\n",
    "    \n",
    "def get_profession():\n",
    "    return profession.get()\n",
    "    \n",
    "def get_age():\n",
    "    return age.get()\n",
    "    \n",
    "def create():\n",
    "    print('creating')\n",
    "    \n",
    "    \n",
    "def insert():\n",
    "    name = get_name()\n",
    "    age = get_age()\n",
    "    profession = get_profession()\n",
    "     \n",
    "    try:\n",
    "        con.execute('insert into EMP values(?,?,?)',(name,profession,age))\n",
    "        print('inserted')\n",
    "        con.commit()\n",
    "    except Exception as e:\n",
    "        print(e)\n",
    "    \n",
    "    \n",
    "    \n",
    "def show():\n",
    "    try:\n",
    "        result = con.execute('select * from EMP')\n",
    "        for rows in result:\n",
    "            print(rows)\n",
    "    except Exception as e:\n",
    "        print(e)\n",
    "        \n",
    "def update():\n",
    "    print('updating')\n",
    "    \n",
    "def quit():\n",
    "    con.close()\n",
    "    root.destroy()\n",
    "\n",
    "name = tk.StringVar()\n",
    "profession = tk.StringVar()\n",
    "age = tk.IntVar()\n",
    "\n",
    "\n",
    "label_name = tk.Label(root,text=\"name\",width=15,bg=\"#076767\")\n",
    "label_name.pack()\n",
    "\n",
    "entry_name = tk.Entry(root,textvariable=name)\n",
    "entry_name.pack(side='left')\n",
    "\n",
    "\n",
    "profession_name = tk.Label(root,text=\"Profession\",width=15,bg=\"#076767\")\n",
    "profession_name.pack(side=\"left\" )\n",
    "\n",
    "profession_name = tk.Entry(root,textvariable=profession)\n",
    "profession_name.pack(side='left' )\n",
    "\n",
    "age_label = tk.Label(root,text=\"Age\",width=5,bg=\"#076767\")\n",
    "age_label.pack(side=\"left\" )\n",
    "\n",
    "age_entry = tk.Entry(root,textvariable=age)\n",
    "age_entry.pack(side='left' )\n",
    "\n",
    "insert_btn = tk.Button(root,text='Create',command=create)\n",
    "insert_btn.pack(side='left')\n",
    "\n",
    "\n",
    "insert_btn = tk.Button(root,text='Insert',command=insert)\n",
    "insert_btn.pack(side='left')\n",
    "\n",
    "\n",
    "insert_btn = tk.Button(root,text='Show',command=show)\n",
    "insert_btn.pack(side='left')\n",
    "\n",
    "\n",
    "insert_btn = tk.Button(root,text='Quit',command=quit)\n",
    "insert_btn.pack(side='left')\n",
    "\n",
    "root.mainloop()\n"
   ]
  },
  {
   "cell_type": "code",
   "execution_count": null,
   "id": "73807ac8",
   "metadata": {},
   "outputs": [],
   "source": []
  },
  {
   "cell_type": "code",
   "execution_count": null,
   "id": "6c409e73",
   "metadata": {},
   "outputs": [],
   "source": []
  },
  {
   "cell_type": "code",
   "execution_count": null,
   "id": "d1b133c9",
   "metadata": {},
   "outputs": [],
   "source": []
  },
  {
   "cell_type": "code",
   "execution_count": null,
   "id": "f8101aa5",
   "metadata": {},
   "outputs": [],
   "source": []
  },
  {
   "cell_type": "markdown",
   "id": "704d14c4",
   "metadata": {},
   "source": [
    "# Frames"
   ]
  },
  {
   "cell_type": "markdown",
   "id": "a56dada8",
   "metadata": {},
   "source": [
    "`In Tkinter,the Frame widget is the basic unit of organization for complex layout.\n",
    "A Frame is a rectangular area that can contain other widegts `"
   ]
  },
  {
   "cell_type": "code",
   "execution_count": 117,
   "id": "cd2c6f8a",
   "metadata": {},
   "outputs": [],
   "source": [
    "import tkinter as tk \n",
    "from tkinter import ttk\n",
    "root = tk.Tk()\n",
    "root.title('Layouts')\n",
    "root.geometry('500x500')\n",
    "\n",
    "name = tk.StringVar()\n",
    "\n",
    "def say_name():\n",
    "    print('Hey {}, how is it going'.format(name.get()))\n",
    "    \n",
    "# First Frame \n",
    "first_frame = ttk.Frame(root,padding=(10,20,30,10))\n",
    "first_frame.pack(side=\"top\")\n",
    "\n",
    "# Second Frame \n",
    "second_frame = ttk.Frame(root,padding=(10,10,10,10))\n",
    "second_frame.pack(side=\"top\")\n",
    "\n",
    "number=ttk.Label(first_frame,text=\"Enter a number \")\n",
    "number.config(font=(r'C:\\Users\\soman\\Downloads\\lb.ttf',43))\n",
    "number.pack(side=\"left\",expand=True,fill=\"both\")\n",
    "entry = ttk.Entry(first_frame,width=20,textvariable=name)\n",
    "entry.pack(side=\"left\",expand=True)\n",
    "\n",
    "ttk.Button(second_frame,text=\"Show Time\",command=say_name).pack(side=\"left\")\n",
    "ttk.Button(second_frame,text=\"Quit\",command=root.destroy).pack(side=\"left\")\n",
    "\n",
    "root.mainloop()\n",
    "\n",
    "\n",
    "\n",
    "\n",
    "\n",
    "    \n",
    "\n"
   ]
  },
  {
   "cell_type": "code",
   "execution_count": null,
   "id": "3a09ee98",
   "metadata": {},
   "outputs": [],
   "source": []
  }
 ],
 "metadata": {
  "kernelspec": {
   "display_name": "Python 3",
   "language": "python",
   "name": "python3"
  },
  "language_info": {
   "codemirror_mode": {
    "name": "ipython",
    "version": 3
   },
   "file_extension": ".py",
   "mimetype": "text/x-python",
   "name": "python",
   "nbconvert_exporter": "python",
   "pygments_lexer": "ipython3",
   "version": "3.9.6"
  }
 },
 "nbformat": 4,
 "nbformat_minor": 5
}
