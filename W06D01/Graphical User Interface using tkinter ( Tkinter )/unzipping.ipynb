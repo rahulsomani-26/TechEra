{
 "cells": [
  {
   "cell_type": "code",
   "execution_count": 1,
   "id": "f5f29001",
   "metadata": {},
   "outputs": [],
   "source": [
    "from zipfile import ZipFile as zf "
   ]
  },
  {
   "cell_type": "code",
   "execution_count": 2,
   "id": "1ccb9212",
   "metadata": {},
   "outputs": [],
   "source": [
    "import os,sys"
   ]
  },
  {
   "cell_type": "code",
   "execution_count": 3,
   "id": "25954a45",
   "metadata": {},
   "outputs": [
    {
     "name": "stdout",
     "output_type": "stream",
     "text": [
      "['_RealGetContents', '__class__', '__del__', '__delattr__', '__dict__', '__dir__', '__doc__', '__enter__', '__eq__', '__exit__', '__format__', '__ge__', '__getattribute__', '__gt__', '__hash__', '__init__', '__init_subclass__', '__le__', '__lt__', '__module__', '__ne__', '__new__', '__reduce__', '__reduce_ex__', '__repr__', '__setattr__', '__sizeof__', '__str__', '__subclasshook__', '__weakref__', '_extract_member', '_fpclose', '_open_to_write', '_sanitize_windows_name', '_windows_illegal_name_trans_table', '_write_end_record', '_writecheck', 'close', 'comment', 'extract', 'extractall', 'fp', 'getinfo', 'infolist', 'namelist', 'open', 'printdir', 'read', 'setpassword', 'testzip', 'write', 'writestr']\n"
     ]
    }
   ],
   "source": [
    "print(dir(zf))"
   ]
  },
  {
   "cell_type": "code",
   "execution_count": 4,
   "id": "f910aaeb",
   "metadata": {},
   "outputs": [
    {
     "name": "stdout",
     "output_type": "stream",
     "text": [
      "Help on function extract in module zipfile:\n",
      "\n",
      "extract(self, member, path=None, pwd=None)\n",
      "    Extract a member from the archive to the current working directory,\n",
      "    using its full name. Its file information is extracted as accurately\n",
      "    as possible. `member' may be a filename or a ZipInfo object. You can\n",
      "    specify a different directory using `path'.\n",
      "\n"
     ]
    }
   ],
   "source": [
    "help(zf.extract)"
   ]
  },
  {
   "cell_type": "code",
   "execution_count": 5,
   "id": "1a70a8fe",
   "metadata": {},
   "outputs": [
    {
     "name": "stdout",
     "output_type": "stream",
     "text": [
      "Help on function extractall in module zipfile:\n",
      "\n",
      "extractall(self, path=None, members=None, pwd=None)\n",
      "    Extract all members from the archive to the current working\n",
      "    directory. `path' specifies a different directory to extract to.\n",
      "    `members' is optional and must be a subset of the list returned\n",
      "    by namelist().\n",
      "\n"
     ]
    }
   ],
   "source": [
    "help(zf.extractall)"
   ]
  },
  {
   "cell_type": "code",
   "execution_count": 8,
   "id": "3d2a853c",
   "metadata": {},
   "outputs": [
    {
     "name": "stdout",
     "output_type": "stream",
     "text": [
      "File Name                                             Modified             Size\n",
      "OFL.txt                                        2010-12-15 00:00:00         4500\n",
      "Lato-Thin.ttf                                  2010-12-15 00:00:00        69968\n",
      "Lato-ThinItalic.ttf                            2010-12-15 00:00:00        48848\n",
      "Lato-Light.ttf                                 2010-12-15 00:00:00        77192\n",
      "Lato-LightItalic.ttf                           2010-12-15 00:00:00        49064\n",
      "Lato-Regular.ttf                               2010-12-15 00:00:00        75136\n",
      "Lato-Italic.ttf                                2010-12-15 00:00:00        75744\n",
      "Lato-Bold.ttf                                  2010-12-15 00:00:00        73316\n",
      "Lato-BoldItalic.ttf                            2010-12-15 00:00:00        77680\n",
      "Lato-Black.ttf                                 2010-12-15 00:00:00        69484\n",
      "Lato-BlackItalic.ttf                           2010-12-15 00:00:00        71948\n"
     ]
    }
   ],
   "source": [
    "from zipfile import ZipFile as zf \n",
    "import os \n",
    "filename= r'c:\\Users\\soman\\Downloads\\Lato.zip'\n",
    "os.chdir(r'c:\\Users\\soman\\Downloads')\n",
    "with zf(filename,'r') as z:\n",
    "    z.printdir()\n",
    "    z.extractall()"
   ]
  },
  {
   "cell_type": "code",
   "execution_count": null,
   "id": "3381bacd",
   "metadata": {},
   "outputs": [],
   "source": []
  }
 ],
 "metadata": {
  "kernelspec": {
   "display_name": "Python 3",
   "language": "python",
   "name": "python3"
  },
  "language_info": {
   "codemirror_mode": {
    "name": "ipython",
    "version": 3
   },
   "file_extension": ".py",
   "mimetype": "text/x-python",
   "name": "python",
   "nbconvert_exporter": "python",
   "pygments_lexer": "ipython3",
   "version": "3.9.6"
  }
 },
 "nbformat": 4,
 "nbformat_minor": 5
}
