{
 "cells": [
  {
   "cell_type": "markdown",
   "id": "ade6235d",
   "metadata": {},
   "source": [
    "# Caching and memoization \n",
    "\n",
    "` Caching is a technique used to improve the performance of a wide range of applications.\n",
    "The idea is to store expensive results in a temporary location, called cache, that can be located in memory\n",
    "or on disk , or in a remote location `"
   ]
  },
  {
   "cell_type": "code",
   "execution_count": 2,
   "id": "38f322f2",
   "metadata": {},
   "outputs": [],
   "source": [
    "from functools import lru_cache"
   ]
  },
  {
   "cell_type": "code",
   "execution_count": 3,
   "id": "5767f589",
   "metadata": {},
   "outputs": [
    {
     "name": "stdout",
     "output_type": "stream",
     "text": [
      "['__annotations__', '__call__', '__class__', '__closure__', '__code__', '__defaults__', '__delattr__', '__dict__', '__dir__', '__doc__', '__eq__', '__format__', '__ge__', '__get__', '__getattribute__', '__globals__', '__gt__', '__hash__', '__init__', '__init_subclass__', '__kwdefaults__', '__le__', '__lt__', '__module__', '__name__', '__ne__', '__new__', '__qualname__', '__reduce__', '__reduce_ex__', '__repr__', '__setattr__', '__sizeof__', '__str__', '__subclasshook__']\n"
     ]
    }
   ],
   "source": [
    "print(dir(lru_cache))"
   ]
  },
  {
   "cell_type": "code",
   "execution_count": 4,
   "id": "d7804a58",
   "metadata": {},
   "outputs": [
    {
     "data": {
      "text/plain": [
       "'<function lru_cache at 0x0000023EF9FA8160>'"
      ]
     },
     "execution_count": 4,
     "metadata": {},
     "output_type": "execute_result"
    }
   ],
   "source": [
    "repr(lru_cache)"
   ]
  },
  {
   "cell_type": "markdown",
   "id": "649fd0a0",
   "metadata": {},
   "source": [
    "A small `implemenation`"
   ]
  },
  {
   "cell_type": "markdown",
   "id": "beed4bfa",
   "metadata": {},
   "source": [
    "without using the `decorator`"
   ]
  },
  {
   "cell_type": "code",
   "execution_count": 7,
   "id": "06b4d3b6",
   "metadata": {},
   "outputs": [],
   "source": [
    "from functools import lru_cache\n",
    "def add(a,b):\n",
    "    print('Calculating')\n",
    "    return a+b\n"
   ]
  },
  {
   "cell_type": "markdown",
   "id": "14f251b5",
   "metadata": {},
   "source": [
    "using the `decorator`"
   ]
  },
  {
   "cell_type": "code",
   "execution_count": 9,
   "id": "07503224",
   "metadata": {},
   "outputs": [],
   "source": [
    "from functools import lru_cache\n",
    "@lru_cache\n",
    "def add(a,b):\n",
    "    print('Calculating')\n",
    "    return a+b\n"
   ]
  },
  {
   "cell_type": "code",
   "execution_count": 10,
   "id": "322c5177",
   "metadata": {},
   "outputs": [
    {
     "data": {
      "text/plain": [
       "<functools._lru_cache_wrapper at 0x23efdd499a0>"
      ]
     },
     "execution_count": 10,
     "metadata": {},
     "output_type": "execute_result"
    }
   ],
   "source": [
    "add"
   ]
  },
  {
   "cell_type": "code",
   "execution_count": 11,
   "id": "8458c563",
   "metadata": {},
   "outputs": [
    {
     "name": "stdout",
     "output_type": "stream",
     "text": [
      "Calculating\n"
     ]
    },
    {
     "data": {
      "text/plain": [
       "4"
      ]
     },
     "execution_count": 11,
     "metadata": {},
     "output_type": "execute_result"
    }
   ],
   "source": [
    "add(2,2)"
   ]
  },
  {
   "cell_type": "code",
   "execution_count": 12,
   "id": "3c043238",
   "metadata": {},
   "outputs": [
    {
     "data": {
      "text/plain": [
       "4"
      ]
     },
     "execution_count": 12,
     "metadata": {},
     "output_type": "execute_result"
    }
   ],
   "source": [
    "add(2,2)"
   ]
  },
  {
   "cell_type": "code",
   "execution_count": 13,
   "id": "0ac9e70b",
   "metadata": {},
   "outputs": [
    {
     "name": "stdout",
     "output_type": "stream",
     "text": [
      "Calculating\n"
     ]
    },
    {
     "data": {
      "text/plain": [
       "5"
      ]
     },
     "execution_count": 13,
     "metadata": {},
     "output_type": "execute_result"
    }
   ],
   "source": [
    "add(2,3)"
   ]
  },
  {
   "cell_type": "code",
   "execution_count": 14,
   "id": "07786883",
   "metadata": {},
   "outputs": [
    {
     "data": {
      "text/plain": [
       "5"
      ]
     },
     "execution_count": 14,
     "metadata": {},
     "output_type": "execute_result"
    }
   ],
   "source": [
    "add(2,3)"
   ]
  },
  {
   "cell_type": "markdown",
   "id": "f8a1ecb2",
   "metadata": {},
   "source": [
    "The lru_cache decorator also provides other basic features. \n",
    "* You can restrict the size of the cache \n",
    "* You can create a cache that is unbounded by specifying None"
   ]
  },
  {
   "cell_type": "code",
   "execution_count": 16,
   "id": "75a73f33",
   "metadata": {},
   "outputs": [],
   "source": [
    "from functools import lru_cache\n",
    "\n",
    "@lru_cache(maxsize=16)\n",
    "def add(a,b):\n",
    "    print('Calculating')\n",
    "    return a+b\n"
   ]
  },
  {
   "cell_type": "code",
   "execution_count": 17,
   "id": "ffe1f4eb",
   "metadata": {},
   "outputs": [
    {
     "data": {
      "text/plain": [
       "<functools._lru_cache_wrapper at 0x23efde29180>"
      ]
     },
     "execution_count": 17,
     "metadata": {},
     "output_type": "execute_result"
    }
   ],
   "source": [
    "add"
   ]
  },
  {
   "cell_type": "code",
   "execution_count": 18,
   "id": "7e22aa43",
   "metadata": {},
   "outputs": [
    {
     "name": "stdout",
     "output_type": "stream",
     "text": [
      "Calculating\n"
     ]
    },
    {
     "data": {
      "text/plain": [
       "30"
      ]
     },
     "execution_count": 18,
     "metadata": {},
     "output_type": "execute_result"
    }
   ],
   "source": [
    "add(10,20)"
   ]
  },
  {
   "cell_type": "code",
   "execution_count": 26,
   "id": "bb23e74b",
   "metadata": {},
   "outputs": [
    {
     "data": {
      "text/plain": [
       "30"
      ]
     },
     "execution_count": 26,
     "metadata": {},
     "output_type": "execute_result"
    }
   ],
   "source": [
    "add(10,20)"
   ]
  },
  {
   "cell_type": "code",
   "execution_count": 27,
   "id": "176c71d6",
   "metadata": {},
   "outputs": [
    {
     "name": "stdout",
     "output_type": "stream",
     "text": [
      "Calculating\n"
     ]
    },
    {
     "data": {
      "text/plain": [
       "3"
      ]
     },
     "execution_count": 27,
     "metadata": {},
     "output_type": "execute_result"
    }
   ],
   "source": [
    "add(1,2)"
   ]
  },
  {
   "cell_type": "code",
   "execution_count": 28,
   "id": "a5610f06",
   "metadata": {},
   "outputs": [
    {
     "data": {
      "text/plain": [
       "3"
      ]
     },
     "execution_count": 28,
     "metadata": {},
     "output_type": "execute_result"
    }
   ],
   "source": [
    "add(1,2)"
   ]
  },
  {
   "cell_type": "code",
   "execution_count": 29,
   "id": "a9c419f8",
   "metadata": {},
   "outputs": [
    {
     "name": "stdout",
     "output_type": "stream",
     "text": [
      "['__annotations__', '__call__', '__class__', '__copy__', '__deepcopy__', '__delattr__', '__dict__', '__dir__', '__doc__', '__eq__', '__format__', '__ge__', '__get__', '__getattribute__', '__gt__', '__hash__', '__init__', '__init_subclass__', '__le__', '__lt__', '__module__', '__name__', '__ne__', '__new__', '__qualname__', '__reduce__', '__reduce_ex__', '__repr__', '__setattr__', '__sizeof__', '__str__', '__subclasshook__', '__wrapped__', 'cache_clear', 'cache_info', 'cache_parameters']\n"
     ]
    }
   ],
   "source": [
    "print(dir(add))"
   ]
  },
  {
   "cell_type": "code",
   "execution_count": 30,
   "id": "3b8b8cda",
   "metadata": {},
   "outputs": [
    {
     "data": {
      "text/plain": [
       "<function _lru_cache_wrapper.cache_info>"
      ]
     },
     "execution_count": 30,
     "metadata": {},
     "output_type": "execute_result"
    }
   ],
   "source": [
    "add.cache_info"
   ]
  },
  {
   "cell_type": "code",
   "execution_count": 31,
   "id": "536435b4",
   "metadata": {},
   "outputs": [
    {
     "name": "stdout",
     "output_type": "stream",
     "text": [
      "Help on built-in function cache_info:\n",
      "\n",
      "cache_info(...) method of functools._lru_cache_wrapper instance\n",
      "\n"
     ]
    }
   ],
   "source": [
    "help(add.cache_info)"
   ]
  },
  {
   "cell_type": "code",
   "execution_count": 33,
   "id": "b9bf288d",
   "metadata": {},
   "outputs": [
    {
     "data": {
      "text/plain": [
       "CacheInfo(hits=9, misses=2, maxsize=16, currsize=2)"
      ]
     },
     "execution_count": 33,
     "metadata": {},
     "output_type": "execute_result"
    }
   ],
   "source": [
    "add.cache_info()"
   ]
  },
  {
   "cell_type": "code",
   "execution_count": 60,
   "id": "50fdd349",
   "metadata": {},
   "outputs": [],
   "source": [
    "import time\n",
    "start = time.time()\n",
    "def fib(n):\n",
    "    end=time.time()\n",
    "    print('Time taken = {}'.format(end-start))\n",
    "    if n < 1:\n",
    "        return 1\n",
    "    else:\n",
    "        return fib(n-1) + fib(n-2)"
   ]
  },
  {
   "cell_type": "code",
   "execution_count": 61,
   "id": "6ff9adc2",
   "metadata": {},
   "outputs": [
    {
     "name": "stdout",
     "output_type": "stream",
     "text": [
      "Time taken = 0.4853675365447998\n",
      "Time taken = 0.4853675365447998\n",
      "Time taken = 0.4853675365447998\n",
      "Time taken = 0.4853675365447998\n",
      "Time taken = 0.4853675365447998\n",
      "Time taken = 0.4853675365447998\n",
      "Time taken = 0.4853675365447998\n",
      "Time taken = 0.4853675365447998\n",
      "Time taken = 0.4853675365447998\n",
      "Time taken = 0.4853675365447998\n",
      "Time taken = 0.4853675365447998\n",
      "Time taken = 0.4863731861114502\n",
      "Time taken = 0.4863731861114502\n",
      "Time taken = 0.4863731861114502\n",
      "Time taken = 0.4863731861114502\n",
      "Time taken = 0.4863731861114502\n",
      "Time taken = 0.4863731861114502\n",
      "Time taken = 0.4863731861114502\n",
      "Time taken = 0.4863731861114502\n",
      "Time taken = 0.4863731861114502\n",
      "Time taken = 0.487368106842041\n",
      "Time taken = 0.487368106842041\n",
      "Time taken = 0.487368106842041\n",
      "Time taken = 0.487368106842041\n",
      "Time taken = 0.487368106842041\n",
      "Time taken = 0.487368106842041\n",
      "Time taken = 0.487368106842041\n",
      "Time taken = 0.487368106842041\n",
      "Time taken = 0.487368106842041\n",
      "Time taken = 0.487368106842041\n",
      "Time taken = 0.487368106842041\n",
      "Time taken = 0.487368106842041\n",
      "Time taken = 0.487368106842041\n",
      "Time taken = 0.487368106842041\n",
      "Time taken = 0.487368106842041\n",
      "Time taken = 0.487368106842041\n",
      "Time taken = 0.487368106842041\n",
      "Time taken = 0.487368106842041\n",
      "Time taken = 0.487368106842041\n",
      "Time taken = 0.487368106842041\n",
      "Time taken = 0.487368106842041\n",
      "Time taken = 0.487368106842041\n",
      "Time taken = 0.487368106842041\n",
      "Time taken = 0.487368106842041\n",
      "Time taken = 0.487368106842041\n",
      "Time taken = 0.487368106842041\n",
      "Time taken = 0.488372802734375\n",
      "Time taken = 0.488372802734375\n",
      "Time taken = 0.488372802734375\n",
      "Time taken = 0.488372802734375\n",
      "Time taken = 0.488372802734375\n",
      "Time taken = 0.488372802734375\n",
      "Time taken = 0.488372802734375\n",
      "Time taken = 0.488372802734375\n",
      "Time taken = 0.488372802734375\n",
      "Time taken = 0.488372802734375\n",
      "Time taken = 0.488372802734375\n",
      "Time taken = 0.488372802734375\n",
      "Time taken = 0.488372802734375\n",
      "Time taken = 0.488372802734375\n",
      "Time taken = 0.488372802734375\n",
      "Time taken = 0.488372802734375\n",
      "Time taken = 0.488372802734375\n",
      "Time taken = 0.488372802734375\n",
      "Time taken = 0.488372802734375\n",
      "Time taken = 0.488372802734375\n",
      "Time taken = 0.488372802734375\n",
      "Time taken = 0.488372802734375\n",
      "Time taken = 0.48937344551086426\n",
      "Time taken = 0.48937344551086426\n",
      "Time taken = 0.48937344551086426\n",
      "Time taken = 0.48937344551086426\n",
      "Time taken = 0.48937344551086426\n",
      "Time taken = 0.48937344551086426\n",
      "Time taken = 0.48937344551086426\n",
      "Time taken = 0.48937344551086426\n",
      "Time taken = 0.48937344551086426\n",
      "Time taken = 0.48937344551086426\n",
      "Time taken = 0.48937344551086426\n",
      "Time taken = 0.48937344551086426\n",
      "Time taken = 0.48937344551086426\n",
      "Time taken = 0.48937344551086426\n",
      "Time taken = 0.48937344551086426\n",
      "Time taken = 0.48937344551086426\n",
      "Time taken = 0.48937344551086426\n",
      "Time taken = 0.4903717041015625\n",
      "Time taken = 0.4903717041015625\n",
      "Time taken = 0.4903717041015625\n",
      "Time taken = 0.4903717041015625\n",
      "Time taken = 0.4903717041015625\n",
      "Time taken = 0.4903717041015625\n",
      "Time taken = 0.4903717041015625\n",
      "Time taken = 0.4903717041015625\n",
      "Time taken = 0.4903717041015625\n",
      "Time taken = 0.4903717041015625\n",
      "Time taken = 0.4903717041015625\n",
      "Time taken = 0.4903717041015625\n",
      "Time taken = 0.4903717041015625\n",
      "Time taken = 0.4903717041015625\n",
      "Time taken = 0.49137091636657715\n",
      "Time taken = 0.49137091636657715\n",
      "Time taken = 0.49137091636657715\n",
      "Time taken = 0.49137091636657715\n",
      "Time taken = 0.49137091636657715\n",
      "Time taken = 0.49137091636657715\n",
      "Time taken = 0.49137091636657715\n",
      "Time taken = 0.49137091636657715\n",
      "Time taken = 0.49137091636657715\n",
      "Time taken = 0.49137091636657715\n",
      "Time taken = 0.49137091636657715\n",
      "Time taken = 0.49137091636657715\n",
      "Time taken = 0.49137091636657715\n",
      "Time taken = 0.49137091636657715\n",
      "Time taken = 0.49137091636657715\n",
      "Time taken = 0.49137091636657715\n",
      "Time taken = 0.49137091636657715\n",
      "Time taken = 0.4923741817474365\n",
      "Time taken = 0.4923741817474365\n",
      "Time taken = 0.4923741817474365\n",
      "Time taken = 0.4923741817474365\n",
      "Time taken = 0.4923741817474365\n",
      "Time taken = 0.4923741817474365\n",
      "Time taken = 0.4923741817474365\n",
      "Time taken = 0.4923741817474365\n",
      "Time taken = 0.4923741817474365\n",
      "Time taken = 0.4923741817474365\n",
      "Time taken = 0.49336862564086914\n",
      "Time taken = 0.49336862564086914\n",
      "Time taken = 0.4943716526031494\n",
      "Time taken = 0.4943716526031494\n",
      "Time taken = 0.4943716526031494\n",
      "Time taken = 0.4943716526031494\n",
      "Time taken = 0.4943716526031494\n",
      "Time taken = 0.4943716526031494\n",
      "Time taken = 0.4943716526031494\n",
      "Time taken = 0.4943716526031494\n",
      "Time taken = 0.49536991119384766\n",
      "Time taken = 0.49536991119384766\n",
      "Time taken = 0.49536991119384766\n",
      "Time taken = 0.49536991119384766\n",
      "Time taken = 0.49536991119384766\n",
      "Time taken = 0.49637722969055176\n",
      "Time taken = 0.49637722969055176\n",
      "Time taken = 0.49637722969055176\n",
      "Time taken = 0.49637722969055176\n",
      "Time taken = 0.49637722969055176\n",
      "Time taken = 0.49637722969055176\n",
      "Time taken = 0.49637722969055176\n",
      "Time taken = 0.49637722969055176\n",
      "Time taken = 0.49637722969055176\n",
      "Time taken = 0.49637722969055176\n",
      "Time taken = 0.49637722969055176\n",
      "Time taken = 0.49637722969055176\n",
      "Time taken = 0.49637722969055176\n",
      "Time taken = 0.49637722969055176\n",
      "Time taken = 0.49637722969055176\n",
      "Time taken = 0.49637722969055176\n",
      "Time taken = 0.49637722969055176\n",
      "Time taken = 0.49637722969055176\n",
      "Time taken = 0.49637722969055176\n",
      "Time taken = 0.49637722969055176\n",
      "Time taken = 0.49737071990966797\n",
      "Time taken = 0.49737071990966797\n",
      "Time taken = 0.49737071990966797\n",
      "Time taken = 0.49737071990966797\n",
      "Time taken = 0.49737071990966797\n",
      "Time taken = 0.49737071990966797\n",
      "Time taken = 0.49737071990966797\n",
      "Time taken = 0.49737071990966797\n",
      "Time taken = 0.49737071990966797\n",
      "Time taken = 0.4983706474304199\n",
      "Time taken = 0.4983706474304199\n",
      "Time taken = 0.4983706474304199\n",
      "Time taken = 0.4983706474304199\n",
      "Time taken = 0.4983706474304199\n",
      "Time taken = 0.4983706474304199\n",
      "Time taken = 0.4983706474304199\n",
      "Time taken = 0.4983706474304199\n",
      "Time taken = 0.4983706474304199\n",
      "Time taken = 0.4983706474304199\n",
      "Time taken = 0.4983706474304199\n",
      "Time taken = 0.49938488006591797\n",
      "Time taken = 0.49938488006591797\n",
      "Time taken = 0.49938488006591797\n",
      "Time taken = 0.49938488006591797\n",
      "Time taken = 0.5003721714019775\n",
      "Time taken = 0.5003721714019775\n",
      "Time taken = 0.5003721714019775\n",
      "Time taken = 0.5003721714019775\n",
      "Time taken = 0.5003721714019775\n",
      "Time taken = 0.5003721714019775\n",
      "Time taken = 0.5003721714019775\n",
      "Time taken = 0.5003721714019775\n",
      "Time taken = 0.5003721714019775\n",
      "Time taken = 0.5003721714019775\n",
      "Time taken = 0.5003721714019775\n",
      "Time taken = 0.5003721714019775\n",
      "Time taken = 0.5003721714019775\n",
      "Time taken = 0.5003721714019775\n",
      "Time taken = 0.5003721714019775\n",
      "Time taken = 0.5003721714019775\n",
      "Time taken = 0.5003721714019775\n",
      "Time taken = 0.5003721714019775\n",
      "Time taken = 0.5003721714019775\n",
      "Time taken = 0.5003721714019775\n",
      "Time taken = 0.5003721714019775\n",
      "Time taken = 0.5003721714019775\n",
      "Time taken = 0.5003721714019775\n",
      "Time taken = 0.5013689994812012\n",
      "Time taken = 0.5013689994812012\n",
      "Time taken = 0.5013689994812012\n",
      "Time taken = 0.5013689994812012\n",
      "Time taken = 0.5013689994812012\n",
      "Time taken = 0.5013689994812012\n",
      "Time taken = 0.5013689994812012\n",
      "Time taken = 0.5013689994812012\n",
      "Time taken = 0.5013689994812012\n",
      "Time taken = 0.5013689994812012\n",
      "Time taken = 0.5013689994812012\n",
      "Time taken = 0.5013689994812012\n",
      "Time taken = 0.5013689994812012\n",
      "Time taken = 0.5013689994812012\n",
      "Time taken = 0.5013689994812012\n",
      "Time taken = 0.5013689994812012\n",
      "Time taken = 0.5013689994812012\n",
      "Time taken = 0.5013689994812012\n",
      "Time taken = 0.5013689994812012\n",
      "Time taken = 0.5013689994812012\n",
      "Time taken = 0.5013689994812012\n",
      "Time taken = 0.5013689994812012\n",
      "Time taken = 0.5013689994812012\n",
      "Time taken = 0.5013689994812012\n",
      "Time taken = 0.5023705959320068\n",
      "Time taken = 0.5023705959320068\n",
      "Time taken = 0.5033721923828125\n",
      "Time taken = 0.5033721923828125\n",
      "Time taken = 0.5033721923828125\n",
      "Time taken = 0.5033721923828125\n",
      "Time taken = 0.5033721923828125\n",
      "Time taken = 0.5033721923828125\n",
      "Time taken = 0.5033721923828125\n",
      "Time taken = 0.5033721923828125\n",
      "Time taken = 0.5033721923828125\n",
      "Time taken = 0.5033721923828125\n",
      "Time taken = 0.5033721923828125\n",
      "Time taken = 0.5033721923828125\n",
      "Time taken = 0.5053672790527344\n",
      "Time taken = 0.5053672790527344\n",
      "Time taken = 0.5053672790527344\n",
      "Time taken = 0.5053672790527344\n",
      "Time taken = 0.5053672790527344\n",
      "Time taken = 0.5053672790527344\n",
      "Time taken = 0.5053672790527344\n",
      "Time taken = 0.5053672790527344\n",
      "Time taken = 0.5053672790527344\n",
      "Time taken = 0.5063691139221191\n",
      "Time taken = 0.5093755722045898\n",
      "Time taken = 0.5093755722045898\n",
      "Time taken = 0.5103685855865479\n",
      "Time taken = 0.5103685855865479\n",
      "Time taken = 0.5103685855865479\n",
      "Time taken = 0.5103685855865479\n",
      "Time taken = 0.5103685855865479\n",
      "Time taken = 0.5113682746887207\n",
      "Time taken = 0.5113682746887207\n",
      "Time taken = 0.5113682746887207\n",
      "Time taken = 0.5113682746887207\n",
      "Time taken = 0.5113682746887207\n",
      "Time taken = 0.5113682746887207\n",
      "Time taken = 0.5113682746887207\n",
      "Time taken = 0.5113682746887207\n",
      "Time taken = 0.5113682746887207\n",
      "Time taken = 0.5113682746887207\n",
      "Time taken = 0.5113682746887207\n",
      "Time taken = 0.5113682746887207\n",
      "Time taken = 0.5113682746887207\n",
      "Time taken = 0.5113682746887207\n",
      "Time taken = 0.5113682746887207\n",
      "Time taken = 0.5113682746887207\n",
      "Time taken = 0.5113682746887207\n",
      "Time taken = 0.5123698711395264\n",
      "Time taken = 0.5123698711395264\n",
      "Time taken = 0.5123698711395264\n",
      "Time taken = 0.5123698711395264\n",
      "Time taken = 0.5123698711395264\n",
      "Time taken = 0.5123698711395264\n",
      "Time taken = 0.5123698711395264\n"
     ]
    },
    {
     "data": {
      "text/plain": [
       "144"
      ]
     },
     "execution_count": 61,
     "metadata": {},
     "output_type": "execute_result"
    }
   ],
   "source": [
    "fib(10)"
   ]
  },
  {
   "cell_type": "markdown",
   "id": "33f72f44",
   "metadata": {},
   "source": [
    "` caching` it now"
   ]
  },
  {
   "cell_type": "code",
   "execution_count": 53,
   "id": "a85f3f64",
   "metadata": {},
   "outputs": [],
   "source": [
    "import time\n",
    "from functools import lru_cache\n",
    "\n",
    "start = time.time()\n",
    "@lru_cache\n",
    "def fib(n):\n",
    "    end=time.time()\n",
    "    print('Time taken = {}'.format(end-start))\n",
    "    if n < 1:\n",
    "        return 1\n",
    "    else:\n",
    "        return fib(n-1) + fib(n-2)"
   ]
  },
  {
   "cell_type": "code",
   "execution_count": 54,
   "id": "3da96ea4",
   "metadata": {},
   "outputs": [
    {
     "data": {
      "text/plain": [
       "<functools._lru_cache_wrapper at 0x23efde29220>"
      ]
     },
     "execution_count": 54,
     "metadata": {},
     "output_type": "execute_result"
    }
   ],
   "source": [
    "fib"
   ]
  },
  {
   "cell_type": "code",
   "execution_count": 55,
   "id": "b18645c5",
   "metadata": {},
   "outputs": [
    {
     "name": "stdout",
     "output_type": "stream",
     "text": [
      "Time taken = 14.696880340576172\n",
      "Time taken = 14.69788384437561\n",
      "Time taken = 14.69788384437561\n",
      "Time taken = 14.69788384437561\n",
      "Time taken = 14.69788384437561\n",
      "Time taken = 14.69788384437561\n",
      "Time taken = 14.69788384437561\n",
      "Time taken = 14.69788384437561\n",
      "Time taken = 14.69788384437561\n",
      "Time taken = 14.69788384437561\n",
      "Time taken = 14.69788384437561\n",
      "Time taken = 14.69788384437561\n",
      "Time taken = 14.69788384437561\n",
      "Time taken = 14.69788384437561\n",
      "Time taken = 14.69788384437561\n",
      "Time taken = 14.698868989944458\n",
      "Time taken = 14.698868989944458\n",
      "Time taken = 14.698868989944458\n",
      "Time taken = 14.698868989944458\n",
      "Time taken = 14.698868989944458\n",
      "Time taken = 14.698868989944458\n",
      "Time taken = 14.698868989944458\n"
     ]
    },
    {
     "data": {
      "text/plain": [
       "17711"
      ]
     },
     "execution_count": 55,
     "metadata": {},
     "output_type": "execute_result"
    }
   ],
   "source": [
    "fib(20)"
   ]
  },
  {
   "cell_type": "code",
   "execution_count": 56,
   "id": "d1276880",
   "metadata": {},
   "outputs": [
    {
     "data": {
      "text/plain": [
       "17711"
      ]
     },
     "execution_count": 56,
     "metadata": {},
     "output_type": "execute_result"
    }
   ],
   "source": [
    "fib(20)"
   ]
  },
  {
   "cell_type": "code",
   "execution_count": 57,
   "id": "61485522",
   "metadata": {},
   "outputs": [
    {
     "data": {
      "text/plain": [
       "{'cache_parameters': <function functools.lru_cache.<locals>.<lambda>()>,\n",
       " '__module__': '__main__',\n",
       " '__name__': 'fib',\n",
       " '__qualname__': 'fib',\n",
       " '__doc__': None,\n",
       " '__annotations__': {},\n",
       " '__wrapped__': <function __main__.fib(n)>}"
      ]
     },
     "execution_count": 57,
     "metadata": {},
     "output_type": "execute_result"
    }
   ],
   "source": [
    "fib.__dict__"
   ]
  },
  {
   "cell_type": "code",
   "execution_count": null,
   "id": "08f3e167",
   "metadata": {},
   "outputs": [],
   "source": []
  }
 ],
 "metadata": {
  "kernelspec": {
   "display_name": "Python 3",
   "language": "python",
   "name": "python3"
  },
  "language_info": {
   "codemirror_mode": {
    "name": "ipython",
    "version": 3
   },
   "file_extension": ".py",
   "mimetype": "text/x-python",
   "name": "python",
   "nbconvert_exporter": "python",
   "pygments_lexer": "ipython3",
   "version": "3.9.6"
  }
 },
 "nbformat": 4,
 "nbformat_minor": 5
}
