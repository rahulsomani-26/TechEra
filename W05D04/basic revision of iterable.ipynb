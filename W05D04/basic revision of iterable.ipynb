{
 "cells": [
  {
   "cell_type": "markdown",
   "id": "1df03f0a",
   "metadata": {},
   "source": [
    "# Iterables - The Basic "
   ]
  },
  {
   "cell_type": "markdown",
   "id": "55e18623",
   "metadata": {},
   "source": [
    "`` It must be having some properties `` \n",
    "\n",
    "`` Example: Something that can be iterated ``"
   ]
  },
  {
   "cell_type": "markdown",
   "id": "30fc159c",
   "metadata": {},
   "source": [
    "# Sequence types "
   ]
  },
  {
   "cell_type": "code",
   "execution_count": 2,
   "id": "7714b178",
   "metadata": {},
   "outputs": [],
   "source": [
    "l = [1,2,3]\n",
    "t = 1,2,3\n",
    "s = \"Rahul\"  # Flat containers "
   ]
  },
  {
   "cell_type": "code",
   "execution_count": 3,
   "id": "1499b19a",
   "metadata": {},
   "outputs": [
    {
     "name": "stdout",
     "output_type": "stream",
     "text": [
      "1\n",
      "2\n",
      "3\n"
     ]
    }
   ],
   "source": [
    "for i in l:\n",
    "    print(i)"
   ]
  },
  {
   "cell_type": "code",
   "execution_count": 5,
   "id": "6f1abdb6",
   "metadata": {},
   "outputs": [
    {
     "name": "stdout",
     "output_type": "stream",
     "text": [
      "1\n",
      "2\n",
      "3\n"
     ]
    }
   ],
   "source": [
    "for i in t:\n",
    "    print(i)"
   ]
  },
  {
   "cell_type": "code",
   "execution_count": 6,
   "id": "f61595f9",
   "metadata": {},
   "outputs": [
    {
     "name": "stdout",
     "output_type": "stream",
     "text": [
      "R\n",
      "a\n",
      "h\n",
      "u\n",
      "l\n"
     ]
    }
   ],
   "source": [
    "for i in s:\n",
    "    print(i)"
   ]
  },
  {
   "cell_type": "code",
   "execution_count": 8,
   "id": "1532194e",
   "metadata": {},
   "outputs": [
    {
     "data": {
      "text/plain": [
       "{'__name__': '__main__',\n",
       " '__doc__': 'Automatically created module for IPython interactive environment',\n",
       " '__package__': None,\n",
       " '__loader__': None,\n",
       " '__spec__': None,\n",
       " '__builtin__': <module 'builtins' (built-in)>,\n",
       " '__builtins__': <module 'builtins' (built-in)>,\n",
       " '_ih': ['',\n",
       "  '`` It must be having some properties `` \\n\\n`` Example: Something that can be iterated ``',\n",
       "  'l = [1,2,3]\\nt = 1,2,3\\ns = \"Rahul\"',\n",
       "  'for i in l:\\n    print(i)',\n",
       "  'for i in t:\\n    print(t)',\n",
       "  'for i in t:\\n    print(i)',\n",
       "  'for i in s:\\n    print(i)',\n",
       "  'kotaaswini',\n",
       "  'globals()'],\n",
       " '_oh': {},\n",
       " '_dh': ['C:\\\\Users\\\\soman\\\\TE_BATCH2_PYTHON\\\\W05D04'],\n",
       " 'In': ['',\n",
       "  '`` It must be having some properties `` \\n\\n`` Example: Something that can be iterated ``',\n",
       "  'l = [1,2,3]\\nt = 1,2,3\\ns = \"Rahul\"',\n",
       "  'for i in l:\\n    print(i)',\n",
       "  'for i in t:\\n    print(t)',\n",
       "  'for i in t:\\n    print(i)',\n",
       "  'for i in s:\\n    print(i)',\n",
       "  'kotaaswini',\n",
       "  'globals()'],\n",
       " 'Out': {},\n",
       " 'get_ipython': <bound method InteractiveShell.get_ipython of <ipykernel.zmqshell.ZMQInteractiveShell object at 0x0000026FA86AE670>>,\n",
       " 'exit': <IPython.core.autocall.ZMQExitAutocall at 0x26fa86ae820>,\n",
       " 'quit': <IPython.core.autocall.ZMQExitAutocall at 0x26fa86ae820>,\n",
       " '_': '',\n",
       " '__': '',\n",
       " '___': '',\n",
       " '_i': 'kotaaswini',\n",
       " '_ii': 'for i in s:\\n    print(i)',\n",
       " '_iii': 'for i in t:\\n    print(i)',\n",
       " '_i1': '`` It must be having some properties `` \\n\\n`` Example: Something that can be iterated ``',\n",
       " '_i2': 'l = [1,2,3]\\nt = 1,2,3\\ns = \"Rahul\"',\n",
       " 'l': [1, 2, 3],\n",
       " 't': (1, 2, 3),\n",
       " 's': 'Rahul',\n",
       " '_i3': 'for i in l:\\n    print(i)',\n",
       " 'i': 'l',\n",
       " '_i4': 'for i in t:\\n    print(t)',\n",
       " '_i5': 'for i in t:\\n    print(i)',\n",
       " '_i6': 'for i in s:\\n    print(i)',\n",
       " '_i7': 'kotaaswini',\n",
       " '_i8': 'globals()'}"
      ]
     },
     "execution_count": 8,
     "metadata": {},
     "output_type": "execute_result"
    }
   ],
   "source": [
    "globals()"
   ]
  },
  {
   "cell_type": "code",
   "execution_count": 9,
   "id": "f475d274",
   "metadata": {},
   "outputs": [],
   "source": [
    "kotaaswini = 'present'"
   ]
  },
  {
   "cell_type": "code",
   "execution_count": 10,
   "id": "4f94acb5",
   "metadata": {},
   "outputs": [
    {
     "data": {
      "text/plain": [
       "{'__name__': '__main__',\n",
       " '__doc__': 'Automatically created module for IPython interactive environment',\n",
       " '__package__': None,\n",
       " '__loader__': None,\n",
       " '__spec__': None,\n",
       " '__builtin__': <module 'builtins' (built-in)>,\n",
       " '__builtins__': <module 'builtins' (built-in)>,\n",
       " '_ih': ['',\n",
       "  '`` It must be having some properties `` \\n\\n`` Example: Something that can be iterated ``',\n",
       "  'l = [1,2,3]\\nt = 1,2,3\\ns = \"Rahul\"',\n",
       "  'for i in l:\\n    print(i)',\n",
       "  'for i in t:\\n    print(t)',\n",
       "  'for i in t:\\n    print(i)',\n",
       "  'for i in s:\\n    print(i)',\n",
       "  'kotaaswini',\n",
       "  'globals()',\n",
       "  \"kotaaswini = 'present'\",\n",
       "  'globals()'],\n",
       " '_oh': {8: {...}},\n",
       " '_dh': ['C:\\\\Users\\\\soman\\\\TE_BATCH2_PYTHON\\\\W05D04'],\n",
       " 'In': ['',\n",
       "  '`` It must be having some properties `` \\n\\n`` Example: Something that can be iterated ``',\n",
       "  'l = [1,2,3]\\nt = 1,2,3\\ns = \"Rahul\"',\n",
       "  'for i in l:\\n    print(i)',\n",
       "  'for i in t:\\n    print(t)',\n",
       "  'for i in t:\\n    print(i)',\n",
       "  'for i in s:\\n    print(i)',\n",
       "  'kotaaswini',\n",
       "  'globals()',\n",
       "  \"kotaaswini = 'present'\",\n",
       "  'globals()'],\n",
       " 'Out': {8: {...}},\n",
       " 'get_ipython': <bound method InteractiveShell.get_ipython of <ipykernel.zmqshell.ZMQInteractiveShell object at 0x0000026FA86AE670>>,\n",
       " 'exit': <IPython.core.autocall.ZMQExitAutocall at 0x26fa86ae820>,\n",
       " 'quit': <IPython.core.autocall.ZMQExitAutocall at 0x26fa86ae820>,\n",
       " '_': {...},\n",
       " '__': '',\n",
       " '___': '',\n",
       " '_i': \"kotaaswini = 'present'\",\n",
       " '_ii': 'globals()',\n",
       " '_iii': 'kotaaswini',\n",
       " '_i1': '`` It must be having some properties `` \\n\\n`` Example: Something that can be iterated ``',\n",
       " '_i2': 'l = [1,2,3]\\nt = 1,2,3\\ns = \"Rahul\"',\n",
       " 'l': [1, 2, 3],\n",
       " 't': (1, 2, 3),\n",
       " 's': 'Rahul',\n",
       " '_i3': 'for i in l:\\n    print(i)',\n",
       " 'i': 'l',\n",
       " '_i4': 'for i in t:\\n    print(t)',\n",
       " '_i5': 'for i in t:\\n    print(i)',\n",
       " '_i6': 'for i in s:\\n    print(i)',\n",
       " '_i7': 'kotaaswini',\n",
       " '_i8': 'globals()',\n",
       " '_8': {...},\n",
       " '_i9': \"kotaaswini = 'present'\",\n",
       " 'kotaaswini': 'present',\n",
       " '_i10': 'globals()'}"
      ]
     },
     "execution_count": 10,
     "metadata": {},
     "output_type": "execute_result"
    }
   ],
   "source": [
    "globals()"
   ]
  },
  {
   "cell_type": "code",
   "execution_count": 11,
   "id": "872a41e7",
   "metadata": {},
   "outputs": [
    {
     "data": {
      "text/plain": [
       "<function print>"
      ]
     },
     "execution_count": 11,
     "metadata": {},
     "output_type": "execute_result"
    }
   ],
   "source": [
    "print"
   ]
  },
  {
   "cell_type": "code",
   "execution_count": 12,
   "id": "1071636c",
   "metadata": {},
   "outputs": [
    {
     "data": {
      "text/plain": [
       "['__call__',\n",
       " '__class__',\n",
       " '__delattr__',\n",
       " '__dir__',\n",
       " '__doc__',\n",
       " '__eq__',\n",
       " '__format__',\n",
       " '__ge__',\n",
       " '__getattribute__',\n",
       " '__gt__',\n",
       " '__hash__',\n",
       " '__init__',\n",
       " '__init_subclass__',\n",
       " '__le__',\n",
       " '__lt__',\n",
       " '__module__',\n",
       " '__name__',\n",
       " '__ne__',\n",
       " '__new__',\n",
       " '__qualname__',\n",
       " '__reduce__',\n",
       " '__reduce_ex__',\n",
       " '__repr__',\n",
       " '__self__',\n",
       " '__setattr__',\n",
       " '__sizeof__',\n",
       " '__str__',\n",
       " '__subclasshook__',\n",
       " '__text_signature__']"
      ]
     },
     "execution_count": 12,
     "metadata": {},
     "output_type": "execute_result"
    }
   ],
   "source": [
    "dir(print)"
   ]
  },
  {
   "cell_type": "markdown",
   "id": "00364f61",
   "metadata": {},
   "source": [
    "`` Non sequence types ``"
   ]
  },
  {
   "cell_type": "code",
   "execution_count": 13,
   "id": "67ac9ed0",
   "metadata": {},
   "outputs": [],
   "source": [
    "d = {'name':'rahul','age':40}"
   ]
  },
  {
   "cell_type": "code",
   "execution_count": 14,
   "id": "78c1c001",
   "metadata": {},
   "outputs": [
    {
     "name": "stdout",
     "output_type": "stream",
     "text": [
      "name\n",
      "age\n"
     ]
    }
   ],
   "source": [
    "for key in d:\n",
    "    print(key)\n",
    "    "
   ]
  },
  {
   "cell_type": "code",
   "execution_count": 15,
   "id": "055bb94a",
   "metadata": {},
   "outputs": [
    {
     "name": "stdout",
     "output_type": "stream",
     "text": [
      "rahul\n",
      "40\n"
     ]
    }
   ],
   "source": [
    "for key in d.values():\n",
    "    print(key)\n",
    "    "
   ]
  },
  {
   "cell_type": "markdown",
   "id": "d8eb0bc7",
   "metadata": {},
   "source": [
    "`` We can see that we were able to iterate over all ``"
   ]
  },
  {
   "cell_type": "markdown",
   "id": "ed96d535",
   "metadata": {},
   "source": [
    "`` An iterable can be iterated ``\n",
    "\n",
    "`` implements the __iter__ PROTOCOL ``"
   ]
  },
  {
   "cell_type": "code",
   "execution_count": 16,
   "id": "e3f3cfd2",
   "metadata": {},
   "outputs": [
    {
     "name": "stdout",
     "output_type": "stream",
     "text": [
      "['__add__', '__class__', '__class_getitem__', '__contains__', '__delattr__', '__delitem__', '__dir__', '__doc__', '__eq__', '__format__', '__ge__', '__getattribute__', '__getitem__', '__gt__', '__hash__', '__iadd__', '__imul__', '__init__', '__init_subclass__', '__iter__', '__le__', '__len__', '__lt__', '__mul__', '__ne__', '__new__', '__reduce__', '__reduce_ex__', '__repr__', '__reversed__', '__rmul__', '__setattr__', '__setitem__', '__sizeof__', '__str__', '__subclasshook__', 'append', 'clear', 'copy', 'count', 'extend', 'index', 'insert', 'pop', 'remove', 'reverse', 'sort']\n"
     ]
    }
   ],
   "source": [
    "print(dir(list))"
   ]
  },
  {
   "cell_type": "code",
   "execution_count": 17,
   "id": "81014ff8",
   "metadata": {},
   "outputs": [
    {
     "name": "stdout",
     "output_type": "stream",
     "text": [
      "['__add__', '__class__', '__class_getitem__', '__contains__', '__delattr__', '__dir__', '__doc__', '__eq__', '__format__', '__ge__', '__getattribute__', '__getitem__', '__getnewargs__', '__gt__', '__hash__', '__init__', '__init_subclass__', '__iter__', '__le__', '__len__', '__lt__', '__mul__', '__ne__', '__new__', '__reduce__', '__reduce_ex__', '__repr__', '__rmul__', '__setattr__', '__sizeof__', '__str__', '__subclasshook__', 'count', 'index']\n"
     ]
    }
   ],
   "source": [
    "print(dir(tuple))"
   ]
  },
  {
   "cell_type": "markdown",
   "id": "d1d4eaf8",
   "metadata": {},
   "source": [
    "# Or you can check this way "
   ]
  },
  {
   "cell_type": "code",
   "execution_count": 18,
   "id": "a593091b",
   "metadata": {},
   "outputs": [
    {
     "data": {
      "text/plain": [
       "True"
      ]
     },
     "execution_count": 18,
     "metadata": {},
     "output_type": "execute_result"
    }
   ],
   "source": [
    "'__iter__' in dir(dict)"
   ]
  },
  {
   "cell_type": "code",
   "execution_count": 19,
   "id": "6d7a6135",
   "metadata": {},
   "outputs": [
    {
     "data": {
      "text/plain": [
       "True"
      ]
     },
     "execution_count": 19,
     "metadata": {},
     "output_type": "execute_result"
    }
   ],
   "source": [
    "'__iter__' in dir(str)"
   ]
  },
  {
   "cell_type": "code",
   "execution_count": 20,
   "id": "87cf0d67",
   "metadata": {},
   "outputs": [
    {
     "data": {
      "text/plain": [
       "True"
      ]
     },
     "execution_count": 20,
     "metadata": {},
     "output_type": "execute_result"
    }
   ],
   "source": [
    "'__iter__' in dir(set)"
   ]
  },
  {
   "cell_type": "code",
   "execution_count": null,
   "id": "bbc7bdec",
   "metadata": {},
   "outputs": [],
   "source": []
  }
 ],
 "metadata": {
  "kernelspec": {
   "display_name": "Python 3",
   "language": "python",
   "name": "python3"
  },
  "language_info": {
   "codemirror_mode": {
    "name": "ipython",
    "version": 3
   },
   "file_extension": ".py",
   "mimetype": "text/x-python",
   "name": "python",
   "nbconvert_exporter": "python",
   "pygments_lexer": "ipython3",
   "version": "3.9.6"
  }
 },
 "nbformat": 4,
 "nbformat_minor": 5
}
