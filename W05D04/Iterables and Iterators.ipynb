{
 "cells": [
  {
   "cell_type": "code",
   "execution_count": 1,
   "id": "5885dc4c",
   "metadata": {},
   "outputs": [],
   "source": [
    "import random\n",
    "class Container:\n",
    "    \"\"\"\n",
    "        >>> c = Container()\n",
    "        >>> next(c)\n",
    "        8\n",
    "    \"\"\"\n",
    "    def __init__(self):\n",
    "        print(' Object Initialized')\n",
    "    \n",
    "    def __next__(self):\n",
    "        return random.randint(1,20)"
   ]
  },
  {
   "cell_type": "code",
   "execution_count": 2,
   "id": "b8a0eff5",
   "metadata": {},
   "outputs": [
    {
     "name": "stdout",
     "output_type": "stream",
     "text": [
      "Help on class Container in module __main__:\n",
      "\n",
      "class Container(builtins.object)\n",
      " |  >>> c = Container()\n",
      " |  >>> next(c)\n",
      " |  8\n",
      " |  \n",
      " |  Methods defined here:\n",
      " |  \n",
      " |  __init__(self)\n",
      " |      Initialize self.  See help(type(self)) for accurate signature.\n",
      " |  \n",
      " |  __next__(self)\n",
      " |  \n",
      " |  ----------------------------------------------------------------------\n",
      " |  Data descriptors defined here:\n",
      " |  \n",
      " |  __dict__\n",
      " |      dictionary for instance variables (if defined)\n",
      " |  \n",
      " |  __weakref__\n",
      " |      list of weak references to the object (if defined)\n",
      "\n"
     ]
    }
   ],
   "source": [
    "help(Container)"
   ]
  },
  {
   "cell_type": "code",
   "execution_count": 3,
   "id": "748ce1e5",
   "metadata": {},
   "outputs": [
    {
     "name": "stdout",
     "output_type": "stream",
     "text": [
      " Object Initialized\n"
     ]
    }
   ],
   "source": [
    " c = Container()"
   ]
  },
  {
   "cell_type": "code",
   "execution_count": 10,
   "id": "7d4fb015",
   "metadata": {},
   "outputs": [
    {
     "data": {
      "text/plain": [
       "17"
      ]
     },
     "execution_count": 10,
     "metadata": {},
     "output_type": "execute_result"
    }
   ],
   "source": [
    "next(c)"
   ]
  },
  {
   "cell_type": "code",
   "execution_count": 11,
   "id": "2b4af32c",
   "metadata": {},
   "outputs": [
    {
     "name": "stdout",
     "output_type": "stream",
     "text": [
      "Help on method randint in module random:\n",
      "\n",
      "randint(a, b) method of random.Random instance\n",
      "    Return random integer in range [a, b], including both end points.\n",
      "\n"
     ]
    }
   ],
   "source": [
    "help(random.randint)"
   ]
  },
  {
   "cell_type": "code",
   "execution_count": 14,
   "id": "ddac5d13",
   "metadata": {},
   "outputs": [
    {
     "name": "stdout",
     "output_type": "stream",
     "text": [
      " Object Initialized\n"
     ]
    },
    {
     "ename": "TypeError",
     "evalue": "'type' object is not iterable",
     "output_type": "error",
     "traceback": [
      "\u001b[1;31m---------------------------------------------------------------------------\u001b[0m",
      "\u001b[1;31mTypeError\u001b[0m                                 Traceback (most recent call last)",
      "\u001b[1;32m<ipython-input-14-32dcd99c32b2>\u001b[0m in \u001b[0;36m<module>\u001b[1;34m\u001b[0m\n\u001b[0;32m      1\u001b[0m \u001b[0mc\u001b[0m \u001b[1;33m=\u001b[0m \u001b[0mContainer\u001b[0m\u001b[1;33m(\u001b[0m\u001b[1;33m)\u001b[0m\u001b[1;33m\u001b[0m\u001b[1;33m\u001b[0m\u001b[0m\n\u001b[1;32m----> 2\u001b[1;33m \u001b[1;32mfor\u001b[0m \u001b[0m_\u001b[0m  \u001b[1;32min\u001b[0m \u001b[0mContainer\u001b[0m\u001b[1;33m:\u001b[0m\u001b[1;33m\u001b[0m\u001b[1;33m\u001b[0m\u001b[0m\n\u001b[0m\u001b[0;32m      3\u001b[0m     \u001b[0mprint\u001b[0m\u001b[1;33m(\u001b[0m\u001b[0mnext\u001b[0m\u001b[1;33m(\u001b[0m\u001b[0mc\u001b[0m\u001b[1;33m)\u001b[0m\u001b[1;33m)\u001b[0m\u001b[1;33m\u001b[0m\u001b[1;33m\u001b[0m\u001b[0m\n\u001b[0;32m      4\u001b[0m \u001b[1;33m\u001b[0m\u001b[0m\n",
      "\u001b[1;31mTypeError\u001b[0m: 'type' object is not iterable"
     ]
    }
   ],
   "source": [
    "c = Container()\n",
    "for _  in Container:\n",
    "    print(next(c))\n",
    "    "
   ]
  },
  {
   "cell_type": "markdown",
   "id": "73b5ff04",
   "metadata": {},
   "source": [
    "`` Clearly, by seeing the above output,we can understand that our Container is not an iterable yet ``"
   ]
  },
  {
   "cell_type": "code",
   "execution_count": null,
   "id": "4e307c6a",
   "metadata": {},
   "outputs": [],
   "source": []
  },
  {
   "cell_type": "code",
   "execution_count": 15,
   "id": "26622554",
   "metadata": {},
   "outputs": [
    {
     "data": {
      "text/plain": [
       "7"
      ]
     },
     "execution_count": 15,
     "metadata": {},
     "output_type": "execute_result"
    }
   ],
   "source": [
    "next(c)"
   ]
  },
  {
   "cell_type": "code",
   "execution_count": 17,
   "id": "e2533952",
   "metadata": {},
   "outputs": [
    {
     "name": "stdout",
     "output_type": "stream",
     "text": [
      "8\n",
      "6\n",
      "2\n",
      "6\n",
      "11\n",
      "20\n",
      "5\n",
      "4\n",
      "9\n",
      "7\n",
      "19\n",
      "19\n",
      "12\n",
      "1\n",
      "18\n",
      "15\n",
      "18\n",
      "13\n",
      "16\n",
      "17\n",
      "15\n",
      "3\n",
      "20\n",
      "12\n",
      "4\n",
      "7\n",
      "13\n",
      "18\n",
      "16\n",
      "18\n",
      "20\n",
      "2\n",
      "20\n",
      "1\n",
      "5\n",
      "6\n",
      "15\n",
      "3\n",
      "9\n",
      "19\n",
      "10\n",
      "17\n",
      "20\n",
      "9\n",
      "17\n",
      "6\n",
      "8\n",
      "5\n",
      "11\n",
      "4\n",
      "9\n",
      "14\n",
      "9\n",
      "14\n",
      "8\n",
      "15\n",
      "14\n",
      "4\n",
      "4\n",
      "6\n",
      "8\n",
      "6\n",
      "4\n",
      "2\n",
      "5\n",
      "18\n",
      "11\n",
      "1\n",
      "20\n",
      "14\n",
      "5\n",
      "14\n",
      "2\n",
      "11\n",
      "5\n",
      "3\n",
      "18\n",
      "4\n",
      "17\n",
      "5\n",
      "15\n",
      "5\n",
      "3\n",
      "12\n",
      "17\n",
      "5\n",
      "4\n",
      "14\n",
      "6\n",
      "15\n",
      "5\n",
      "3\n",
      "1\n",
      "11\n",
      "13\n",
      "3\n",
      "17\n",
      "12\n",
      "12\n",
      "19\n",
      "10\n",
      "9\n",
      "20\n",
      "5\n",
      "2\n",
      "5\n",
      "16\n",
      "4\n",
      "10\n",
      "14\n",
      "12\n",
      "10\n",
      "14\n",
      "18\n",
      "4\n",
      "20\n",
      "6\n",
      "5\n",
      "2\n",
      "5\n"
     ]
    }
   ],
   "source": [
    "for _ in range(120):\n",
    "    print(next(c))"
   ]
  },
  {
   "cell_type": "code",
   "execution_count": 18,
   "id": "89198347",
   "metadata": {},
   "outputs": [],
   "source": [
    "while 0:\n",
    "    print(next(c))\n",
    "    \n"
   ]
  },
  {
   "cell_type": "markdown",
   "id": "77a8c34c",
   "metadata": {},
   "source": [
    "`` Make the Container finite `` \n",
    "\n",
    "`` Its for everyone ``"
   ]
  },
  {
   "cell_type": "code",
   "execution_count": 19,
   "id": "c54764f2",
   "metadata": {},
   "outputs": [],
   "source": [
    "import random\n",
    "import time\n",
    "class Container:\n",
    "    \"\"\"\n",
    "        >>> c = Container()\n",
    "        >>> next(c)\n",
    "        8\n",
    "    \"\"\"\n",
    "    def __init__(self,length):\n",
    "        self.length = length\n",
    "        self.index = 0\n",
    "        print(' Object Initialized')\n",
    "    \n",
    "    def __next__(self):\n",
    "        if self.index <=self.length:\n",
    "            self.index +=1\n",
    "            print(' I am about to send you a random number ')\n",
    "            time.sleep(2)\n",
    "            return random.randint(1,20)"
   ]
  },
  {
   "cell_type": "code",
   "execution_count": 22,
   "id": "a4171879",
   "metadata": {},
   "outputs": [
    {
     "name": "stdout",
     "output_type": "stream",
     "text": [
      " Object Initialized\n"
     ]
    }
   ],
   "source": [
    "c = Container(4)"
   ]
  },
  {
   "cell_type": "code",
   "execution_count": 23,
   "id": "b4003964",
   "metadata": {},
   "outputs": [
    {
     "data": {
      "text/plain": [
       "{'length': 4, 'index': 0}"
      ]
     },
     "execution_count": 23,
     "metadata": {},
     "output_type": "execute_result"
    }
   ],
   "source": [
    "c.__dict__"
   ]
  },
  {
   "cell_type": "code",
   "execution_count": 24,
   "id": "85f476a4",
   "metadata": {},
   "outputs": [
    {
     "name": "stdout",
     "output_type": "stream",
     "text": [
      " I am about to send you a random number \n"
     ]
    },
    {
     "data": {
      "text/plain": [
       "5"
      ]
     },
     "execution_count": 24,
     "metadata": {},
     "output_type": "execute_result"
    }
   ],
   "source": [
    "next(c)"
   ]
  },
  {
   "cell_type": "code",
   "execution_count": 25,
   "id": "78cc0e8b",
   "metadata": {},
   "outputs": [
    {
     "data": {
      "text/plain": [
       "{'length': 4, 'index': 1}"
      ]
     },
     "execution_count": 25,
     "metadata": {},
     "output_type": "execute_result"
    }
   ],
   "source": [
    "c.__dict__"
   ]
  },
  {
   "cell_type": "code",
   "execution_count": 26,
   "id": "3c756984",
   "metadata": {},
   "outputs": [
    {
     "name": "stdout",
     "output_type": "stream",
     "text": [
      " I am about to send you a random number \n"
     ]
    },
    {
     "data": {
      "text/plain": [
       "18"
      ]
     },
     "execution_count": 26,
     "metadata": {},
     "output_type": "execute_result"
    }
   ],
   "source": [
    "next(c)"
   ]
  },
  {
   "cell_type": "code",
   "execution_count": 27,
   "id": "82b20174",
   "metadata": {},
   "outputs": [
    {
     "data": {
      "text/plain": [
       "{'length': 4, 'index': 2}"
      ]
     },
     "execution_count": 27,
     "metadata": {},
     "output_type": "execute_result"
    }
   ],
   "source": [
    "c.__dict__"
   ]
  },
  {
   "cell_type": "code",
   "execution_count": 28,
   "id": "b46016f8",
   "metadata": {},
   "outputs": [
    {
     "name": "stdout",
     "output_type": "stream",
     "text": [
      " I am about to send you a random number \n"
     ]
    },
    {
     "data": {
      "text/plain": [
       "5"
      ]
     },
     "execution_count": 28,
     "metadata": {},
     "output_type": "execute_result"
    }
   ],
   "source": [
    "next(c)"
   ]
  },
  {
   "cell_type": "code",
   "execution_count": 29,
   "id": "29b488b6",
   "metadata": {},
   "outputs": [
    {
     "data": {
      "text/plain": [
       "{'length': 4, 'index': 3}"
      ]
     },
     "execution_count": 29,
     "metadata": {},
     "output_type": "execute_result"
    }
   ],
   "source": [
    "c.__dict__"
   ]
  },
  {
   "cell_type": "code",
   "execution_count": 30,
   "id": "1c3aff7f",
   "metadata": {},
   "outputs": [
    {
     "name": "stdout",
     "output_type": "stream",
     "text": [
      " I am about to send you a random number \n"
     ]
    },
    {
     "data": {
      "text/plain": [
       "11"
      ]
     },
     "execution_count": 30,
     "metadata": {},
     "output_type": "execute_result"
    }
   ],
   "source": [
    "next(c)"
   ]
  },
  {
   "cell_type": "code",
   "execution_count": 31,
   "id": "3e74594c",
   "metadata": {},
   "outputs": [
    {
     "data": {
      "text/plain": [
       "{'length': 4, 'index': 4}"
      ]
     },
     "execution_count": 31,
     "metadata": {},
     "output_type": "execute_result"
    }
   ],
   "source": [
    "c.__dict__"
   ]
  },
  {
   "cell_type": "code",
   "execution_count": 32,
   "id": "c5582f17",
   "metadata": {},
   "outputs": [
    {
     "name": "stdout",
     "output_type": "stream",
     "text": [
      " I am about to send you a random number \n"
     ]
    },
    {
     "data": {
      "text/plain": [
       "13"
      ]
     },
     "execution_count": 32,
     "metadata": {},
     "output_type": "execute_result"
    }
   ],
   "source": [
    "next(c)"
   ]
  },
  {
   "cell_type": "code",
   "execution_count": 33,
   "id": "99498f4a",
   "metadata": {},
   "outputs": [
    {
     "data": {
      "text/plain": [
       "{'length': 4, 'index': 5}"
      ]
     },
     "execution_count": 33,
     "metadata": {},
     "output_type": "execute_result"
    }
   ],
   "source": [
    "c.__dict__"
   ]
  },
  {
   "cell_type": "code",
   "execution_count": 35,
   "id": "f5d6a261",
   "metadata": {},
   "outputs": [],
   "source": [
    "result=next(c)"
   ]
  },
  {
   "cell_type": "code",
   "execution_count": 36,
   "id": "4ea507fa",
   "metadata": {},
   "outputs": [
    {
     "name": "stdout",
     "output_type": "stream",
     "text": [
      "<class 'NoneType'>\n"
     ]
    }
   ],
   "source": [
    "print(type(result))"
   ]
  },
  {
   "cell_type": "markdown",
   "id": "b5111a0a",
   "metadata": {},
   "source": [
    "`` StopIteration examples `` "
   ]
  },
  {
   "cell_type": "code",
   "execution_count": 37,
   "id": "cddb8b66",
   "metadata": {},
   "outputs": [
    {
     "name": "stdout",
     "output_type": "stream",
     "text": [
      "100\n",
      "200\n",
      "3000\n",
      "Rao\n"
     ]
    }
   ],
   "source": [
    "for i in [100,200,3000,'Rao']:\n",
    "    print(i)"
   ]
  },
  {
   "cell_type": "code",
   "execution_count": 39,
   "id": "6105ce89",
   "metadata": {},
   "outputs": [],
   "source": [
    "import random\n",
    "import time\n",
    "class Container:\n",
    "    \"\"\"\n",
    "        >>> c = Container()\n",
    "        >>> next(c)\n",
    "        8\n",
    "    \"\"\"\n",
    "    def __init__(self,length):\n",
    "        self.length = length\n",
    "        self.index = 0\n",
    "        print(' Object Initialized')\n",
    "    \n",
    "    def __next__(self):\n",
    "        if self.index <=self.length:\n",
    "            self.index +=1\n",
    "            print(' I am about to send you a random number ')\n",
    "            time.sleep(2)\n",
    "            return random.randint(1,20)\n",
    "        else:\n",
    "            raise StopIteration\n",
    "            "
   ]
  },
  {
   "cell_type": "markdown",
   "id": "32e2e1f3",
   "metadata": {},
   "source": [
    "# Do not execute this. \n",
    "\n",
    "``c = Container(10)``\n",
    "\n",
    "``while True:``\n",
    "    \n",
    "    ``try:``\n",
    "        \n",
    "        ``item = next(c)``\n",
    "        \n",
    "        ``print(item)``\n",
    "        \n",
    "    ``except StopIteration:``\n",
    "    \n",
    "    ``    print('silenced')``"
   ]
  },
  {
   "cell_type": "code",
   "execution_count": 43,
   "id": "ba3125d4",
   "metadata": {},
   "outputs": [
    {
     "name": "stdout",
     "output_type": "stream",
     "text": [
      " Object Initialized\n",
      " I am about to send you a random number \n",
      "9\n",
      " I am about to send you a random number \n",
      "6\n",
      " I am about to send you a random number \n",
      "2\n",
      " I am about to send you a random number \n",
      "2\n",
      " I am about to send you a random number \n",
      "16\n",
      " I am about to send you a random number \n",
      "8\n",
      "Silenced\n"
     ]
    }
   ],
   "source": [
    "c=Container(5)\n",
    "while True:\n",
    "    try:\n",
    "        item = next(c)\n",
    "        print(item)\n",
    "    except StopIteration:\n",
    "        print('Silenced')\n",
    "        break\n",
    "    "
   ]
  },
  {
   "cell_type": "markdown",
   "id": "dcb9f1a5",
   "metadata": {},
   "source": [
    "`` Lets try to make a FriendList (class), that will be a container to store friend names``\n",
    "\n",
    "`` Also we should be able to do the following : ``\n",
    "    \n",
    "    `` We should be able to get our friend from the FriendList ``\n",
    "    \n",
    "    `` we should be able to iterate over our FriendList ``\n",
    "    \n",
    "    `` FriendList should be an iterable ``"
   ]
  },
  {
   "cell_type": "code",
   "execution_count": 44,
   "id": "69ff08ab",
   "metadata": {},
   "outputs": [],
   "source": [
    "class FriendList:\n",
    "    pass\n",
    "    # Now I am thinking of initializing my object "
   ]
  },
  {
   "cell_type": "code",
   "execution_count": 45,
   "id": "8780a830",
   "metadata": {},
   "outputs": [],
   "source": [
    "class FriendList:\n",
    "    def __init__(self):\n",
    "        # This is just for my testing purpose \n",
    "        print(' Object Initialized')"
   ]
  },
  {
   "cell_type": "markdown",
   "id": "ec370685",
   "metadata": {},
   "source": [
    "`` will now try to create an object and see whether everything works fine ``"
   ]
  },
  {
   "cell_type": "code",
   "execution_count": 47,
   "id": "2ed675df",
   "metadata": {},
   "outputs": [
    {
     "name": "stdout",
     "output_type": "stream",
     "text": [
      " Object Initialized\n"
     ]
    }
   ],
   "source": [
    "f = FriendList()"
   ]
  },
  {
   "cell_type": "markdown",
   "id": "a040fa1f",
   "metadata": {},
   "source": [
    "`` Now at least an object was created without any problems yet!! ``"
   ]
  },
  {
   "cell_type": "code",
   "execution_count": 51,
   "id": "c754b27f",
   "metadata": {},
   "outputs": [],
   "source": [
    "class FriendList:\n",
    "    \n",
    "    def __init__(self):\n",
    "        self.friends = [' Rahul','UJjwal','Shweta','Sanjay', 'Rao','Aaksh and party']\n",
    "        self.index = 0 \n",
    "        print('Object not Initialized')"
   ]
  },
  {
   "cell_type": "code",
   "execution_count": 52,
   "id": "326f0e96",
   "metadata": {},
   "outputs": [
    {
     "name": "stdout",
     "output_type": "stream",
     "text": [
      "Object not Initialized\n"
     ]
    }
   ],
   "source": [
    "f = FriendList()"
   ]
  },
  {
   "cell_type": "code",
   "execution_count": 53,
   "id": "fe7b30c7",
   "metadata": {},
   "outputs": [
    {
     "data": {
      "text/plain": [
       "{'friends': [' Rahul', 'UJjwal', 'Shweta', 'Sanjay', 'Rao', 'Aaksh and party'],\n",
       " 'index': 0}"
      ]
     },
     "execution_count": 53,
     "metadata": {},
     "output_type": "execute_result"
    }
   ],
   "source": [
    "f.__dict__"
   ]
  },
  {
   "cell_type": "markdown",
   "id": "985c8be6",
   "metadata": {},
   "source": [
    "# Now I will try to think about the length.\n",
    "\n",
    "`` So will try to use the in built len() function and pass my FriendList object ``"
   ]
  },
  {
   "cell_type": "code",
   "execution_count": 54,
   "id": "1a8e8708",
   "metadata": {},
   "outputs": [
    {
     "ename": "TypeError",
     "evalue": "object of type 'FriendList' has no len()",
     "output_type": "error",
     "traceback": [
      "\u001b[1;31m---------------------------------------------------------------------------\u001b[0m",
      "\u001b[1;31mTypeError\u001b[0m                                 Traceback (most recent call last)",
      "\u001b[1;32m<ipython-input-54-851e828fe29c>\u001b[0m in \u001b[0;36m<module>\u001b[1;34m\u001b[0m\n\u001b[1;32m----> 1\u001b[1;33m \u001b[0mlen\u001b[0m\u001b[1;33m(\u001b[0m\u001b[0mf\u001b[0m\u001b[1;33m)\u001b[0m\u001b[1;33m\u001b[0m\u001b[1;33m\u001b[0m\u001b[0m\n\u001b[0m",
      "\u001b[1;31mTypeError\u001b[0m: object of type 'FriendList' has no len()"
     ]
    }
   ],
   "source": [
    "len(f)"
   ]
  },
  {
   "cell_type": "markdown",
   "id": "1053d98a",
   "metadata": {},
   "source": [
    "# Clearly it does not work and I realize my mistake\n",
    "\n",
    "        ``     I forgot the __len__    ``"
   ]
  },
  {
   "cell_type": "code",
   "execution_count": null,
   "id": "2d3584ad",
   "metadata": {},
   "outputs": [],
   "source": [
    "class FriendList:\n",
    "    \n",
    "    def __init__(self):\n",
    "        self.friends = [' Rahul','UJjwal','Shweta','Sanjay', 'Rao','Aaksh and party']\n",
    "        self.index = 0 \n",
    "        print('Object not Initialized')\n",
    "        \n",
    "    def __len__(self):\n",
    "        pass\n",
    "        # what should i return to get the length "
   ]
  },
  {
   "cell_type": "code",
   "execution_count": null,
   "id": "5191e016",
   "metadata": {},
   "outputs": [],
   "source": []
  },
  {
   "cell_type": "code",
   "execution_count": 55,
   "id": "8ae7c692",
   "metadata": {},
   "outputs": [],
   "source": [
    "class FriendList:\n",
    "    \n",
    "    def __init__(self):\n",
    "        self.friends = [' Rahul','UJjwal','Shweta','Sanjay', 'Rao','Aaksh and party']\n",
    "        self.index = 0 \n",
    "        print('Object not Initialized')\n",
    "        \n",
    "    def __len__(self):\n",
    "        return len(self.friends)"
   ]
  },
  {
   "cell_type": "markdown",
   "id": "986091d6",
   "metadata": {},
   "source": [
    "# Testing"
   ]
  },
  {
   "cell_type": "code",
   "execution_count": 56,
   "id": "7bf0bd1c",
   "metadata": {},
   "outputs": [
    {
     "name": "stdout",
     "output_type": "stream",
     "text": [
      "Object not Initialized\n",
      "6\n"
     ]
    }
   ],
   "source": [
    "f = FriendList()\n",
    "print(len(f))"
   ]
  },
  {
   "cell_type": "markdown",
   "id": "57d55bf5",
   "metadata": {},
   "source": [
    "`` Now that we are able to get the length of our object ``\n",
    "\n",
    "`` lets think how to get our friends. ``\n",
    "\n",
    "`` So I came up with two things.  __getitem__ or __next__ `` "
   ]
  },
  {
   "cell_type": "markdown",
   "id": "0f5b50df",
   "metadata": {},
   "source": [
    "# Back to coding "
   ]
  },
  {
   "cell_type": "code",
   "execution_count": 59,
   "id": "0bb13aa2",
   "metadata": {},
   "outputs": [],
   "source": [
    "class FriendList:\n",
    "    \n",
    "    def __init__(self):\n",
    "        self.friends = [' Rahul','UJjwal','Shweta','Sanjay', 'Rao','Aaksh and party']\n",
    "        self.index = 0 \n",
    "        print('Object not Initialized')\n",
    "        \n",
    "    def __len__(self):\n",
    "        return len(self.friends)\n",
    "    \n",
    "    def __next__(self):\n",
    "        if self.index >= len(self.friends):\n",
    "            pass\n",
    "        else:\n",
    "            # I know that here I need to give back the friend\n",
    "            friend = self.friends[self.index]\n",
    "            # Than will increment the index of the instance. so will use self\n",
    "            self.index = self.index + 1\n",
    "            # Finally I will return a friend\n",
    "            return friend"
   ]
  },
  {
   "cell_type": "code",
   "execution_count": 60,
   "id": "ca375f2e",
   "metadata": {},
   "outputs": [
    {
     "name": "stdout",
     "output_type": "stream",
     "text": [
      "Object not Initialized\n"
     ]
    }
   ],
   "source": [
    "f = FriendList()"
   ]
  },
  {
   "cell_type": "code",
   "execution_count": 61,
   "id": "68350e53",
   "metadata": {},
   "outputs": [
    {
     "data": {
      "text/plain": [
       "' Rahul'"
      ]
     },
     "execution_count": 61,
     "metadata": {},
     "output_type": "execute_result"
    }
   ],
   "source": [
    "f.__next__()"
   ]
  },
  {
   "cell_type": "markdown",
   "id": "d82ec7d5",
   "metadata": {},
   "source": [
    "`` It seems working ``"
   ]
  },
  {
   "cell_type": "code",
   "execution_count": 62,
   "id": "e2a6f5d8",
   "metadata": {},
   "outputs": [
    {
     "data": {
      "text/plain": [
       "'UJjwal'"
      ]
     },
     "execution_count": 62,
     "metadata": {},
     "output_type": "execute_result"
    }
   ],
   "source": [
    "next(f)"
   ]
  },
  {
   "cell_type": "markdown",
   "id": "9231b03e",
   "metadata": {},
   "source": [
    "`` Yes it works ``"
   ]
  },
  {
   "cell_type": "markdown",
   "id": "82a2384b",
   "metadata": {},
   "source": [
    "`` Now i will think will this raise some error at any point of time, atleast in this context ( machine,network)``"
   ]
  },
  {
   "cell_type": "markdown",
   "id": "7fb701bc",
   "metadata": {},
   "source": [
    "## After trying this I realized that this becomes an infinte loop\n",
    "``while True:\n",
    "    print(next(f))``"
   ]
  },
  {
   "cell_type": "code",
   "execution_count": 2,
   "id": "cbe5b605",
   "metadata": {},
   "outputs": [],
   "source": [
    "class FriendList:\n",
    "    \n",
    "    def __init__(self):\n",
    "        self.friends = [' Rahul','UJjwal','Shweta','Sanjay', 'Rao','Aaksh and party']\n",
    "        self.index = 0 \n",
    "        print('Object not Initialized')\n",
    "        \n",
    "    def __len__(self):\n",
    "        return len(self.friends)\n",
    "    \n",
    "    def __next__(self):\n",
    "        if self.index >= len(self.friends):\n",
    "            raise StopIteration('End readched')\n",
    "        else:\n",
    "            # I know that here I need to give back the friend\n",
    "            friend = self.friends[self.index]\n",
    "            # Than will increment the index of the instance. so will use self\n",
    "            self.index = self.index + 1\n",
    "            # Finally I will return a friend\n",
    "            return friend"
   ]
  },
  {
   "cell_type": "markdown",
   "id": "451802a5",
   "metadata": {},
   "source": [
    "# Testing again"
   ]
  },
  {
   "cell_type": "code",
   "execution_count": 4,
   "id": "20a2b60e",
   "metadata": {},
   "outputs": [
    {
     "name": "stdout",
     "output_type": "stream",
     "text": [
      "Object not Initialized\n"
     ]
    },
    {
     "data": {
      "text/plain": [
       "{'friends': [' Rahul', 'UJjwal', 'Shweta', 'Sanjay', 'Rao', 'Aaksh and party'],\n",
       " 'index': 0}"
      ]
     },
     "execution_count": 4,
     "metadata": {},
     "output_type": "execute_result"
    }
   ],
   "source": [
    "f = FriendList()\n",
    "f.__dict__"
   ]
  },
  {
   "cell_type": "code",
   "execution_count": 5,
   "id": "4a81bc5a",
   "metadata": {},
   "outputs": [
    {
     "data": {
      "text/plain": [
       "' Rahul'"
      ]
     },
     "execution_count": 5,
     "metadata": {},
     "output_type": "execute_result"
    }
   ],
   "source": [
    "next(f)"
   ]
  },
  {
   "cell_type": "code",
   "execution_count": 6,
   "id": "186f749b",
   "metadata": {},
   "outputs": [
    {
     "data": {
      "text/plain": [
       "{'friends': [' Rahul', 'UJjwal', 'Shweta', 'Sanjay', 'Rao', 'Aaksh and party'],\n",
       " 'index': 1}"
      ]
     },
     "execution_count": 6,
     "metadata": {},
     "output_type": "execute_result"
    }
   ],
   "source": [
    "f.__dict__"
   ]
  },
  {
   "cell_type": "code",
   "execution_count": 7,
   "id": "a3f62262",
   "metadata": {},
   "outputs": [
    {
     "name": "stdout",
     "output_type": "stream",
     "text": [
      "UJjwal\n",
      "Shweta\n",
      "Sanjay\n",
      "Rao\n",
      "Aaksh and party\n"
     ]
    },
    {
     "ename": "StopIteration",
     "evalue": "End readched",
     "output_type": "error",
     "traceback": [
      "\u001b[1;31m---------------------------------------------------------------------------\u001b[0m",
      "\u001b[1;31mStopIteration\u001b[0m                             Traceback (most recent call last)",
      "\u001b[1;32m<ipython-input-7-5b8c38102aa4>\u001b[0m in \u001b[0;36m<module>\u001b[1;34m\u001b[0m\n\u001b[0;32m      1\u001b[0m \u001b[1;32mwhile\u001b[0m \u001b[1;32mTrue\u001b[0m\u001b[1;33m:\u001b[0m\u001b[1;33m\u001b[0m\u001b[1;33m\u001b[0m\u001b[0m\n\u001b[1;32m----> 2\u001b[1;33m     \u001b[0mprint\u001b[0m\u001b[1;33m(\u001b[0m\u001b[0mnext\u001b[0m\u001b[1;33m(\u001b[0m\u001b[0mf\u001b[0m\u001b[1;33m)\u001b[0m\u001b[1;33m)\u001b[0m\u001b[1;33m\u001b[0m\u001b[1;33m\u001b[0m\u001b[0m\n\u001b[0m",
      "\u001b[1;32m<ipython-input-2-87edefda04db>\u001b[0m in \u001b[0;36m__next__\u001b[1;34m(self)\u001b[0m\n\u001b[0;32m     11\u001b[0m     \u001b[1;32mdef\u001b[0m \u001b[0m__next__\u001b[0m\u001b[1;33m(\u001b[0m\u001b[0mself\u001b[0m\u001b[1;33m)\u001b[0m\u001b[1;33m:\u001b[0m\u001b[1;33m\u001b[0m\u001b[1;33m\u001b[0m\u001b[0m\n\u001b[0;32m     12\u001b[0m         \u001b[1;32mif\u001b[0m \u001b[0mself\u001b[0m\u001b[1;33m.\u001b[0m\u001b[0mindex\u001b[0m \u001b[1;33m>=\u001b[0m \u001b[0mlen\u001b[0m\u001b[1;33m(\u001b[0m\u001b[0mself\u001b[0m\u001b[1;33m.\u001b[0m\u001b[0mfriends\u001b[0m\u001b[1;33m)\u001b[0m\u001b[1;33m:\u001b[0m\u001b[1;33m\u001b[0m\u001b[1;33m\u001b[0m\u001b[0m\n\u001b[1;32m---> 13\u001b[1;33m             \u001b[1;32mraise\u001b[0m \u001b[0mStopIteration\u001b[0m\u001b[1;33m(\u001b[0m\u001b[1;34m'End readched'\u001b[0m\u001b[1;33m)\u001b[0m\u001b[1;33m\u001b[0m\u001b[1;33m\u001b[0m\u001b[0m\n\u001b[0m\u001b[0;32m     14\u001b[0m         \u001b[1;32melse\u001b[0m\u001b[1;33m:\u001b[0m\u001b[1;33m\u001b[0m\u001b[1;33m\u001b[0m\u001b[0m\n\u001b[0;32m     15\u001b[0m             \u001b[1;31m# I know that here I need to give back the friend\u001b[0m\u001b[1;33m\u001b[0m\u001b[1;33m\u001b[0m\u001b[1;33m\u001b[0m\u001b[0m\n",
      "\u001b[1;31mStopIteration\u001b[0m: End readched"
     ]
    }
   ],
   "source": [
    "while True:\n",
    "    print(next(f))"
   ]
  },
  {
   "cell_type": "markdown",
   "id": "26ac3228",
   "metadata": {},
   "source": [
    "`` May be I will try to use try ... except statement ``"
   ]
  },
  {
   "cell_type": "markdown",
   "id": "79e9cb88",
   "metadata": {},
   "source": [
    "# Coding again "
   ]
  },
  {
   "cell_type": "code",
   "execution_count": 11,
   "id": "8080f0e4",
   "metadata": {},
   "outputs": [],
   "source": [
    "class FriendList:\n",
    "    \n",
    "    def __init__(self):\n",
    "        self.friends = [' Rahul','UJjwal','Shweta','Sanjay', 'Rao','Aaksh and party']\n",
    "        self.index = 0 \n",
    "        print('Object Initialized')\n",
    "        \n",
    "    def __len__(self):\n",
    "        return len(self.friends)\n",
    "    \n",
    "    def __next__(self):\n",
    "        if self.index >= len(self.friends):\n",
    "            raise StopIteration('End readched')\n",
    "        else:\n",
    "            # I know that here I need to give back the friend\n",
    "            friend = self.friends[self.index]\n",
    "            # Than will increment the index of the instance. so will use self\n",
    "            self.index = self.index + 1\n",
    "            # Finally I will return a friend\n",
    "            return friend"
   ]
  },
  {
   "cell_type": "code",
   "execution_count": 12,
   "id": "d695d6dc",
   "metadata": {},
   "outputs": [
    {
     "name": "stdout",
     "output_type": "stream",
     "text": [
      "Object Initialized\n",
      " Rahul\n",
      "UJjwal\n",
      "Shweta\n",
      "Sanjay\n",
      "Rao\n",
      "Aaksh and party\n",
      "Silenced\n"
     ]
    }
   ],
   "source": [
    "f=FriendList()\n",
    "while True:\n",
    "    try:\n",
    "        print(next(f))\n",
    "    except StopIteration:\n",
    "        print('Silenced')\n",
    "        break"
   ]
  },
  {
   "cell_type": "code",
   "execution_count": 13,
   "id": "25d18da6",
   "metadata": {},
   "outputs": [
    {
     "data": {
      "text/plain": [
       "6"
      ]
     },
     "execution_count": 13,
     "metadata": {},
     "output_type": "execute_result"
    }
   ],
   "source": [
    "len(f)"
   ]
  },
  {
   "cell_type": "code",
   "execution_count": 14,
   "id": "eb61fbc2",
   "metadata": {},
   "outputs": [
    {
     "data": {
      "text/plain": [
       "2165096445072"
      ]
     },
     "execution_count": 14,
     "metadata": {},
     "output_type": "execute_result"
    }
   ],
   "source": [
    "# I will always make sure to see the id of any object i create\n",
    "id(f)"
   ]
  },
  {
   "cell_type": "markdown",
   "id": "824deb33",
   "metadata": {},
   "source": [
    "`` Now I will go and check how my object looks to the external world ``"
   ]
  },
  {
   "cell_type": "code",
   "execution_count": 15,
   "id": "00ffbbbe",
   "metadata": {},
   "outputs": [
    {
     "data": {
      "text/plain": [
       "<__main__.FriendList at 0x1f819cdf490>"
      ]
     },
     "execution_count": 15,
     "metadata": {},
     "output_type": "execute_result"
    }
   ],
   "source": [
    "f"
   ]
  },
  {
   "cell_type": "markdown",
   "id": "48f638cc",
   "metadata": {},
   "source": [
    "`` Seems quite ugly ``"
   ]
  },
  {
   "cell_type": "markdown",
   "id": "5a53f896",
   "metadata": {},
   "source": [
    "`` Than will go and try to implement the __repr__ ``"
   ]
  },
  {
   "cell_type": "markdown",
   "id": "e4a2fed0",
   "metadata": {},
   "source": [
    "# Coding Again "
   ]
  },
  {
   "cell_type": "code",
   "execution_count": 16,
   "id": "08b2b144",
   "metadata": {},
   "outputs": [],
   "source": [
    "class FriendList:\n",
    "    \n",
    "    def __init__(self):\n",
    "        self.friends = [' Rahul','UJjwal','Shweta','Sanjay', 'Rao','Aaksh and party']\n",
    "        self.index = 0 \n",
    "        print('Object Initialized')\n",
    "        \n",
    "    def __len__(self):\n",
    "        return len(self.friends)\n",
    "    \n",
    "    def __next__(self):\n",
    "        if self.index >= len(self.friends):\n",
    "            raise StopIteration('End readched')\n",
    "        else:\n",
    "            # I know that here I need to give back the friend\n",
    "            friend = self.friends[self.index]\n",
    "            # Than will increment the index of the instance. so will use self\n",
    "            self.index = self.index + 1\n",
    "            # Finally I will return a friend\n",
    "            return friend\n",
    "        \n",
    "    def __repr__(self):\n",
    "        return 'my object'"
   ]
  },
  {
   "cell_type": "code",
   "execution_count": 17,
   "id": "6c696469",
   "metadata": {},
   "outputs": [
    {
     "name": "stdout",
     "output_type": "stream",
     "text": [
      "Object Initialized\n"
     ]
    }
   ],
   "source": [
    "f=FriendList()"
   ]
  },
  {
   "cell_type": "code",
   "execution_count": 18,
   "id": "430631bf",
   "metadata": {},
   "outputs": [
    {
     "data": {
      "text/plain": [
       "my object"
      ]
     },
     "execution_count": 18,
     "metadata": {},
     "output_type": "execute_result"
    }
   ],
   "source": [
    "f"
   ]
  },
  {
   "cell_type": "markdown",
   "id": "eb72963a",
   "metadata": {},
   "source": [
    "`` So it works. Now will go back and try to represent it with more meaning ``"
   ]
  },
  {
   "cell_type": "markdown",
   "id": "876228a1",
   "metadata": {},
   "source": [
    "# Coding again"
   ]
  },
  {
   "cell_type": "code",
   "execution_count": 23,
   "id": "f7520e32",
   "metadata": {},
   "outputs": [],
   "source": [
    "class FriendList:\n",
    "    \n",
    "    def __init__(self):\n",
    "        self.friends = [' Rahul','UJjwal','Shweta','Sanjay', 'Rao','Aaksh and party']\n",
    "        self.index = 0 \n",
    "        print('Object Initialized')\n",
    "        \n",
    "    def __len__(self):\n",
    "        return len(self.friends)\n",
    "    \n",
    "    def __next__(self):\n",
    "        if self.index >= len(self.friends):\n",
    "            raise StopIteration('End readched')\n",
    "        else:\n",
    "            # I know that here I need to give back the friend\n",
    "            friend = self.friends[self.index]\n",
    "            # Than will increment the index of the instance. so will use self\n",
    "            self.index = self.index + 1\n",
    "            # Finally I will return a friend\n",
    "            return friend\n",
    "        \n",
    "    def __repr__(self):\n",
    "        return 'FriendList({})'.format('My Friend List')"
   ]
  },
  {
   "cell_type": "code",
   "execution_count": 24,
   "id": "335d1877",
   "metadata": {},
   "outputs": [
    {
     "name": "stdout",
     "output_type": "stream",
     "text": [
      "Object Initialized\n"
     ]
    }
   ],
   "source": [
    "f= FriendList()"
   ]
  },
  {
   "cell_type": "code",
   "execution_count": 25,
   "id": "311ee656",
   "metadata": {},
   "outputs": [
    {
     "data": {
      "text/plain": [
       "FriendList(My Friend List)"
      ]
     },
     "execution_count": 25,
     "metadata": {},
     "output_type": "execute_result"
    }
   ],
   "source": [
    "f"
   ]
  },
  {
   "cell_type": "markdown",
   "id": "ce9e8261",
   "metadata": {},
   "source": [
    "`` This seems more meaningful to the user ``"
   ]
  },
  {
   "cell_type": "markdown",
   "id": "d4587cb9",
   "metadata": {},
   "source": [
    "# Testing again ...\n",
    "`` Now lets check for on our object again ``"
   ]
  },
  {
   "cell_type": "code",
   "execution_count": 26,
   "id": "74bed742",
   "metadata": {},
   "outputs": [
    {
     "name": "stdout",
     "output_type": "stream",
     "text": [
      "Object Initialized\n",
      " Rahul\n",
      "UJjwal\n",
      "Shweta\n",
      "Sanjay\n",
      "Rao\n",
      "Aaksh and party\n"
     ]
    },
    {
     "ename": "StopIteration",
     "evalue": "End readched",
     "output_type": "error",
     "traceback": [
      "\u001b[1;31m---------------------------------------------------------------------------\u001b[0m",
      "\u001b[1;31mStopIteration\u001b[0m                             Traceback (most recent call last)",
      "\u001b[1;32m<ipython-input-26-8f63600fc49d>\u001b[0m in \u001b[0;36m<module>\u001b[1;34m\u001b[0m\n\u001b[0;32m      1\u001b[0m \u001b[0mf\u001b[0m \u001b[1;33m=\u001b[0m \u001b[0mFriendList\u001b[0m\u001b[1;33m(\u001b[0m\u001b[1;33m)\u001b[0m\u001b[1;33m\u001b[0m\u001b[1;33m\u001b[0m\u001b[0m\n\u001b[0;32m      2\u001b[0m \u001b[1;32mfor\u001b[0m \u001b[0m_\u001b[0m \u001b[1;32min\u001b[0m \u001b[0mrange\u001b[0m\u001b[1;33m(\u001b[0m\u001b[1;36m10\u001b[0m\u001b[1;33m)\u001b[0m\u001b[1;33m:\u001b[0m\u001b[1;33m\u001b[0m\u001b[1;33m\u001b[0m\u001b[0m\n\u001b[1;32m----> 3\u001b[1;33m     \u001b[0mprint\u001b[0m\u001b[1;33m(\u001b[0m\u001b[0mnext\u001b[0m\u001b[1;33m(\u001b[0m\u001b[0mf\u001b[0m\u001b[1;33m)\u001b[0m\u001b[1;33m)\u001b[0m\u001b[1;33m\u001b[0m\u001b[1;33m\u001b[0m\u001b[0m\n\u001b[0m",
      "\u001b[1;32m<ipython-input-23-6a0f4e77a6bf>\u001b[0m in \u001b[0;36m__next__\u001b[1;34m(self)\u001b[0m\n\u001b[0;32m     11\u001b[0m     \u001b[1;32mdef\u001b[0m \u001b[0m__next__\u001b[0m\u001b[1;33m(\u001b[0m\u001b[0mself\u001b[0m\u001b[1;33m)\u001b[0m\u001b[1;33m:\u001b[0m\u001b[1;33m\u001b[0m\u001b[1;33m\u001b[0m\u001b[0m\n\u001b[0;32m     12\u001b[0m         \u001b[1;32mif\u001b[0m \u001b[0mself\u001b[0m\u001b[1;33m.\u001b[0m\u001b[0mindex\u001b[0m \u001b[1;33m>=\u001b[0m \u001b[0mlen\u001b[0m\u001b[1;33m(\u001b[0m\u001b[0mself\u001b[0m\u001b[1;33m.\u001b[0m\u001b[0mfriends\u001b[0m\u001b[1;33m)\u001b[0m\u001b[1;33m:\u001b[0m\u001b[1;33m\u001b[0m\u001b[1;33m\u001b[0m\u001b[0m\n\u001b[1;32m---> 13\u001b[1;33m             \u001b[1;32mraise\u001b[0m \u001b[0mStopIteration\u001b[0m\u001b[1;33m(\u001b[0m\u001b[1;34m'End readched'\u001b[0m\u001b[1;33m)\u001b[0m\u001b[1;33m\u001b[0m\u001b[1;33m\u001b[0m\u001b[0m\n\u001b[0m\u001b[0;32m     14\u001b[0m         \u001b[1;32melse\u001b[0m\u001b[1;33m:\u001b[0m\u001b[1;33m\u001b[0m\u001b[1;33m\u001b[0m\u001b[0m\n\u001b[0;32m     15\u001b[0m             \u001b[1;31m# I know that here I need to give back the friend\u001b[0m\u001b[1;33m\u001b[0m\u001b[1;33m\u001b[0m\u001b[1;33m\u001b[0m\u001b[0m\n",
      "\u001b[1;31mStopIteration\u001b[0m: End readched"
     ]
    }
   ],
   "source": [
    "f = FriendList()\n",
    "for _ in range(10):\n",
    "    print(next(f))"
   ]
  },
  {
   "cell_type": "markdown",
   "id": "5fdcbe14",
   "metadata": {},
   "source": [
    "`` This exception i could have silenced, like the way we did it using while ``"
   ]
  },
  {
   "cell_type": "code",
   "execution_count": 27,
   "id": "bf36490b",
   "metadata": {},
   "outputs": [
    {
     "name": "stdout",
     "output_type": "stream",
     "text": [
      "Object Initialized\n",
      " Rahul\n",
      "UJjwal\n",
      "Shweta\n",
      "Sanjay\n",
      "Rao\n",
      "Aaksh and party\n",
      "StopIteration('End readched')\n",
      "StopIteration('End readched')\n",
      "StopIteration('End readched')\n",
      "StopIteration('End readched')\n"
     ]
    }
   ],
   "source": [
    "f = FriendList()\n",
    "for _ in range(10):\n",
    "    try:\n",
    "        print(next(f))\n",
    "    except Exception as e:\n",
    "        print(repr(e))"
   ]
  },
  {
   "cell_type": "markdown",
   "id": "6b6a9be8",
   "metadata": {},
   "source": [
    "`` Making it more generic ``"
   ]
  },
  {
   "cell_type": "code",
   "execution_count": 28,
   "id": "a3a13bde",
   "metadata": {},
   "outputs": [
    {
     "name": "stdout",
     "output_type": "stream",
     "text": [
      "Object Initialized\n"
     ]
    },
    {
     "ename": "TypeError",
     "evalue": "'int' object is not iterable",
     "output_type": "error",
     "traceback": [
      "\u001b[1;31m---------------------------------------------------------------------------\u001b[0m",
      "\u001b[1;31mTypeError\u001b[0m                                 Traceback (most recent call last)",
      "\u001b[1;32m<ipython-input-28-44593e8a15ef>\u001b[0m in \u001b[0;36m<module>\u001b[1;34m\u001b[0m\n\u001b[0;32m      1\u001b[0m \u001b[0mf\u001b[0m \u001b[1;33m=\u001b[0m \u001b[0mFriendList\u001b[0m\u001b[1;33m(\u001b[0m\u001b[1;33m)\u001b[0m\u001b[1;33m\u001b[0m\u001b[1;33m\u001b[0m\u001b[0m\n\u001b[1;32m----> 2\u001b[1;33m \u001b[1;32mfor\u001b[0m \u001b[0m_\u001b[0m \u001b[1;32min\u001b[0m \u001b[0mlen\u001b[0m\u001b[1;33m(\u001b[0m\u001b[0mf\u001b[0m\u001b[1;33m)\u001b[0m\u001b[1;33m:\u001b[0m\u001b[1;33m\u001b[0m\u001b[1;33m\u001b[0m\u001b[0m\n\u001b[0m\u001b[0;32m      3\u001b[0m     \u001b[1;32mtry\u001b[0m\u001b[1;33m:\u001b[0m\u001b[1;33m\u001b[0m\u001b[1;33m\u001b[0m\u001b[0m\n\u001b[0;32m      4\u001b[0m         \u001b[0mprint\u001b[0m\u001b[1;33m(\u001b[0m\u001b[0mnext\u001b[0m\u001b[1;33m(\u001b[0m\u001b[0mf\u001b[0m\u001b[1;33m)\u001b[0m\u001b[1;33m)\u001b[0m\u001b[1;33m\u001b[0m\u001b[1;33m\u001b[0m\u001b[0m\n\u001b[0;32m      5\u001b[0m     \u001b[1;32mexcept\u001b[0m \u001b[0mException\u001b[0m \u001b[1;32mas\u001b[0m \u001b[0me\u001b[0m\u001b[1;33m:\u001b[0m\u001b[1;33m\u001b[0m\u001b[1;33m\u001b[0m\u001b[0m\n",
      "\u001b[1;31mTypeError\u001b[0m: 'int' object is not iterable"
     ]
    }
   ],
   "source": [
    "f = FriendList()\n",
    "for _ in len(f):\n",
    "    try:\n",
    "        print(next(f))\n",
    "    except Exception as e:\n",
    "        print(repr(e))"
   ]
  },
  {
   "cell_type": "code",
   "execution_count": 29,
   "id": "e3eb854e",
   "metadata": {},
   "outputs": [],
   "source": [
    "class FriendList:\n",
    "    \n",
    "    def __init__(self):\n",
    "        self.friends = [' Rahul','UJjwal','Shweta','Sanjay', 'Rao','Aaksh and party']\n",
    "        self.index = 0 \n",
    "        print('Object Initialized')\n",
    "        \n",
    "    def __len__(self):\n",
    "        return len(self.friends)\n",
    "    \n",
    "    def __next__(self):\n",
    "        if self.index >= len(self.friends):\n",
    "            raise StopIteration('End readched')\n",
    "        else:\n",
    "            # I know that here I need to give back the friend\n",
    "            friend = self.friends[self.index]\n",
    "            # Than will increment the index of the instance. so will use self\n",
    "            self.index = self.index + 1\n",
    "            # Finally I will return a friend\n",
    "            return friend\n",
    "        \n",
    "    def __repr__(self):\n",
    "        return 'FriendList({})'.format('My Friend List')"
   ]
  },
  {
   "cell_type": "code",
   "execution_count": 30,
   "id": "319a4e10",
   "metadata": {},
   "outputs": [
    {
     "name": "stdout",
     "output_type": "stream",
     "text": [
      "Object Initialized\n",
      " Rahul\n",
      "UJjwal\n",
      "Shweta\n",
      "Sanjay\n",
      "Rao\n",
      "Aaksh and party\n"
     ]
    }
   ],
   "source": [
    "f = FriendList()\n",
    "for _ in range(len(f)):\n",
    "    try:\n",
    "        print(next(f))\n",
    "    except Exception as e:\n",
    "        print(repr(e))"
   ]
  },
  {
   "cell_type": "markdown",
   "id": "d990f13e",
   "metadata": {},
   "source": [
    "`` Now I am a little bit satisfied ``"
   ]
  },
  {
   "cell_type": "markdown",
   "id": "e0890772",
   "metadata": {},
   "source": [
    "# Now lets check whether our object is iterable or not "
   ]
  },
  {
   "cell_type": "code",
   "execution_count": 32,
   "id": "5255dd3c",
   "metadata": {},
   "outputs": [
    {
     "name": "stdout",
     "output_type": "stream",
     "text": [
      "Object Initialized\n"
     ]
    }
   ],
   "source": [
    "f = FriendList()"
   ]
  },
  {
   "cell_type": "code",
   "execution_count": 33,
   "id": "31ad6c5f",
   "metadata": {},
   "outputs": [
    {
     "ename": "TypeError",
     "evalue": "'FriendList' object is not iterable",
     "output_type": "error",
     "traceback": [
      "\u001b[1;31m---------------------------------------------------------------------------\u001b[0m",
      "\u001b[1;31mTypeError\u001b[0m                                 Traceback (most recent call last)",
      "\u001b[1;32m<ipython-input-33-77e439c957ff>\u001b[0m in \u001b[0;36m<module>\u001b[1;34m\u001b[0m\n\u001b[1;32m----> 1\u001b[1;33m \u001b[1;32mfor\u001b[0m \u001b[0mfriend\u001b[0m \u001b[1;32min\u001b[0m \u001b[0mf\u001b[0m\u001b[1;33m:\u001b[0m\u001b[1;33m\u001b[0m\u001b[1;33m\u001b[0m\u001b[0m\n\u001b[0m\u001b[0;32m      2\u001b[0m     \u001b[0mprint\u001b[0m\u001b[1;33m(\u001b[0m\u001b[0mfriend\u001b[0m\u001b[1;33m)\u001b[0m\u001b[1;33m\u001b[0m\u001b[1;33m\u001b[0m\u001b[0m\n",
      "\u001b[1;31mTypeError\u001b[0m: 'FriendList' object is not iterable"
     ]
    }
   ],
   "source": [
    "for friend in f:\n",
    "    print(friend)"
   ]
  },
  {
   "cell_type": "markdown",
   "id": "1c754f59",
   "metadata": {},
   "source": [
    "# TypeError: 'FriendList' object is not iterable"
   ]
  },
  {
   "cell_type": "markdown",
   "id": "5fc4f334",
   "metadata": {},
   "source": [
    "`` So, our object is not an iterable `` "
   ]
  },
  {
   "cell_type": "markdown",
   "id": "f46ccd9f",
   "metadata": {},
   "source": [
    "`` Ok. That's fine. Than, is the class FriendList an iterable "
   ]
  },
  {
   "cell_type": "code",
   "execution_count": 34,
   "id": "c9e37f6e",
   "metadata": {},
   "outputs": [
    {
     "name": "stdout",
     "output_type": "stream",
     "text": [
      "Object Initialized\n"
     ]
    },
    {
     "ename": "TypeError",
     "evalue": "'FriendList' object is not iterable",
     "output_type": "error",
     "traceback": [
      "\u001b[1;31m---------------------------------------------------------------------------\u001b[0m",
      "\u001b[1;31mTypeError\u001b[0m                                 Traceback (most recent call last)",
      "\u001b[1;32m<ipython-input-34-490ed809c5a0>\u001b[0m in \u001b[0;36m<module>\u001b[1;34m\u001b[0m\n\u001b[1;32m----> 1\u001b[1;33m \u001b[1;32mfor\u001b[0m \u001b[0mi\u001b[0m \u001b[1;32min\u001b[0m \u001b[0mFriendList\u001b[0m\u001b[1;33m(\u001b[0m\u001b[1;33m)\u001b[0m\u001b[1;33m:\u001b[0m\u001b[1;33m\u001b[0m\u001b[1;33m\u001b[0m\u001b[0m\n\u001b[0m\u001b[0;32m      2\u001b[0m     \u001b[0mprint\u001b[0m\u001b[1;33m(\u001b[0m\u001b[0mi\u001b[0m\u001b[1;33m)\u001b[0m\u001b[1;33m\u001b[0m\u001b[1;33m\u001b[0m\u001b[0m\n",
      "\u001b[1;31mTypeError\u001b[0m: 'FriendList' object is not iterable"
     ]
    }
   ],
   "source": [
    "for i in FriendList():\n",
    "    print(i)"
   ]
  },
  {
   "cell_type": "markdown",
   "id": "c446383f",
   "metadata": {},
   "source": [
    "`` In both cases,you will see the same error. This is because, everything is an object.``\n",
    "\n",
    "`` A class is an object therefore ``"
   ]
  },
  {
   "cell_type": "markdown",
   "id": "0092ef61",
   "metadata": {},
   "source": [
    "# lets now implement __iter__ "
   ]
  },
  {
   "cell_type": "code",
   "execution_count": 35,
   "id": "e34a274f",
   "metadata": {},
   "outputs": [],
   "source": [
    "class FriendList:\n",
    "    \n",
    "    def __init__(self):\n",
    "        self.friends = [' Rahul','UJjwal','Shweta','Sanjay', 'Rao','Aaksh and party']\n",
    "        self.index = 0 \n",
    "        print('Object Initialized')\n",
    "        \n",
    "    def __len__(self):\n",
    "        return len(self.friends)\n",
    "    \n",
    "    def __next__(self):\n",
    "        if self.index >= len(self.friends):\n",
    "            raise StopIteration('End readched')\n",
    "        else:\n",
    "            # I know that here I need to give back the friend\n",
    "            friend = self.friends[self.index]\n",
    "            # Than will increment the index of the instance. so will use self\n",
    "            self.index = self.index + 1\n",
    "            # Finally I will return a friend\n",
    "            return friend\n",
    "        \n",
    "    def __repr__(self):\n",
    "        return 'FriendList({})'.format('My Friend List')\n",
    "    \n",
    "    def __iter__(self):\n",
    "        return ' Returns the object itself'"
   ]
  },
  {
   "cell_type": "markdown",
   "id": "b1a6543d",
   "metadata": {},
   "source": [
    "# Testing our code "
   ]
  },
  {
   "cell_type": "code",
   "execution_count": 36,
   "id": "a768e9bf",
   "metadata": {},
   "outputs": [
    {
     "name": "stdout",
     "output_type": "stream",
     "text": [
      "Object Initialized\n"
     ]
    }
   ],
   "source": [
    "f = FriendList()"
   ]
  },
  {
   "cell_type": "code",
   "execution_count": 37,
   "id": "7f4f146a",
   "metadata": {},
   "outputs": [
    {
     "ename": "TypeError",
     "evalue": "iter() returned non-iterator of type 'str'",
     "output_type": "error",
     "traceback": [
      "\u001b[1;31m---------------------------------------------------------------------------\u001b[0m",
      "\u001b[1;31mTypeError\u001b[0m                                 Traceback (most recent call last)",
      "\u001b[1;32m<ipython-input-37-77e439c957ff>\u001b[0m in \u001b[0;36m<module>\u001b[1;34m\u001b[0m\n\u001b[1;32m----> 1\u001b[1;33m \u001b[1;32mfor\u001b[0m \u001b[0mfriend\u001b[0m \u001b[1;32min\u001b[0m \u001b[0mf\u001b[0m\u001b[1;33m:\u001b[0m\u001b[1;33m\u001b[0m\u001b[1;33m\u001b[0m\u001b[0m\n\u001b[0m\u001b[0;32m      2\u001b[0m     \u001b[0mprint\u001b[0m\u001b[1;33m(\u001b[0m\u001b[0mfriend\u001b[0m\u001b[1;33m)\u001b[0m\u001b[1;33m\u001b[0m\u001b[1;33m\u001b[0m\u001b[0m\n",
      "\u001b[1;31mTypeError\u001b[0m: iter() returned non-iterator of type 'str'"
     ]
    }
   ],
   "source": [
    "for friend in f:\n",
    "    print(friend)"
   ]
  },
  {
   "cell_type": "markdown",
   "id": "f3e2c885",
   "metadata": {},
   "source": [
    "`` So I got an error, but this time a different one `` \n",
    "\n",
    "`` TypeError: iter() returned non-iterator of type 'str' ``"
   ]
  },
  {
   "cell_type": "code",
   "execution_count": 39,
   "id": "5de63496",
   "metadata": {},
   "outputs": [
    {
     "name": "stdout",
     "output_type": "stream",
     "text": [
      "\n",
      "Welcome to Python 3.9's help utility!\n",
      "\n",
      "If this is your first time using Python, you should definitely check out\n",
      "the tutorial on the Internet at https://docs.python.org/3.9/tutorial/.\n",
      "\n",
      "Enter the name of any module, keyword, or topic to get help on writing\n",
      "Python programs and using Python modules.  To quit this help utility and\n",
      "return to the interpreter, just type \"quit\".\n",
      "\n",
      "To get a list of available modules, keywords, symbols, or topics, type\n",
      "\"modules\", \"keywords\", \"symbols\", or \"topics\".  Each module also comes\n",
      "with a one-line summary of what it does; to list the modules whose name\n",
      "or summary contain a given string such as \"spam\", type \"modules spam\".\n",
      "\n",
      "help> iter\n",
      "Help on built-in function iter in module builtins:\n",
      "\n",
      "iter(...)\n",
      "    iter(iterable) -> iterator\n",
      "    iter(callable, sentinel) -> iterator\n",
      "    \n",
      "    Get an iterator from an object.  In the first form, the argument must\n",
      "    supply its own iterator, or be a sequence.\n",
      "    In the second form, the callable is called until it returns the sentinel.\n",
      "\n",
      "help> q\n",
      "\n",
      "You are now leaving help and returning to the Python interpreter.\n",
      "If you want to ask for help on a particular object directly from the\n",
      "interpreter, you can type \"help(object)\".  Executing \"help('string')\"\n",
      "has the same effect as typing a particular string at the help> prompt.\n"
     ]
    }
   ],
   "source": [
    "help()"
   ]
  },
  {
   "cell_type": "code",
   "execution_count": 40,
   "id": "6f2ec69b",
   "metadata": {},
   "outputs": [],
   "source": [
    "class FriendList:\n",
    "    \n",
    "    def __init__(self):\n",
    "        self.friends = [' Rahul','UJjwal','Shweta','Sanjay', 'Rao','Aaksh and party']\n",
    "        self.index = 0 \n",
    "        print('Object Initialized')\n",
    "        \n",
    "    def __len__(self):\n",
    "        return len(self.friends)\n",
    "    \n",
    "    def __next__(self):\n",
    "        if self.index >= len(self.friends):\n",
    "            raise StopIteration('End readched')\n",
    "        else:\n",
    "            # I know that here I need to give back the friend\n",
    "            friend = self.friends[self.index]\n",
    "            # Than will increment the index of the instance. so will use self\n",
    "            self.index = self.index + 1\n",
    "            # Finally I will return a friend\n",
    "            return friend\n",
    "        \n",
    "    def __repr__(self):\n",
    "        return 'FriendList({})'.format('My Friend List')\n",
    "    \n",
    "    def __iter__(self):\n",
    "        return self"
   ]
  },
  {
   "cell_type": "code",
   "execution_count": 41,
   "id": "d9061ca5",
   "metadata": {},
   "outputs": [
    {
     "name": "stdout",
     "output_type": "stream",
     "text": [
      "Object Initialized\n"
     ]
    }
   ],
   "source": [
    "f = FriendList()"
   ]
  },
  {
   "cell_type": "code",
   "execution_count": 42,
   "id": "bb51b0d4",
   "metadata": {},
   "outputs": [
    {
     "name": "stdout",
     "output_type": "stream",
     "text": [
      " Rahul\n",
      "UJjwal\n",
      "Shweta\n",
      "Sanjay\n",
      "Rao\n",
      "Aaksh and party\n"
     ]
    }
   ],
   "source": [
    "for i in f:\n",
    "    print(i)"
   ]
  },
  {
   "cell_type": "markdown",
   "id": "81b8778d",
   "metadata": {},
   "source": [
    "# Now our object has become an iterable "
   ]
  },
  {
   "cell_type": "markdown",
   "id": "8c463c55",
   "metadata": {},
   "source": [
    "`` But things are still lacking . Remember about the private attribute notation ``"
   ]
  },
  {
   "cell_type": "code",
   "execution_count": 43,
   "id": "9125c22e",
   "metadata": {},
   "outputs": [],
   "source": [
    "class FriendList:\n",
    "    \n",
    "    def __init__(self):\n",
    "        self._friends = [' Rahul','UJjwal','Shweta','Sanjay', 'Rao','Aaksh and party']\n",
    "        self.index = 0 \n",
    "        print('Object Initialized')\n",
    "        \n",
    "    def __len__(self):\n",
    "        return len(self._friends)\n",
    "    \n",
    "    def __next__(self):\n",
    "        if self.index >= len(self._friends):\n",
    "            raise StopIteration('End readched')\n",
    "        else:\n",
    "            # I know that here I need to give back the friend\n",
    "            friend = self._friends[self.index]\n",
    "            # Than will increment the index of the instance. so will use self\n",
    "            self.index = self.index + 1\n",
    "            # Finally I will return a friend\n",
    "            return friend\n",
    "        \n",
    "    def __repr__(self):\n",
    "        return 'FriendList({})'.format('My Friend List')\n",
    "    \n",
    "    def __iter__(self):\n",
    "        return self"
   ]
  },
  {
   "cell_type": "markdown",
   "id": "ad01880b",
   "metadata": {},
   "source": [
    "# Testing now "
   ]
  },
  {
   "cell_type": "code",
   "execution_count": 45,
   "id": "d2541834",
   "metadata": {},
   "outputs": [
    {
     "name": "stdout",
     "output_type": "stream",
     "text": [
      "Object Initialized\n"
     ]
    }
   ],
   "source": [
    "friends = FriendList()"
   ]
  },
  {
   "cell_type": "code",
   "execution_count": 46,
   "id": "b913c815",
   "metadata": {},
   "outputs": [
    {
     "name": "stdout",
     "output_type": "stream",
     "text": [
      " Hey  Rahul\n",
      " Hey UJjwal\n",
      " Hey Shweta\n",
      " Hey Sanjay\n",
      " Hey Rao\n",
      " Hey Aaksh and party\n"
     ]
    }
   ],
   "source": [
    "for friend in friends:\n",
    "    print(' Hey {}'.format(friend))"
   ]
  },
  {
   "cell_type": "code",
   "execution_count": 47,
   "id": "4d9e7373",
   "metadata": {},
   "outputs": [
    {
     "name": "stdout",
     "output_type": "stream",
     "text": [
      "Object Initialized\n",
      " Rahul\n",
      "UJjwal\n",
      "Shweta\n",
      "Sanjay\n",
      "Rao\n",
      "Aaksh and party\n"
     ]
    }
   ],
   "source": [
    "for val in FriendList():\n",
    "    print(val)"
   ]
  },
  {
   "cell_type": "markdown",
   "id": "50e1923f",
   "metadata": {},
   "source": [
    "`` Can we use enumerate() on our object ``"
   ]
  },
  {
   "cell_type": "code",
   "execution_count": 48,
   "id": "42276cd8",
   "metadata": {},
   "outputs": [
    {
     "name": "stdout",
     "output_type": "stream",
     "text": [
      "Object Initialized\n"
     ]
    },
    {
     "data": {
      "text/plain": [
       "<enumerate at 0x1f81adab8c0>"
      ]
     },
     "execution_count": 48,
     "metadata": {},
     "output_type": "execute_result"
    }
   ],
   "source": [
    "f = FriendList()\n",
    "enumerate(f)"
   ]
  },
  {
   "cell_type": "markdown",
   "id": "9405382a",
   "metadata": {},
   "source": [
    "`` I forgot ! Now what to do `` \n",
    "\n",
    "`` Try to see what enumerate is , and also try these too ``"
   ]
  },
  {
   "cell_type": "code",
   "execution_count": 49,
   "id": "79b4c823",
   "metadata": {},
   "outputs": [
    {
     "data": {
      "text/plain": [
       "enumerate"
      ]
     },
     "execution_count": 49,
     "metadata": {},
     "output_type": "execute_result"
    }
   ],
   "source": [
    "enumerate"
   ]
  },
  {
   "cell_type": "code",
   "execution_count": 50,
   "id": "f8ae8254",
   "metadata": {},
   "outputs": [
    {
     "data": {
      "text/plain": [
       "[(0, ' Rahul'),\n",
       " (1, 'UJjwal'),\n",
       " (2, 'Shweta'),\n",
       " (3, 'Sanjay'),\n",
       " (4, 'Rao'),\n",
       " (5, 'Aaksh and party')]"
      ]
     },
     "execution_count": 50,
     "metadata": {},
     "output_type": "execute_result"
    }
   ],
   "source": [
    "list(enumerate(f))"
   ]
  },
  {
   "cell_type": "code",
   "execution_count": null,
   "id": "634d32ad",
   "metadata": {},
   "outputs": [],
   "source": []
  }
 ],
 "metadata": {
  "kernelspec": {
   "display_name": "Python 3",
   "language": "python",
   "name": "python3"
  },
  "language_info": {
   "codemirror_mode": {
    "name": "ipython",
    "version": 3
   },
   "file_extension": ".py",
   "mimetype": "text/x-python",
   "name": "python",
   "nbconvert_exporter": "python",
   "pygments_lexer": "ipython3",
   "version": "3.9.6"
  }
 },
 "nbformat": 4,
 "nbformat_minor": 5
}
