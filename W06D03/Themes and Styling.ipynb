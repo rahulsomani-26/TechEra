{
 "cells": [
  {
   "cell_type": "code",
   "execution_count": 4,
   "id": "0a2f0aca",
   "metadata": {},
   "outputs": [
    {
     "name": "stdout",
     "output_type": "stream",
     "text": [
      "fdfdfd\n"
     ]
    }
   ],
   "source": [
    "import tkinter as tk\n",
    "from tkinter import ttk\n",
    "\n",
    "def mprint(*args):\n",
    "    print(name.get())\n",
    "    print(args)\n",
    "\n",
    "\n",
    "\n",
    "root = tk.Tk()\n",
    "root.resizable(False,False)\n",
    "root.title('About Themes')\n",
    "name = tk.StringVar()\n",
    "\n",
    "frame = ttk.Frame(root,padding=(30,20))\n",
    "frame.grid()\n",
    "\n",
    "nlabel = ttk.Label(frame,text=\"Name\")\n",
    "nlabel.grid(row=0,column=0,padx=(0,10))\n",
    "\n",
    "nentry = ttk.Entry(frame,width=15,textvariable=name)\n",
    "nentry.grid(row=0,column=1,padx=10)\n",
    "nentry.focus()\n",
    "\n",
    "btn = ttk.Button(frame,text=\"Click\",command=mprint)\n",
    "btn.grid(row=0,column=2,padx=10)\n",
    "\n",
    "root.mainloop()\n",
    "\n"
   ]
  },
  {
   "cell_type": "code",
   "execution_count": 5,
   "id": "04da9c65",
   "metadata": {},
   "outputs": [
    {
     "name": "stdout",
     "output_type": "stream",
     "text": [
      "('winnative', 'clam', 'alt', 'default', 'classic', 'vista', 'xpnative')\n"
     ]
    }
   ],
   "source": [
    "import tkinter as tk\n",
    "from tkinter import ttk\n",
    "\n",
    "def mprint(*args):\n",
    "    print(name.get())\n",
    "    print(args)\n",
    "\n",
    "\n",
    "\n",
    "root = tk.Tk()\n",
    "root.resizable(False,False)\n",
    "root.title('About Themes')\n",
    "name = tk.StringVar()\n",
    "\n",
    "\n",
    "style =ttk.Style(root)\n",
    "print(style.theme_names())\n",
    "frame = ttk.Frame(root,padding=(30,20))\n",
    "frame.grid()\n",
    "\n",
    "nlabel = ttk.Label(frame,text=\"Name\")\n",
    "nlabel.grid(row=0,column=0,padx=(0,10))\n",
    "\n",
    "nentry = ttk.Entry(frame,width=15,textvariable=name)\n",
    "nentry.grid(row=0,column=1,padx=10)\n",
    "nentry.focus()\n",
    "\n",
    "btn = ttk.Button(frame,text=\"Click\",command=mprint)\n",
    "btn.grid(row=0,column=2,padx=10)\n",
    "\n",
    "root.mainloop()\n",
    "\n"
   ]
  },
  {
   "cell_type": "code",
   "execution_count": 6,
   "id": "8dc5a7a8",
   "metadata": {},
   "outputs": [
    {
     "name": "stdout",
     "output_type": "stream",
     "text": [
      "['__class__', '__delattr__', '__dict__', '__dir__', '__doc__', '__eq__', '__format__', '__ge__', '__getattribute__', '__gt__', '__hash__', '__init__', '__init_subclass__', '__le__', '__lt__', '__module__', '__ne__', '__new__', '__reduce__', '__reduce_ex__', '__repr__', '__setattr__', '__sizeof__', '__str__', '__subclasshook__', '__weakref__', '_name', 'configure', 'element_create', 'element_names', 'element_options', 'layout', 'lookup', 'map', 'master', 'theme_create', 'theme_names', 'theme_settings', 'theme_use', 'tk']\n"
     ]
    }
   ],
   "source": [
    "print(dir(style))"
   ]
  },
  {
   "cell_type": "markdown",
   "id": "54e2c816",
   "metadata": {},
   "source": [
    "Which `style ?`"
   ]
  },
  {
   "cell_type": "code",
   "execution_count": 7,
   "id": "e395cb3e",
   "metadata": {},
   "outputs": [
    {
     "name": "stdout",
     "output_type": "stream",
     "text": [
      "Style = vista\n"
     ]
    }
   ],
   "source": [
    "import tkinter as tk\n",
    "from tkinter import ttk\n",
    "\n",
    "def mprint(*args):\n",
    "    print(name.get())\n",
    "    print(args)\n",
    "\n",
    "root = tk.Tk()\n",
    "root.resizable(False,False)\n",
    "root.title('About Themes')\n",
    "name = tk.StringVar()\n",
    "\n",
    "style =ttk.Style(root)\n",
    "print('Style = {}'.format(style.theme_use()))\n",
    "frame = ttk.Frame(root,padding=(30,20))\n",
    "frame.grid()\n",
    "\n",
    "nlabel = ttk.Label(frame,text=\"Name\")\n",
    "nlabel.grid(row=0,column=0,padx=(0,10))\n",
    "\n",
    "nentry = ttk.Entry(frame,width=15,textvariable=name)\n",
    "nentry.grid(row=0,column=1,padx=10)\n",
    "nentry.focus()\n",
    "\n",
    "btn = ttk.Button(frame,text=\"Click\",command=mprint)\n",
    "btn.grid(row=0,column=2,padx=10)\n",
    "\n",
    "root.mainloop()\n",
    "\n"
   ]
  },
  {
   "cell_type": "code",
   "execution_count": 8,
   "id": "dd419c3b",
   "metadata": {},
   "outputs": [
    {
     "name": "stdout",
     "output_type": "stream",
     "text": [
      "Help on method theme_settings in module tkinter.ttk:\n",
      "\n",
      "theme_settings(themename, settings) method of tkinter.ttk.Style instance\n",
      "    Temporarily sets the current theme to themename, apply specified\n",
      "    settings and then restore the previous theme.\n",
      "    \n",
      "    Each key in settings is a style and each value may contain the\n",
      "    keys 'configure', 'map', 'layout' and 'element create' and they\n",
      "    are expected to have the same format as specified by the methods\n",
      "    configure, map, layout and element_create respectively.\n",
      "\n"
     ]
    }
   ],
   "source": [
    "help(style.theme_settings)"
   ]
  },
  {
   "cell_type": "markdown",
   "id": "707b02be",
   "metadata": {},
   "source": [
    "Changing `theme`"
   ]
  },
  {
   "cell_type": "code",
   "execution_count": 20,
   "id": "f4231f05",
   "metadata": {},
   "outputs": [
    {
     "name": "stdout",
     "output_type": "stream",
     "text": [
      "Style = None\n",
      "TFrame\n"
     ]
    }
   ],
   "source": [
    "import tkinter as tk\n",
    "from tkinter import ttk\n",
    "\n",
    "def mprint(*args):\n",
    "    print(name.get())\n",
    "#     print(args)\n",
    "\n",
    "root = tk.Tk()\n",
    "root.resizable(False,False)\n",
    "root.title('About Themes')\n",
    "name = tk.StringVar()\n",
    "\n",
    "style =ttk.Style(root)\n",
    "print('Style = {}'.format(style.theme_use('clam')))\n",
    "frame = ttk.Frame(root,padding=(30,20))\n",
    "frame.grid()\n",
    "\n",
    "print(frame.winfo_class())\n",
    "\n",
    "nlabel = ttk.Label(frame,text=\"Name\")\n",
    "nlabel.grid(row=0,column=0,padx=(0,10))\n",
    "\n",
    "nentry = ttk.Entry(frame,width=15,textvariable=name)\n",
    "nentry.grid(row=0,column=1,padx=10)\n",
    "nentry.focus()\n",
    "\n",
    "btn = ttk.Button(frame,text=\"Click\",command=mprint)\n",
    "btn.grid(row=0,column=2,padx=10)\n",
    "\n",
    "root.mainloop()\n",
    "\n"
   ]
  },
  {
   "cell_type": "markdown",
   "id": "fb1b959b",
   "metadata": {},
   "source": [
    "Widget `style`"
   ]
  },
  {
   "cell_type": "code",
   "execution_count": 22,
   "id": "d495d3a7",
   "metadata": {},
   "outputs": [
    {
     "name": "stdout",
     "output_type": "stream",
     "text": [
      "Style = None\n",
      "[('Label.border', {'sticky': 'nswe', 'border': '1', 'children': [('Label.padding', {'sticky': 'nswe', 'border': '1', 'children': [('Label.label', {'sticky': 'nswe'})]})]})]\n"
     ]
    }
   ],
   "source": [
    "import tkinter as tk\n",
    "from tkinter import ttk\n",
    "\n",
    "def mprint(*args):\n",
    "    print(name.get())\n",
    "#     print(args)\n",
    "\n",
    "root = tk.Tk()\n",
    "root.resizable(False,False)\n",
    "root.title('About Themes')\n",
    "name = tk.StringVar()\n",
    "\n",
    "style =ttk.Style(root)\n",
    "print('Style = {}'.format(style.theme_use('clam')))\n",
    "frame = ttk.Frame(root,padding=(30,20))\n",
    "frame.grid()\n",
    "\n",
    "print(style.layout(\"TLabel\"))\n",
    "\n",
    "\n",
    "nlabel = ttk.Label(frame,text=\"Name\")\n",
    "nlabel.grid(row=0,column=0,padx=(0,10))\n",
    "\n",
    "nentry = ttk.Entry(frame,width=15,textvariable=name)\n",
    "nentry.grid(row=0,column=1,padx=10)\n",
    "nentry.focus()\n",
    "\n",
    "btn = ttk.Button(frame,text=\"Click\",command=mprint)\n",
    "btn.grid(row=0,column=2,padx=10)\n",
    "\n",
    "root.mainloop()\n",
    "\n"
   ]
  },
  {
   "cell_type": "code",
   "execution_count": 23,
   "id": "072a2a3c",
   "metadata": {},
   "outputs": [
    {
     "data": {
      "text/plain": [
       "<tkinter.ttk.Style at 0x1e07abc89d0>"
      ]
     },
     "execution_count": 23,
     "metadata": {},
     "output_type": "execute_result"
    }
   ],
   "source": [
    "style"
   ]
  },
  {
   "cell_type": "code",
   "execution_count": 26,
   "id": "a2631aa2",
   "metadata": {},
   "outputs": [
    {
     "data": {
      "text/plain": [
       "'Define the widget layout for given style. If layoutspec is\\n        omitted, return the layout specification for given style.\\n\\n        layoutspec is expected to be a list or an object different than\\n        None that evaluates to False if you want to \"turn off\" that style.\\n        If it is a list (or tuple, or something else), each item should be\\n        a tuple where the first item is the layout name and the second item\\n        should have the format described below:\\n\\n        LAYOUTS\\n\\n            A layout can contain the value None, if takes no options, or\\n            a dict of options specifying how to arrange the element.\\n            The layout mechanism uses a simplified version of the pack\\n            geometry manager: given an initial cavity, each element is\\n            allocated a parcel. Valid options/values are:\\n\\n                side: whichside\\n                    Specifies which side of the cavity to place the\\n                    element; one of top, right, bottom or left. If\\n                    omitted, the element occupies the entire cavity.\\n\\n                sticky: nswe\\n                    Specifies where the element is placed inside its\\n                    allocated parcel.\\n\\n                children: [sublayout... ]\\n                    Specifies a list of elements to place inside the\\n                    element. Each element is a tuple (or other sequence)\\n                    where the first item is the layout name, and the other\\n                    is a LAYOUT.'"
      ]
     },
     "execution_count": 26,
     "metadata": {},
     "output_type": "execute_result"
    }
   ],
   "source": [
    "style.layout.__doc__"
   ]
  },
  {
   "cell_type": "code",
   "execution_count": 27,
   "id": "ba120bb8",
   "metadata": {},
   "outputs": [
    {
     "name": "stdout",
     "output_type": "stream",
     "text": [
      "Help on method layout in module tkinter.ttk:\n",
      "\n",
      "layout(style, layoutspec=None) method of tkinter.ttk.Style instance\n",
      "    Define the widget layout for given style. If layoutspec is\n",
      "    omitted, return the layout specification for given style.\n",
      "    \n",
      "    layoutspec is expected to be a list or an object different than\n",
      "    None that evaluates to False if you want to \"turn off\" that style.\n",
      "    If it is a list (or tuple, or something else), each item should be\n",
      "    a tuple where the first item is the layout name and the second item\n",
      "    should have the format described below:\n",
      "    \n",
      "    LAYOUTS\n",
      "    \n",
      "        A layout can contain the value None, if takes no options, or\n",
      "        a dict of options specifying how to arrange the element.\n",
      "        The layout mechanism uses a simplified version of the pack\n",
      "        geometry manager: given an initial cavity, each element is\n",
      "        allocated a parcel. Valid options/values are:\n",
      "    \n",
      "            side: whichside\n",
      "                Specifies which side of the cavity to place the\n",
      "                element; one of top, right, bottom or left. If\n",
      "                omitted, the element occupies the entire cavity.\n",
      "    \n",
      "            sticky: nswe\n",
      "                Specifies where the element is placed inside its\n",
      "                allocated parcel.\n",
      "    \n",
      "            children: [sublayout... ]\n",
      "                Specifies a list of elements to place inside the\n",
      "                element. Each element is a tuple (or other sequence)\n",
      "                where the first item is the layout name, and the other\n",
      "                is a LAYOUT.\n",
      "\n"
     ]
    }
   ],
   "source": [
    "help(style.layout)"
   ]
  },
  {
   "cell_type": "code",
   "execution_count": 41,
   "id": "6ddeeb7c",
   "metadata": {},
   "outputs": [],
   "source": [
    "import tkinter as tk \n",
    "\n",
    "root = tk.Tk()\n",
    "myconf = {'background':'#ceeeee','width':500,'height':500}\n",
    "\n",
    "root.configure(cnf=myconf)\n",
    "\n",
    "frame = tk.Frame(root)\n",
    "frame.configure(cnf= {'background':'#bcaaaa','width':200,'height':200})\n",
    "frame.place(relx=0.1,rely=0.1)\n",
    "root.mainloop()\n",
    "\n",
    "\n",
    "\n",
    "\n"
   ]
  },
  {
   "cell_type": "code",
   "execution_count": 33,
   "id": "4bdf713f",
   "metadata": {},
   "outputs": [
    {
     "data": {
      "text/plain": [
       "<function tkinter.Misc.configure(self, cnf=None, **kw)>"
      ]
     },
     "execution_count": 33,
     "metadata": {},
     "output_type": "execute_result"
    }
   ],
   "source": [
    "tk.Frame.configure"
   ]
  },
  {
   "cell_type": "code",
   "execution_count": null,
   "id": "ee119895",
   "metadata": {},
   "outputs": [],
   "source": []
  }
 ],
 "metadata": {
  "kernelspec": {
   "display_name": "Python 3",
   "language": "python",
   "name": "python3"
  },
  "language_info": {
   "codemirror_mode": {
    "name": "ipython",
    "version": 3
   },
   "file_extension": ".py",
   "mimetype": "text/x-python",
   "name": "python",
   "nbconvert_exporter": "python",
   "pygments_lexer": "ipython3",
   "version": "3.9.6"
  }
 },
 "nbformat": 4,
 "nbformat_minor": 5
}
