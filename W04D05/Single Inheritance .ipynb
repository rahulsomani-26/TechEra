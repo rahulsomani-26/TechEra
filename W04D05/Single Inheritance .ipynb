{
 "cells": [
  {
   "cell_type": "markdown",
   "id": "e52a445e",
   "metadata": {},
   "source": [
    "# Inheritance \n",
    "\n",
    "`` Inheritance is a way by which we can create subclasses out of a parent class, without effecting the ``\n",
    "\n",
    "`` functionality of the base class `` \n",
    "\n",
    "`` Terms used : Base class, Derived class ``\n"
   ]
  },
  {
   "cell_type": "code",
   "execution_count": 10,
   "id": "69cace78",
   "metadata": {},
   "outputs": [],
   "source": [
    "class A:\n",
    "    testval = 10.23\n",
    "    def func_A(self):\n",
    "        print('In {}'.format(self.__class__.__name__))\n",
    "    \n",
    "class B(A):\n",
    "    def func_B(self):\n",
    "        print('In {}'.format(self.__class__.__name__))\n",
    "        \n",
    "        "
   ]
  },
  {
   "cell_type": "code",
   "execution_count": 11,
   "id": "ace8099f",
   "metadata": {},
   "outputs": [
    {
     "data": {
      "text/plain": [
       "(__main__.A, __main__.B)"
      ]
     },
     "execution_count": 11,
     "metadata": {},
     "output_type": "execute_result"
    }
   ],
   "source": [
    "A,B"
   ]
  },
  {
   "cell_type": "code",
   "execution_count": 12,
   "id": "d9bc13ce",
   "metadata": {},
   "outputs": [],
   "source": [
    "a= A()\n",
    "b =B()"
   ]
  },
  {
   "cell_type": "code",
   "execution_count": 13,
   "id": "c703c9f9",
   "metadata": {},
   "outputs": [
    {
     "data": {
      "text/plain": [
       "True"
      ]
     },
     "execution_count": 13,
     "metadata": {},
     "output_type": "execute_result"
    }
   ],
   "source": [
    "issubclass(B,A)"
   ]
  },
  {
   "cell_type": "code",
   "execution_count": 14,
   "id": "c7f310e6",
   "metadata": {},
   "outputs": [
    {
     "data": {
      "text/plain": [
       "mappingproxy({'__module__': '__main__',\n",
       "              'testval': 10.23,\n",
       "              'func_A': <function __main__.A.func_A(self)>,\n",
       "              '__dict__': <attribute '__dict__' of 'A' objects>,\n",
       "              '__weakref__': <attribute '__weakref__' of 'A' objects>,\n",
       "              '__doc__': None})"
      ]
     },
     "execution_count": 14,
     "metadata": {},
     "output_type": "execute_result"
    }
   ],
   "source": [
    "A.__dict__"
   ]
  },
  {
   "cell_type": "code",
   "execution_count": 8,
   "id": "6178dfa1",
   "metadata": {},
   "outputs": [
    {
     "data": {
      "text/plain": [
       "mappingproxy({'__module__': '__main__',\n",
       "              'func_B': <function __main__.B.func_B(self)>,\n",
       "              '__doc__': None})"
      ]
     },
     "execution_count": 8,
     "metadata": {},
     "output_type": "execute_result"
    }
   ],
   "source": [
    "B.__dict__"
   ]
  },
  {
   "cell_type": "code",
   "execution_count": 15,
   "id": "fd27a355",
   "metadata": {},
   "outputs": [
    {
     "name": "stdout",
     "output_type": "stream",
     "text": [
      "In A\n"
     ]
    }
   ],
   "source": [
    "a.func_A()"
   ]
  },
  {
   "cell_type": "code",
   "execution_count": 17,
   "id": "3af3c155",
   "metadata": {},
   "outputs": [
    {
     "data": {
      "text/plain": [
       "{}"
      ]
     },
     "execution_count": 17,
     "metadata": {},
     "output_type": "execute_result"
    }
   ],
   "source": [
    "b.__dict__"
   ]
  },
  {
   "cell_type": "code",
   "execution_count": 18,
   "id": "b93c83e2",
   "metadata": {},
   "outputs": [
    {
     "name": "stdout",
     "output_type": "stream",
     "text": [
      "In B\n"
     ]
    }
   ],
   "source": [
    "b.func_A()"
   ]
  },
  {
   "cell_type": "code",
   "execution_count": 19,
   "id": "171e0fbf",
   "metadata": {},
   "outputs": [
    {
     "data": {
      "text/plain": [
       "<bound method B.func_B of <__main__.B object at 0x0000018C05FEABE0>>"
      ]
     },
     "execution_count": 19,
     "metadata": {},
     "output_type": "execute_result"
    }
   ],
   "source": [
    "b.func_B"
   ]
  },
  {
   "cell_type": "code",
   "execution_count": 20,
   "id": "2668da71",
   "metadata": {},
   "outputs": [
    {
     "data": {
      "text/plain": [
       "'0x18c05feabe0'"
      ]
     },
     "execution_count": 20,
     "metadata": {},
     "output_type": "execute_result"
    }
   ],
   "source": [
    "hex(id(b))"
   ]
  },
  {
   "cell_type": "code",
   "execution_count": 21,
   "id": "6272829a",
   "metadata": {},
   "outputs": [
    {
     "name": "stdout",
     "output_type": "stream",
     "text": [
      "In B\n"
     ]
    }
   ],
   "source": [
    "b.func_B()"
   ]
  },
  {
   "cell_type": "markdown",
   "id": "b60ee831",
   "metadata": {},
   "source": [
    "`` create 4 classes, without any attribute or functionality and then try to see the relationship ``"
   ]
  },
  {
   "cell_type": "code",
   "execution_count": 28,
   "id": "5ca53268",
   "metadata": {},
   "outputs": [],
   "source": [
    "class Shape:\n",
    "    pass\n",
    "\n",
    "class Ellipse(Shape):\n",
    "    pass\n",
    "\n",
    "class Circle(Ellipse):\n",
    "    pass\n",
    "\n",
    "class Polygon(Shape):\n",
    "    pass\n",
    "\n",
    "class Rectangle(Polygon):\n",
    "    pass\n",
    "\n",
    "class Square(Polygon):\n",
    "    pass"
   ]
  },
  {
   "cell_type": "code",
   "execution_count": 24,
   "id": "8442b6ad",
   "metadata": {},
   "outputs": [
    {
     "data": {
      "text/plain": [
       "False"
      ]
     },
     "execution_count": 24,
     "metadata": {},
     "output_type": "execute_result"
    }
   ],
   "source": [
    "issubclass(Square,Rectangle)"
   ]
  },
  {
   "cell_type": "code",
   "execution_count": 25,
   "id": "19c7ac7d",
   "metadata": {},
   "outputs": [
    {
     "data": {
      "text/plain": [
       "True"
      ]
     },
     "execution_count": 25,
     "metadata": {},
     "output_type": "execute_result"
    }
   ],
   "source": [
    "issubclass(Square,object)"
   ]
  },
  {
   "cell_type": "code",
   "execution_count": 26,
   "id": "3555bb22",
   "metadata": {},
   "outputs": [
    {
     "data": {
      "text/plain": [
       "True"
      ]
     },
     "execution_count": 26,
     "metadata": {},
     "output_type": "execute_result"
    }
   ],
   "source": [
    "issubclass(int,object)"
   ]
  },
  {
   "cell_type": "code",
   "execution_count": 30,
   "id": "8515d6bb",
   "metadata": {},
   "outputs": [],
   "source": [
    "s=Shape()\n",
    "e = Ellipse()\n",
    "r = Rectangle()\n",
    "sq = Square()\n",
    "c = Circle()"
   ]
  },
  {
   "cell_type": "code",
   "execution_count": 31,
   "id": "87a21255",
   "metadata": {},
   "outputs": [
    {
     "ename": "TypeError",
     "evalue": "issubclass() arg 1 must be a class",
     "output_type": "error",
     "traceback": [
      "\u001b[1;31m---------------------------------------------------------------------------\u001b[0m",
      "\u001b[1;31mTypeError\u001b[0m                                 Traceback (most recent call last)",
      "\u001b[1;32m<ipython-input-31-e20bebf59460>\u001b[0m in \u001b[0;36m<module>\u001b[1;34m\u001b[0m\n\u001b[1;32m----> 1\u001b[1;33m \u001b[0missubclass\u001b[0m\u001b[1;33m(\u001b[0m\u001b[0me\u001b[0m\u001b[1;33m,\u001b[0m\u001b[0ms\u001b[0m\u001b[1;33m)\u001b[0m\u001b[1;33m\u001b[0m\u001b[1;33m\u001b[0m\u001b[0m\n\u001b[0m",
      "\u001b[1;31mTypeError\u001b[0m: issubclass() arg 1 must be a class"
     ]
    }
   ],
   "source": [
    "issubclass(e,s)"
   ]
  },
  {
   "cell_type": "code",
   "execution_count": 32,
   "id": "99eb6c40",
   "metadata": {},
   "outputs": [
    {
     "ename": "TypeError",
     "evalue": "issubclass() arg 2 must be a class or tuple of classes",
     "output_type": "error",
     "traceback": [
      "\u001b[1;31m---------------------------------------------------------------------------\u001b[0m",
      "\u001b[1;31mTypeError\u001b[0m                                 Traceback (most recent call last)",
      "\u001b[1;32m<ipython-input-32-281ac68acab4>\u001b[0m in \u001b[0;36m<module>\u001b[1;34m\u001b[0m\n\u001b[1;32m----> 1\u001b[1;33m \u001b[0missubclass\u001b[0m\u001b[1;33m(\u001b[0m\u001b[0mEllipse\u001b[0m\u001b[1;33m,\u001b[0m\u001b[0ms\u001b[0m\u001b[1;33m)\u001b[0m\u001b[1;33m\u001b[0m\u001b[1;33m\u001b[0m\u001b[0m\n\u001b[0m",
      "\u001b[1;31mTypeError\u001b[0m: issubclass() arg 2 must be a class or tuple of classes"
     ]
    }
   ],
   "source": [
    "issubclass(Ellipse,s)"
   ]
  },
  {
   "cell_type": "code",
   "execution_count": 34,
   "id": "d7df44af",
   "metadata": {},
   "outputs": [
    {
     "data": {
      "text/plain": [
       "True"
      ]
     },
     "execution_count": 34,
     "metadata": {},
     "output_type": "execute_result"
    }
   ],
   "source": [
    "isinstance(e,Shape)"
   ]
  },
  {
   "cell_type": "markdown",
   "id": "36d7c3fa",
   "metadata": {},
   "source": [
    "`` A working example ``"
   ]
  },
  {
   "cell_type": "code",
   "execution_count": 64,
   "id": "5b73da83",
   "metadata": {},
   "outputs": [],
   "source": [
    "class Vehicle(object):\n",
    "    \n",
    "    def accelerate(self):\n",
    "        print('Accelerating')\n",
    "    \n",
    "    def apply_brake(self):\n",
    "        print(\"Brakes applied \")\n",
    "        \n",
    "    def steer_wheel(self):\n",
    "        print(\"Steered the wheel\")\n",
    "        \n",
    "    \n",
    "class Car(Vehicle):\n",
    "    brand = 'Jaguar'\n",
    "    color = 'Black'\n",
    "    def get_details(self):\n",
    "        print(' Brand = {} and color = {}'.format(self.brand,self.color))\n",
    "        \n",
    "class Motorbike(Vehicle):\n",
    "    pass\n"
   ]
  },
  {
   "cell_type": "code",
   "execution_count": 65,
   "id": "cf814b4b",
   "metadata": {},
   "outputs": [],
   "source": [
    "v = Vehicle()"
   ]
  },
  {
   "cell_type": "code",
   "execution_count": 66,
   "id": "eacf5455",
   "metadata": {},
   "outputs": [],
   "source": [
    "c = Car()\n"
   ]
  },
  {
   "cell_type": "code",
   "execution_count": 67,
   "id": "401f915b",
   "metadata": {},
   "outputs": [
    {
     "data": {
      "text/plain": [
       "mappingproxy({'__module__': '__main__',\n",
       "              'brand': 'Jaguar',\n",
       "              'color': 'Black',\n",
       "              'get_details': <function __main__.Car.get_details(self)>,\n",
       "              '__doc__': None})"
      ]
     },
     "execution_count": 67,
     "metadata": {},
     "output_type": "execute_result"
    }
   ],
   "source": [
    "Car.__dict__"
   ]
  },
  {
   "cell_type": "code",
   "execution_count": 68,
   "id": "dbbbd932",
   "metadata": {},
   "outputs": [
    {
     "data": {
      "text/plain": [
       "mappingproxy({'__module__': '__main__',\n",
       "              'accelerate': <function __main__.Vehicle.accelerate(self)>,\n",
       "              'apply_brake': <function __main__.Vehicle.apply_brake(self)>,\n",
       "              'steer_wheel': <function __main__.Vehicle.steer_wheel(self)>,\n",
       "              '__dict__': <attribute '__dict__' of 'Vehicle' objects>,\n",
       "              '__weakref__': <attribute '__weakref__' of 'Vehicle' objects>,\n",
       "              '__doc__': None})"
      ]
     },
     "execution_count": 68,
     "metadata": {},
     "output_type": "execute_result"
    }
   ],
   "source": [
    "Vehicle.__dict__"
   ]
  },
  {
   "cell_type": "code",
   "execution_count": 69,
   "id": "66a9e686",
   "metadata": {},
   "outputs": [
    {
     "name": "stdout",
     "output_type": "stream",
     "text": [
      " Brand = Jaguar and color = Black\n"
     ]
    }
   ],
   "source": [
    "c.get_details()"
   ]
  },
  {
   "cell_type": "code",
   "execution_count": 70,
   "id": "8a1f3aef",
   "metadata": {},
   "outputs": [
    {
     "name": "stdout",
     "output_type": "stream",
     "text": [
      "Brakes applied \n"
     ]
    }
   ],
   "source": [
    "c.apply_brake()"
   ]
  },
  {
   "cell_type": "code",
   "execution_count": 49,
   "id": "9ae9735b",
   "metadata": {},
   "outputs": [
    {
     "name": "stdout",
     "output_type": "stream",
     "text": [
      "Steered the wheel\n"
     ]
    }
   ],
   "source": [
    "c.steer_wheel()"
   ]
  },
  {
   "cell_type": "code",
   "execution_count": 50,
   "id": "c9f5dbcd",
   "metadata": {},
   "outputs": [
    {
     "name": "stdout",
     "output_type": "stream",
     "text": [
      "Accelerating\n"
     ]
    }
   ],
   "source": [
    "c.accelerate()"
   ]
  },
  {
   "cell_type": "code",
   "execution_count": null,
   "id": "a56969fc",
   "metadata": {},
   "outputs": [],
   "source": []
  }
 ],
 "metadata": {
  "kernelspec": {
   "display_name": "Python 3",
   "language": "python",
   "name": "python3"
  },
  "language_info": {
   "codemirror_mode": {
    "name": "ipython",
    "version": 3
   },
   "file_extension": ".py",
   "mimetype": "text/x-python",
   "name": "python",
   "nbconvert_exporter": "python",
   "pygments_lexer": "ipython3",
   "version": "3.9.6"
  }
 },
 "nbformat": 4,
 "nbformat_minor": 5
}
