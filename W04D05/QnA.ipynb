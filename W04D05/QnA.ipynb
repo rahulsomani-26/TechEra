{
 "cells": [
  {
   "cell_type": "markdown",
   "id": "21418969",
   "metadata": {},
   "source": [
    "# Question and Answers "
   ]
  },
  {
   "cell_type": "markdown",
   "id": "1d3c04dc",
   "metadata": {},
   "source": [
    "`` write a class that takes an int/float as its argument and return ``\n",
    "\n",
    "`` us the average ``"
   ]
  },
  {
   "cell_type": "code",
   "execution_count": 15,
   "id": "5aa2a907",
   "metadata": {},
   "outputs": [],
   "source": [
    "class Averager:\n",
    "    \"\"\"An sequential average calculater\n",
    "       Usage:\n",
    "       >>> a = Averager(10)\n",
    "       >>> a.add(20)\n",
    "       >>> ______________________\n",
    "       >>> a.add(30)\n",
    "       >>>_______________________\n",
    "    \"\"\"\n",
    "    def __init__(self):\n",
    "        # your logic\n",
    "            pass\n",
    "        \n",
    "    def add(self,val):\n",
    "        # your logic\n",
    "            pass\n",
    "        "
   ]
  },
  {
   "cell_type": "code",
   "execution_count": 16,
   "id": "d6e029bc",
   "metadata": {},
   "outputs": [
    {
     "name": "stdout",
     "output_type": "stream",
     "text": [
      "Help on class Averager in module __main__:\n",
      "\n",
      "class Averager(builtins.object)\n",
      " |  Averager(val)\n",
      " |  \n",
      " |  An sequential average calculater\n",
      " |  Usage:\n",
      " |  >>> a = Averager(10)\n",
      " |  >>> a.add(20)\n",
      " |  >>> ______________________\n",
      " |  >>> a.add(30)\n",
      " |  >>>_______________________\n",
      " |  \n",
      " |  Methods defined here:\n",
      " |  \n",
      " |  __init__(self, val)\n",
      " |      Initialize self.  See help(type(self)) for accurate signature.\n",
      " |  \n",
      " |  add(self, val)\n",
      " |  \n",
      " |  ----------------------------------------------------------------------\n",
      " |  Data descriptors defined here:\n",
      " |  \n",
      " |  __dict__\n",
      " |      dictionary for instance variables (if defined)\n",
      " |  \n",
      " |  __weakref__\n",
      " |      list of weak references to the object (if defined)\n",
      "\n"
     ]
    }
   ],
   "source": [
    "help(Averager)"
   ]
  },
  {
   "cell_type": "code",
   "execution_count": 17,
   "id": "72c541d8",
   "metadata": {},
   "outputs": [
    {
     "data": {
      "text/plain": [
       "'An sequential average calculater\\n       Usage:\\n       >>> a = Averager(10)\\n       >>> a.add(20)\\n       >>> ______________________\\n       >>> a.add(30)\\n       >>>_______________________\\n    '"
      ]
     },
     "execution_count": 17,
     "metadata": {},
     "output_type": "execute_result"
    }
   ],
   "source": [
    "Averager.__doc__"
   ]
  },
  {
   "cell_type": "code",
   "execution_count": 20,
   "id": "baf038b0",
   "metadata": {},
   "outputs": [
    {
     "data": {
      "text/plain": [
       "['An sequential average calculater',\n",
       " '       Usage:',\n",
       " '       >>> a = Averager(10)',\n",
       " '       >>> a.add(20)',\n",
       " '       >>> ______________________',\n",
       " '       >>> a.add(30)',\n",
       " '       >>>_______________________',\n",
       " '    ']"
      ]
     },
     "execution_count": 20,
     "metadata": {},
     "output_type": "execute_result"
    }
   ],
   "source": [
    "Averager.__doc__.split('\\n')"
   ]
  },
  {
   "cell_type": "code",
   "execution_count": 21,
   "id": "1fcb16d0",
   "metadata": {},
   "outputs": [],
   "source": [
    "class Averager:\n",
    "    \"\"\"An sequential average calculater\n",
    "       Usage:\n",
    "       >>> a = Averager(10)\n",
    "       >>> a.add(20)\n",
    "       >>> ______________________\n",
    "       >>> a.add(30)\n",
    "       >>>_______________________\n",
    "    \"\"\"\n",
    "    def __init__(self):\n",
    "        self._numbers = []\n",
    "            \n",
    "        \n",
    "    def add(self,val):\n",
    "        self._numbers.append(val)\n",
    "        total = sum(self._numbers)\n",
    "        length =len(self._numbers)\n",
    "        return total/length\n",
    "        \n",
    "        "
   ]
  },
  {
   "cell_type": "code",
   "execution_count": 22,
   "id": "19645e13",
   "metadata": {},
   "outputs": [],
   "source": [
    "a = Averager()"
   ]
  },
  {
   "cell_type": "code",
   "execution_count": 23,
   "id": "a32d3b4d",
   "metadata": {},
   "outputs": [
    {
     "data": {
      "text/plain": [
       "(1537587498528, __main__.Averager, True)"
      ]
     },
     "execution_count": 23,
     "metadata": {},
     "output_type": "execute_result"
    }
   ],
   "source": [
    "id(a), type(a), isinstance(a,Averager)"
   ]
  },
  {
   "cell_type": "code",
   "execution_count": 24,
   "id": "fc08ae2c",
   "metadata": {},
   "outputs": [
    {
     "data": {
      "text/plain": [
       "{'_numbers': []}"
      ]
     },
     "execution_count": 24,
     "metadata": {},
     "output_type": "execute_result"
    }
   ],
   "source": [
    "a.__dict__"
   ]
  },
  {
   "cell_type": "code",
   "execution_count": 25,
   "id": "eb38d2c6",
   "metadata": {},
   "outputs": [
    {
     "data": {
      "text/plain": [
       "10.0"
      ]
     },
     "execution_count": 25,
     "metadata": {},
     "output_type": "execute_result"
    }
   ],
   "source": [
    "a.add(10)"
   ]
  },
  {
   "cell_type": "code",
   "execution_count": 26,
   "id": "4791057a",
   "metadata": {},
   "outputs": [
    {
     "data": {
      "text/plain": [
       "15.0"
      ]
     },
     "execution_count": 26,
     "metadata": {},
     "output_type": "execute_result"
    }
   ],
   "source": [
    "a.add(20)"
   ]
  },
  {
   "cell_type": "code",
   "execution_count": 27,
   "id": "4bc5bfef",
   "metadata": {},
   "outputs": [
    {
     "data": {
      "text/plain": [
       "[10, 20]"
      ]
     },
     "execution_count": 27,
     "metadata": {},
     "output_type": "execute_result"
    }
   ],
   "source": [
    "a._numbers"
   ]
  },
  {
   "cell_type": "code",
   "execution_count": 28,
   "id": "994f33ba",
   "metadata": {},
   "outputs": [
    {
     "data": {
      "text/plain": [
       "33.333333333333336"
      ]
     },
     "execution_count": 28,
     "metadata": {},
     "output_type": "execute_result"
    }
   ],
   "source": [
    "a.add(70)"
   ]
  },
  {
   "cell_type": "code",
   "execution_count": 29,
   "id": "c6dab048",
   "metadata": {},
   "outputs": [
    {
     "data": {
      "text/plain": [
       "[10, 20, 70]"
      ]
     },
     "execution_count": 29,
     "metadata": {},
     "output_type": "execute_result"
    }
   ],
   "source": [
    "a._numbers"
   ]
  },
  {
   "cell_type": "markdown",
   "id": "57a8b01d",
   "metadata": {},
   "source": [
    "# Function Implementation "
   ]
  },
  {
   "cell_type": "code",
   "execution_count": 30,
   "id": "dd21009f",
   "metadata": {},
   "outputs": [],
   "source": [
    "student_list = []\n",
    "def averager(num):\n",
    "    student_list.append(num)\n",
    "    return sum(student_list)/len(student_list)\n"
   ]
  },
  {
   "cell_type": "code",
   "execution_count": 31,
   "id": "674c41da",
   "metadata": {},
   "outputs": [
    {
     "data": {
      "text/plain": [
       "[]"
      ]
     },
     "execution_count": 31,
     "metadata": {},
     "output_type": "execute_result"
    }
   ],
   "source": [
    "student_list"
   ]
  },
  {
   "cell_type": "code",
   "execution_count": 32,
   "id": "0bea8cfd",
   "metadata": {},
   "outputs": [
    {
     "data": {
      "text/plain": [
       "10.0"
      ]
     },
     "execution_count": 32,
     "metadata": {},
     "output_type": "execute_result"
    }
   ],
   "source": [
    "averager(10)"
   ]
  },
  {
   "cell_type": "code",
   "execution_count": 33,
   "id": "433dff75",
   "metadata": {},
   "outputs": [
    {
     "data": {
      "text/plain": [
       "[10]"
      ]
     },
     "execution_count": 33,
     "metadata": {},
     "output_type": "execute_result"
    }
   ],
   "source": [
    "student_list"
   ]
  },
  {
   "cell_type": "code",
   "execution_count": 34,
   "id": "c11e2c2b",
   "metadata": {},
   "outputs": [
    {
     "data": {
      "text/plain": [
       "15.0"
      ]
     },
     "execution_count": 34,
     "metadata": {},
     "output_type": "execute_result"
    }
   ],
   "source": [
    "averager(20)"
   ]
  },
  {
   "cell_type": "code",
   "execution_count": 35,
   "id": "e516e69e",
   "metadata": {},
   "outputs": [
    {
     "data": {
      "text/plain": [
       "[10, 20]"
      ]
     },
     "execution_count": 35,
     "metadata": {},
     "output_type": "execute_result"
    }
   ],
   "source": [
    "student_list"
   ]
  },
  {
   "cell_type": "markdown",
   "id": "f120a1d2",
   "metadata": {},
   "source": [
    "# Class Implementation "
   ]
  },
  {
   "cell_type": "code",
   "execution_count": 37,
   "id": "0c46e070",
   "metadata": {},
   "outputs": [],
   "source": [
    "class Averager:\n",
    "    \n",
    "    def __init__(self):\n",
    "        self._numbers = []\n",
    "        \n",
    "    def __call__(self,val):\n",
    "        self._numbers.append(val)\n",
    "        total = sum(self._numbers)\n",
    "        length =len(self._numbers)\n",
    "        return total/length\n",
    "        \n",
    "        "
   ]
  },
  {
   "cell_type": "code",
   "execution_count": 38,
   "id": "7ab44b1f",
   "metadata": {},
   "outputs": [],
   "source": [
    "a = Averager()"
   ]
  },
  {
   "cell_type": "code",
   "execution_count": 39,
   "id": "7a9596b7",
   "metadata": {},
   "outputs": [
    {
     "data": {
      "text/plain": [
       "True"
      ]
     },
     "execution_count": 39,
     "metadata": {},
     "output_type": "execute_result"
    }
   ],
   "source": [
    "callable(a)"
   ]
  },
  {
   "cell_type": "code",
   "execution_count": 40,
   "id": "d5afb61c",
   "metadata": {},
   "outputs": [
    {
     "data": {
      "text/plain": [
       "10.0"
      ]
     },
     "execution_count": 40,
     "metadata": {},
     "output_type": "execute_result"
    }
   ],
   "source": [
    "a(10)"
   ]
  },
  {
   "cell_type": "code",
   "execution_count": 41,
   "id": "77b4144a",
   "metadata": {},
   "outputs": [
    {
     "data": {
      "text/plain": [
       "15.0"
      ]
     },
     "execution_count": 41,
     "metadata": {},
     "output_type": "execute_result"
    }
   ],
   "source": [
    "a(20)"
   ]
  },
  {
   "cell_type": "code",
   "execution_count": 42,
   "id": "7e0eb333",
   "metadata": {},
   "outputs": [
    {
     "data": {
      "text/plain": [
       "20.0"
      ]
     },
     "execution_count": 42,
     "metadata": {},
     "output_type": "execute_result"
    }
   ],
   "source": [
    "a(30)"
   ]
  },
  {
   "cell_type": "markdown",
   "id": "678a7f9a",
   "metadata": {},
   "source": [
    "`` Problem Statement 2 ``\n",
    "\n",
    "`` Can you think about the basic things required for a sequence type. ``\n",
    "\n",
    "`` Can you think about how python gives us the next element of the sequence ``\n",
    "\n",
    "`` Try to implement a class that creates your custom sequence ``"
   ]
  },
  {
   "cell_type": "markdown",
   "id": "6ff189aa",
   "metadata": {},
   "source": [
    "`` IMPORTANT: Rewrite the averager using nested function ``"
   ]
  },
  {
   "cell_type": "markdown",
   "id": "1ef6357b",
   "metadata": {},
   "source": [
    "# Nested Function "
   ]
  },
  {
   "cell_type": "code",
   "execution_count": 46,
   "id": "c4e8cd16",
   "metadata": {},
   "outputs": [],
   "source": [
    "def averager():\n",
    "    numbers = []\n",
    "    def add(number):\n",
    "        numbers.append(number)\n",
    "        return sum(numbers)/len(numbers)\n",
    "    return add\n",
    "        "
   ]
  },
  {
   "cell_type": "code",
   "execution_count": 47,
   "id": "6fb20aaa",
   "metadata": {},
   "outputs": [
    {
     "data": {
      "text/plain": [
       "<function __main__.averager()>"
      ]
     },
     "execution_count": 47,
     "metadata": {},
     "output_type": "execute_result"
    }
   ],
   "source": [
    "averager"
   ]
  },
  {
   "cell_type": "code",
   "execution_count": 48,
   "id": "9a130136",
   "metadata": {},
   "outputs": [
    {
     "data": {
      "text/plain": [
       "<function __main__.averager.<locals>.add(number)>"
      ]
     },
     "execution_count": 48,
     "metadata": {},
     "output_type": "execute_result"
    }
   ],
   "source": [
    "averager()"
   ]
  },
  {
   "cell_type": "code",
   "execution_count": 49,
   "id": "83eb4b8b",
   "metadata": {},
   "outputs": [],
   "source": [
    "a = averager()"
   ]
  },
  {
   "cell_type": "code",
   "execution_count": 50,
   "id": "167dbef3",
   "metadata": {},
   "outputs": [
    {
     "data": {
      "text/plain": [
       "10.0"
      ]
     },
     "execution_count": 50,
     "metadata": {},
     "output_type": "execute_result"
    }
   ],
   "source": [
    "a(10)"
   ]
  },
  {
   "cell_type": "code",
   "execution_count": 51,
   "id": "82e62cf3",
   "metadata": {},
   "outputs": [
    {
     "data": {
      "text/plain": [
       "15.0"
      ]
     },
     "execution_count": 51,
     "metadata": {},
     "output_type": "execute_result"
    }
   ],
   "source": [
    "a(20)"
   ]
  },
  {
   "cell_type": "code",
   "execution_count": 52,
   "id": "eb5fa704",
   "metadata": {},
   "outputs": [
    {
     "data": {
      "text/plain": [
       "20.0"
      ]
     },
     "execution_count": 52,
     "metadata": {},
     "output_type": "execute_result"
    }
   ],
   "source": [
    "a(30)"
   ]
  },
  {
   "cell_type": "markdown",
   "id": "2f9018d5",
   "metadata": {},
   "source": [
    "# Aaksh Implementation"
   ]
  },
  {
   "cell_type": "code",
   "execution_count": 64,
   "id": "5c3cc4a4",
   "metadata": {},
   "outputs": [],
   "source": [
    "l=[]\n",
    "def main_fun(func,*num):\n",
    "    print(f'The content of the list l = {l} ')\n",
    "    print('The type I am going to append in the list l = {}'.format(type(num)))\n",
    "    l.extend([*num])\n",
    "    print(f'The content of the list l = {l} ')\n",
    "    average=sum(l)/len(l)\n",
    "    print('The current average = {}'.format(average))\n",
    "     "
   ]
  },
  {
   "cell_type": "code",
   "execution_count": 62,
   "id": "bf3ce49d",
   "metadata": {},
   "outputs": [
    {
     "name": "stdout",
     "output_type": "stream",
     "text": [
      "The content of the list l = [] \n",
      "The type I am going to append in the list l = <class 'tuple'>\n",
      "The content of the list l = [1, 2, 3, 4] \n",
      "The current average = 2.5\n"
     ]
    }
   ],
   "source": [
    "main_fun(\"rahul\",1,2,3,4)"
   ]
  },
  {
   "cell_type": "code",
   "execution_count": 68,
   "id": "39a1a578",
   "metadata": {},
   "outputs": [],
   "source": [
    "l=[]\n",
    "\n",
    "def func():\n",
    "    print(\"hello world\")\n",
    "\n",
    "def main_fun(func,*num):\n",
    "    print(f'The content of the list l = {l} ')\n",
    "    print('The type I am going to append in the list l = {}'.format(type(num)))\n",
    "    l.extend([*num])\n",
    "    print(f'The content of the list l = {l} ')\n",
    "    average=sum(l)/len(l)\n",
    "    print('The current average = {}'.format(average))\n",
    "    \n",
    "\n",
    "  "
   ]
  },
  {
   "cell_type": "code",
   "execution_count": 70,
   "id": "11936278",
   "metadata": {},
   "outputs": [
    {
     "name": "stdout",
     "output_type": "stream",
     "text": [
      "The content of the list l = [2] \n",
      "The type I am going to append in the list l = <class 'tuple'>\n",
      "The content of the list l = [2, 12, 2] \n",
      "The current average = 5.333333333333333\n"
     ]
    }
   ],
   "source": [
    "main_fun(func,12,2)"
   ]
  },
  {
   "cell_type": "code",
   "execution_count": 71,
   "id": "99eb779a",
   "metadata": {},
   "outputs": [],
   "source": [
    "l=[]\n",
    "\n",
    "def func():\n",
    "    print(\"hello world\")\n",
    "\n",
    "def main_fun(func,*num):\n",
    "    print(f'The content of the list l = {l} ')\n",
    "    print('The type I am going to append in the list l = {}'.format(type(num)))\n",
    "    l.extend([*num])\n",
    "    print(f'The content of the list l = {l} ')\n",
    "    average=sum(l)/len(l)\n",
    "    print('The current average = {}'.format(average))\n",
    "    func()\n",
    "\n",
    "  "
   ]
  },
  {
   "cell_type": "code",
   "execution_count": 72,
   "id": "3880b084",
   "metadata": {},
   "outputs": [
    {
     "name": "stdout",
     "output_type": "stream",
     "text": [
      "The content of the list l = [] \n",
      "The type I am going to append in the list l = <class 'tuple'>\n",
      "The content of the list l = [1, 2, 3, 4] \n",
      "The current average = 2.5\n",
      "hello world\n"
     ]
    }
   ],
   "source": [
    "main_fun(func,1,2,3,4)"
   ]
  },
  {
   "cell_type": "markdown",
   "id": "4fa5e8d3",
   "metadata": {},
   "source": [
    "# A brief introduction to closures "
   ]
  },
  {
   "cell_type": "code",
   "execution_count": null,
   "id": "ea71fa43",
   "metadata": {},
   "outputs": [],
   "source": []
  },
  {
   "cell_type": "code",
   "execution_count": 73,
   "id": "0e3be506",
   "metadata": {},
   "outputs": [],
   "source": [
    "def averager():\n",
    "    numbers = []\n",
    "    def add(number):\n",
    "        numbers.append(number)\n",
    "        return sum(numbers)/len(numbers)\n",
    "    return add\n"
   ]
  },
  {
   "cell_type": "code",
   "execution_count": 74,
   "id": "581f2fe3",
   "metadata": {},
   "outputs": [],
   "source": [
    "a = averager()"
   ]
  },
  {
   "cell_type": "code",
   "execution_count": 75,
   "id": "e522802c",
   "metadata": {},
   "outputs": [
    {
     "data": {
      "text/plain": [
       "(function, function, 1537588574672, 1537588576112)"
      ]
     },
     "execution_count": 75,
     "metadata": {},
     "output_type": "execute_result"
    }
   ],
   "source": [
    "type(a), type(averager), id(a),id(averager)"
   ]
  },
  {
   "cell_type": "code",
   "execution_count": 76,
   "id": "1e391a16",
   "metadata": {},
   "outputs": [
    {
     "data": {
      "text/plain": [
       "10.0"
      ]
     },
     "execution_count": 76,
     "metadata": {},
     "output_type": "execute_result"
    }
   ],
   "source": [
    "a(10)"
   ]
  },
  {
   "cell_type": "code",
   "execution_count": 77,
   "id": "ef1953c9",
   "metadata": {},
   "outputs": [
    {
     "data": {
      "text/plain": [
       "(<cell at 0x00000165FF5FF6D0: list object at 0x00000165FF5F6B80>,)"
      ]
     },
     "execution_count": 77,
     "metadata": {},
     "output_type": "execute_result"
    }
   ],
   "source": [
    "a.__closure__"
   ]
  },
  {
   "cell_type": "code",
   "execution_count": 80,
   "id": "5f5a3c4d",
   "metadata": {},
   "outputs": [
    {
     "name": "stdout",
     "output_type": "stream",
     "text": [
      "['__class__', '__delattr__', '__dir__', '__doc__', '__eq__', '__format__', '__ge__', '__getattribute__', '__gt__', '__hash__', '__init__', '__init_subclass__', '__le__', '__lt__', '__ne__', '__new__', '__reduce__', '__reduce_ex__', '__repr__', '__setattr__', '__sizeof__', '__str__', '__subclasshook__', 'co_argcount', 'co_cellvars', 'co_code', 'co_consts', 'co_filename', 'co_firstlineno', 'co_flags', 'co_freevars', 'co_kwonlyargcount', 'co_lnotab', 'co_name', 'co_names', 'co_nlocals', 'co_posonlyargcount', 'co_stacksize', 'co_varnames', 'replace']\n"
     ]
    }
   ],
   "source": [
    "print(dir(a.__code__))"
   ]
  },
  {
   "cell_type": "code",
   "execution_count": 81,
   "id": "f0f65980",
   "metadata": {},
   "outputs": [
    {
     "data": {
      "text/plain": [
       "('append', 'sum', 'len')"
      ]
     },
     "execution_count": 81,
     "metadata": {},
     "output_type": "execute_result"
    }
   ],
   "source": [
    "a.__code__.co_names"
   ]
  },
  {
   "cell_type": "code",
   "execution_count": 82,
   "id": "1d517899",
   "metadata": {},
   "outputs": [
    {
     "data": {
      "text/plain": [
       "'add'"
      ]
     },
     "execution_count": 82,
     "metadata": {},
     "output_type": "execute_result"
    }
   ],
   "source": [
    "a.__code__.co_name"
   ]
  },
  {
   "cell_type": "code",
   "execution_count": 84,
   "id": "71340b7e",
   "metadata": {},
   "outputs": [
    {
     "data": {
      "text/plain": [
       "('numbers',)"
      ]
     },
     "execution_count": 84,
     "metadata": {},
     "output_type": "execute_result"
    }
   ],
   "source": [
    "a.__code__.co_freevars"
   ]
  },
  {
   "cell_type": "code",
   "execution_count": 85,
   "id": "9b6755bd",
   "metadata": {},
   "outputs": [
    {
     "data": {
      "text/plain": [
       "b'\\x88\\x00\\xa0\\x00|\\x00\\xa1\\x01\\x01\\x00t\\x01\\x88\\x00\\x83\\x01t\\x02\\x88\\x00\\x83\\x01\\x1b\\x00S\\x00'"
      ]
     },
     "execution_count": 85,
     "metadata": {},
     "output_type": "execute_result"
    }
   ],
   "source": [
    "a.__code__.co_code"
   ]
  },
  {
   "cell_type": "code",
   "execution_count": null,
   "id": "2b59e484",
   "metadata": {},
   "outputs": [],
   "source": []
  }
 ],
 "metadata": {
  "kernelspec": {
   "display_name": "Python 3",
   "language": "python",
   "name": "python3"
  },
  "language_info": {
   "codemirror_mode": {
    "name": "ipython",
    "version": 3
   },
   "file_extension": ".py",
   "mimetype": "text/x-python",
   "name": "python",
   "nbconvert_exporter": "python",
   "pygments_lexer": "ipython3",
   "version": "3.9.6"
  }
 },
 "nbformat": 4,
 "nbformat_minor": 5
}
