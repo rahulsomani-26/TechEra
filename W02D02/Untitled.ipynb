{
 "cells": [
  {
   "cell_type": "markdown",
   "id": "0d63c40f",
   "metadata": {},
   "source": [
    "# Tuples \n",
    "`` Tuple is a container\n",
    "   Used as a data structure ( so as list )\n",
    "   Normally used to store data of similar types ``"
   ]
  },
  {
   "cell_type": "markdown",
   "id": "8da32020",
   "metadata": {},
   "source": [
    "``Syntax: \n",
    "    1. var_name = tuple()  ----> Factory Method \n",
    "    2. var_name = (1,2,3)\n",
    "    3. empty_tuple = tuple()\n",
    "    ``"
   ]
  },
  {
   "cell_type": "code",
   "execution_count": 2,
   "id": "af8c5730",
   "metadata": {},
   "outputs": [],
   "source": [
    "ages = (10,20,22,30,36,89)\n",
    "names = ('rahul','ujjwal')\n",
    "# nothing = (,)\n"
   ]
  },
  {
   "cell_type": "code",
   "execution_count": 5,
   "id": "b6c3a08a",
   "metadata": {},
   "outputs": [
    {
     "data": {
      "text/plain": [
       "((10, 20, 22, 30, 36, 89), ('rahul', 'ujjwal'))"
      ]
     },
     "execution_count": 5,
     "metadata": {},
     "output_type": "execute_result"
    }
   ],
   "source": [
    "ages, names "
   ]
  },
  {
   "cell_type": "code",
   "execution_count": 6,
   "id": "70aa062b",
   "metadata": {},
   "outputs": [],
   "source": [
    "l = []"
   ]
  },
  {
   "cell_type": "code",
   "execution_count": 7,
   "id": "f4299fee",
   "metadata": {},
   "outputs": [
    {
     "data": {
      "text/plain": [
       "list"
      ]
     },
     "execution_count": 7,
     "metadata": {},
     "output_type": "execute_result"
    }
   ],
   "source": [
    "type(l)"
   ]
  },
  {
   "cell_type": "code",
   "execution_count": 10,
   "id": "d79c877b",
   "metadata": {},
   "outputs": [],
   "source": [
    "t1 = (1,2,3,4)"
   ]
  },
  {
   "cell_type": "code",
   "execution_count": 11,
   "id": "fe020281",
   "metadata": {},
   "outputs": [
    {
     "data": {
      "text/plain": [
       "tuple"
      ]
     },
     "execution_count": 11,
     "metadata": {},
     "output_type": "execute_result"
    }
   ],
   "source": [
    "type(t1)"
   ]
  },
  {
   "cell_type": "code",
   "execution_count": 12,
   "id": "4f083239",
   "metadata": {},
   "outputs": [],
   "source": [
    "t2 = 1,2,3,4"
   ]
  },
  {
   "cell_type": "code",
   "execution_count": 13,
   "id": "dc15dfa4",
   "metadata": {},
   "outputs": [
    {
     "data": {
      "text/plain": [
       "tuple"
      ]
     },
     "execution_count": 13,
     "metadata": {},
     "output_type": "execute_result"
    }
   ],
   "source": [
    "type(t2)"
   ]
  },
  {
   "cell_type": "code",
   "execution_count": 14,
   "id": "774285dd",
   "metadata": {},
   "outputs": [],
   "source": [
    "t3 = tuple()"
   ]
  },
  {
   "cell_type": "code",
   "execution_count": 15,
   "id": "f5b82d5f",
   "metadata": {},
   "outputs": [
    {
     "data": {
      "text/plain": [
       "()"
      ]
     },
     "execution_count": 15,
     "metadata": {},
     "output_type": "execute_result"
    }
   ],
   "source": [
    "t3"
   ]
  },
  {
   "cell_type": "code",
   "execution_count": 16,
   "id": "43d3bae2",
   "metadata": {},
   "outputs": [
    {
     "data": {
      "text/plain": [
       "tuple"
      ]
     },
     "execution_count": 16,
     "metadata": {},
     "output_type": "execute_result"
    }
   ],
   "source": [
    "type(t3)"
   ]
  },
  {
   "cell_type": "code",
   "execution_count": 17,
   "id": "c6348c1d",
   "metadata": {},
   "outputs": [
    {
     "ename": "SyntaxError",
     "evalue": "invalid syntax (<ipython-input-17-5785d79b36e0>, line 1)",
     "output_type": "error",
     "traceback": [
      "\u001b[1;36m  File \u001b[1;32m\"<ipython-input-17-5785d79b36e0>\"\u001b[1;36m, line \u001b[1;32m1\u001b[0m\n\u001b[1;33m    t4 = ,\u001b[0m\n\u001b[1;37m         ^\u001b[0m\n\u001b[1;31mSyntaxError\u001b[0m\u001b[1;31m:\u001b[0m invalid syntax\n"
     ]
    }
   ],
   "source": [
    "t4 = ,"
   ]
  },
  {
   "cell_type": "code",
   "execution_count": 18,
   "id": "2fe99a92",
   "metadata": {},
   "outputs": [
    {
     "name": "stdout",
     "output_type": "stream",
     "text": [
      "Help on class tuple in module builtins:\n",
      "\n",
      "class tuple(object)\n",
      " |  tuple(iterable=(), /)\n",
      " |  \n",
      " |  Built-in immutable sequence.\n",
      " |  \n",
      " |  If no argument is given, the constructor returns an empty tuple.\n",
      " |  If iterable is specified the tuple is initialized from iterable's items.\n",
      " |  \n",
      " |  If the argument is a tuple, the return value is the same object.\n",
      " |  \n",
      " |  Built-in subclasses:\n",
      " |      asyncgen_hooks\n",
      " |      UnraisableHookArgs\n",
      " |  \n",
      " |  Methods defined here:\n",
      " |  \n",
      " |  __add__(self, value, /)\n",
      " |      Return self+value.\n",
      " |  \n",
      " |  __contains__(self, key, /)\n",
      " |      Return key in self.\n",
      " |  \n",
      " |  __eq__(self, value, /)\n",
      " |      Return self==value.\n",
      " |  \n",
      " |  __ge__(self, value, /)\n",
      " |      Return self>=value.\n",
      " |  \n",
      " |  __getattribute__(self, name, /)\n",
      " |      Return getattr(self, name).\n",
      " |  \n",
      " |  __getitem__(self, key, /)\n",
      " |      Return self[key].\n",
      " |  \n",
      " |  __getnewargs__(self, /)\n",
      " |  \n",
      " |  __gt__(self, value, /)\n",
      " |      Return self>value.\n",
      " |  \n",
      " |  __hash__(self, /)\n",
      " |      Return hash(self).\n",
      " |  \n",
      " |  __iter__(self, /)\n",
      " |      Implement iter(self).\n",
      " |  \n",
      " |  __le__(self, value, /)\n",
      " |      Return self<=value.\n",
      " |  \n",
      " |  __len__(self, /)\n",
      " |      Return len(self).\n",
      " |  \n",
      " |  __lt__(self, value, /)\n",
      " |      Return self<value.\n",
      " |  \n",
      " |  __mul__(self, value, /)\n",
      " |      Return self*value.\n",
      " |  \n",
      " |  __ne__(self, value, /)\n",
      " |      Return self!=value.\n",
      " |  \n",
      " |  __repr__(self, /)\n",
      " |      Return repr(self).\n",
      " |  \n",
      " |  __rmul__(self, value, /)\n",
      " |      Return value*self.\n",
      " |  \n",
      " |  count(self, value, /)\n",
      " |      Return number of occurrences of value.\n",
      " |  \n",
      " |  index(self, value, start=0, stop=9223372036854775807, /)\n",
      " |      Return first index of value.\n",
      " |      \n",
      " |      Raises ValueError if the value is not present.\n",
      " |  \n",
      " |  ----------------------------------------------------------------------\n",
      " |  Class methods defined here:\n",
      " |  \n",
      " |  __class_getitem__(...) from builtins.type\n",
      " |      See PEP 585\n",
      " |  \n",
      " |  ----------------------------------------------------------------------\n",
      " |  Static methods defined here:\n",
      " |  \n",
      " |  __new__(*args, **kwargs) from builtins.type\n",
      " |      Create and return a new object.  See help(type) for accurate signature.\n",
      "\n"
     ]
    }
   ],
   "source": [
    "help(tuple)"
   ]
  },
  {
   "cell_type": "code",
   "execution_count": 19,
   "id": "d529b7cc",
   "metadata": {},
   "outputs": [],
   "source": [
    "t = 100,200,300,400,500"
   ]
  },
  {
   "cell_type": "code",
   "execution_count": 20,
   "id": "79932b90",
   "metadata": {},
   "outputs": [],
   "source": [
    "# Indexing in tuple  is possible ??????\n"
   ]
  },
  {
   "cell_type": "code",
   "execution_count": 21,
   "id": "f005327f",
   "metadata": {},
   "outputs": [
    {
     "data": {
      "text/plain": [
       "300"
      ]
     },
     "execution_count": 21,
     "metadata": {},
     "output_type": "execute_result"
    }
   ],
   "source": [
    "t[2]"
   ]
  },
  {
   "cell_type": "code",
   "execution_count": 24,
   "id": "e6a726b7",
   "metadata": {},
   "outputs": [
    {
     "ename": "TypeError",
     "evalue": "'tuple' object does not support item assignment",
     "output_type": "error",
     "traceback": [
      "\u001b[1;31m---------------------------------------------------------------------------\u001b[0m",
      "\u001b[1;31mTypeError\u001b[0m                                 Traceback (most recent call last)",
      "\u001b[1;32m<ipython-input-24-40ad3d3fb2e7>\u001b[0m in \u001b[0;36m<module>\u001b[1;34m\u001b[0m\n\u001b[1;32m----> 1\u001b[1;33m \u001b[0mt\u001b[0m\u001b[1;33m[\u001b[0m\u001b[1;36m2\u001b[0m\u001b[1;33m]\u001b[0m \u001b[1;33m=\u001b[0m \u001b[1;34m'rahul'\u001b[0m\u001b[1;33m,\u001b[0m\u001b[1;33m\u001b[0m\u001b[1;33m\u001b[0m\u001b[0m\n\u001b[0m",
      "\u001b[1;31mTypeError\u001b[0m: 'tuple' object does not support item assignment"
     ]
    }
   ],
   "source": [
    "t[2] = 'rahul',"
   ]
  },
  {
   "cell_type": "code",
   "execution_count": 23,
   "id": "0670a4e1",
   "metadata": {},
   "outputs": [
    {
     "data": {
      "text/plain": [
       "(100, 200, 300, 400, 500)"
      ]
     },
     "execution_count": 23,
     "metadata": {},
     "output_type": "execute_result"
    }
   ],
   "source": [
    "t"
   ]
  },
  {
   "cell_type": "code",
   "execution_count": 25,
   "id": "5feeafe0",
   "metadata": {},
   "outputs": [
    {
     "data": {
      "text/plain": [
       "2791255155712"
      ]
     },
     "execution_count": 25,
     "metadata": {},
     "output_type": "execute_result"
    }
   ],
   "source": [
    "id(t)"
   ]
  },
  {
   "cell_type": "code",
   "execution_count": 26,
   "id": "92c418a3",
   "metadata": {},
   "outputs": [],
   "source": [
    "# slicing a tuple "
   ]
  },
  {
   "cell_type": "code",
   "execution_count": 27,
   "id": "3746b162",
   "metadata": {},
   "outputs": [
    {
     "data": {
      "text/plain": [
       "(100, 200, 300)"
      ]
     },
     "execution_count": 27,
     "metadata": {},
     "output_type": "execute_result"
    }
   ],
   "source": [
    "t[:3]"
   ]
  },
  {
   "cell_type": "code",
   "execution_count": 30,
   "id": "bf33149b",
   "metadata": {},
   "outputs": [
    {
     "name": "stdout",
     "output_type": "stream",
     "text": [
      "['__add__', '__class__', '__class_getitem__', '__contains__', '__delattr__', '__dir__', '__doc__', '__eq__', '__format__', '__ge__', '__getattribute__', '__getitem__', '__getnewargs__', '__gt__', '__hash__', '__init__', '__init_subclass__', '__iter__', '__le__', '__len__', '__lt__', '__mul__', '__ne__', '__new__', '__reduce__', '__reduce_ex__', '__repr__', '__rmul__', '__setattr__', '__sizeof__', '__str__', '__subclasshook__', 'count', 'index']\n"
     ]
    }
   ],
   "source": [
    "print(dir(tuple))"
   ]
  },
  {
   "cell_type": "code",
   "execution_count": 31,
   "id": "cc25c4a9",
   "metadata": {},
   "outputs": [
    {
     "data": {
      "text/plain": [
       "(100, 200, 300, 400, 500)"
      ]
     },
     "execution_count": 31,
     "metadata": {},
     "output_type": "execute_result"
    }
   ],
   "source": [
    "t"
   ]
  },
  {
   "cell_type": "code",
   "execution_count": 32,
   "id": "23d734c6",
   "metadata": {},
   "outputs": [
    {
     "data": {
      "text/plain": [
       "100"
      ]
     },
     "execution_count": 32,
     "metadata": {},
     "output_type": "execute_result"
    }
   ],
   "source": [
    "t.__getitem__(0)"
   ]
  },
  {
   "cell_type": "code",
   "execution_count": 33,
   "id": "00569afe",
   "metadata": {},
   "outputs": [
    {
     "ename": "AttributeError",
     "evalue": "'tuple' object has no attribute '__setitem__'",
     "output_type": "error",
     "traceback": [
      "\u001b[1;31m---------------------------------------------------------------------------\u001b[0m",
      "\u001b[1;31mAttributeError\u001b[0m                            Traceback (most recent call last)",
      "\u001b[1;32m<ipython-input-33-f93ca73405fc>\u001b[0m in \u001b[0;36m<module>\u001b[1;34m\u001b[0m\n\u001b[1;32m----> 1\u001b[1;33m \u001b[0mt\u001b[0m\u001b[1;33m.\u001b[0m\u001b[0m__setitem__\u001b[0m\u001b[1;33m(\u001b[0m\u001b[1;36m0\u001b[0m\u001b[1;33m)\u001b[0m\u001b[1;33m\u001b[0m\u001b[1;33m\u001b[0m\u001b[0m\n\u001b[0m",
      "\u001b[1;31mAttributeError\u001b[0m: 'tuple' object has no attribute '__setitem__'"
     ]
    }
   ],
   "source": [
    "t.__setitem__(0)"
   ]
  },
  {
   "cell_type": "code",
   "execution_count": 34,
   "id": "5d2ce278",
   "metadata": {},
   "outputs": [
    {
     "data": {
      "text/plain": [
       "<function tuple.count(value, /)>"
      ]
     },
     "execution_count": 34,
     "metadata": {},
     "output_type": "execute_result"
    }
   ],
   "source": [
    "t.count"
   ]
  },
  {
   "cell_type": "code",
   "execution_count": 35,
   "id": "d51058e5",
   "metadata": {},
   "outputs": [
    {
     "name": "stdout",
     "output_type": "stream",
     "text": [
      "Help on built-in function count:\n",
      "\n",
      "count(value, /) method of builtins.tuple instance\n",
      "    Return number of occurrences of value.\n",
      "\n"
     ]
    }
   ],
   "source": [
    "help(t.count)"
   ]
  },
  {
   "cell_type": "code",
   "execution_count": 36,
   "id": "aa5d1a5f",
   "metadata": {},
   "outputs": [],
   "source": [
    "t = 100,200,100,200,1000,100,10,3"
   ]
  },
  {
   "cell_type": "code",
   "execution_count": 37,
   "id": "0182fe57",
   "metadata": {},
   "outputs": [
    {
     "data": {
      "text/plain": [
       "(100, 200, 100, 200, 1000, 100, 10, 3)"
      ]
     },
     "execution_count": 37,
     "metadata": {},
     "output_type": "execute_result"
    }
   ],
   "source": [
    "t"
   ]
  },
  {
   "cell_type": "code",
   "execution_count": 38,
   "id": "f518a124",
   "metadata": {},
   "outputs": [
    {
     "data": {
      "text/plain": [
       "2791228732240"
      ]
     },
     "execution_count": 38,
     "metadata": {},
     "output_type": "execute_result"
    }
   ],
   "source": [
    "id(t)"
   ]
  },
  {
   "cell_type": "code",
   "execution_count": 40,
   "id": "4d7cd108",
   "metadata": {},
   "outputs": [
    {
     "data": {
      "text/plain": [
       "(8, 8)"
      ]
     },
     "execution_count": 40,
     "metadata": {},
     "output_type": "execute_result"
    }
   ],
   "source": [
    "len(t), t.__len__()"
   ]
  },
  {
   "cell_type": "code",
   "execution_count": 41,
   "id": "1179e8ce",
   "metadata": {},
   "outputs": [
    {
     "data": {
      "text/plain": [
       "3"
      ]
     },
     "execution_count": 41,
     "metadata": {},
     "output_type": "execute_result"
    }
   ],
   "source": [
    "t.count(100)"
   ]
  },
  {
   "cell_type": "code",
   "execution_count": 42,
   "id": "4739a7b3",
   "metadata": {},
   "outputs": [
    {
     "data": {
      "text/plain": [
       "0"
      ]
     },
     "execution_count": 42,
     "metadata": {},
     "output_type": "execute_result"
    }
   ],
   "source": [
    "t.count(23)"
   ]
  },
  {
   "cell_type": "code",
   "execution_count": 43,
   "id": "71891d2c",
   "metadata": {},
   "outputs": [
    {
     "data": {
      "text/plain": [
       "8"
      ]
     },
     "execution_count": 43,
     "metadata": {},
     "output_type": "execute_result"
    }
   ],
   "source": [
    "len(t)"
   ]
  },
  {
   "cell_type": "code",
   "execution_count": 45,
   "id": "2c6d090f",
   "metadata": {},
   "outputs": [
    {
     "data": {
      "text/plain": [
       "\"Built-in immutable sequence.\\n\\nIf no argument is given, the constructor returns an empty tuple.\\nIf iterable is specified the tuple is initialized from iterable's items.\\n\\nIf the argument is a tuple, the return value is the same object.\""
      ]
     },
     "execution_count": 45,
     "metadata": {},
     "output_type": "execute_result"
    }
   ],
   "source": [
    "t.__doc__"
   ]
  },
  {
   "cell_type": "code",
   "execution_count": 46,
   "id": "8f65844c",
   "metadata": {},
   "outputs": [],
   "source": [
    "t5 = tuple(\"rahul\")"
   ]
  },
  {
   "cell_type": "code",
   "execution_count": 47,
   "id": "1392dddd",
   "metadata": {},
   "outputs": [
    {
     "data": {
      "text/plain": [
       "('r', 'a', 'h', 'u', 'l')"
      ]
     },
     "execution_count": 47,
     "metadata": {},
     "output_type": "execute_result"
    }
   ],
   "source": [
    "t5"
   ]
  },
  {
   "cell_type": "code",
   "execution_count": 48,
   "id": "c1e5ee6b",
   "metadata": {},
   "outputs": [],
   "source": [
    "t6 = tuple([1,2,3,4,5])"
   ]
  },
  {
   "cell_type": "code",
   "execution_count": 49,
   "id": "8dce3532",
   "metadata": {},
   "outputs": [
    {
     "data": {
      "text/plain": [
       "(1, 2, 3, 4, 5)"
      ]
     },
     "execution_count": 49,
     "metadata": {},
     "output_type": "execute_result"
    }
   ],
   "source": [
    "t6"
   ]
  },
  {
   "cell_type": "code",
   "execution_count": 50,
   "id": "fc54f179",
   "metadata": {},
   "outputs": [
    {
     "data": {
      "text/plain": [
       "(1, 2, 3, 4, 5)"
      ]
     },
     "execution_count": 50,
     "metadata": {},
     "output_type": "execute_result"
    }
   ],
   "source": [
    "l = [1,2,3,4,5]\n",
    "t7 = tuple(l)\n",
    "t7"
   ]
  },
  {
   "cell_type": "code",
   "execution_count": 51,
   "id": "12ff9e47",
   "metadata": {},
   "outputs": [
    {
     "data": {
      "text/plain": [
       "<method 'index' of 'tuple' objects>"
      ]
     },
     "execution_count": 51,
     "metadata": {},
     "output_type": "execute_result"
    }
   ],
   "source": [
    "tuple.index"
   ]
  },
  {
   "cell_type": "code",
   "execution_count": 52,
   "id": "2d1f3279",
   "metadata": {},
   "outputs": [
    {
     "name": "stdout",
     "output_type": "stream",
     "text": [
      "Help on method_descriptor:\n",
      "\n",
      "index(self, value, start=0, stop=9223372036854775807, /)\n",
      "    Return first index of value.\n",
      "    \n",
      "    Raises ValueError if the value is not present.\n",
      "\n"
     ]
    }
   ],
   "source": [
    "help(tuple.index)"
   ]
  },
  {
   "cell_type": "markdown",
   "id": "08459045",
   "metadata": {},
   "source": [
    "``index(self, value, start=0, stop=9223372036854775807, /)``"
   ]
  },
  {
   "cell_type": "code",
   "execution_count": 53,
   "id": "0e8612c6",
   "metadata": {},
   "outputs": [
    {
     "data": {
      "text/plain": [
       "(100, 200, 100, 200, 1000, 100, 10, 3)"
      ]
     },
     "execution_count": 53,
     "metadata": {},
     "output_type": "execute_result"
    }
   ],
   "source": [
    "t"
   ]
  },
  {
   "cell_type": "code",
   "execution_count": 54,
   "id": "7fdf65b6",
   "metadata": {},
   "outputs": [
    {
     "data": {
      "text/plain": [
       "7"
      ]
     },
     "execution_count": 54,
     "metadata": {},
     "output_type": "execute_result"
    }
   ],
   "source": [
    "t.index(3)"
   ]
  },
  {
   "cell_type": "code",
   "execution_count": 55,
   "id": "63640ec5",
   "metadata": {},
   "outputs": [],
   "source": [
    "t = 1,2,3,1,2,1"
   ]
  },
  {
   "cell_type": "code",
   "execution_count": 56,
   "id": "9b21402a",
   "metadata": {},
   "outputs": [
    {
     "data": {
      "text/plain": [
       "0"
      ]
     },
     "execution_count": 56,
     "metadata": {},
     "output_type": "execute_result"
    }
   ],
   "source": [
    "t.index(1)"
   ]
  },
  {
   "cell_type": "code",
   "execution_count": 59,
   "id": "c0fd391f",
   "metadata": {},
   "outputs": [
    {
     "data": {
      "text/plain": [
       "5"
      ]
     },
     "execution_count": 59,
     "metadata": {},
     "output_type": "execute_result"
    }
   ],
   "source": [
    "t.index(1,5)"
   ]
  },
  {
   "cell_type": "code",
   "execution_count": 60,
   "id": "77a0930e",
   "metadata": {},
   "outputs": [],
   "source": [
    "t = 1,2,3,4,5"
   ]
  },
  {
   "cell_type": "code",
   "execution_count": 62,
   "id": "d3fc54fe",
   "metadata": {},
   "outputs": [
    {
     "data": {
      "text/plain": [
       "(tuple, '0x289e3d4d860', (1, 2, 3, 4, 5))"
      ]
     },
     "execution_count": 62,
     "metadata": {},
     "output_type": "execute_result"
    }
   ],
   "source": [
    "type(t), hex(id(t)), t"
   ]
  },
  {
   "cell_type": "code",
   "execution_count": 64,
   "id": "14466f61",
   "metadata": {},
   "outputs": [
    {
     "data": {
      "text/plain": [
       "1"
      ]
     },
     "execution_count": 64,
     "metadata": {},
     "output_type": "execute_result"
    }
   ],
   "source": [
    "t.index(2)"
   ]
  },
  {
   "cell_type": "code",
   "execution_count": 65,
   "id": "b9ada338",
   "metadata": {},
   "outputs": [
    {
     "data": {
      "text/plain": [
       "2"
      ]
     },
     "execution_count": 65,
     "metadata": {},
     "output_type": "execute_result"
    }
   ],
   "source": [
    "t.index(3)"
   ]
  },
  {
   "cell_type": "code",
   "execution_count": 67,
   "id": "17a80306",
   "metadata": {},
   "outputs": [
    {
     "data": {
      "text/plain": [
       "True"
      ]
     },
     "execution_count": 67,
     "metadata": {},
     "output_type": "execute_result"
    }
   ],
   "source": [
    "'r' in 'rahul' # Memebership operator "
   ]
  },
  {
   "cell_type": "code",
   "execution_count": 70,
   "id": "97ca668b",
   "metadata": {},
   "outputs": [
    {
     "data": {
      "text/plain": [
       "True"
      ]
     },
     "execution_count": 70,
     "metadata": {},
     "output_type": "execute_result"
    }
   ],
   "source": [
    "l = [1,2,3,4,[1]]\n",
    "[1] in l"
   ]
  },
  {
   "cell_type": "code",
   "execution_count": 69,
   "id": "d6e71b9c",
   "metadata": {},
   "outputs": [
    {
     "data": {
      "text/plain": [
       "True"
      ]
     },
     "execution_count": 69,
     "metadata": {},
     "output_type": "execute_result"
    }
   ],
   "source": [
    "1 in l"
   ]
  },
  {
   "cell_type": "code",
   "execution_count": 71,
   "id": "b3ee27d9",
   "metadata": {},
   "outputs": [
    {
     "data": {
      "text/plain": [
       "True"
      ]
     },
     "execution_count": 71,
     "metadata": {},
     "output_type": "execute_result"
    }
   ],
   "source": [
    "t = 100,200,300,'rahul'\n",
    "100 in t"
   ]
  },
  {
   "cell_type": "code",
   "execution_count": 72,
   "id": "60546ffe",
   "metadata": {},
   "outputs": [
    {
     "data": {
      "text/plain": [
       "True"
      ]
     },
     "execution_count": 72,
     "metadata": {},
     "output_type": "execute_result"
    }
   ],
   "source": [
    "'rahul' in t"
   ]
  },
  {
   "cell_type": "code",
   "execution_count": 73,
   "id": "949dd498",
   "metadata": {},
   "outputs": [
    {
     "data": {
      "text/plain": [
       "False"
      ]
     },
     "execution_count": 73,
     "metadata": {},
     "output_type": "execute_result"
    }
   ],
   "source": [
    "202 in t"
   ]
  },
  {
   "cell_type": "code",
   "execution_count": 74,
   "id": "225bd19f",
   "metadata": {},
   "outputs": [],
   "source": [
    "import dis "
   ]
  },
  {
   "cell_type": "code",
   "execution_count": 75,
   "id": "b5a0f5c2",
   "metadata": {},
   "outputs": [
    {
     "data": {
      "text/plain": [
       "<function dis.dis(x=None, *, file=None, depth=None)>"
      ]
     },
     "execution_count": 75,
     "metadata": {},
     "output_type": "execute_result"
    }
   ],
   "source": [
    "dis.dis"
   ]
  },
  {
   "cell_type": "code",
   "execution_count": 76,
   "id": "0827ffe0",
   "metadata": {},
   "outputs": [],
   "source": [
    "from dis import dis"
   ]
  },
  {
   "cell_type": "code",
   "execution_count": 77,
   "id": "e17927d6",
   "metadata": {},
   "outputs": [
    {
     "data": {
      "text/plain": [
       "<function dis.dis(x=None, *, file=None, depth=None)>"
      ]
     },
     "execution_count": 77,
     "metadata": {},
     "output_type": "execute_result"
    }
   ],
   "source": [
    "dis"
   ]
  },
  {
   "cell_type": "code",
   "execution_count": 79,
   "id": "e7fdc1de",
   "metadata": {},
   "outputs": [
    {
     "name": "stdout",
     "output_type": "stream",
     "text": [
      "  1           0 BUILD_LIST               0\n",
      "              2 LOAD_CONST               0 ((1, 2, 3, 4))\n",
      "              4 LIST_EXTEND              1\n",
      "              6 RETURN_VALUE\n"
     ]
    }
   ],
   "source": [
    "dis(\"[1,2,3,4]\")"
   ]
  },
  {
   "cell_type": "code",
   "execution_count": 80,
   "id": "d5dfafa6",
   "metadata": {},
   "outputs": [
    {
     "name": "stdout",
     "output_type": "stream",
     "text": [
      "  1           0 LOAD_CONST               0 ((1, 2, 3, 4))\n",
      "              2 RETURN_VALUE\n"
     ]
    }
   ],
   "source": [
    "dis(\"(1,2,3,4)\")"
   ]
  },
  {
   "cell_type": "markdown",
   "id": "08145bb2",
   "metadata": {},
   "source": [
    "`` Ask the user to input name, age, and salary and \n",
    "   then add these data to a list ``"
   ]
  },
  {
   "cell_type": "code",
   "execution_count": 83,
   "id": "8b43406d",
   "metadata": {},
   "outputs": [
    {
     "name": "stdout",
     "output_type": "stream",
     "text": [
      " The content of the list initially = []\n",
      " The Inital address = 2791255329856\n",
      "Enter namerahul\n",
      "Enter age78\n",
      "Can I ask for your salary ?342\n",
      " The content of the list now = ['rahul', 78, 342]\n",
      " The Final address = 2791255329856\n"
     ]
    }
   ],
   "source": [
    "l = []\n",
    "print(\" The content of the list initially = {}\".format(l))\n",
    "print(' The Inital address = {}'.format(id(l)))\n",
    "name = input(\"Enter name\")\n",
    "age = int(input(\"Enter age\"))\n",
    "salary = int(input(\"Can I ask for your salary ?\"))\n",
    "\n",
    "l.append(name)\n",
    "l.append(age)\n",
    "l.append(salary)\n",
    "\n",
    "print(\" The content of the list now = {}\".format(l))\n",
    "print(' The Final address = {}'.format(id(l)))\n"
   ]
  },
  {
   "cell_type": "code",
   "execution_count": 85,
   "id": "cc399dac",
   "metadata": {},
   "outputs": [
    {
     "name": "stdout",
     "output_type": "stream",
     "text": [
      " The content of the list initially = []\n",
      " The Inital address = 2791255275200\n",
      "Enter namerahul\n",
      "Enter age3445\n",
      "Can I ask for your salary ?45\n",
      " The content of the list now = ['rahul', 3445, 45]\n",
      " The Final address = 2791255031552\n"
     ]
    }
   ],
   "source": [
    "l = []\n",
    "print(\" The content of the list initially = {}\".format(l))\n",
    "print(' The Inital address = {}'.format(id(l)))\n",
    "\n",
    "name = input(\"Enter name\")\n",
    "age = int(input(\"Enter age\"))\n",
    "salary = int(input(\"Can I ask for your salary ?\"))\n",
    "\n",
    "l = [name,age,salary]\n",
    "print(\" The content of the list now = {}\".format(l))\n",
    "print(' The Final address = {}'.format(id(l)))\n"
   ]
  },
  {
   "cell_type": "code",
   "execution_count": 88,
   "id": "13958a79",
   "metadata": {},
   "outputs": [
    {
     "data": {
      "text/plain": [
       "['__add__',\n",
       " '__class__',\n",
       " '__class_getitem__',\n",
       " '__contains__',\n",
       " '__delattr__',\n",
       " '__delitem__',\n",
       " '__dir__',\n",
       " '__doc__',\n",
       " '__eq__',\n",
       " '__format__',\n",
       " '__ge__',\n",
       " '__getattribute__',\n",
       " '__getitem__',\n",
       " '__gt__',\n",
       " '__hash__',\n",
       " '__iadd__',\n",
       " '__imul__',\n",
       " '__init__',\n",
       " '__init_subclass__',\n",
       " '__iter__',\n",
       " '__le__',\n",
       " '__len__',\n",
       " '__lt__',\n",
       " '__mul__',\n",
       " '__ne__',\n",
       " '__new__',\n",
       " '__reduce__',\n",
       " '__reduce_ex__',\n",
       " '__repr__',\n",
       " '__reversed__',\n",
       " '__rmul__',\n",
       " '__setattr__',\n",
       " '__setitem__',\n",
       " '__sizeof__',\n",
       " '__str__',\n",
       " '__subclasshook__',\n",
       " 'append',\n",
       " 'clear',\n",
       " 'copy',\n",
       " 'count',\n",
       " 'extend',\n",
       " 'index',\n",
       " 'insert',\n",
       " 'pop',\n",
       " 'remove',\n",
       " 'reverse',\n",
       " 'sort']"
      ]
     },
     "execution_count": 88,
     "metadata": {},
     "output_type": "execute_result"
    }
   ],
   "source": [
    "# list.__dir__([1,2])\n",
    "dir(list)"
   ]
  },
  {
   "cell_type": "code",
   "execution_count": 89,
   "id": "e6771e72",
   "metadata": {},
   "outputs": [
    {
     "data": {
      "text/plain": [
       "<method 'extend' of 'list' objects>"
      ]
     },
     "execution_count": 89,
     "metadata": {},
     "output_type": "execute_result"
    }
   ],
   "source": [
    "list.extend"
   ]
  },
  {
   "cell_type": "code",
   "execution_count": 90,
   "id": "988227d5",
   "metadata": {},
   "outputs": [
    {
     "name": "stdout",
     "output_type": "stream",
     "text": [
      "Help on method_descriptor:\n",
      "\n",
      "extend(self, iterable, /)\n",
      "    Extend list by appending elements from the iterable.\n",
      "\n"
     ]
    }
   ],
   "source": [
    "help(list.extend)"
   ]
  },
  {
   "cell_type": "markdown",
   "id": "cfe822ba",
   "metadata": {},
   "source": [
    "`` Signature:\n",
    "    extend(self, iterable, /) ``"
   ]
  },
  {
   "cell_type": "code",
   "execution_count": 102,
   "id": "ab65a28b",
   "metadata": {},
   "outputs": [
    {
     "name": "stdout",
     "output_type": "stream",
     "text": [
      "2791256186176\n",
      "2791256186176\n",
      "[1, 2, 3, [4, 5, 6]]\n",
      "-------------------------------------------End of Program-------------------------------------------\n"
     ]
    }
   ],
   "source": [
    "l = [1,2,3]\n",
    "print(id(l))\n",
    "l.append([4,5,6])\n",
    "print(id(l))\n",
    "print(l)\n",
    "print('End of Program'.center(100,'-'))"
   ]
  },
  {
   "cell_type": "code",
   "execution_count": 93,
   "id": "ca50f151",
   "metadata": {},
   "outputs": [],
   "source": [
    "l = [1,2,3]\n",
    "l.extend([4,5,6])"
   ]
  },
  {
   "cell_type": "code",
   "execution_count": 94,
   "id": "331c6aa0",
   "metadata": {},
   "outputs": [
    {
     "data": {
      "text/plain": [
       "[1, 2, 3, 4, 5, 6]"
      ]
     },
     "execution_count": 94,
     "metadata": {},
     "output_type": "execute_result"
    }
   ],
   "source": [
    "l"
   ]
  },
  {
   "cell_type": "code",
   "execution_count": 95,
   "id": "19998ced",
   "metadata": {},
   "outputs": [],
   "source": [
    "a = [100,'rahul',200]\n",
    "b = ['somani','gopal']"
   ]
  },
  {
   "cell_type": "code",
   "execution_count": 96,
   "id": "abca31b2",
   "metadata": {},
   "outputs": [],
   "source": [
    "a.append(b)"
   ]
  },
  {
   "cell_type": "code",
   "execution_count": 97,
   "id": "a80e300a",
   "metadata": {},
   "outputs": [
    {
     "data": {
      "text/plain": [
       "[100, 'rahul', 200, ['somani', 'gopal']]"
      ]
     },
     "execution_count": 97,
     "metadata": {},
     "output_type": "execute_result"
    }
   ],
   "source": [
    "a"
   ]
  },
  {
   "cell_type": "code",
   "execution_count": 100,
   "id": "b56b092c",
   "metadata": {},
   "outputs": [],
   "source": [
    "a = [100,'rahul',200]\n",
    "b = ['somani','gopal']\n",
    "a.extend(b)"
   ]
  },
  {
   "cell_type": "code",
   "execution_count": 101,
   "id": "8b15b6d6",
   "metadata": {},
   "outputs": [
    {
     "data": {
      "text/plain": [
       "[100, 'rahul', 200, 'somani', 'gopal']"
      ]
     },
     "execution_count": 101,
     "metadata": {},
     "output_type": "execute_result"
    }
   ],
   "source": [
    "a"
   ]
  },
  {
   "cell_type": "code",
   "execution_count": 103,
   "id": "7413bc6c",
   "metadata": {},
   "outputs": [
    {
     "data": {
      "text/plain": [
       "[1, 2, 3, 1, 2, 3, 1, 2, 3]"
      ]
     },
     "execution_count": 103,
     "metadata": {},
     "output_type": "execute_result"
    }
   ],
   "source": [
    "# Repeating \n",
    "[1,2,3] * 3"
   ]
  },
  {
   "cell_type": "code",
   "execution_count": 104,
   "id": "8059c608",
   "metadata": {},
   "outputs": [
    {
     "data": {
      "text/plain": [
       "<method-wrapper '__mul__' of list object at 0x00000289E3D4C080>"
      ]
     },
     "execution_count": 104,
     "metadata": {},
     "output_type": "execute_result"
    }
   ],
   "source": [
    "[1,2,3].__mul__"
   ]
  },
  {
   "cell_type": "code",
   "execution_count": 105,
   "id": "ae46f03d",
   "metadata": {},
   "outputs": [
    {
     "data": {
      "text/plain": [
       "[1, 2, 3, 1, 2, 3, 1, 2, 3]"
      ]
     },
     "execution_count": 105,
     "metadata": {},
     "output_type": "execute_result"
    }
   ],
   "source": [
    "[1,2,3].__mul__(3)"
   ]
  },
  {
   "cell_type": "code",
   "execution_count": 106,
   "id": "c3902cfc",
   "metadata": {},
   "outputs": [
    {
     "name": "stdout",
     "output_type": "stream",
     "text": [
      "Help on method-wrapper:\n",
      "\n",
      "__mul__ = <method-wrapper '__mul__' of list object>\n",
      "    Return self*value.\n",
      "\n"
     ]
    }
   ],
   "source": [
    "help([1,2,3].__mul__)"
   ]
  },
  {
   "cell_type": "code",
   "execution_count": 108,
   "id": "0658c152",
   "metadata": {},
   "outputs": [],
   "source": [
    "l=[100,200,'somani'].__mul__(10)"
   ]
  },
  {
   "cell_type": "code",
   "execution_count": 111,
   "id": "1756d770",
   "metadata": {},
   "outputs": [
    {
     "name": "stdout",
     "output_type": "stream",
     "text": [
      "30\n",
      "[100, 200, 'somani', 100, 200, 'somani', 100, 200, 'somani', 100, 200, 'somani', 100, 200, 'somani', 100, 200, 'somani', 100, 200, 'somani', 100, 200, 'somani', 100, 200, 'somani', 100, 200, 'somani']\n"
     ]
    }
   ],
   "source": [
    "print(len(l))\n",
    "print(l)"
   ]
  },
  {
   "cell_type": "code",
   "execution_count": 112,
   "id": "978f428d",
   "metadata": {},
   "outputs": [
    {
     "data": {
      "text/plain": [
       "<method 'insert' of 'list' objects>"
      ]
     },
     "execution_count": 112,
     "metadata": {},
     "output_type": "execute_result"
    }
   ],
   "source": [
    "list.insert"
   ]
  },
  {
   "cell_type": "code",
   "execution_count": 113,
   "id": "0c5f233b",
   "metadata": {},
   "outputs": [
    {
     "name": "stdout",
     "output_type": "stream",
     "text": [
      "Help on method_descriptor:\n",
      "\n",
      "insert(self, index, object, /)\n",
      "    Insert object before index.\n",
      "\n"
     ]
    }
   ],
   "source": [
    "help(list.insert)"
   ]
  },
  {
   "cell_type": "markdown",
   "id": "b34ec5f5",
   "metadata": {},
   "source": [
    "``insert(self, index, object, /)``"
   ]
  },
  {
   "cell_type": "code",
   "execution_count": 114,
   "id": "85be4e83",
   "metadata": {},
   "outputs": [
    {
     "data": {
      "text/plain": [
       "['a', 'p', 'p', 'l', 'e']"
      ]
     },
     "execution_count": 114,
     "metadata": {},
     "output_type": "execute_result"
    }
   ],
   "source": [
    "l = ['a','p','p','l','e']\n",
    "l"
   ]
  },
  {
   "cell_type": "code",
   "execution_count": 115,
   "id": "8062e29d",
   "metadata": {},
   "outputs": [
    {
     "data": {
      "text/plain": [
       "(['a', 'p', 'p', 'l', 'e'], 2791255329152)"
      ]
     },
     "execution_count": 115,
     "metadata": {},
     "output_type": "execute_result"
    }
   ],
   "source": [
    "l,id(l)"
   ]
  },
  {
   "cell_type": "code",
   "execution_count": 116,
   "id": "b2a7493a",
   "metadata": {},
   "outputs": [],
   "source": [
    "l.insert(2,'c')"
   ]
  },
  {
   "cell_type": "code",
   "execution_count": 117,
   "id": "0528d323",
   "metadata": {},
   "outputs": [
    {
     "data": {
      "text/plain": [
       "(['a', 'p', 'c', 'p', 'l', 'e'], 2791255329152)"
      ]
     },
     "execution_count": 117,
     "metadata": {},
     "output_type": "execute_result"
    }
   ],
   "source": [
    "l,id(l)"
   ]
  },
  {
   "cell_type": "code",
   "execution_count": 126,
   "id": "8d0df763",
   "metadata": {},
   "outputs": [],
   "source": [
    "pass"
   ]
  },
  {
   "cell_type": "code",
   "execution_count": 119,
   "id": "cbd0e57f",
   "metadata": {},
   "outputs": [],
   "source": [
    "l.insert(2,'M')"
   ]
  },
  {
   "cell_type": "code",
   "execution_count": 120,
   "id": "8238f349",
   "metadata": {},
   "outputs": [
    {
     "data": {
      "text/plain": [
       "['a', 'p', 'M', 'c', 'p', 'l', 'e']"
      ]
     },
     "execution_count": 120,
     "metadata": {},
     "output_type": "execute_result"
    }
   ],
   "source": [
    "l"
   ]
  },
  {
   "cell_type": "code",
   "execution_count": 121,
   "id": "25ef2002",
   "metadata": {},
   "outputs": [],
   "source": [
    "l.insert(0,'C')"
   ]
  },
  {
   "cell_type": "code",
   "execution_count": 122,
   "id": "f4fc3eba",
   "metadata": {},
   "outputs": [
    {
     "data": {
      "text/plain": [
       "['C', 'a', 'p', 'M', 'c', 'p', 'l', 'e']"
      ]
     },
     "execution_count": 122,
     "metadata": {},
     "output_type": "execute_result"
    }
   ],
   "source": [
    "l"
   ]
  },
  {
   "cell_type": "code",
   "execution_count": 123,
   "id": "553da6a4",
   "metadata": {},
   "outputs": [],
   "source": [
    "l.insert(0,100)"
   ]
  },
  {
   "cell_type": "code",
   "execution_count": 124,
   "id": "c5828128",
   "metadata": {},
   "outputs": [
    {
     "data": {
      "text/plain": [
       "[100, 'C', 'a', 'p', 'M', 'c', 'p', 'l', 'e']"
      ]
     },
     "execution_count": 124,
     "metadata": {},
     "output_type": "execute_result"
    }
   ],
   "source": [
    "l"
   ]
  },
  {
   "cell_type": "code",
   "execution_count": 127,
   "id": "c6670cdf",
   "metadata": {},
   "outputs": [
    {
     "data": {
      "text/plain": [
       "([100, 'C', 'a', 'p', 'M', 'c', 'p', 'l', 'e'], 2791255329152)"
      ]
     },
     "execution_count": 127,
     "metadata": {},
     "output_type": "execute_result"
    }
   ],
   "source": [
    "l,id(l)"
   ]
  },
  {
   "cell_type": "code",
   "execution_count": 128,
   "id": "5fa16ebc",
   "metadata": {},
   "outputs": [
    {
     "data": {
      "text/plain": [
       "<method 'pop' of 'list' objects>"
      ]
     },
     "execution_count": 128,
     "metadata": {},
     "output_type": "execute_result"
    }
   ],
   "source": [
    "list.pop"
   ]
  },
  {
   "cell_type": "code",
   "execution_count": 129,
   "id": "43aeefe4",
   "metadata": {},
   "outputs": [
    {
     "name": "stdout",
     "output_type": "stream",
     "text": [
      "Help on method_descriptor:\n",
      "\n",
      "pop(self, index=-1, /)\n",
      "    Remove and return item at index (default last).\n",
      "    \n",
      "    Raises IndexError if list is empty or index is out of range.\n",
      "\n"
     ]
    }
   ],
   "source": [
    "help(list.pop)"
   ]
  },
  {
   "cell_type": "code",
   "execution_count": 131,
   "id": "1ed25ac8",
   "metadata": {},
   "outputs": [
    {
     "name": "stdout",
     "output_type": "stream",
     "text": [
      " The first item popped = 3\n",
      "[1, 2]\n",
      " The first item popped = 2\n",
      "[1]\n",
      " The first item popped = 1\n",
      "[]\n"
     ]
    },
    {
     "ename": "IndexError",
     "evalue": "pop from empty list",
     "output_type": "error",
     "traceback": [
      "\u001b[1;31m---------------------------------------------------------------------------\u001b[0m",
      "\u001b[1;31mIndexError\u001b[0m                                Traceback (most recent call last)",
      "\u001b[1;32m<ipython-input-131-5a98f4d6d71b>\u001b[0m in \u001b[0;36m<module>\u001b[1;34m\u001b[0m\n\u001b[0;32m     14\u001b[0m \u001b[0mprint\u001b[0m\u001b[1;33m(\u001b[0m\u001b[0ml\u001b[0m\u001b[1;33m)\u001b[0m\u001b[1;33m\u001b[0m\u001b[1;33m\u001b[0m\u001b[0m\n\u001b[0;32m     15\u001b[0m \u001b[1;33m\u001b[0m\u001b[0m\n\u001b[1;32m---> 16\u001b[1;33m \u001b[0ml\u001b[0m\u001b[1;33m.\u001b[0m\u001b[0mpop\u001b[0m\u001b[1;33m(\u001b[0m\u001b[1;33m)\u001b[0m\u001b[1;33m\u001b[0m\u001b[1;33m\u001b[0m\u001b[0m\n\u001b[0m\u001b[0;32m     17\u001b[0m \u001b[1;33m\u001b[0m\u001b[0m\n\u001b[0;32m     18\u001b[0m \u001b[1;33m\u001b[0m\u001b[0m\n",
      "\u001b[1;31mIndexError\u001b[0m: pop from empty list"
     ]
    }
   ],
   "source": [
    "l = [1,2,3]\n",
    "\n",
    "item_1 = l.pop()\n",
    "print(' The first item popped = {}'.format(item_1))\n",
    "print(l)\n",
    "\n",
    "item_2 = l.pop()\n",
    "print(' The first item popped = {}'.format(item_2))\n",
    "print(l)\n",
    "\n",
    "\n",
    "item_3 = l.pop()\n",
    "print(' The first item popped = {}'.format(item_3))\n",
    "print(l)\n",
    "\n",
    "l.pop()\n",
    "\n",
    "\n"
   ]
  },
  {
   "cell_type": "code",
   "execution_count": 132,
   "id": "39d977f4",
   "metadata": {},
   "outputs": [
    {
     "data": {
      "text/plain": [
       "3"
      ]
     },
     "execution_count": 132,
     "metadata": {},
     "output_type": "execute_result"
    }
   ],
   "source": [
    "[1,2,3].pop()"
   ]
  },
  {
   "cell_type": "code",
   "execution_count": 133,
   "id": "a02905cc",
   "metadata": {},
   "outputs": [
    {
     "data": {
      "text/plain": [
       "3"
      ]
     },
     "execution_count": 133,
     "metadata": {},
     "output_type": "execute_result"
    }
   ],
   "source": [
    "[1,2,3].pop(-1)"
   ]
  },
  {
   "cell_type": "code",
   "execution_count": 134,
   "id": "e02f16d9",
   "metadata": {},
   "outputs": [
    {
     "data": {
      "text/plain": [
       "1"
      ]
     },
     "execution_count": 134,
     "metadata": {},
     "output_type": "execute_result"
    }
   ],
   "source": [
    "[1,2,3].pop(0)"
   ]
  },
  {
   "cell_type": "code",
   "execution_count": 135,
   "id": "136ffd05",
   "metadata": {},
   "outputs": [
    {
     "data": {
      "text/plain": [
       "3"
      ]
     },
     "execution_count": 135,
     "metadata": {},
     "output_type": "execute_result"
    }
   ],
   "source": [
    "[1,2,3].pop(2)"
   ]
  },
  {
   "cell_type": "code",
   "execution_count": 137,
   "id": "cff2c3ba",
   "metadata": {},
   "outputs": [
    {
     "data": {
      "text/plain": [
       "2"
      ]
     },
     "execution_count": 137,
     "metadata": {},
     "output_type": "execute_result"
    }
   ],
   "source": [
    "[1,2,3].pop(1)"
   ]
  },
  {
   "cell_type": "code",
   "execution_count": 139,
   "id": "2e3d3255",
   "metadata": {},
   "outputs": [
    {
     "data": {
      "text/plain": [
       "3"
      ]
     },
     "execution_count": 139,
     "metadata": {},
     "output_type": "execute_result"
    }
   ],
   "source": [
    "l=[1,2,3]\n",
    "l[-1]"
   ]
  },
  {
   "cell_type": "code",
   "execution_count": 140,
   "id": "581fc001",
   "metadata": {},
   "outputs": [
    {
     "data": {
      "text/plain": [
       "1"
      ]
     },
     "execution_count": 140,
     "metadata": {},
     "output_type": "execute_result"
    }
   ],
   "source": [
    "l[-0]"
   ]
  },
  {
   "cell_type": "code",
   "execution_count": 141,
   "id": "dc2c895a",
   "metadata": {},
   "outputs": [
    {
     "data": {
      "text/plain": [
       "[1, 2, 3]"
      ]
     },
     "execution_count": 141,
     "metadata": {},
     "output_type": "execute_result"
    }
   ],
   "source": [
    "l"
   ]
  },
  {
   "cell_type": "code",
   "execution_count": 142,
   "id": "2f697ece",
   "metadata": {},
   "outputs": [
    {
     "data": {
      "text/plain": [
       "(3, 3)"
      ]
     },
     "execution_count": 142,
     "metadata": {},
     "output_type": "execute_result"
    }
   ],
   "source": [
    "len(l), l.__len__()"
   ]
  },
  {
   "cell_type": "markdown",
   "id": "0a0bf0a3",
   "metadata": {},
   "source": [
    "\n",
    "``\n",
    "input:\n",
    "l = [1,2,3,4,5,6,7,8,9,10]\n",
    "output:\n",
    "    average-->l ``\n",
    "  \n"
   ]
  },
  {
   "cell_type": "markdown",
   "id": "d7f8f299",
   "metadata": {},
   "source": [
    "`` Replace an item in the list without \n",
    "   using the format l[0]='something'``"
   ]
  },
  {
   "cell_type": "code",
   "execution_count": 143,
   "id": "521dffbd",
   "metadata": {},
   "outputs": [
    {
     "data": {
      "text/plain": [
       "<function sum(iterable, /, start=0)>"
      ]
     },
     "execution_count": 143,
     "metadata": {},
     "output_type": "execute_result"
    }
   ],
   "source": [
    "sum "
   ]
  },
  {
   "cell_type": "code",
   "execution_count": 145,
   "id": "34762f3d",
   "metadata": {},
   "outputs": [
    {
     "data": {
      "text/plain": [
       "2.5"
      ]
     },
     "execution_count": 145,
     "metadata": {},
     "output_type": "execute_result"
    }
   ],
   "source": [
    "sum([1,2,3,4])/ len([1,2,3,4])"
   ]
  },
  {
   "cell_type": "code",
   "execution_count": 146,
   "id": "1e5137d6",
   "metadata": {},
   "outputs": [
    {
     "data": {
      "text/plain": [
       "10"
      ]
     },
     "execution_count": 146,
     "metadata": {},
     "output_type": "execute_result"
    }
   ],
   "source": [
    "sum((1,2,3,4))"
   ]
  },
  {
   "cell_type": "code",
   "execution_count": 149,
   "id": "d0ef6761",
   "metadata": {},
   "outputs": [
    {
     "name": "stdout",
     "output_type": "stream",
     "text": [
      "The average = 2.0\n"
     ]
    }
   ],
   "source": [
    "sunayna_list = [1,2,3]\n",
    "added_val = sum(sunayna_list)\n",
    "number_of_items = len(sunayna_list)\n",
    "print('The average = {}'.format(added_val/number_of_items))\n"
   ]
  },
  {
   "cell_type": "code",
   "execution_count": null,
   "id": "f542ffd9",
   "metadata": {},
   "outputs": [],
   "source": []
  }
 ],
 "metadata": {
  "kernelspec": {
   "display_name": "Python 3",
   "language": "python",
   "name": "python3"
  },
  "language_info": {
   "codemirror_mode": {
    "name": "ipython",
    "version": 3
   },
   "file_extension": ".py",
   "mimetype": "text/x-python",
   "name": "python",
   "nbconvert_exporter": "python",
   "pygments_lexer": "ipython3",
   "version": "3.9.6"
  }
 },
 "nbformat": 4,
 "nbformat_minor": 5
}
