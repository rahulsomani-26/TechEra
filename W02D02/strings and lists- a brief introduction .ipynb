{
 "cells": [
  {
   "cell_type": "code",
   "execution_count": 1,
   "id": "70b88784",
   "metadata": {},
   "outputs": [],
   "source": [
    "#  Datatypes in python "
   ]
  },
  {
   "cell_type": "code",
   "execution_count": 2,
   "id": "b58b592e",
   "metadata": {},
   "outputs": [],
   "source": [
    "x = 0 "
   ]
  },
  {
   "cell_type": "code",
   "execution_count": 3,
   "id": "ca871e83",
   "metadata": {},
   "outputs": [
    {
     "data": {
      "text/plain": [
       "int"
      ]
     },
     "execution_count": 3,
     "metadata": {},
     "output_type": "execute_result"
    }
   ],
   "source": [
    "type(x)"
   ]
  },
  {
   "cell_type": "code",
   "execution_count": 4,
   "id": "b0eed326",
   "metadata": {},
   "outputs": [
    {
     "data": {
      "text/plain": [
       "1.2"
      ]
     },
     "execution_count": 4,
     "metadata": {},
     "output_type": "execute_result"
    }
   ],
   "source": [
    "y = 1.2\n",
    "y"
   ]
  },
  {
   "cell_type": "code",
   "execution_count": 5,
   "id": "5c3f6f9a",
   "metadata": {},
   "outputs": [
    {
     "data": {
      "text/plain": [
       "float"
      ]
     },
     "execution_count": 5,
     "metadata": {},
     "output_type": "execute_result"
    }
   ],
   "source": [
    "type(y)"
   ]
  },
  {
   "cell_type": "code",
   "execution_count": 6,
   "id": "1a78e83b",
   "metadata": {},
   "outputs": [],
   "source": [
    "x = \"somani\""
   ]
  },
  {
   "cell_type": "code",
   "execution_count": 7,
   "id": "d07ba73c",
   "metadata": {},
   "outputs": [
    {
     "data": {
      "text/plain": [
       "str"
      ]
     },
     "execution_count": 7,
     "metadata": {},
     "output_type": "execute_result"
    }
   ],
   "source": [
    "type(x)"
   ]
  },
  {
   "cell_type": "markdown",
   "id": "435c7970",
   "metadata": {},
   "source": [
    "# Sequence datatype \n",
    "`` A datatype that stores elements in sequence ( order is preserved )``"
   ]
  },
  {
   "cell_type": "code",
   "execution_count": 8,
   "id": "23f8c093",
   "metadata": {},
   "outputs": [
    {
     "data": {
      "text/plain": [
       "'A'"
      ]
     },
     "execution_count": 8,
     "metadata": {},
     "output_type": "execute_result"
    }
   ],
   "source": [
    "name = 'Akash'\n",
    "name[0]\n"
   ]
  },
  {
   "cell_type": "markdown",
   "id": "ef4d278c",
   "metadata": {},
   "source": [
    "# Lists\n",
    "`` Lists are sequence type containers, that can store multiple values of \n",
    "   different type ( Homogeneous / Heterogenous) ``\n",
    "  \n",
    " `` Syntax : \n",
    "        var_name = []  --> Empty list \n",
    "        var_name = [1,2,'example',40.86]\n",
    "        var_name = list() ``"
   ]
  },
  {
   "cell_type": "code",
   "execution_count": 9,
   "id": "fcd69df5",
   "metadata": {},
   "outputs": [
    {
     "name": "stdout",
     "output_type": "stream",
     "text": [
      "[1, 2, 3]\n"
     ]
    }
   ],
   "source": [
    "l = [1,2,3]\n",
    "print(l)"
   ]
  },
  {
   "cell_type": "code",
   "execution_count": 10,
   "id": "cb6b7826",
   "metadata": {},
   "outputs": [
    {
     "data": {
      "text/plain": [
       "[1, 2, 3]"
      ]
     },
     "execution_count": 10,
     "metadata": {},
     "output_type": "execute_result"
    }
   ],
   "source": [
    "l"
   ]
  },
  {
   "cell_type": "code",
   "execution_count": 11,
   "id": "8cdde6be",
   "metadata": {},
   "outputs": [
    {
     "data": {
      "text/plain": [
       "list"
      ]
     },
     "execution_count": 11,
     "metadata": {},
     "output_type": "execute_result"
    }
   ],
   "source": [
    "type(l)"
   ]
  },
  {
   "cell_type": "code",
   "execution_count": 12,
   "id": "421efa0f",
   "metadata": {},
   "outputs": [],
   "source": [
    "list_one = ['Me','you','he','she'] # Homogeneous\n",
    "list_two = ['Ujjwal',30,'Dubai',653283] # Heterogenous \n"
   ]
  },
  {
   "cell_type": "code",
   "execution_count": 13,
   "id": "2a124313",
   "metadata": {},
   "outputs": [
    {
     "data": {
      "text/plain": [
       "['Me', 'you', 'he', 'she']"
      ]
     },
     "execution_count": 13,
     "metadata": {},
     "output_type": "execute_result"
    }
   ],
   "source": [
    "list_one"
   ]
  },
  {
   "cell_type": "code",
   "execution_count": 14,
   "id": "d9b7c25d",
   "metadata": {},
   "outputs": [
    {
     "data": {
      "text/plain": [
       "['Ujjwal', 30, 'Dubai', 653283]"
      ]
     },
     "execution_count": 14,
     "metadata": {},
     "output_type": "execute_result"
    }
   ],
   "source": [
    "list_two"
   ]
  },
  {
   "cell_type": "code",
   "execution_count": 15,
   "id": "56e776ac",
   "metadata": {},
   "outputs": [
    {
     "data": {
      "text/plain": [
       "'Me'"
      ]
     },
     "execution_count": 15,
     "metadata": {},
     "output_type": "execute_result"
    }
   ],
   "source": [
    "list_one[0]"
   ]
  },
  {
   "cell_type": "code",
   "execution_count": 16,
   "id": "5fd35af3",
   "metadata": {},
   "outputs": [
    {
     "data": {
      "text/plain": [
       "653283"
      ]
     },
     "execution_count": 16,
     "metadata": {},
     "output_type": "execute_result"
    }
   ],
   "source": [
    "list_two[3]"
   ]
  },
  {
   "cell_type": "code",
   "execution_count": 17,
   "id": "5c59ee29",
   "metadata": {},
   "outputs": [
    {
     "ename": "IndexError",
     "evalue": "list index out of range",
     "output_type": "error",
     "traceback": [
      "\u001b[1;31m---------------------------------------------------------------------------\u001b[0m",
      "\u001b[1;31mIndexError\u001b[0m                                Traceback (most recent call last)",
      "\u001b[1;32m<ipython-input-17-b7b95214b7a2>\u001b[0m in \u001b[0;36m<module>\u001b[1;34m\u001b[0m\n\u001b[1;32m----> 1\u001b[1;33m \u001b[0mlist_two\u001b[0m\u001b[1;33m[\u001b[0m\u001b[1;36m5\u001b[0m\u001b[1;33m]\u001b[0m\u001b[1;33m\u001b[0m\u001b[1;33m\u001b[0m\u001b[0m\n\u001b[0m",
      "\u001b[1;31mIndexError\u001b[0m: list index out of range"
     ]
    }
   ],
   "source": [
    "list_two[5]"
   ]
  },
  {
   "cell_type": "code",
   "execution_count": 18,
   "id": "ca33e6f7",
   "metadata": {},
   "outputs": [
    {
     "data": {
      "text/plain": [
       "653283"
      ]
     },
     "execution_count": 18,
     "metadata": {},
     "output_type": "execute_result"
    }
   ],
   "source": [
    "list_two[-1]"
   ]
  },
  {
   "cell_type": "code",
   "execution_count": 19,
   "id": "fe5dd711",
   "metadata": {},
   "outputs": [
    {
     "data": {
      "text/plain": [
       "(2, 2)"
      ]
     },
     "execution_count": 19,
     "metadata": {},
     "output_type": "execute_result"
    }
   ],
   "source": [
    "2 -0, 2+0"
   ]
  },
  {
   "cell_type": "code",
   "execution_count": 21,
   "id": "c15005cc",
   "metadata": {},
   "outputs": [
    {
     "data": {
      "text/plain": [
       "['Ujjwal', 30, 'Dubai', 653283]"
      ]
     },
     "execution_count": 21,
     "metadata": {},
     "output_type": "execute_result"
    }
   ],
   "source": [
    "list_two"
   ]
  },
  {
   "cell_type": "code",
   "execution_count": 22,
   "id": "f301b4d5",
   "metadata": {},
   "outputs": [
    {
     "data": {
      "text/plain": [
       "'Dubai'"
      ]
     },
     "execution_count": 22,
     "metadata": {},
     "output_type": "execute_result"
    }
   ],
   "source": [
    "list_two[2-0]"
   ]
  },
  {
   "cell_type": "code",
   "execution_count": 23,
   "id": "b7dc4694",
   "metadata": {},
   "outputs": [
    {
     "data": {
      "text/plain": [
       "'Me'"
      ]
     },
     "execution_count": 23,
     "metadata": {},
     "output_type": "execute_result"
    }
   ],
   "source": [
    "list_one[-0]"
   ]
  },
  {
   "cell_type": "code",
   "execution_count": 24,
   "id": "5e6f7e02",
   "metadata": {},
   "outputs": [
    {
     "data": {
      "text/plain": [
       "[1, 2, 3]"
      ]
     },
     "execution_count": 24,
     "metadata": {},
     "output_type": "execute_result"
    }
   ],
   "source": [
    "# Slicing \n",
    "l = [1,2,3,4,5,6,7,8,9]\n",
    "l[0:3]"
   ]
  },
  {
   "cell_type": "code",
   "execution_count": 25,
   "id": "ad7fe1b4",
   "metadata": {},
   "outputs": [
    {
     "data": {
      "text/plain": [
       "[1, 2, 3]"
      ]
     },
     "execution_count": 25,
     "metadata": {},
     "output_type": "execute_result"
    }
   ],
   "source": [
    "l[:3]"
   ]
  },
  {
   "cell_type": "code",
   "execution_count": 27,
   "id": "27d58687",
   "metadata": {},
   "outputs": [
    {
     "data": {
      "text/plain": [
       "[1, 3, 5, 7, 9]"
      ]
     },
     "execution_count": 27,
     "metadata": {},
     "output_type": "execute_result"
    }
   ],
   "source": [
    "l[:19:2]"
   ]
  },
  {
   "cell_type": "markdown",
   "id": "91a78ca0",
   "metadata": {},
   "source": [
    "`` slicing a list,and providing an index value that does not makes sense \n",
    " will not result in an error. Python will ignore it and traverse the entire \n",
    "    list ``"
   ]
  },
  {
   "cell_type": "code",
   "execution_count": 28,
   "id": "862e92fc",
   "metadata": {},
   "outputs": [
    {
     "data": {
      "text/plain": [
       "['rahul', 'ujjwal', 'deep', 11, 78.9]"
      ]
     },
     "execution_count": 28,
     "metadata": {},
     "output_type": "execute_result"
    }
   ],
   "source": [
    "name = [ 'rahul','ujjwal','deep',11,78.9]\n",
    "name\n"
   ]
  },
  {
   "cell_type": "code",
   "execution_count": 30,
   "id": "9f07d132",
   "metadata": {},
   "outputs": [
    {
     "data": {
      "text/plain": [
       "['rahul', 'ujjwal', 'deep', 11, 78.9]"
      ]
     },
     "execution_count": 30,
     "metadata": {},
     "output_type": "execute_result"
    }
   ],
   "source": [
    "name[:6384390]"
   ]
  },
  {
   "cell_type": "code",
   "execution_count": 31,
   "id": "91c8c0a9",
   "metadata": {},
   "outputs": [],
   "source": [
    "# What are lists then. An Array ? Or Something else "
   ]
  },
  {
   "cell_type": "code",
   "execution_count": 32,
   "id": "916a7d69",
   "metadata": {},
   "outputs": [],
   "source": [
    "l = []"
   ]
  },
  {
   "cell_type": "code",
   "execution_count": 33,
   "id": "febc5348",
   "metadata": {},
   "outputs": [
    {
     "data": {
      "text/plain": [
       "(list, [], 0)"
      ]
     },
     "execution_count": 33,
     "metadata": {},
     "output_type": "execute_result"
    }
   ],
   "source": [
    "type(l), l, len(l)"
   ]
  },
  {
   "cell_type": "code",
   "execution_count": 34,
   "id": "9f0c49ec",
   "metadata": {},
   "outputs": [],
   "source": [
    "l = list()"
   ]
  },
  {
   "cell_type": "code",
   "execution_count": 35,
   "id": "7b9a5927",
   "metadata": {},
   "outputs": [
    {
     "data": {
      "text/plain": [
       "[]"
      ]
     },
     "execution_count": 35,
     "metadata": {},
     "output_type": "execute_result"
    }
   ],
   "source": [
    "l"
   ]
  },
  {
   "cell_type": "code",
   "execution_count": 36,
   "id": "a49d5d95",
   "metadata": {},
   "outputs": [
    {
     "name": "stdout",
     "output_type": "stream",
     "text": [
      "['__add__', '__class__', '__class_getitem__', '__contains__', '__delattr__', '__delitem__', '__dir__', '__doc__', '__eq__', '__format__', '__ge__', '__getattribute__', '__getitem__', '__gt__', '__hash__', '__iadd__', '__imul__', '__init__', '__init_subclass__', '__iter__', '__le__', '__len__', '__lt__', '__mul__', '__ne__', '__new__', '__reduce__', '__reduce_ex__', '__repr__', '__reversed__', '__rmul__', '__setattr__', '__setitem__', '__sizeof__', '__str__', '__subclasshook__', 'append', 'clear', 'copy', 'count', 'extend', 'index', 'insert', 'pop', 'remove', 'reverse', 'sort']\n"
     ]
    }
   ],
   "source": [
    "print(dir(list))"
   ]
  },
  {
   "cell_type": "code",
   "execution_count": 37,
   "id": "d69cc609",
   "metadata": {},
   "outputs": [
    {
     "data": {
      "text/plain": [
       "[1, 2, 3, 4, 5, 6]"
      ]
     },
     "execution_count": 37,
     "metadata": {},
     "output_type": "execute_result"
    }
   ],
   "source": [
    "l1 = [1,2,3]\n",
    "l2 = [4,5,6]\n",
    "\n",
    "l1 + l2"
   ]
  },
  {
   "cell_type": "code",
   "execution_count": 38,
   "id": "fb6108cf",
   "metadata": {},
   "outputs": [
    {
     "data": {
      "text/plain": [
       "<method 'append' of 'list' objects>"
      ]
     },
     "execution_count": 38,
     "metadata": {},
     "output_type": "execute_result"
    }
   ],
   "source": [
    "list.append"
   ]
  },
  {
   "cell_type": "code",
   "execution_count": 39,
   "id": "1b8813f1",
   "metadata": {},
   "outputs": [
    {
     "name": "stdout",
     "output_type": "stream",
     "text": [
      "Help on method_descriptor:\n",
      "\n",
      "append(self, object, /)\n",
      "    Append object to the end of the list.\n",
      "\n"
     ]
    }
   ],
   "source": [
    "help(list.append)"
   ]
  },
  {
   "cell_type": "code",
   "execution_count": 40,
   "id": "62061c36",
   "metadata": {},
   "outputs": [],
   "source": [
    "l=[]"
   ]
  },
  {
   "cell_type": "code",
   "execution_count": 42,
   "id": "83a80675",
   "metadata": {},
   "outputs": [
    {
     "data": {
      "text/plain": [
       "(2256460522624, '0x20d5f872480')"
      ]
     },
     "execution_count": 42,
     "metadata": {},
     "output_type": "execute_result"
    }
   ],
   "source": [
    "id(l), hex(id(l))"
   ]
  },
  {
   "cell_type": "code",
   "execution_count": 43,
   "id": "1e492c10",
   "metadata": {},
   "outputs": [],
   "source": [
    "l = l + [1,2,3]"
   ]
  },
  {
   "cell_type": "code",
   "execution_count": 44,
   "id": "c70995be",
   "metadata": {},
   "outputs": [
    {
     "data": {
      "text/plain": [
       "[1, 2, 3]"
      ]
     },
     "execution_count": 44,
     "metadata": {},
     "output_type": "execute_result"
    }
   ],
   "source": [
    "l"
   ]
  },
  {
   "cell_type": "code",
   "execution_count": 45,
   "id": "1005e2f0",
   "metadata": {},
   "outputs": [
    {
     "data": {
      "text/plain": [
       "'0x20d5f91a640'"
      ]
     },
     "execution_count": 45,
     "metadata": {},
     "output_type": "execute_result"
    }
   ],
   "source": [
    "hex(id(l))"
   ]
  },
  {
   "cell_type": "code",
   "execution_count": 46,
   "id": "338cdbe3",
   "metadata": {},
   "outputs": [],
   "source": [
    "m = []"
   ]
  },
  {
   "cell_type": "code",
   "execution_count": 49,
   "id": "15b42634",
   "metadata": {},
   "outputs": [
    {
     "data": {
      "text/plain": [
       "(2256460502848, list)"
      ]
     },
     "execution_count": 49,
     "metadata": {},
     "output_type": "execute_result"
    }
   ],
   "source": [
    "id(m),type(m)"
   ]
  },
  {
   "cell_type": "code",
   "execution_count": 50,
   "id": "77b2692f",
   "metadata": {},
   "outputs": [
    {
     "data": {
      "text/plain": [
       "<function list.append(object, /)>"
      ]
     },
     "execution_count": 50,
     "metadata": {},
     "output_type": "execute_result"
    }
   ],
   "source": [
    "m.append"
   ]
  },
  {
   "cell_type": "code",
   "execution_count": 51,
   "id": "4e03b6ff",
   "metadata": {},
   "outputs": [],
   "source": [
    "m.append(1)"
   ]
  },
  {
   "cell_type": "code",
   "execution_count": 52,
   "id": "cbc40685",
   "metadata": {},
   "outputs": [
    {
     "data": {
      "text/plain": [
       "([1], 2256460502848)"
      ]
     },
     "execution_count": 52,
     "metadata": {},
     "output_type": "execute_result"
    }
   ],
   "source": [
    "m, id(m)"
   ]
  },
  {
   "cell_type": "code",
   "execution_count": 53,
   "id": "4491652c",
   "metadata": {},
   "outputs": [
    {
     "data": {
      "text/plain": [
       "str"
      ]
     },
     "execution_count": 53,
     "metadata": {},
     "output_type": "execute_result"
    }
   ],
   "source": [
    "s = \" \"\n",
    "type(s)"
   ]
  },
  {
   "cell_type": "code",
   "execution_count": 54,
   "id": "2dfe2194",
   "metadata": {},
   "outputs": [
    {
     "data": {
      "text/plain": [
       "2256395187184"
      ]
     },
     "execution_count": 54,
     "metadata": {},
     "output_type": "execute_result"
    }
   ],
   "source": [
    "id(s)"
   ]
  },
  {
   "cell_type": "code",
   "execution_count": 55,
   "id": "a915a419",
   "metadata": {},
   "outputs": [],
   "source": [
    "s = s + 'hello'"
   ]
  },
  {
   "cell_type": "code",
   "execution_count": 56,
   "id": "9d4d8433",
   "metadata": {},
   "outputs": [
    {
     "data": {
      "text/plain": [
       "' hello'"
      ]
     },
     "execution_count": 56,
     "metadata": {},
     "output_type": "execute_result"
    }
   ],
   "source": [
    "s"
   ]
  },
  {
   "cell_type": "code",
   "execution_count": 58,
   "id": "5a74e94c",
   "metadata": {},
   "outputs": [
    {
     "data": {
      "text/plain": [
       "2256461210544"
      ]
     },
     "execution_count": 58,
     "metadata": {},
     "output_type": "execute_result"
    }
   ],
   "source": [
    "id(s)"
   ]
  },
  {
   "cell_type": "code",
   "execution_count": 61,
   "id": "8d839cbd",
   "metadata": {},
   "outputs": [
    {
     "name": "stdout",
     "output_type": "stream",
     "text": [
      " Memory address of my home = 2256460505984 and members = [1, 2, 3]\n",
      " Memory address of my home = 2256461229568 and members = [1, 2, 3, 4]\n"
     ]
    }
   ],
   "source": [
    "l = [1,2,3]\n",
    "print(' Memory address of my home = {} and members = {}'.format(id(l),l))\n",
    "l = [1,2,3] + [4]\n",
    "print(' Memory address of my home = {} and members = {}'.format(id(l), l))\n",
    "\n"
   ]
  },
  {
   "cell_type": "code",
   "execution_count": 63,
   "id": "6abdf086",
   "metadata": {},
   "outputs": [
    {
     "name": "stdout",
     "output_type": "stream",
     "text": [
      " Memory address of my home = 2256461281776 and name = Rahul\n",
      " Memory address of my home = 2256461281904 and name = RahulSomani\n"
     ]
    }
   ],
   "source": [
    "my_current_name = 'Rahul'\n",
    "print(' Memory address of my home = {} and name = {}'.format(id(my_current_name),my_current_name))\n",
    "\n",
    "my_changed_name = my_current_name + 'Somani'\n",
    "print(' Memory address of my home = {} and name = {}'.format(id(my_changed_name),my_changed_name))\n"
   ]
  },
  {
   "cell_type": "code",
   "execution_count": 64,
   "id": "9826b719",
   "metadata": {},
   "outputs": [],
   "source": [
    "# Lets talk about some methods of the string data type \n"
   ]
  },
  {
   "cell_type": "code",
   "execution_count": 65,
   "id": "4e494615",
   "metadata": {},
   "outputs": [
    {
     "name": "stdout",
     "output_type": "stream",
     "text": [
      "['__add__', '__class__', '__contains__', '__delattr__', '__dir__', '__doc__', '__eq__', '__format__', '__ge__', '__getattribute__', '__getitem__', '__getnewargs__', '__gt__', '__hash__', '__init__', '__init_subclass__', '__iter__', '__le__', '__len__', '__lt__', '__mod__', '__mul__', '__ne__', '__new__', '__reduce__', '__reduce_ex__', '__repr__', '__rmod__', '__rmul__', '__setattr__', '__sizeof__', '__str__', '__subclasshook__', 'capitalize', 'casefold', 'center', 'count', 'encode', 'endswith', 'expandtabs', 'find', 'format', 'format_map', 'index', 'isalnum', 'isalpha', 'isascii', 'isdecimal', 'isdigit', 'isidentifier', 'islower', 'isnumeric', 'isprintable', 'isspace', 'istitle', 'isupper', 'join', 'ljust', 'lower', 'lstrip', 'maketrans', 'partition', 'removeprefix', 'removesuffix', 'replace', 'rfind', 'rindex', 'rjust', 'rpartition', 'rsplit', 'rstrip', 'split', 'splitlines', 'startswith', 'strip', 'swapcase', 'title', 'translate', 'upper', 'zfill']\n"
     ]
    }
   ],
   "source": [
    "print(dir(str))"
   ]
  },
  {
   "cell_type": "code",
   "execution_count": 66,
   "id": "d982c7e9",
   "metadata": {},
   "outputs": [
    {
     "data": {
      "text/plain": [
       "<method 'upper' of 'str' objects>"
      ]
     },
     "execution_count": 66,
     "metadata": {},
     "output_type": "execute_result"
    }
   ],
   "source": [
    "str.upper"
   ]
  },
  {
   "cell_type": "code",
   "execution_count": 67,
   "id": "aa998577",
   "metadata": {},
   "outputs": [
    {
     "name": "stdout",
     "output_type": "stream",
     "text": [
      "Help on method_descriptor:\n",
      "\n",
      "upper(self, /)\n",
      "    Return a copy of the string converted to uppercase.\n",
      "\n"
     ]
    }
   ],
   "source": [
    "help(str.upper)"
   ]
  },
  {
   "cell_type": "code",
   "execution_count": 68,
   "id": "f1d8273f",
   "metadata": {},
   "outputs": [
    {
     "data": {
      "text/plain": [
       "'AKASH'"
      ]
     },
     "execution_count": 68,
     "metadata": {},
     "output_type": "execute_result"
    }
   ],
   "source": [
    "name = 'Akash'\n",
    "name.upper()"
   ]
  },
  {
   "cell_type": "code",
   "execution_count": 69,
   "id": "b607e27b",
   "metadata": {},
   "outputs": [
    {
     "name": "stdout",
     "output_type": "stream",
     "text": [
      " Hi Akash your id = 2256461283440\n",
      " Hi AKASH your id = 2256461279472\n"
     ]
    }
   ],
   "source": [
    "name = 'Akash'\n",
    "print(' Hi {} your id = {}'.format(name,id(name)))\n",
    "name=name.upper()\n",
    "print(' Hi {} your id = {}'.format(name,id(name)))\n",
    "\n"
   ]
  },
  {
   "cell_type": "code",
   "execution_count": 70,
   "id": "ea43c724",
   "metadata": {},
   "outputs": [],
   "source": [
    "average = 10 "
   ]
  },
  {
   "cell_type": "code",
   "execution_count": 71,
   "id": "208c393a",
   "metadata": {},
   "outputs": [
    {
     "name": "stdout",
     "output_type": "stream",
     "text": [
      "10\n"
     ]
    }
   ],
   "source": [
    "print(average)"
   ]
  },
  {
   "cell_type": "code",
   "execution_count": 72,
   "id": "18333965",
   "metadata": {},
   "outputs": [
    {
     "data": {
      "text/plain": [
       "2256461261120"
      ]
     },
     "execution_count": 72,
     "metadata": {},
     "output_type": "execute_result"
    }
   ],
   "source": [
    "l = [1,2,3]\n",
    "id(l)"
   ]
  },
  {
   "cell_type": "code",
   "execution_count": 73,
   "id": "03b532d4",
   "metadata": {},
   "outputs": [],
   "source": [
    "l = [100,200,300]"
   ]
  },
  {
   "cell_type": "code",
   "execution_count": 75,
   "id": "ceb26a7e",
   "metadata": {},
   "outputs": [
    {
     "data": {
      "text/plain": [
       "2256460506624"
      ]
     },
     "execution_count": 75,
     "metadata": {},
     "output_type": "execute_result"
    }
   ],
   "source": [
    "id(l)"
   ]
  },
  {
   "cell_type": "code",
   "execution_count": 76,
   "id": "fde3168f",
   "metadata": {},
   "outputs": [
    {
     "name": "stdout",
     "output_type": "stream",
     "text": [
      "['__add__', '__class__', '__contains__', '__delattr__', '__dir__', '__doc__', '__eq__', '__format__', '__ge__', '__getattribute__', '__getitem__', '__getnewargs__', '__gt__', '__hash__', '__init__', '__init_subclass__', '__iter__', '__le__', '__len__', '__lt__', '__mod__', '__mul__', '__ne__', '__new__', '__reduce__', '__reduce_ex__', '__repr__', '__rmod__', '__rmul__', '__setattr__', '__sizeof__', '__str__', '__subclasshook__', 'capitalize', 'casefold', 'center', 'count', 'encode', 'endswith', 'expandtabs', 'find', 'format', 'format_map', 'index', 'isalnum', 'isalpha', 'isascii', 'isdecimal', 'isdigit', 'isidentifier', 'islower', 'isnumeric', 'isprintable', 'isspace', 'istitle', 'isupper', 'join', 'ljust', 'lower', 'lstrip', 'maketrans', 'partition', 'removeprefix', 'removesuffix', 'replace', 'rfind', 'rindex', 'rjust', 'rpartition', 'rsplit', 'rstrip', 'split', 'splitlines', 'startswith', 'strip', 'swapcase', 'title', 'translate', 'upper', 'zfill']\n"
     ]
    }
   ],
   "source": [
    "print(dir(str))"
   ]
  },
  {
   "cell_type": "code",
   "execution_count": 77,
   "id": "227b7ae8",
   "metadata": {},
   "outputs": [
    {
     "data": {
      "text/plain": [
       "'rahul'"
      ]
     },
     "execution_count": 77,
     "metadata": {},
     "output_type": "execute_result"
    }
   ],
   "source": [
    "\"RAHUL\".lower()"
   ]
  },
  {
   "cell_type": "code",
   "execution_count": 78,
   "id": "2c80b8b2",
   "metadata": {},
   "outputs": [
    {
     "data": {
      "text/plain": [
       "'Rahul Somani'"
      ]
     },
     "execution_count": 78,
     "metadata": {},
     "output_type": "execute_result"
    }
   ],
   "source": [
    "\"rahul somani\".title()"
   ]
  },
  {
   "cell_type": "code",
   "execution_count": 79,
   "id": "244fd83f",
   "metadata": {},
   "outputs": [
    {
     "data": {
      "text/plain": [
       "'Rahul Somani'"
      ]
     },
     "execution_count": 79,
     "metadata": {},
     "output_type": "execute_result"
    }
   ],
   "source": [
    "name = \"rahul somani\".title()\n",
    "name"
   ]
  },
  {
   "cell_type": "code",
   "execution_count": 80,
   "id": "c6c82d16",
   "metadata": {},
   "outputs": [
    {
     "data": {
      "text/plain": [
       "'Rahul somani'"
      ]
     },
     "execution_count": 80,
     "metadata": {},
     "output_type": "execute_result"
    }
   ],
   "source": [
    "\"rahul somani\".capitalize()"
   ]
  },
  {
   "cell_type": "code",
   "execution_count": 81,
   "id": "52c0140f",
   "metadata": {},
   "outputs": [
    {
     "data": {
      "text/plain": [
       "True"
      ]
     },
     "execution_count": 81,
     "metadata": {},
     "output_type": "execute_result"
    }
   ],
   "source": [
    "\"RAHUL\".isupper()"
   ]
  },
  {
   "cell_type": "code",
   "execution_count": 82,
   "id": "8a7924ae",
   "metadata": {},
   "outputs": [
    {
     "data": {
      "text/plain": [
       "<method 'isupper' of 'str' objects>"
      ]
     },
     "execution_count": 82,
     "metadata": {},
     "output_type": "execute_result"
    }
   ],
   "source": [
    "str.isupper"
   ]
  },
  {
   "cell_type": "code",
   "execution_count": 83,
   "id": "883dbf77",
   "metadata": {},
   "outputs": [
    {
     "name": "stdout",
     "output_type": "stream",
     "text": [
      "Help on method_descriptor:\n",
      "\n",
      "isupper(self, /)\n",
      "    Return True if the string is an uppercase string, False otherwise.\n",
      "    \n",
      "    A string is uppercase if all cased characters in the string are uppercase and\n",
      "    there is at least one cased character in the string.\n",
      "\n"
     ]
    }
   ],
   "source": [
    "help(str.isupper)"
   ]
  },
  {
   "cell_type": "code",
   "execution_count": 84,
   "id": "bb5e1299",
   "metadata": {},
   "outputs": [
    {
     "data": {
      "text/plain": [
       "<method 'islower' of 'str' objects>"
      ]
     },
     "execution_count": 84,
     "metadata": {},
     "output_type": "execute_result"
    }
   ],
   "source": [
    "str.islower"
   ]
  },
  {
   "cell_type": "code",
   "execution_count": 85,
   "id": "9f71721e",
   "metadata": {},
   "outputs": [
    {
     "name": "stdout",
     "output_type": "stream",
     "text": [
      "Help on method_descriptor:\n",
      "\n",
      "islower(self, /)\n",
      "    Return True if the string is a lowercase string, False otherwise.\n",
      "    \n",
      "    A string is lowercase if all cased characters in the string are lowercase and\n",
      "    there is at least one cased character in the string.\n",
      "\n"
     ]
    }
   ],
   "source": [
    "help(str.islower)"
   ]
  },
  {
   "cell_type": "code",
   "execution_count": 86,
   "id": "56e1c1ee",
   "metadata": {},
   "outputs": [
    {
     "data": {
      "text/plain": [
       "True"
      ]
     },
     "execution_count": 86,
     "metadata": {},
     "output_type": "execute_result"
    }
   ],
   "source": [
    "\"rahul\".islower()"
   ]
  },
  {
   "cell_type": "code",
   "execution_count": 87,
   "id": "8f5fbf12",
   "metadata": {},
   "outputs": [
    {
     "data": {
      "text/plain": [
       "False"
      ]
     },
     "execution_count": 87,
     "metadata": {},
     "output_type": "execute_result"
    }
   ],
   "source": [
    "\"Rahul\".islower()"
   ]
  },
  {
   "cell_type": "code",
   "execution_count": 88,
   "id": "ca99e3b1",
   "metadata": {},
   "outputs": [
    {
     "data": {
      "text/plain": [
       "False"
      ]
     },
     "execution_count": 88,
     "metadata": {},
     "output_type": "execute_result"
    }
   ],
   "source": [
    "\"RAHUl\".isupper()"
   ]
  },
  {
   "cell_type": "code",
   "execution_count": 89,
   "id": "83880372",
   "metadata": {},
   "outputs": [
    {
     "data": {
      "text/plain": [
       "['__add__',\n",
       " '__class__',\n",
       " '__contains__',\n",
       " '__delattr__',\n",
       " '__dir__',\n",
       " '__doc__',\n",
       " '__eq__',\n",
       " '__format__',\n",
       " '__ge__',\n",
       " '__getattribute__',\n",
       " '__getitem__',\n",
       " '__getnewargs__',\n",
       " '__gt__',\n",
       " '__hash__',\n",
       " '__init__',\n",
       " '__init_subclass__',\n",
       " '__iter__',\n",
       " '__le__',\n",
       " '__len__',\n",
       " '__lt__',\n",
       " '__mod__',\n",
       " '__mul__',\n",
       " '__ne__',\n",
       " '__new__',\n",
       " '__reduce__',\n",
       " '__reduce_ex__',\n",
       " '__repr__',\n",
       " '__rmod__',\n",
       " '__rmul__',\n",
       " '__setattr__',\n",
       " '__sizeof__',\n",
       " '__str__',\n",
       " '__subclasshook__',\n",
       " 'capitalize',\n",
       " 'casefold',\n",
       " 'center',\n",
       " 'count',\n",
       " 'encode',\n",
       " 'endswith',\n",
       " 'expandtabs',\n",
       " 'find',\n",
       " 'format',\n",
       " 'format_map',\n",
       " 'index',\n",
       " 'isalnum',\n",
       " 'isalpha',\n",
       " 'isascii',\n",
       " 'isdecimal',\n",
       " 'isdigit',\n",
       " 'isidentifier',\n",
       " 'islower',\n",
       " 'isnumeric',\n",
       " 'isprintable',\n",
       " 'isspace',\n",
       " 'istitle',\n",
       " 'isupper',\n",
       " 'join',\n",
       " 'ljust',\n",
       " 'lower',\n",
       " 'lstrip',\n",
       " 'maketrans',\n",
       " 'partition',\n",
       " 'removeprefix',\n",
       " 'removesuffix',\n",
       " 'replace',\n",
       " 'rfind',\n",
       " 'rindex',\n",
       " 'rjust',\n",
       " 'rpartition',\n",
       " 'rsplit',\n",
       " 'rstrip',\n",
       " 'split',\n",
       " 'splitlines',\n",
       " 'startswith',\n",
       " 'strip',\n",
       " 'swapcase',\n",
       " 'title',\n",
       " 'translate',\n",
       " 'upper',\n",
       " 'zfill']"
      ]
     },
     "execution_count": 89,
     "metadata": {},
     "output_type": "execute_result"
    }
   ],
   "source": [
    "dir(str)"
   ]
  },
  {
   "cell_type": "code",
   "execution_count": 90,
   "id": "8c071da9",
   "metadata": {},
   "outputs": [
    {
     "name": "stdout",
     "output_type": "stream",
     "text": [
      "Help on method_descriptor:\n",
      "\n",
      "replace(self, old, new, count=-1, /)\n",
      "    Return a copy with all occurrences of substring old replaced by new.\n",
      "    \n",
      "      count\n",
      "        Maximum number of occurrences to replace.\n",
      "        -1 (the default value) means replace all occurrences.\n",
      "    \n",
      "    If the optional argument count is given, only the first count occurrences are\n",
      "    replaced.\n",
      "\n"
     ]
    }
   ],
   "source": [
    "help(str.replace)"
   ]
  },
  {
   "cell_type": "code",
   "execution_count": 91,
   "id": "73556e67",
   "metadata": {},
   "outputs": [
    {
     "data": {
      "text/plain": [
       "'r hul'"
      ]
     },
     "execution_count": 91,
     "metadata": {},
     "output_type": "execute_result"
    }
   ],
   "source": [
    "\"rahul\".replace('a',' ')"
   ]
  },
  {
   "cell_type": "code",
   "execution_count": 92,
   "id": "e478f285",
   "metadata": {},
   "outputs": [
    {
     "data": {
      "text/plain": [
       "'r-hul'"
      ]
     },
     "execution_count": 92,
     "metadata": {},
     "output_type": "execute_result"
    }
   ],
   "source": [
    "\"rahul\".replace('a','-')"
   ]
  },
  {
   "cell_type": "code",
   "execution_count": 93,
   "id": "3eafba46",
   "metadata": {},
   "outputs": [
    {
     "data": {
      "text/plain": [
       "'r----------------------------hul'"
      ]
     },
     "execution_count": 93,
     "metadata": {},
     "output_type": "execute_result"
    }
   ],
   "source": [
    "\"rahul\".replace('a','----------------------------')"
   ]
  },
  {
   "cell_type": "code",
   "execution_count": 94,
   "id": "d1fa95ee",
   "metadata": {},
   "outputs": [
    {
     "data": {
      "text/plain": [
       "'rUUJWWALLhul'"
      ]
     },
     "execution_count": 94,
     "metadata": {},
     "output_type": "execute_result"
    }
   ],
   "source": [
    "\"rahul\".replace('u','UUJWWALL')"
   ]
  },
  {
   "cell_type": "code",
   "execution_count": 95,
   "id": "bce24a14",
   "metadata": {},
   "outputs": [
    {
     "data": {
      "text/plain": [
       "2256461283888"
      ]
     },
     "execution_count": 95,
     "metadata": {},
     "output_type": "execute_result"
    }
   ],
   "source": [
    "id('UUJWWALL')"
   ]
  },
  {
   "cell_type": "code",
   "execution_count": 96,
   "id": "a0dc220e",
   "metadata": {},
   "outputs": [
    {
     "data": {
      "text/plain": [
       "2256460523632"
      ]
     },
     "execution_count": 96,
     "metadata": {},
     "output_type": "execute_result"
    }
   ],
   "source": [
    "id('rahul')"
   ]
  },
  {
   "cell_type": "code",
   "execution_count": 97,
   "id": "a5eb8831",
   "metadata": {},
   "outputs": [],
   "source": [
    "# The memory addresses changes or not after replacing, because we are not using any \n",
    "# assignment operator "
   ]
  },
  {
   "cell_type": "code",
   "execution_count": 99,
   "id": "efc2f1a7",
   "metadata": {},
   "outputs": [
    {
     "name": "stdout",
     "output_type": "stream",
     "text": [
      "rahul\n",
      "Currently the address of name = 2256460523632\n",
      "Currently the address of name = 2256460523632\n",
      "rahul\n"
     ]
    }
   ],
   "source": [
    "name = 'rahul'\n",
    "print(name)\n",
    "print('Currently the address of name = {}'.format(id(name)))\n",
    "name.replace('a',' ')\n",
    "print('Currently the address of name = {}'.format(id(name)))\n",
    "print(name)\n",
    "\n"
   ]
  },
  {
   "cell_type": "code",
   "execution_count": 100,
   "id": "3fe07342",
   "metadata": {},
   "outputs": [
    {
     "name": "stdout",
     "output_type": "stream",
     "text": [
      "rahul\n",
      "Currently the address of name = 2256460523632\n",
      "Currently the address of name = 2256460452592\n",
      "r hul\n"
     ]
    }
   ],
   "source": [
    "name = 'rahul'\n",
    "print(name)\n",
    "print('Currently the address of name = {}'.format(id(name)))\n",
    "result = name.replace('a',' ')\n",
    "print('Currently the address of name = {}'.format(id(result)))\n",
    "print(result)\n"
   ]
  },
  {
   "cell_type": "code",
   "execution_count": 101,
   "id": "2dd1ddc2",
   "metadata": {},
   "outputs": [
    {
     "data": {
      "text/plain": [
       "'po a o and  oma o'"
      ]
     },
     "execution_count": 101,
     "metadata": {},
     "output_type": "execute_result"
    }
   ],
   "source": [
    "'potato and tomato'.replace('t', ' ')"
   ]
  },
  {
   "cell_type": "code",
   "execution_count": 102,
   "id": "e882b6c6",
   "metadata": {},
   "outputs": [
    {
     "data": {
      "text/plain": [
       "'po-a-o and -oma-o'"
      ]
     },
     "execution_count": 102,
     "metadata": {},
     "output_type": "execute_result"
    }
   ],
   "source": [
    "'potato and tomato'.replace('t', '-')"
   ]
  },
  {
   "cell_type": "code",
   "execution_count": 103,
   "id": "a7ff6f7e",
   "metadata": {},
   "outputs": [
    {
     "data": {
      "text/plain": [
       "'po-a-o and -oma-o'"
      ]
     },
     "execution_count": 103,
     "metadata": {},
     "output_type": "execute_result"
    }
   ],
   "source": [
    "'potato and tomato'.replace('t', '-',-1)"
   ]
  },
  {
   "cell_type": "code",
   "execution_count": 104,
   "id": "8f3076e2",
   "metadata": {},
   "outputs": [
    {
     "data": {
      "text/plain": [
       "'po-ato and tomato'"
      ]
     },
     "execution_count": 104,
     "metadata": {},
     "output_type": "execute_result"
    }
   ],
   "source": [
    "'potato and tomato'.replace('t', '-',1)"
   ]
  },
  {
   "cell_type": "code",
   "execution_count": 105,
   "id": "7d4d3d9d",
   "metadata": {},
   "outputs": [
    {
     "data": {
      "text/plain": [
       "'po-a-o and -omato'"
      ]
     },
     "execution_count": 105,
     "metadata": {},
     "output_type": "execute_result"
    }
   ],
   "source": [
    "'potato and tomato'.replace('t', '-',3)"
   ]
  },
  {
   "cell_type": "code",
   "execution_count": 106,
   "id": "19240c51",
   "metadata": {},
   "outputs": [],
   "source": [
    "name = 'rahul'"
   ]
  },
  {
   "cell_type": "code",
   "execution_count": 107,
   "id": "d83f3238",
   "metadata": {},
   "outputs": [
    {
     "ename": "TypeError",
     "evalue": "'str' object does not support item assignment",
     "output_type": "error",
     "traceback": [
      "\u001b[1;31m---------------------------------------------------------------------------\u001b[0m",
      "\u001b[1;31mTypeError\u001b[0m                                 Traceback (most recent call last)",
      "\u001b[1;32m<ipython-input-107-bb65d836b156>\u001b[0m in \u001b[0;36m<module>\u001b[1;34m\u001b[0m\n\u001b[1;32m----> 1\u001b[1;33m \u001b[0mname\u001b[0m\u001b[1;33m[\u001b[0m\u001b[1;36m3\u001b[0m\u001b[1;33m]\u001b[0m\u001b[1;33m=\u001b[0m\u001b[1;34m' '\u001b[0m\u001b[1;33m\u001b[0m\u001b[1;33m\u001b[0m\u001b[0m\n\u001b[0m",
      "\u001b[1;31mTypeError\u001b[0m: 'str' object does not support item assignment"
     ]
    }
   ],
   "source": [
    "name[3]=' '"
   ]
  },
  {
   "cell_type": "code",
   "execution_count": 108,
   "id": "a17a87dd",
   "metadata": {},
   "outputs": [
    {
     "name": "stdout",
     "output_type": "stream",
     "text": [
      "['__add__', '__class__', '__contains__', '__delattr__', '__dir__', '__doc__', '__eq__', '__format__', '__ge__', '__getattribute__', '__getitem__', '__getnewargs__', '__gt__', '__hash__', '__init__', '__init_subclass__', '__iter__', '__le__', '__len__', '__lt__', '__mod__', '__mul__', '__ne__', '__new__', '__reduce__', '__reduce_ex__', '__repr__', '__rmod__', '__rmul__', '__setattr__', '__sizeof__', '__str__', '__subclasshook__', 'capitalize', 'casefold', 'center', 'count', 'encode', 'endswith', 'expandtabs', 'find', 'format', 'format_map', 'index', 'isalnum', 'isalpha', 'isascii', 'isdecimal', 'isdigit', 'isidentifier', 'islower', 'isnumeric', 'isprintable', 'isspace', 'istitle', 'isupper', 'join', 'ljust', 'lower', 'lstrip', 'maketrans', 'partition', 'removeprefix', 'removesuffix', 'replace', 'rfind', 'rindex', 'rjust', 'rpartition', 'rsplit', 'rstrip', 'split', 'splitlines', 'startswith', 'strip', 'swapcase', 'title', 'translate', 'upper', 'zfill']\n"
     ]
    }
   ],
   "source": [
    "print(dir(str))"
   ]
  },
  {
   "cell_type": "code",
   "execution_count": 109,
   "id": "1e19a0dc",
   "metadata": {},
   "outputs": [
    {
     "data": {
      "text/plain": [
       "<method 'split' of 'str' objects>"
      ]
     },
     "execution_count": 109,
     "metadata": {},
     "output_type": "execute_result"
    }
   ],
   "source": [
    "str.split"
   ]
  },
  {
   "cell_type": "code",
   "execution_count": 110,
   "id": "d95520d7",
   "metadata": {},
   "outputs": [
    {
     "name": "stdout",
     "output_type": "stream",
     "text": [
      "Help on method_descriptor:\n",
      "\n",
      "split(self, /, sep=None, maxsplit=-1)\n",
      "    Return a list of the words in the string, using sep as the delimiter string.\n",
      "    \n",
      "    sep\n",
      "      The delimiter according which to split the string.\n",
      "      None (the default value) means split according to any whitespace,\n",
      "      and discard empty strings from the result.\n",
      "    maxsplit\n",
      "      Maximum number of splits to do.\n",
      "      -1 (the default value) means no limit.\n",
      "\n"
     ]
    }
   ],
   "source": [
    "help(str.split)"
   ]
  },
  {
   "cell_type": "markdown",
   "id": "e01ed72e",
   "metadata": {},
   "source": [
    "``split(self, /, sep=None, maxsplit=-1)``"
   ]
  },
  {
   "cell_type": "code",
   "execution_count": 111,
   "id": "25034e7f",
   "metadata": {},
   "outputs": [
    {
     "data": {
      "text/plain": [
       "['rahul', 'somani']"
      ]
     },
     "execution_count": 111,
     "metadata": {},
     "output_type": "execute_result"
    }
   ],
   "source": [
    "\"rahul somani\".split()"
   ]
  },
  {
   "cell_type": "code",
   "execution_count": 112,
   "id": "3b337e06",
   "metadata": {},
   "outputs": [
    {
     "data": {
      "text/plain": [
       "['rahul', 'somani']"
      ]
     },
     "execution_count": 112,
     "metadata": {},
     "output_type": "execute_result"
    }
   ],
   "source": [
    "\"rahul somani\".split(sep=None)"
   ]
  },
  {
   "cell_type": "code",
   "execution_count": 113,
   "id": "2141a119",
   "metadata": {},
   "outputs": [
    {
     "data": {
      "text/plain": [
       "['rahulsomani']"
      ]
     },
     "execution_count": 113,
     "metadata": {},
     "output_type": "execute_result"
    }
   ],
   "source": [
    "\"rahulsomani\".split()"
   ]
  },
  {
   "cell_type": "code",
   "execution_count": 114,
   "id": "a8db9e20",
   "metadata": {},
   "outputs": [
    {
     "data": {
      "text/plain": [
       "['ra', 'ulsomani']"
      ]
     },
     "execution_count": 114,
     "metadata": {},
     "output_type": "execute_result"
    }
   ],
   "source": [
    "\"rahulsomani\".split(sep='h')"
   ]
  },
  {
   "cell_type": "code",
   "execution_count": 115,
   "id": "ec4aec7a",
   "metadata": {},
   "outputs": [],
   "source": [
    "msg = \"This is just a test\"\n",
    "splitted_msg = msg.split(' ',maxsplit=-1)"
   ]
  },
  {
   "cell_type": "code",
   "execution_count": 117,
   "id": "5368c5f6",
   "metadata": {},
   "outputs": [
    {
     "data": {
      "text/plain": [
       "(['This', 'is', 'just', 'a', 'test'], list, 5)"
      ]
     },
     "execution_count": 117,
     "metadata": {},
     "output_type": "execute_result"
    }
   ],
   "source": [
    "splitted_msg, type(splitted_msg), len(splitted_msg)"
   ]
  },
  {
   "cell_type": "code",
   "execution_count": 118,
   "id": "2315cc7e",
   "metadata": {},
   "outputs": [],
   "source": [
    "msg = \"This is just a test\"\n",
    "splitted_msg = msg.split(' ',maxsplit=1)"
   ]
  },
  {
   "cell_type": "code",
   "execution_count": 119,
   "id": "c8ac403d",
   "metadata": {},
   "outputs": [
    {
     "data": {
      "text/plain": [
       "(['This', 'is just a test'], list, 2)"
      ]
     },
     "execution_count": 119,
     "metadata": {},
     "output_type": "execute_result"
    }
   ],
   "source": [
    "splitted_msg, type(splitted_msg), len(splitted_msg)"
   ]
  },
  {
   "cell_type": "code",
   "execution_count": 120,
   "id": "5ab49ac1",
   "metadata": {},
   "outputs": [],
   "source": [
    "splitted_msg = msg.split('s',maxsplit=1)"
   ]
  },
  {
   "cell_type": "code",
   "execution_count": 121,
   "id": "086cbdd6",
   "metadata": {},
   "outputs": [
    {
     "data": {
      "text/plain": [
       "(['Thi', ' is just a test'], list, 2)"
      ]
     },
     "execution_count": 121,
     "metadata": {},
     "output_type": "execute_result"
    }
   ],
   "source": [
    "splitted_msg, type(splitted_msg), len(splitted_msg)"
   ]
  },
  {
   "cell_type": "code",
   "execution_count": 122,
   "id": "d52180de",
   "metadata": {},
   "outputs": [],
   "source": [
    "my_str = 'Thanks all'\n",
    "splitted_str=  my_str.split('k')\n"
   ]
  },
  {
   "cell_type": "code",
   "execution_count": 123,
   "id": "2da53e6a",
   "metadata": {},
   "outputs": [
    {
     "data": {
      "text/plain": [
       "['Than', 's all']"
      ]
     },
     "execution_count": 123,
     "metadata": {},
     "output_type": "execute_result"
    }
   ],
   "source": [
    "splitted_str"
   ]
  },
  {
   "cell_type": "code",
   "execution_count": 124,
   "id": "66e2f8ae",
   "metadata": {},
   "outputs": [
    {
     "data": {
      "text/plain": [
       "['po', 'a', 'o and ', 'oma', 'o']"
      ]
     },
     "execution_count": 124,
     "metadata": {},
     "output_type": "execute_result"
    }
   ],
   "source": [
    "'potato and tomato'.split(sep='t')"
   ]
  },
  {
   "cell_type": "code",
   "execution_count": 125,
   "id": "c7fbc0d7",
   "metadata": {},
   "outputs": [
    {
     "data": {
      "text/plain": [
       "['po', 'a', 'o and ', 'omato']"
      ]
     },
     "execution_count": 125,
     "metadata": {},
     "output_type": "execute_result"
    }
   ],
   "source": [
    "'potato and tomato'.split(sep='t',maxsplit=3)"
   ]
  },
  {
   "cell_type": "code",
   "execution_count": 127,
   "id": "8dcea3f9",
   "metadata": {},
   "outputs": [
    {
     "data": {
      "text/plain": [
       "['po', 'a', 'o and ', 'oma', 'o']"
      ]
     },
     "execution_count": 127,
     "metadata": {},
     "output_type": "execute_result"
    }
   ],
   "source": [
    "'potato and tomato'.split(sep='t',maxsplit=4)"
   ]
  },
  {
   "cell_type": "code",
   "execution_count": 128,
   "id": "3c3316e5",
   "metadata": {},
   "outputs": [
    {
     "data": {
      "text/plain": [
       "['po', 'a', 'o and ', 'oma', 'o']"
      ]
     },
     "execution_count": 128,
     "metadata": {},
     "output_type": "execute_result"
    }
   ],
   "source": [
    "'potato and tomato'.split(sep='t',maxsplit=400)"
   ]
  },
  {
   "cell_type": "code",
   "execution_count": 129,
   "id": "f6455976",
   "metadata": {},
   "outputs": [
    {
     "data": {
      "text/plain": [
       "['po', 'a', 'o and ', 'oma', 'o']"
      ]
     },
     "execution_count": 129,
     "metadata": {},
     "output_type": "execute_result"
    }
   ],
   "source": [
    "'potato and tomato'.split('t',4)"
   ]
  },
  {
   "cell_type": "code",
   "execution_count": 130,
   "id": "3187e8b0",
   "metadata": {},
   "outputs": [
    {
     "data": {
      "text/plain": [
       "['po', 'a', 'o and ', 'oma', 'o']"
      ]
     },
     "execution_count": 130,
     "metadata": {},
     "output_type": "execute_result"
    }
   ],
   "source": [
    "'potato and tomato'.split(maxsplit=4,sep='t')"
   ]
  },
  {
   "cell_type": "code",
   "execution_count": 131,
   "id": "192ff64d",
   "metadata": {},
   "outputs": [
    {
     "ename": "TypeError",
     "evalue": "'str' object cannot be interpreted as an integer",
     "output_type": "error",
     "traceback": [
      "\u001b[1;31m---------------------------------------------------------------------------\u001b[0m",
      "\u001b[1;31mTypeError\u001b[0m                                 Traceback (most recent call last)",
      "\u001b[1;32m<ipython-input-131-a5bf1e065e3b>\u001b[0m in \u001b[0;36m<module>\u001b[1;34m\u001b[0m\n\u001b[1;32m----> 1\u001b[1;33m \u001b[1;34m'potato and tomato'\u001b[0m\u001b[1;33m.\u001b[0m\u001b[0msplit\u001b[0m\u001b[1;33m(\u001b[0m\u001b[1;36m4\u001b[0m\u001b[1;33m,\u001b[0m\u001b[1;34m't'\u001b[0m\u001b[1;33m)\u001b[0m\u001b[1;33m\u001b[0m\u001b[1;33m\u001b[0m\u001b[0m\n\u001b[0m",
      "\u001b[1;31mTypeError\u001b[0m: 'str' object cannot be interpreted as an integer"
     ]
    }
   ],
   "source": [
    "'potato and tomato'.split(4,'t')"
   ]
  },
  {
   "cell_type": "code",
   "execution_count": null,
   "id": "636fa97f",
   "metadata": {},
   "outputs": [],
   "source": []
  }
 ],
 "metadata": {
  "kernelspec": {
   "display_name": "Python 3",
   "language": "python",
   "name": "python3"
  },
  "language_info": {
   "codemirror_mode": {
    "name": "ipython",
    "version": 3
   },
   "file_extension": ".py",
   "mimetype": "text/x-python",
   "name": "python",
   "nbconvert_exporter": "python",
   "pygments_lexer": "ipython3",
   "version": "3.9.6"
  }
 },
 "nbformat": 4,
 "nbformat_minor": 5
}
