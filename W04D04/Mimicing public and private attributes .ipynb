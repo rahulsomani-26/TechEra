{
 "cells": [
  {
   "cell_type": "markdown",
   "id": "42290c96",
   "metadata": {},
   "source": [
    "`` Python does not have any concept of  private attributes ``\n",
    "\n",
    "`` Nevertheless, we can try to mimmic it `` \n",
    "\n",
    "`` Preceding a name with a singe underscore, will just tell other python programmers that you are ``\n",
    "\n",
    "`` trying to make a private attribute,and hence they should not access it directly ``\n"
   ]
  },
  {
   "cell_type": "code",
   "execution_count": 12,
   "id": "90d66bff",
   "metadata": {},
   "outputs": [],
   "source": [
    "class Student:\n",
    "    \n",
    "    def __init__(self,name,age):\n",
    "        self._name = name \n",
    "        self._age = age\n",
    "        \n",
    "    def get_name(self):\n",
    "        return self._name \n",
    "    \n",
    "    def get_age(self):\n",
    "        return self._age\n",
    "    \n",
    "    def set_name(self,name):\n",
    "        self._name = name \n",
    "        \n",
    "    def set_age(self,age):\n",
    "         self._age = age\n",
    "    \n",
    "        "
   ]
  },
  {
   "cell_type": "code",
   "execution_count": 13,
   "id": "a9b340e8",
   "metadata": {},
   "outputs": [],
   "source": [
    "s1 = Student('Rahul',35)\n",
    "s2 = Student('Ujjwal',33)"
   ]
  },
  {
   "cell_type": "code",
   "execution_count": 14,
   "id": "5b3b72d6",
   "metadata": {},
   "outputs": [
    {
     "data": {
      "text/plain": [
       "(<__main__.Student at 0x191e4a62df0>, <__main__.Student at 0x191e4a62370>)"
      ]
     },
     "execution_count": 14,
     "metadata": {},
     "output_type": "execute_result"
    }
   ],
   "source": [
    "s1,s2"
   ]
  },
  {
   "cell_type": "code",
   "execution_count": 15,
   "id": "9af39541",
   "metadata": {},
   "outputs": [
    {
     "data": {
      "text/plain": [
       "('0x191e4a62df0', '0x191e4a62370')"
      ]
     },
     "execution_count": 15,
     "metadata": {},
     "output_type": "execute_result"
    }
   ],
   "source": [
    "hex(id(s1)), hex(id(s2))"
   ]
  },
  {
   "cell_type": "code",
   "execution_count": 16,
   "id": "8339d8dd",
   "metadata": {},
   "outputs": [
    {
     "data": {
      "text/plain": [
       "<bound method Student.get_name of <__main__.Student object at 0x00000191E4A62DF0>>"
      ]
     },
     "execution_count": 16,
     "metadata": {},
     "output_type": "execute_result"
    }
   ],
   "source": [
    "s1.get_name"
   ]
  },
  {
   "cell_type": "code",
   "execution_count": 17,
   "id": "aa0a3c0f",
   "metadata": {},
   "outputs": [
    {
     "data": {
      "text/plain": [
       "'Rahul'"
      ]
     },
     "execution_count": 17,
     "metadata": {},
     "output_type": "execute_result"
    }
   ],
   "source": [
    "s1.get_name()"
   ]
  },
  {
   "cell_type": "code",
   "execution_count": 18,
   "id": "31f711fb",
   "metadata": {},
   "outputs": [
    {
     "data": {
      "text/plain": [
       "35"
      ]
     },
     "execution_count": 18,
     "metadata": {},
     "output_type": "execute_result"
    }
   ],
   "source": [
    "s1.get_age()"
   ]
  },
  {
   "cell_type": "code",
   "execution_count": 19,
   "id": "1ffa69d2",
   "metadata": {},
   "outputs": [],
   "source": [
    "s1.set_name('somani')"
   ]
  },
  {
   "cell_type": "code",
   "execution_count": 20,
   "id": "3e113bd0",
   "metadata": {},
   "outputs": [],
   "source": [
    "s1.set_age(38)"
   ]
  },
  {
   "cell_type": "code",
   "execution_count": 21,
   "id": "b03aa4c7",
   "metadata": {},
   "outputs": [
    {
     "data": {
      "text/plain": [
       "'somani'"
      ]
     },
     "execution_count": 21,
     "metadata": {},
     "output_type": "execute_result"
    }
   ],
   "source": [
    "s1.get_name()"
   ]
  },
  {
   "cell_type": "code",
   "execution_count": 22,
   "id": "1c1acde7",
   "metadata": {},
   "outputs": [
    {
     "data": {
      "text/plain": [
       "38"
      ]
     },
     "execution_count": 22,
     "metadata": {},
     "output_type": "execute_result"
    }
   ],
   "source": [
    "s1.get_age()"
   ]
  },
  {
   "cell_type": "code",
   "execution_count": 23,
   "id": "959a25d6",
   "metadata": {},
   "outputs": [
    {
     "data": {
      "text/plain": [
       "{'_name': 'somani', '_age': 38}"
      ]
     },
     "execution_count": 23,
     "metadata": {},
     "output_type": "execute_result"
    }
   ],
   "source": [
    "# Namespace of object s1 \n",
    "s1.__dict__"
   ]
  },
  {
   "cell_type": "code",
   "execution_count": 24,
   "id": "d2daaef3",
   "metadata": {},
   "outputs": [
    {
     "data": {
      "text/plain": [
       "'somani'"
      ]
     },
     "execution_count": 24,
     "metadata": {},
     "output_type": "execute_result"
    }
   ],
   "source": [
    "s1.__dict__['_name']"
   ]
  },
  {
   "cell_type": "code",
   "execution_count": 25,
   "id": "d3ad5ad3",
   "metadata": {},
   "outputs": [],
   "source": [
    "class Test:\n",
    "    def __init__(self,name):\n",
    "        self.name = name \n",
    "        \n",
    "    def get_detail(self):\n",
    "        return self.name "
   ]
  },
  {
   "cell_type": "code",
   "execution_count": 26,
   "id": "6be82187",
   "metadata": {},
   "outputs": [],
   "source": [
    "t = Test('Akash')"
   ]
  },
  {
   "cell_type": "code",
   "execution_count": 27,
   "id": "42672ca7",
   "metadata": {},
   "outputs": [
    {
     "data": {
      "text/plain": [
       "mappingproxy({'__module__': '__main__',\n",
       "              '__init__': <function __main__.Test.__init__(self, name)>,\n",
       "              'get_detail': <function __main__.Test.get_detail(self)>,\n",
       "              '__dict__': <attribute '__dict__' of 'Test' objects>,\n",
       "              '__weakref__': <attribute '__weakref__' of 'Test' objects>,\n",
       "              '__doc__': None})"
      ]
     },
     "execution_count": 27,
     "metadata": {},
     "output_type": "execute_result"
    }
   ],
   "source": [
    "Test.__dict__"
   ]
  },
  {
   "cell_type": "code",
   "execution_count": 28,
   "id": "83650c76",
   "metadata": {},
   "outputs": [
    {
     "data": {
      "text/plain": [
       "'Akash'"
      ]
     },
     "execution_count": 28,
     "metadata": {},
     "output_type": "execute_result"
    }
   ],
   "source": [
    "t.get_detail()"
   ]
  },
  {
   "cell_type": "code",
   "execution_count": 30,
   "id": "2640417f",
   "metadata": {},
   "outputs": [
    {
     "data": {
      "text/plain": [
       "{'name': 'Akash'}"
      ]
     },
     "execution_count": 30,
     "metadata": {},
     "output_type": "execute_result"
    }
   ],
   "source": [
    "t.__dict__"
   ]
  },
  {
   "cell_type": "markdown",
   "id": "766e37fe",
   "metadata": {},
   "source": [
    " # Introduction to Properties \n"
   ]
  },
  {
   "cell_type": "code",
   "execution_count": 32,
   "id": "a970c8d5",
   "metadata": {},
   "outputs": [],
   "source": [
    "class Student:\n",
    "    def __init__(self,name):\n",
    "        self._name = name \n",
    "        \n",
    "    def get_name(self):\n",
    "        return self._name \n",
    "   \n",
    "    def set_name(self,name):\n",
    "        self._name = name \n",
    "        \n",
    "    name = property(fget=get_name,fset=set_name)\n",
    "        \n",
    "    \n",
    "     \n",
    "        "
   ]
  },
  {
   "cell_type": "markdown",
   "id": "d7cc12e1",
   "metadata": {},
   "source": [
    "# property class \n",
    "\n",
    "`` It is a class (type) ``\n",
    "`` constructor of the class property takes in a few parameters: ``\n",
    "    \n",
    "    `` fget: specifies the function to use to get the instance property value  ``\n",
    "        \n",
    "    `` fset: specifies the function to use to set the instance property value ``\n",
    "        \n",
    "    `` fdel: specifies the function to call when deleting instance property ``\n",
    "        \n",
    "    `` doc : a string representing the docstring for the property `` \n",
    "    \n",
    "        \n",
    "    "
   ]
  },
  {
   "cell_type": "code",
   "execution_count": 33,
   "id": "4bd5e111",
   "metadata": {},
   "outputs": [
    {
     "data": {
      "text/plain": [
       "property"
      ]
     },
     "execution_count": 33,
     "metadata": {},
     "output_type": "execute_result"
    }
   ],
   "source": [
    "property"
   ]
  },
  {
   "cell_type": "code",
   "execution_count": 34,
   "id": "3c665c24",
   "metadata": {},
   "outputs": [
    {
     "data": {
      "text/plain": [
       "type"
      ]
     },
     "execution_count": 34,
     "metadata": {},
     "output_type": "execute_result"
    }
   ],
   "source": [
    "type(property)"
   ]
  },
  {
   "cell_type": "code",
   "execution_count": 35,
   "id": "cf823615",
   "metadata": {},
   "outputs": [
    {
     "name": "stdout",
     "output_type": "stream",
     "text": [
      "<class 'type'>\n"
     ]
    }
   ],
   "source": [
    "print(type(property))"
   ]
  },
  {
   "cell_type": "code",
   "execution_count": 36,
   "id": "ef84f31f",
   "metadata": {},
   "outputs": [
    {
     "name": "stdout",
     "output_type": "stream",
     "text": [
      "Help on class property in module builtins:\n",
      "\n",
      "class property(object)\n",
      " |  property(fget=None, fset=None, fdel=None, doc=None)\n",
      " |  \n",
      " |  Property attribute.\n",
      " |  \n",
      " |    fget\n",
      " |      function to be used for getting an attribute value\n",
      " |    fset\n",
      " |      function to be used for setting an attribute value\n",
      " |    fdel\n",
      " |      function to be used for del'ing an attribute\n",
      " |    doc\n",
      " |      docstring\n",
      " |  \n",
      " |  Typical use is to define a managed attribute x:\n",
      " |  \n",
      " |  class C(object):\n",
      " |      def getx(self): return self._x\n",
      " |      def setx(self, value): self._x = value\n",
      " |      def delx(self): del self._x\n",
      " |      x = property(getx, setx, delx, \"I'm the 'x' property.\")\n",
      " |  \n",
      " |  Decorators make defining new properties or modifying existing ones easy:\n",
      " |  \n",
      " |  class C(object):\n",
      " |      @property\n",
      " |      def x(self):\n",
      " |          \"I am the 'x' property.\"\n",
      " |          return self._x\n",
      " |      @x.setter\n",
      " |      def x(self, value):\n",
      " |          self._x = value\n",
      " |      @x.deleter\n",
      " |      def x(self):\n",
      " |          del self._x\n",
      " |  \n",
      " |  Methods defined here:\n",
      " |  \n",
      " |  __delete__(self, instance, /)\n",
      " |      Delete an attribute of instance.\n",
      " |  \n",
      " |  __get__(self, instance, owner, /)\n",
      " |      Return an attribute of instance, which is of type owner.\n",
      " |  \n",
      " |  __getattribute__(self, name, /)\n",
      " |      Return getattr(self, name).\n",
      " |  \n",
      " |  __init__(self, /, *args, **kwargs)\n",
      " |      Initialize self.  See help(type(self)) for accurate signature.\n",
      " |  \n",
      " |  __set__(self, instance, value, /)\n",
      " |      Set an attribute of instance to value.\n",
      " |  \n",
      " |  deleter(...)\n",
      " |      Descriptor to change the deleter on a property.\n",
      " |  \n",
      " |  getter(...)\n",
      " |      Descriptor to change the getter on a property.\n",
      " |  \n",
      " |  setter(...)\n",
      " |      Descriptor to change the setter on a property.\n",
      " |  \n",
      " |  ----------------------------------------------------------------------\n",
      " |  Static methods defined here:\n",
      " |  \n",
      " |  __new__(*args, **kwargs) from builtins.type\n",
      " |      Create and return a new object.  See help(type) for accurate signature.\n",
      " |  \n",
      " |  ----------------------------------------------------------------------\n",
      " |  Data descriptors defined here:\n",
      " |  \n",
      " |  __isabstractmethod__\n",
      " |  \n",
      " |  fdel\n",
      " |  \n",
      " |  fget\n",
      " |  \n",
      " |  fset\n",
      "\n"
     ]
    }
   ],
   "source": [
    "help(property)"
   ]
  },
  {
   "cell_type": "code",
   "execution_count": 37,
   "id": "15dcad1f",
   "metadata": {},
   "outputs": [],
   "source": [
    "class Student:\n",
    "    def __init__(self,name):\n",
    "        self._name = name \n",
    "        \n",
    "    def get_name(self):\n",
    "        return self._name \n",
    "   \n",
    "    def set_name(self,name):\n",
    "        self._name = name \n",
    "        \n",
    "    name = property(fget=get_name,fset=set_name)\n",
    "        "
   ]
  },
  {
   "cell_type": "code",
   "execution_count": 38,
   "id": "246b4343",
   "metadata": {},
   "outputs": [],
   "source": [
    "s1 = Student('Ashish')"
   ]
  },
  {
   "cell_type": "code",
   "execution_count": 39,
   "id": "dd921cb3",
   "metadata": {},
   "outputs": [
    {
     "data": {
      "text/plain": [
       "{'_name': 'Ashish'}"
      ]
     },
     "execution_count": 39,
     "metadata": {},
     "output_type": "execute_result"
    }
   ],
   "source": [
    "s1.__dict__"
   ]
  },
  {
   "cell_type": "code",
   "execution_count": 40,
   "id": "05ba7d73",
   "metadata": {},
   "outputs": [],
   "source": [
    "s1.name = 'Rahul'"
   ]
  },
  {
   "cell_type": "code",
   "execution_count": 41,
   "id": "5ed11f62",
   "metadata": {},
   "outputs": [
    {
     "data": {
      "text/plain": [
       "{'_name': 'Rahul'}"
      ]
     },
     "execution_count": 41,
     "metadata": {},
     "output_type": "execute_result"
    }
   ],
   "source": [
    "s1.__dict__"
   ]
  },
  {
   "cell_type": "code",
   "execution_count": 42,
   "id": "99e30353",
   "metadata": {},
   "outputs": [
    {
     "data": {
      "text/plain": [
       "property"
      ]
     },
     "execution_count": 42,
     "metadata": {},
     "output_type": "execute_result"
    }
   ],
   "source": [
    "a = property()\n",
    "type(a)"
   ]
  },
  {
   "cell_type": "code",
   "execution_count": 43,
   "id": "cc2bf551",
   "metadata": {},
   "outputs": [
    {
     "name": "stdout",
     "output_type": "stream",
     "text": [
      "Rahul\n"
     ]
    }
   ],
   "source": [
    "print(s1.name)"
   ]
  },
  {
   "cell_type": "code",
   "execution_count": null,
   "id": "c70fd18d",
   "metadata": {},
   "outputs": [],
   "source": []
  }
 ],
 "metadata": {
  "kernelspec": {
   "display_name": "Python 3",
   "language": "python",
   "name": "python3"
  },
  "language_info": {
   "codemirror_mode": {
    "name": "ipython",
    "version": 3
   },
   "file_extension": ".py",
   "mimetype": "text/x-python",
   "name": "python",
   "nbconvert_exporter": "python",
   "pygments_lexer": "ipython3",
   "version": "3.9.6"
  }
 },
 "nbformat": 4,
 "nbformat_minor": 5
}
