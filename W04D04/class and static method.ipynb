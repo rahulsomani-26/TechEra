{
 "cells": [
  {
   "cell_type": "markdown",
   "id": "fdf2e3ca",
   "metadata": {},
   "source": [
    "# Class and Static Methods "
   ]
  },
  {
   "cell_type": "markdown",
   "id": "01e4b55a",
   "metadata": {},
   "source": [
    "`` When we define a function within a class,it can behave differently  ``\n",
    "\n",
    "`` depending on how the function was called (from the class or from the instance)   ``"
   ]
  },
  {
   "cell_type": "code",
   "execution_count": null,
   "id": "72124e58",
   "metadata": {},
   "outputs": [],
   "source": []
  },
  {
   "cell_type": "code",
   "execution_count": 1,
   "id": "8e7d12fc",
   "metadata": {},
   "outputs": [],
   "source": [
    "class Person:\n",
    "    def say_hi():    # As this function takes no arg, it is just a regular function ( class attribute )\n",
    "        print('Welcome to the world of objects and classes')\n",
    "    "
   ]
  },
  {
   "cell_type": "code",
   "execution_count": 2,
   "id": "e3327d2c",
   "metadata": {},
   "outputs": [
    {
     "name": "stdout",
     "output_type": "stream",
     "text": [
      "Welcome to the world of objects and classes\n"
     ]
    }
   ],
   "source": [
    "Person.say_hi()"
   ]
  },
  {
   "cell_type": "code",
   "execution_count": 3,
   "id": "0c49579a",
   "metadata": {},
   "outputs": [
    {
     "data": {
      "text/plain": [
       "<function __main__.Person.say_hi()>"
      ]
     },
     "execution_count": 3,
     "metadata": {},
     "output_type": "execute_result"
    }
   ],
   "source": [
    "Person.say_hi"
   ]
  },
  {
   "cell_type": "code",
   "execution_count": 4,
   "id": "0b2cf7bf",
   "metadata": {},
   "outputs": [],
   "source": [
    "p = Person()\n"
   ]
  },
  {
   "cell_type": "code",
   "execution_count": 5,
   "id": "9e7b52c2",
   "metadata": {},
   "outputs": [
    {
     "ename": "TypeError",
     "evalue": "say_hi() takes 0 positional arguments but 1 was given",
     "output_type": "error",
     "traceback": [
      "\u001b[1;31m---------------------------------------------------------------------------\u001b[0m",
      "\u001b[1;31mTypeError\u001b[0m                                 Traceback (most recent call last)",
      "\u001b[1;32m<ipython-input-5-583c6fa20361>\u001b[0m in \u001b[0;36m<module>\u001b[1;34m\u001b[0m\n\u001b[1;32m----> 1\u001b[1;33m \u001b[0mp\u001b[0m\u001b[1;33m.\u001b[0m\u001b[0msay_hi\u001b[0m\u001b[1;33m(\u001b[0m\u001b[1;33m)\u001b[0m\u001b[1;33m\u001b[0m\u001b[1;33m\u001b[0m\u001b[0m\n\u001b[0m",
      "\u001b[1;31mTypeError\u001b[0m: say_hi() takes 0 positional arguments but 1 was given"
     ]
    }
   ],
   "source": [
    "p.say_hi()"
   ]
  },
  {
   "cell_type": "code",
   "execution_count": 6,
   "id": "04e3395b",
   "metadata": {},
   "outputs": [],
   "source": [
    "class Person:\n",
    "    def say_hi(val='A Default value'):\n",
    "        print('Welcome to the world of objects and classes with {}'.format(val))\n",
    "    "
   ]
  },
  {
   "cell_type": "code",
   "execution_count": 7,
   "id": "511a03db",
   "metadata": {},
   "outputs": [
    {
     "data": {
      "text/plain": [
       "<function __main__.Person.say_hi(val='A Default value')>"
      ]
     },
     "execution_count": 7,
     "metadata": {},
     "output_type": "execute_result"
    }
   ],
   "source": [
    "Person.say_hi"
   ]
  },
  {
   "cell_type": "code",
   "execution_count": 8,
   "id": "768ceaeb",
   "metadata": {},
   "outputs": [],
   "source": [
    "p = Person()"
   ]
  },
  {
   "cell_type": "code",
   "execution_count": 9,
   "id": "3488767d",
   "metadata": {},
   "outputs": [
    {
     "data": {
      "text/plain": [
       "<bound method Person.say_hi of <__main__.Person object at 0x00000269D6E34550>>"
      ]
     },
     "execution_count": 9,
     "metadata": {},
     "output_type": "execute_result"
    }
   ],
   "source": [
    "p.say_hi"
   ]
  },
  {
   "cell_type": "code",
   "execution_count": 12,
   "id": "9448033e",
   "metadata": {},
   "outputs": [
    {
     "data": {
      "text/plain": [
       "'0x269d6e34550'"
      ]
     },
     "execution_count": 12,
     "metadata": {},
     "output_type": "execute_result"
    }
   ],
   "source": [
    "hex(id(p))"
   ]
  },
  {
   "cell_type": "markdown",
   "id": "61702b57",
   "metadata": {},
   "source": [
    "`` You can call the function in the class using either of the following ways ``\n",
    "\n",
    "`` ClassName.function_name(object_name) `` \n",
    "   \n",
    "          `` OR ``\n",
    "        \n",
    "`` object_name.function_name() `` \n",
    "\n",
    "`` Both are same. Infact, python converts the second expression in a form similar to the first one ``"
   ]
  },
  {
   "cell_type": "code",
   "execution_count": 13,
   "id": "4dab064f",
   "metadata": {},
   "outputs": [
    {
     "name": "stdout",
     "output_type": "stream",
     "text": [
      "Welcome to the world of objects and classes with <__main__.Person object at 0x00000269D6E34550>\n"
     ]
    }
   ],
   "source": [
    "p.say_hi()    # ------> Person.say_hi(p)"
   ]
  },
  {
   "cell_type": "code",
   "execution_count": 14,
   "id": "66af6e62",
   "metadata": {},
   "outputs": [
    {
     "name": "stdout",
     "output_type": "stream",
     "text": [
      "Welcome to the world of objects and classes with <__main__.Person object at 0x00000269D6E34550>\n"
     ]
    }
   ],
   "source": [
    "Person.say_hi(p)"
   ]
  },
  {
   "cell_type": "code",
   "execution_count": 15,
   "id": "b666e113",
   "metadata": {},
   "outputs": [],
   "source": [
    "class Person:\n",
    "    def say_hi(self):\n",
    "        print(\"say_hi called from {} \".format(self))"
   ]
  },
  {
   "cell_type": "code",
   "execution_count": 16,
   "id": "0cc00eac",
   "metadata": {},
   "outputs": [],
   "source": [
    "p = Person()"
   ]
  },
  {
   "cell_type": "code",
   "execution_count": 19,
   "id": "ebebdd97",
   "metadata": {},
   "outputs": [
    {
     "name": "stdout",
     "output_type": "stream",
     "text": [
      "<__main__.Person object at 0x00000269D8338C40>\n",
      "say_hi called from <__main__.Person object at 0x00000269D8338C40> \n",
      "say_hi called from <__main__.Person object at 0x00000269D8338C40> \n"
     ]
    }
   ],
   "source": [
    "print(repr(p))\n",
    "p.say_hi()\n",
    "Person.say_hi(p)"
   ]
  },
  {
   "cell_type": "markdown",
   "id": "49798d05",
   "metadata": {},
   "source": [
    "`` There might be times when we define our function in a class that does not interact with the object  ``\n",
    "\n",
    "`` ( instance ), but may require something from the class( or it interacts with the class ) `` \n",
    "\n",
    "`` In this case, we will be required the class to be passed to the function as an argument  ``\n",
    "\n",
    "`` whether it is called from the class level or from an instance level `` \n",
    "\n",
    "\n",
    "\n",
    "\n",
    "\n"
   ]
  },
  {
   "cell_type": "markdown",
   "id": "efe17f57",
   "metadata": {},
   "source": [
    "`` The above scenario is known as to be a class method ``\n",
    "\n",
    "`` Syntax : `` \n",
    "    \n",
    "`` @classmethod `` "
   ]
  },
  {
   "cell_type": "code",
   "execution_count": 20,
   "id": "f48b5c81",
   "metadata": {},
   "outputs": [],
   "source": [
    "class YourClass:\n",
    "    \n",
    "    def say_hello():\n",
    "        print(\"saying hello..\")\n",
    "    \n",
    "    def instance_say_hello(self):\n",
    "        print(f' Hello from {self}')\n",
    "        \n",
    "    @classmethod\n",
    "    def class_say_hello(self):\n",
    "        print(f'Hello from {self}')\n",
    "    \n",
    "        "
   ]
  },
  {
   "cell_type": "code",
   "execution_count": 22,
   "id": "db4b32e8",
   "metadata": {},
   "outputs": [
    {
     "data": {
      "text/plain": [
       "<function __main__.YourClass.say_hello()>"
      ]
     },
     "execution_count": 22,
     "metadata": {},
     "output_type": "execute_result"
    }
   ],
   "source": [
    "YourClass.say_hello"
   ]
  },
  {
   "cell_type": "code",
   "execution_count": 23,
   "id": "34e5a410",
   "metadata": {},
   "outputs": [],
   "source": [
    "my_instance = YourClass()"
   ]
  },
  {
   "cell_type": "code",
   "execution_count": 25,
   "id": "98076b19",
   "metadata": {},
   "outputs": [
    {
     "data": {
      "text/plain": [
       "(<__main__.YourClass at 0x269d83387f0>,\n",
       " '<__main__.YourClass object at 0x00000269D83387F0>')"
      ]
     },
     "execution_count": 25,
     "metadata": {},
     "output_type": "execute_result"
    }
   ],
   "source": [
    "my_instance, repr(my_instance)"
   ]
  },
  {
   "cell_type": "code",
   "execution_count": 26,
   "id": "fc346af2",
   "metadata": {},
   "outputs": [
    {
     "name": "stdout",
     "output_type": "stream",
     "text": [
      " Hello from <__main__.YourClass object at 0x00000269D83387F0>\n"
     ]
    }
   ],
   "source": [
    "YourClass.instance_say_hello(my_instance)"
   ]
  },
  {
   "cell_type": "code",
   "execution_count": 27,
   "id": "86c30908",
   "metadata": {},
   "outputs": [
    {
     "name": "stdout",
     "output_type": "stream",
     "text": [
      " Hello from <__main__.YourClass object at 0x00000269D83387F0>\n"
     ]
    }
   ],
   "source": [
    "my_instance.instance_say_hello()"
   ]
  },
  {
   "cell_type": "code",
   "execution_count": 29,
   "id": "8bfe9307",
   "metadata": {},
   "outputs": [
    {
     "name": "stdout",
     "output_type": "stream",
     "text": [
      "Hello from <class '__main__.YourClass'>\n"
     ]
    }
   ],
   "source": [
    "YourClass.class_say_hello()"
   ]
  },
  {
   "cell_type": "code",
   "execution_count": 30,
   "id": "d83f1ddc",
   "metadata": {},
   "outputs": [
    {
     "name": "stdout",
     "output_type": "stream",
     "text": [
      "Hello from <class '__main__.YourClass'>\n"
     ]
    }
   ],
   "source": [
    "my_instance.class_say_hello()"
   ]
  },
  {
   "cell_type": "code",
   "execution_count": 31,
   "id": "a2788bdf",
   "metadata": {},
   "outputs": [
    {
     "data": {
      "text/plain": [
       "<bound method YourClass.class_say_hello of <class '__main__.YourClass'>>"
      ]
     },
     "execution_count": 31,
     "metadata": {},
     "output_type": "execute_result"
    }
   ],
   "source": [
    "YourClass.class_say_hello"
   ]
  },
  {
   "cell_type": "code",
   "execution_count": 32,
   "id": "ee186421",
   "metadata": {},
   "outputs": [
    {
     "data": {
      "text/plain": [
       "<bound method YourClass.class_say_hello of <class '__main__.YourClass'>>"
      ]
     },
     "execution_count": 32,
     "metadata": {},
     "output_type": "execute_result"
    }
   ],
   "source": [
    "my_instance.class_say_hello"
   ]
  },
  {
   "cell_type": "code",
   "execution_count": 33,
   "id": "2f87014a",
   "metadata": {},
   "outputs": [
    {
     "ename": "TypeError",
     "evalue": "class_say_hello() takes 1 positional argument but 2 were given",
     "output_type": "error",
     "traceback": [
      "\u001b[1;31m---------------------------------------------------------------------------\u001b[0m",
      "\u001b[1;31mTypeError\u001b[0m                                 Traceback (most recent call last)",
      "\u001b[1;32m<ipython-input-33-c9df7240529e>\u001b[0m in \u001b[0;36m<module>\u001b[1;34m\u001b[0m\n\u001b[1;32m----> 1\u001b[1;33m \u001b[0mYourClass\u001b[0m\u001b[1;33m.\u001b[0m\u001b[0mclass_say_hello\u001b[0m\u001b[1;33m(\u001b[0m\u001b[0mmy_instance\u001b[0m\u001b[1;33m)\u001b[0m\u001b[1;33m\u001b[0m\u001b[1;33m\u001b[0m\u001b[0m\n\u001b[0m",
      "\u001b[1;31mTypeError\u001b[0m: class_say_hello() takes 1 positional argument but 2 were given"
     ]
    }
   ],
   "source": [
    "YourClass.class_say_hello(my_instance)"
   ]
  },
  {
   "cell_type": "markdown",
   "id": "9ae4b928",
   "metadata": {},
   "source": [
    "`` It is just a convention `` \n",
    "\n",
    "`` self for instance `` \n",
    "\n",
    "`` cls for class `` "
   ]
  },
  {
   "cell_type": "code",
   "execution_count": 34,
   "id": "9166de5a",
   "metadata": {},
   "outputs": [],
   "source": [
    "class YourClass:\n",
    "    \n",
    "    def say_hello():\n",
    "        print(\"saying hello..\")\n",
    "    \n",
    "    def instance_say_hello(self):\n",
    "        print(f' Hello from {self}')\n",
    "        \n",
    "    @classmethod\n",
    "    def class_say_hello(cls):\n",
    "        print(f'Hello from {cls}')\n",
    "    \n",
    "        "
   ]
  },
  {
   "cell_type": "code",
   "execution_count": 35,
   "id": "03ea5fee",
   "metadata": {},
   "outputs": [
    {
     "name": "stdout",
     "output_type": "stream",
     "text": [
      "Hello from <class '__main__.YourClass'>\n"
     ]
    }
   ],
   "source": [
    "YourClass.class_say_hello()"
   ]
  },
  {
   "cell_type": "markdown",
   "id": "3ec82770",
   "metadata": {},
   "source": [
    "`` At times we may require that a particular function in our class is not attached to  ``\n",
    "\n",
    "`` either the class or the instance no matter how we call them. These are called static methods ``\n",
    "\n",
    "`` Syntax : Use a @staticmethod decorator  ``\n"
   ]
  },
  {
   "cell_type": "code",
   "execution_count": 36,
   "id": "1f0e321c",
   "metadata": {},
   "outputs": [],
   "source": [
    "class Person:\n",
    "    \n",
    "    def regular_func():\n",
    "        print(' Just a regular function...')\n",
    "        \n",
    "    @classmethod\n",
    "    def class_func():\n",
    "        print(' A class Method ')\n",
    "        \n",
    "    @staticmethod\n",
    "    def static_func():\n",
    "        print(' Just a static method ')\n",
    "        \n",
    "    "
   ]
  },
  {
   "cell_type": "code",
   "execution_count": 37,
   "id": "950abfba",
   "metadata": {},
   "outputs": [],
   "source": [
    "class Variation:\n",
    "    \n",
    "    def func_one():\n",
    "        print('func_one called')\n",
    "    \n",
    "    def func_two(self):\n",
    "        print('func_two called')\n",
    "    \n",
    "    @classmethod\n",
    "    def func_three(cls):\n",
    "        print('func_three called')\n",
    "    \n",
    "    @staticmethod\n",
    "    def func_four():\n",
    "        print('func_four called')\n",
    "        \n",
    "    \n",
    "    "
   ]
  },
  {
   "cell_type": "code",
   "execution_count": 38,
   "id": "35df7a5b",
   "metadata": {},
   "outputs": [],
   "source": [
    "v = Variation()"
   ]
  },
  {
   "cell_type": "code",
   "execution_count": 39,
   "id": "93e04a6c",
   "metadata": {},
   "outputs": [
    {
     "data": {
      "text/plain": [
       "'0x269d8249af0'"
      ]
     },
     "execution_count": 39,
     "metadata": {},
     "output_type": "execute_result"
    }
   ],
   "source": [
    "hex(id(v))"
   ]
  },
  {
   "cell_type": "code",
   "execution_count": 40,
   "id": "b6d3dedb",
   "metadata": {},
   "outputs": [
    {
     "data": {
      "text/plain": [
       "'0x269d63729c0'"
      ]
     },
     "execution_count": 40,
     "metadata": {},
     "output_type": "execute_result"
    }
   ],
   "source": [
    "hex(id(Variation))"
   ]
  },
  {
   "cell_type": "markdown",
   "id": "113bb502",
   "metadata": {},
   "source": [
    "# Calling the function using class name "
   ]
  },
  {
   "cell_type": "code",
   "execution_count": 41,
   "id": "b9406cd5",
   "metadata": {},
   "outputs": [
    {
     "name": "stdout",
     "output_type": "stream",
     "text": [
      "func_one called\n"
     ]
    }
   ],
   "source": [
    "Variation.func_one()"
   ]
  },
  {
   "cell_type": "code",
   "execution_count": 42,
   "id": "ae7f68fc",
   "metadata": {},
   "outputs": [
    {
     "ename": "TypeError",
     "evalue": "func_one() takes 0 positional arguments but 1 was given",
     "output_type": "error",
     "traceback": [
      "\u001b[1;31m---------------------------------------------------------------------------\u001b[0m",
      "\u001b[1;31mTypeError\u001b[0m                                 Traceback (most recent call last)",
      "\u001b[1;32m<ipython-input-42-5fb0bc02b3aa>\u001b[0m in \u001b[0;36m<module>\u001b[1;34m\u001b[0m\n\u001b[1;32m----> 1\u001b[1;33m \u001b[0mv\u001b[0m\u001b[1;33m.\u001b[0m\u001b[0mfunc_one\u001b[0m\u001b[1;33m(\u001b[0m\u001b[1;33m)\u001b[0m\u001b[1;33m\u001b[0m\u001b[1;33m\u001b[0m\u001b[0m\n\u001b[0m",
      "\u001b[1;31mTypeError\u001b[0m: func_one() takes 0 positional arguments but 1 was given"
     ]
    }
   ],
   "source": [
    "v.func_one()"
   ]
  },
  {
   "cell_type": "code",
   "execution_count": 45,
   "id": "ff52359b",
   "metadata": {},
   "outputs": [
    {
     "name": "stdout",
     "output_type": "stream",
     "text": [
      "func_two called\n"
     ]
    }
   ],
   "source": [
    "v.func_two()"
   ]
  },
  {
   "cell_type": "code",
   "execution_count": 46,
   "id": "425585a0",
   "metadata": {},
   "outputs": [
    {
     "name": "stdout",
     "output_type": "stream",
     "text": [
      "func_two called\n"
     ]
    }
   ],
   "source": [
    "Variation.func_two(v)"
   ]
  },
  {
   "cell_type": "markdown",
   "id": "4efb0a48",
   "metadata": {},
   "source": [
    "# Calling the class method "
   ]
  },
  {
   "cell_type": "code",
   "execution_count": 47,
   "id": "ccb26cbd",
   "metadata": {},
   "outputs": [
    {
     "name": "stdout",
     "output_type": "stream",
     "text": [
      "func_three called\n"
     ]
    }
   ],
   "source": [
    "Variation.func_three()"
   ]
  },
  {
   "cell_type": "code",
   "execution_count": 48,
   "id": "46f1b3d9",
   "metadata": {},
   "outputs": [
    {
     "ename": "TypeError",
     "evalue": "func_three() takes 1 positional argument but 2 were given",
     "output_type": "error",
     "traceback": [
      "\u001b[1;31m---------------------------------------------------------------------------\u001b[0m",
      "\u001b[1;31mTypeError\u001b[0m                                 Traceback (most recent call last)",
      "\u001b[1;32m<ipython-input-48-9bb3f1c947c4>\u001b[0m in \u001b[0;36m<module>\u001b[1;34m\u001b[0m\n\u001b[1;32m----> 1\u001b[1;33m \u001b[0mVariation\u001b[0m\u001b[1;33m.\u001b[0m\u001b[0mfunc_three\u001b[0m\u001b[1;33m(\u001b[0m\u001b[0mv\u001b[0m\u001b[1;33m)\u001b[0m\u001b[1;33m\u001b[0m\u001b[1;33m\u001b[0m\u001b[0m\n\u001b[0m",
      "\u001b[1;31mTypeError\u001b[0m: func_three() takes 1 positional argument but 2 were given"
     ]
    }
   ],
   "source": [
    "Variation.func_three(v)"
   ]
  },
  {
   "cell_type": "code",
   "execution_count": 49,
   "id": "69762ae4",
   "metadata": {},
   "outputs": [
    {
     "name": "stdout",
     "output_type": "stream",
     "text": [
      "func_three called\n"
     ]
    }
   ],
   "source": [
    "v.func_three()"
   ]
  },
  {
   "cell_type": "markdown",
   "id": "9e4b1fa2",
   "metadata": {},
   "source": [
    "# Calling the static method "
   ]
  },
  {
   "cell_type": "code",
   "execution_count": 50,
   "id": "be22e263",
   "metadata": {},
   "outputs": [
    {
     "data": {
      "text/plain": [
       "<function __main__.Variation.func_four()>"
      ]
     },
     "execution_count": 50,
     "metadata": {},
     "output_type": "execute_result"
    }
   ],
   "source": [
    "Variation.func_four"
   ]
  },
  {
   "cell_type": "code",
   "execution_count": 51,
   "id": "dc9cf9be",
   "metadata": {},
   "outputs": [
    {
     "name": "stdout",
     "output_type": "stream",
     "text": [
      "func_four called\n"
     ]
    }
   ],
   "source": [
    "Variation.func_four()"
   ]
  },
  {
   "cell_type": "code",
   "execution_count": 52,
   "id": "1f424551",
   "metadata": {},
   "outputs": [
    {
     "name": "stdout",
     "output_type": "stream",
     "text": [
      "func_four called\n"
     ]
    }
   ],
   "source": [
    "v.func_four()"
   ]
  },
  {
   "cell_type": "markdown",
   "id": "deb881ca",
   "metadata": {},
   "source": [
    "# Try to see the class attributes \n",
    "\n",
    "`` ClassName.__dict__ `` \n",
    "\n",
    "     `` Will `` \n",
    "\n",
    "`` Give you all the attributes/functions/methods in its  namespace``\n",
    "\n"
   ]
  },
  {
   "cell_type": "code",
   "execution_count": 53,
   "id": "519fbd0d",
   "metadata": {},
   "outputs": [
    {
     "data": {
      "text/plain": [
       "mappingproxy({'__module__': '__main__',\n",
       "              'func_one': <function __main__.Variation.func_one()>,\n",
       "              'func_two': <function __main__.Variation.func_two(self)>,\n",
       "              'func_three': <classmethod at 0x269d823be20>,\n",
       "              'func_four': <staticmethod at 0x269d823b460>,\n",
       "              '__dict__': <attribute '__dict__' of 'Variation' objects>,\n",
       "              '__weakref__': <attribute '__weakref__' of 'Variation' objects>,\n",
       "              '__doc__': None})"
      ]
     },
     "execution_count": 53,
     "metadata": {},
     "output_type": "execute_result"
    }
   ],
   "source": [
    "Variation.__dict__"
   ]
  },
  {
   "cell_type": "markdown",
   "id": "ec2e4031",
   "metadata": {},
   "source": [
    "# Instance name space \n",
    "\n",
    "`` instance_name.__dict__ `` \n",
    "\n"
   ]
  },
  {
   "cell_type": "code",
   "execution_count": 54,
   "id": "e2bd16b0",
   "metadata": {},
   "outputs": [
    {
     "data": {
      "text/plain": [
       "{}"
      ]
     },
     "execution_count": 54,
     "metadata": {},
     "output_type": "execute_result"
    }
   ],
   "source": [
    "v.__dict__"
   ]
  },
  {
   "cell_type": "code",
   "execution_count": 55,
   "id": "4393e39f",
   "metadata": {},
   "outputs": [],
   "source": [
    "v.fname = 'Raghu'\n",
    "v.lname = 'Chattri'"
   ]
  },
  {
   "cell_type": "code",
   "execution_count": 56,
   "id": "a08c03ef",
   "metadata": {},
   "outputs": [
    {
     "data": {
      "text/plain": [
       "{'fname': 'Raghu', 'lname': 'Chattri'}"
      ]
     },
     "execution_count": 56,
     "metadata": {},
     "output_type": "execute_result"
    }
   ],
   "source": [
    "v.__dict__"
   ]
  },
  {
   "cell_type": "code",
   "execution_count": null,
   "id": "6f1b0f83",
   "metadata": {},
   "outputs": [],
   "source": []
  }
 ],
 "metadata": {
  "kernelspec": {
   "display_name": "Python 3",
   "language": "python",
   "name": "python3"
  },
  "language_info": {
   "codemirror_mode": {
    "name": "ipython",
    "version": 3
   },
   "file_extension": ".py",
   "mimetype": "text/x-python",
   "name": "python",
   "nbconvert_exporter": "python",
   "pygments_lexer": "ipython3",
   "version": "3.9.6"
  }
 },
 "nbformat": 4,
 "nbformat_minor": 5
}
