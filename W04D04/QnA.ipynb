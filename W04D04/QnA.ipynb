{
 "cells": [
  {
   "cell_type": "markdown",
   "id": "cba920cb",
   "metadata": {},
   "source": [
    " # Properties "
   ]
  },
  {
   "cell_type": "code",
   "execution_count": 1,
   "id": "363971bf",
   "metadata": {},
   "outputs": [],
   "source": [
    "class Student:\n",
    "    \n",
    "    def __init__(self,roll,name,age):\n",
    "        self._roll = roll\n",
    "        self._name = name \n",
    "        self._age = age \n",
    "        \n",
    "    def get_details(self):\n",
    "        return self._roll,self._name,self._age\n",
    "    \n",
    "    def set_details(self,roll,name,age):\n",
    "        self._roll = roll\n",
    "        self._name = name \n",
    "        self._age = age \n",
    "        \n",
    "    def set_name(self,name):\n",
    "        self._name = name \n",
    "        \n",
    "    def set_age(self,age):\n",
    "        self._age = age\n",
    "        \n",
    "        "
   ]
  },
  {
   "cell_type": "code",
   "execution_count": 2,
   "id": "d8f3d956",
   "metadata": {},
   "outputs": [],
   "source": [
    "s = Student(1,'Shabeena',20)"
   ]
  },
  {
   "cell_type": "code",
   "execution_count": 3,
   "id": "eb5ea7df",
   "metadata": {},
   "outputs": [
    {
     "data": {
      "text/plain": [
       "(1, 'Shabeena', 20)"
      ]
     },
     "execution_count": 3,
     "metadata": {},
     "output_type": "execute_result"
    }
   ],
   "source": [
    "s.get_details()"
   ]
  },
  {
   "cell_type": "code",
   "execution_count": 4,
   "id": "5f0ea4fd",
   "metadata": {},
   "outputs": [],
   "source": [
    "s.set_details(1,'Shb',21)"
   ]
  },
  {
   "cell_type": "code",
   "execution_count": 5,
   "id": "71150d04",
   "metadata": {},
   "outputs": [
    {
     "data": {
      "text/plain": [
       "(1, 'Shb', 21)"
      ]
     },
     "execution_count": 5,
     "metadata": {},
     "output_type": "execute_result"
    }
   ],
   "source": [
    "s.get_details()"
   ]
  },
  {
   "cell_type": "code",
   "execution_count": 10,
   "id": "25017124",
   "metadata": {},
   "outputs": [],
   "source": [
    "class Student:\n",
    "    \n",
    "    def __init__(self,roll,name,age):\n",
    "        self._roll = roll\n",
    "        self._name = name \n",
    "        self._age = age \n",
    "        \n",
    "    def get_details(self):\n",
    "        return self._roll,self._name,self._age\n",
    "    \n",
    "    def set_details(self,roll,name,age):\n",
    "        self._roll = roll\n",
    "        self._name = name \n",
    "        self._age = age \n",
    "        \n",
    "    def set_name(self,name):\n",
    "        self._name = name \n",
    "        \n",
    "    def set_age(self,age):\n",
    "        self._age = age\n",
    "        \n",
    "    \n",
    "    details = property(fget=get_details,doc=\"Details of the student\")\n",
    "    name = property(fget=get_details,fset=set_name,doc=\"Get/Set the name\")\n",
    "    age = property(fset=set_age,doc='Sets the age')"
   ]
  },
  {
   "cell_type": "code",
   "execution_count": 7,
   "id": "ff15c723",
   "metadata": {},
   "outputs": [
    {
     "data": {
      "text/plain": [
       "mappingproxy({'__module__': '__main__',\n",
       "              '__init__': <function __main__.Student.__init__(self, roll, name, age)>,\n",
       "              'get_details': <function __main__.Student.get_details(self)>,\n",
       "              'set_details': <function __main__.Student.set_details(self, roll, name, age)>,\n",
       "              'set_name': <function __main__.Student.set_name(self, name)>,\n",
       "              'set_age': <function __main__.Student.set_age(self, age)>,\n",
       "              'details': <property at 0x209f8c1e5e0>,\n",
       "              'name': <property at 0x209f8c46950>,\n",
       "              'age': <property at 0x209f8c469a0>,\n",
       "              '__dict__': <attribute '__dict__' of 'Student' objects>,\n",
       "              '__weakref__': <attribute '__weakref__' of 'Student' objects>,\n",
       "              '__doc__': None})"
      ]
     },
     "execution_count": 7,
     "metadata": {},
     "output_type": "execute_result"
    }
   ],
   "source": [
    "Student.__dict__"
   ]
  },
  {
   "cell_type": "code",
   "execution_count": 11,
   "id": "0a856925",
   "metadata": {},
   "outputs": [],
   "source": [
    "s = Student(100,'Me',1000)"
   ]
  },
  {
   "cell_type": "code",
   "execution_count": 12,
   "id": "bbca5489",
   "metadata": {},
   "outputs": [
    {
     "data": {
      "text/plain": [
       "{'_roll': 100, '_name': 'Me', '_age': 1000}"
      ]
     },
     "execution_count": 12,
     "metadata": {},
     "output_type": "execute_result"
    }
   ],
   "source": [
    "s.__dict__"
   ]
  },
  {
   "cell_type": "code",
   "execution_count": 13,
   "id": "53112196",
   "metadata": {},
   "outputs": [
    {
     "data": {
      "text/plain": [
       "(100, 'Me', 1000)"
      ]
     },
     "execution_count": 13,
     "metadata": {},
     "output_type": "execute_result"
    }
   ],
   "source": [
    "s.get_details()"
   ]
  },
  {
   "cell_type": "code",
   "execution_count": 14,
   "id": "4e8bdbb0",
   "metadata": {},
   "outputs": [
    {
     "data": {
      "text/plain": [
       "(100, 'Me', 1000)"
      ]
     },
     "execution_count": 14,
     "metadata": {},
     "output_type": "execute_result"
    }
   ],
   "source": [
    "s.details"
   ]
  },
  {
   "cell_type": "code",
   "execution_count": 15,
   "id": "a5d1ea10",
   "metadata": {},
   "outputs": [
    {
     "data": {
      "text/plain": [
       "(100, 'Me', 1000)"
      ]
     },
     "execution_count": 15,
     "metadata": {},
     "output_type": "execute_result"
    }
   ],
   "source": [
    "s.name"
   ]
  },
  {
   "cell_type": "code",
   "execution_count": 16,
   "id": "2767b3d4",
   "metadata": {},
   "outputs": [],
   "source": [
    "s.name = \"somani\""
   ]
  },
  {
   "cell_type": "code",
   "execution_count": 17,
   "id": "fd7476ff",
   "metadata": {},
   "outputs": [
    {
     "data": {
      "text/plain": [
       "(100, 'somani', 1000)"
      ]
     },
     "execution_count": 17,
     "metadata": {},
     "output_type": "execute_result"
    }
   ],
   "source": [
    "s.name"
   ]
  },
  {
   "cell_type": "markdown",
   "id": "3ccedb5e",
   "metadata": {},
   "source": [
    "`` 1. Implement the fdel property and demonstrate its working ``\n",
    "\n",
    "`` 2. Show the usage of doc argument in property `` "
   ]
  },
  {
   "cell_type": "markdown",
   "id": "2e514e77",
   "metadata": {},
   "source": [
    "`` 3. Implement a class that initializes an object with name and profession. Both name and profession \n",
    "      must be a string. Also empty strings should give a message to the user, to enter a non-empty string ``"
   ]
  },
  {
   "cell_type": "code",
   "execution_count": 19,
   "id": "cea17c6f",
   "metadata": {},
   "outputs": [],
   "source": [
    "class A:\n",
    "    def __init__(self,name):\n",
    "        self._name = name \n",
    "    def getname(self):\n",
    "        return self._name\n",
    "    "
   ]
  },
  {
   "cell_type": "code",
   "execution_count": 20,
   "id": "fbd3c200",
   "metadata": {},
   "outputs": [],
   "source": [
    "a = A(\"ra\")"
   ]
  },
  {
   "cell_type": "code",
   "execution_count": 21,
   "id": "e4e03769",
   "metadata": {},
   "outputs": [],
   "source": [
    "b = A(1)"
   ]
  },
  {
   "cell_type": "code",
   "execution_count": 22,
   "id": "fdd0cc78",
   "metadata": {},
   "outputs": [],
   "source": [
    "c = A([1,2,3])"
   ]
  },
  {
   "cell_type": "code",
   "execution_count": 23,
   "id": "4a599124",
   "metadata": {},
   "outputs": [],
   "source": [
    "d = A((100,200,300))"
   ]
  },
  {
   "cell_type": "code",
   "execution_count": 24,
   "id": "319eb73f",
   "metadata": {},
   "outputs": [],
   "source": [
    "e = A(True)"
   ]
  },
  {
   "cell_type": "code",
   "execution_count": 25,
   "id": "4220f874",
   "metadata": {},
   "outputs": [],
   "source": [
    "f = A('')"
   ]
  },
  {
   "cell_type": "code",
   "execution_count": 36,
   "id": "170d19de",
   "metadata": {},
   "outputs": [
    {
     "data": {
      "text/plain": [
       "('', str)"
      ]
     },
     "execution_count": 36,
     "metadata": {},
     "output_type": "execute_result"
    }
   ],
   "source": [
    "f.getname(), type(f.getname())"
   ]
  },
  {
   "cell_type": "code",
   "execution_count": 35,
   "id": "b33c1d4e",
   "metadata": {},
   "outputs": [
    {
     "data": {
      "text/plain": [
       "(True, bool)"
      ]
     },
     "execution_count": 35,
     "metadata": {},
     "output_type": "execute_result"
    }
   ],
   "source": [
    "e.getname(), type(e.getname())"
   ]
  },
  {
   "cell_type": "code",
   "execution_count": 34,
   "id": "74521a01",
   "metadata": {},
   "outputs": [
    {
     "data": {
      "text/plain": [
       "((100, 200, 300), tuple)"
      ]
     },
     "execution_count": 34,
     "metadata": {},
     "output_type": "execute_result"
    }
   ],
   "source": [
    "d.getname(), type(d.getname())"
   ]
  },
  {
   "cell_type": "code",
   "execution_count": 32,
   "id": "9bfbc78e",
   "metadata": {},
   "outputs": [
    {
     "data": {
      "text/plain": [
       "([1, 2, 3], list)"
      ]
     },
     "execution_count": 32,
     "metadata": {},
     "output_type": "execute_result"
    }
   ],
   "source": [
    "c.getname(), type(c.getname())"
   ]
  },
  {
   "cell_type": "code",
   "execution_count": 31,
   "id": "88b036c0",
   "metadata": {},
   "outputs": [
    {
     "data": {
      "text/plain": [
       "int"
      ]
     },
     "execution_count": 31,
     "metadata": {},
     "output_type": "execute_result"
    }
   ],
   "source": [
    "type(b.getname())"
   ]
  },
  {
   "cell_type": "code",
   "execution_count": 37,
   "id": "1fea305b",
   "metadata": {},
   "outputs": [],
   "source": [
    "def a():\n",
    "    print('Hey How are you')\n",
    "    return a"
   ]
  },
  {
   "cell_type": "code",
   "execution_count": 44,
   "id": "9fd7e880",
   "metadata": {},
   "outputs": [
    {
     "name": "stdout",
     "output_type": "stream",
     "text": [
      "Hey How are you\n"
     ]
    },
    {
     "data": {
      "text/plain": [
       "(<function __main__.a()>, 2241852258336)"
      ]
     },
     "execution_count": 44,
     "metadata": {},
     "output_type": "execute_result"
    }
   ],
   "source": [
    "a(), id(a)"
   ]
  },
  {
   "cell_type": "code",
   "execution_count": 39,
   "id": "221e7e75",
   "metadata": {},
   "outputs": [
    {
     "name": "stdout",
     "output_type": "stream",
     "text": [
      "Hey How are you\n"
     ]
    }
   ],
   "source": [
    "f = a()"
   ]
  },
  {
   "cell_type": "code",
   "execution_count": 43,
   "id": "13dbe534",
   "metadata": {},
   "outputs": [
    {
     "data": {
      "text/plain": [
       "(<function __main__.a()>, function, 2241852258336)"
      ]
     },
     "execution_count": 43,
     "metadata": {},
     "output_type": "execute_result"
    }
   ],
   "source": [
    "f, type(f),id(f)"
   ]
  },
  {
   "cell_type": "code",
   "execution_count": 41,
   "id": "c0ebe411",
   "metadata": {},
   "outputs": [
    {
     "name": "stdout",
     "output_type": "stream",
     "text": [
      "Hey How are you\n"
     ]
    },
    {
     "data": {
      "text/plain": [
       "<function __main__.a()>"
      ]
     },
     "execution_count": 41,
     "metadata": {},
     "output_type": "execute_result"
    }
   ],
   "source": [
    "f()"
   ]
  },
  {
   "cell_type": "markdown",
   "id": "b7d96105",
   "metadata": {},
   "source": [
    "`` Aakash implementation of Excersize 1 ``\n"
   ]
  },
  {
   "cell_type": "code",
   "execution_count": 60,
   "id": "7ee91f57",
   "metadata": {},
   "outputs": [],
   "source": [
    "class Employee:\n",
    "    \n",
    "    def __init__(self,name,profession):\n",
    "        self._name=name\n",
    "        self._profession=profession\n",
    "\n",
    "    def get_name(self):\n",
    "        return self._name\n",
    "\n",
    "    def get_profession(self):\n",
    "        return self._profession\n",
    "\n",
    "    def set_name(self,name):\n",
    "        self._name=name\n",
    "\n",
    "    def set_profession(self,profession):\n",
    "        self._profession=profession\n",
    "\n",
    "    def del_name(self):\n",
    "        del self._name\n",
    "\n",
    "    def del_profession(self):\n",
    "        del self._profession\n",
    "\n",
    "\n",
    "    name=property(fget=get_name,fset=set_name,fdel=del_name,doc='Get/set the attribute name')\n",
    "    profession=property(fget=get_profession,fset=set_profession,fdel=del_profession,doc='Get/Set the attribute profession')\n",
    "# #     delname=property(fdel=del_name,doc='Get/set/Delete the attribute name')\n",
    "#     delprofession=property(fdel=del_profession,doc='Get/Set/Delete the attribute profession')"
   ]
  },
  {
   "cell_type": "code",
   "execution_count": 61,
   "id": "01cb7c07",
   "metadata": {},
   "outputs": [],
   "source": [
    "e = Employee('Rahul','Trainer')"
   ]
  },
  {
   "cell_type": "code",
   "execution_count": 47,
   "id": "228ff1b0",
   "metadata": {},
   "outputs": [
    {
     "data": {
      "text/plain": [
       "'<__main__.Employee object at 0x00000209F8C431C0>'"
      ]
     },
     "execution_count": 47,
     "metadata": {},
     "output_type": "execute_result"
    }
   ],
   "source": [
    "str(e)"
   ]
  },
  {
   "cell_type": "code",
   "execution_count": 49,
   "id": "6cab81f3",
   "metadata": {},
   "outputs": [
    {
     "data": {
      "text/plain": [
       "'Rahul'"
      ]
     },
     "execution_count": 49,
     "metadata": {},
     "output_type": "execute_result"
    }
   ],
   "source": [
    "e.name "
   ]
  },
  {
   "cell_type": "code",
   "execution_count": 50,
   "id": "78e3d412",
   "metadata": {},
   "outputs": [],
   "source": [
    "e.name = 'Somani'"
   ]
  },
  {
   "cell_type": "code",
   "execution_count": 51,
   "id": "b1f91a79",
   "metadata": {},
   "outputs": [
    {
     "data": {
      "text/plain": [
       "'Somani'"
      ]
     },
     "execution_count": 51,
     "metadata": {},
     "output_type": "execute_result"
    }
   ],
   "source": [
    "e.name"
   ]
  },
  {
   "cell_type": "code",
   "execution_count": 62,
   "id": "c314cf0e",
   "metadata": {},
   "outputs": [
    {
     "data": {
      "text/plain": [
       "{'_name': 'Rahul', '_profession': 'Trainer'}"
      ]
     },
     "execution_count": 62,
     "metadata": {},
     "output_type": "execute_result"
    }
   ],
   "source": [
    "e.__dict__"
   ]
  },
  {
   "cell_type": "code",
   "execution_count": 63,
   "id": "a83ebf89",
   "metadata": {},
   "outputs": [
    {
     "data": {
      "text/plain": [
       "'Rahul'"
      ]
     },
     "execution_count": 63,
     "metadata": {},
     "output_type": "execute_result"
    }
   ],
   "source": [
    "e.name"
   ]
  },
  {
   "cell_type": "code",
   "execution_count": 64,
   "id": "3ec6e757",
   "metadata": {},
   "outputs": [],
   "source": [
    "del e.name"
   ]
  },
  {
   "cell_type": "code",
   "execution_count": 65,
   "id": "d9ea4e7b",
   "metadata": {},
   "outputs": [
    {
     "data": {
      "text/plain": [
       "{'_profession': 'Trainer'}"
      ]
     },
     "execution_count": 65,
     "metadata": {},
     "output_type": "execute_result"
    }
   ],
   "source": [
    "e.__dict__"
   ]
  },
  {
   "cell_type": "code",
   "execution_count": 66,
   "id": "15547e85",
   "metadata": {},
   "outputs": [],
   "source": [
    "del e.profession"
   ]
  },
  {
   "cell_type": "code",
   "execution_count": 67,
   "id": "d686019d",
   "metadata": {},
   "outputs": [
    {
     "data": {
      "text/plain": [
       "{}"
      ]
     },
     "execution_count": 67,
     "metadata": {},
     "output_type": "execute_result"
    }
   ],
   "source": [
    "e.__dict__"
   ]
  },
  {
   "cell_type": "code",
   "execution_count": 68,
   "id": "f8523376",
   "metadata": {},
   "outputs": [],
   "source": [
    "x = 2\n"
   ]
  },
  {
   "cell_type": "code",
   "execution_count": 69,
   "id": "c0941360",
   "metadata": {},
   "outputs": [
    {
     "data": {
      "text/plain": [
       "int"
      ]
     },
     "execution_count": 69,
     "metadata": {},
     "output_type": "execute_result"
    }
   ],
   "source": [
    "type(x)"
   ]
  },
  {
   "cell_type": "code",
   "execution_count": 70,
   "id": "dca3fffa",
   "metadata": {},
   "outputs": [
    {
     "data": {
      "text/plain": [
       "True"
      ]
     },
     "execution_count": 70,
     "metadata": {},
     "output_type": "execute_result"
    }
   ],
   "source": [
    "issubclass(int,object)\n"
   ]
  },
  {
   "cell_type": "code",
   "execution_count": 71,
   "id": "6f88f804",
   "metadata": {},
   "outputs": [
    {
     "data": {
      "text/plain": [
       "2241777723728"
      ]
     },
     "execution_count": 71,
     "metadata": {},
     "output_type": "execute_result"
    }
   ],
   "source": [
    "id(x)"
   ]
  },
  {
   "cell_type": "code",
   "execution_count": 72,
   "id": "a0932bbb",
   "metadata": {},
   "outputs": [],
   "source": [
    "x = 3"
   ]
  },
  {
   "cell_type": "code",
   "execution_count": 73,
   "id": "bff0f913",
   "metadata": {},
   "outputs": [
    {
     "name": "stdout",
     "output_type": "stream",
     "text": [
      "3\n"
     ]
    }
   ],
   "source": [
    "print(x)"
   ]
  },
  {
   "cell_type": "code",
   "execution_count": 74,
   "id": "7e997269",
   "metadata": {},
   "outputs": [],
   "source": [
    "del x"
   ]
  },
  {
   "cell_type": "code",
   "execution_count": 75,
   "id": "93f23a0f",
   "metadata": {},
   "outputs": [
    {
     "ename": "NameError",
     "evalue": "name 'x' is not defined",
     "output_type": "error",
     "traceback": [
      "\u001b[1;31m---------------------------------------------------------------------------\u001b[0m",
      "\u001b[1;31mNameError\u001b[0m                                 Traceback (most recent call last)",
      "\u001b[1;32m<ipython-input-75-6fcf9dfbd479>\u001b[0m in \u001b[0;36m<module>\u001b[1;34m\u001b[0m\n\u001b[1;32m----> 1\u001b[1;33m \u001b[0mx\u001b[0m\u001b[1;33m\u001b[0m\u001b[1;33m\u001b[0m\u001b[0m\n\u001b[0m",
      "\u001b[1;31mNameError\u001b[0m: name 'x' is not defined"
     ]
    }
   ],
   "source": [
    "x"
   ]
  },
  {
   "cell_type": "markdown",
   "id": "a0e4e74a",
   "metadata": {},
   "source": [
    "# Rao's Implementation of Excercise 3 \n",
    "\n",
    "`` Along the debugging his code ``\n",
    "\n",
    "`` 3. Implement a class that initializes an object with name and profession. Both name and profession \n",
    "      must be a string. Also empty strings should give a message to the user, to enter a non-empty string ``"
   ]
  },
  {
   "cell_type": "code",
   "execution_count": 77,
   "id": "fc768191",
   "metadata": {},
   "outputs": [
    {
     "name": "stdout",
     "output_type": "stream",
     "text": [
      "Enter name[1,2,3]\n",
      "Enter profession(100,200)\n",
      "Only string type is allowed\n"
     ]
    }
   ],
   "source": [
    "# class Func:\n",
    "#     def __init__(self):\n",
    "#         self.name = name\n",
    "#         self.profession=profession\n",
    "#         print(self.name,self.profession)\n",
    "        \n",
    "        \n",
    "\n",
    "name= input(\"Enter name\")\n",
    "profession =input(\"Enter profession\")\n",
    " \n",
    "if name.isalpha() and profession.isalpha():\n",
    "    Func()\n",
    "else:\n",
    "    print('Only string type is allowed')"
   ]
  },
  {
   "cell_type": "code",
   "execution_count": 83,
   "id": "bba33af4",
   "metadata": {},
   "outputs": [],
   "source": [
    "import time\n",
    "\n",
    "class Func:\n",
    "    \n",
    "    def __init__(self,name,profession):\n",
    "        if name.isalpha() and profession.isalpha():\n",
    "        \n",
    "            self._name = name\n",
    "            self._profession = profession \n",
    "            time.sleep(5)\n",
    "            print(' Object Intitialized')\n",
    "        else:\n",
    "            print('Object not intialize with proper type')\n",
    "    \n",
    "        \n",
    "\n"
   ]
  },
  {
   "cell_type": "code",
   "execution_count": 85,
   "id": "40af7f5f",
   "metadata": {},
   "outputs": [
    {
     "name": "stdout",
     "output_type": "stream",
     "text": [
      " Object Intitialized\n"
     ]
    }
   ],
   "source": [
    "fun= Func('Tiru','Engineer')"
   ]
  },
  {
   "cell_type": "code",
   "execution_count": 86,
   "id": "538a373b",
   "metadata": {},
   "outputs": [
    {
     "data": {
      "text/plain": [
       "{'_name': 'Tiru', '_profession': 'Engineer'}"
      ]
     },
     "execution_count": 86,
     "metadata": {},
     "output_type": "execute_result"
    }
   ],
   "source": [
    "fun.__dict__"
   ]
  },
  {
   "cell_type": "code",
   "execution_count": 87,
   "id": "7f5f75c8",
   "metadata": {},
   "outputs": [
    {
     "ename": "AttributeError",
     "evalue": "'int' object has no attribute 'isalpha'",
     "output_type": "error",
     "traceback": [
      "\u001b[1;31m---------------------------------------------------------------------------\u001b[0m",
      "\u001b[1;31mAttributeError\u001b[0m                            Traceback (most recent call last)",
      "\u001b[1;32m<ipython-input-87-46e29f629adc>\u001b[0m in \u001b[0;36m<module>\u001b[1;34m\u001b[0m\n\u001b[1;32m----> 1\u001b[1;33m \u001b[0mf1\u001b[0m\u001b[1;33m=\u001b[0m \u001b[0mFunc\u001b[0m\u001b[1;33m(\u001b[0m\u001b[1;36m1\u001b[0m\u001b[1;33m,\u001b[0m\u001b[1;34m'Engineer'\u001b[0m\u001b[1;33m)\u001b[0m\u001b[1;33m\u001b[0m\u001b[1;33m\u001b[0m\u001b[0m\n\u001b[0m",
      "\u001b[1;32m<ipython-input-83-1fd77100e0ad>\u001b[0m in \u001b[0;36m__init__\u001b[1;34m(self, name, profession)\u001b[0m\n\u001b[0;32m      4\u001b[0m \u001b[1;33m\u001b[0m\u001b[0m\n\u001b[0;32m      5\u001b[0m     \u001b[1;32mdef\u001b[0m \u001b[0m__init__\u001b[0m\u001b[1;33m(\u001b[0m\u001b[0mself\u001b[0m\u001b[1;33m,\u001b[0m\u001b[0mname\u001b[0m\u001b[1;33m,\u001b[0m\u001b[0mprofession\u001b[0m\u001b[1;33m)\u001b[0m\u001b[1;33m:\u001b[0m\u001b[1;33m\u001b[0m\u001b[1;33m\u001b[0m\u001b[0m\n\u001b[1;32m----> 6\u001b[1;33m         \u001b[1;32mif\u001b[0m \u001b[0mname\u001b[0m\u001b[1;33m.\u001b[0m\u001b[0misalpha\u001b[0m\u001b[1;33m(\u001b[0m\u001b[1;33m)\u001b[0m \u001b[1;32mand\u001b[0m \u001b[0mprofession\u001b[0m\u001b[1;33m.\u001b[0m\u001b[0misalpha\u001b[0m\u001b[1;33m(\u001b[0m\u001b[1;33m)\u001b[0m\u001b[1;33m:\u001b[0m\u001b[1;33m\u001b[0m\u001b[1;33m\u001b[0m\u001b[0m\n\u001b[0m\u001b[0;32m      7\u001b[0m \u001b[1;33m\u001b[0m\u001b[0m\n\u001b[0;32m      8\u001b[0m             \u001b[0mself\u001b[0m\u001b[1;33m.\u001b[0m\u001b[0m_name\u001b[0m \u001b[1;33m=\u001b[0m \u001b[0mname\u001b[0m\u001b[1;33m\u001b[0m\u001b[1;33m\u001b[0m\u001b[0m\n",
      "\u001b[1;31mAttributeError\u001b[0m: 'int' object has no attribute 'isalpha'"
     ]
    }
   ],
   "source": [
    "f1= Func(1,'Engineer')"
   ]
  },
  {
   "cell_type": "code",
   "execution_count": null,
   "id": "8033dc80",
   "metadata": {},
   "outputs": [],
   "source": []
  },
  {
   "cell_type": "code",
   "execution_count": 81,
   "id": "9fbff881",
   "metadata": {},
   "outputs": [],
   "source": [
    "import time \n"
   ]
  },
  {
   "cell_type": "code",
   "execution_count": 82,
   "id": "85a97ee9",
   "metadata": {},
   "outputs": [
    {
     "data": {
      "text/plain": [
       "<function time.sleep>"
      ]
     },
     "execution_count": 82,
     "metadata": {},
     "output_type": "execute_result"
    }
   ],
   "source": [
    "time.sleep"
   ]
  },
  {
   "cell_type": "code",
   "execution_count": 90,
   "id": "3f343b34",
   "metadata": {},
   "outputs": [
    {
     "data": {
      "text/plain": [
       "True"
      ]
     },
     "execution_count": 90,
     "metadata": {},
     "output_type": "execute_result"
    }
   ],
   "source": [
    "\"Abc\".isalpha()"
   ]
  },
  {
   "cell_type": "code",
   "execution_count": 92,
   "id": "3e74d99d",
   "metadata": {},
   "outputs": [
    {
     "ename": "AttributeError",
     "evalue": "type object 'int' has no attribute 'isalpha'",
     "output_type": "error",
     "traceback": [
      "\u001b[1;31m---------------------------------------------------------------------------\u001b[0m",
      "\u001b[1;31mAttributeError\u001b[0m                            Traceback (most recent call last)",
      "\u001b[1;32m<ipython-input-92-8c720c13f067>\u001b[0m in \u001b[0;36m<module>\u001b[1;34m\u001b[0m\n\u001b[1;32m----> 1\u001b[1;33m \u001b[0mint\u001b[0m\u001b[1;33m.\u001b[0m\u001b[0misalpha\u001b[0m\u001b[1;33m(\u001b[0m\u001b[1;33m)\u001b[0m\u001b[1;33m\u001b[0m\u001b[1;33m\u001b[0m\u001b[0m\n\u001b[0m",
      "\u001b[1;31mAttributeError\u001b[0m: type object 'int' has no attribute 'isalpha'"
     ]
    }
   ],
   "source": [
    "int.isalpha()"
   ]
  },
  {
   "cell_type": "code",
   "execution_count": 93,
   "id": "36296493",
   "metadata": {},
   "outputs": [],
   "source": [
    "class MyClass:\n",
    "    \n",
    "    def __init__(self,name,profession):\n",
    "        if type(name)== str and type(profession)==str:\n",
    "            self._name = name\n",
    "            self._profession = profession \n",
    "            time.sleep(5)\n",
    "            print(' Object Intitialized')\n",
    "        else:\n",
    "            print('Object not intialized with proper type')\n"
   ]
  },
  {
   "cell_type": "code",
   "execution_count": 98,
   "id": "f4a4c7f9",
   "metadata": {},
   "outputs": [
    {
     "name": "stdout",
     "output_type": "stream",
     "text": [
      " Object Intitialized\n"
     ]
    }
   ],
   "source": [
    "obj_1 = MyClass('Rahul','Trainer')"
   ]
  },
  {
   "cell_type": "code",
   "execution_count": 99,
   "id": "d95f64f9",
   "metadata": {},
   "outputs": [
    {
     "data": {
      "text/plain": [
       "{'_name': 'Rahul', '_profession': 'Trainer'}"
      ]
     },
     "execution_count": 99,
     "metadata": {},
     "output_type": "execute_result"
    }
   ],
   "source": [
    "obj_1.__dict__"
   ]
  },
  {
   "cell_type": "code",
   "execution_count": 100,
   "id": "b8f21027",
   "metadata": {},
   "outputs": [
    {
     "name": "stdout",
     "output_type": "stream",
     "text": [
      "Object not intialized with proper type\n"
     ]
    }
   ],
   "source": [
    "obj_2 = MyClass(True,'Trainer')"
   ]
  },
  {
   "cell_type": "code",
   "execution_count": 101,
   "id": "c4811a95",
   "metadata": {},
   "outputs": [
    {
     "data": {
      "text/plain": [
       "{}"
      ]
     },
     "execution_count": 101,
     "metadata": {},
     "output_type": "execute_result"
    }
   ],
   "source": [
    "obj_2.__dict__"
   ]
  },
  {
   "cell_type": "code",
   "execution_count": 102,
   "id": "aa46e93e",
   "metadata": {},
   "outputs": [
    {
     "name": "stdout",
     "output_type": "stream",
     "text": [
      " Object Intitialized\n"
     ]
    }
   ],
   "source": [
    "obj_3 = MyClass('','')"
   ]
  },
  {
   "cell_type": "code",
   "execution_count": 103,
   "id": "81bc7326",
   "metadata": {},
   "outputs": [
    {
     "data": {
      "text/plain": [
       "{'_name': '', '_profession': ''}"
      ]
     },
     "execution_count": 103,
     "metadata": {},
     "output_type": "execute_result"
    }
   ],
   "source": [
    "obj_3.__dict__"
   ]
  },
  {
   "cell_type": "code",
   "execution_count": 105,
   "id": "193d93da",
   "metadata": {},
   "outputs": [],
   "source": [
    "class MyClass:\n",
    "    \n",
    "    def __init__(self,name,profession):\n",
    "        if type(name)== str and type(profession)==str and len(name) > 0 and  len(profession) > 0:\n",
    "            self._name = name\n",
    "            self._profession = profession \n",
    "            time.sleep(5)\n",
    "            print(' Object Intitialized')\n",
    "        else:\n",
    "            print('Object not intialized with proper type')\n"
   ]
  },
  {
   "cell_type": "code",
   "execution_count": 106,
   "id": "11692767",
   "metadata": {},
   "outputs": [
    {
     "name": "stdout",
     "output_type": "stream",
     "text": [
      " Object Intitialized\n",
      " Object Intitialized\n"
     ]
    }
   ],
   "source": [
    "o1 = MyClass('Tiru','Engineer')\n",
    "o2 = MyClass('Akash','Analyst')\n"
   ]
  },
  {
   "cell_type": "code",
   "execution_count": 107,
   "id": "375819a5",
   "metadata": {},
   "outputs": [
    {
     "name": "stdout",
     "output_type": "stream",
     "text": [
      "Object not intialized with proper type\n"
     ]
    }
   ],
   "source": [
    "o3 = MyClass('','ML')"
   ]
  },
  {
   "cell_type": "code",
   "execution_count": 108,
   "id": "63a0d11e",
   "metadata": {},
   "outputs": [
    {
     "data": {
      "text/plain": [
       "{'_name': 'Tiru', '_profession': 'Engineer'}"
      ]
     },
     "execution_count": 108,
     "metadata": {},
     "output_type": "execute_result"
    }
   ],
   "source": [
    "o1.__dict__"
   ]
  },
  {
   "cell_type": "code",
   "execution_count": 109,
   "id": "2b201058",
   "metadata": {},
   "outputs": [
    {
     "data": {
      "text/plain": [
       "{}"
      ]
     },
     "execution_count": 109,
     "metadata": {},
     "output_type": "execute_result"
    }
   ],
   "source": [
    "o3.__dict__"
   ]
  },
  {
   "cell_type": "code",
   "execution_count": 110,
   "id": "061222a3",
   "metadata": {},
   "outputs": [
    {
     "name": "stdout",
     "output_type": "stream",
     "text": [
      "Object not intialized with proper type\n"
     ]
    }
   ],
   "source": [
    "o4 = MyClass('Rahul',20)"
   ]
  },
  {
   "cell_type": "code",
   "execution_count": 111,
   "id": "a0f41acb",
   "metadata": {},
   "outputs": [
    {
     "data": {
      "text/plain": [
       "{}"
      ]
     },
     "execution_count": 111,
     "metadata": {},
     "output_type": "execute_result"
    }
   ],
   "source": [
    "o4.__dict__"
   ]
  },
  {
   "cell_type": "markdown",
   "id": "22f41305",
   "metadata": {},
   "source": [
    "# Implement the following \n",
    "\n",
    "## Validation \n",
    "\n",
    "`` Write a class and initialize it. Make sure that the argument we pass is a list and then return ``\n",
    "`` the average of the element `` \n",
    "\n"
   ]
  },
  {
   "cell_type": "code",
   "execution_count": 117,
   "id": "c9671479",
   "metadata": {},
   "outputs": [],
   "source": [
    "class Averager:\n",
    "    def __init__(self,seq):\n",
    "        if type(seq)==list or type(seq) == tuple:\n",
    "            print(' Initializing object')\n",
    "            self._seq = seq\n",
    "            time.sleep(2)\n",
    "            print(f'{self.__class__.__name__} initialized ')\n",
    "        else:\n",
    "            print(f'{self.__class__.__name__} not initialized ')\n",
    "            "
   ]
  },
  {
   "cell_type": "code",
   "execution_count": 118,
   "id": "fa16f156",
   "metadata": {},
   "outputs": [
    {
     "name": "stdout",
     "output_type": "stream",
     "text": [
      "Averager not initialized \n"
     ]
    }
   ],
   "source": [
    "a = Averager(1)"
   ]
  },
  {
   "cell_type": "code",
   "execution_count": 119,
   "id": "a779e5f2",
   "metadata": {},
   "outputs": [
    {
     "name": "stdout",
     "output_type": "stream",
     "text": [
      " Initializing object\n",
      "Averager initialized \n"
     ]
    }
   ],
   "source": [
    "b = Averager([1,2,3])"
   ]
  },
  {
   "cell_type": "code",
   "execution_count": 120,
   "id": "769fa5ca",
   "metadata": {},
   "outputs": [
    {
     "data": {
      "text/plain": [
       "{'_seq': [1, 2, 3]}"
      ]
     },
     "execution_count": 120,
     "metadata": {},
     "output_type": "execute_result"
    }
   ],
   "source": [
    "b.__dict__"
   ]
  },
  {
   "cell_type": "code",
   "execution_count": 121,
   "id": "cdd39381",
   "metadata": {},
   "outputs": [
    {
     "ename": "TypeError",
     "evalue": "__init__() takes 2 positional arguments but 4 were given",
     "output_type": "error",
     "traceback": [
      "\u001b[1;31m---------------------------------------------------------------------------\u001b[0m",
      "\u001b[1;31mTypeError\u001b[0m                                 Traceback (most recent call last)",
      "\u001b[1;32m<ipython-input-121-a1e57bd0f368>\u001b[0m in \u001b[0;36m<module>\u001b[1;34m\u001b[0m\n\u001b[1;32m----> 1\u001b[1;33m \u001b[0mc\u001b[0m \u001b[1;33m=\u001b[0m \u001b[0mAverager\u001b[0m\u001b[1;33m(\u001b[0m\u001b[1;36m100\u001b[0m\u001b[1;33m,\u001b[0m\u001b[1;36m200\u001b[0m\u001b[1;33m,\u001b[0m\u001b[1;36m300\u001b[0m\u001b[1;33m)\u001b[0m\u001b[1;33m\u001b[0m\u001b[1;33m\u001b[0m\u001b[0m\n\u001b[0m",
      "\u001b[1;31mTypeError\u001b[0m: __init__() takes 2 positional arguments but 4 were given"
     ]
    }
   ],
   "source": [
    "c = Averager(100,200,300)"
   ]
  },
  {
   "cell_type": "code",
   "execution_count": 122,
   "id": "35b42c48",
   "metadata": {},
   "outputs": [
    {
     "data": {
      "text/plain": [
       "True"
      ]
     },
     "execution_count": 122,
     "metadata": {},
     "output_type": "execute_result"
    }
   ],
   "source": [
    "callable(Averager)"
   ]
  },
  {
   "cell_type": "code",
   "execution_count": 123,
   "id": "9df761ca",
   "metadata": {},
   "outputs": [
    {
     "data": {
      "text/plain": [
       "False"
      ]
     },
     "execution_count": 123,
     "metadata": {},
     "output_type": "execute_result"
    }
   ],
   "source": [
    "callable(12)"
   ]
  },
  {
   "cell_type": "code",
   "execution_count": 124,
   "id": "f18bdc49",
   "metadata": {},
   "outputs": [
    {
     "name": "stderr",
     "output_type": "stream",
     "text": [
      "<>:1: SyntaxWarning: 'int' object is not callable; perhaps you missed a comma?\n",
      "<>:1: SyntaxWarning: 'int' object is not callable; perhaps you missed a comma?\n",
      "<ipython-input-124-3a1914983a2a>:1: SyntaxWarning: 'int' object is not callable; perhaps you missed a comma?\n",
      "  12()\n"
     ]
    },
    {
     "ename": "TypeError",
     "evalue": "'int' object is not callable",
     "output_type": "error",
     "traceback": [
      "\u001b[1;31m---------------------------------------------------------------------------\u001b[0m",
      "\u001b[1;31mTypeError\u001b[0m                                 Traceback (most recent call last)",
      "\u001b[1;32m<ipython-input-124-3a1914983a2a>\u001b[0m in \u001b[0;36m<module>\u001b[1;34m\u001b[0m\n\u001b[1;32m----> 1\u001b[1;33m \u001b[1;36m12\u001b[0m\u001b[1;33m(\u001b[0m\u001b[1;33m)\u001b[0m\u001b[1;33m\u001b[0m\u001b[1;33m\u001b[0m\u001b[0m\n\u001b[0m",
      "\u001b[1;31mTypeError\u001b[0m: 'int' object is not callable"
     ]
    }
   ],
   "source": [
    "12()"
   ]
  },
  {
   "cell_type": "code",
   "execution_count": 125,
   "id": "45a0ff49",
   "metadata": {},
   "outputs": [
    {
     "name": "stdout",
     "output_type": "stream",
     "text": [
      " Initializing object\n",
      "Averager initialized \n"
     ]
    }
   ],
   "source": [
    "c = Averager((100,200,300))"
   ]
  },
  {
   "cell_type": "code",
   "execution_count": 126,
   "id": "a324790a",
   "metadata": {},
   "outputs": [
    {
     "name": "stdout",
     "output_type": "stream",
     "text": [
      "Averager not initialized \n"
     ]
    }
   ],
   "source": [
    "d = Averager({1,2,3})"
   ]
  },
  {
   "cell_type": "code",
   "execution_count": 127,
   "id": "f777aa71",
   "metadata": {},
   "outputs": [],
   "source": [
    "class Averager:\n",
    "    def __init__(self,seq):\n",
    "        if type(seq)==list or type(seq) == tuple:\n",
    "            print(' Initializing object')\n",
    "            self._seq = seq\n",
    "            time.sleep(2)\n",
    "            print(f'{self.__class__.__name__} initialized ')\n",
    "        else:\n",
    "            print(f'{self.__class__.__name__} not initialized ')\n",
    "    \n",
    "    def average(self):\n",
    "        return sum(self._seq)/len(self._seq)\n",
    "    "
   ]
  },
  {
   "cell_type": "code",
   "execution_count": 128,
   "id": "5262fd26",
   "metadata": {},
   "outputs": [
    {
     "name": "stdout",
     "output_type": "stream",
     "text": [
      " Initializing object\n",
      "Averager initialized \n"
     ]
    }
   ],
   "source": [
    "a = Averager([1,2,3,4])"
   ]
  },
  {
   "cell_type": "code",
   "execution_count": 129,
   "id": "ba5a24cd",
   "metadata": {},
   "outputs": [
    {
     "data": {
      "text/plain": [
       "2.5"
      ]
     },
     "execution_count": 129,
     "metadata": {},
     "output_type": "execute_result"
    }
   ],
   "source": [
    "a.average()"
   ]
  },
  {
   "cell_type": "code",
   "execution_count": 130,
   "id": "333c7573",
   "metadata": {},
   "outputs": [
    {
     "data": {
      "text/plain": [
       "<bound method Averager.average of <__main__.Averager object at 0x00000209F8C43D60>>"
      ]
     },
     "execution_count": 130,
     "metadata": {},
     "output_type": "execute_result"
    }
   ],
   "source": [
    "a.average"
   ]
  },
  {
   "cell_type": "code",
   "execution_count": 131,
   "id": "42c62f23",
   "metadata": {},
   "outputs": [
    {
     "data": {
      "text/plain": [
       "2.5"
      ]
     },
     "execution_count": 131,
     "metadata": {},
     "output_type": "execute_result"
    }
   ],
   "source": [
    "Averager.average(a)"
   ]
  },
  {
   "cell_type": "markdown",
   "id": "0dc42568",
   "metadata": {},
   "source": [
    "`` Lets implement the __call__ and make our object callable ``"
   ]
  },
  {
   "cell_type": "code",
   "execution_count": 132,
   "id": "cb5fae35",
   "metadata": {},
   "outputs": [],
   "source": [
    "class Averager:\n",
    "    def __init__(self,seq):\n",
    "        if type(seq)==list or type(seq) == tuple:\n",
    "            print(' Initializing object')\n",
    "            self._seq = seq\n",
    "            time.sleep(2)\n",
    "            print(f'{self.__class__.__name__} initialized ')\n",
    "        else:\n",
    "            print(f'{self.__class__.__name__} not initialized ')\n",
    "    \n",
    "    def __call__(self):\n",
    "        return sum(self._seq)/len(self._seq)\n",
    "    "
   ]
  },
  {
   "cell_type": "code",
   "execution_count": 133,
   "id": "1130c145",
   "metadata": {},
   "outputs": [
    {
     "name": "stdout",
     "output_type": "stream",
     "text": [
      " Initializing object\n",
      "Averager initialized \n"
     ]
    }
   ],
   "source": [
    "a = Averager([1,2,3,4])"
   ]
  },
  {
   "cell_type": "code",
   "execution_count": 134,
   "id": "21b5febe",
   "metadata": {},
   "outputs": [
    {
     "data": {
      "text/plain": [
       "2.5"
      ]
     },
     "execution_count": 134,
     "metadata": {},
     "output_type": "execute_result"
    }
   ],
   "source": [
    "a.__call__()"
   ]
  },
  {
   "cell_type": "code",
   "execution_count": 135,
   "id": "123844b7",
   "metadata": {},
   "outputs": [
    {
     "name": "stdout",
     "output_type": "stream",
     "text": [
      " Initializing object\n",
      "Averager initialized \n"
     ]
    }
   ],
   "source": [
    "b = Averager((100,200,300,400))"
   ]
  },
  {
   "cell_type": "code",
   "execution_count": 136,
   "id": "c9ddd9db",
   "metadata": {},
   "outputs": [
    {
     "data": {
      "text/plain": [
       "True"
      ]
     },
     "execution_count": 136,
     "metadata": {},
     "output_type": "execute_result"
    }
   ],
   "source": [
    "callable(b)"
   ]
  },
  {
   "cell_type": "code",
   "execution_count": 137,
   "id": "befcd2b0",
   "metadata": {},
   "outputs": [
    {
     "data": {
      "text/plain": [
       "250.0"
      ]
     },
     "execution_count": 137,
     "metadata": {},
     "output_type": "execute_result"
    }
   ],
   "source": [
    "b()"
   ]
  },
  {
   "cell_type": "code",
   "execution_count": 138,
   "id": "2be1c643",
   "metadata": {},
   "outputs": [
    {
     "data": {
      "text/plain": [
       "250.0"
      ]
     },
     "execution_count": 138,
     "metadata": {},
     "output_type": "execute_result"
    }
   ],
   "source": [
    "b.__call__()"
   ]
  },
  {
   "cell_type": "code",
   "execution_count": 139,
   "id": "8e11dc4d",
   "metadata": {},
   "outputs": [],
   "source": [
    "l = [1,2,3]"
   ]
  },
  {
   "cell_type": "code",
   "execution_count": 140,
   "id": "12153ef0",
   "metadata": {},
   "outputs": [
    {
     "data": {
      "text/plain": [
       "3"
      ]
     },
     "execution_count": 140,
     "metadata": {},
     "output_type": "execute_result"
    }
   ],
   "source": [
    "len(l)"
   ]
  },
  {
   "cell_type": "code",
   "execution_count": 141,
   "id": "0a090ec4",
   "metadata": {},
   "outputs": [
    {
     "data": {
      "text/plain": [
       "3"
      ]
     },
     "execution_count": 141,
     "metadata": {},
     "output_type": "execute_result"
    }
   ],
   "source": [
    "l.__len__()"
   ]
  },
  {
   "cell_type": "code",
   "execution_count": 142,
   "id": "5f6fee06",
   "metadata": {},
   "outputs": [
    {
     "data": {
      "text/plain": [
       "1"
      ]
     },
     "execution_count": 142,
     "metadata": {},
     "output_type": "execute_result"
    }
   ],
   "source": [
    "l[0]"
   ]
  },
  {
   "cell_type": "code",
   "execution_count": 143,
   "id": "db548708",
   "metadata": {},
   "outputs": [
    {
     "name": "stdout",
     "output_type": "stream",
     "text": [
      "['__add__', '__class__', '__class_getitem__', '__contains__', '__delattr__', '__delitem__', '__dir__', '__doc__', '__eq__', '__format__', '__ge__', '__getattribute__', '__getitem__', '__gt__', '__hash__', '__iadd__', '__imul__', '__init__', '__init_subclass__', '__iter__', '__le__', '__len__', '__lt__', '__mul__', '__ne__', '__new__', '__reduce__', '__reduce_ex__', '__repr__', '__reversed__', '__rmul__', '__setattr__', '__setitem__', '__sizeof__', '__str__', '__subclasshook__', 'append', 'clear', 'copy', 'count', 'extend', 'index', 'insert', 'pop', 'remove', 'reverse', 'sort']\n"
     ]
    }
   ],
   "source": [
    "print(dir(l))"
   ]
  },
  {
   "cell_type": "code",
   "execution_count": 144,
   "id": "152fa253",
   "metadata": {},
   "outputs": [
    {
     "data": {
      "text/plain": [
       "True"
      ]
     },
     "execution_count": 144,
     "metadata": {},
     "output_type": "execute_result"
    }
   ],
   "source": [
    "'__getitem__' in dir(l)"
   ]
  },
  {
   "cell_type": "code",
   "execution_count": 147,
   "id": "27fc4b2d",
   "metadata": {},
   "outputs": [
    {
     "data": {
      "text/plain": [
       "(1, 1)"
      ]
     },
     "execution_count": 147,
     "metadata": {},
     "output_type": "execute_result"
    }
   ],
   "source": [
    "l[0], l.__getitem__(0)"
   ]
  },
  {
   "cell_type": "code",
   "execution_count": 148,
   "id": "1fc9b74f",
   "metadata": {},
   "outputs": [
    {
     "data": {
      "text/plain": [
       "3"
      ]
     },
     "execution_count": 148,
     "metadata": {},
     "output_type": "execute_result"
    }
   ],
   "source": [
    " 1+2 "
   ]
  },
  {
   "cell_type": "code",
   "execution_count": 149,
   "id": "7888d4c3",
   "metadata": {},
   "outputs": [
    {
     "name": "stdout",
     "output_type": "stream",
     "text": [
      "['__abs__', '__add__', '__and__', '__bool__', '__ceil__', '__class__', '__delattr__', '__dir__', '__divmod__', '__doc__', '__eq__', '__float__', '__floor__', '__floordiv__', '__format__', '__ge__', '__getattribute__', '__getnewargs__', '__gt__', '__hash__', '__index__', '__init__', '__init_subclass__', '__int__', '__invert__', '__le__', '__lshift__', '__lt__', '__mod__', '__mul__', '__ne__', '__neg__', '__new__', '__or__', '__pos__', '__pow__', '__radd__', '__rand__', '__rdivmod__', '__reduce__', '__reduce_ex__', '__repr__', '__rfloordiv__', '__rlshift__', '__rmod__', '__rmul__', '__ror__', '__round__', '__rpow__', '__rrshift__', '__rshift__', '__rsub__', '__rtruediv__', '__rxor__', '__setattr__', '__sizeof__', '__str__', '__sub__', '__subclasshook__', '__truediv__', '__trunc__', '__xor__', 'as_integer_ratio', 'bit_length', 'conjugate', 'denominator', 'from_bytes', 'imag', 'numerator', 'real', 'to_bytes']\n"
     ]
    }
   ],
   "source": [
    "print(dir(int))"
   ]
  },
  {
   "cell_type": "code",
   "execution_count": 151,
   "id": "3b76ed7f",
   "metadata": {},
   "outputs": [
    {
     "name": "stdout",
     "output_type": "stream",
     "text": [
      "Help on wrapper_descriptor:\n",
      "\n",
      "__add__(self, value, /)\n",
      "    Return self+value.\n",
      "\n"
     ]
    }
   ],
   "source": [
    "help(int.__add__)"
   ]
  },
  {
   "cell_type": "code",
   "execution_count": 154,
   "id": "e57f89f9",
   "metadata": {},
   "outputs": [],
   "source": [
    "class Counter:\n",
    "    count=0\n",
    "    \n",
    "    def __init__(self):\n",
    "#         self._count=count\n",
    "        print('Object of type {} Initialized '.format(self.__class__.__name__))\n",
    "    \n",
    "    def __call__(self):\n",
    "        Counter.count +=1\n",
    "        "
   ]
  },
  {
   "cell_type": "code",
   "execution_count": 155,
   "id": "0d5d7587",
   "metadata": {},
   "outputs": [
    {
     "name": "stdout",
     "output_type": "stream",
     "text": [
      "Object of type Counter Initialized \n"
     ]
    }
   ],
   "source": [
    "c = Counter()"
   ]
  },
  {
   "cell_type": "code",
   "execution_count": 156,
   "id": "824b1d2d",
   "metadata": {},
   "outputs": [
    {
     "data": {
      "text/plain": [
       "0"
      ]
     },
     "execution_count": 156,
     "metadata": {},
     "output_type": "execute_result"
    }
   ],
   "source": [
    "c.count"
   ]
  },
  {
   "cell_type": "code",
   "execution_count": 157,
   "id": "015c8b93",
   "metadata": {},
   "outputs": [
    {
     "data": {
      "text/plain": [
       "True"
      ]
     },
     "execution_count": 157,
     "metadata": {},
     "output_type": "execute_result"
    }
   ],
   "source": [
    "callable(c)"
   ]
  },
  {
   "cell_type": "code",
   "execution_count": 158,
   "id": "e2eda753",
   "metadata": {},
   "outputs": [],
   "source": [
    "c()"
   ]
  },
  {
   "cell_type": "code",
   "execution_count": 159,
   "id": "a75b3eb8",
   "metadata": {},
   "outputs": [
    {
     "data": {
      "text/plain": [
       "1"
      ]
     },
     "execution_count": 159,
     "metadata": {},
     "output_type": "execute_result"
    }
   ],
   "source": [
    "c.count"
   ]
  },
  {
   "cell_type": "code",
   "execution_count": 160,
   "id": "8d93ad30",
   "metadata": {},
   "outputs": [],
   "source": [
    "c()"
   ]
  },
  {
   "cell_type": "code",
   "execution_count": 161,
   "id": "07cda964",
   "metadata": {},
   "outputs": [
    {
     "data": {
      "text/plain": [
       "(2, 2)"
      ]
     },
     "execution_count": 161,
     "metadata": {},
     "output_type": "execute_result"
    }
   ],
   "source": [
    "c.count, Counter.count"
   ]
  },
  {
   "cell_type": "code",
   "execution_count": null,
   "id": "f9f239b7",
   "metadata": {},
   "outputs": [],
   "source": []
  }
 ],
 "metadata": {
  "kernelspec": {
   "display_name": "Python 3",
   "language": "python",
   "name": "python3"
  },
  "language_info": {
   "codemirror_mode": {
    "name": "ipython",
    "version": 3
   },
   "file_extension": ".py",
   "mimetype": "text/x-python",
   "name": "python",
   "nbconvert_exporter": "python",
   "pygments_lexer": "ipython3",
   "version": "3.9.6"
  }
 },
 "nbformat": 4,
 "nbformat_minor": 5
}
