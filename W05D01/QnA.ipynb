{
 "cells": [
  {
   "cell_type": "markdown",
   "id": "2f6ae80d",
   "metadata": {},
   "source": [
    "`` Implement a database program using classes ``"
   ]
  },
  {
   "cell_type": "code",
   "execution_count": 3,
   "id": "687b155b",
   "metadata": {},
   "outputs": [],
   "source": [
    "class TestClass:\n",
    "    \n",
    "    def __new__(self):\n",
    "        return ' An object of class {}'.format(__class__.__name__)\n",
    "        "
   ]
  },
  {
   "cell_type": "code",
   "execution_count": 4,
   "id": "aa217454",
   "metadata": {},
   "outputs": [],
   "source": [
    "t = TestClass()"
   ]
  },
  {
   "cell_type": "code",
   "execution_count": 6,
   "id": "04c8d6aa",
   "metadata": {},
   "outputs": [
    {
     "data": {
      "text/plain": [
       "(' An object of class TestClass', 2046357507968)"
      ]
     },
     "execution_count": 6,
     "metadata": {},
     "output_type": "execute_result"
    }
   ],
   "source": [
    "t, id(t)"
   ]
  },
  {
   "cell_type": "code",
   "execution_count": 7,
   "id": "a7dbc804",
   "metadata": {},
   "outputs": [],
   "source": [
    "class TestClass:\n",
    "    \n",
    "    def __init__(self):\n",
    "        print(' An object of class {} Initialized'.format(__class__.__name__))\n",
    "        "
   ]
  },
  {
   "cell_type": "code",
   "execution_count": 8,
   "id": "590a1a94",
   "metadata": {},
   "outputs": [
    {
     "name": "stdout",
     "output_type": "stream",
     "text": [
      " An object of class TestClass Initialized\n"
     ]
    }
   ],
   "source": [
    "t = TestClass()"
   ]
  },
  {
   "cell_type": "code",
   "execution_count": 9,
   "id": "5d665d91",
   "metadata": {},
   "outputs": [],
   "source": [
    "class TestClass:\n",
    "       pass\n",
    "        "
   ]
  },
  {
   "cell_type": "code",
   "execution_count": 10,
   "id": "4dbc1624",
   "metadata": {},
   "outputs": [],
   "source": [
    "t = TestClass()"
   ]
  },
  {
   "cell_type": "code",
   "execution_count": 11,
   "id": "c6f82281",
   "metadata": {},
   "outputs": [
    {
     "data": {
      "text/plain": [
       "(<__main__.TestClass at 0x1dc746f74c0>, True, 2046357894336)"
      ]
     },
     "execution_count": 11,
     "metadata": {},
     "output_type": "execute_result"
    }
   ],
   "source": [
    "t,isinstance(t,TestClass),id(t)"
   ]
  },
  {
   "cell_type": "code",
   "execution_count": 28,
   "id": "a20cef7e",
   "metadata": {},
   "outputs": [],
   "source": [
    "import sqlite3 as sq\n",
    "class Student:\n",
    "    \n",
    "    con = sq.connect('Student.db')\n",
    "    cur = con.cursor()\n",
    "    cur.execute('create table if not exists STUDENT(name text,age text)')\n",
    "    \n",
    "    def __init__(self,name,age):\n",
    "        self.name = name \n",
    "        self.age = age\n",
    "        print('__init__')\n",
    "        \n",
    "    def insert(self,name,age):\n",
    "        try:\n",
    "            Student.cur.execute('insert into STUDENT values(?,?)',(name,age))\n",
    "        except Exception as e:\n",
    "            print(repr(e))\n",
    "        \n",
    "    def queryall(self):\n",
    "        try:\n",
    "            record = Student.cur.execute('select * from STUDENT')\n",
    "        except Exception as e:\n",
    "            print(repr(e))\n",
    "        for row in record:\n",
    "            print(row)\n",
    "            \n"
   ]
  },
  {
   "cell_type": "code",
   "execution_count": 29,
   "id": "af13fedf",
   "metadata": {},
   "outputs": [
    {
     "name": "stdout",
     "output_type": "stream",
     "text": [
      "__init__\n"
     ]
    }
   ],
   "source": [
    "s = Student('Raghu',21)"
   ]
  },
  {
   "cell_type": "code",
   "execution_count": 30,
   "id": "10a56d0a",
   "metadata": {},
   "outputs": [],
   "source": [
    "s.insert('Rahul',56)"
   ]
  },
  {
   "cell_type": "code",
   "execution_count": 31,
   "id": "93eb7cc3",
   "metadata": {},
   "outputs": [
    {
     "data": {
      "text/plain": [
       "<bound method Student.queryall of <__main__.Student object at 0x000001DC746D4A00>>"
      ]
     },
     "execution_count": 31,
     "metadata": {},
     "output_type": "execute_result"
    }
   ],
   "source": [
    "s.queryall"
   ]
  },
  {
   "cell_type": "code",
   "execution_count": 32,
   "id": "dd10e1d9",
   "metadata": {},
   "outputs": [
    {
     "name": "stdout",
     "output_type": "stream",
     "text": [
      "('Rahul', '56')\n"
     ]
    }
   ],
   "source": [
    "s.queryall()"
   ]
  },
  {
   "cell_type": "code",
   "execution_count": 33,
   "id": "a5b0f1ce",
   "metadata": {},
   "outputs": [],
   "source": [
    "s.insert('Aaksh',20)"
   ]
  },
  {
   "cell_type": "code",
   "execution_count": 34,
   "id": "a62c8c30",
   "metadata": {},
   "outputs": [],
   "source": [
    "s.insert('Saida',21)"
   ]
  },
  {
   "cell_type": "code",
   "execution_count": 35,
   "id": "46ee741f",
   "metadata": {},
   "outputs": [
    {
     "name": "stdout",
     "output_type": "stream",
     "text": [
      "('Rahul', '56')\n",
      "('Aaksh', '20')\n",
      "('Saida', '21')\n"
     ]
    }
   ],
   "source": [
    "s.queryall()"
   ]
  },
  {
   "cell_type": "code",
   "execution_count": 36,
   "id": "9e8ddac5",
   "metadata": {},
   "outputs": [
    {
     "data": {
      "text/plain": [
       "mappingproxy({'__module__': '__main__',\n",
       "              'con': <sqlite3.Connection at 0x1dc747c04e0>,\n",
       "              'cur': <sqlite3.Cursor at 0x1dc7477b420>,\n",
       "              '__init__': <function __main__.Student.__init__(self, name, age)>,\n",
       "              'insert': <function __main__.Student.insert(self, name, age)>,\n",
       "              'queryall': <function __main__.Student.queryall(self)>,\n",
       "              '__dict__': <attribute '__dict__' of 'Student' objects>,\n",
       "              '__weakref__': <attribute '__weakref__' of 'Student' objects>,\n",
       "              '__doc__': None})"
      ]
     },
     "execution_count": 36,
     "metadata": {},
     "output_type": "execute_result"
    }
   ],
   "source": [
    "Student.__dict__"
   ]
  },
  {
   "cell_type": "code",
   "execution_count": 37,
   "id": "4d248277",
   "metadata": {},
   "outputs": [
    {
     "data": {
      "text/plain": [
       "{'name': 'Raghu', 'age': 21}"
      ]
     },
     "execution_count": 37,
     "metadata": {},
     "output_type": "execute_result"
    }
   ],
   "source": [
    "s.__dict__"
   ]
  },
  {
   "cell_type": "code",
   "execution_count": 38,
   "id": "72e55cae",
   "metadata": {},
   "outputs": [],
   "source": [
    "import sys"
   ]
  },
  {
   "cell_type": "code",
   "execution_count": 39,
   "id": "ee096560",
   "metadata": {},
   "outputs": [
    {
     "data": {
      "text/plain": [
       "<function sys.getsizeof>"
      ]
     },
     "execution_count": 39,
     "metadata": {},
     "output_type": "execute_result"
    }
   ],
   "source": [
    "sys.getsizeof"
   ]
  },
  {
   "cell_type": "code",
   "execution_count": 42,
   "id": "5628e18f",
   "metadata": {},
   "outputs": [
    {
     "data": {
      "text/plain": [
       "104"
      ]
     },
     "execution_count": 42,
     "metadata": {},
     "output_type": "execute_result"
    }
   ],
   "source": [
    "sys.getsizeof(s.__dict__)"
   ]
  },
  {
   "cell_type": "markdown",
   "id": "20e91ac3",
   "metadata": {},
   "source": [
    "`` Making all an instance attribute ``\n",
    "\n",
    "`` Lets see the changes,if any ``"
   ]
  },
  {
   "cell_type": "code",
   "execution_count": 46,
   "id": "28af3e3b",
   "metadata": {},
   "outputs": [],
   "source": [
    "import sqlite3 as sq\n",
    "class Student:\n",
    "\n",
    "    def __init__(self):\n",
    "        self.con = sq.connect('Student_Instance.db')\n",
    "        self.cur = self.con.cursor()\n",
    "        self.cur.execute('create table if not exists STUDENT(name text,age text)')\n",
    "        \n",
    "    def insert(self,name,age):\n",
    "        try:\n",
    "            self.cur.execute('insert into STUDENT values(?,?)',(name,age))\n",
    "        except Exception as e:\n",
    "            print(repr(e))\n",
    "        \n",
    "    def queryall(self):\n",
    "        try:\n",
    "            record = self.cur.execute('select * from STUDENT')\n",
    "        except Exception as e:\n",
    "            print(repr(e))\n",
    "        for row in record:\n",
    "            print(row)\n",
    "            \n"
   ]
  },
  {
   "cell_type": "code",
   "execution_count": 47,
   "id": "51b16882",
   "metadata": {},
   "outputs": [],
   "source": [
    "s = Student()"
   ]
  },
  {
   "cell_type": "code",
   "execution_count": 48,
   "id": "cb09dba3",
   "metadata": {},
   "outputs": [],
   "source": [
    "s.insert('Me',20)\n",
    "s.insert('You',40)"
   ]
  },
  {
   "cell_type": "code",
   "execution_count": 49,
   "id": "927f3b4f",
   "metadata": {},
   "outputs": [
    {
     "name": "stdout",
     "output_type": "stream",
     "text": [
      "('Me', '20')\n",
      "('You', '40')\n"
     ]
    }
   ],
   "source": [
    "s.queryall()"
   ]
  },
  {
   "cell_type": "code",
   "execution_count": 50,
   "id": "01109c50",
   "metadata": {},
   "outputs": [
    {
     "data": {
      "text/plain": [
       "{'con': <sqlite3.Connection at 0x1dc747c0300>,\n",
       " 'cur': <sqlite3.Cursor at 0x1dc747dc730>}"
      ]
     },
     "execution_count": 50,
     "metadata": {},
     "output_type": "execute_result"
    }
   ],
   "source": [
    "s.__dict__"
   ]
  },
  {
   "cell_type": "code",
   "execution_count": 51,
   "id": "73505896",
   "metadata": {},
   "outputs": [],
   "source": [
    "s1 = Student()\n",
    "s2 = Student()"
   ]
  },
  {
   "cell_type": "code",
   "execution_count": 52,
   "id": "5cbff527",
   "metadata": {},
   "outputs": [
    {
     "data": {
      "text/plain": [
       "({'con': <sqlite3.Connection at 0x1dc747c08a0>,\n",
       "  'cur': <sqlite3.Cursor at 0x1dc747dc2d0>},\n",
       " {'con': <sqlite3.Connection at 0x1dc74728030>,\n",
       "  'cur': <sqlite3.Cursor at 0x1dc747dc8f0>})"
      ]
     },
     "execution_count": 52,
     "metadata": {},
     "output_type": "execute_result"
    }
   ],
   "source": [
    "s1.__dict__,s2.__dict__"
   ]
  },
  {
   "cell_type": "code",
   "execution_count": 53,
   "id": "a61a4640",
   "metadata": {},
   "outputs": [
    {
     "data": {
      "text/plain": [
       "104"
      ]
     },
     "execution_count": 53,
     "metadata": {},
     "output_type": "execute_result"
    }
   ],
   "source": [
    "sys.getsizeof(s1.__dict__)"
   ]
  },
  {
   "cell_type": "markdown",
   "id": "a40e4d3c",
   "metadata": {},
   "source": [
    "`` Try implementing one method to have a decorator @classmethod ``"
   ]
  },
  {
   "cell_type": "markdown",
   "id": "d406745f",
   "metadata": {},
   "source": [
    "`` Create two seperate class, and create an object of one class in the other class ``"
   ]
  },
  {
   "cell_type": "markdown",
   "id": "425d90a2",
   "metadata": {},
   "source": [
    "``\n",
    "class A:\n",
    "    pass``\n",
    "\n",
    "``class B:\n",
    "    # create an object of class A \n",
    "    pass\n",
    "``"
   ]
  },
  {
   "cell_type": "code",
   "execution_count": 74,
   "id": "f12eb81a",
   "metadata": {},
   "outputs": [],
   "source": [
    "import re\n",
    "class FileOperation:\n",
    "    \n",
    "    def create_file(self,name,mode='a'):\n",
    "        self.name = name\n",
    "        self.f = open(name,mode)\n",
    "        print('File Created')\n",
    "                \n",
    "    def write_file(self,text):\n",
    "        self.f.writelines(text)\n",
    "            \n",
    "    def read_file(self):\n",
    "        self.f=open(self.name,'r')\n",
    "        print(self.f.read())\n",
    "                \n",
    "    def __repr__(self):\n",
    "        return 'FileOperation object'\n",
    "#     def search_file(self):\n",
    "#                pattern=r'\\d'\n",
    "#                result=re.search(pattern,'raghu.txt')\n",
    "#                print(result.group)\n"
   ]
  },
  {
   "cell_type": "code",
   "execution_count": 75,
   "id": "ff884cc3",
   "metadata": {},
   "outputs": [],
   "source": [
    "file_operation = FileOperation()"
   ]
  },
  {
   "cell_type": "code",
   "execution_count": 76,
   "id": "e6fd8312",
   "metadata": {},
   "outputs": [
    {
     "data": {
      "text/plain": [
       "FileOperation object"
      ]
     },
     "execution_count": 76,
     "metadata": {},
     "output_type": "execute_result"
    }
   ],
   "source": [
    "file_operation"
   ]
  },
  {
   "cell_type": "code",
   "execution_count": 77,
   "id": "1f832f84",
   "metadata": {},
   "outputs": [
    {
     "name": "stdout",
     "output_type": "stream",
     "text": [
      "File Created\n"
     ]
    }
   ],
   "source": [
    "file_operation.create_file('raghu.txt')"
   ]
  },
  {
   "cell_type": "code",
   "execution_count": 78,
   "id": "791639aa",
   "metadata": {},
   "outputs": [],
   "source": [
    "file_operation.write_file(\"Hello Raghu\")\n"
   ]
  },
  {
   "cell_type": "code",
   "execution_count": 79,
   "id": "0618ebb7",
   "metadata": {},
   "outputs": [
    {
     "name": "stdout",
     "output_type": "stream",
     "text": [
      "Hello Raghu\n"
     ]
    }
   ],
   "source": [
    "file_operation.read_file()"
   ]
  },
  {
   "cell_type": "code",
   "execution_count": 81,
   "id": "8f5f5333",
   "metadata": {},
   "outputs": [
    {
     "data": {
      "text/plain": [
       "{'name': 'raghu.txt',\n",
       " 'f': <_io.TextIOWrapper name='raghu.txt' mode='r' encoding='cp1252'>}"
      ]
     },
     "execution_count": 81,
     "metadata": {},
     "output_type": "execute_result"
    }
   ],
   "source": [
    "file_operation.__dict__"
   ]
  },
  {
   "cell_type": "code",
   "execution_count": 82,
   "id": "c46d021f",
   "metadata": {},
   "outputs": [],
   "source": [
    "class A:\n",
    "    def __init__(self):\n",
    "        print(\"Object of class A initialized\")\n",
    "    \n",
    "    def class_A_instance_method(self):\n",
    "        print(' Hello Instance of A ')\n",
    "        \n",
    "    \n",
    "    "
   ]
  },
  {
   "cell_type": "code",
   "execution_count": 83,
   "id": "e38ad86c",
   "metadata": {},
   "outputs": [
    {
     "name": "stdout",
     "output_type": "stream",
     "text": [
      "Object of class A initialized\n"
     ]
    }
   ],
   "source": [
    "a=A()"
   ]
  },
  {
   "cell_type": "code",
   "execution_count": 84,
   "id": "c23ca0fd",
   "metadata": {},
   "outputs": [
    {
     "name": "stdout",
     "output_type": "stream",
     "text": [
      " Hello Instance of A \n"
     ]
    }
   ],
   "source": [
    "a.class_A_instance_method()"
   ]
  },
  {
   "cell_type": "code",
   "execution_count": 85,
   "id": "f25e7f34",
   "metadata": {},
   "outputs": [],
   "source": [
    "class A:\n",
    "    def __init__(self):\n",
    "        print(\"Object of class A initialized\")\n",
    "    \n",
    "    def class_A_instance_method(self):\n",
    "        print(' Hello Instance of A ')\n",
    "    \n",
    "class B:\n",
    "    def __init__(self):\n",
    "        objA = A()\n",
    "    def class_B_instance_method(self):\n",
    "        print('Hello Instance of B')\n",
    "    "
   ]
  },
  {
   "cell_type": "code",
   "execution_count": 86,
   "id": "a4edba74",
   "metadata": {},
   "outputs": [
    {
     "name": "stdout",
     "output_type": "stream",
     "text": [
      "Object of class A initialized\n"
     ]
    }
   ],
   "source": [
    "b = B()"
   ]
  },
  {
   "cell_type": "code",
   "execution_count": 87,
   "id": "1fd2988a",
   "metadata": {},
   "outputs": [
    {
     "name": "stdout",
     "output_type": "stream",
     "text": [
      "Hello Instance of B\n"
     ]
    }
   ],
   "source": [
    "b.class_B_instance_method()"
   ]
  },
  {
   "cell_type": "code",
   "execution_count": 88,
   "id": "7a65b6c7",
   "metadata": {},
   "outputs": [
    {
     "data": {
      "text/plain": [
       "{}"
      ]
     },
     "execution_count": 88,
     "metadata": {},
     "output_type": "execute_result"
    }
   ],
   "source": [
    "b.__dict__"
   ]
  },
  {
   "cell_type": "code",
   "execution_count": 89,
   "id": "d29fb4c7",
   "metadata": {},
   "outputs": [
    {
     "data": {
      "text/plain": [
       "mappingproxy({'__module__': '__main__',\n",
       "              '__init__': <function __main__.B.__init__(self)>,\n",
       "              'class_B_instance_method': <function __main__.B.class_B_instance_method(self)>,\n",
       "              '__dict__': <attribute '__dict__' of 'B' objects>,\n",
       "              '__weakref__': <attribute '__weakref__' of 'B' objects>,\n",
       "              '__doc__': None})"
      ]
     },
     "execution_count": 89,
     "metadata": {},
     "output_type": "execute_result"
    }
   ],
   "source": [
    "B.__dict__"
   ]
  },
  {
   "cell_type": "code",
   "execution_count": null,
   "id": "80fc0892",
   "metadata": {},
   "outputs": [],
   "source": []
  }
 ],
 "metadata": {
  "kernelspec": {
   "display_name": "Python 3",
   "language": "python",
   "name": "python3"
  },
  "language_info": {
   "codemirror_mode": {
    "name": "ipython",
    "version": 3
   },
   "file_extension": ".py",
   "mimetype": "text/x-python",
   "name": "python",
   "nbconvert_exporter": "python",
   "pygments_lexer": "ipython3",
   "version": "3.9.6"
  }
 },
 "nbformat": 4,
 "nbformat_minor": 5
}
