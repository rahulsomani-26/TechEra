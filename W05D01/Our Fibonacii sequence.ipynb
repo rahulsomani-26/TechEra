{
 "cells": [
  {
   "cell_type": "code",
   "execution_count": 3,
   "id": "7cee5d05",
   "metadata": {},
   "outputs": [],
   "source": [
    "def fib(n):\n",
    "    if n < 2:\n",
    "        return 1\n",
    "    else:\n",
    "        return fib(n-1) + fib(n-2)"
   ]
  },
  {
   "cell_type": "code",
   "execution_count": 5,
   "id": "823300f3",
   "metadata": {},
   "outputs": [
    {
     "data": {
      "text/plain": [
       "(3, 8)"
      ]
     },
     "execution_count": 5,
     "metadata": {},
     "output_type": "execute_result"
    }
   ],
   "source": [
    "fib(3),fib(5)"
   ]
  },
  {
   "cell_type": "code",
   "execution_count": 18,
   "id": "8c3c889c",
   "metadata": {},
   "outputs": [],
   "source": [
    "class Fib:\n",
    "    def __init__(self,n):\n",
    "        self.n = n \n",
    "        \n",
    "    def __len__(self):\n",
    "        return self.n\n",
    "    \n",
    "    def __getitem__(self,pos):\n",
    "        if pos < 0 or pos > self.n:\n",
    "            raise IndexError('Out of Index Dear User')\n",
    "        else:\n",
    "            return fib(pos)"
   ]
  },
  {
   "cell_type": "code",
   "execution_count": 19,
   "id": "69cfdea1",
   "metadata": {},
   "outputs": [],
   "source": [
    "f = Fib(10)"
   ]
  },
  {
   "cell_type": "code",
   "execution_count": 20,
   "id": "845ca710",
   "metadata": {},
   "outputs": [
    {
     "data": {
      "text/plain": [
       "(1706865387504, 10)"
      ]
     },
     "execution_count": 20,
     "metadata": {},
     "output_type": "execute_result"
    }
   ],
   "source": [
    "id(f), len(f)"
   ]
  },
  {
   "cell_type": "code",
   "execution_count": 23,
   "id": "2eeef1e7",
   "metadata": {},
   "outputs": [],
   "source": [
    "result = f.__getitem__(5)"
   ]
  },
  {
   "cell_type": "code",
   "execution_count": 24,
   "id": "dc31178c",
   "metadata": {},
   "outputs": [
    {
     "data": {
      "text/plain": [
       "8"
      ]
     },
     "execution_count": 24,
     "metadata": {},
     "output_type": "execute_result"
    }
   ],
   "source": [
    "result"
   ]
  },
  {
   "cell_type": "code",
   "execution_count": 26,
   "id": "e9aaa11e",
   "metadata": {},
   "outputs": [
    {
     "data": {
      "text/plain": [
       "[1, 1, 2, 3, 5, 8, 13, 21, 34, 55, 89]"
      ]
     },
     "execution_count": 26,
     "metadata": {},
     "output_type": "execute_result"
    }
   ],
   "source": [
    "list(f)"
   ]
  },
  {
   "cell_type": "code",
   "execution_count": 28,
   "id": "a81a8058",
   "metadata": {},
   "outputs": [
    {
     "data": {
      "text/plain": [
       "21"
      ]
     },
     "execution_count": 28,
     "metadata": {},
     "output_type": "execute_result"
    }
   ],
   "source": [
    "f[7]"
   ]
  },
  {
   "cell_type": "code",
   "execution_count": 29,
   "id": "0f982588",
   "metadata": {},
   "outputs": [
    {
     "name": "stdout",
     "output_type": "stream",
     "text": [
      "1\n",
      "1\n",
      "2\n",
      "3\n",
      "5\n",
      "8\n",
      "13\n",
      "21\n",
      "34\n",
      "55\n",
      "89\n"
     ]
    }
   ],
   "source": [
    "for series in f:\n",
    "    print(series)"
   ]
  },
  {
   "cell_type": "code",
   "execution_count": 30,
   "id": "6cffe2c2",
   "metadata": {},
   "outputs": [
    {
     "data": {
      "text/plain": [
       "[1, 1, 4, 9, 25, 64, 169, 441, 1156, 3025, 7921]"
      ]
     },
     "execution_count": 30,
     "metadata": {},
     "output_type": "execute_result"
    }
   ],
   "source": [
    "[i*i for i in f]"
   ]
  },
  {
   "cell_type": "markdown",
   "id": "8f0570c3",
   "metadata": {},
   "source": [
    "`` Let's try to change our class , one step at a time ``"
   ]
  },
  {
   "cell_type": "markdown",
   "id": "a779e747",
   "metadata": {},
   "source": [
    "`` This time we are going to make use of the staticmethod decorator ``"
   ]
  },
  {
   "cell_type": "code",
   "execution_count": 31,
   "id": "1f203b63",
   "metadata": {},
   "outputs": [],
   "source": [
    "class Fib:\n",
    "    def __init__(self,n):\n",
    "        self.n = n \n",
    "        \n",
    "    def __len__(self):\n",
    "        return self.n\n",
    "    \n",
    "    def __getitem__(self,pos):\n",
    "        if pos < 0 or pos > self.n:\n",
    "            raise IndexError('Out of Index Dear User')\n",
    "        else:\n",
    "            return fib(pos)\n",
    "        \n",
    "    @staticmethod    \n",
    "    def fib(n):\n",
    "        if n < 2:\n",
    "            return 1\n",
    "        else:\n",
    "            return fib(n-1) + fib(n-2)"
   ]
  },
  {
   "cell_type": "code",
   "execution_count": 32,
   "id": "eee27039",
   "metadata": {},
   "outputs": [],
   "source": [
    "f = Fib(10)"
   ]
  },
  {
   "cell_type": "code",
   "execution_count": 33,
   "id": "2c222df4",
   "metadata": {},
   "outputs": [
    {
     "data": {
      "text/plain": [
       "2"
      ]
     },
     "execution_count": 33,
     "metadata": {},
     "output_type": "execute_result"
    }
   ],
   "source": [
    "f[2]"
   ]
  },
  {
   "cell_type": "code",
   "execution_count": 34,
   "id": "4665138d",
   "metadata": {},
   "outputs": [],
   "source": [
    "f = Fib(20)"
   ]
  },
  {
   "cell_type": "code",
   "execution_count": 35,
   "id": "53bc0928",
   "metadata": {},
   "outputs": [
    {
     "data": {
      "text/plain": [
       "144"
      ]
     },
     "execution_count": 35,
     "metadata": {},
     "output_type": "execute_result"
    }
   ],
   "source": [
    "f[11]"
   ]
  },
  {
   "cell_type": "code",
   "execution_count": 36,
   "id": "e0a1a20e",
   "metadata": {},
   "outputs": [
    {
     "data": {
      "text/plain": [
       "6765"
      ]
     },
     "execution_count": 36,
     "metadata": {},
     "output_type": "execute_result"
    }
   ],
   "source": [
    "f[19]"
   ]
  },
  {
   "cell_type": "code",
   "execution_count": 37,
   "id": "bea09f0e",
   "metadata": {},
   "outputs": [
    {
     "data": {
      "text/plain": [
       "10946"
      ]
     },
     "execution_count": 37,
     "metadata": {},
     "output_type": "execute_result"
    }
   ],
   "source": [
    "f[20]"
   ]
  },
  {
   "cell_type": "code",
   "execution_count": 38,
   "id": "abf8804b",
   "metadata": {},
   "outputs": [
    {
     "ename": "IndexError",
     "evalue": "Out of Index Dear User",
     "output_type": "error",
     "traceback": [
      "\u001b[1;31m---------------------------------------------------------------------------\u001b[0m",
      "\u001b[1;31mIndexError\u001b[0m                                Traceback (most recent call last)",
      "\u001b[1;32m<ipython-input-38-17704093bf00>\u001b[0m in \u001b[0;36m<module>\u001b[1;34m\u001b[0m\n\u001b[1;32m----> 1\u001b[1;33m \u001b[0mf\u001b[0m\u001b[1;33m[\u001b[0m\u001b[1;36m21\u001b[0m\u001b[1;33m]\u001b[0m\u001b[1;33m\u001b[0m\u001b[1;33m\u001b[0m\u001b[0m\n\u001b[0m",
      "\u001b[1;32m<ipython-input-31-fdacf688c283>\u001b[0m in \u001b[0;36m__getitem__\u001b[1;34m(self, pos)\u001b[0m\n\u001b[0;32m      8\u001b[0m     \u001b[1;32mdef\u001b[0m \u001b[0m__getitem__\u001b[0m\u001b[1;33m(\u001b[0m\u001b[0mself\u001b[0m\u001b[1;33m,\u001b[0m\u001b[0mpos\u001b[0m\u001b[1;33m)\u001b[0m\u001b[1;33m:\u001b[0m\u001b[1;33m\u001b[0m\u001b[1;33m\u001b[0m\u001b[0m\n\u001b[0;32m      9\u001b[0m         \u001b[1;32mif\u001b[0m \u001b[0mpos\u001b[0m \u001b[1;33m<\u001b[0m \u001b[1;36m0\u001b[0m \u001b[1;32mor\u001b[0m \u001b[0mpos\u001b[0m \u001b[1;33m>\u001b[0m \u001b[0mself\u001b[0m\u001b[1;33m.\u001b[0m\u001b[0mn\u001b[0m\u001b[1;33m:\u001b[0m\u001b[1;33m\u001b[0m\u001b[1;33m\u001b[0m\u001b[0m\n\u001b[1;32m---> 10\u001b[1;33m             \u001b[1;32mraise\u001b[0m \u001b[0mIndexError\u001b[0m\u001b[1;33m(\u001b[0m\u001b[1;34m'Out of Index Dear User'\u001b[0m\u001b[1;33m)\u001b[0m\u001b[1;33m\u001b[0m\u001b[1;33m\u001b[0m\u001b[0m\n\u001b[0m\u001b[0;32m     11\u001b[0m         \u001b[1;32melse\u001b[0m\u001b[1;33m:\u001b[0m\u001b[1;33m\u001b[0m\u001b[1;33m\u001b[0m\u001b[0m\n\u001b[0;32m     12\u001b[0m             \u001b[1;32mreturn\u001b[0m \u001b[0mfib\u001b[0m\u001b[1;33m(\u001b[0m\u001b[0mpos\u001b[0m\u001b[1;33m)\u001b[0m\u001b[1;33m\u001b[0m\u001b[1;33m\u001b[0m\u001b[0m\n",
      "\u001b[1;31mIndexError\u001b[0m: Out of Index Dear User"
     ]
    }
   ],
   "source": [
    "f[21]"
   ]
  },
  {
   "cell_type": "code",
   "execution_count": 39,
   "id": "8a3532be",
   "metadata": {},
   "outputs": [],
   "source": [
    "test = Fib(\"abc\")"
   ]
  },
  {
   "cell_type": "code",
   "execution_count": 40,
   "id": "29e9bb35",
   "metadata": {},
   "outputs": [
    {
     "data": {
      "text/plain": [
       "<__main__.Fib at 0x18d69098bb0>"
      ]
     },
     "execution_count": 40,
     "metadata": {},
     "output_type": "execute_result"
    }
   ],
   "source": [
    "test"
   ]
  },
  {
   "cell_type": "code",
   "execution_count": 41,
   "id": "5b76ad3e",
   "metadata": {},
   "outputs": [
    {
     "ename": "TypeError",
     "evalue": "'str' object cannot be interpreted as an integer",
     "output_type": "error",
     "traceback": [
      "\u001b[1;31m---------------------------------------------------------------------------\u001b[0m",
      "\u001b[1;31mTypeError\u001b[0m                                 Traceback (most recent call last)",
      "\u001b[1;32m<ipython-input-41-0d22009e0a68>\u001b[0m in \u001b[0;36m<module>\u001b[1;34m\u001b[0m\n\u001b[1;32m----> 1\u001b[1;33m \u001b[0mlen\u001b[0m\u001b[1;33m(\u001b[0m\u001b[0mtest\u001b[0m\u001b[1;33m)\u001b[0m\u001b[1;33m\u001b[0m\u001b[1;33m\u001b[0m\u001b[0m\n\u001b[0m",
      "\u001b[1;31mTypeError\u001b[0m: 'str' object cannot be interpreted as an integer"
     ]
    }
   ],
   "source": [
    "len(test)"
   ]
  },
  {
   "cell_type": "code",
   "execution_count": 42,
   "id": "68b1fe03",
   "metadata": {},
   "outputs": [
    {
     "data": {
      "text/plain": [
       "'abc'"
      ]
     },
     "execution_count": 42,
     "metadata": {},
     "output_type": "execute_result"
    }
   ],
   "source": [
    "test.__len__()"
   ]
  },
  {
   "cell_type": "code",
   "execution_count": 43,
   "id": "0ed0ad78",
   "metadata": {},
   "outputs": [
    {
     "ename": "TypeError",
     "evalue": "'>' not supported between instances of 'int' and 'str'",
     "output_type": "error",
     "traceback": [
      "\u001b[1;31m---------------------------------------------------------------------------\u001b[0m",
      "\u001b[1;31mTypeError\u001b[0m                                 Traceback (most recent call last)",
      "\u001b[1;32m<ipython-input-43-1bcd52fa80eb>\u001b[0m in \u001b[0;36m<module>\u001b[1;34m\u001b[0m\n\u001b[1;32m----> 1\u001b[1;33m \u001b[0mtest\u001b[0m\u001b[1;33m.\u001b[0m\u001b[0m__getitem__\u001b[0m\u001b[1;33m(\u001b[0m\u001b[1;36m1\u001b[0m\u001b[1;33m)\u001b[0m\u001b[1;33m\u001b[0m\u001b[1;33m\u001b[0m\u001b[0m\n\u001b[0m",
      "\u001b[1;32m<ipython-input-31-fdacf688c283>\u001b[0m in \u001b[0;36m__getitem__\u001b[1;34m(self, pos)\u001b[0m\n\u001b[0;32m      7\u001b[0m \u001b[1;33m\u001b[0m\u001b[0m\n\u001b[0;32m      8\u001b[0m     \u001b[1;32mdef\u001b[0m \u001b[0m__getitem__\u001b[0m\u001b[1;33m(\u001b[0m\u001b[0mself\u001b[0m\u001b[1;33m,\u001b[0m\u001b[0mpos\u001b[0m\u001b[1;33m)\u001b[0m\u001b[1;33m:\u001b[0m\u001b[1;33m\u001b[0m\u001b[1;33m\u001b[0m\u001b[0m\n\u001b[1;32m----> 9\u001b[1;33m         \u001b[1;32mif\u001b[0m \u001b[0mpos\u001b[0m \u001b[1;33m<\u001b[0m \u001b[1;36m0\u001b[0m \u001b[1;32mor\u001b[0m \u001b[0mpos\u001b[0m \u001b[1;33m>\u001b[0m \u001b[0mself\u001b[0m\u001b[1;33m.\u001b[0m\u001b[0mn\u001b[0m\u001b[1;33m:\u001b[0m\u001b[1;33m\u001b[0m\u001b[1;33m\u001b[0m\u001b[0m\n\u001b[0m\u001b[0;32m     10\u001b[0m             \u001b[1;32mraise\u001b[0m \u001b[0mIndexError\u001b[0m\u001b[1;33m(\u001b[0m\u001b[1;34m'Out of Index Dear User'\u001b[0m\u001b[1;33m)\u001b[0m\u001b[1;33m\u001b[0m\u001b[1;33m\u001b[0m\u001b[0m\n\u001b[0;32m     11\u001b[0m         \u001b[1;32melse\u001b[0m\u001b[1;33m:\u001b[0m\u001b[1;33m\u001b[0m\u001b[1;33m\u001b[0m\u001b[0m\n",
      "\u001b[1;31mTypeError\u001b[0m: '>' not supported between instances of 'int' and 'str'"
     ]
    }
   ],
   "source": [
    "test.__getitem__(1)"
   ]
  },
  {
   "cell_type": "markdown",
   "id": "9527cd13",
   "metadata": {},
   "source": [
    "`` Lets make things a bit private. Atleast for conventional purpose only ``"
   ]
  },
  {
   "cell_type": "code",
   "execution_count": 49,
   "id": "ff062798",
   "metadata": {},
   "outputs": [],
   "source": [
    "class Fib:\n",
    "    def __init__(self,n):\n",
    "        self._n = n \n",
    "        \n",
    "    def __len__(self):\n",
    "        return self._n\n",
    "    \n",
    "    def __getitem__(self,pos):\n",
    "        if pos < 0 or pos > self._n:\n",
    "            raise IndexError('Out of Index Dear User')\n",
    "        else:\n",
    "            return Fib._fib(pos)\n",
    "        \n",
    "    @staticmethod    \n",
    "    def _fib(num):\n",
    "        if num < 2:\n",
    "            return 1\n",
    "        else:\n",
    "            return Fib._fib(num-1) + Fib._fib(num-2)"
   ]
  },
  {
   "cell_type": "code",
   "execution_count": 56,
   "id": "d7f41e1e",
   "metadata": {},
   "outputs": [
    {
     "data": {
      "text/plain": [
       "(__main__.Fib, type)"
      ]
     },
     "execution_count": 56,
     "metadata": {},
     "output_type": "execute_result"
    }
   ],
   "source": [
    "f = Fib(30)\n",
    "type(f), type(Fib)"
   ]
  },
  {
   "cell_type": "code",
   "execution_count": 48,
   "id": "d52afdc2",
   "metadata": {},
   "outputs": [
    {
     "data": {
      "text/plain": [
       "mappingproxy({'__module__': '__main__',\n",
       "              '__init__': <function __main__.Fib.__init__(self, n)>,\n",
       "              '__len__': <function __main__.Fib.__len__(self)>,\n",
       "              '__getitem__': <function __main__.Fib.__getitem__(self, pos)>,\n",
       "              '_fib': <staticmethod at 0x18d691ae0d0>,\n",
       "              '__dict__': <attribute '__dict__' of 'Fib' objects>,\n",
       "              '__weakref__': <attribute '__weakref__' of 'Fib' objects>,\n",
       "              '__doc__': None})"
      ]
     },
     "execution_count": 48,
     "metadata": {},
     "output_type": "execute_result"
    }
   ],
   "source": [
    "Fib.__dict__"
   ]
  },
  {
   "cell_type": "code",
   "execution_count": 55,
   "id": "4524f913",
   "metadata": {},
   "outputs": [
    {
     "data": {
      "text/plain": [
       "(10946, 10946)"
      ]
     },
     "execution_count": 55,
     "metadata": {},
     "output_type": "execute_result"
    }
   ],
   "source": [
    "f[20], f.__getitem__(20)"
   ]
  },
  {
   "cell_type": "code",
   "execution_count": 54,
   "id": "d84b76bd",
   "metadata": {},
   "outputs": [
    {
     "name": "stdout",
     "output_type": "stream",
     "text": [
      "[1, 1, 2, 3, 5, 8, 13, 21, 34, 55, 89, 144, 233, 377, 610, 987, 1597, 2584, 4181, 6765, 10946, 17711, 28657, 46368, 75025, 121393, 196418, 317811, 514229, 832040, 1346269]\n"
     ]
    }
   ],
   "source": [
    "print(list(f))"
   ]
  },
  {
   "cell_type": "markdown",
   "id": "24a7e481",
   "metadata": {},
   "source": [
    "`` Implement some functionality in the class, that takes care of the type of argument (pos) to be \n",
    " only an integer``"
   ]
  },
  {
   "cell_type": "code",
   "execution_count": 57,
   "id": "17df7174",
   "metadata": {},
   "outputs": [],
   "source": [
    "class Fib:\n",
    "    def __init__(self,n):\n",
    "        self._n = n \n",
    "        \n",
    "    def __len__(self):\n",
    "        return self._n\n",
    "    \n",
    "    def __getitem__(self,pos):\n",
    "        if pos < 0 or pos > self._n:\n",
    "            raise IndexError('Out of Index Dear User')\n",
    "        else:\n",
    "            return Fib._fib(pos)\n",
    "        \n",
    "    @staticmethod    \n",
    "    def _fib(num):\n",
    "        if num < 2:\n",
    "            return 1\n",
    "        else:\n",
    "            return Fib._fib(num-1) + Fib._fib(num-2)"
   ]
  },
  {
   "cell_type": "code",
   "execution_count": 59,
   "id": "66e309a2",
   "metadata": {},
   "outputs": [
    {
     "name": "stdout",
     "output_type": "stream",
     "text": [
      "True\n"
     ]
    }
   ],
   "source": [
    "m = 2\n",
    "print(type(m)==int)"
   ]
  },
  {
   "cell_type": "code",
   "execution_count": 60,
   "id": "98399821",
   "metadata": {},
   "outputs": [],
   "source": [
    "m = 2\n",
    "result = type(m)==int"
   ]
  },
  {
   "cell_type": "code",
   "execution_count": 61,
   "id": "a183f43e",
   "metadata": {},
   "outputs": [
    {
     "data": {
      "text/plain": [
       "True"
      ]
     },
     "execution_count": 61,
     "metadata": {},
     "output_type": "execute_result"
    }
   ],
   "source": [
    "result"
   ]
  },
  {
   "cell_type": "code",
   "execution_count": 63,
   "id": "0bd38c81",
   "metadata": {},
   "outputs": [
    {
     "name": "stdout",
     "output_type": "stream",
     "text": [
      "This is within try\n"
     ]
    }
   ],
   "source": [
    "try:\n",
    "    type(2) == int\n",
    "    print(\"This is within try\")\n",
    "except Exception as e:\n",
    "    print(str(e))\n",
    "    "
   ]
  },
  {
   "cell_type": "code",
   "execution_count": 64,
   "id": "364bb5f4",
   "metadata": {},
   "outputs": [
    {
     "name": "stdout",
     "output_type": "stream",
     "text": [
      "This is within try\n"
     ]
    }
   ],
   "source": [
    "try:\n",
    "    True\n",
    "    print(\"This is within try\")\n",
    "except Exception as e:\n",
    "    print(str(e))\n",
    "    "
   ]
  },
  {
   "cell_type": "code",
   "execution_count": 65,
   "id": "fde51d53",
   "metadata": {},
   "outputs": [
    {
     "name": "stdout",
     "output_type": "stream",
     "text": [
      "This is within try\n"
     ]
    }
   ],
   "source": [
    "try:\n",
    "    type(2.3) == int\n",
    "    print(\"This is within try\")\n",
    "except Exception as e:\n",
    "    print(str(e))\n",
    "    "
   ]
  },
  {
   "cell_type": "code",
   "execution_count": 67,
   "id": "b5a947f4",
   "metadata": {},
   "outputs": [
    {
     "name": "stdout",
     "output_type": "stream",
     "text": [
      "This is a list\n"
     ]
    }
   ],
   "source": [
    "try:\n",
    "    if type([1,2,3]) == int:\n",
    "        print(\"This is an int\")\n",
    "    else:\n",
    "        print(\"This is a list\")\n",
    "except Exception as e:\n",
    "    print(str(e))\n",
    "    "
   ]
  },
  {
   "cell_type": "code",
   "execution_count": 68,
   "id": "6028b74e",
   "metadata": {},
   "outputs": [
    {
     "data": {
      "text/plain": [
       "True"
      ]
     },
     "execution_count": 68,
     "metadata": {},
     "output_type": "execute_result"
    }
   ],
   "source": [
    "isinstance(2,int)"
   ]
  },
  {
   "cell_type": "code",
   "execution_count": 69,
   "id": "d0e82722",
   "metadata": {},
   "outputs": [
    {
     "data": {
      "text/plain": [
       "False"
      ]
     },
     "execution_count": 69,
     "metadata": {},
     "output_type": "execute_result"
    }
   ],
   "source": [
    "isinstance(2.3,int)"
   ]
  },
  {
   "cell_type": "code",
   "execution_count": 80,
   "id": "585c42d4",
   "metadata": {},
   "outputs": [],
   "source": [
    "class Fib:\n",
    "    def __init__(self,n):\n",
    "        self._n = n \n",
    "        \n",
    "    def __len__(self):\n",
    "        return self._n\n",
    "    \n",
    "    def __getitem__(self,pos):\n",
    "        if isinstance(pos,int):\n",
    "#             print(\"Yes this is an int\")\n",
    "            if pos < 0 or pos > self._n:\n",
    "                raise IndexError('Out of Index Dear User')\n",
    "            else:\n",
    "                return Fib._fib(pos)\n",
    "        else:\n",
    "            print(f'we are in {__class__.__name__}')\n",
    "\n",
    "    @staticmethod    \n",
    "    def _fib(num):\n",
    "        if num < 2:\n",
    "            return 1\n",
    "        else:\n",
    "            return Fib._fib(num-1) + Fib._fib(num-2)"
   ]
  },
  {
   "cell_type": "code",
   "execution_count": 81,
   "id": "7e9ad206",
   "metadata": {},
   "outputs": [],
   "source": [
    "f = Fib(20)"
   ]
  },
  {
   "cell_type": "code",
   "execution_count": 82,
   "id": "c44ad4e6",
   "metadata": {},
   "outputs": [
    {
     "data": {
      "text/plain": [
       "2"
      ]
     },
     "execution_count": 82,
     "metadata": {},
     "output_type": "execute_result"
    }
   ],
   "source": [
    "f[2]"
   ]
  },
  {
   "cell_type": "code",
   "execution_count": 83,
   "id": "de37f497",
   "metadata": {},
   "outputs": [
    {
     "name": "stdout",
     "output_type": "stream",
     "text": [
      "we are in Fib\n"
     ]
    }
   ],
   "source": [
    "f['a']"
   ]
  },
  {
   "cell_type": "code",
   "execution_count": 84,
   "id": "765c5617",
   "metadata": {},
   "outputs": [
    {
     "name": "stdout",
     "output_type": "stream",
     "text": [
      "1\t1\t2\t3\t5\t8\t13\t21\t34\t55\t89\t144\t233\t377\t610\t987\t1597\t2584\t4181\t6765\t10946\t"
     ]
    }
   ],
   "source": [
    "for item in f:\n",
    "    print(item,end='\\t')"
   ]
  },
  {
   "cell_type": "code",
   "execution_count": 85,
   "id": "4daadb33",
   "metadata": {},
   "outputs": [
    {
     "data": {
      "text/plain": [
       "21892"
      ]
     },
     "execution_count": 85,
     "metadata": {},
     "output_type": "execute_result"
    }
   ],
   "source": [
    "item+item"
   ]
  },
  {
   "cell_type": "code",
   "execution_count": 86,
   "id": "6eec63bf",
   "metadata": {},
   "outputs": [
    {
     "data": {
      "text/plain": [
       "10946"
      ]
     },
     "execution_count": 86,
     "metadata": {},
     "output_type": "execute_result"
    }
   ],
   "source": [
    "item"
   ]
  },
  {
   "cell_type": "code",
   "execution_count": 87,
   "id": "7b755a59",
   "metadata": {},
   "outputs": [
    {
     "ename": "TypeError",
     "evalue": "unsupported operand type(s) for +: 'Fib' and 'Fib'",
     "output_type": "error",
     "traceback": [
      "\u001b[1;31m---------------------------------------------------------------------------\u001b[0m",
      "\u001b[1;31mTypeError\u001b[0m                                 Traceback (most recent call last)",
      "\u001b[1;32m<ipython-input-87-f99a40e309c0>\u001b[0m in \u001b[0;36m<module>\u001b[1;34m\u001b[0m\n\u001b[1;32m----> 1\u001b[1;33m \u001b[0mf\u001b[0m \u001b[1;33m+\u001b[0m \u001b[0mf\u001b[0m\u001b[1;33m\u001b[0m\u001b[1;33m\u001b[0m\u001b[0m\n\u001b[0m",
      "\u001b[1;31mTypeError\u001b[0m: unsupported operand type(s) for +: 'Fib' and 'Fib'"
     ]
    }
   ],
   "source": [
    "f + f"
   ]
  },
  {
   "cell_type": "code",
   "execution_count": null,
   "id": "85564e89",
   "metadata": {},
   "outputs": [],
   "source": []
  }
 ],
 "metadata": {
  "kernelspec": {
   "display_name": "Python 3",
   "language": "python",
   "name": "python3"
  },
  "language_info": {
   "codemirror_mode": {
    "name": "ipython",
    "version": 3
   },
   "file_extension": ".py",
   "mimetype": "text/x-python",
   "name": "python",
   "nbconvert_exporter": "python",
   "pygments_lexer": "ipython3",
   "version": "3.9.6"
  }
 },
 "nbformat": 4,
 "nbformat_minor": 5
}
