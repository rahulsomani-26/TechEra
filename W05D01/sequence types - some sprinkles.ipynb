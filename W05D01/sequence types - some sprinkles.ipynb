{
 "cells": [
  {
   "cell_type": "code",
   "execution_count": 1,
   "id": "2c509af2",
   "metadata": {},
   "outputs": [],
   "source": [
    "class Bucket:\n",
    "    def __init__(self,n):\n",
    "        self.n = n\n",
    "        \n",
    "    def __len__(self):\n",
    "        return self.n\n",
    "    \n",
    "    def __getitem__(self,pos):\n",
    "        if pos > self.n or pos < 0:\n",
    "            raise IndexError(\"My own error message\")\n",
    "        else:\n",
    "            return 'B'"
   ]
  },
  {
   "cell_type": "code",
   "execution_count": 2,
   "id": "ff765be9",
   "metadata": {},
   "outputs": [],
   "source": [
    "b = Bucket(10)"
   ]
  },
  {
   "cell_type": "code",
   "execution_count": 3,
   "id": "9aabe340",
   "metadata": {},
   "outputs": [
    {
     "name": "stdout",
     "output_type": "stream",
     "text": [
      "B\n",
      "B\n",
      "B\n",
      "B\n",
      "B\n",
      "B\n",
      "B\n",
      "B\n",
      "B\n",
      "B\n",
      "B\n"
     ]
    }
   ],
   "source": [
    "for item in b:\n",
    "    print(item)"
   ]
  },
  {
   "cell_type": "code",
   "execution_count": 4,
   "id": "23fa3250",
   "metadata": {},
   "outputs": [],
   "source": [
    "c = Bucket(30)"
   ]
  },
  {
   "cell_type": "code",
   "execution_count": 5,
   "id": "5b0b3163",
   "metadata": {},
   "outputs": [
    {
     "ename": "TypeError",
     "evalue": "unsupported operand type(s) for +: 'Bucket' and 'Bucket'",
     "output_type": "error",
     "traceback": [
      "\u001b[1;31m---------------------------------------------------------------------------\u001b[0m",
      "\u001b[1;31mTypeError\u001b[0m                                 Traceback (most recent call last)",
      "\u001b[1;32m<ipython-input-5-921cdd4e6dfb>\u001b[0m in \u001b[0;36m<module>\u001b[1;34m\u001b[0m\n\u001b[1;32m----> 1\u001b[1;33m \u001b[0mb\u001b[0m\u001b[1;33m+\u001b[0m\u001b[0mc\u001b[0m\u001b[1;33m\u001b[0m\u001b[1;33m\u001b[0m\u001b[0m\n\u001b[0m",
      "\u001b[1;31mTypeError\u001b[0m: unsupported operand type(s) for +: 'Bucket' and 'Bucket'"
     ]
    }
   ],
   "source": [
    "b+c"
   ]
  },
  {
   "cell_type": "code",
   "execution_count": 6,
   "id": "dfb69224",
   "metadata": {},
   "outputs": [
    {
     "data": {
      "text/plain": [
       "2"
      ]
     },
     "execution_count": 6,
     "metadata": {},
     "output_type": "execute_result"
    }
   ],
   "source": [
    "1 + 1"
   ]
  },
  {
   "cell_type": "code",
   "execution_count": 8,
   "id": "a243f041",
   "metadata": {},
   "outputs": [
    {
     "name": "stdout",
     "output_type": "stream",
     "text": [
      "['__add__', '__class__', '__class_getitem__', '__contains__', '__delattr__', '__delitem__', '__dir__', '__doc__', '__eq__', '__format__', '__ge__', '__getattribute__', '__getitem__', '__gt__', '__hash__', '__iadd__', '__imul__', '__init__', '__init_subclass__', '__iter__', '__le__', '__len__', '__lt__', '__mul__', '__ne__', '__new__', '__reduce__', '__reduce_ex__', '__repr__', '__reversed__', '__rmul__', '__setattr__', '__setitem__', '__sizeof__', '__str__', '__subclasshook__', 'append', 'clear', 'copy', 'count', 'extend', 'index', 'insert', 'pop', 'remove', 'reverse', 'sort']\n"
     ]
    }
   ],
   "source": [
    "print(dir(list))"
   ]
  },
  {
   "cell_type": "markdown",
   "id": "b19528b6",
   "metadata": {},
   "source": [
    "`` Let's add functionality to our custom sequence,so that we can concatenation is possible on its object``"
   ]
  },
  {
   "cell_type": "code",
   "execution_count": 9,
   "id": "4c43b284",
   "metadata": {},
   "outputs": [
    {
     "name": "stdout",
     "output_type": "stream",
     "text": [
      "2658122354864 2658123457392\n",
      "2658186005680\n"
     ]
    }
   ],
   "source": [
    "a='first'\n",
    "b = 'second'\n",
    "print(id(a),id(b))\n",
    "a = a+b\n",
    "print(id(a))"
   ]
  },
  {
   "cell_type": "markdown",
   "id": "c7f997e2",
   "metadata": {},
   "source": [
    "`` In-place concatenation is done be using += operator `` "
   ]
  },
  {
   "cell_type": "code",
   "execution_count": 11,
   "id": "eaa1b50c",
   "metadata": {},
   "outputs": [
    {
     "name": "stdout",
     "output_type": "stream",
     "text": [
      "2658186905856 2658186894656\n",
      "2658186905856\n"
     ]
    }
   ],
   "source": [
    "a =[1,2,3]\n",
    "b = [4,5,6]\n",
    "print(id(a),id(b))\n",
    "a += b\n",
    "print(id(a))"
   ]
  },
  {
   "cell_type": "code",
   "execution_count": null,
   "id": "610580cd",
   "metadata": {},
   "outputs": [],
   "source": []
  },
  {
   "cell_type": "code",
   "execution_count": 12,
   "id": "5ecdaba0",
   "metadata": {},
   "outputs": [],
   "source": [
    "class Bucket:\n",
    "    \n",
    "    def __init__(self,n):\n",
    "        self.n = n\n",
    "        \n",
    "    def __add__(self,val):\n",
    "        print('Called + on {} and {}'.format(self,val))\n",
    "        return ' __add__'\n",
    "    \n",
    "    def __iadd__(self,val):\n",
    "        print('Called += on {} and {}'.format(self,val))\n",
    "        return '__iadd__ called '\n",
    "    \n",
    "    def __len__(self):\n",
    "        return self.n\n",
    "    \n",
    "    def __getitem__(self,pos):\n",
    "        if pos > self.n or pos < 0:\n",
    "            raise IndexError(\"My own error message\")\n",
    "        else:\n",
    "            return 'A bucket full of gold !'\n",
    "        \n",
    "        "
   ]
  },
  {
   "cell_type": "code",
   "execution_count": 13,
   "id": "9d5f1421",
   "metadata": {},
   "outputs": [],
   "source": [
    "redbucket = Bucket(10)\n",
    "bluebucket = Bucket(20)\n"
   ]
  },
  {
   "cell_type": "code",
   "execution_count": 14,
   "id": "bb273d2e",
   "metadata": {},
   "outputs": [
    {
     "data": {
      "text/plain": [
       "10"
      ]
     },
     "execution_count": 14,
     "metadata": {},
     "output_type": "execute_result"
    }
   ],
   "source": [
    "len(redbucket)"
   ]
  },
  {
   "cell_type": "code",
   "execution_count": 15,
   "id": "e63c32cc",
   "metadata": {},
   "outputs": [
    {
     "data": {
      "text/plain": [
       "('0x26ae854e880', '0x26ae854edc0')"
      ]
     },
     "execution_count": 15,
     "metadata": {},
     "output_type": "execute_result"
    }
   ],
   "source": [
    "hex(id(redbucket)),hex(id(bluebucket))"
   ]
  },
  {
   "cell_type": "code",
   "execution_count": 16,
   "id": "d6c76864",
   "metadata": {},
   "outputs": [
    {
     "name": "stdout",
     "output_type": "stream",
     "text": [
      "Called + on <__main__.Bucket object at 0x0000026AE854E880> and <__main__.Bucket object at 0x0000026AE854EDC0>\n"
     ]
    }
   ],
   "source": [
    "newbucket = redbucket + bluebucket"
   ]
  },
  {
   "cell_type": "code",
   "execution_count": 17,
   "id": "d230923f",
   "metadata": {},
   "outputs": [
    {
     "name": "stdout",
     "output_type": "stream",
     "text": [
      "Called + on <__main__.Bucket object at 0x0000026AE854EDC0> and <__main__.Bucket object at 0x0000026AE854E880>\n"
     ]
    }
   ],
   "source": [
    " newbucket =  bluebucket + redbucket"
   ]
  },
  {
   "cell_type": "code",
   "execution_count": 18,
   "id": "07384e7c",
   "metadata": {},
   "outputs": [
    {
     "name": "stdout",
     "output_type": "stream",
     "text": [
      "Called + on <__main__.Bucket object at 0x0000026AE854EDC0> and <__main__.Bucket object at 0x0000026AE854E880>\n"
     ]
    },
    {
     "data": {
      "text/plain": [
       "' __add__'"
      ]
     },
     "execution_count": 18,
     "metadata": {},
     "output_type": "execute_result"
    }
   ],
   "source": [
    "bluebucket.__add__(redbucket)"
   ]
  },
  {
   "cell_type": "code",
   "execution_count": 19,
   "id": "2509ab1a",
   "metadata": {},
   "outputs": [
    {
     "name": "stdout",
     "output_type": "stream",
     "text": [
      "Called += on <__main__.Bucket object at 0x0000026AE854E880> and <__main__.Bucket object at 0x0000026AE854EDC0>\n"
     ]
    }
   ],
   "source": [
    "redbucket += bluebucket"
   ]
  },
  {
   "cell_type": "code",
   "execution_count": 22,
   "id": "af60a11b",
   "metadata": {},
   "outputs": [
    {
     "data": {
      "text/plain": [
       "(str, __main__.Bucket)"
      ]
     },
     "execution_count": 22,
     "metadata": {},
     "output_type": "execute_result"
    }
   ],
   "source": [
    "type(redbucket),type(bluebucket)"
   ]
  },
  {
   "cell_type": "markdown",
   "id": "4e8471f3",
   "metadata": {},
   "source": [
    "`` lets add __repr__ to represent our object, the way we want ``"
   ]
  },
  {
   "cell_type": "code",
   "execution_count": 23,
   "id": "e77f133b",
   "metadata": {},
   "outputs": [],
   "source": [
    "class Bucket:\n",
    "    \n",
    "    def __init__(self,n):\n",
    "        self.n = n\n",
    "        \n",
    "    def __repr__(self):\n",
    "        return 'Bucket(n={})'.format(self.n)\n",
    "        \n",
    "    def __add__(self,val):\n",
    "        print('Called + on {} and {}'.format(self,val))\n",
    "        return ' __add__'\n",
    "    \n",
    "    def __iadd__(self,val):\n",
    "        print('Called += on {} and {}'.format(self,val))\n",
    "        return '__iadd__ called '\n",
    "    \n",
    "    def __len__(self):\n",
    "        return self.n\n",
    "    \n",
    "    def __getitem__(self,pos):\n",
    "        if pos > self.n or pos < 0:\n",
    "            raise IndexError(\"My own error message\")\n",
    "        else:\n",
    "            return 'A bucket full of gold !'\n",
    "        \n",
    "        "
   ]
  },
  {
   "cell_type": "code",
   "execution_count": 25,
   "id": "e79074d1",
   "metadata": {},
   "outputs": [],
   "source": [
    "b1 = Bucket(10)\n",
    "b2 = Bucket(20)"
   ]
  },
  {
   "cell_type": "code",
   "execution_count": 26,
   "id": "787f5097",
   "metadata": {},
   "outputs": [
    {
     "data": {
      "text/plain": [
       "Bucket(n=10)"
      ]
     },
     "execution_count": 26,
     "metadata": {},
     "output_type": "execute_result"
    }
   ],
   "source": [
    "b1"
   ]
  },
  {
   "cell_type": "code",
   "execution_count": 27,
   "id": "36b80f19",
   "metadata": {},
   "outputs": [
    {
     "data": {
      "text/plain": [
       "Bucket(n=20)"
      ]
     },
     "execution_count": 27,
     "metadata": {},
     "output_type": "execute_result"
    }
   ],
   "source": [
    "b2"
   ]
  },
  {
   "cell_type": "code",
   "execution_count": 28,
   "id": "1933018f",
   "metadata": {},
   "outputs": [],
   "source": [
    "class Bucket:\n",
    "    \n",
    "    def __init__(self,n):\n",
    "        self.n = n\n",
    "        \n",
    "    def __repr__(self):\n",
    "        return 'Bucket(n={})'.format(self.n)\n",
    "        \n",
    "    def __add__(self,val):\n",
    "        print('Called + on {} and {}'.format(self,val))\n",
    "        return ' __add__'\n",
    "    \n",
    "    def __iadd__(self,val):\n",
    "        print('Called += on {} and {}'.format(self,val))\n",
    "        return '__iadd__ called '\n",
    "    \n",
    "    def __len__(self):\n",
    "        return self.n\n",
    "    \n",
    "    def __getitem__(self,pos):\n",
    "        if pos > self.n or pos < 0:\n",
    "            raise IndexError(\"My own error message\")\n",
    "        else:\n",
    "            return 'A bucket full of gold !'\n",
    "        \n",
    "    def printf(self):\n",
    "        print(\"Hello from {}\".format(self))\n",
    "        \n",
    "        "
   ]
  },
  {
   "cell_type": "code",
   "execution_count": 33,
   "id": "6b2810a1",
   "metadata": {},
   "outputs": [],
   "source": [
    "b= Bucket(10)\n",
    "c= Bucket(30)"
   ]
  },
  {
   "cell_type": "code",
   "execution_count": 34,
   "id": "1ffe76bb",
   "metadata": {},
   "outputs": [
    {
     "data": {
      "text/plain": [
       "mappingproxy({'__module__': '__main__',\n",
       "              '__init__': <function __main__.Bucket.__init__(self, n)>,\n",
       "              '__repr__': <function __main__.Bucket.__repr__(self)>,\n",
       "              '__add__': <function __main__.Bucket.__add__(self, val)>,\n",
       "              '__iadd__': <function __main__.Bucket.__iadd__(self, val)>,\n",
       "              '__len__': <function __main__.Bucket.__len__(self)>,\n",
       "              '__getitem__': <function __main__.Bucket.__getitem__(self, pos)>,\n",
       "              'printf': <function __main__.Bucket.printf(self)>,\n",
       "              '__dict__': <attribute '__dict__' of 'Bucket' objects>,\n",
       "              '__weakref__': <attribute '__weakref__' of 'Bucket' objects>,\n",
       "              '__doc__': None})"
      ]
     },
     "execution_count": 34,
     "metadata": {},
     "output_type": "execute_result"
    }
   ],
   "source": [
    "Bucket.__dict__"
   ]
  },
  {
   "cell_type": "code",
   "execution_count": 35,
   "id": "94b7dcb3",
   "metadata": {},
   "outputs": [
    {
     "data": {
      "text/plain": [
       "<bound method Bucket.printf of Bucket(n=10)>"
      ]
     },
     "execution_count": 35,
     "metadata": {},
     "output_type": "execute_result"
    }
   ],
   "source": [
    "b.printf"
   ]
  },
  {
   "cell_type": "code",
   "execution_count": 36,
   "id": "05ac23fe",
   "metadata": {},
   "outputs": [
    {
     "data": {
      "text/plain": [
       "<bound method Bucket.printf of Bucket(n=30)>"
      ]
     },
     "execution_count": 36,
     "metadata": {},
     "output_type": "execute_result"
    }
   ],
   "source": [
    "c.printf"
   ]
  },
  {
   "cell_type": "code",
   "execution_count": 37,
   "id": "c97de821",
   "metadata": {},
   "outputs": [
    {
     "name": "stdout",
     "output_type": "stream",
     "text": [
      "Hello from Bucket(n=10)\n"
     ]
    }
   ],
   "source": [
    "b.printf()"
   ]
  },
  {
   "cell_type": "code",
   "execution_count": 38,
   "id": "f4a1bcef",
   "metadata": {},
   "outputs": [
    {
     "ename": "TypeError",
     "evalue": "__add__() missing 1 required positional argument: 'val'",
     "output_type": "error",
     "traceback": [
      "\u001b[1;31m---------------------------------------------------------------------------\u001b[0m",
      "\u001b[1;31mTypeError\u001b[0m                                 Traceback (most recent call last)",
      "\u001b[1;32m<ipython-input-38-da1d2bc6756b>\u001b[0m in \u001b[0;36m<module>\u001b[1;34m\u001b[0m\n\u001b[1;32m----> 1\u001b[1;33m \u001b[0mb\u001b[0m\u001b[1;33m.\u001b[0m\u001b[0m__add__\u001b[0m\u001b[1;33m(\u001b[0m\u001b[1;33m)\u001b[0m\u001b[1;33m\u001b[0m\u001b[1;33m\u001b[0m\u001b[0m\n\u001b[0m",
      "\u001b[1;31mTypeError\u001b[0m: __add__() missing 1 required positional argument: 'val'"
     ]
    }
   ],
   "source": [
    "b.__add__()"
   ]
  },
  {
   "cell_type": "code",
   "execution_count": 39,
   "id": "0202562a",
   "metadata": {},
   "outputs": [
    {
     "name": "stdout",
     "output_type": "stream",
     "text": [
      "Called + on Bucket(n=10) and rahul\n"
     ]
    },
    {
     "data": {
      "text/plain": [
       "' __add__'"
      ]
     },
     "execution_count": 39,
     "metadata": {},
     "output_type": "execute_result"
    }
   ],
   "source": [
    "b.__add__(\"rahul\")"
   ]
  },
  {
   "cell_type": "code",
   "execution_count": 40,
   "id": "399c5cc4",
   "metadata": {},
   "outputs": [
    {
     "name": "stdout",
     "output_type": "stream",
     "text": [
      "Called + on Bucket(n=10) and Bucket(n=30)\n"
     ]
    },
    {
     "data": {
      "text/plain": [
       "' __add__'"
      ]
     },
     "execution_count": 40,
     "metadata": {},
     "output_type": "execute_result"
    }
   ],
   "source": [
    "b.__add__(c)"
   ]
  },
  {
   "cell_type": "code",
   "execution_count": 41,
   "id": "a14eca71",
   "metadata": {},
   "outputs": [
    {
     "name": "stdout",
     "output_type": "stream",
     "text": [
      "Called + on Bucket(n=10) and Bucket(n=30)\n"
     ]
    },
    {
     "data": {
      "text/plain": [
       "' __add__'"
      ]
     },
     "execution_count": 41,
     "metadata": {},
     "output_type": "execute_result"
    }
   ],
   "source": [
    "b+c"
   ]
  },
  {
   "cell_type": "code",
   "execution_count": 42,
   "id": "c1bef7d2",
   "metadata": {},
   "outputs": [
    {
     "name": "stdout",
     "output_type": "stream",
     "text": [
      "Called + on Bucket(n=10) and Bucket(n=30)\n"
     ]
    }
   ],
   "source": [
    "result = b+c"
   ]
  },
  {
   "cell_type": "code",
   "execution_count": 43,
   "id": "dd496fe7",
   "metadata": {},
   "outputs": [
    {
     "data": {
      "text/plain": [
       "' __add__'"
      ]
     },
     "execution_count": 43,
     "metadata": {},
     "output_type": "execute_result"
    }
   ],
   "source": [
    "result"
   ]
  },
  {
   "cell_type": "markdown",
   "id": "3f12d8c4",
   "metadata": {},
   "source": [
    "`` Lets add functionality to it so that * and *= can be used on the objects ``"
   ]
  },
  {
   "cell_type": "code",
   "execution_count": 58,
   "id": "b61d9862",
   "metadata": {},
   "outputs": [],
   "source": [
    "class Bucket:\n",
    "    \n",
    "    def __init__(self,n):\n",
    "        self.n = n\n",
    "        \n",
    "    def __repr__(self):\n",
    "        return 'Bucket(n={})'.format(self.n)\n",
    "        \n",
    "    def __add__(self,val):\n",
    "        print('Called + on {} and {}'.format(self,val))\n",
    "        return ' __add__'\n",
    "    \n",
    "    def __iadd__(self,val):\n",
    "        print('Called += on {} and {}'.format(self,val))\n",
    "        return '__iadd__ called '\n",
    "    \n",
    "    def __mul__(self,val):\n",
    "        print('Called * on {} and {}'.format(self,val))\n",
    "        return ' __mul__'\n",
    "    \n",
    "    def __imul__(self,val):\n",
    "        print('Called *= on {} and {}'.format(self,val))\n",
    "        return '__imul__ called '\n",
    "    \n",
    "    def __len__(self):\n",
    "        return self.n\n",
    "    \n",
    "    def __getitem__(self,pos):\n",
    "        if pos > self.n or pos < 0:\n",
    "            raise IndexError(\"My own error message\")\n",
    "        else:\n",
    "            return 'A bucket full of gold !'\n",
    "        \n",
    "    def printf(self):\n",
    "        print(\"Hello from {}\".format(self))\n",
    "        \n",
    "        "
   ]
  },
  {
   "cell_type": "code",
   "execution_count": 53,
   "id": "aff4c52b",
   "metadata": {},
   "outputs": [],
   "source": [
    "a = Bucket(\"me\")"
   ]
  },
  {
   "cell_type": "code",
   "execution_count": 54,
   "id": "b478a2d8",
   "metadata": {},
   "outputs": [],
   "source": [
    "b = Bucket('you')"
   ]
  },
  {
   "cell_type": "code",
   "execution_count": 55,
   "id": "1b477292",
   "metadata": {},
   "outputs": [
    {
     "name": "stdout",
     "output_type": "stream",
     "text": [
      "Called + on Bucket(n=me) and Bucket(n=you)\n"
     ]
    },
    {
     "data": {
      "text/plain": [
       "' __add__'"
      ]
     },
     "execution_count": 55,
     "metadata": {},
     "output_type": "execute_result"
    }
   ],
   "source": [
    "a+b"
   ]
  },
  {
   "cell_type": "code",
   "execution_count": 56,
   "id": "919707aa",
   "metadata": {},
   "outputs": [
    {
     "name": "stdout",
     "output_type": "stream",
     "text": [
      "Called += on Bucket(n=me) and Bucket(n=you)\n"
     ]
    }
   ],
   "source": [
    "a+=b\n"
   ]
  },
  {
   "cell_type": "code",
   "execution_count": 61,
   "id": "4cd700a2",
   "metadata": {},
   "outputs": [
    {
     "name": "stdout",
     "output_type": "stream",
     "text": [
      "Called * on Bucket(n=you) and 4\n"
     ]
    },
    {
     "data": {
      "text/plain": [
       "' __mul__'"
      ]
     },
     "execution_count": 61,
     "metadata": {},
     "output_type": "execute_result"
    }
   ],
   "source": [
    "b.__mul__(4)"
   ]
  },
  {
   "cell_type": "code",
   "execution_count": 60,
   "id": "3565ab63",
   "metadata": {},
   "outputs": [
    {
     "name": "stdout",
     "output_type": "stream",
     "text": [
      "Called *= on Bucket(n=you) and 5\n"
     ]
    },
    {
     "data": {
      "text/plain": [
       "'__imul__ called '"
      ]
     },
     "execution_count": 60,
     "metadata": {},
     "output_type": "execute_result"
    }
   ],
   "source": [
    "b.__imul__(5)"
   ]
  },
  {
   "cell_type": "code",
   "execution_count": 62,
   "id": "f90bab9f",
   "metadata": {},
   "outputs": [
    {
     "name": "stdout",
     "output_type": "stream",
     "text": [
      "Called * on Bucket(n=r) and 5\n"
     ]
    },
    {
     "data": {
      "text/plain": [
       "' __mul__'"
      ]
     },
     "execution_count": 62,
     "metadata": {},
     "output_type": "execute_result"
    }
   ],
   "source": [
    "c = Bucket(\"r\")\n",
    "c*5"
   ]
  },
  {
   "cell_type": "code",
   "execution_count": 63,
   "id": "ba3a1c52",
   "metadata": {},
   "outputs": [
    {
     "name": "stdout",
     "output_type": "stream",
     "text": [
      "Called *= on Bucket(n=r) and 5\n"
     ]
    }
   ],
   "source": [
    "c*=5"
   ]
  },
  {
   "cell_type": "markdown",
   "id": "0a7cb13c",
   "metadata": {},
   "source": [
    "# Some practical usage ( lets see it works or not !)"
   ]
  },
  {
   "cell_type": "code",
   "execution_count": 66,
   "id": "c60a0ece",
   "metadata": {},
   "outputs": [],
   "source": [
    "class Bucket:\n",
    "    \n",
    "    def __init__(self,name):\n",
    "        self.name = name\n",
    "        \n",
    "    def __repr__(self):\n",
    "        return f'Bucket(name={self.name})'\n",
    "    \n",
    "    def __add__(self,obj):\n",
    "        \"\"\"obj here is assumed to be of the same type ( Bucket )\"\"\"\n",
    "        print('Called + on {} and {}'.format(self,obj.name))\n",
    "        return Bucket(self.name + obj.name)\n",
    "    \n",
    "    "
   ]
  },
  {
   "cell_type": "code",
   "execution_count": 68,
   "id": "6579b6e6",
   "metadata": {},
   "outputs": [],
   "source": [
    "a = Bucket(\"Rahul\")\n",
    "b = Bucket(\"Somani\")"
   ]
  },
  {
   "cell_type": "code",
   "execution_count": 71,
   "id": "e434980a",
   "metadata": {},
   "outputs": [
    {
     "data": {
      "text/plain": [
       "(Bucket(name=Rahul), 'Bucket(name=Rahul)', 2658187670768)"
      ]
     },
     "execution_count": 71,
     "metadata": {},
     "output_type": "execute_result"
    }
   ],
   "source": [
    "a, repr(a), id(a)"
   ]
  },
  {
   "cell_type": "code",
   "execution_count": 72,
   "id": "1bbb5f1a",
   "metadata": {},
   "outputs": [
    {
     "data": {
      "text/plain": [
       "(Bucket(name=Somani), 'Bucket(name=Somani)', 2658187670048)"
      ]
     },
     "execution_count": 72,
     "metadata": {},
     "output_type": "execute_result"
    }
   ],
   "source": [
    "b, repr(b), id(b)"
   ]
  },
  {
   "cell_type": "code",
   "execution_count": 74,
   "id": "01fab5ce",
   "metadata": {},
   "outputs": [
    {
     "name": "stdout",
     "output_type": "stream",
     "text": [
      "Called + on Bucket(name=Rahul) and Somani\n"
     ]
    }
   ],
   "source": [
    "result = a+b"
   ]
  },
  {
   "cell_type": "code",
   "execution_count": 75,
   "id": "d639f359",
   "metadata": {},
   "outputs": [
    {
     "data": {
      "text/plain": [
       "(Bucket(name=RahulSomani), 2658187670384)"
      ]
     },
     "execution_count": 75,
     "metadata": {},
     "output_type": "execute_result"
    }
   ],
   "source": [
    "result,id(result)"
   ]
  },
  {
   "cell_type": "code",
   "execution_count": null,
   "id": "dbfa346a",
   "metadata": {},
   "outputs": [],
   "source": []
  }
 ],
 "metadata": {
  "kernelspec": {
   "display_name": "Python 3",
   "language": "python",
   "name": "python3"
  },
  "language_info": {
   "codemirror_mode": {
    "name": "ipython",
    "version": 3
   },
   "file_extension": ".py",
   "mimetype": "text/x-python",
   "name": "python",
   "nbconvert_exporter": "python",
   "pygments_lexer": "ipython3",
   "version": "3.9.6"
  }
 },
 "nbformat": 4,
 "nbformat_minor": 5
}
