{
 "cells": [
  {
   "cell_type": "markdown",
   "id": "b0ec9293",
   "metadata": {},
   "source": [
    "# Iterators \n",
    "\n",
    "Iterators are object that implement the "
   ]
  },
  {
   "cell_type": "markdown",
   "id": "3e8729f4",
   "metadata": {},
   "source": [
    "* `__next__ `\n",
    "* ` __iter__ ` method that just returns the object `self`\n",
    "\n",
    "`` But the drawbacks are `` \n",
    "* We cannot use the `for` loop\n",
    "* Once it is exhausted the iteration, we are done with the object. So the only way to iterate through it again is to crreate a new instance of the object "
   ]
  },
  {
   "cell_type": "code",
   "execution_count": 1,
   "id": "43995b78",
   "metadata": {},
   "outputs": [],
   "source": [
    "class Squares:\n",
    "    \n",
    "    def __init__(self,length):\n",
    "        self.length = length\n",
    "        self.index = 0 \n",
    "        \n",
    "    def __iter__(self):\n",
    "        return self\n",
    "    \n",
    "    def __next__(self):\n",
    "        if self.index >= self.length:\n",
    "            raise StopIteration\n",
    "        else:\n",
    "            result = self.index ** 2\n",
    "            self.index += 1\n",
    "            return result \n",
    "        "
   ]
  },
  {
   "cell_type": "code",
   "execution_count": 2,
   "id": "beec1f78",
   "metadata": {},
   "outputs": [],
   "source": [
    "s = Squares(9)"
   ]
  },
  {
   "cell_type": "code",
   "execution_count": 3,
   "id": "63b87855",
   "metadata": {},
   "outputs": [
    {
     "data": {
      "text/plain": [
       "{'length': 9, 'index': 0}"
      ]
     },
     "execution_count": 3,
     "metadata": {},
     "output_type": "execute_result"
    }
   ],
   "source": [
    "s.__dict__"
   ]
  },
  {
   "cell_type": "code",
   "execution_count": 4,
   "id": "fee0e746",
   "metadata": {},
   "outputs": [
    {
     "data": {
      "text/plain": [
       "mappingproxy({'__module__': '__main__',\n",
       "              '__init__': <function __main__.Squares.__init__(self, length)>,\n",
       "              '__iter__': <function __main__.Squares.__iter__(self)>,\n",
       "              '__next__': <function __main__.Squares.__next__(self)>,\n",
       "              '__dict__': <attribute '__dict__' of 'Squares' objects>,\n",
       "              '__weakref__': <attribute '__weakref__' of 'Squares' objects>,\n",
       "              '__doc__': None})"
      ]
     },
     "execution_count": 4,
     "metadata": {},
     "output_type": "execute_result"
    }
   ],
   "source": [
    "Squares.__dict__"
   ]
  },
  {
   "cell_type": "markdown",
   "id": "99d02e8a",
   "metadata": {},
   "source": [
    "Now we can use the `for` loop on our object :"
   ]
  },
  {
   "cell_type": "code",
   "execution_count": 5,
   "id": "cb01fd7a",
   "metadata": {},
   "outputs": [
    {
     "name": "stdout",
     "output_type": "stream",
     "text": [
      "0\n",
      "1\n",
      "4\n",
      "9\n",
      "16\n",
      "25\n",
      "36\n",
      "49\n",
      "64\n"
     ]
    }
   ],
   "source": [
    "for val in s:\n",
    "    print(val)"
   ]
  },
  {
   "cell_type": "markdown",
   "id": "07200c5f",
   "metadata": {},
   "source": [
    " Now lets `loop through it ` again "
   ]
  },
  {
   "cell_type": "code",
   "execution_count": 6,
   "id": "57ede70b",
   "metadata": {},
   "outputs": [],
   "source": [
    "for val in s:\n",
    "    print(val)"
   ]
  },
  {
   "cell_type": "markdown",
   "id": "2df0e48a",
   "metadata": {},
   "source": [
    "No output, as it got ` exhausted `"
   ]
  },
  {
   "cell_type": "markdown",
   "id": "1efc4d3f",
   "metadata": {},
   "source": [
    "The only way to `loop ` through it `again` is by creating a `new object`"
   ]
  },
  {
   "cell_type": "code",
   "execution_count": 11,
   "id": "4491fba7",
   "metadata": {},
   "outputs": [
    {
     "name": "stdout",
     "output_type": "stream",
     "text": [
      "0\n",
      "1\n",
      "4\n",
      "9\n",
      "16\n",
      "25\n",
      "36\n",
      "49\n",
      "64\n"
     ]
    }
   ],
   "source": [
    "s = Squares(9)\n",
    "for val in s:\n",
    "    print(val)"
   ]
  },
  {
   "cell_type": "markdown",
   "id": "3f9a1804",
   "metadata": {},
   "source": [
    "The built-in function `iter` calls the `__iter__` method"
   ]
  },
  {
   "cell_type": "code",
   "execution_count": 13,
   "id": "6acb7445",
   "metadata": {},
   "outputs": [],
   "source": [
    "s = Squares(5)"
   ]
  },
  {
   "cell_type": "code",
   "execution_count": 14,
   "id": "cbe3351c",
   "metadata": {},
   "outputs": [
    {
     "data": {
      "text/plain": [
       "1724753914800"
      ]
     },
     "execution_count": 14,
     "metadata": {},
     "output_type": "execute_result"
    }
   ],
   "source": [
    "id(s)"
   ]
  },
  {
   "cell_type": "code",
   "execution_count": 15,
   "id": "9e8ee596",
   "metadata": {},
   "outputs": [
    {
     "data": {
      "text/plain": [
       "<bound method Squares.__iter__ of <__main__.Squares object at 0x0000019193582BB0>>"
      ]
     },
     "execution_count": 15,
     "metadata": {},
     "output_type": "execute_result"
    }
   ],
   "source": [
    "s.__iter__"
   ]
  },
  {
   "cell_type": "code",
   "execution_count": 16,
   "id": "6621d462",
   "metadata": {},
   "outputs": [
    {
     "data": {
      "text/plain": [
       "1724754057856"
      ]
     },
     "execution_count": 16,
     "metadata": {},
     "output_type": "execute_result"
    }
   ],
   "source": [
    "id(s.__iter__)"
   ]
  },
  {
   "cell_type": "code",
   "execution_count": 17,
   "id": "7b071144",
   "metadata": {},
   "outputs": [
    {
     "data": {
      "text/plain": [
       "1724753914800"
      ]
     },
     "execution_count": 17,
     "metadata": {},
     "output_type": "execute_result"
    }
   ],
   "source": [
    "id(s.__iter__())"
   ]
  },
  {
   "cell_type": "code",
   "execution_count": 18,
   "id": "660fba6e",
   "metadata": {},
   "outputs": [
    {
     "data": {
      "text/plain": [
       "1724753914800"
      ]
     },
     "execution_count": 18,
     "metadata": {},
     "output_type": "execute_result"
    }
   ],
   "source": [
    "id(iter(s))"
   ]
  },
  {
   "cell_type": "code",
   "execution_count": 19,
   "id": "58a5c376",
   "metadata": {},
   "outputs": [
    {
     "data": {
      "text/plain": [
       "0"
      ]
     },
     "execution_count": 19,
     "metadata": {},
     "output_type": "execute_result"
    }
   ],
   "source": [
    "next(s)"
   ]
  },
  {
   "cell_type": "code",
   "execution_count": 20,
   "id": "feb6baca",
   "metadata": {},
   "outputs": [
    {
     "data": {
      "text/plain": [
       "[(0, 1), (1, 4), (2, 9), (3, 16)]"
      ]
     },
     "execution_count": 20,
     "metadata": {},
     "output_type": "execute_result"
    }
   ],
   "source": [
    "list(enumerate(s))"
   ]
  },
  {
   "cell_type": "code",
   "execution_count": 21,
   "id": "1cc2a1a4",
   "metadata": {},
   "outputs": [
    {
     "data": {
      "text/plain": [
       "[]"
      ]
     },
     "execution_count": 21,
     "metadata": {},
     "output_type": "execute_result"
    }
   ],
   "source": [
    "list(enumerate(s))"
   ]
  },
  {
   "cell_type": "code",
   "execution_count": 22,
   "id": "a86abf21",
   "metadata": {},
   "outputs": [
    {
     "data": {
      "text/plain": [
       "[(0, 0), (1, 1), (2, 4), (3, 9), (4, 16)]"
      ]
     },
     "execution_count": 22,
     "metadata": {},
     "output_type": "execute_result"
    }
   ],
   "source": [
    "s = Squares(5)\n",
    "list(enumerate(s))"
   ]
  },
  {
   "cell_type": "code",
   "execution_count": 23,
   "id": "62727571",
   "metadata": {},
   "outputs": [
    {
     "data": {
      "text/plain": [
       "<function sorted(iterable, /, *, key=None, reverse=False)>"
      ]
     },
     "execution_count": 23,
     "metadata": {},
     "output_type": "execute_result"
    }
   ],
   "source": [
    "sorted"
   ]
  },
  {
   "cell_type": "code",
   "execution_count": 24,
   "id": "0f5377db",
   "metadata": {},
   "outputs": [
    {
     "data": {
      "text/plain": [
       "[81, 64, 49, 36, 25, 16, 9, 4, 1, 0]"
      ]
     },
     "execution_count": 24,
     "metadata": {},
     "output_type": "execute_result"
    }
   ],
   "source": [
    "s = Squares(10)\n",
    "sorted(s,reverse=True)"
   ]
  },
  {
   "cell_type": "code",
   "execution_count": 29,
   "id": "a6c8e76d",
   "metadata": {},
   "outputs": [
    {
     "name": "stdout",
     "output_type": "stream",
     "text": [
      "((0, 0), (1, 1), (2, 4), (3, 9), (4, 16), (5, 25), (6, 36), (7, 49), (8, 64), (9, 81))\n"
     ]
    }
   ],
   "source": [
    "s = Squares(10)\n",
    "print(tuple(enumerate(s)))"
   ]
  },
  {
   "cell_type": "code",
   "execution_count": 33,
   "id": "c8f8b2e3",
   "metadata": {},
   "outputs": [
    {
     "data": {
      "text/plain": [
       "<list_iterator at 0x191934d6dc0>"
      ]
     },
     "execution_count": 33,
     "metadata": {},
     "output_type": "execute_result"
    }
   ],
   "source": [
    "a=iter([1,2,3,4])\n",
    "a"
   ]
  },
  {
   "cell_type": "code",
   "execution_count": 31,
   "id": "bcf8a790",
   "metadata": {},
   "outputs": [
    {
     "data": {
      "text/plain": [
       "1"
      ]
     },
     "execution_count": 31,
     "metadata": {},
     "output_type": "execute_result"
    }
   ],
   "source": [
    "next(a)"
   ]
  },
  {
   "cell_type": "code",
   "execution_count": 32,
   "id": "cd0c2bac",
   "metadata": {},
   "outputs": [
    {
     "data": {
      "text/plain": [
       "2"
      ]
     },
     "execution_count": 32,
     "metadata": {},
     "output_type": "execute_result"
    }
   ],
   "source": [
    "next(a)"
   ]
  },
  {
   "cell_type": "markdown",
   "id": "fe7f16bb",
   "metadata": {},
   "source": [
    "How many times `__iter__` is called and `when is it called ? `"
   ]
  },
  {
   "cell_type": "code",
   "execution_count": 34,
   "id": "7e599c28",
   "metadata": {},
   "outputs": [],
   "source": [
    "class Squares:\n",
    "    \n",
    "    def __init__(self,length):\n",
    "        self.length = length\n",
    "        self.index = 0 \n",
    "        \n",
    "    def __iter__(self):\n",
    "        print('__iter__ called')\n",
    "        return self\n",
    "    \n",
    "    def __next__(self):\n",
    "        print('__next__ called')\n",
    "        if self.index >= self.length:\n",
    "            raise StopIteration\n",
    "        else:\n",
    "            result = self.index ** 2\n",
    "            self.index += 1\n",
    "            return result \n",
    "        "
   ]
  },
  {
   "cell_type": "code",
   "execution_count": 35,
   "id": "cf974f27",
   "metadata": {},
   "outputs": [],
   "source": [
    "s = Squares(6)"
   ]
  },
  {
   "cell_type": "markdown",
   "id": "57f352c5",
   "metadata": {},
   "source": [
    "Using a `for ` on our object "
   ]
  },
  {
   "cell_type": "code",
   "execution_count": 36,
   "id": "6b25f853",
   "metadata": {},
   "outputs": [
    {
     "name": "stdout",
     "output_type": "stream",
     "text": [
      "__iter__ called\n",
      "__next__ called\n",
      "0\n",
      "__next__ called\n",
      "1\n",
      "__next__ called\n",
      "4\n",
      "__next__ called\n",
      "9\n",
      "__next__ called\n",
      "16\n",
      "__next__ called\n",
      "25\n",
      "__next__ called\n"
     ]
    }
   ],
   "source": [
    "for item in s:\n",
    "    print(item)"
   ]
  },
  {
   "cell_type": "code",
   "execution_count": 37,
   "id": "bc455c31",
   "metadata": {},
   "outputs": [
    {
     "name": "stdout",
     "output_type": "stream",
     "text": [
      "__next__ called\n",
      "0\n",
      "__next__ called\n",
      "1\n",
      "__next__ called\n",
      "4\n",
      "__next__ called\n",
      "9\n",
      "__next__ called\n",
      "16\n",
      "__next__ called\n",
      "25\n",
      "__next__ called\n",
      "36\n",
      "__next__ called\n",
      "49\n",
      "__next__ called\n",
      "64\n",
      "__next__ called\n",
      "81\n",
      "__next__ called\n",
      "\n"
     ]
    }
   ],
   "source": [
    "s = Squares(10)\n",
    "while True:\n",
    "    try:\n",
    "        item = next(s)\n",
    "        print(item)\n",
    "    except StopIteration as e:\n",
    "        print(e)\n",
    "        break"
   ]
  },
  {
   "cell_type": "markdown",
   "id": "46509989",
   "metadata": {},
   "source": [
    "Why python did not called the `__iter__` called in the above example"
   ]
  },
  {
   "cell_type": "markdown",
   "id": "d3ee818c",
   "metadata": {},
   "source": [
    "The above `question` is for you guys "
   ]
  },
  {
   "cell_type": "markdown",
   "id": "4bfbd532",
   "metadata": {},
   "source": [
    "Lets use the `List comprehension` on our object "
   ]
  },
  {
   "cell_type": "code",
   "execution_count": 38,
   "id": "ad9e0c18",
   "metadata": {},
   "outputs": [
    {
     "name": "stdout",
     "output_type": "stream",
     "text": [
      "__iter__ called\n",
      "__next__ called\n",
      "__next__ called\n",
      "__next__ called\n",
      "__next__ called\n",
      "__next__ called\n",
      "__next__ called\n"
     ]
    },
    {
     "data": {
      "text/plain": [
       "[0, 2, 8, 18, 32]"
      ]
     },
     "execution_count": 38,
     "metadata": {},
     "output_type": "execute_result"
    }
   ],
   "source": [
    "s = Squares(5)\n",
    "[ i*2 for i in s ]"
   ]
  },
  {
   "cell_type": "markdown",
   "id": "8cf92473",
   "metadata": {},
   "source": [
    "Is it possible while using the `enumerate` or any other function that takes in an `iterable`"
   ]
  },
  {
   "cell_type": "markdown",
   "id": "d8719d2c",
   "metadata": {},
   "source": [
    "Using \n",
    "* `enumerate`\n",
    "* `sorted`\n",
    "* `filter`\n",
    "* `map`\n",
    "* `zip`"
   ]
  },
  {
   "cell_type": "markdown",
   "id": "0a903110",
   "metadata": {},
   "source": [
    "# Using enumerate"
   ]
  },
  {
   "cell_type": "code",
   "execution_count": 39,
   "id": "e5e3af23",
   "metadata": {},
   "outputs": [
    {
     "name": "stdout",
     "output_type": "stream",
     "text": [
      "__iter__ called\n",
      "__next__ called\n",
      "__next__ called\n",
      "__next__ called\n",
      "__next__ called\n",
      "__next__ called\n",
      "__next__ called\n",
      "__next__ called\n",
      "__next__ called\n",
      "__next__ called\n",
      "__next__ called\n",
      "__next__ called\n"
     ]
    },
    {
     "data": {
      "text/plain": [
       "[(0, 0),\n",
       " (1, 1),\n",
       " (2, 4),\n",
       " (3, 9),\n",
       " (4, 16),\n",
       " (5, 25),\n",
       " (6, 36),\n",
       " (7, 49),\n",
       " (8, 64),\n",
       " (9, 81)]"
      ]
     },
     "execution_count": 39,
     "metadata": {},
     "output_type": "execute_result"
    }
   ],
   "source": [
    "s = Squares(10)\n",
    "list(enumerate(s))"
   ]
  },
  {
   "cell_type": "markdown",
   "id": "00ed8871",
   "metadata": {},
   "source": [
    "# Using sorted "
   ]
  },
  {
   "cell_type": "code",
   "execution_count": 40,
   "id": "aa4ad44b",
   "metadata": {},
   "outputs": [
    {
     "name": "stdout",
     "output_type": "stream",
     "text": [
      "__iter__ called\n",
      "__next__ called\n",
      "__next__ called\n",
      "__next__ called\n",
      "__next__ called\n",
      "__next__ called\n",
      "__next__ called\n",
      "__next__ called\n",
      "__next__ called\n",
      "__next__ called\n",
      "__next__ called\n",
      "__next__ called\n",
      "__next__ called\n",
      "__next__ called\n",
      "__next__ called\n",
      "__next__ called\n",
      "__next__ called\n",
      "__next__ called\n",
      "__next__ called\n",
      "__next__ called\n",
      "__next__ called\n",
      "__next__ called\n",
      "__next__ called\n",
      "__next__ called\n",
      "__next__ called\n",
      "__next__ called\n",
      "__next__ called\n",
      "[576, 529, 484, 441, 400, 361, 324, 289, 256, 225, 196, 169, 144, 121, 100, 81, 64, 49, 36, 25, 16, 9, 4, 1, 0]\n"
     ]
    }
   ],
   "source": [
    "s = Squares(25)\n",
    "print(sorted(s,reverse=True))"
   ]
  },
  {
   "cell_type": "code",
   "execution_count": 42,
   "id": "d8268efe",
   "metadata": {},
   "outputs": [
    {
     "name": "stdout",
     "output_type": "stream",
     "text": [
      "__iter__ called\n",
      "1724753915616 1724753915616\n",
      "__next__ called\n",
      "0\n",
      "__next__ called\n",
      "1\n",
      "__next__ called\n",
      "4\n",
      "__next__ called\n",
      "9\n",
      "__next__ called\n",
      "16\n",
      "__next__ called\n",
      "25\n",
      "__next__ called\n",
      "36\n",
      "__next__ called\n",
      "49\n",
      "__next__ called\n",
      "64\n",
      "__next__ called\n",
      "81\n",
      "__next__ called\n",
      "\n"
     ]
    }
   ],
   "source": [
    "s = Squares(10)\n",
    "s_iterator = iter(s)\n",
    "print(id(s), id(s_iterator))\n",
    "while True:\n",
    "    try:\n",
    "        item = next(s_iterator)\n",
    "        print(item)\n",
    "    except StopIteration as e:\n",
    "        print(e)\n",
    "        break"
   ]
  },
  {
   "cell_type": "code",
   "execution_count": null,
   "id": "f85a0cb8",
   "metadata": {},
   "outputs": [],
   "source": []
  }
 ],
 "metadata": {
  "kernelspec": {
   "display_name": "Python 3",
   "language": "python",
   "name": "python3"
  },
  "language_info": {
   "codemirror_mode": {
    "name": "ipython",
    "version": 3
   },
   "file_extension": ".py",
   "mimetype": "text/x-python",
   "name": "python",
   "nbconvert_exporter": "python",
   "pygments_lexer": "ipython3",
   "version": "3.9.6"
  }
 },
 "nbformat": 4,
 "nbformat_minor": 5
}
