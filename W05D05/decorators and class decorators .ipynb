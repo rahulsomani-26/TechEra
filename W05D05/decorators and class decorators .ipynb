{
 "cells": [
  {
   "cell_type": "code",
   "execution_count": 9,
   "id": "13ac8393",
   "metadata": {},
   "outputs": [],
   "source": [
    "def property(fn):\n",
    "    def inner(*args):\n",
    "        print('Within innner')\n",
    "        return fn(*args)\n",
    "    return inner \n"
   ]
  },
  {
   "cell_type": "code",
   "execution_count": 10,
   "id": "8366a42f",
   "metadata": {},
   "outputs": [
    {
     "data": {
      "text/plain": [
       "<function __main__.property(fn)>"
      ]
     },
     "execution_count": 10,
     "metadata": {},
     "output_type": "execute_result"
    }
   ],
   "source": [
    "property"
   ]
  },
  {
   "cell_type": "code",
   "execution_count": 11,
   "id": "c50910f3",
   "metadata": {},
   "outputs": [],
   "source": [
    "def sum_(a,b):\n",
    "    return a+b"
   ]
  },
  {
   "cell_type": "code",
   "execution_count": 12,
   "id": "13cf5659",
   "metadata": {},
   "outputs": [],
   "source": [
    "def mul_(a,b):\n",
    "    return a*b\n",
    "    "
   ]
  },
  {
   "cell_type": "code",
   "execution_count": 14,
   "id": "ed1a4eac",
   "metadata": {},
   "outputs": [
    {
     "data": {
      "text/plain": [
       "(5, 6)"
      ]
     },
     "execution_count": 14,
     "metadata": {},
     "output_type": "execute_result"
    }
   ],
   "source": [
    "sum_(2,3), mul_(2,3)"
   ]
  },
  {
   "cell_type": "code",
   "execution_count": 16,
   "id": "6e637be1",
   "metadata": {},
   "outputs": [],
   "source": [
    "property.__closure__"
   ]
  },
  {
   "cell_type": "code",
   "execution_count": 17,
   "id": "c20c70ef",
   "metadata": {},
   "outputs": [],
   "source": [
    "add = property(sum_)"
   ]
  },
  {
   "cell_type": "code",
   "execution_count": 33,
   "id": "c1930d19",
   "metadata": {},
   "outputs": [
    {
     "data": {
      "text/plain": [
       "(<cell at 0x000001F6BFAB7550: function object at 0x000001F6BFAB81F0>,)"
      ]
     },
     "execution_count": 33,
     "metadata": {},
     "output_type": "execute_result"
    }
   ],
   "source": [
    "add.__closure__"
   ]
  },
  {
   "cell_type": "code",
   "execution_count": 18,
   "id": "f034452c",
   "metadata": {},
   "outputs": [
    {
     "data": {
      "text/plain": [
       "<function __main__.property.<locals>.inner(*args)>"
      ]
     },
     "execution_count": 18,
     "metadata": {},
     "output_type": "execute_result"
    }
   ],
   "source": [
    "add"
   ]
  },
  {
   "cell_type": "code",
   "execution_count": 19,
   "id": "6b0d53b1",
   "metadata": {},
   "outputs": [
    {
     "name": "stdout",
     "output_type": "stream",
     "text": [
      "Within innner\n"
     ]
    },
    {
     "data": {
      "text/plain": [
       "5"
      ]
     },
     "execution_count": 19,
     "metadata": {},
     "output_type": "execute_result"
    }
   ],
   "source": [
    "add(2,3)"
   ]
  },
  {
   "cell_type": "code",
   "execution_count": 20,
   "id": "8bf0dbe3",
   "metadata": {},
   "outputs": [],
   "source": [
    "def property(fn):\n",
    "    def inner(*args):\n",
    "        print('Within innner')\n",
    "        return fn(*args)\n",
    "    return inner \n"
   ]
  },
  {
   "cell_type": "code",
   "execution_count": 21,
   "id": "74aa0e95",
   "metadata": {},
   "outputs": [],
   "source": [
    "sum_ = property(sum_)"
   ]
  },
  {
   "cell_type": "code",
   "execution_count": 22,
   "id": "532af5b5",
   "metadata": {},
   "outputs": [
    {
     "name": "stdout",
     "output_type": "stream",
     "text": [
      "Within innner\n"
     ]
    },
    {
     "data": {
      "text/plain": [
       "5"
      ]
     },
     "execution_count": 22,
     "metadata": {},
     "output_type": "execute_result"
    }
   ],
   "source": [
    "sum_(2,3)"
   ]
  },
  {
   "cell_type": "markdown",
   "id": "688b8e81",
   "metadata": {},
   "source": [
    "# Decorators "
   ]
  },
  {
   "cell_type": "code",
   "execution_count": 23,
   "id": "4bb9c1a6",
   "metadata": {},
   "outputs": [],
   "source": [
    "def get_msg(msg):\n",
    "    print(f'Hey {msg}')"
   ]
  },
  {
   "cell_type": "code",
   "execution_count": 24,
   "id": "e757aa4e",
   "metadata": {},
   "outputs": [
    {
     "data": {
      "text/plain": [
       "<function __main__.get_msg(msg)>"
      ]
     },
     "execution_count": 24,
     "metadata": {},
     "output_type": "execute_result"
    }
   ],
   "source": [
    "get_msg"
   ]
  },
  {
   "cell_type": "code",
   "execution_count": 25,
   "id": "ca812bab",
   "metadata": {},
   "outputs": [],
   "source": [
    "@property\n",
    "def get_msg(msg):\n",
    "    print(f'Hey {msg}')"
   ]
  },
  {
   "cell_type": "code",
   "execution_count": 26,
   "id": "04f22aec",
   "metadata": {},
   "outputs": [
    {
     "name": "stdout",
     "output_type": "stream",
     "text": [
      "Within innner\n",
      "Hey rahul\n"
     ]
    }
   ],
   "source": [
    "get_msg('rahul')"
   ]
  },
  {
   "cell_type": "code",
   "execution_count": 27,
   "id": "8d8cf035",
   "metadata": {},
   "outputs": [],
   "source": [
    "get_msg = property(get_msg)"
   ]
  },
  {
   "cell_type": "code",
   "execution_count": 28,
   "id": "2416b012",
   "metadata": {},
   "outputs": [
    {
     "name": "stdout",
     "output_type": "stream",
     "text": [
      "Within innner\n",
      "Within innner\n",
      "Hey rahul\n"
     ]
    }
   ],
   "source": [
    "get_msg('rahul')"
   ]
  },
  {
   "cell_type": "code",
   "execution_count": 29,
   "id": "02d7fd87",
   "metadata": {},
   "outputs": [
    {
     "data": {
      "text/plain": [
       "<function __main__.property.<locals>.inner(*args)>"
      ]
     },
     "execution_count": 29,
     "metadata": {},
     "output_type": "execute_result"
    }
   ],
   "source": [
    "get_msg"
   ]
  },
  {
   "cell_type": "markdown",
   "id": "e6157364",
   "metadata": {},
   "source": [
    "`` just a discussion ``"
   ]
  },
  {
   "cell_type": "code",
   "execution_count": 31,
   "id": "3b9d5640",
   "metadata": {},
   "outputs": [],
   "source": [
    "class Example:\n",
    "    \n",
    "    def __init__(self,first,last):\n",
    "        self.first = first\n",
    "        self.last = last \n",
    "        print(' Object Initialized')\n",
    "        result = Example.calculate(self.first,self.last)\n",
    "        print(result)\n",
    "    \n",
    "    \n",
    "#     @staticmethod\n",
    "    def calculate(a,b):\n",
    "        return a+b \n",
    "        "
   ]
  },
  {
   "cell_type": "code",
   "execution_count": 32,
   "id": "f4353dde",
   "metadata": {},
   "outputs": [
    {
     "name": "stdout",
     "output_type": "stream",
     "text": [
      " Object Initialized\n",
      "30\n"
     ]
    }
   ],
   "source": [
    "e = Example(10,20)"
   ]
  },
  {
   "cell_type": "markdown",
   "id": "e81b862f",
   "metadata": {},
   "source": [
    "`` Sometimes, I wonder where to use self,cls. Where not to. It really confuses me. ``"
   ]
  },
  {
   "cell_type": "code",
   "execution_count": 37,
   "id": "0b087a2e",
   "metadata": {},
   "outputs": [],
   "source": [
    "def mystaticmethod(fn):\n",
    "    def inner(*args):\n",
    "        return fn(*args)\n",
    "    return inner\n"
   ]
  },
  {
   "cell_type": "code",
   "execution_count": 40,
   "id": "820f5c17",
   "metadata": {},
   "outputs": [],
   "source": [
    "class Example:\n",
    "    \n",
    "    def __init__(self,first,last):                              #without self\n",
    "        print(' Object Initialized')\n",
    "        add = Example.add(first,last)\n",
    "        mult= Example.mul(first,last)\n",
    "        print(add,mult)\n",
    " \n",
    "    @mystaticmethod\n",
    "    def add(a,b):\n",
    "        return a+b\n",
    "\n",
    "    @mystaticmethod\n",
    "    def mul(a,b):\n",
    "        return a*b\n"
   ]
  },
  {
   "cell_type": "code",
   "execution_count": 41,
   "id": "9a1f7c69",
   "metadata": {},
   "outputs": [
    {
     "name": "stdout",
     "output_type": "stream",
     "text": [
      " Object Initialized\n",
      "11 30\n",
      " Object Initialized\n",
      "14 48\n"
     ]
    }
   ],
   "source": [
    "e1 = Example(5,6)\n",
    "e2 = Example(8,6)"
   ]
  },
  {
   "cell_type": "markdown",
   "id": "3461f4ce",
   "metadata": {},
   "source": [
    "`` Lets see the Class attributes ``"
   ]
  },
  {
   "cell_type": "code",
   "execution_count": 44,
   "id": "92072f2e",
   "metadata": {},
   "outputs": [
    {
     "data": {
      "text/plain": [
       "mappingproxy({'__module__': '__main__',\n",
       "              '__init__': <function __main__.Example.__init__(self, first, last)>,\n",
       "              'add': <function __main__.mystaticmethod.<locals>.inner(*args)>,\n",
       "              'mul': <function __main__.mystaticmethod.<locals>.inner(*args)>,\n",
       "              '__dict__': <attribute '__dict__' of 'Example' objects>,\n",
       "              '__weakref__': <attribute '__weakref__' of 'Example' objects>,\n",
       "              '__doc__': None})"
      ]
     },
     "execution_count": 44,
     "metadata": {},
     "output_type": "execute_result"
    }
   ],
   "source": [
    "Example.__dict__"
   ]
  },
  {
   "cell_type": "markdown",
   "id": "e3f9fae9",
   "metadata": {},
   "source": [
    "`` Lets see the objects attribute ``"
   ]
  },
  {
   "cell_type": "code",
   "execution_count": 45,
   "id": "5ad0e5ed",
   "metadata": {},
   "outputs": [
    {
     "data": {
      "text/plain": [
       "{}"
      ]
     },
     "execution_count": 45,
     "metadata": {},
     "output_type": "execute_result"
    }
   ],
   "source": [
    "e1.__dict__"
   ]
  },
  {
   "cell_type": "code",
   "execution_count": 46,
   "id": "b5ed7942",
   "metadata": {},
   "outputs": [
    {
     "data": {
      "text/plain": [
       "48"
      ]
     },
     "execution_count": 46,
     "metadata": {},
     "output_type": "execute_result"
    }
   ],
   "source": [
    "import sys\n",
    "sys.getsizeof(e1)"
   ]
  },
  {
   "cell_type": "code",
   "execution_count": null,
   "id": "f7b46389",
   "metadata": {},
   "outputs": [],
   "source": []
  },
  {
   "cell_type": "code",
   "execution_count": null,
   "id": "8f8acbaa",
   "metadata": {},
   "outputs": [],
   "source": []
  },
  {
   "cell_type": "code",
   "execution_count": 51,
   "id": "4cf36e2f",
   "metadata": {},
   "outputs": [],
   "source": [
    "class Example:\n",
    "    def __init__(self,first,last):                              #without self\n",
    "        print(' Object Initialized')\n",
    "        result  =  add(first,last)\n",
    "        result1 = mul(first,last)\n",
    "        print(result,result1)\n",
    " \n",
    "    @mystaticmethod\n",
    "    def add(a,b):\n",
    "        return a+b\n",
    "\n",
    "    @mystaticmethod\n",
    "    def mul(a,b):\n",
    "        return a*b\n",
    "    \n",
    "    @mystaticmethod\n",
    "    def subs(a,b):\n",
    "        return a - b\n",
    "\n"
   ]
  },
  {
   "cell_type": "code",
   "execution_count": 52,
   "id": "9c3137ee",
   "metadata": {},
   "outputs": [
    {
     "name": "stdout",
     "output_type": "stream",
     "text": [
      " Object Initialized\n",
      "Within innner\n"
     ]
    },
    {
     "ename": "NameError",
     "evalue": "name 'mul' is not defined",
     "output_type": "error",
     "traceback": [
      "\u001b[1;31m---------------------------------------------------------------------------\u001b[0m",
      "\u001b[1;31mNameError\u001b[0m                                 Traceback (most recent call last)",
      "\u001b[1;32m<ipython-input-52-3f40d5af3082>\u001b[0m in \u001b[0;36m<module>\u001b[1;34m\u001b[0m\n\u001b[1;32m----> 1\u001b[1;33m \u001b[0me3\u001b[0m \u001b[1;33m=\u001b[0m \u001b[0mExample\u001b[0m\u001b[1;33m(\u001b[0m\u001b[1;36m100\u001b[0m\u001b[1;33m,\u001b[0m\u001b[1;36m500\u001b[0m\u001b[1;33m)\u001b[0m\u001b[1;33m\u001b[0m\u001b[1;33m\u001b[0m\u001b[0m\n\u001b[0m",
      "\u001b[1;32m<ipython-input-51-14e875743d87>\u001b[0m in \u001b[0;36m__init__\u001b[1;34m(self, first, last)\u001b[0m\n\u001b[0;32m      3\u001b[0m         \u001b[0mprint\u001b[0m\u001b[1;33m(\u001b[0m\u001b[1;34m' Object Initialized'\u001b[0m\u001b[1;33m)\u001b[0m\u001b[1;33m\u001b[0m\u001b[1;33m\u001b[0m\u001b[0m\n\u001b[0;32m      4\u001b[0m         \u001b[0mresult\u001b[0m  \u001b[1;33m=\u001b[0m  \u001b[0madd\u001b[0m\u001b[1;33m(\u001b[0m\u001b[0mfirst\u001b[0m\u001b[1;33m,\u001b[0m\u001b[0mlast\u001b[0m\u001b[1;33m)\u001b[0m\u001b[1;33m\u001b[0m\u001b[1;33m\u001b[0m\u001b[0m\n\u001b[1;32m----> 5\u001b[1;33m         \u001b[0mresult1\u001b[0m \u001b[1;33m=\u001b[0m \u001b[0mmul\u001b[0m\u001b[1;33m(\u001b[0m\u001b[0mfirst\u001b[0m\u001b[1;33m,\u001b[0m\u001b[0mlast\u001b[0m\u001b[1;33m)\u001b[0m\u001b[1;33m\u001b[0m\u001b[1;33m\u001b[0m\u001b[0m\n\u001b[0m\u001b[0;32m      6\u001b[0m         \u001b[0mprint\u001b[0m\u001b[1;33m(\u001b[0m\u001b[0mresult\u001b[0m\u001b[1;33m,\u001b[0m\u001b[0mresult1\u001b[0m\u001b[1;33m)\u001b[0m\u001b[1;33m\u001b[0m\u001b[1;33m\u001b[0m\u001b[0m\n\u001b[0;32m      7\u001b[0m \u001b[1;33m\u001b[0m\u001b[0m\n",
      "\u001b[1;31mNameError\u001b[0m: name 'mul' is not defined"
     ]
    }
   ],
   "source": [
    "e3 = Example(100,500)"
   ]
  },
  {
   "cell_type": "code",
   "execution_count": 53,
   "id": "65be4e72",
   "metadata": {},
   "outputs": [
    {
     "data": {
      "text/plain": [
       "{'__name__': '__main__',\n",
       " '__doc__': 'Automatically created module for IPython interactive environment',\n",
       " '__package__': None,\n",
       " '__loader__': None,\n",
       " '__spec__': None,\n",
       " '__builtin__': <module 'builtins' (built-in)>,\n",
       " '__builtins__': <module 'builtins' (built-in)>,\n",
       " '_ih': ['',\n",
       "  'property, type(property), id(property)',\n",
       "  'pass',\n",
       "  \"def property(fn):\\n    def inner(*args):\\n        print('Within innner')\\n        return fn(*args)\\n    return inner \\n        \\n        \",\n",
       "  'def print(*args,**kwargs):\\n    return *args,**kwargs',\n",
       "  \"def print(*args,**kwargs):\\n    return 'hello'\",\n",
       "  \"print(1,2,3,name='rahul')\",\n",
       "  'print(\"rahul somani\")',\n",
       "  'del print',\n",
       "  \"def property(fn):\\n    def inner(*args):\\n        print('Within innner')\\n        return fn(*args)\\n    return inner \",\n",
       "  'property',\n",
       "  'def sum_(a,b):\\n    return a+b',\n",
       "  'def mul_(a,b):\\n    return a*b\\n    ',\n",
       "  'sum_(2,3)',\n",
       "  'sum_(2,3), mul_(2,3)',\n",
       "  'property.__clousre__',\n",
       "  'property.__closure__',\n",
       "  'add = property(sum_)',\n",
       "  'add',\n",
       "  'add(2,3)',\n",
       "  \"def property(fn):\\n    def inner(*args):\\n        print('Within innner')\\n        return fn(*args)\\n    return inner \",\n",
       "  'sum_ = property(sum_)',\n",
       "  'sum_(2,3)',\n",
       "  \"def get_msg(msg):\\n    print(f'Hey {msg}')\",\n",
       "  'get_msg',\n",
       "  \"@property\\ndef get_msg(msg):\\n    print(f'Hey {msg}')\",\n",
       "  \"get_msg('rahul')\",\n",
       "  'get_msg = property(get_msg)',\n",
       "  \"get_msg('rahul')\",\n",
       "  'get_msg',\n",
       "  \"class Example:\\n    \\n    def __init__(self,first,last):\\n        self.first = first\\n        self.last = last \\n        print(' Object Initialized')\\n        result = Example.calculate(self.first,self.last)\\n        print(result)\\n    \\n    \\n    @staticmethod\\n    def calculate(a,b):\\n        return a+b \\n        \",\n",
       "  \"class Example:\\n    \\n    def __init__(self,first,last):\\n        self.first = first\\n        self.last = last \\n        print(' Object Initialized')\\n        result = Example.calculate(self.first,self.last)\\n        print(result)\\n    \\n    \\n    @staticmethod\\n    def calculate(a,b):\\n        return a+b \\n        \",\n",
       "  'e = Example(10,20)',\n",
       "  'add.__closure__',\n",
       "  'def mystaticmethod():\\n    def inner(*args,**kwargs):\\n        return inner(*args,**kwargs)\\n    return inner',\n",
       "  \"class Example:\\n    def __init__(self,first,last):                              #without self\\n        print(' Object Initialized')\\n        result = Example.add(first,last)\\n        result1=Example.mul(first,last)\\n        print(result,result1)\\n \\n    @mystaticmethod\\n    def add(a,b):\\n        return a+b\\n\\n    @mystaticmethod\\n    def mul(a,b):\\n        return a*b\",\n",
       "  \"class Example:\\n    \\n    def __init__(self,first,last):                              #without self\\n        print(' Object Initialized')\\n        add = Example.add(first,last)\\n        mult= Example.mul(first,last)\\n        print(add,mult)\\n \\n    @mystaticmethod\\n    def add(a,b):\\n        return a+b\\n\\n    @mystaticmethod\\n    def mul(a,b):\\n        return a*b\",\n",
       "  'def mystaticmethod(fn):\\n    def inner(*args):\\n        return fn(*args)\\n    return inner',\n",
       "  \"class Example:\\n    \\n    def __init__(self,first,last):                              #without self\\n        print(' Object Initialized')\\n        add = Example.add(first,last)\\n        mult= Example.mul(first,last)\\n        print(add,mult)\\n \\n    @mystaticmethod\\n    def add(a,b):\\n        return a+b\\n\\n    @mystaticmethod\\n    def mul(a,b):\\n        return a*b\",\n",
       "  'e1 = Example(5,6)\\ne2 = Example(8,6)',\n",
       "  \"class Example:\\n    \\n    def __init__(self,first,last):                              #without self\\n        print(' Object Initialized')\\n        add = Example.add(first,last)\\n        mult= Example.mul(first,last)\\n        print(add,mult)\\n \\n    @mystaticmethod\\n    def add(a,b):\\n        return a+b\\n\\n    @mystaticmethod\\n    def mul(a,b):\\n        return a*b\",\n",
       "  'e1 = Example(5,6)\\ne2 = Example(8,6)',\n",
       "  'Example.__dict__',\n",
       "  'Example.__dict__, dict(Example)',\n",
       "  'Example.__dict__',\n",
       "  'e1.__dict__',\n",
       "  'import sys\\nsys.getsizeof(e1)',\n",
       "  \"class Example:\\n    def __init__(self,first,last):                              #without self\\n        print(' Object Initialized')\\n        result = add(first,last)\\n        result1 = mul(first,last)\\n        print(result,result1)\\n \\n    @mystaticmethod\\n    def add(a,b):\\n        return a+b\\n\\n    @mystaticmethod\\n    def mul(a,b):\\n        return a*b\",\n",
       "  'e3 = Example()',\n",
       "  'e3 = Example(100,500)',\n",
       "  \"class Example:\\n    def __init__(self,first,last):                              #without self\\n        print(' Object Initialized')\\n        result  =  add(first,last)\\n        result1 = mul(first,last)\\n        print(result,result1)\\n \\n    @mystaticmethod\\n    def add(a,b):\\n        return a+b\\n\\n    @mystaticmethod\\n    def mul(a,b):\\n        return a*b\",\n",
       "  \"class Example:\\n    def __init__(self,first,last):                              #without self\\n        print(' Object Initialized')\\n        result  =  add(first,last)\\n        result1 = mul(first,last)\\n        print(result,result1)\\n \\n    @mystaticmethod\\n    def add(a,b):\\n        return a+b\\n\\n    @mystaticmethod\\n    def mul(a,b):\\n        return a*b\\n    \\n    @mystaticmethod\\n    def subs(a,b):\\n        return a - b\",\n",
       "  'e3 = Example(100,500)',\n",
       "  'globals()'],\n",
       " '_oh': {1: (property, type, 140704864988496),\n",
       "  6: 'hello',\n",
       "  7: 'hello',\n",
       "  10: <function __main__.property(fn)>,\n",
       "  13: 5,\n",
       "  14: (5, 6),\n",
       "  18: <function __main__.property.<locals>.inner(*args)>,\n",
       "  19: 5,\n",
       "  22: 5,\n",
       "  24: <function __main__.get_msg(msg)>,\n",
       "  29: <function __main__.property.<locals>.inner(*args)>,\n",
       "  33: (<cell at 0x000001F6BFAB7550: function object at 0x000001F6BFAB81F0>,),\n",
       "  42: mappingproxy({'__module__': '__main__',\n",
       "                '__init__': <function __main__.Example.__init__(self, first, last)>,\n",
       "                'add': <function __main__.mystaticmethod.<locals>.inner(*args)>,\n",
       "                'mul': <function __main__.mystaticmethod.<locals>.inner(*args)>,\n",
       "                '__dict__': <attribute '__dict__' of 'Example' objects>,\n",
       "                '__weakref__': <attribute '__weakref__' of 'Example' objects>,\n",
       "                '__doc__': None}),\n",
       "  44: mappingproxy({'__module__': '__main__',\n",
       "                '__init__': <function __main__.Example.__init__(self, first, last)>,\n",
       "                'add': <function __main__.mystaticmethod.<locals>.inner(*args)>,\n",
       "                'mul': <function __main__.mystaticmethod.<locals>.inner(*args)>,\n",
       "                '__dict__': <attribute '__dict__' of 'Example' objects>,\n",
       "                '__weakref__': <attribute '__weakref__' of 'Example' objects>,\n",
       "                '__doc__': None}),\n",
       "  45: {},\n",
       "  46: 48},\n",
       " '_dh': ['C:\\\\Users\\\\soman\\\\TE_BATCH2_PYTHON\\\\W05D05'],\n",
       " 'In': ['',\n",
       "  'property, type(property), id(property)',\n",
       "  'pass',\n",
       "  \"def property(fn):\\n    def inner(*args):\\n        print('Within innner')\\n        return fn(*args)\\n    return inner \\n        \\n        \",\n",
       "  'def print(*args,**kwargs):\\n    return *args,**kwargs',\n",
       "  \"def print(*args,**kwargs):\\n    return 'hello'\",\n",
       "  \"print(1,2,3,name='rahul')\",\n",
       "  'print(\"rahul somani\")',\n",
       "  'del print',\n",
       "  \"def property(fn):\\n    def inner(*args):\\n        print('Within innner')\\n        return fn(*args)\\n    return inner \",\n",
       "  'property',\n",
       "  'def sum_(a,b):\\n    return a+b',\n",
       "  'def mul_(a,b):\\n    return a*b\\n    ',\n",
       "  'sum_(2,3)',\n",
       "  'sum_(2,3), mul_(2,3)',\n",
       "  'property.__clousre__',\n",
       "  'property.__closure__',\n",
       "  'add = property(sum_)',\n",
       "  'add',\n",
       "  'add(2,3)',\n",
       "  \"def property(fn):\\n    def inner(*args):\\n        print('Within innner')\\n        return fn(*args)\\n    return inner \",\n",
       "  'sum_ = property(sum_)',\n",
       "  'sum_(2,3)',\n",
       "  \"def get_msg(msg):\\n    print(f'Hey {msg}')\",\n",
       "  'get_msg',\n",
       "  \"@property\\ndef get_msg(msg):\\n    print(f'Hey {msg}')\",\n",
       "  \"get_msg('rahul')\",\n",
       "  'get_msg = property(get_msg)',\n",
       "  \"get_msg('rahul')\",\n",
       "  'get_msg',\n",
       "  \"class Example:\\n    \\n    def __init__(self,first,last):\\n        self.first = first\\n        self.last = last \\n        print(' Object Initialized')\\n        result = Example.calculate(self.first,self.last)\\n        print(result)\\n    \\n    \\n    @staticmethod\\n    def calculate(a,b):\\n        return a+b \\n        \",\n",
       "  \"class Example:\\n    \\n    def __init__(self,first,last):\\n        self.first = first\\n        self.last = last \\n        print(' Object Initialized')\\n        result = Example.calculate(self.first,self.last)\\n        print(result)\\n    \\n    \\n    @staticmethod\\n    def calculate(a,b):\\n        return a+b \\n        \",\n",
       "  'e = Example(10,20)',\n",
       "  'add.__closure__',\n",
       "  'def mystaticmethod():\\n    def inner(*args,**kwargs):\\n        return inner(*args,**kwargs)\\n    return inner',\n",
       "  \"class Example:\\n    def __init__(self,first,last):                              #without self\\n        print(' Object Initialized')\\n        result = Example.add(first,last)\\n        result1=Example.mul(first,last)\\n        print(result,result1)\\n \\n    @mystaticmethod\\n    def add(a,b):\\n        return a+b\\n\\n    @mystaticmethod\\n    def mul(a,b):\\n        return a*b\",\n",
       "  \"class Example:\\n    \\n    def __init__(self,first,last):                              #without self\\n        print(' Object Initialized')\\n        add = Example.add(first,last)\\n        mult= Example.mul(first,last)\\n        print(add,mult)\\n \\n    @mystaticmethod\\n    def add(a,b):\\n        return a+b\\n\\n    @mystaticmethod\\n    def mul(a,b):\\n        return a*b\",\n",
       "  'def mystaticmethod(fn):\\n    def inner(*args):\\n        return fn(*args)\\n    return inner',\n",
       "  \"class Example:\\n    \\n    def __init__(self,first,last):                              #without self\\n        print(' Object Initialized')\\n        add = Example.add(first,last)\\n        mult= Example.mul(first,last)\\n        print(add,mult)\\n \\n    @mystaticmethod\\n    def add(a,b):\\n        return a+b\\n\\n    @mystaticmethod\\n    def mul(a,b):\\n        return a*b\",\n",
       "  'e1 = Example(5,6)\\ne2 = Example(8,6)',\n",
       "  \"class Example:\\n    \\n    def __init__(self,first,last):                              #without self\\n        print(' Object Initialized')\\n        add = Example.add(first,last)\\n        mult= Example.mul(first,last)\\n        print(add,mult)\\n \\n    @mystaticmethod\\n    def add(a,b):\\n        return a+b\\n\\n    @mystaticmethod\\n    def mul(a,b):\\n        return a*b\",\n",
       "  'e1 = Example(5,6)\\ne2 = Example(8,6)',\n",
       "  'Example.__dict__',\n",
       "  'Example.__dict__, dict(Example)',\n",
       "  'Example.__dict__',\n",
       "  'e1.__dict__',\n",
       "  'import sys\\nsys.getsizeof(e1)',\n",
       "  \"class Example:\\n    def __init__(self,first,last):                              #without self\\n        print(' Object Initialized')\\n        result = add(first,last)\\n        result1 = mul(first,last)\\n        print(result,result1)\\n \\n    @mystaticmethod\\n    def add(a,b):\\n        return a+b\\n\\n    @mystaticmethod\\n    def mul(a,b):\\n        return a*b\",\n",
       "  'e3 = Example()',\n",
       "  'e3 = Example(100,500)',\n",
       "  \"class Example:\\n    def __init__(self,first,last):                              #without self\\n        print(' Object Initialized')\\n        result  =  add(first,last)\\n        result1 = mul(first,last)\\n        print(result,result1)\\n \\n    @mystaticmethod\\n    def add(a,b):\\n        return a+b\\n\\n    @mystaticmethod\\n    def mul(a,b):\\n        return a*b\",\n",
       "  \"class Example:\\n    def __init__(self,first,last):                              #without self\\n        print(' Object Initialized')\\n        result  =  add(first,last)\\n        result1 = mul(first,last)\\n        print(result,result1)\\n \\n    @mystaticmethod\\n    def add(a,b):\\n        return a+b\\n\\n    @mystaticmethod\\n    def mul(a,b):\\n        return a*b\\n    \\n    @mystaticmethod\\n    def subs(a,b):\\n        return a - b\",\n",
       "  'e3 = Example(100,500)',\n",
       "  'globals()'],\n",
       " 'Out': {1: (property, type, 140704864988496),\n",
       "  6: 'hello',\n",
       "  7: 'hello',\n",
       "  10: <function __main__.property(fn)>,\n",
       "  13: 5,\n",
       "  14: (5, 6),\n",
       "  18: <function __main__.property.<locals>.inner(*args)>,\n",
       "  19: 5,\n",
       "  22: 5,\n",
       "  24: <function __main__.get_msg(msg)>,\n",
       "  29: <function __main__.property.<locals>.inner(*args)>,\n",
       "  33: (<cell at 0x000001F6BFAB7550: function object at 0x000001F6BFAB81F0>,),\n",
       "  42: mappingproxy({'__module__': '__main__',\n",
       "                '__init__': <function __main__.Example.__init__(self, first, last)>,\n",
       "                'add': <function __main__.mystaticmethod.<locals>.inner(*args)>,\n",
       "                'mul': <function __main__.mystaticmethod.<locals>.inner(*args)>,\n",
       "                '__dict__': <attribute '__dict__' of 'Example' objects>,\n",
       "                '__weakref__': <attribute '__weakref__' of 'Example' objects>,\n",
       "                '__doc__': None}),\n",
       "  44: mappingproxy({'__module__': '__main__',\n",
       "                '__init__': <function __main__.Example.__init__(self, first, last)>,\n",
       "                'add': <function __main__.mystaticmethod.<locals>.inner(*args)>,\n",
       "                'mul': <function __main__.mystaticmethod.<locals>.inner(*args)>,\n",
       "                '__dict__': <attribute '__dict__' of 'Example' objects>,\n",
       "                '__weakref__': <attribute '__weakref__' of 'Example' objects>,\n",
       "                '__doc__': None}),\n",
       "  45: {},\n",
       "  46: 48},\n",
       " 'get_ipython': <bound method InteractiveShell.get_ipython of <ipykernel.zmqshell.ZMQInteractiveShell object at 0x000001F6BFA1E670>>,\n",
       " 'exit': <IPython.core.autocall.ZMQExitAutocall at 0x1f6bfa1e8b0>,\n",
       " 'quit': <IPython.core.autocall.ZMQExitAutocall at 0x1f6bfa1e8b0>,\n",
       " '_': 48,\n",
       " '__': {},\n",
       " '___': mappingproxy({'__module__': '__main__',\n",
       "               '__init__': <function __main__.Example.__init__(self, first, last)>,\n",
       "               'add': <function __main__.mystaticmethod.<locals>.inner(*args)>,\n",
       "               'mul': <function __main__.mystaticmethod.<locals>.inner(*args)>,\n",
       "               '__dict__': <attribute '__dict__' of 'Example' objects>,\n",
       "               '__weakref__': <attribute '__weakref__' of 'Example' objects>,\n",
       "               '__doc__': None}),\n",
       " '_i': 'e3 = Example(100,500)',\n",
       " '_ii': \"class Example:\\n    def __init__(self,first,last):                              #without self\\n        print(' Object Initialized')\\n        result  =  add(first,last)\\n        result1 = mul(first,last)\\n        print(result,result1)\\n \\n    @mystaticmethod\\n    def add(a,b):\\n        return a+b\\n\\n    @mystaticmethod\\n    def mul(a,b):\\n        return a*b\\n    \\n    @mystaticmethod\\n    def subs(a,b):\\n        return a - b\",\n",
       " '_iii': \"class Example:\\n    def __init__(self,first,last):                              #without self\\n        print(' Object Initialized')\\n        result  =  add(first,last)\\n        result1 = mul(first,last)\\n        print(result,result1)\\n \\n    @mystaticmethod\\n    def add(a,b):\\n        return a+b\\n\\n    @mystaticmethod\\n    def mul(a,b):\\n        return a*b\",\n",
       " '_i1': 'property, type(property), id(property)',\n",
       " '_1': (property, type, 140704864988496),\n",
       " '_i2': 'pass',\n",
       " '_i3': \"def property(fn):\\n    def inner(*args):\\n        print('Within innner')\\n        return fn(*args)\\n    return inner \\n        \\n        \",\n",
       " 'property': <function __main__.property(fn)>,\n",
       " '_i4': 'def print(*args,**kwargs):\\n    return *args,**kwargs',\n",
       " '_i5': \"def print(*args,**kwargs):\\n    return 'hello'\",\n",
       " '_i6': \"print(1,2,3,name='rahul')\",\n",
       " '_6': 'hello',\n",
       " '_i7': 'print(\"rahul somani\")',\n",
       " '_7': 'hello',\n",
       " '_i8': 'del print',\n",
       " '_i9': \"def property(fn):\\n    def inner(*args):\\n        print('Within innner')\\n        return fn(*args)\\n    return inner \",\n",
       " '_i10': 'property',\n",
       " '_10': <function __main__.property(fn)>,\n",
       " '_i11': 'def sum_(a,b):\\n    return a+b',\n",
       " 'sum_': <function __main__.property.<locals>.inner(*args)>,\n",
       " '_i12': 'def mul_(a,b):\\n    return a*b\\n    ',\n",
       " 'mul_': <function __main__.mul_(a, b)>,\n",
       " '_i13': 'sum_(2,3)',\n",
       " '_13': 5,\n",
       " '_i14': 'sum_(2,3), mul_(2,3)',\n",
       " '_14': (5, 6),\n",
       " '_i15': 'property.__clousre__',\n",
       " '_i16': 'property.__closure__',\n",
       " '_i17': 'add = property(sum_)',\n",
       " 'add': <function __main__.property.<locals>.inner(*args)>,\n",
       " '_i18': 'add',\n",
       " '_18': <function __main__.property.<locals>.inner(*args)>,\n",
       " '_i19': 'add(2,3)',\n",
       " '_19': 5,\n",
       " '_i20': \"def property(fn):\\n    def inner(*args):\\n        print('Within innner')\\n        return fn(*args)\\n    return inner \",\n",
       " '_i21': 'sum_ = property(sum_)',\n",
       " '_i22': 'sum_(2,3)',\n",
       " '_22': 5,\n",
       " '_i23': \"def get_msg(msg):\\n    print(f'Hey {msg}')\",\n",
       " 'get_msg': <function __main__.property.<locals>.inner(*args)>,\n",
       " '_i24': 'get_msg',\n",
       " '_24': <function __main__.get_msg(msg)>,\n",
       " '_i25': \"@property\\ndef get_msg(msg):\\n    print(f'Hey {msg}')\",\n",
       " '_i26': \"get_msg('rahul')\",\n",
       " '_i27': 'get_msg = property(get_msg)',\n",
       " '_i28': \"get_msg('rahul')\",\n",
       " '_i29': 'get_msg',\n",
       " '_29': <function __main__.property.<locals>.inner(*args)>,\n",
       " '_i30': \"class Example:\\n    \\n    def __init__(self,first,last):\\n        self.first = first\\n        self.last = last \\n        print(' Object Initialized')\\n        result = Example.calculate(self.first,self.last)\\n        print(result)\\n    \\n    \\n    @staticmethod\\n    def calculate(a,b):\\n        return a+b \\n        \",\n",
       " 'Example': __main__.Example,\n",
       " '_i31': \"class Example:\\n    \\n    def __init__(self,first,last):\\n        self.first = first\\n        self.last = last \\n        print(' Object Initialized')\\n        result = Example.calculate(self.first,self.last)\\n        print(result)\\n    \\n    \\n    @staticmethod\\n    def calculate(a,b):\\n        return a+b \\n        \",\n",
       " '_i32': 'e = Example(10,20)',\n",
       " 'e': <__main__.Example at 0x1f6bfab7460>,\n",
       " '_i33': 'add.__closure__',\n",
       " '_33': (<cell at 0x000001F6BFAB7550: function object at 0x000001F6BFAB81F0>,),\n",
       " '_i34': 'def mystaticmethod():\\n    def inner(*args,**kwargs):\\n        return inner(*args,**kwargs)\\n    return inner',\n",
       " 'mystaticmethod': <function __main__.mystaticmethod(fn)>,\n",
       " '_i35': \"class Example:\\n    def __init__(self,first,last):                              #without self\\n        print(' Object Initialized')\\n        result = Example.add(first,last)\\n        result1=Example.mul(first,last)\\n        print(result,result1)\\n \\n    @mystaticmethod\\n    def add(a,b):\\n        return a+b\\n\\n    @mystaticmethod\\n    def mul(a,b):\\n        return a*b\",\n",
       " '_i36': \"class Example:\\n    \\n    def __init__(self,first,last):                              #without self\\n        print(' Object Initialized')\\n        add = Example.add(first,last)\\n        mult= Example.mul(first,last)\\n        print(add,mult)\\n \\n    @mystaticmethod\\n    def add(a,b):\\n        return a+b\\n\\n    @mystaticmethod\\n    def mul(a,b):\\n        return a*b\",\n",
       " '_i37': 'def mystaticmethod(fn):\\n    def inner(*args):\\n        return fn(*args)\\n    return inner',\n",
       " '_i38': \"class Example:\\n    \\n    def __init__(self,first,last):                              #without self\\n        print(' Object Initialized')\\n        add = Example.add(first,last)\\n        mult= Example.mul(first,last)\\n        print(add,mult)\\n \\n    @mystaticmethod\\n    def add(a,b):\\n        return a+b\\n\\n    @mystaticmethod\\n    def mul(a,b):\\n        return a*b\",\n",
       " '_i39': 'e1 = Example(5,6)\\ne2 = Example(8,6)',\n",
       " 'e1': <__main__.Example at 0x1f6bfab7b80>,\n",
       " 'e2': <__main__.Example at 0x1f6bfab7b20>,\n",
       " '_i40': \"class Example:\\n    \\n    def __init__(self,first,last):                              #without self\\n        print(' Object Initialized')\\n        add = Example.add(first,last)\\n        mult= Example.mul(first,last)\\n        print(add,mult)\\n \\n    @mystaticmethod\\n    def add(a,b):\\n        return a+b\\n\\n    @mystaticmethod\\n    def mul(a,b):\\n        return a*b\",\n",
       " '_i41': 'e1 = Example(5,6)\\ne2 = Example(8,6)',\n",
       " '_i42': 'Example.__dict__',\n",
       " '_42': mappingproxy({'__module__': '__main__',\n",
       "               '__init__': <function __main__.Example.__init__(self, first, last)>,\n",
       "               'add': <function __main__.mystaticmethod.<locals>.inner(*args)>,\n",
       "               'mul': <function __main__.mystaticmethod.<locals>.inner(*args)>,\n",
       "               '__dict__': <attribute '__dict__' of 'Example' objects>,\n",
       "               '__weakref__': <attribute '__weakref__' of 'Example' objects>,\n",
       "               '__doc__': None}),\n",
       " '_i43': 'Example.__dict__, dict(Example)',\n",
       " '_i44': 'Example.__dict__',\n",
       " '_44': mappingproxy({'__module__': '__main__',\n",
       "               '__init__': <function __main__.Example.__init__(self, first, last)>,\n",
       "               'add': <function __main__.mystaticmethod.<locals>.inner(*args)>,\n",
       "               'mul': <function __main__.mystaticmethod.<locals>.inner(*args)>,\n",
       "               '__dict__': <attribute '__dict__' of 'Example' objects>,\n",
       "               '__weakref__': <attribute '__weakref__' of 'Example' objects>,\n",
       "               '__doc__': None}),\n",
       " '_i45': 'e1.__dict__',\n",
       " '_45': {},\n",
       " '_i46': 'import sys\\nsys.getsizeof(e1)',\n",
       " 'sys': <module 'sys' (built-in)>,\n",
       " '_46': 48,\n",
       " '_i47': \"class Example:\\n    def __init__(self,first,last):                              #without self\\n        print(' Object Initialized')\\n        result = add(first,last)\\n        result1 = mul(first,last)\\n        print(result,result1)\\n \\n    @mystaticmethod\\n    def add(a,b):\\n        return a+b\\n\\n    @mystaticmethod\\n    def mul(a,b):\\n        return a*b\",\n",
       " '_i48': 'e3 = Example()',\n",
       " '_i49': 'e3 = Example(100,500)',\n",
       " '_i50': \"class Example:\\n    def __init__(self,first,last):                              #without self\\n        print(' Object Initialized')\\n        result  =  add(first,last)\\n        result1 = mul(first,last)\\n        print(result,result1)\\n \\n    @mystaticmethod\\n    def add(a,b):\\n        return a+b\\n\\n    @mystaticmethod\\n    def mul(a,b):\\n        return a*b\",\n",
       " '_i51': \"class Example:\\n    def __init__(self,first,last):                              #without self\\n        print(' Object Initialized')\\n        result  =  add(first,last)\\n        result1 = mul(first,last)\\n        print(result,result1)\\n \\n    @mystaticmethod\\n    def add(a,b):\\n        return a+b\\n\\n    @mystaticmethod\\n    def mul(a,b):\\n        return a*b\\n    \\n    @mystaticmethod\\n    def subs(a,b):\\n        return a - b\",\n",
       " '_i52': 'e3 = Example(100,500)',\n",
       " '_i53': 'globals()'}"
      ]
     },
     "execution_count": 53,
     "metadata": {},
     "output_type": "execute_result"
    }
   ],
   "source": [
    "globals()"
   ]
  },
  {
   "cell_type": "markdown",
   "id": "7e31fe1a",
   "metadata": {},
   "source": [
    "# This format"
   ]
  },
  {
   "cell_type": "markdown",
   "id": "d66a4c28",
   "metadata": {},
   "source": [
    "# This should be a headline"
   ]
  },
  {
   "cell_type": "markdown",
   "id": "2ccbe49d",
   "metadata": {},
   "source": [
    "`` I will try this instead ``"
   ]
  },
  {
   "cell_type": "code",
   "execution_count": 56,
   "id": "b3ffe255",
   "metadata": {},
   "outputs": [],
   "source": [
    "class Example:\n",
    "    def __init__(self,first,last):                            \n",
    "        print(' Object Initialized')\n",
    "        a  =  Example.add(first,last)\n",
    "        b  =  Example.mul(first,last)\n",
    "        c  =  Example.sub(first,last)\n",
    "        print(a,b,c)\n",
    " \n",
    "    @mystaticmethod\n",
    "    def add(a,b):\n",
    "        return a+b\n",
    "\n",
    "    @mystaticmethod\n",
    "    def mul(a,b):\n",
    "        return a*b\n",
    "    \n",
    "    @mystaticmethod\n",
    "    def sub(a,b):\n",
    "        return a - b\n",
    "\n"
   ]
  },
  {
   "cell_type": "code",
   "execution_count": 57,
   "id": "4a2a8b0c",
   "metadata": {},
   "outputs": [
    {
     "name": "stdout",
     "output_type": "stream",
     "text": [
      " Object Initialized\n",
      "30 200 10\n"
     ]
    }
   ],
   "source": [
    "e = Example(20,10)"
   ]
  },
  {
   "cell_type": "markdown",
   "id": "9c4e4493",
   "metadata": {},
   "source": [
    "# Now using staticmethod decorator"
   ]
  },
  {
   "cell_type": "code",
   "execution_count": 65,
   "id": "29d0c09b",
   "metadata": {},
   "outputs": [],
   "source": [
    "class Example:\n",
    "    def __init__(self,first,last):                            \n",
    "        print(' Object Initialized')\n",
    "        a  =  Example.add(first,last)\n",
    "        b  =  Example.mul(first,last)\n",
    "        c  =  Example.sub(first,last)\n",
    "        print(a,b,c)\n",
    " \n",
    "    @staticmethod\n",
    "    def add(a,b):\n",
    "        return a+b\n",
    "\n",
    "    @staticmethod\n",
    "    def mul(a,b):\n",
    "        return a*b\n",
    "    \n",
    "    @staticmethod\n",
    "    def sub(a,b):\n",
    "        return a - b\n",
    "\n"
   ]
  },
  {
   "cell_type": "code",
   "execution_count": 66,
   "id": "04e57a96",
   "metadata": {},
   "outputs": [
    {
     "name": "stdout",
     "output_type": "stream",
     "text": [
      " Object Initialized\n",
      "30 200 10\n"
     ]
    }
   ],
   "source": [
    "e = Example(20,10)"
   ]
  },
  {
   "cell_type": "code",
   "execution_count": 67,
   "id": "b9a78213",
   "metadata": {},
   "outputs": [
    {
     "data": {
      "text/plain": [
       "mappingproxy({'__module__': '__main__',\n",
       "              '__init__': <function __main__.Example.__init__(self, first, last)>,\n",
       "              'add': <staticmethod at 0x1f6bfba85b0>,\n",
       "              'mul': <staticmethod at 0x1f6bfba8dc0>,\n",
       "              'sub': <staticmethod at 0x1f6bfba8f40>,\n",
       "              '__dict__': <attribute '__dict__' of 'Example' objects>,\n",
       "              '__weakref__': <attribute '__weakref__' of 'Example' objects>,\n",
       "              '__doc__': None})"
      ]
     },
     "execution_count": 67,
     "metadata": {},
     "output_type": "execute_result"
    }
   ],
   "source": [
    "Example.__dict__"
   ]
  },
  {
   "cell_type": "code",
   "execution_count": null,
   "id": "f1882b9a",
   "metadata": {},
   "outputs": [],
   "source": []
  },
  {
   "cell_type": "markdown",
   "id": "5aef9f21",
   "metadata": {},
   "source": [
    "`` I am trying to make some changes in the code `` \n",
    "\n",
    "`` For any errors, You guys will be required to answer about the cause of the error ``"
   ]
  },
  {
   "cell_type": "code",
   "execution_count": 61,
   "id": "41a4f13d",
   "metadata": {},
   "outputs": [],
   "source": [
    "class Example:\n",
    "    \n",
    "    def __init__(self,first,last):                            \n",
    "        print(' Object Initialized')\n",
    "        a  =  Example.add(first,last)\n",
    "        b  =  Example.mul(first,last)\n",
    "        c  =  Example.sub(first,last)\n",
    "        print(a,b,c)\n",
    "    \n",
    "    def add(a,b):\n",
    "        return a+b\n",
    "\n",
    "    def mul(a,b):\n",
    "        return a*b\n",
    "    \n",
    "    def sub(a,b):\n",
    "        return a - b\n",
    "    \n",
    "    add = staticmethod(add)\n",
    "    mul = staticmethod(mul)\n",
    "    sub = staticmethod(sub)\n"
   ]
  },
  {
   "cell_type": "code",
   "execution_count": 62,
   "id": "664d329e",
   "metadata": {},
   "outputs": [
    {
     "name": "stdout",
     "output_type": "stream",
     "text": [
      " Object Initialized\n",
      "90 2000 10\n"
     ]
    }
   ],
   "source": [
    "e = Example(50,40)"
   ]
  },
  {
   "cell_type": "code",
   "execution_count": 63,
   "id": "6117bc7e",
   "metadata": {},
   "outputs": [
    {
     "data": {
      "text/plain": [
       "{}"
      ]
     },
     "execution_count": 63,
     "metadata": {},
     "output_type": "execute_result"
    }
   ],
   "source": [
    "e.__dict__"
   ]
  },
  {
   "cell_type": "code",
   "execution_count": 64,
   "id": "daf837c8",
   "metadata": {},
   "outputs": [
    {
     "data": {
      "text/plain": [
       "mappingproxy({'__module__': '__main__',\n",
       "              '__init__': <function __main__.Example.__init__(self, first, last)>,\n",
       "              'add': <staticmethod at 0x1f6bfab75e0>,\n",
       "              'mul': <staticmethod at 0x1f6bfab7370>,\n",
       "              'sub': <staticmethod at 0x1f6bfab7d30>,\n",
       "              '__dict__': <attribute '__dict__' of 'Example' objects>,\n",
       "              '__weakref__': <attribute '__weakref__' of 'Example' objects>,\n",
       "              '__doc__': None})"
      ]
     },
     "execution_count": 64,
     "metadata": {},
     "output_type": "execute_result"
    }
   ],
   "source": [
    "Example.__dict__"
   ]
  },
  {
   "cell_type": "code",
   "execution_count": 70,
   "id": "ab064ca2",
   "metadata": {},
   "outputs": [
    {
     "data": {
      "text/plain": [
       "property"
      ]
     },
     "execution_count": 70,
     "metadata": {},
     "output_type": "execute_result"
    }
   ],
   "source": [
    "property"
   ]
  },
  {
   "cell_type": "code",
   "execution_count": 69,
   "id": "8edd65a8",
   "metadata": {},
   "outputs": [],
   "source": [
    "del property"
   ]
  },
  {
   "cell_type": "code",
   "execution_count": 71,
   "id": "65224a5a",
   "metadata": {},
   "outputs": [
    {
     "data": {
      "text/plain": [
       "staticmethod"
      ]
     },
     "execution_count": 71,
     "metadata": {},
     "output_type": "execute_result"
    }
   ],
   "source": [
    "staticmethod"
   ]
  },
  {
   "cell_type": "code",
   "execution_count": 72,
   "id": "8ba00623",
   "metadata": {},
   "outputs": [
    {
     "name": "stdout",
     "output_type": "stream",
     "text": [
      "Help on class staticmethod in module builtins:\n",
      "\n",
      "class staticmethod(object)\n",
      " |  staticmethod(function) -> method\n",
      " |  \n",
      " |  Convert a function to be a static method.\n",
      " |  \n",
      " |  A static method does not receive an implicit first argument.\n",
      " |  To declare a static method, use this idiom:\n",
      " |  \n",
      " |       class C:\n",
      " |           @staticmethod\n",
      " |           def f(arg1, arg2, ...):\n",
      " |               ...\n",
      " |  \n",
      " |  It can be called either on the class (e.g. C.f()) or on an instance\n",
      " |  (e.g. C().f()). Both the class and the instance are ignored, and\n",
      " |  neither is passed implicitly as the first argument to the method.\n",
      " |  \n",
      " |  Static methods in Python are similar to those found in Java or C++.\n",
      " |  For a more advanced concept, see the classmethod builtin.\n",
      " |  \n",
      " |  Methods defined here:\n",
      " |  \n",
      " |  __get__(self, instance, owner, /)\n",
      " |      Return an attribute of instance, which is of type owner.\n",
      " |  \n",
      " |  __init__(self, /, *args, **kwargs)\n",
      " |      Initialize self.  See help(type(self)) for accurate signature.\n",
      " |  \n",
      " |  ----------------------------------------------------------------------\n",
      " |  Static methods defined here:\n",
      " |  \n",
      " |  __new__(*args, **kwargs) from builtins.type\n",
      " |      Create and return a new object.  See help(type) for accurate signature.\n",
      " |  \n",
      " |  ----------------------------------------------------------------------\n",
      " |  Data descriptors defined here:\n",
      " |  \n",
      " |  __dict__\n",
      " |  \n",
      " |  __func__\n",
      " |  \n",
      " |  __isabstractmethod__\n",
      "\n"
     ]
    }
   ],
   "source": [
    "help(staticmethod)"
   ]
  },
  {
   "cell_type": "code",
   "execution_count": 76,
   "id": "1f72ef39",
   "metadata": {},
   "outputs": [
    {
     "name": "stdout",
     "output_type": "stream",
     "text": [
      "['__class__', '__delattr__', '__dict__', '__dir__', '__doc__', '__eq__', '__format__', '__ge__', '__getattribute__', '__gt__', '__hash__', '__init__', '__init_subclass__', '__le__', '__lt__', '__module__', '__ne__', '__new__', '__reduce__', '__reduce_ex__', '__repr__', '__setattr__', '__sizeof__', '__str__', '__subclasshook__', '__weakref__', 'add', 'mul', 'sub']\n"
     ]
    }
   ],
   "source": [
    "print(dir(Example))"
   ]
  },
  {
   "cell_type": "code",
   "execution_count": 77,
   "id": "d129ca08",
   "metadata": {},
   "outputs": [
    {
     "name": "stdout",
     "output_type": "stream",
     "text": [
      "['__class__', '__delattr__', '__dict__', '__dir__', '__doc__', '__eq__', '__format__', '__ge__', '__getattribute__', '__gt__', '__hash__', '__init__', '__init_subclass__', '__le__', '__lt__', '__module__', '__ne__', '__new__', '__reduce__', '__reduce_ex__', '__repr__', '__setattr__', '__sizeof__', '__str__', '__subclasshook__', '__weakref__', 'add', 'mul', 'sub']\n"
     ]
    }
   ],
   "source": [
    "print(dir(e))"
   ]
  },
  {
   "cell_type": "code",
   "execution_count": 78,
   "id": "75f56be5",
   "metadata": {},
   "outputs": [
    {
     "data": {
      "text/plain": [
       "<attribute '__dict__' of 'Example' objects>"
      ]
     },
     "execution_count": 78,
     "metadata": {},
     "output_type": "execute_result"
    }
   ],
   "source": [
    "Example.__dict__['__dict__']"
   ]
  },
  {
   "cell_type": "markdown",
   "id": "ad21bb74",
   "metadata": {},
   "source": [
    "# Lets try "
   ]
  },
  {
   "cell_type": "code",
   "execution_count": 79,
   "id": "b7c075f1",
   "metadata": {},
   "outputs": [],
   "source": [
    "def wrapper(fn):\n",
    "    def inner(*args,**kwargs):\n",
    "        return fn(*args,**kwargs)\n",
    "    return inner "
   ]
  },
  {
   "cell_type": "markdown",
   "id": "e8fad340",
   "metadata": {},
   "source": [
    "`` Is it a closure `` "
   ]
  },
  {
   "cell_type": "code",
   "execution_count": 80,
   "id": "c2bba7aa",
   "metadata": {},
   "outputs": [],
   "source": [
    "result = wrapper(print)"
   ]
  },
  {
   "cell_type": "code",
   "execution_count": 81,
   "id": "81c5a070",
   "metadata": {},
   "outputs": [
    {
     "name": "stdout",
     "output_type": "stream",
     "text": [
      "rahul\n"
     ]
    }
   ],
   "source": [
    "result('rahul')"
   ]
  },
  {
   "cell_type": "code",
   "execution_count": 82,
   "id": "0206acc9",
   "metadata": {},
   "outputs": [
    {
     "data": {
      "text/plain": [
       "(<cell at 0x000001F6BFBA1E20: builtin_function_or_method object at 0x000001F6BB4E36D0>,)"
      ]
     },
     "execution_count": 82,
     "metadata": {},
     "output_type": "execute_result"
    }
   ],
   "source": [
    "result.__closure__"
   ]
  },
  {
   "cell_type": "code",
   "execution_count": 83,
   "id": "8448e588",
   "metadata": {},
   "outputs": [],
   "source": [
    "def wrapper(fn):\n",
    "    def inner(*args,**kwargs):\n",
    "        return fn(*args,**kwargs)\n",
    "    return inner "
   ]
  },
  {
   "cell_type": "code",
   "execution_count": 104,
   "id": "0944e08f",
   "metadata": {},
   "outputs": [],
   "source": [
    "class Calculator:\n",
    "    \n",
    "    def __init__(self,a,b):\n",
    "        addition = Calculator.add(a,b)\n",
    "        mult = Calculator.mul(a,b)\n",
    "        print(addition,mult)\n",
    "        \n",
    "    @wrapper    \n",
    "    def add(a,b):\n",
    "        return a+b\n",
    "    \n",
    "    def mul(a,b):\n",
    "        return a*b\n",
    "    mul = wrapper(mul)\n",
    "    \n",
    "    "
   ]
  },
  {
   "cell_type": "code",
   "execution_count": 105,
   "id": "6a4c96ee",
   "metadata": {},
   "outputs": [
    {
     "name": "stdout",
     "output_type": "stream",
     "text": [
      "30 200\n"
     ]
    }
   ],
   "source": [
    "c = Calculator(10,20)"
   ]
  },
  {
   "cell_type": "code",
   "execution_count": 111,
   "id": "bf92cc42",
   "metadata": {},
   "outputs": [],
   "source": [
    "\n",
    "class Calculator:\n",
    "    \n",
    "    def __init__(self,a,b):\n",
    "        addition = Calculator.add(a,b)\n",
    "        mult = Calculator.mul(a,b)\n",
    "        print(addition,mult)\n",
    "        \n",
    "    @wrapper    \n",
    "    def add(a,b):\n",
    "        return a+b\n",
    "    \n",
    "    @wrapper\n",
    "    def mul(a,b):\n",
    "        return a*b\n",
    "     \n"
   ]
  },
  {
   "cell_type": "code",
   "execution_count": 112,
   "id": "aa2f8d19",
   "metadata": {},
   "outputs": [
    {
     "name": "stdout",
     "output_type": "stream",
     "text": [
      "30 200\n"
     ]
    }
   ],
   "source": [
    "c = Calculator(10,20)"
   ]
  },
  {
   "cell_type": "markdown",
   "id": "878ba065",
   "metadata": {},
   "source": [
    "``@classmethod\n",
    "def my_func(cls):\n",
    "    pass ``"
   ]
  },
  {
   "cell_type": "code",
   "execution_count": 125,
   "id": "5217e307",
   "metadata": {},
   "outputs": [],
   "source": [
    "import time\n",
    "class Exam:\n",
    "    \n",
    "    def __init__(self,a,b):\n",
    "        self.a = a\n",
    "        self.b = b\n",
    "        result = self.a + self.b\n",
    "        print(result)\n",
    "        print('wait for 5 secs..')\n",
    "        time.sleep(5)\n",
    "        Exam.classy()\n",
    "\n",
    "    @classmethod\n",
    "    def classy(cls):\n",
    "        print(repr(cls))\n",
    "        print('Hey I am from {}'.format(__class__.__name__))\n",
    "        \n",
    "    def test(self):\n",
    "        print('hi test')\n",
    "        "
   ]
  },
  {
   "cell_type": "code",
   "execution_count": 126,
   "id": "241a4a3b",
   "metadata": {},
   "outputs": [
    {
     "name": "stdout",
     "output_type": "stream",
     "text": [
      "40\n",
      "wait for 5 secs..\n",
      "<class '__main__.Exam'>\n",
      "Hey I am from Exam\n"
     ]
    }
   ],
   "source": [
    "e = Exam(10,30)"
   ]
  },
  {
   "cell_type": "code",
   "execution_count": 130,
   "id": "4b0ef794",
   "metadata": {},
   "outputs": [
    {
     "name": "stdout",
     "output_type": "stream",
     "text": [
      "hi test\n"
     ]
    }
   ],
   "source": [
    "Exam.test(e)"
   ]
  },
  {
   "cell_type": "code",
   "execution_count": 121,
   "id": "790f94f4",
   "metadata": {},
   "outputs": [
    {
     "name": "stdout",
     "output_type": "stream",
     "text": [
      "30\n",
      "wait for 5 secs..\n",
      "<class '__main__.Exam'>\n",
      "Hey I am from Exam\n"
     ]
    }
   ],
   "source": [
    "e = Exam(10,20)"
   ]
  },
  {
   "cell_type": "code",
   "execution_count": 122,
   "id": "8a52446f",
   "metadata": {},
   "outputs": [
    {
     "name": "stdout",
     "output_type": "stream",
     "text": [
      "<class '__main__.Exam'>\n",
      "Hey I am from Exam\n"
     ]
    }
   ],
   "source": [
    "Exam.classy()"
   ]
  },
  {
   "cell_type": "code",
   "execution_count": 123,
   "id": "f9d2687a",
   "metadata": {},
   "outputs": [
    {
     "ename": "TypeError",
     "evalue": "classy() takes 1 positional argument but 2 were given",
     "output_type": "error",
     "traceback": [
      "\u001b[1;31m---------------------------------------------------------------------------\u001b[0m",
      "\u001b[1;31mTypeError\u001b[0m                                 Traceback (most recent call last)",
      "\u001b[1;32m<ipython-input-123-3cf3c5f47e46>\u001b[0m in \u001b[0;36m<module>\u001b[1;34m\u001b[0m\n\u001b[1;32m----> 1\u001b[1;33m \u001b[0me\u001b[0m\u001b[1;33m.\u001b[0m\u001b[0mclassy\u001b[0m\u001b[1;33m(\u001b[0m\u001b[0mExam\u001b[0m\u001b[1;33m)\u001b[0m\u001b[1;33m\u001b[0m\u001b[1;33m\u001b[0m\u001b[0m\n\u001b[0m",
      "\u001b[1;31mTypeError\u001b[0m: classy() takes 1 positional argument but 2 were given"
     ]
    }
   ],
   "source": [
    "e.classy(Exam)"
   ]
  },
  {
   "cell_type": "code",
   "execution_count": 124,
   "id": "3ccea018",
   "metadata": {},
   "outputs": [
    {
     "ename": "NameError",
     "evalue": "name 'classy' is not defined",
     "output_type": "error",
     "traceback": [
      "\u001b[1;31m---------------------------------------------------------------------------\u001b[0m",
      "\u001b[1;31mNameError\u001b[0m                                 Traceback (most recent call last)",
      "\u001b[1;32m<ipython-input-124-3c047806e8d1>\u001b[0m in \u001b[0;36m<module>\u001b[1;34m\u001b[0m\n\u001b[1;32m----> 1\u001b[1;33m \u001b[0mclassy\u001b[0m\u001b[1;33m(\u001b[0m\u001b[0mExam\u001b[0m\u001b[1;33m)\u001b[0m\u001b[1;33m\u001b[0m\u001b[1;33m\u001b[0m\u001b[0m\n\u001b[0m",
      "\u001b[1;31mNameError\u001b[0m: name 'classy' is not defined"
     ]
    }
   ],
   "source": [
    "classy(Exam)"
   ]
  },
  {
   "cell_type": "code",
   "execution_count": null,
   "id": "ccde359a",
   "metadata": {},
   "outputs": [],
   "source": []
  }
 ],
 "metadata": {
  "kernelspec": {
   "display_name": "Python 3",
   "language": "python",
   "name": "python3"
  },
  "language_info": {
   "codemirror_mode": {
    "name": "ipython",
    "version": 3
   },
   "file_extension": ".py",
   "mimetype": "text/x-python",
   "name": "python",
   "nbconvert_exporter": "python",
   "pygments_lexer": "ipython3",
   "version": "3.9.6"
  }
 },
 "nbformat": 4,
 "nbformat_minor": 5
}
