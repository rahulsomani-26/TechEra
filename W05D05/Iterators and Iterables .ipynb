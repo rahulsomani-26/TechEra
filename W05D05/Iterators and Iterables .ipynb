{
 "cells": [
  {
   "cell_type": "code",
   "execution_count": 1,
   "id": "bbff4db5",
   "metadata": {},
   "outputs": [],
   "source": [
    "class Friends:\n",
    "    def __init__(self):\n",
    "        self._friends = ['Anshuman','Aakash','Arya','Rao','Saida','Shabeena','Divya','kota']\n",
    "        self._index = 0\n",
    "        \n",
    "    def __iter__(self):\n",
    "        print('__iter__ called')\n",
    "        return self\n",
    "    \n",
    "    def __next__(self):\n",
    "        if self._index >= len(self._friends):\n",
    "            raise StopIteration\n",
    "        else:\n",
    "            item = self._friends[self._index]\n",
    "            self._index += 1\n",
    "            return item"
   ]
  },
  {
   "cell_type": "code",
   "execution_count": 2,
   "id": "7bda3773",
   "metadata": {},
   "outputs": [],
   "source": [
    "friends = Friends()"
   ]
  },
  {
   "cell_type": "code",
   "execution_count": 3,
   "id": "1c1c520a",
   "metadata": {},
   "outputs": [
    {
     "data": {
      "text/plain": [
       "__main__.Friends"
      ]
     },
     "execution_count": 3,
     "metadata": {},
     "output_type": "execute_result"
    }
   ],
   "source": [
    "type(friends)"
   ]
  },
  {
   "cell_type": "code",
   "execution_count": 4,
   "id": "2d0e78b0",
   "metadata": {},
   "outputs": [
    {
     "data": {
      "text/plain": [
       "'__main__'"
      ]
     },
     "execution_count": 4,
     "metadata": {},
     "output_type": "execute_result"
    }
   ],
   "source": [
    "__name__"
   ]
  },
  {
   "cell_type": "code",
   "execution_count": 5,
   "id": "e43f0c86",
   "metadata": {},
   "outputs": [
    {
     "name": "stdout",
     "output_type": "stream",
     "text": [
      "__iter__ called\n"
     ]
    },
    {
     "data": {
      "text/plain": [
       "[(0, 'Anshuman'),\n",
       " (1, 'Aakash'),\n",
       " (2, 'Arya'),\n",
       " (3, 'Rao'),\n",
       " (4, 'Saida'),\n",
       " (5, 'Shabeena'),\n",
       " (6, 'Divya'),\n",
       " (7, 'kota')]"
      ]
     },
     "execution_count": 5,
     "metadata": {},
     "output_type": "execute_result"
    }
   ],
   "source": [
    "list(enumerate(friends))"
   ]
  },
  {
   "cell_type": "code",
   "execution_count": 6,
   "id": "bd07410c",
   "metadata": {},
   "outputs": [
    {
     "name": "stdout",
     "output_type": "stream",
     "text": [
      "__iter__ called\n"
     ]
    },
    {
     "data": {
      "text/plain": [
       "[]"
      ]
     },
     "execution_count": 6,
     "metadata": {},
     "output_type": "execute_result"
    }
   ],
   "source": [
    "list(enumerate(friends))"
   ]
  },
  {
   "cell_type": "markdown",
   "id": "fb088cc6",
   "metadata": {},
   "source": [
    "* So it means that we have to restart our iterator by creating a new object every time \n",
    "* But we are also ( in this case ), re-creating the data every time \n"
   ]
  },
  {
   "cell_type": "code",
   "execution_count": 7,
   "id": "05900386",
   "metadata": {},
   "outputs": [
    {
     "data": {
      "text/plain": [
       "{'_friends': ['Anshuman',\n",
       "  'Aakash',\n",
       "  'Arya',\n",
       "  'Rao',\n",
       "  'Saida',\n",
       "  'Shabeena',\n",
       "  'Divya',\n",
       "  'kota'],\n",
       " '_index': 8}"
      ]
     },
     "execution_count": 7,
     "metadata": {},
     "output_type": "execute_result"
    }
   ],
   "source": [
    "friends.__dict__"
   ]
  },
  {
   "cell_type": "markdown",
   "id": "dab8a154",
   "metadata": {},
   "source": [
    "Lets `split up` "
   ]
  },
  {
   "cell_type": "code",
   "execution_count": 8,
   "id": "0131c903",
   "metadata": {},
   "outputs": [],
   "source": [
    "class Friends:\n",
    "    def __init__(self):\n",
    "        self._friends = ['Anshuman','Aakash','Arya','Rao','Saida','Shabeena','Divya','kota' ]\n",
    "        \n",
    "    def __len__(self):\n",
    "        return len(self._friends)\n",
    "       "
   ]
  },
  {
   "cell_type": "markdown",
   "id": "6957a9c5",
   "metadata": {},
   "source": [
    "Lets create a `Friend Iterator`"
   ]
  },
  {
   "cell_type": "code",
   "execution_count": 11,
   "id": "ee67ecca",
   "metadata": {},
   "outputs": [],
   "source": [
    "class FriendIterator:\n",
    "    \n",
    "    def __init__(self,obj):\n",
    "        self._friends = obj \n",
    "        self._index = 0 \n",
    "        \n",
    "    def __iter__(self):\n",
    "        return self\n",
    "    \n",
    "    def __next__(self):\n",
    "        if self._index >= len(self._friends):\n",
    "            raise StopIteration \n",
    "        else:\n",
    "            item = self._friends._friends[self._index]\n",
    "            self._index += 1\n",
    "            return item "
   ]
  },
  {
   "cell_type": "code",
   "execution_count": 12,
   "id": "d23da300",
   "metadata": {},
   "outputs": [],
   "source": [
    "friend = Friends()"
   ]
  },
  {
   "cell_type": "code",
   "execution_count": 13,
   "id": "267178be",
   "metadata": {},
   "outputs": [
    {
     "data": {
      "text/plain": [
       "(<__main__.Friends at 0x24b87690e80>, __main__.Friends, 2523417611904)"
      ]
     },
     "execution_count": 13,
     "metadata": {},
     "output_type": "execute_result"
    }
   ],
   "source": [
    "friend, type(friend), id(friend)"
   ]
  },
  {
   "cell_type": "code",
   "execution_count": 18,
   "id": "4a3ad921",
   "metadata": {},
   "outputs": [],
   "source": [
    "friend_iterator = FriendIterator(friend)"
   ]
  },
  {
   "cell_type": "code",
   "execution_count": 19,
   "id": "1a104525",
   "metadata": {},
   "outputs": [
    {
     "data": {
      "text/plain": [
       "<__main__.FriendIterator at 0x24b87690eb0>"
      ]
     },
     "execution_count": 19,
     "metadata": {},
     "output_type": "execute_result"
    }
   ],
   "source": [
    "friend_iterator"
   ]
  },
  {
   "cell_type": "code",
   "execution_count": 20,
   "id": "701b5905",
   "metadata": {},
   "outputs": [
    {
     "name": "stdout",
     "output_type": "stream",
     "text": [
      "Anshuman\n",
      "Aakash\n",
      "Arya\n",
      "Rao\n",
      "Saida\n",
      "Shabeena\n",
      "Divya\n",
      "kota\n"
     ]
    }
   ],
   "source": [
    "for friend in friend_iterator:\n",
    "    print(friend)"
   ]
  },
  {
   "cell_type": "code",
   "execution_count": 21,
   "id": "b20b4f0c",
   "metadata": {},
   "outputs": [],
   "source": [
    "for friend in friend_iterator:\n",
    "    print(friend)"
   ]
  },
  {
   "cell_type": "markdown",
   "id": "9a54f521",
   "metadata": {},
   "source": [
    "Lets make some **changes in our FriendIterator**"
   ]
  },
  {
   "cell_type": "code",
   "execution_count": 22,
   "id": "71f7fcae",
   "metadata": {},
   "outputs": [],
   "source": [
    "class FriendIterator:\n",
    "    \n",
    "    def __init__(self,obj):\n",
    "        print('FriendIterator called')\n",
    "        self._friends = obj \n",
    "        self._index = 0 \n",
    "        \n",
    "    def __iter__(self):\n",
    "        print('FriendItertor instance __iter__')\n",
    "        return self\n",
    "    \n",
    "    def __next__(self):\n",
    "        print('__next__ called ')\n",
    "        if self._index >= len(self._friends):\n",
    "            raise StopIteration \n",
    "        else:\n",
    "            item = self._friends._friends[self._index]\n",
    "            self._index += 1\n",
    "            return item "
   ]
  },
  {
   "cell_type": "code",
   "execution_count": 23,
   "id": "b58cae75",
   "metadata": {},
   "outputs": [
    {
     "name": "stdout",
     "output_type": "stream",
     "text": [
      "FriendIterator called\n"
     ]
    }
   ],
   "source": [
    "friend = Friends()\n",
    "friend_iterator = FriendIterator(friend)\n"
   ]
  },
  {
   "cell_type": "code",
   "execution_count": 25,
   "id": "d9252f57",
   "metadata": {},
   "outputs": [
    {
     "data": {
      "text/plain": [
       "{'_friends': <__main__.Friends at 0x24b876e5880>, '_index': 0}"
      ]
     },
     "execution_count": 25,
     "metadata": {},
     "output_type": "execute_result"
    }
   ],
   "source": [
    "friend_iterator.__dict__"
   ]
  },
  {
   "cell_type": "code",
   "execution_count": null,
   "id": "46d99aa9",
   "metadata": {},
   "outputs": [],
   "source": []
  }
 ],
 "metadata": {
  "kernelspec": {
   "display_name": "Python 3",
   "language": "python",
   "name": "python3"
  },
  "language_info": {
   "codemirror_mode": {
    "name": "ipython",
    "version": 3
   },
   "file_extension": ".py",
   "mimetype": "text/x-python",
   "name": "python",
   "nbconvert_exporter": "python",
   "pygments_lexer": "ipython3",
   "version": "3.9.6"
  }
 },
 "nbformat": 4,
 "nbformat_minor": 5
}
