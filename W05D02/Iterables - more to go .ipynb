{
 "cells": [
  {
   "cell_type": "markdown",
   "id": "6f0426ea",
   "metadata": {},
   "source": [
    "# Building our Iterables ourselves\n",
    "\n",
    "`` Note: It is not necessarily a sequence type container ``"
   ]
  },
  {
   "cell_type": "code",
   "execution_count": 1,
   "id": "9ef21234",
   "metadata": {},
   "outputs": [],
   "source": [
    "class Cube:\n",
    "    \n",
    "    def __init__(self):\n",
    "        self.i = 0 \n",
    "    \n",
    "    def getnext(self):\n",
    "        result = self.i**3\n",
    "        self.i += 1\n",
    "        return result \n",
    "        "
   ]
  },
  {
   "cell_type": "code",
   "execution_count": 4,
   "id": "032ed4b6",
   "metadata": {},
   "outputs": [],
   "source": [
    "cb = Cube()\n",
    "cb_1 = Cube()"
   ]
  },
  {
   "cell_type": "code",
   "execution_count": 5,
   "id": "b4648362",
   "metadata": {},
   "outputs": [
    {
     "data": {
      "text/plain": [
       "{'i': 0}"
      ]
     },
     "execution_count": 5,
     "metadata": {},
     "output_type": "execute_result"
    }
   ],
   "source": [
    "cb.__dict__"
   ]
  },
  {
   "cell_type": "code",
   "execution_count": 7,
   "id": "c1f70c0d",
   "metadata": {},
   "outputs": [
    {
     "data": {
      "text/plain": [
       "{'i': 0}"
      ]
     },
     "execution_count": 7,
     "metadata": {},
     "output_type": "execute_result"
    }
   ],
   "source": [
    "cb_1.__dict__"
   ]
  },
  {
   "cell_type": "code",
   "execution_count": 8,
   "id": "cc1195fd",
   "metadata": {},
   "outputs": [
    {
     "data": {
      "text/plain": [
       "0"
      ]
     },
     "execution_count": 8,
     "metadata": {},
     "output_type": "execute_result"
    }
   ],
   "source": [
    "cb.getnext()"
   ]
  },
  {
   "cell_type": "code",
   "execution_count": 9,
   "id": "c70097a7",
   "metadata": {},
   "outputs": [
    {
     "data": {
      "text/plain": [
       "{'i': 1}"
      ]
     },
     "execution_count": 9,
     "metadata": {},
     "output_type": "execute_result"
    }
   ],
   "source": [
    "cb.__dict__"
   ]
  },
  {
   "cell_type": "code",
   "execution_count": 10,
   "id": "e0217ef4",
   "metadata": {},
   "outputs": [
    {
     "data": {
      "text/plain": [
       "False"
      ]
     },
     "execution_count": 10,
     "metadata": {},
     "output_type": "execute_result"
    }
   ],
   "source": [
    "id(cb)==id(cb_1)"
   ]
  },
  {
   "cell_type": "code",
   "execution_count": 11,
   "id": "d661cf92",
   "metadata": {},
   "outputs": [
    {
     "data": {
      "text/plain": [
       "False"
      ]
     },
     "execution_count": 11,
     "metadata": {},
     "output_type": "execute_result"
    }
   ],
   "source": [
    "cb is cb_1"
   ]
  },
  {
   "cell_type": "code",
   "execution_count": 12,
   "id": "7d2a70c1",
   "metadata": {},
   "outputs": [
    {
     "data": {
      "text/plain": [
       "{'i': 0}"
      ]
     },
     "execution_count": 12,
     "metadata": {},
     "output_type": "execute_result"
    }
   ],
   "source": [
    "cb_1.__dict__"
   ]
  },
  {
   "cell_type": "code",
   "execution_count": 16,
   "id": "7a995aa4",
   "metadata": {},
   "outputs": [
    {
     "data": {
      "text/plain": [
       "(64, {'i': 5})"
      ]
     },
     "execution_count": 16,
     "metadata": {},
     "output_type": "execute_result"
    }
   ],
   "source": [
    "cb.getnext(), cb.__dict__"
   ]
  },
  {
   "cell_type": "markdown",
   "id": "ac504155",
   "metadata": {},
   "source": [
    "We are able to use for loop on our iterable (container)\n",
    "\n"
   ]
  },
  {
   "cell_type": "code",
   "execution_count": 19,
   "id": "8a0db1c9",
   "metadata": {},
   "outputs": [
    {
     "name": "stdout",
     "output_type": "stream",
     "text": [
      "0\t1\t8\t27\t64\t125\t216\t343\t512\t729\t1000\t1331\t1728\t2197\t2744\t3375\t4096\t4913\t5832\t6859\t8000\t9261\t10648\t12167\t13824\t15625\t17576\t19683\t21952\t24389\t"
     ]
    }
   ],
   "source": [
    "cb = Cube()\n",
    "for _ in range(30):\n",
    "    print(cb.getnext(),end='\\t')"
   ]
  },
  {
   "cell_type": "code",
   "execution_count": 18,
   "id": "5811a64a",
   "metadata": {},
   "outputs": [
    {
     "ename": "TypeError",
     "evalue": "'Cube' object is not subscriptable",
     "output_type": "error",
     "traceback": [
      "\u001b[1;31m---------------------------------------------------------------------------\u001b[0m",
      "\u001b[1;31mTypeError\u001b[0m                                 Traceback (most recent call last)",
      "\u001b[1;32m<ipython-input-18-ed3f09a14d82>\u001b[0m in \u001b[0;36m<module>\u001b[1;34m\u001b[0m\n\u001b[1;32m----> 1\u001b[1;33m \u001b[0mcb\u001b[0m\u001b[1;33m[\u001b[0m\u001b[1;36m0\u001b[0m\u001b[1;33m]\u001b[0m\u001b[1;33m\u001b[0m\u001b[1;33m\u001b[0m\u001b[0m\n\u001b[0m",
      "\u001b[1;31mTypeError\u001b[0m: 'Cube' object is not subscriptable"
     ]
    }
   ],
   "source": [
    "# Will not work as we have not implemented __getitem__ method \n",
    "cb[0]"
   ]
  },
  {
   "cell_type": "code",
   "execution_count": 22,
   "id": "74a5fc6c",
   "metadata": {},
   "outputs": [
    {
     "name": "stdout",
     "output_type": "stream",
     "text": [
      "0\t\t1\t\t8\t\t27\t\t64\t\t125\t\t216\t\t343\t\t512\t\t729\t\t1000\t\t1331\t\t1728\t\t2197\t\t2744\t\t3375\t\t4096\t\t4913\t\t5832\t\t6859\t\t8000\t\t9261\t\t10648\t\t12167\t\t13824\t\t15625\t\t17576\t\t19683\t\t21952\t\t24389\t\t27000\t\t29791\t\t32768\t\t35937\t\t39304\t\t42875\t\t46656\t\t50653\t\t54872\t\t59319\t\t64000\t\t68921\t\t74088\t\t79507\t\t85184\t\t91125\t\t97336\t\t103823\t\t110592\t\t117649\t\t125000\t\t132651\t\t140608\t\t148877\t\t157464\t\t166375\t\t175616\t\t185193\t\t195112\t\t205379\t\t216000\t\t226981\t\t238328\t\t250047\t\t262144\t\t274625\t\t287496\t\t300763\t\t314432\t\t328509\t\t343000\t\t357911\t\t373248\t\t389017\t\t405224\t\t421875\t\t438976\t\t456533\t\t474552\t\t493039\t\t512000\t\t531441\t\t551368\t\t571787\t\t592704\t\t614125\t\t636056\t\t658503\t\t681472\t\t704969\t\t729000\t\t753571\t\t778688\t\t804357\t\t830584\t\t857375\t\t884736\t\t912673\t\t941192\t\t970299\t\t1000000\t\t1030301\t\t1061208\t\t1092727\t\t1124864\t\t1157625\t\t1191016\t\t1225043\t\t1259712\t\t1295029\t\t1331000\t\t1367631\t\t1404928\t\t1442897\t\t1481544\t\t1520875\t\t1560896\t\t1601613\t\t1643032\t\t1685159\t\t1728000\t\t1771561\t\t1815848\t\t1860867\t\t1906624\t\t1953125\t\t2000376\t\t2048383\t\t2097152\t\t2146689\t\t2197000\t\t2248091\t\t2299968\t\t2352637\t\t2406104\t\t2460375\t\t2515456\t\t2571353\t\t2628072\t\t2685619\t\t2744000\t\t2803221\t\t2863288\t\t2924207\t\t2985984\t\t3048625\t\t3112136\t\t3176523\t\t3241792\t\t3307949\t\t3375000\t\t3442951\t\t3511808\t\t3581577\t\t3652264\t\t3723875\t\t3796416\t\t3869893\t\t3944312\t\t4019679\t\t4096000\t\t4173281\t\t4251528\t\t4330747\t\t4410944\t\t4492125\t\t4574296\t\t4657463\t\t4741632\t\t4826809\t\t4913000\t\t5000211\t\t5088448\t\t5177717\t\t5268024\t\t5359375\t\t5451776\t\t5545233\t\t5639752\t\t5735339\t\t5832000\t\t5929741\t\t6028568\t\t6128487\t\t6229504\t\t6331625\t\t6434856\t\t6539203\t\t6644672\t\t6751269\t\t6859000\t\t6967871\t\t7077888\t\t7189057\t\t7301384\t\t7414875\t\t7529536\t\t7645373\t\t7762392\t\t7880599\t\t8000000\t\t8120601\t\t8242408\t\t8365427\t\t8489664\t\t8615125\t\t8741816\t\t8869743\t\t8998912\t\t9129329\t\t9261000\t\t9393931\t\t9528128\t\t9663597\t\t9800344\t\t9938375\t\t10077696\t\t10218313\t\t10360232\t\t10503459\t\t10648000\t\t10793861\t\t10941048\t\t11089567\t\t11239424\t\t11390625\t\t11543176\t\t11697083\t\t11852352\t\t12008989\t\t12167000\t\t12326391\t\t12487168\t\t12649337\t\t12812904\t\t12977875\t\t13144256\t\t13312053\t\t13481272\t\t13651919\t\t13824000\t\t13997521\t\t14172488\t\t14348907\t\t14526784\t\t14706125\t\t14886936\t\t15069223\t\t15252992\t\t15438249\t\t15625000\t\t15813251\t\t16003008\t\t16194277\t\t16387064\t\t16581375\t\t16777216\t\t16974593\t\t17173512\t\t17373979\t\t17576000\t\t17779581\t\t17984728\t\t18191447\t\t18399744\t\t18609625\t\t18821096\t\t19034163\t\t19248832\t\t19465109\t\t19683000\t\t19902511\t\t20123648\t\t20346417\t\t20570824\t\t20796875\t\t21024576\t\t21253933\t\t21484952\t\t21717639\t\t21952000\t\t22188041\t\t22425768\t\t22665187\t\t22906304\t\t23149125\t\t23393656\t\t23639903\t\t23887872\t\t24137569\t\t24389000\t\t24642171\t\t24897088\t\t25153757\t\t25412184\t\t25672375\t\t25934336\t\t26198073\t\t26463592\t\t26730899\t\t27000000\t\t27270901\t\t27543608\t\t27818127\t\t28094464\t\t28372625\t\t28652616\t\t28934443\t\t29218112\t\t29503629\t\t29791000\t\t30080231\t\t30371328\t\t30664297\t\t30959144\t\t31255875\t\t31554496\t\t31855013\t\t32157432\t\t32461759\t\t32768000\t\t33076161\t\t33386248\t\t33698267\t\t34012224\t\t34328125\t\t34645976\t\t34965783\t\t35287552\t\t35611289\t\t35937000\t\t36264691\t\t36594368\t\t36926037\t\t37259704\t\t37595375\t\t37933056\t\t38272753\t\t38614472\t\t38958219\t\t39304000\t\t39651821\t\t40001688\t\t40353607\t\t40707584\t\t41063625\t\t41421736\t\t41781923\t\t42144192\t\t42508549\t\t42875000\t\t43243551\t\t43614208\t\t43986977\t\t44361864\t\t44738875\t\t45118016\t\t45499293\t\t45882712\t\t46268279\t\t46656000\t\t47045881\t\t47437928\t\t47832147\t\t48228544\t\t48627125\t\t49027896\t\t49430863\t\t49836032\t\t50243409\t\t50653000\t\t51064811\t\t51478848\t\t51895117\t\t52313624\t\t52734375\t\t53157376\t\t53582633\t\t54010152\t\t54439939\t\t54872000\t\t55306341\t\t55742968\t\t56181887\t\t56623104\t\t57066625\t\t57512456\t\t57960603\t\t58411072\t\t58863869\t\t59319000\t\t59776471\t\t60236288\t\t60698457\t\t61162984\t\t61629875\t\t62099136\t\t62570773\t\t63044792\t\t63521199\t\t64000000\t\t64481201\t\t64964808\t\t65450827\t\t65939264\t\t66430125\t\t66923416\t\t67419143\t\t67917312\t\t68417929\t\t68921000\t\t69426531\t\t69934528\t\t70444997\t\t70957944\t\t71473375\t\t71991296\t\t72511713\t\t73034632\t\t73560059\t\t74088000\t\t74618461\t\t75151448\t\t75686967\t\t76225024\t\t76765625\t\t77308776\t\t77854483\t\t78402752\t\t78953589\t\t79507000\t\t80062991\t\t80621568\t\t81182737\t\t81746504\t\t82312875\t\t82881856\t\t83453453\t\t84027672\t\t84604519\t\t85184000\t\t85766121\t\t86350888\t\t86938307\t\t87528384\t\t88121125\t\t88716536\t\t89314623\t\t89915392\t\t90518849\t\t91125000\t\t91733851\t\t92345408\t\t92959677\t\t93576664\t\t94196375\t\t94818816\t\t95443993\t\t96071912\t\t96702579\t\t97336000\t\t97972181\t\t98611128\t\t99252847\t\t99897344\t\t100544625\t\t101194696\t\t101847563\t\t102503232\t\t103161709\t\t103823000\t\t104487111\t\t105154048\t\t105823817\t\t106496424\t\t107171875\t\t107850176\t\t108531333\t\t109215352\t\t109902239\t\t110592000\t\t111284641\t\t111980168\t\t112678587\t\t113379904\t\t114084125\t\t114791256\t\t115501303\t\t116214272\t\t116930169\t\t117649000\t\t118370771\t\t119095488\t\t119823157\t\t120553784\t\t121287375\t\t122023936\t\t122763473\t\t123505992\t\t124251499\t\t125000000\t\t125751501\t\t126506008\t\t127263527\t\t128024064\t\t128787625\t\t129554216\t\t130323843\t\t131096512\t\t131872229\t\t132651000\t\t133432831\t\t134217728\t\t135005697\t\t135796744\t\t136590875\t\t137388096\t\t138188413\t\t138991832\t\t139798359\t\t140608000\t\t141420761\t\t142236648\t\t143055667\t\t143877824\t\t144703125\t\t145531576\t\t146363183\t\t147197952\t\t148035889\t\t148877000\t\t149721291\t\t150568768\t\t151419437\t\t152273304\t\t153130375\t\t153990656\t\t154854153\t\t155720872\t\t156590819\t\t157464000\t\t158340421\t\t159220088\t\t160103007\t\t160989184\t\t161878625\t\t162771336\t\t163667323\t\t164566592\t\t165469149\t\t166375000\t\t167284151\t\t168196608\t\t169112377\t\t170031464\t\t170953875\t\t171879616\t\t172808693\t\t173741112\t\t174676879\t\t175616000\t\t176558481\t\t177504328\t\t178453547\t\t179406144\t\t180362125\t\t181321496\t\t182284263\t\t183250432\t\t184220009\t\t185193000\t\t186169411\t\t187149248\t\t188132517\t\t189119224\t\t190109375\t\t191102976\t\t192100033\t\t193100552\t\t194104539\t\t195112000\t\t196122941\t\t197137368\t\t198155287\t\t199176704\t\t200201625\t\t201230056\t\t202262003\t\t203297472\t\t204336469\t\t205379000\t\t206425071\t\t207474688\t\t208527857\t\t209584584\t\t210644875\t\t211708736\t\t212776173\t\t213847192\t\t214921799\t\t216000000\t\t217081801\t\t218167208\t\t219256227\t\t220348864\t\t221445125\t\t222545016\t\t223648543\t\t224755712\t\t225866529\t\t226981000\t\t228099131\t\t229220928\t\t230346397\t\t231475544\t\t232608375\t\t233744896\t\t234885113\t\t236029032\t\t237176659\t\t238328000\t\t239483061\t\t240641848\t\t241804367\t\t242970624\t\t244140625\t\t245314376\t\t246491883\t\t247673152\t\t248858189\t\t250047000\t\t251239591\t\t252435968\t\t253636137\t\t254840104\t\t256047875\t\t257259456\t\t258474853\t\t259694072\t\t260917119\t\t262144000\t\t263374721\t\t264609288\t\t265847707\t\t267089984\t\t268336125\t\t269586136\t\t270840023\t\t272097792\t\t273359449\t\t274625000\t\t275894451\t\t277167808\t\t278445077\t\t279726264\t\t281011375\t\t282300416\t\t283593393\t\t284890312\t\t286191179\t\t287496000\t\t288804781\t\t290117528\t\t291434247\t\t292754944\t\t294079625\t\t295408296\t\t296740963\t\t298077632\t\t299418309\t\t300763000\t\t302111711\t\t303464448\t\t304821217\t\t306182024\t\t307546875\t\t308915776\t\t310288733\t\t311665752\t\t313046839\t\t314432000\t\t315821241\t\t317214568\t\t318611987\t\t320013504\t\t321419125\t\t322828856\t\t324242703\t\t325660672\t\t327082769\t\t328509000\t\t329939371\t\t331373888\t\t332812557\t\t334255384\t\t335702375\t\t337153536\t\t338608873\t\t340068392\t\t341532099\t\t343000000\t\t344472101\t\t345948408\t\t347428927\t\t348913664\t\t350402625\t\t351895816\t\t353393243\t\t354894912\t\t356400829\t\t357911000\t\t359425431\t\t360944128\t\t362467097\t\t363994344\t\t365525875\t\t367061696\t\t368601813\t\t370146232\t\t371694959\t\t373248000\t\t374805361\t\t376367048\t\t377933067\t\t379503424\t\t381078125\t\t382657176\t\t384240583\t\t385828352\t\t387420489\t\t389017000\t\t390617891\t\t392223168\t\t393832837\t\t395446904\t\t397065375\t\t398688256\t\t400315553\t\t401947272\t\t403583419\t\t405224000\t\t406869021\t\t408518488\t\t410172407\t\t411830784\t\t413493625\t\t415160936\t\t416832723\t\t418508992\t\t420189749\t\t421875000\t\t423564751\t\t425259008\t\t426957777\t\t428661064\t\t430368875\t\t432081216\t\t433798093\t\t435519512\t\t437245479\t\t438976000\t\t440711081\t\t442450728\t\t444194947\t\t445943744\t\t447697125\t\t449455096\t\t451217663\t\t452984832\t\t454756609\t\t456533000\t\t458314011\t\t460099648\t\t461889917\t\t463684824\t\t465484375\t\t467288576\t\t469097433\t\t470910952\t\t472729139\t\t474552000\t\t476379541\t\t478211768\t\t480048687\t\t481890304\t\t483736625\t\t485587656\t\t487443403\t\t489303872\t\t491169069\t\t493039000\t\t494913671\t\t496793088\t\t498677257\t\t500566184\t\t502459875\t\t504358336\t\t506261573\t\t508169592\t\t510082399\t\t512000000\t\t513922401\t\t515849608\t\t517781627\t\t519718464\t\t521660125\t\t523606616\t\t525557943\t\t527514112\t\t529475129\t\t531441000\t\t533411731\t\t535387328\t\t537367797\t\t539353144\t\t541343375\t\t543338496\t\t545338513\t\t547343432\t\t549353259\t\t551368000\t\t553387661\t\t555412248\t\t557441767\t\t559476224\t\t561515625\t\t563559976\t\t565609283\t\t567663552\t\t569722789\t\t571787000\t\t573856191\t\t575930368\t\t578009537\t\t580093704\t\t582182875\t\t584277056\t\t586376253\t\t588480472\t\t590589719\t\t592704000\t\t594823321\t\t596947688\t\t599077107\t\t601211584\t\t603351125\t\t605495736\t\t607645423\t\t609800192\t\t611960049\t\t614125000\t\t616295051\t\t618470208\t\t620650477\t\t622835864\t\t625026375\t\t627222016\t\t629422793\t\t631628712\t\t633839779\t\t636056000\t\t638277381\t\t640503928\t\t642735647\t\t644972544\t\t647214625\t\t649461896\t\t651714363\t\t653972032\t\t656234909\t\t658503000\t\t660776311\t\t663054848\t\t665338617\t\t667627624\t\t669921875\t\t672221376\t\t674526133\t\t676836152\t\t679151439\t\t681472000\t\t683797841\t\t686128968\t\t688465387\t\t690807104\t\t693154125\t\t695506456\t\t697864103\t\t700227072\t\t702595369\t\t704969000\t\t707347971\t\t709732288\t\t712121957\t\t714516984\t\t716917375\t\t719323136\t\t721734273\t\t724150792\t\t726572699\t\t729000000\t\t731432701\t\t733870808\t\t736314327\t\t738763264\t\t741217625\t\t743677416\t\t746142643\t\t748613312\t\t751089429\t\t753571000\t\t756058031\t\t758550528\t\t761048497\t\t763551944\t\t766060875\t\t768575296\t\t771095213\t\t773620632\t\t776151559\t\t778688000\t\t781229961\t\t783777448\t\t786330467\t\t788889024\t\t791453125\t\t794022776\t\t796597983\t\t799178752\t\t801765089\t\t804357000\t\t806954491\t\t809557568\t\t812166237\t\t814780504\t\t817400375\t\t820025856\t\t822656953\t\t825293672\t\t827936019\t\t830584000\t\t833237621\t\t835896888\t\t838561807\t\t841232384\t\t843908625\t\t846590536\t\t849278123\t\t851971392\t\t854670349\t\t857375000\t\t860085351\t\t862801408\t\t865523177\t\t868250664\t\t870983875\t\t873722816\t\t876467493\t\t879217912\t\t881974079\t\t884736000\t\t887503681\t\t890277128\t\t893056347\t\t895841344\t\t898632125\t\t901428696\t\t904231063\t\t907039232\t\t909853209\t\t912673000\t\t915498611\t\t918330048\t\t921167317\t\t924010424\t\t926859375\t\t929714176\t\t932574833\t\t935441352\t\t938313739\t\t941192000\t\t944076141\t\t946966168\t\t949862087\t\t952763904\t\t955671625\t\t958585256\t\t961504803\t\t964430272\t\t967361669\t\t970299000\t\t973242271\t\t976191488\t\t979146657\t\t982107784\t\t985074875\t\t988047936\t\t991026973\t\t994011992\t\t997002999\t\t"
     ]
    }
   ],
   "source": [
    "cb = Cube()\n",
    "for _ in range(1000):\n",
    "    print(cb.getnext(),end='\\t\\t')"
   ]
  },
  {
   "cell_type": "markdown",
   "id": "65ecd4d3",
   "metadata": {},
   "source": [
    "`` Try to see whether you are able to go back to a particular item ``"
   ]
  },
  {
   "cell_type": "code",
   "execution_count": 31,
   "id": "7b94b675",
   "metadata": {},
   "outputs": [],
   "source": [
    "cb = Cube()\n"
   ]
  },
  {
   "cell_type": "code",
   "execution_count": 37,
   "id": "0e623418",
   "metadata": {},
   "outputs": [
    {
     "name": "stdout",
     "output_type": "stream",
     "text": [
      "8000\n",
      "9261\n",
      "10648\n",
      "12167\n",
      "13824\n",
      "15625\n",
      "17576\n",
      "19683\n",
      "21952\n",
      "24389\n"
     ]
    }
   ],
   "source": [
    "\n",
    "for f in range(10):\n",
    "    print(cb.getnext())"
   ]
  },
  {
   "cell_type": "code",
   "execution_count": 38,
   "id": "eefa84cf",
   "metadata": {},
   "outputs": [
    {
     "data": {
      "text/plain": [
       "{'i': 30}"
      ]
     },
     "execution_count": 38,
     "metadata": {},
     "output_type": "execute_result"
    }
   ],
   "source": [
    "cb.__dict__"
   ]
  },
  {
   "cell_type": "code",
   "execution_count": 41,
   "id": "2bec80ef",
   "metadata": {},
   "outputs": [
    {
     "name": "stdout",
     "output_type": "stream",
     "text": [
      "0\t\t1\t\t8\t\t27\t\t64\t\t125\t\t216\t\t343\t\t512\t\t729\t\t{'i': 10}\n"
     ]
    }
   ],
   "source": [
    "cb = Cube()\n",
    "for _ in range(10):\n",
    "    print(cb.getnext(),end='\\t\\t')\n",
    "print(cb.__dict__)"
   ]
  },
  {
   "cell_type": "markdown",
   "id": "399f7395",
   "metadata": {},
   "source": [
    "`` Let's make it finite ``"
   ]
  },
  {
   "cell_type": "code",
   "execution_count": 43,
   "id": "7c9c5d43",
   "metadata": {},
   "outputs": [
    {
     "name": "stdout",
     "output_type": "stream",
     "text": [
      "0\n",
      "1\n",
      "2\n",
      "3\n",
      "4\n",
      "5\n",
      "6\n",
      "7\n",
      "8\n",
      "9\n",
      "--------------------\n",
      "9\n"
     ]
    }
   ],
   "source": [
    "for i in range(10):\n",
    "    print(i)\n",
    "print('--'*10)    \n",
    "print(i)\n"
   ]
  },
  {
   "cell_type": "markdown",
   "id": "b7960536",
   "metadata": {},
   "source": [
    "`` One Problem is that our iterable is not finite. So lets try to make it finite ``"
   ]
  },
  {
   "cell_type": "code",
   "execution_count": 44,
   "id": "27d1537d",
   "metadata": {},
   "outputs": [],
   "source": [
    "class Square:\n",
    "    \n",
    "    def __init__(self,length):\n",
    "        self.i = 0 \n",
    "        self.length = length \n",
    "    \n",
    "    def getnext(self):\n",
    "        if self.i >= self.length:\n",
    "            raise StopIteration\n",
    "        else:\n",
    "            result = self.i**2\n",
    "            self.i += 1\n",
    "            return result \n"
   ]
  },
  {
   "cell_type": "code",
   "execution_count": 48,
   "id": "835e5800",
   "metadata": {},
   "outputs": [],
   "source": [
    "s = Square(5)"
   ]
  },
  {
   "cell_type": "code",
   "execution_count": 49,
   "id": "21ea8f0b",
   "metadata": {},
   "outputs": [
    {
     "data": {
      "text/plain": [
       "{'i': 0, 'length': 5}"
      ]
     },
     "execution_count": 49,
     "metadata": {},
     "output_type": "execute_result"
    }
   ],
   "source": [
    "s.__dict__"
   ]
  },
  {
   "cell_type": "code",
   "execution_count": 50,
   "id": "62a62e03",
   "metadata": {},
   "outputs": [
    {
     "name": "stdout",
     "output_type": "stream",
     "text": [
      "0\n"
     ]
    },
    {
     "data": {
      "text/plain": [
       "{'i': 1, 'length': 5}"
      ]
     },
     "execution_count": 50,
     "metadata": {},
     "output_type": "execute_result"
    }
   ],
   "source": [
    "print(s.getnext())\n",
    "s.__dict__"
   ]
  },
  {
   "cell_type": "code",
   "execution_count": 51,
   "id": "09ca5d4c",
   "metadata": {},
   "outputs": [
    {
     "name": "stdout",
     "output_type": "stream",
     "text": [
      "1\n"
     ]
    },
    {
     "data": {
      "text/plain": [
       "{'i': 2, 'length': 5}"
      ]
     },
     "execution_count": 51,
     "metadata": {},
     "output_type": "execute_result"
    }
   ],
   "source": [
    "print(s.getnext())\n",
    "s.__dict__"
   ]
  },
  {
   "cell_type": "code",
   "execution_count": 52,
   "id": "2efea972",
   "metadata": {},
   "outputs": [
    {
     "name": "stdout",
     "output_type": "stream",
     "text": [
      "4\n"
     ]
    },
    {
     "data": {
      "text/plain": [
       "{'i': 3, 'length': 5}"
      ]
     },
     "execution_count": 52,
     "metadata": {},
     "output_type": "execute_result"
    }
   ],
   "source": [
    "print(s.getnext())\n",
    "s.__dict__"
   ]
  },
  {
   "cell_type": "code",
   "execution_count": 53,
   "id": "a7f22147",
   "metadata": {},
   "outputs": [
    {
     "name": "stdout",
     "output_type": "stream",
     "text": [
      "9\n"
     ]
    },
    {
     "data": {
      "text/plain": [
       "{'i': 4, 'length': 5}"
      ]
     },
     "execution_count": 53,
     "metadata": {},
     "output_type": "execute_result"
    }
   ],
   "source": [
    "print(s.getnext())\n",
    "s.__dict__"
   ]
  },
  {
   "cell_type": "code",
   "execution_count": 54,
   "id": "bf6c05ca",
   "metadata": {},
   "outputs": [
    {
     "name": "stdout",
     "output_type": "stream",
     "text": [
      "16\n"
     ]
    },
    {
     "data": {
      "text/plain": [
       "{'i': 5, 'length': 5}"
      ]
     },
     "execution_count": 54,
     "metadata": {},
     "output_type": "execute_result"
    }
   ],
   "source": [
    "print(s.getnext())\n",
    "s.__dict__"
   ]
  },
  {
   "cell_type": "code",
   "execution_count": 55,
   "id": "f8ec9b41",
   "metadata": {},
   "outputs": [
    {
     "ename": "StopIteration",
     "evalue": "",
     "output_type": "error",
     "traceback": [
      "\u001b[1;31m---------------------------------------------------------------------------\u001b[0m",
      "\u001b[1;31mStopIteration\u001b[0m                             Traceback (most recent call last)",
      "\u001b[1;32m<ipython-input-55-429f3add5196>\u001b[0m in \u001b[0;36m<module>\u001b[1;34m\u001b[0m\n\u001b[1;32m----> 1\u001b[1;33m \u001b[0mprint\u001b[0m\u001b[1;33m(\u001b[0m\u001b[0ms\u001b[0m\u001b[1;33m.\u001b[0m\u001b[0mgetnext\u001b[0m\u001b[1;33m(\u001b[0m\u001b[1;33m)\u001b[0m\u001b[1;33m)\u001b[0m\u001b[1;33m\u001b[0m\u001b[1;33m\u001b[0m\u001b[0m\n\u001b[0m\u001b[0;32m      2\u001b[0m \u001b[0ms\u001b[0m\u001b[1;33m.\u001b[0m\u001b[0m__dict__\u001b[0m\u001b[1;33m\u001b[0m\u001b[1;33m\u001b[0m\u001b[0m\n",
      "\u001b[1;32m<ipython-input-44-e87288a56bb6>\u001b[0m in \u001b[0;36mgetnext\u001b[1;34m(self)\u001b[0m\n\u001b[0;32m      7\u001b[0m     \u001b[1;32mdef\u001b[0m \u001b[0mgetnext\u001b[0m\u001b[1;33m(\u001b[0m\u001b[0mself\u001b[0m\u001b[1;33m)\u001b[0m\u001b[1;33m:\u001b[0m\u001b[1;33m\u001b[0m\u001b[1;33m\u001b[0m\u001b[0m\n\u001b[0;32m      8\u001b[0m         \u001b[1;32mif\u001b[0m \u001b[0mself\u001b[0m\u001b[1;33m.\u001b[0m\u001b[0mi\u001b[0m \u001b[1;33m>=\u001b[0m \u001b[0mself\u001b[0m\u001b[1;33m.\u001b[0m\u001b[0mlength\u001b[0m\u001b[1;33m:\u001b[0m\u001b[1;33m\u001b[0m\u001b[1;33m\u001b[0m\u001b[0m\n\u001b[1;32m----> 9\u001b[1;33m             \u001b[1;32mraise\u001b[0m \u001b[0mStopIteration\u001b[0m\u001b[1;33m\u001b[0m\u001b[1;33m\u001b[0m\u001b[0m\n\u001b[0m\u001b[0;32m     10\u001b[0m         \u001b[1;32melse\u001b[0m\u001b[1;33m:\u001b[0m\u001b[1;33m\u001b[0m\u001b[1;33m\u001b[0m\u001b[0m\n\u001b[0;32m     11\u001b[0m             \u001b[0mresult\u001b[0m \u001b[1;33m=\u001b[0m \u001b[0mself\u001b[0m\u001b[1;33m.\u001b[0m\u001b[0mi\u001b[0m\u001b[1;33m**\u001b[0m\u001b[1;36m2\u001b[0m\u001b[1;33m\u001b[0m\u001b[1;33m\u001b[0m\u001b[0m\n",
      "\u001b[1;31mStopIteration\u001b[0m: "
     ]
    }
   ],
   "source": [
    "print(s.getnext())\n",
    "s.__dict__"
   ]
  },
  {
   "cell_type": "code",
   "execution_count": 56,
   "id": "68fbd88f",
   "metadata": {},
   "outputs": [
    {
     "ename": "StopIteration",
     "evalue": "",
     "output_type": "error",
     "traceback": [
      "\u001b[1;31m---------------------------------------------------------------------------\u001b[0m",
      "\u001b[1;31mStopIteration\u001b[0m                             Traceback (most recent call last)",
      "\u001b[1;32m<ipython-input-56-429f3add5196>\u001b[0m in \u001b[0;36m<module>\u001b[1;34m\u001b[0m\n\u001b[1;32m----> 1\u001b[1;33m \u001b[0mprint\u001b[0m\u001b[1;33m(\u001b[0m\u001b[0ms\u001b[0m\u001b[1;33m.\u001b[0m\u001b[0mgetnext\u001b[0m\u001b[1;33m(\u001b[0m\u001b[1;33m)\u001b[0m\u001b[1;33m)\u001b[0m\u001b[1;33m\u001b[0m\u001b[1;33m\u001b[0m\u001b[0m\n\u001b[0m\u001b[0;32m      2\u001b[0m \u001b[0ms\u001b[0m\u001b[1;33m.\u001b[0m\u001b[0m__dict__\u001b[0m\u001b[1;33m\u001b[0m\u001b[1;33m\u001b[0m\u001b[0m\n",
      "\u001b[1;32m<ipython-input-44-e87288a56bb6>\u001b[0m in \u001b[0;36mgetnext\u001b[1;34m(self)\u001b[0m\n\u001b[0;32m      7\u001b[0m     \u001b[1;32mdef\u001b[0m \u001b[0mgetnext\u001b[0m\u001b[1;33m(\u001b[0m\u001b[0mself\u001b[0m\u001b[1;33m)\u001b[0m\u001b[1;33m:\u001b[0m\u001b[1;33m\u001b[0m\u001b[1;33m\u001b[0m\u001b[0m\n\u001b[0;32m      8\u001b[0m         \u001b[1;32mif\u001b[0m \u001b[0mself\u001b[0m\u001b[1;33m.\u001b[0m\u001b[0mi\u001b[0m \u001b[1;33m>=\u001b[0m \u001b[0mself\u001b[0m\u001b[1;33m.\u001b[0m\u001b[0mlength\u001b[0m\u001b[1;33m:\u001b[0m\u001b[1;33m\u001b[0m\u001b[1;33m\u001b[0m\u001b[0m\n\u001b[1;32m----> 9\u001b[1;33m             \u001b[1;32mraise\u001b[0m \u001b[0mStopIteration\u001b[0m\u001b[1;33m\u001b[0m\u001b[1;33m\u001b[0m\u001b[0m\n\u001b[0m\u001b[0;32m     10\u001b[0m         \u001b[1;32melse\u001b[0m\u001b[1;33m:\u001b[0m\u001b[1;33m\u001b[0m\u001b[1;33m\u001b[0m\u001b[0m\n\u001b[0;32m     11\u001b[0m             \u001b[0mresult\u001b[0m \u001b[1;33m=\u001b[0m \u001b[0mself\u001b[0m\u001b[1;33m.\u001b[0m\u001b[0mi\u001b[0m\u001b[1;33m**\u001b[0m\u001b[1;36m2\u001b[0m\u001b[1;33m\u001b[0m\u001b[1;33m\u001b[0m\u001b[0m\n",
      "\u001b[1;31mStopIteration\u001b[0m: "
     ]
    }
   ],
   "source": [
    "print(s.getnext())\n",
    "s.__dict__"
   ]
  },
  {
   "cell_type": "code",
   "execution_count": 57,
   "id": "bfc1cede",
   "metadata": {},
   "outputs": [
    {
     "data": {
      "text/plain": [
       "{'i': 5, 'length': 5}"
      ]
     },
     "execution_count": 57,
     "metadata": {},
     "output_type": "execute_result"
    }
   ],
   "source": [
    "s.__dict__"
   ]
  },
  {
   "cell_type": "code",
   "execution_count": 58,
   "id": "e68b5c64",
   "metadata": {},
   "outputs": [],
   "source": [
    "class Square:\n",
    "    \n",
    "    def __init__(self,length):\n",
    "        self.i = 0 \n",
    "        self.length = length \n",
    "    \n",
    "    def next_(self):\n",
    "        if self.i >= self.length:\n",
    "            raise StopIteration\n",
    "        else:\n",
    "            result = self.i**2\n",
    "            self.i += 1\n",
    "            return result \n"
   ]
  },
  {
   "cell_type": "code",
   "execution_count": 59,
   "id": "6a571153",
   "metadata": {},
   "outputs": [
    {
     "name": "stdout",
     "output_type": "stream",
     "text": [
      "0\n",
      "1\n",
      "4\n",
      "9\n",
      "16\n",
      "25\n",
      "36\n",
      "49\n",
      "64\n",
      "81\n",
      "Lets see whether it prints or not \n"
     ]
    }
   ],
   "source": [
    "s = Square(10)\n",
    "while True:\n",
    "    try:\n",
    "        item = s.next_()\n",
    "        print(item)\n",
    "    except StopIteration:\n",
    "        print('Lets see whether it prints or not ')\n",
    "        break"
   ]
  },
  {
   "cell_type": "code",
   "execution_count": 63,
   "id": "e01f5ea6",
   "metadata": {},
   "outputs": [
    {
     "name": "stdout",
     "output_type": "stream",
     "text": [
      "0\n",
      "1\n",
      "4\n",
      "9\n",
      "16\n",
      "25\n",
      "36\n",
      "49\n",
      "64\n",
      "81\n",
      "StopIteration()\n"
     ]
    }
   ],
   "source": [
    "s = Square(10)\n",
    "while True:\n",
    "    try:\n",
    "        item = s.next_()\n",
    "        print(item)\n",
    "    except StopIteration as e:\n",
    "        print(repr(e))\n",
    "        break"
   ]
  },
  {
   "cell_type": "markdown",
   "id": "192dc2bb",
   "metadata": {},
   "source": [
    "# Implementing __next__"
   ]
  },
  {
   "cell_type": "code",
   "execution_count": 64,
   "id": "088e8de9",
   "metadata": {},
   "outputs": [
    {
     "data": {
      "text/plain": [
       "<function next>"
      ]
     },
     "execution_count": 64,
     "metadata": {},
     "output_type": "execute_result"
    }
   ],
   "source": [
    "next"
   ]
  },
  {
   "cell_type": "code",
   "execution_count": 65,
   "id": "7c8bcd6d",
   "metadata": {},
   "outputs": [
    {
     "name": "stdout",
     "output_type": "stream",
     "text": [
      "Help on built-in function next in module builtins:\n",
      "\n",
      "next(...)\n",
      "    next(iterator[, default])\n",
      "    \n",
      "    Return the next item from the iterator. If default is given and the iterator\n",
      "    is exhausted, it is returned instead of raising StopIteration.\n",
      "\n"
     ]
    }
   ],
   "source": [
    "help(next)"
   ]
  },
  {
   "cell_type": "code",
   "execution_count": 66,
   "id": "c1f00b37",
   "metadata": {},
   "outputs": [],
   "source": [
    "class Square:\n",
    "    \n",
    "    def __init__(self,length):\n",
    "        self.i = 0 \n",
    "        self.length = length \n",
    "    \n",
    "    def __next__(self):\n",
    "        if self.i >= self.length:\n",
    "            raise StopIteration\n",
    "        else:\n",
    "            result = self.i**2\n",
    "            self.i += 1\n",
    "            return result "
   ]
  },
  {
   "cell_type": "code",
   "execution_count": 67,
   "id": "e54aeeb1",
   "metadata": {},
   "outputs": [],
   "source": [
    "s = Square(3)"
   ]
  },
  {
   "cell_type": "code",
   "execution_count": 68,
   "id": "988fd87e",
   "metadata": {},
   "outputs": [
    {
     "data": {
      "text/plain": [
       "0"
      ]
     },
     "execution_count": 68,
     "metadata": {},
     "output_type": "execute_result"
    }
   ],
   "source": [
    "s.__next__()"
   ]
  },
  {
   "cell_type": "code",
   "execution_count": 69,
   "id": "398a2fa2",
   "metadata": {},
   "outputs": [
    {
     "data": {
      "text/plain": [
       "1"
      ]
     },
     "execution_count": 69,
     "metadata": {},
     "output_type": "execute_result"
    }
   ],
   "source": [
    "next(s)"
   ]
  },
  {
   "cell_type": "code",
   "execution_count": 70,
   "id": "a34d77b0",
   "metadata": {},
   "outputs": [
    {
     "data": {
      "text/plain": [
       "4"
      ]
     },
     "execution_count": 70,
     "metadata": {},
     "output_type": "execute_result"
    }
   ],
   "source": [
    "next(s)"
   ]
  },
  {
   "cell_type": "code",
   "execution_count": 71,
   "id": "b0b31620",
   "metadata": {},
   "outputs": [
    {
     "ename": "StopIteration",
     "evalue": "",
     "output_type": "error",
     "traceback": [
      "\u001b[1;31m---------------------------------------------------------------------------\u001b[0m",
      "\u001b[1;31mStopIteration\u001b[0m                             Traceback (most recent call last)",
      "\u001b[1;32m<ipython-input-71-61c30b5fe1d5>\u001b[0m in \u001b[0;36m<module>\u001b[1;34m\u001b[0m\n\u001b[1;32m----> 1\u001b[1;33m \u001b[0mnext\u001b[0m\u001b[1;33m(\u001b[0m\u001b[0ms\u001b[0m\u001b[1;33m)\u001b[0m\u001b[1;33m\u001b[0m\u001b[1;33m\u001b[0m\u001b[0m\n\u001b[0m",
      "\u001b[1;32m<ipython-input-66-a7bd32675d43>\u001b[0m in \u001b[0;36m__next__\u001b[1;34m(self)\u001b[0m\n\u001b[0;32m      7\u001b[0m     \u001b[1;32mdef\u001b[0m \u001b[0m__next__\u001b[0m\u001b[1;33m(\u001b[0m\u001b[0mself\u001b[0m\u001b[1;33m)\u001b[0m\u001b[1;33m:\u001b[0m\u001b[1;33m\u001b[0m\u001b[1;33m\u001b[0m\u001b[0m\n\u001b[0;32m      8\u001b[0m         \u001b[1;32mif\u001b[0m \u001b[0mself\u001b[0m\u001b[1;33m.\u001b[0m\u001b[0mi\u001b[0m \u001b[1;33m>=\u001b[0m \u001b[0mself\u001b[0m\u001b[1;33m.\u001b[0m\u001b[0mlength\u001b[0m\u001b[1;33m:\u001b[0m\u001b[1;33m\u001b[0m\u001b[1;33m\u001b[0m\u001b[0m\n\u001b[1;32m----> 9\u001b[1;33m             \u001b[1;32mraise\u001b[0m \u001b[0mStopIteration\u001b[0m\u001b[1;33m\u001b[0m\u001b[1;33m\u001b[0m\u001b[0m\n\u001b[0m\u001b[0;32m     10\u001b[0m         \u001b[1;32melse\u001b[0m\u001b[1;33m:\u001b[0m\u001b[1;33m\u001b[0m\u001b[1;33m\u001b[0m\u001b[0m\n\u001b[0;32m     11\u001b[0m             \u001b[0mresult\u001b[0m \u001b[1;33m=\u001b[0m \u001b[0mself\u001b[0m\u001b[1;33m.\u001b[0m\u001b[0mi\u001b[0m\u001b[1;33m**\u001b[0m\u001b[1;36m2\u001b[0m\u001b[1;33m\u001b[0m\u001b[1;33m\u001b[0m\u001b[0m\n",
      "\u001b[1;31mStopIteration\u001b[0m: "
     ]
    }
   ],
   "source": [
    "next(s)"
   ]
  },
  {
   "cell_type": "code",
   "execution_count": 73,
   "id": "9697b785",
   "metadata": {},
   "outputs": [],
   "source": [
    "class MySequence:\n",
    "    \n",
    "    def __init__(self,length):\n",
    "        self.length = length \n",
    "        print('object initialzed')\n",
    "        \n",
    "    def __len__(self):\n",
    "        return self.length\n",
    "    \n",
    "    def __getitem__(self,i): # i is the index position \n",
    "        return 'hey'\n",
    "    "
   ]
  },
  {
   "cell_type": "code",
   "execution_count": 75,
   "id": "f0dd162a",
   "metadata": {},
   "outputs": [
    {
     "name": "stdout",
     "output_type": "stream",
     "text": [
      "object initialzed\n"
     ]
    }
   ],
   "source": [
    "seq = MySequence(10)"
   ]
  },
  {
   "cell_type": "code",
   "execution_count": 76,
   "id": "7b49e6ca",
   "metadata": {},
   "outputs": [
    {
     "data": {
      "text/plain": [
       "10"
      ]
     },
     "execution_count": 76,
     "metadata": {},
     "output_type": "execute_result"
    }
   ],
   "source": [
    "len(seq)"
   ]
  },
  {
   "cell_type": "code",
   "execution_count": 77,
   "id": "4f28b63b",
   "metadata": {},
   "outputs": [
    {
     "data": {
      "text/plain": [
       "10"
      ]
     },
     "execution_count": 77,
     "metadata": {},
     "output_type": "execute_result"
    }
   ],
   "source": [
    "seq.__len__()"
   ]
  },
  {
   "cell_type": "code",
   "execution_count": 80,
   "id": "d6d30d1d",
   "metadata": {},
   "outputs": [
    {
     "data": {
      "text/plain": [
       "'hey'"
      ]
     },
     "execution_count": 80,
     "metadata": {},
     "output_type": "execute_result"
    }
   ],
   "source": [
    "seq.__getitem__(-1)"
   ]
  },
  {
   "cell_type": "code",
   "execution_count": 81,
   "id": "e61989cc",
   "metadata": {},
   "outputs": [
    {
     "data": {
      "text/plain": [
       "'hey'"
      ]
     },
     "execution_count": 81,
     "metadata": {},
     "output_type": "execute_result"
    }
   ],
   "source": [
    "seq[0]"
   ]
  },
  {
   "cell_type": "markdown",
   "id": "093ec631",
   "metadata": {},
   "source": [
    "`` __repr__ and __str__ as well ``"
   ]
  },
  {
   "cell_type": "code",
   "execution_count": 85,
   "id": "8f010bbd",
   "metadata": {},
   "outputs": [
    {
     "name": "stdout",
     "output_type": "stream",
     "text": [
      "7\n"
     ]
    }
   ],
   "source": [
    "result = repr('rahul')\n",
    "print(len(result))"
   ]
  },
  {
   "cell_type": "code",
   "execution_count": 86,
   "id": "c583c162",
   "metadata": {},
   "outputs": [
    {
     "name": "stdout",
     "output_type": "stream",
     "text": [
      "5\n"
     ]
    }
   ],
   "source": [
    "result=str('rahul')\n",
    "print(len(result))"
   ]
  },
  {
   "cell_type": "code",
   "execution_count": 88,
   "id": "022cc97c",
   "metadata": {},
   "outputs": [
    {
     "data": {
      "text/plain": [
       "(\"'rahul'\", 'rahul')"
      ]
     },
     "execution_count": 88,
     "metadata": {},
     "output_type": "execute_result"
    }
   ],
   "source": [
    "repr('rahul'), str('rahul')"
   ]
  },
  {
   "cell_type": "code",
   "execution_count": 89,
   "id": "b6f94df8",
   "metadata": {},
   "outputs": [
    {
     "name": "stdout",
     "output_type": "stream",
     "text": [
      "rahul\n"
     ]
    }
   ],
   "source": [
    "print('rahul')"
   ]
  },
  {
   "cell_type": "markdown",
   "id": "b93ad1a2",
   "metadata": {},
   "source": [
    "`` Few more implementions ``"
   ]
  },
  {
   "cell_type": "code",
   "execution_count": 107,
   "id": "d2a46f23",
   "metadata": {},
   "outputs": [],
   "source": [
    "class Square:\n",
    "    \n",
    "    def __init__(self,length):\n",
    "        self.i = 0 \n",
    "        self.length = length \n",
    "    \n",
    "    def __len__(self):\n",
    "        return self.length\n",
    "    \n",
    "    def __repr__(self):\n",
    "        return 'My Square({}) '.format(self.length)\n",
    "    \n",
    "    def __str__(self):\n",
    "        return 'Square() object'\n",
    "    \n",
    "    def __getitem__(self,i):\n",
    "        if self.i >=self.length:\n",
    "            raise IndexError\n",
    "        else:\n",
    "            return 'Hello'\n",
    "    \n",
    "    def __next__(self):\n",
    "        if self.i >= self.length:\n",
    "            raise StopIteration\n",
    "        else:\n",
    "            result = self.i**2\n",
    "            self.i += 1\n",
    "            return result "
   ]
  },
  {
   "cell_type": "code",
   "execution_count": 108,
   "id": "a99d8ede",
   "metadata": {},
   "outputs": [],
   "source": [
    "s = Square(10)"
   ]
  },
  {
   "cell_type": "code",
   "execution_count": 109,
   "id": "3c68d485",
   "metadata": {},
   "outputs": [
    {
     "data": {
      "text/plain": [
       "My Square(10) "
      ]
     },
     "execution_count": 109,
     "metadata": {},
     "output_type": "execute_result"
    }
   ],
   "source": [
    "s"
   ]
  },
  {
   "cell_type": "code",
   "execution_count": 110,
   "id": "baab756d",
   "metadata": {},
   "outputs": [
    {
     "name": "stdout",
     "output_type": "stream",
     "text": [
      "Square() object\n"
     ]
    }
   ],
   "source": [
    "print(s)"
   ]
  },
  {
   "cell_type": "code",
   "execution_count": 111,
   "id": "7f9fef67",
   "metadata": {},
   "outputs": [
    {
     "data": {
      "text/plain": [
       "'My Square(10) '"
      ]
     },
     "execution_count": 111,
     "metadata": {},
     "output_type": "execute_result"
    }
   ],
   "source": [
    "repr(s)"
   ]
  },
  {
   "cell_type": "code",
   "execution_count": 112,
   "id": "9e75f87c",
   "metadata": {},
   "outputs": [
    {
     "data": {
      "text/plain": [
       "10"
      ]
     },
     "execution_count": 112,
     "metadata": {},
     "output_type": "execute_result"
    }
   ],
   "source": [
    "len(s)"
   ]
  },
  {
   "cell_type": "code",
   "execution_count": 113,
   "id": "98e4b191",
   "metadata": {},
   "outputs": [
    {
     "data": {
      "text/plain": [
       "0"
      ]
     },
     "execution_count": 113,
     "metadata": {},
     "output_type": "execute_result"
    }
   ],
   "source": [
    "next(s)"
   ]
  },
  {
   "cell_type": "code",
   "execution_count": 114,
   "id": "cd3757cf",
   "metadata": {},
   "outputs": [
    {
     "data": {
      "text/plain": [
       "{'i': 1, 'length': 10}"
      ]
     },
     "execution_count": 114,
     "metadata": {},
     "output_type": "execute_result"
    }
   ],
   "source": [
    "s.__dict__"
   ]
  },
  {
   "cell_type": "code",
   "execution_count": 115,
   "id": "70405cc3",
   "metadata": {},
   "outputs": [
    {
     "data": {
      "text/plain": [
       "'Hello'"
      ]
     },
     "execution_count": 115,
     "metadata": {},
     "output_type": "execute_result"
    }
   ],
   "source": [
    "s[0]"
   ]
  },
  {
   "cell_type": "code",
   "execution_count": 116,
   "id": "1a7c32b3",
   "metadata": {},
   "outputs": [
    {
     "data": {
      "text/plain": [
       "'Hello'"
      ]
     },
     "execution_count": 116,
     "metadata": {},
     "output_type": "execute_result"
    }
   ],
   "source": [
    "s[2]"
   ]
  },
  {
   "cell_type": "code",
   "execution_count": 117,
   "id": "a7d2f32c",
   "metadata": {},
   "outputs": [
    {
     "data": {
      "text/plain": [
       "'Hello'"
      ]
     },
     "execution_count": 117,
     "metadata": {},
     "output_type": "execute_result"
    }
   ],
   "source": [
    "s[9]"
   ]
  },
  {
   "cell_type": "code",
   "execution_count": 118,
   "id": "1304fc78",
   "metadata": {},
   "outputs": [
    {
     "data": {
      "text/plain": [
       "'Hello'"
      ]
     },
     "execution_count": 118,
     "metadata": {},
     "output_type": "execute_result"
    }
   ],
   "source": [
    "s[10]"
   ]
  },
  {
   "cell_type": "code",
   "execution_count": 119,
   "id": "86b7c47c",
   "metadata": {},
   "outputs": [
    {
     "data": {
      "text/plain": [
       "'Hello'"
      ]
     },
     "execution_count": 119,
     "metadata": {},
     "output_type": "execute_result"
    }
   ],
   "source": [
    "s[11]"
   ]
  },
  {
   "cell_type": "code",
   "execution_count": 120,
   "id": "3315136f",
   "metadata": {},
   "outputs": [],
   "source": [
    "class Square:\n",
    "    \n",
    "    def __init__(self,length):\n",
    "        self.i = 0 \n",
    "        self.length = length \n",
    "    \n",
    "    def __len__(self):\n",
    "        return self.length\n",
    "    \n",
    "    def __repr__(self):\n",
    "        return 'My Square({}) '.format(self.length)\n",
    "    \n",
    "    def __str__(self):\n",
    "        return 'Square() object'\n",
    "    \n",
    "    def __getitem__(self,i):\n",
    "        if self.i >=self.length:\n",
    "            raise IndexError\n",
    "        else:\n",
    "            result = self.i**2\n",
    "            self.i += 1\n",
    "            return result \n",
    "    \n",
    "    def __next__(self):\n",
    "        if self.i >= self.length:\n",
    "            raise StopIteration\n",
    "        else:\n",
    "            result = self.i**2\n",
    "            self.i += 1\n",
    "            return result "
   ]
  },
  {
   "cell_type": "code",
   "execution_count": 135,
   "id": "a629aac9",
   "metadata": {},
   "outputs": [
    {
     "name": "stdout",
     "output_type": "stream",
     "text": [
      "{'i': 0, 'length': 10}\n"
     ]
    }
   ],
   "source": [
    "s=Square(10)\n",
    "print(s.__dict__)"
   ]
  },
  {
   "cell_type": "code",
   "execution_count": 137,
   "id": "bdd00190",
   "metadata": {},
   "outputs": [
    {
     "name": "stdout",
     "output_type": "stream",
     "text": [
      "{'i': 2, 'length': 10}\n"
     ]
    }
   ],
   "source": [
    "next(s)\n",
    "print(s.__dict__)\n"
   ]
  },
  {
   "cell_type": "code",
   "execution_count": 138,
   "id": "86eb0462",
   "metadata": {},
   "outputs": [
    {
     "data": {
      "text/plain": [
       "4"
      ]
     },
     "execution_count": 138,
     "metadata": {},
     "output_type": "execute_result"
    }
   ],
   "source": [
    "s.__getitem__(0)"
   ]
  },
  {
   "cell_type": "code",
   "execution_count": 130,
   "id": "f38843fd",
   "metadata": {},
   "outputs": [
    {
     "data": {
      "text/plain": [
       "0"
      ]
     },
     "execution_count": 130,
     "metadata": {},
     "output_type": "execute_result"
    }
   ],
   "source": [
    "s[0]"
   ]
  },
  {
   "cell_type": "code",
   "execution_count": 131,
   "id": "652b4407",
   "metadata": {},
   "outputs": [
    {
     "data": {
      "text/plain": [
       "1"
      ]
     },
     "execution_count": 131,
     "metadata": {},
     "output_type": "execute_result"
    }
   ],
   "source": [
    "s[1]"
   ]
  },
  {
   "cell_type": "code",
   "execution_count": 132,
   "id": "7696fdc7",
   "metadata": {},
   "outputs": [
    {
     "data": {
      "text/plain": [
       "4"
      ]
     },
     "execution_count": 132,
     "metadata": {},
     "output_type": "execute_result"
    }
   ],
   "source": [
    "s[3]"
   ]
  },
  {
   "cell_type": "code",
   "execution_count": 133,
   "id": "feb92c77",
   "metadata": {},
   "outputs": [
    {
     "data": {
      "text/plain": [
       "9"
      ]
     },
     "execution_count": 133,
     "metadata": {},
     "output_type": "execute_result"
    }
   ],
   "source": [
    "s[4]"
   ]
  },
  {
   "cell_type": "code",
   "execution_count": 134,
   "id": "d35dcebb",
   "metadata": {},
   "outputs": [
    {
     "data": {
      "text/plain": [
       "16"
      ]
     },
     "execution_count": 134,
     "metadata": {},
     "output_type": "execute_result"
    }
   ],
   "source": [
    "s[5]"
   ]
  },
  {
   "cell_type": "code",
   "execution_count": 139,
   "id": "6db250ab",
   "metadata": {},
   "outputs": [],
   "source": [
    "class Square:\n",
    "    \n",
    "    def __init__(self,length):\n",
    "        self.i = 0 \n",
    "        self.length = length \n",
    "    \n",
    "    def __len__(self):\n",
    "        return self.length\n",
    "    \n",
    "    def __repr__(self):\n",
    "        return 'My Square({}) '.format(self.length)\n",
    "    \n",
    "    def __str__(self):\n",
    "        return 'Square() object'\n",
    "    \n",
    "    def __getitem__(self,i):\n",
    "        if self.i >=self.length:\n",
    "            raise IndexError\n",
    "        else:\n",
    "            result = self.i**2\n",
    "            self.i += 1\n",
    "            return result \n",
    "    \n",
    "    def __next__(self):\n",
    "        if self.i >= self.length:\n",
    "            raise StopIteration\n",
    "        else:\n",
    "            result = self.i**2\n",
    "            self.i += 1\n",
    "            return result "
   ]
  },
  {
   "cell_type": "code",
   "execution_count": 142,
   "id": "ba9099dd",
   "metadata": {},
   "outputs": [
    {
     "name": "stdout",
     "output_type": "stream",
     "text": [
      "Square() object 5 {'i': 0, 'length': 5}\n",
      "0 {'i': 1, 'length': 5}\n",
      "1 {'i': 2, 'length': 5}\n",
      "4\n"
     ]
    }
   ],
   "source": [
    "s = Square(5)\n",
    "print(s,len(s),s.__dict__)\n",
    "item_one = next(s)\n",
    "print(item_one,s.__dict__)\n",
    "\n",
    "item_two = next(s)\n",
    "print(item_two,s.__dict__)\n",
    "print(s[s.__dict__['i']])\n"
   ]
  },
  {
   "cell_type": "code",
   "execution_count": 143,
   "id": "876e3fc3",
   "metadata": {},
   "outputs": [
    {
     "data": {
      "text/plain": [
       "{'i': 3, 'length': 5}"
      ]
     },
     "execution_count": 143,
     "metadata": {},
     "output_type": "execute_result"
    }
   ],
   "source": [
    "s.__dict__"
   ]
  },
  {
   "cell_type": "code",
   "execution_count": 144,
   "id": "2a1e8085",
   "metadata": {},
   "outputs": [
    {
     "data": {
      "text/plain": [
       "3"
      ]
     },
     "execution_count": 144,
     "metadata": {},
     "output_type": "execute_result"
    }
   ],
   "source": [
    "s.__dict__['i']"
   ]
  },
  {
   "cell_type": "code",
   "execution_count": 146,
   "id": "4b1a6cce",
   "metadata": {},
   "outputs": [],
   "source": [
    " pass"
   ]
  },
  {
   "cell_type": "markdown",
   "id": "6bd9cbf5",
   "metadata": {},
   "source": [
    "`` class Factorial `` "
   ]
  },
  {
   "cell_type": "markdown",
   "id": "db9fddb7",
   "metadata": {},
   "source": [
    "`` Give clear examples of the use of classmethod and staticmethod ``"
   ]
  },
  {
   "cell_type": "code",
   "execution_count": null,
   "id": "51af109f",
   "metadata": {},
   "outputs": [],
   "source": []
  }
 ],
 "metadata": {
  "kernelspec": {
   "display_name": "Python 3",
   "language": "python",
   "name": "python3"
  },
  "language_info": {
   "codemirror_mode": {
    "name": "ipython",
    "version": 3
   },
   "file_extension": ".py",
   "mimetype": "text/x-python",
   "name": "python",
   "nbconvert_exporter": "python",
   "pygments_lexer": "ipython3",
   "version": "3.9.6"
  }
 },
 "nbformat": 4,
 "nbformat_minor": 5
}
