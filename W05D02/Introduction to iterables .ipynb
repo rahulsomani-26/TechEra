{
 "cells": [
  {
   "cell_type": "markdown",
   "id": "421de438",
   "metadata": {},
   "source": [
    "# What is a container ( sequence / non - sequence )\n",
    "\n",
    "``[ btw container is just a word i chose to refer to DS]``"
   ]
  },
  {
   "cell_type": "code",
   "execution_count": 1,
   "id": "d7bea1de",
   "metadata": {},
   "outputs": [],
   "source": [
    "l = [1,2,3]\n",
    "t = 1,2,3\n",
    "s = 'container'\n",
    "d = {'first':'Rahul','last':'Somani'}\n",
    "u = {1,2,3,4,5,6}"
   ]
  },
  {
   "cell_type": "markdown",
   "id": "ce105602",
   "metadata": {},
   "source": [
    "`` Properties ``"
   ]
  },
  {
   "cell_type": "code",
   "execution_count": 2,
   "id": "5fca8bcd",
   "metadata": {},
   "outputs": [
    {
     "data": {
      "text/plain": [
       "(1, 2, 'r')"
      ]
     },
     "execution_count": 2,
     "metadata": {},
     "output_type": "execute_result"
    }
   ],
   "source": [
    "l[0],t[1],s[-1]"
   ]
  },
  {
   "cell_type": "code",
   "execution_count": 3,
   "id": "194f8829",
   "metadata": {},
   "outputs": [
    {
     "ename": "KeyError",
     "evalue": "0",
     "output_type": "error",
     "traceback": [
      "\u001b[1;31m---------------------------------------------------------------------------\u001b[0m",
      "\u001b[1;31mKeyError\u001b[0m                                  Traceback (most recent call last)",
      "\u001b[1;32m<ipython-input-3-123a9cc6df61>\u001b[0m in \u001b[0;36m<module>\u001b[1;34m\u001b[0m\n\u001b[1;32m----> 1\u001b[1;33m \u001b[0md\u001b[0m\u001b[1;33m[\u001b[0m\u001b[1;36m0\u001b[0m\u001b[1;33m]\u001b[0m\u001b[1;33m\u001b[0m\u001b[1;33m\u001b[0m\u001b[0m\n\u001b[0m",
      "\u001b[1;31mKeyError\u001b[0m: 0"
     ]
    }
   ],
   "source": [
    "d[0]"
   ]
  },
  {
   "cell_type": "markdown",
   "id": "50a67983",
   "metadata": {},
   "source": [
    "`` Can iterate ``"
   ]
  },
  {
   "cell_type": "markdown",
   "id": "227c2cbd",
   "metadata": {},
   "source": [
    "`` Sequence types ``"
   ]
  },
  {
   "cell_type": "code",
   "execution_count": 4,
   "id": "d61b54c1",
   "metadata": {},
   "outputs": [
    {
     "name": "stdout",
     "output_type": "stream",
     "text": [
      "1\n",
      "2\n",
      "3\n"
     ]
    }
   ],
   "source": [
    "for item in l:\n",
    "    print(item)"
   ]
  },
  {
   "cell_type": "code",
   "execution_count": 5,
   "id": "1d1222e3",
   "metadata": {},
   "outputs": [
    {
     "name": "stdout",
     "output_type": "stream",
     "text": [
      "c\n",
      "o\n",
      "n\n",
      "t\n",
      "a\n",
      "i\n",
      "n\n",
      "e\n",
      "r\n"
     ]
    }
   ],
   "source": [
    "for ch in s:\n",
    "    print(ch)"
   ]
  },
  {
   "cell_type": "code",
   "execution_count": 6,
   "id": "c1ad6589",
   "metadata": {},
   "outputs": [
    {
     "name": "stdout",
     "output_type": "stream",
     "text": [
      "1\n",
      "2\n",
      "3\n"
     ]
    }
   ],
   "source": [
    "for item in t:\n",
    "    print(item)"
   ]
  },
  {
   "cell_type": "markdown",
   "id": "a37beff0",
   "metadata": {},
   "source": [
    "`` can use list comprehensions ( on sequence types ) ``"
   ]
  },
  {
   "cell_type": "code",
   "execution_count": 7,
   "id": "69d7d6b5",
   "metadata": {},
   "outputs": [
    {
     "data": {
      "text/plain": [
       "[1, 4, 9]"
      ]
     },
     "execution_count": 7,
     "metadata": {},
     "output_type": "execute_result"
    }
   ],
   "source": [
    "[i**2 for i in l]"
   ]
  },
  {
   "cell_type": "code",
   "execution_count": 8,
   "id": "427f1d89",
   "metadata": {},
   "outputs": [
    {
     "data": {
      "text/plain": [
       "['R', 'a', 'h', 'u', 'l']"
      ]
     },
     "execution_count": 8,
     "metadata": {},
     "output_type": "execute_result"
    }
   ],
   "source": [
    "s='Rahul'\n",
    "[i for i in s]"
   ]
  },
  {
   "cell_type": "markdown",
   "id": "ff6555e9",
   "metadata": {},
   "source": [
    "`` Non-Sequence Types properties``"
   ]
  },
  {
   "cell_type": "code",
   "execution_count": 9,
   "id": "c807ca34",
   "metadata": {},
   "outputs": [],
   "source": [
    "d = {'first':'Rahul','last':'Somani'}\n",
    "u = {1,2,3,4,5,6}"
   ]
  },
  {
   "cell_type": "markdown",
   "id": "9cdd1910",
   "metadata": {},
   "source": [
    "`` can we iterate ? ``"
   ]
  },
  {
   "cell_type": "code",
   "execution_count": 13,
   "id": "857eea14",
   "metadata": {},
   "outputs": [
    {
     "name": "stdout",
     "output_type": "stream",
     "text": [
      "first\tlast\t"
     ]
    }
   ],
   "source": [
    "for i in d:\n",
    "    print(i,end='\\t')"
   ]
  },
  {
   "cell_type": "code",
   "execution_count": 14,
   "id": "8c27d761",
   "metadata": {},
   "outputs": [
    {
     "name": "stdout",
     "output_type": "stream",
     "text": [
      "1\t2\t3\t4\t5\t6\t"
     ]
    }
   ],
   "source": [
    "for i in u:\n",
    "    print(i,end='\\t')"
   ]
  },
  {
   "cell_type": "code",
   "execution_count": null,
   "id": "ad04ae25",
   "metadata": {},
   "outputs": [],
   "source": []
  }
 ],
 "metadata": {
  "kernelspec": {
   "display_name": "Python 3",
   "language": "python",
   "name": "python3"
  },
  "language_info": {
   "codemirror_mode": {
    "name": "ipython",
    "version": 3
   },
   "file_extension": ".py",
   "mimetype": "text/x-python",
   "name": "python",
   "nbconvert_exporter": "python",
   "pygments_lexer": "ipython3",
   "version": "3.9.6"
  }
 },
 "nbformat": 4,
 "nbformat_minor": 5
}
