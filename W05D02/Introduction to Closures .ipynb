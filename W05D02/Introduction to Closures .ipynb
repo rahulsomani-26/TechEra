{
 "cells": [
  {
   "cell_type": "markdown",
   "id": "74b962df",
   "metadata": {},
   "source": [
    "# Closures \n",
    "\n",
    "`` They are functions, with some extra piece of data ``\n",
    "\n",
    "`` Thing to understand from this : closure, free variable ``"
   ]
  },
  {
   "cell_type": "code",
   "execution_count": 1,
   "id": "78abf02b",
   "metadata": {},
   "outputs": [],
   "source": [
    "def outer_func():\n",
    "    name = 'Aryakant'\n",
    "    def inner_func():\n",
    "        print('Hello {}'.format(name))\n",
    "    inner_func()"
   ]
  },
  {
   "cell_type": "code",
   "execution_count": 2,
   "id": "3f09276e",
   "metadata": {},
   "outputs": [
    {
     "data": {
      "text/plain": [
       "<function __main__.outer_func()>"
      ]
     },
     "execution_count": 2,
     "metadata": {},
     "output_type": "execute_result"
    }
   ],
   "source": [
    "outer_func"
   ]
  },
  {
   "cell_type": "markdown",
   "id": "68f1e1fd",
   "metadata": {},
   "source": [
    "``To see the name of the function ``"
   ]
  },
  {
   "cell_type": "code",
   "execution_count": 3,
   "id": "0f0b400d",
   "metadata": {},
   "outputs": [
    {
     "data": {
      "text/plain": [
       "'outer_func'"
      ]
     },
     "execution_count": 3,
     "metadata": {},
     "output_type": "execute_result"
    }
   ],
   "source": [
    "outer_func.__name__"
   ]
  },
  {
   "cell_type": "code",
   "execution_count": 4,
   "id": "1a66547a",
   "metadata": {},
   "outputs": [
    {
     "name": "stdout",
     "output_type": "stream",
     "text": [
      "['__annotations__', '__call__', '__class__', '__closure__', '__code__', '__defaults__', '__delattr__', '__dict__', '__dir__', '__doc__', '__eq__', '__format__', '__ge__', '__get__', '__getattribute__', '__globals__', '__gt__', '__hash__', '__init__', '__init_subclass__', '__kwdefaults__', '__le__', '__lt__', '__module__', '__name__', '__ne__', '__new__', '__qualname__', '__reduce__', '__reduce_ex__', '__repr__', '__setattr__', '__sizeof__', '__str__', '__subclasshook__']\n"
     ]
    }
   ],
   "source": [
    "print(dir(outer_func))"
   ]
  },
  {
   "cell_type": "markdown",
   "id": "96d0cf15",
   "metadata": {},
   "source": [
    "`` To see the type of an object ``"
   ]
  },
  {
   "cell_type": "code",
   "execution_count": 5,
   "id": "9b7faaea",
   "metadata": {},
   "outputs": [
    {
     "data": {
      "text/plain": [
       "function"
      ]
     },
     "execution_count": 5,
     "metadata": {},
     "output_type": "execute_result"
    }
   ],
   "source": [
    "outer_func.__class__"
   ]
  },
  {
   "cell_type": "markdown",
   "id": "1c78aaa6",
   "metadata": {},
   "source": [
    "`` To see the module name ``"
   ]
  },
  {
   "cell_type": "code",
   "execution_count": 6,
   "id": "c35663da",
   "metadata": {},
   "outputs": [
    {
     "data": {
      "text/plain": [
       "'__main__'"
      ]
     },
     "execution_count": 6,
     "metadata": {},
     "output_type": "execute_result"
    }
   ],
   "source": [
    "outer_func.__module__"
   ]
  },
  {
   "cell_type": "code",
   "execution_count": 8,
   "id": "e53ffb94",
   "metadata": {},
   "outputs": [
    {
     "name": "stdout",
     "output_type": "stream",
     "text": [
      "Hello Aryakant\n"
     ]
    }
   ],
   "source": [
    "outer_func()"
   ]
  },
  {
   "cell_type": "code",
   "execution_count": 11,
   "id": "a86196d8",
   "metadata": {},
   "outputs": [
    {
     "name": "stdout",
     "output_type": "stream",
     "text": [
      "['__class__', '__delattr__', '__dir__', '__doc__', '__eq__', '__format__', '__ge__', '__getattribute__', '__gt__', '__hash__', '__init__', '__init_subclass__', '__le__', '__lt__', '__ne__', '__new__', '__reduce__', '__reduce_ex__', '__repr__', '__setattr__', '__sizeof__', '__str__', '__subclasshook__', 'co_argcount', 'co_cellvars', 'co_code', 'co_consts', 'co_filename', 'co_firstlineno', 'co_flags', 'co_freevars', 'co_kwonlyargcount', 'co_lnotab', 'co_name', 'co_names', 'co_nlocals', 'co_posonlyargcount', 'co_stacksize', 'co_varnames', 'replace']\n"
     ]
    }
   ],
   "source": [
    "print(dir(outer_func.__code__))"
   ]
  },
  {
   "cell_type": "markdown",
   "id": "eb5c1358",
   "metadata": {},
   "source": [
    "`` To see the compiled code use this ``"
   ]
  },
  {
   "cell_type": "code",
   "execution_count": 12,
   "id": "c005da72",
   "metadata": {},
   "outputs": [
    {
     "data": {
      "text/plain": [
       "b'd\\x01\\x89\\x00\\x87\\x00f\\x01d\\x02d\\x03\\x84\\x08}\\x00|\\x00\\x83\\x00\\x01\\x00d\\x00S\\x00'"
      ]
     },
     "execution_count": 12,
     "metadata": {},
     "output_type": "execute_result"
    }
   ],
   "source": [
    "outer_func.__code__.co_code"
   ]
  },
  {
   "cell_type": "markdown",
   "id": "33e5236e",
   "metadata": {},
   "source": [
    "`` To see the number of local variables ``"
   ]
  },
  {
   "cell_type": "code",
   "execution_count": 23,
   "id": "dd7d83d3",
   "metadata": {},
   "outputs": [
    {
     "data": {
      "text/plain": [
       "1"
      ]
     },
     "execution_count": 23,
     "metadata": {},
     "output_type": "execute_result"
    }
   ],
   "source": [
    "outer_func.__code__.co_nlocals"
   ]
  },
  {
   "cell_type": "code",
   "execution_count": null,
   "id": "d2579af9",
   "metadata": {},
   "outputs": [],
   "source": []
  },
  {
   "cell_type": "code",
   "execution_count": 15,
   "id": "b84459ec",
   "metadata": {},
   "outputs": [
    {
     "data": {
      "text/plain": [
       "('name',)"
      ]
     },
     "execution_count": 15,
     "metadata": {},
     "output_type": "execute_result"
    }
   ],
   "source": [
    "outer_func.__code__.co_cellvars"
   ]
  },
  {
   "cell_type": "code",
   "execution_count": 26,
   "id": "e0554ead",
   "metadata": {},
   "outputs": [],
   "source": [
    "def outer_func():\n",
    "    name = 'Aryakant'\n",
    "    age = 21\n",
    "    def inner_func():\n",
    "        print('Hello {} your age = {}'.format(name,age))\n",
    "    return inner_func"
   ]
  },
  {
   "cell_type": "code",
   "execution_count": 28,
   "id": "16161011",
   "metadata": {},
   "outputs": [
    {
     "data": {
      "text/plain": [
       "<function __main__.outer_func()>"
      ]
     },
     "execution_count": 28,
     "metadata": {},
     "output_type": "execute_result"
    }
   ],
   "source": [
    "outer_func"
   ]
  },
  {
   "cell_type": "code",
   "execution_count": 29,
   "id": "721a0ee3",
   "metadata": {},
   "outputs": [],
   "source": [
    "f = outer_func()"
   ]
  },
  {
   "cell_type": "code",
   "execution_count": 30,
   "id": "9350b66e",
   "metadata": {},
   "outputs": [
    {
     "data": {
      "text/plain": [
       "<function __main__.outer_func.<locals>.inner_func()>"
      ]
     },
     "execution_count": 30,
     "metadata": {},
     "output_type": "execute_result"
    }
   ],
   "source": [
    "f"
   ]
  },
  {
   "cell_type": "code",
   "execution_count": 31,
   "id": "e9b4be02",
   "metadata": {},
   "outputs": [],
   "source": [
    "def some():\n",
    "    n = 2\n",
    "    a = 20\n",
    "    s = 5000.34\n",
    "    def more():\n",
    "        print('Within more')\n",
    "    return more "
   ]
  },
  {
   "cell_type": "code",
   "execution_count": 32,
   "id": "da2927a4",
   "metadata": {},
   "outputs": [],
   "source": [
    "f = some()"
   ]
  },
  {
   "cell_type": "code",
   "execution_count": 35,
   "id": "aab96b0a",
   "metadata": {},
   "outputs": [
    {
     "data": {
      "text/plain": [
       "(2003288485600, function, <function __main__.some.<locals>.more()>)"
      ]
     },
     "execution_count": 35,
     "metadata": {},
     "output_type": "execute_result"
    }
   ],
   "source": [
    "id(f), type(f), f"
   ]
  },
  {
   "cell_type": "code",
   "execution_count": 36,
   "id": "d1ce56fc",
   "metadata": {},
   "outputs": [
    {
     "name": "stdout",
     "output_type": "stream",
     "text": [
      "['__annotations__', '__call__', '__class__', '__closure__', '__code__', '__defaults__', '__delattr__', '__dict__', '__dir__', '__doc__', '__eq__', '__format__', '__ge__', '__get__', '__getattribute__', '__globals__', '__gt__', '__hash__', '__init__', '__init_subclass__', '__kwdefaults__', '__le__', '__lt__', '__module__', '__name__', '__ne__', '__new__', '__qualname__', '__reduce__', '__reduce_ex__', '__repr__', '__setattr__', '__sizeof__', '__str__', '__subclasshook__']\n"
     ]
    }
   ],
   "source": [
    "print(dir(f))"
   ]
  },
  {
   "cell_type": "code",
   "execution_count": 38,
   "id": "c9a3d3ff",
   "metadata": {},
   "outputs": [
    {
     "name": "stdout",
     "output_type": "stream",
     "text": [
      "Within more\n"
     ]
    }
   ],
   "source": [
    "f()"
   ]
  },
  {
   "cell_type": "code",
   "execution_count": 39,
   "id": "4975e996",
   "metadata": {},
   "outputs": [],
   "source": [
    "some.__closure__"
   ]
  },
  {
   "cell_type": "code",
   "execution_count": 40,
   "id": "058c7e2a",
   "metadata": {},
   "outputs": [],
   "source": [
    "def some():\n",
    "    n = 2\n",
    "    msg = 'hello'\n",
    "    def more():\n",
    "        print('{} you have {} Rs left'.format(msg,n))\n",
    "    return more "
   ]
  },
  {
   "cell_type": "code",
   "execution_count": 41,
   "id": "f62eeaa0",
   "metadata": {},
   "outputs": [],
   "source": [
    "my_func = some()"
   ]
  },
  {
   "cell_type": "code",
   "execution_count": 42,
   "id": "190a8283",
   "metadata": {},
   "outputs": [
    {
     "data": {
      "text/plain": [
       "{}"
      ]
     },
     "execution_count": 42,
     "metadata": {},
     "output_type": "execute_result"
    }
   ],
   "source": [
    "my_func.__dict__"
   ]
  },
  {
   "cell_type": "code",
   "execution_count": 43,
   "id": "7b5ecad3",
   "metadata": {},
   "outputs": [
    {
     "name": "stdout",
     "output_type": "stream",
     "text": [
      "hello you have 2 Rs left\n"
     ]
    }
   ],
   "source": [
    "my_func()"
   ]
  },
  {
   "cell_type": "code",
   "execution_count": 44,
   "id": "c4729ff7",
   "metadata": {},
   "outputs": [
    {
     "data": {
      "text/plain": [
       "('msg', 'n')"
      ]
     },
     "execution_count": 44,
     "metadata": {},
     "output_type": "execute_result"
    }
   ],
   "source": [
    "my_func.__code__.co_freevars"
   ]
  },
  {
   "cell_type": "code",
   "execution_count": 45,
   "id": "f01f2bfc",
   "metadata": {},
   "outputs": [
    {
     "data": {
      "text/plain": [
       "(<cell at 0x000001D26D4BE340: str object at 0x000001D26D4C05B0>,\n",
       " <cell at 0x000001D26D4BECD0: int object at 0x000001D268D86950>)"
      ]
     },
     "execution_count": 45,
     "metadata": {},
     "output_type": "execute_result"
    }
   ],
   "source": [
    "my_func.__closure__"
   ]
  },
  {
   "cell_type": "code",
   "execution_count": 46,
   "id": "05ae9582",
   "metadata": {},
   "outputs": [],
   "source": [
    "def some():\n",
    "    msg = 'hello'\n",
    "    def more():\n",
    "        n=2\n",
    "        print('{} you have {} Rs left'.format(msg,n))\n",
    "    return more "
   ]
  },
  {
   "cell_type": "code",
   "execution_count": 47,
   "id": "998386a7",
   "metadata": {},
   "outputs": [],
   "source": [
    "my_func = some()"
   ]
  },
  {
   "cell_type": "code",
   "execution_count": 48,
   "id": "1eefd876",
   "metadata": {},
   "outputs": [
    {
     "data": {
      "text/plain": [
       "(<cell at 0x000001D26D3B0DC0: str object at 0x000001D26D4C05B0>,)"
      ]
     },
     "execution_count": 48,
     "metadata": {},
     "output_type": "execute_result"
    }
   ],
   "source": [
    "my_func.__closure__"
   ]
  },
  {
   "cell_type": "code",
   "execution_count": 49,
   "id": "581e59fc",
   "metadata": {},
   "outputs": [
    {
     "data": {
      "text/plain": [
       "('msg',)"
      ]
     },
     "execution_count": 49,
     "metadata": {},
     "output_type": "execute_result"
    }
   ],
   "source": [
    "my_func.__code__.co_freevars"
   ]
  },
  {
   "cell_type": "code",
   "execution_count": 51,
   "id": "41a7355f",
   "metadata": {},
   "outputs": [
    {
     "data": {
      "text/plain": [
       "'0x1d26d4c05b0'"
      ]
     },
     "execution_count": 51,
     "metadata": {},
     "output_type": "execute_result"
    }
   ],
   "source": [
    "hex(id('hello'))"
   ]
  },
  {
   "cell_type": "markdown",
   "id": "b2c44611",
   "metadata": {},
   "source": [
    "`` Difference between calling a function and returning a function ``"
   ]
  },
  {
   "cell_type": "code",
   "execution_count": 52,
   "id": "f3e88ae0",
   "metadata": {},
   "outputs": [],
   "source": [
    "def test_func():\n",
    "    print('Test func called')"
   ]
  },
  {
   "cell_type": "markdown",
   "id": "ffde8f5a",
   "metadata": {},
   "source": [
    "`` calling a function `` "
   ]
  },
  {
   "cell_type": "code",
   "execution_count": 53,
   "id": "bc1bd7a2",
   "metadata": {},
   "outputs": [
    {
     "name": "stdout",
     "output_type": "stream",
     "text": [
      "Test func called\n"
     ]
    }
   ],
   "source": [
    "test_func()"
   ]
  },
  {
   "cell_type": "markdown",
   "id": "deb96aa5",
   "metadata": {},
   "source": [
    "`` Returning a function `` \n",
    "\n",
    "`` lets see the id of the function ``"
   ]
  },
  {
   "cell_type": "code",
   "execution_count": 54,
   "id": "afdccf0b",
   "metadata": {},
   "outputs": [
    {
     "data": {
      "text/plain": [
       "2003288484160"
      ]
     },
     "execution_count": 54,
     "metadata": {},
     "output_type": "execute_result"
    }
   ],
   "source": [
    "id(test_func)"
   ]
  },
  {
   "cell_type": "code",
   "execution_count": 55,
   "id": "496860a6",
   "metadata": {},
   "outputs": [],
   "source": [
    "f = test_func"
   ]
  },
  {
   "cell_type": "code",
   "execution_count": 56,
   "id": "60919861",
   "metadata": {},
   "outputs": [
    {
     "data": {
      "text/plain": [
       "(2003288484160, 2003288484160)"
      ]
     },
     "execution_count": 56,
     "metadata": {},
     "output_type": "execute_result"
    }
   ],
   "source": [
    "id(f), id(test_func)"
   ]
  },
  {
   "cell_type": "code",
   "execution_count": 63,
   "id": "76d12133",
   "metadata": {},
   "outputs": [],
   "source": [
    "def outer():\n",
    "    count = 0\n",
    "    def inner():\n",
    "        nonlocal count \n",
    "        count += 1\n",
    "        return count \n",
    "    return inner \n",
    "   \n"
   ]
  },
  {
   "cell_type": "code",
   "execution_count": 64,
   "id": "cf72efae",
   "metadata": {},
   "outputs": [],
   "source": [
    "c = outer()"
   ]
  },
  {
   "cell_type": "code",
   "execution_count": 65,
   "id": "030844be",
   "metadata": {},
   "outputs": [
    {
     "data": {
      "text/plain": [
       "(<cell at 0x000001D26D4BE610: int object at 0x000001D268D86910>,)"
      ]
     },
     "execution_count": 65,
     "metadata": {},
     "output_type": "execute_result"
    }
   ],
   "source": [
    "c.__closure__"
   ]
  },
  {
   "cell_type": "code",
   "execution_count": null,
   "id": "b7860969",
   "metadata": {},
   "outputs": [],
   "source": []
  },
  {
   "cell_type": "code",
   "execution_count": null,
   "id": "652c9be6",
   "metadata": {},
   "outputs": [],
   "source": []
  },
  {
   "cell_type": "code",
   "execution_count": 66,
   "id": "51993a49",
   "metadata": {},
   "outputs": [],
   "source": [
    "def outer():\n",
    "    count = 0\n",
    "    def inner():\n",
    "        count=0\n",
    "        count += 1\n",
    "        return count \n",
    "    return inner \n",
    "   "
   ]
  },
  {
   "cell_type": "code",
   "execution_count": 67,
   "id": "b01b6bf3",
   "metadata": {},
   "outputs": [],
   "source": [
    "f = outer()\n",
    "f.__closure__"
   ]
  },
  {
   "cell_type": "code",
   "execution_count": 70,
   "id": "44532d03",
   "metadata": {},
   "outputs": [],
   "source": [
    "def outer():\n",
    "    count = 0\n",
    "    name = 'me'\n",
    "    marks = [10,20,30]\n",
    "    def inner():\n",
    "        count=0\n",
    "        count += 1\n",
    "        print(name,marks)\n",
    "        return count \n",
    "    return inner \n",
    "   "
   ]
  },
  {
   "cell_type": "code",
   "execution_count": 71,
   "id": "3dabbe65",
   "metadata": {},
   "outputs": [
    {
     "data": {
      "text/plain": [
       "(<cell at 0x000001D26D4BE4C0: list object at 0x000001D26D3F7640>,\n",
       " <cell at 0x000001D26D4BEF10: str object at 0x000001D268DD9170>)"
      ]
     },
     "execution_count": 71,
     "metadata": {},
     "output_type": "execute_result"
    }
   ],
   "source": [
    "f = outer()\n",
    "f.__closure__"
   ]
  },
  {
   "cell_type": "code",
   "execution_count": 72,
   "id": "153786f8",
   "metadata": {},
   "outputs": [
    {
     "data": {
      "text/plain": [
       "('0x1d26d4c0880', '0x1d268dd9170')"
      ]
     },
     "execution_count": 72,
     "metadata": {},
     "output_type": "execute_result"
    }
   ],
   "source": [
    "hex(id([10,20,30])), hex(id('me'))"
   ]
  },
  {
   "cell_type": "code",
   "execution_count": 75,
   "id": "7ebbdf3e",
   "metadata": {},
   "outputs": [
    {
     "name": "stdout",
     "output_type": "stream",
     "text": [
      "['__add__', '__class__', '__class_getitem__', '__contains__', '__delattr__', '__dir__', '__doc__', '__eq__', '__format__', '__ge__', '__getattribute__', '__getitem__', '__getnewargs__', '__gt__', '__hash__', '__init__', '__init_subclass__', '__iter__', '__le__', '__len__', '__lt__', '__mul__', '__ne__', '__new__', '__reduce__', '__reduce_ex__', '__repr__', '__rmul__', '__setattr__', '__sizeof__', '__str__', '__subclasshook__', 'count', 'index']\n"
     ]
    }
   ],
   "source": [
    "print(dir(f.__closure__))"
   ]
  },
  {
   "cell_type": "code",
   "execution_count": 76,
   "id": "524a1b8f",
   "metadata": {},
   "outputs": [
    {
     "data": {
      "text/plain": [
       "\"Built-in immutable sequence.\\n\\nIf no argument is given, the constructor returns an empty tuple.\\nIf iterable is specified the tuple is initialized from iterable's items.\\n\\nIf the argument is a tuple, the return value is the same object.\""
      ]
     },
     "execution_count": 76,
     "metadata": {},
     "output_type": "execute_result"
    }
   ],
   "source": [
    "f.__closure__.__doc__"
   ]
  },
  {
   "cell_type": "code",
   "execution_count": 77,
   "id": "e60735be",
   "metadata": {},
   "outputs": [],
   "source": [
    "def outer():\n",
    "    count = 0\n",
    "    name = 'me'\n",
    "    marks = [10,20,30]\n",
    "    def inner():\n",
    "        count=0\n",
    "        count += 1\n",
    "        print(name,marks)\n",
    "        return count \n",
    "    return inner \n",
    "   "
   ]
  },
  {
   "cell_type": "code",
   "execution_count": 78,
   "id": "26e5706a",
   "metadata": {},
   "outputs": [],
   "source": [
    "closure_one = outer()\n",
    "closure_two = outer()"
   ]
  },
  {
   "cell_type": "code",
   "execution_count": 79,
   "id": "cc4be9f2",
   "metadata": {},
   "outputs": [
    {
     "name": "stdout",
     "output_type": "stream",
     "text": [
      "me [10, 20, 30]\n"
     ]
    },
    {
     "data": {
      "text/plain": [
       "1"
      ]
     },
     "execution_count": 79,
     "metadata": {},
     "output_type": "execute_result"
    }
   ],
   "source": [
    "closure_one()"
   ]
  },
  {
   "cell_type": "code",
   "execution_count": 80,
   "id": "e905abe2",
   "metadata": {},
   "outputs": [
    {
     "name": "stdout",
     "output_type": "stream",
     "text": [
      "me [10, 20, 30]\n"
     ]
    },
    {
     "data": {
      "text/plain": [
       "1"
      ]
     },
     "execution_count": 80,
     "metadata": {},
     "output_type": "execute_result"
    }
   ],
   "source": [
    "closure_two()"
   ]
  },
  {
   "cell_type": "code",
   "execution_count": 81,
   "id": "b824bfee",
   "metadata": {},
   "outputs": [
    {
     "data": {
      "text/plain": [
       "False"
      ]
     },
     "execution_count": 81,
     "metadata": {},
     "output_type": "execute_result"
    }
   ],
   "source": [
    "closure_one == closure_two"
   ]
  },
  {
   "cell_type": "code",
   "execution_count": 82,
   "id": "a7fefb4a",
   "metadata": {},
   "outputs": [
    {
     "data": {
      "text/plain": [
       "False"
      ]
     },
     "execution_count": 82,
     "metadata": {},
     "output_type": "execute_result"
    }
   ],
   "source": [
    "closure_one is closure_two"
   ]
  },
  {
   "cell_type": "code",
   "execution_count": 83,
   "id": "3f22b764",
   "metadata": {},
   "outputs": [
    {
     "data": {
      "text/plain": [
       "(2003288482432, 2003288484016)"
      ]
     },
     "execution_count": 83,
     "metadata": {},
     "output_type": "execute_result"
    }
   ],
   "source": [
    "id(closure_one), id(closure_two)"
   ]
  },
  {
   "cell_type": "code",
   "execution_count": 84,
   "id": "b949a7d4",
   "metadata": {},
   "outputs": [
    {
     "data": {
      "text/plain": [
       "(<cell at 0x000001D26D4BE040: list object at 0x000001D26D31EB00>,\n",
       " <cell at 0x000001D26D4BEEE0: str object at 0x000001D268DD9170>)"
      ]
     },
     "execution_count": 84,
     "metadata": {},
     "output_type": "execute_result"
    }
   ],
   "source": [
    "closure_one.__closure__"
   ]
  },
  {
   "cell_type": "code",
   "execution_count": 85,
   "id": "f62576a0",
   "metadata": {},
   "outputs": [
    {
     "data": {
      "text/plain": [
       "(<cell at 0x000001D26D4BE5B0: list object at 0x000001D26D3F4300>,\n",
       " <cell at 0x000001D26D4BE5E0: str object at 0x000001D268DD9170>)"
      ]
     },
     "execution_count": 85,
     "metadata": {},
     "output_type": "execute_result"
    }
   ],
   "source": [
    "closure_two.__closure__"
   ]
  },
  {
   "cell_type": "code",
   "execution_count": null,
   "id": "52ae3fb9",
   "metadata": {},
   "outputs": [],
   "source": []
  }
 ],
 "metadata": {
  "kernelspec": {
   "display_name": "Python 3",
   "language": "python",
   "name": "python3"
  },
  "language_info": {
   "codemirror_mode": {
    "name": "ipython",
    "version": 3
   },
   "file_extension": ".py",
   "mimetype": "text/x-python",
   "name": "python",
   "nbconvert_exporter": "python",
   "pygments_lexer": "ipython3",
   "version": "3.9.6"
  }
 },
 "nbformat": 4,
 "nbformat_minor": 5
}
