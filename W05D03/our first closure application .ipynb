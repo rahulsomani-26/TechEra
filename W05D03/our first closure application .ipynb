{
 "cells": [
  {
   "cell_type": "markdown",
   "id": "5a0ec2bb",
   "metadata": {},
   "source": [
    "# Code to show the number of times a function has been called "
   ]
  },
  {
   "cell_type": "code",
   "execution_count": 1,
   "id": "9fbf7a94",
   "metadata": {},
   "outputs": [],
   "source": [
    "def counter(fn):\n",
    "    count = 0 \n",
    "    def inner(*args,**kwargs):\n",
    "        nonlocal count \n",
    "        count += 1\n",
    "        print(' The {} function has been called {} times'.format(fn.__name__,count))\n",
    "        return fn(*args,**kwargs)\n",
    "    return inner \n",
    "        "
   ]
  },
  {
   "cell_type": "code",
   "execution_count": 2,
   "id": "2c9dde52",
   "metadata": {},
   "outputs": [],
   "source": [
    "def add(a,b):\n",
    "    return a+b\n",
    "\n",
    "def square(x):\n",
    "    return x**2\n",
    "\n",
    "def cube(x):\n",
    "    return x**3"
   ]
  },
  {
   "cell_type": "code",
   "execution_count": 3,
   "id": "5729991b",
   "metadata": {},
   "outputs": [],
   "source": [
    "f = counter(add)"
   ]
  },
  {
   "cell_type": "code",
   "execution_count": 4,
   "id": "95eb129f",
   "metadata": {},
   "outputs": [
    {
     "data": {
      "text/plain": [
       "(<cell at 0x000002268159B100: int object at 0x00000226FCF06910>,\n",
       " <cell at 0x000002268159BC40: function object at 0x0000022681658670>)"
      ]
     },
     "execution_count": 4,
     "metadata": {},
     "output_type": "execute_result"
    }
   ],
   "source": [
    "f.__closure__"
   ]
  },
  {
   "cell_type": "code",
   "execution_count": 11,
   "id": "2a8cc019",
   "metadata": {},
   "outputs": [
    {
     "data": {
      "text/plain": [
       "('count', 'fn')"
      ]
     },
     "execution_count": 11,
     "metadata": {},
     "output_type": "execute_result"
    }
   ],
   "source": [
    "f.__code__.co_freevars"
   ]
  },
  {
   "cell_type": "code",
   "execution_count": null,
   "id": "f10bea4b",
   "metadata": {},
   "outputs": [],
   "source": []
  },
  {
   "cell_type": "code",
   "execution_count": 5,
   "id": "150fc3bd",
   "metadata": {},
   "outputs": [
    {
     "data": {
      "text/plain": [
       "<function __main__.counter.<locals>.inner(*args, **kwargs)>"
      ]
     },
     "execution_count": 5,
     "metadata": {},
     "output_type": "execute_result"
    }
   ],
   "source": [
    "f"
   ]
  },
  {
   "cell_type": "code",
   "execution_count": 6,
   "id": "ff564e5e",
   "metadata": {},
   "outputs": [
    {
     "name": "stdout",
     "output_type": "stream",
     "text": [
      " The add function has been called 1 times\n"
     ]
    },
    {
     "data": {
      "text/plain": [
       "5"
      ]
     },
     "execution_count": 6,
     "metadata": {},
     "output_type": "execute_result"
    }
   ],
   "source": [
    "f(2,3)"
   ]
  },
  {
   "cell_type": "code",
   "execution_count": 7,
   "id": "bf570267",
   "metadata": {},
   "outputs": [
    {
     "name": "stdout",
     "output_type": "stream",
     "text": [
      " The add function has been called 2 times\n"
     ]
    },
    {
     "data": {
      "text/plain": [
       "7"
      ]
     },
     "execution_count": 7,
     "metadata": {},
     "output_type": "execute_result"
    }
   ],
   "source": [
    "f(2,5)"
   ]
  },
  {
   "cell_type": "code",
   "execution_count": 8,
   "id": "903e722e",
   "metadata": {},
   "outputs": [],
   "source": [
    "myprint = counter(print)"
   ]
  },
  {
   "cell_type": "code",
   "execution_count": 9,
   "id": "0856ba62",
   "metadata": {},
   "outputs": [
    {
     "name": "stdout",
     "output_type": "stream",
     "text": [
      " The print function has been called 1 times\n",
      "Hello this is me\n"
     ]
    }
   ],
   "source": [
    "myprint('Hello this is me')"
   ]
  },
  {
   "cell_type": "code",
   "execution_count": null,
   "id": "f6a7a2cc",
   "metadata": {},
   "outputs": [],
   "source": []
  }
 ],
 "metadata": {
  "kernelspec": {
   "display_name": "Python 3",
   "language": "python",
   "name": "python3"
  },
  "language_info": {
   "codemirror_mode": {
    "name": "ipython",
    "version": 3
   },
   "file_extension": ".py",
   "mimetype": "text/x-python",
   "name": "python",
   "nbconvert_exporter": "python",
   "pygments_lexer": "ipython3",
   "version": "3.9.6"
  }
 },
 "nbformat": 4,
 "nbformat_minor": 5
}
