{
 "cells": [
  {
   "cell_type": "markdown",
   "id": "c85b2546",
   "metadata": {},
   "source": [
    "# Using closures find the average "
   ]
  },
  {
   "cell_type": "markdown",
   "id": "d6524dce",
   "metadata": {},
   "source": [
    "` ```     Implement this using class as well      ``` `\n",
    "\n"
   ]
  },
  {
   "cell_type": "code",
   "execution_count": 2,
   "id": "8720f28c",
   "metadata": {},
   "outputs": [],
   "source": [
    "class Averager:\n",
    "    \n",
    "    def __init__(self):\n",
    "        self.nums = []\n",
    "    \n",
    "    def add(self,n):\n",
    "        self.nums.append(n)\n",
    "        total = sum(self.nums)\n",
    "        count = len(self.nums)\n",
    "        return total/count\n",
    "        \n",
    "    "
   ]
  },
  {
   "cell_type": "code",
   "execution_count": 3,
   "id": "a0adefaa",
   "metadata": {},
   "outputs": [],
   "source": [
    "a = Averager()\n",
    "b = Averager()"
   ]
  },
  {
   "cell_type": "code",
   "execution_count": 4,
   "id": "52def62f",
   "metadata": {},
   "outputs": [
    {
     "data": {
      "text/plain": [
       "(1894399240752, 1894399239936)"
      ]
     },
     "execution_count": 4,
     "metadata": {},
     "output_type": "execute_result"
    }
   ],
   "source": [
    "id(a), id(b)"
   ]
  },
  {
   "cell_type": "code",
   "execution_count": 5,
   "id": "dd1ec02b",
   "metadata": {},
   "outputs": [
    {
     "data": {
      "text/plain": [
       "mappingproxy({'__module__': '__main__',\n",
       "              '__init__': <function __main__.Averager.__init__(self)>,\n",
       "              'add': <function __main__.Averager.add(self, n)>,\n",
       "              '__dict__': <attribute '__dict__' of 'Averager' objects>,\n",
       "              '__weakref__': <attribute '__weakref__' of 'Averager' objects>,\n",
       "              '__doc__': None})"
      ]
     },
     "execution_count": 5,
     "metadata": {},
     "output_type": "execute_result"
    }
   ],
   "source": [
    "Averager.__dict__"
   ]
  },
  {
   "cell_type": "code",
   "execution_count": 6,
   "id": "082e2910",
   "metadata": {},
   "outputs": [
    {
     "data": {
      "text/plain": [
       "10.0"
      ]
     },
     "execution_count": 6,
     "metadata": {},
     "output_type": "execute_result"
    }
   ],
   "source": [
    "a.add(10)"
   ]
  },
  {
   "cell_type": "code",
   "execution_count": 7,
   "id": "5016f3cf",
   "metadata": {},
   "outputs": [
    {
     "data": {
      "text/plain": [
       "15.0"
      ]
     },
     "execution_count": 7,
     "metadata": {},
     "output_type": "execute_result"
    }
   ],
   "source": [
    "a.add(20)"
   ]
  },
  {
   "cell_type": "code",
   "execution_count": 8,
   "id": "adbc7ced",
   "metadata": {},
   "outputs": [
    {
     "data": {
      "text/plain": [
       "{'nums': [10, 20]}"
      ]
     },
     "execution_count": 8,
     "metadata": {},
     "output_type": "execute_result"
    }
   ],
   "source": [
    "a.__dict__"
   ]
  },
  {
   "cell_type": "code",
   "execution_count": 9,
   "id": "edbca730",
   "metadata": {},
   "outputs": [
    {
     "data": {
      "text/plain": [
       "{'nums': []}"
      ]
     },
     "execution_count": 9,
     "metadata": {},
     "output_type": "execute_result"
    }
   ],
   "source": [
    "b.__dict__"
   ]
  },
  {
   "cell_type": "markdown",
   "id": "3163668e",
   "metadata": {},
   "source": [
    "`` Closure Implementation ``"
   ]
  },
  {
   "cell_type": "code",
   "execution_count": 10,
   "id": "48753243",
   "metadata": {},
   "outputs": [],
   "source": [
    "def averager():\n",
    "    nums = []\n",
    "    def add(n):\n",
    "        nums.append(n)\n",
    "        total = sum(nums)    \n",
    "        count = len(nums)\n",
    "        return total/count\n",
    "    return add "
   ]
  },
  {
   "cell_type": "code",
   "execution_count": 11,
   "id": "baeeb75f",
   "metadata": {},
   "outputs": [],
   "source": [
    "result = averager()"
   ]
  },
  {
   "cell_type": "code",
   "execution_count": 12,
   "id": "24164e98",
   "metadata": {},
   "outputs": [
    {
     "data": {
      "text/plain": [
       "(<cell at 0x000001B9132B58B0: list object at 0x000001B912E22B40>,)"
      ]
     },
     "execution_count": 12,
     "metadata": {},
     "output_type": "execute_result"
    }
   ],
   "source": [
    "result.__closure__"
   ]
  },
  {
   "cell_type": "code",
   "execution_count": 13,
   "id": "87fa1bf6",
   "metadata": {},
   "outputs": [
    {
     "data": {
      "text/plain": [
       "10.0"
      ]
     },
     "execution_count": 13,
     "metadata": {},
     "output_type": "execute_result"
    }
   ],
   "source": [
    "result(10)"
   ]
  },
  {
   "cell_type": "code",
   "execution_count": 14,
   "id": "b903fd2d",
   "metadata": {},
   "outputs": [
    {
     "data": {
      "text/plain": [
       "15.0"
      ]
     },
     "execution_count": 14,
     "metadata": {},
     "output_type": "execute_result"
    }
   ],
   "source": [
    "result(20)"
   ]
  },
  {
   "cell_type": "code",
   "execution_count": 15,
   "id": "e3cfe025",
   "metadata": {},
   "outputs": [
    {
     "data": {
      "text/plain": [
       "(<cell at 0x000001B9132B58B0: list object at 0x000001B912E22B40>,)"
      ]
     },
     "execution_count": 15,
     "metadata": {},
     "output_type": "execute_result"
    }
   ],
   "source": [
    "result.__closure__"
   ]
  },
  {
   "cell_type": "code",
   "execution_count": 18,
   "id": "15627d99",
   "metadata": {},
   "outputs": [
    {
     "data": {
      "text/plain": [
       "False"
      ]
     },
     "execution_count": 18,
     "metadata": {},
     "output_type": "execute_result"
    }
   ],
   "source": [
    "'__dict__' in dir(result.__closure__)"
   ]
  },
  {
   "cell_type": "code",
   "execution_count": 17,
   "id": "1f08eb22",
   "metadata": {},
   "outputs": [
    {
     "data": {
      "text/plain": [
       "{}"
      ]
     },
     "execution_count": 17,
     "metadata": {},
     "output_type": "execute_result"
    }
   ],
   "source": [
    "result.__dict__"
   ]
  },
  {
   "cell_type": "code",
   "execution_count": 24,
   "id": "31a8a039",
   "metadata": {},
   "outputs": [
    {
     "data": {
      "text/plain": [
       "(cell, tuple)"
      ]
     },
     "execution_count": 24,
     "metadata": {},
     "output_type": "execute_result"
    }
   ],
   "source": [
    "type(result.__closure__[0]),type(result.__closure__)"
   ]
  },
  {
   "cell_type": "code",
   "execution_count": 21,
   "id": "d2115bad",
   "metadata": {},
   "outputs": [
    {
     "data": {
      "text/plain": [
       "[10, 20]"
      ]
     },
     "execution_count": 21,
     "metadata": {},
     "output_type": "execute_result"
    }
   ],
   "source": [
    "result.__closure__[0].cell_contents"
   ]
  },
  {
   "cell_type": "code",
   "execution_count": 25,
   "id": "cc5cb7e4",
   "metadata": {},
   "outputs": [],
   "source": [
    "result.__closure__[0].cell_contents.append(30)"
   ]
  },
  {
   "cell_type": "code",
   "execution_count": 26,
   "id": "6ced42ab",
   "metadata": {},
   "outputs": [
    {
     "data": {
      "text/plain": [
       "[10, 20, 30]"
      ]
     },
     "execution_count": 26,
     "metadata": {},
     "output_type": "execute_result"
    }
   ],
   "source": [
    "result.__closure__[0].cell_contents"
   ]
  },
  {
   "cell_type": "markdown",
   "id": "b8bbbdea",
   "metadata": {},
   "source": [
    "`` Implement a Timer class that will return the time elapsed ``"
   ]
  },
  {
   "cell_type": "code",
   "execution_count": 28,
   "id": "f4f71593",
   "metadata": {},
   "outputs": [],
   "source": [
    "import time\n"
   ]
  },
  {
   "cell_type": "code",
   "execution_count": 29,
   "id": "11b9e06d",
   "metadata": {},
   "outputs": [
    {
     "name": "stdout",
     "output_type": "stream",
     "text": [
      "['_STRUCT_TM_ITEMS', '__doc__', '__loader__', '__name__', '__package__', '__spec__', 'altzone', 'asctime', 'ctime', 'daylight', 'get_clock_info', 'gmtime', 'localtime', 'mktime', 'monotonic', 'monotonic_ns', 'perf_counter', 'perf_counter_ns', 'process_time', 'process_time_ns', 'sleep', 'strftime', 'strptime', 'struct_time', 'thread_time', 'thread_time_ns', 'time', 'time_ns', 'timezone', 'tzname']\n"
     ]
    }
   ],
   "source": [
    "print(dir(time))"
   ]
  },
  {
   "cell_type": "code",
   "execution_count": 30,
   "id": "21493060",
   "metadata": {},
   "outputs": [
    {
     "data": {
      "text/plain": [
       "1635318396.9632092"
      ]
     },
     "execution_count": 30,
     "metadata": {},
     "output_type": "execute_result"
    }
   ],
   "source": [
    "time.time()"
   ]
  },
  {
   "cell_type": "code",
   "execution_count": 31,
   "id": "56f2f790",
   "metadata": {},
   "outputs": [
    {
     "data": {
      "text/plain": [
       "1635318404.7662065"
      ]
     },
     "execution_count": 31,
     "metadata": {},
     "output_type": "execute_result"
    }
   ],
   "source": [
    "time.time()"
   ]
  },
  {
   "cell_type": "code",
   "execution_count": 35,
   "id": "de777d56",
   "metadata": {},
   "outputs": [
    {
     "name": "stdout",
     "output_type": "stream",
     "text": [
      " Total time taken = 13.623993396759033\n"
     ]
    }
   ],
   "source": [
    "n = 0\n",
    "start = time.time()\n",
    "while n < 100000000:\n",
    "    n = n+1\n",
    "end = time.time()\n",
    "print(' Total time taken = {}'.format(end-start))\n",
    "    "
   ]
  },
  {
   "cell_type": "code",
   "execution_count": 36,
   "id": "22f4e6ac",
   "metadata": {},
   "outputs": [],
   "source": [
    "import time\n",
    "class Timer:\n",
    "    def __init__(self):\n",
    "        self.start = time.time()\n",
    "    def time_elapsed(self):\n",
    "        return time.time() - self.start \n",
    "    "
   ]
  },
  {
   "cell_type": "code",
   "execution_count": 43,
   "id": "8f9d8bdb",
   "metadata": {},
   "outputs": [],
   "source": [
    "t = Timer()"
   ]
  },
  {
   "cell_type": "code",
   "execution_count": 44,
   "id": "269ba341",
   "metadata": {},
   "outputs": [
    {
     "data": {
      "text/plain": [
       "2.326612710952759"
      ]
     },
     "execution_count": 44,
     "metadata": {},
     "output_type": "execute_result"
    }
   ],
   "source": [
    "t.time_elapsed()"
   ]
  },
  {
   "cell_type": "code",
   "execution_count": 45,
   "id": "42581c75",
   "metadata": {},
   "outputs": [
    {
     "data": {
      "text/plain": [
       "3.6469926834106445"
      ]
     },
     "execution_count": 45,
     "metadata": {},
     "output_type": "execute_result"
    }
   ],
   "source": [
    "t.time_elapsed()"
   ]
  },
  {
   "cell_type": "code",
   "execution_count": 46,
   "id": "a4ed84ab",
   "metadata": {},
   "outputs": [],
   "source": [
    "from time import perf_counter\n",
    "class Timer:\n",
    "    def __init__(self):\n",
    "        self.start = perf_counter()\n",
    "    def time_elapsed(self):\n",
    "        return perf_counter() - self.start \n",
    "    "
   ]
  },
  {
   "cell_type": "code",
   "execution_count": 49,
   "id": "7747d51c",
   "metadata": {},
   "outputs": [],
   "source": [
    "t = Timer()"
   ]
  },
  {
   "cell_type": "code",
   "execution_count": 50,
   "id": "d771566b",
   "metadata": {},
   "outputs": [
    {
     "data": {
      "text/plain": [
       "0.5133447999996861"
      ]
     },
     "execution_count": 50,
     "metadata": {},
     "output_type": "execute_result"
    }
   ],
   "source": [
    "t.time_elapsed()"
   ]
  },
  {
   "cell_type": "code",
   "execution_count": 54,
   "id": "da2281e0",
   "metadata": {},
   "outputs": [],
   "source": [
    "import time\n",
    "class Timer:\n",
    "    def __init__(self):\n",
    "        self.start = time.time()\n",
    "    def __call__(self):\n",
    "        return time.time() - self.start \n",
    "    "
   ]
  },
  {
   "cell_type": "code",
   "execution_count": 60,
   "id": "4e37725d",
   "metadata": {},
   "outputs": [],
   "source": [
    "t=Timer()"
   ]
  },
  {
   "cell_type": "code",
   "execution_count": 56,
   "id": "5bfa2b4e",
   "metadata": {},
   "outputs": [
    {
     "data": {
      "text/plain": [
       "True"
      ]
     },
     "execution_count": 56,
     "metadata": {},
     "output_type": "execute_result"
    }
   ],
   "source": [
    "callable(t)"
   ]
  },
  {
   "cell_type": "code",
   "execution_count": 61,
   "id": "30277083",
   "metadata": {},
   "outputs": [
    {
     "data": {
      "text/plain": [
       "1.8963406085968018"
      ]
     },
     "execution_count": 61,
     "metadata": {},
     "output_type": "execute_result"
    }
   ],
   "source": [
    "t()"
   ]
  },
  {
   "cell_type": "code",
   "execution_count": 62,
   "id": "bafc6f12",
   "metadata": {},
   "outputs": [
    {
     "data": {
      "text/plain": [
       "4.153720378875732"
      ]
     },
     "execution_count": 62,
     "metadata": {},
     "output_type": "execute_result"
    }
   ],
   "source": [
    "t()"
   ]
  },
  {
   "cell_type": "code",
   "execution_count": 74,
   "id": "d3c720a8",
   "metadata": {},
   "outputs": [],
   "source": [
    "def timer():\n",
    "    start = time.time()\n",
    "    def inner():\n",
    "        end = time.time()\n",
    "        return end-start\n",
    "    return inner \n",
    "        "
   ]
  },
  {
   "cell_type": "code",
   "execution_count": 75,
   "id": "cbe2eda5",
   "metadata": {},
   "outputs": [],
   "source": [
    "t = timer()"
   ]
  },
  {
   "cell_type": "code",
   "execution_count": 76,
   "id": "315f82b2",
   "metadata": {},
   "outputs": [
    {
     "data": {
      "text/plain": [
       "<function __main__.timer.<locals>.inner()>"
      ]
     },
     "execution_count": 76,
     "metadata": {},
     "output_type": "execute_result"
    }
   ],
   "source": [
    "t"
   ]
  },
  {
   "cell_type": "code",
   "execution_count": 77,
   "id": "607d9643",
   "metadata": {},
   "outputs": [
    {
     "data": {
      "text/plain": [
       "(<cell at 0x000001B9132B5F70: float object at 0x000001B91305E4F0>,)"
      ]
     },
     "execution_count": 77,
     "metadata": {},
     "output_type": "execute_result"
    }
   ],
   "source": [
    "t.__closure__"
   ]
  },
  {
   "cell_type": "code",
   "execution_count": 78,
   "id": "b6839e73",
   "metadata": {},
   "outputs": [
    {
     "data": {
      "text/plain": [
       "4.102257966995239"
      ]
     },
     "execution_count": 78,
     "metadata": {},
     "output_type": "execute_result"
    }
   ],
   "source": [
    "t()"
   ]
  },
  {
   "cell_type": "code",
   "execution_count": 79,
   "id": "f17489ef",
   "metadata": {},
   "outputs": [
    {
     "data": {
      "text/plain": [
       "5.139400482177734"
      ]
     },
     "execution_count": 79,
     "metadata": {},
     "output_type": "execute_result"
    }
   ],
   "source": [
    "t()"
   ]
  },
  {
   "cell_type": "markdown",
   "id": "ff05dca2",
   "metadata": {},
   "source": [
    "# TODO : can we have a nested closure ? "
   ]
  },
  {
   "cell_type": "code",
   "execution_count": null,
   "id": "59099af0",
   "metadata": {},
   "outputs": [],
   "source": []
  }
 ],
 "metadata": {
  "kernelspec": {
   "display_name": "Python 3",
   "language": "python",
   "name": "python3"
  },
  "language_info": {
   "codemirror_mode": {
    "name": "ipython",
    "version": 3
   },
   "file_extension": ".py",
   "mimetype": "text/x-python",
   "name": "python",
   "nbconvert_exporter": "python",
   "pygments_lexer": "ipython3",
   "version": "3.9.6"
  }
 },
 "nbformat": 4,
 "nbformat_minor": 5
}
