{
 "cells": [
  {
   "cell_type": "markdown",
   "id": "a4087c02",
   "metadata": {},
   "source": [
    "# Free Variables ( free vars )"
   ]
  },
  {
   "cell_type": "code",
   "execution_count": 1,
   "id": "d6b31524",
   "metadata": {},
   "outputs": [],
   "source": [
    "def func():\n",
    "    n = 10 \n",
    "    print(id(n))\n",
    "    \n",
    "    def funcy():\n",
    "        print(id(n))\n",
    "        print(n+10)\n",
    "    print(' End of function {}'.format(func.__class__.__name__))\n",
    "    return funcy\n",
    "        "
   ]
  },
  {
   "cell_type": "code",
   "execution_count": 2,
   "id": "ab33ce23",
   "metadata": {},
   "outputs": [
    {
     "data": {
      "text/plain": [
       "<function globals()>"
      ]
     },
     "execution_count": 2,
     "metadata": {},
     "output_type": "execute_result"
    }
   ],
   "source": [
    "globals"
   ]
  },
  {
   "cell_type": "code",
   "execution_count": 3,
   "id": "e2e028d6",
   "metadata": {},
   "outputs": [
    {
     "name": "stdout",
     "output_type": "stream",
     "text": [
      "Help on built-in function globals in module builtins:\n",
      "\n",
      "globals()\n",
      "    Return the dictionary containing the current scope's global variables.\n",
      "    \n",
      "    NOTE: Updates to this dictionary *will* affect name lookups in the current\n",
      "    global scope and vice-versa.\n",
      "\n"
     ]
    }
   ],
   "source": [
    "help(globals)"
   ]
  },
  {
   "cell_type": "code",
   "execution_count": 4,
   "id": "e2d7dd24",
   "metadata": {},
   "outputs": [
    {
     "data": {
      "text/plain": [
       "True"
      ]
     },
     "execution_count": 4,
     "metadata": {},
     "output_type": "execute_result"
    }
   ],
   "source": [
    "callable(globals)"
   ]
  },
  {
   "cell_type": "code",
   "execution_count": 5,
   "id": "60d7b503",
   "metadata": {},
   "outputs": [
    {
     "data": {
      "text/plain": [
       "{'__name__': '__main__',\n",
       " '__doc__': 'Automatically created module for IPython interactive environment',\n",
       " '__package__': None,\n",
       " '__loader__': None,\n",
       " '__spec__': None,\n",
       " '__builtin__': <module 'builtins' (built-in)>,\n",
       " '__builtins__': <module 'builtins' (built-in)>,\n",
       " '_ih': ['',\n",
       "  \"def func():\\n    n = 10 \\n    print(id(n))\\n    \\n    def funcy():\\n        print(id(n))\\n        print(n+10)\\n    print(' End of function {}'.format(func.__class__.__name__))\\n    return funcy\\n        \",\n",
       "  'globals',\n",
       "  'help(globals)',\n",
       "  'callable(globals)',\n",
       "  'globals()'],\n",
       " '_oh': {2: <function globals()>, 4: True},\n",
       " '_dh': ['C:\\\\Users\\\\soman\\\\TE_BATCH2_PYTHON\\\\W05D03'],\n",
       " 'In': ['',\n",
       "  \"def func():\\n    n = 10 \\n    print(id(n))\\n    \\n    def funcy():\\n        print(id(n))\\n        print(n+10)\\n    print(' End of function {}'.format(func.__class__.__name__))\\n    return funcy\\n        \",\n",
       "  'globals',\n",
       "  'help(globals)',\n",
       "  'callable(globals)',\n",
       "  'globals()'],\n",
       " 'Out': {2: <function globals()>, 4: True},\n",
       " 'get_ipython': <bound method InteractiveShell.get_ipython of <ipykernel.zmqshell.ZMQInteractiveShell object at 0x0000023BE716E670>>,\n",
       " 'exit': <IPython.core.autocall.ZMQExitAutocall at 0x23be716e8b0>,\n",
       " 'quit': <IPython.core.autocall.ZMQExitAutocall at 0x23be716e8b0>,\n",
       " '_': True,\n",
       " '__': <function globals()>,\n",
       " '___': '',\n",
       " '_i': 'callable(globals)',\n",
       " '_ii': 'help(globals)',\n",
       " '_iii': 'globals',\n",
       " '_i1': \"def func():\\n    n = 10 \\n    print(id(n))\\n    \\n    def funcy():\\n        print(id(n))\\n        print(n+10)\\n    print(' End of function {}'.format(func.__class__.__name__))\\n    return funcy\\n        \",\n",
       " 'func': <function __main__.func()>,\n",
       " '_i2': 'globals',\n",
       " '_2': <function globals()>,\n",
       " '_i3': 'help(globals)',\n",
       " '_i4': 'callable(globals)',\n",
       " '_4': True,\n",
       " '_i5': 'globals()'}"
      ]
     },
     "execution_count": 5,
     "metadata": {},
     "output_type": "execute_result"
    }
   ],
   "source": [
    "globals()"
   ]
  },
  {
   "cell_type": "code",
   "execution_count": 15,
   "id": "5c8d6ebf",
   "metadata": {},
   "outputs": [],
   "source": [
    "def func():\n",
    "    n = 10 \n",
    "    print(id(n))\n",
    "    \n",
    "    def funcy():\n",
    "        print(id(n))\n",
    "        print(n+10)\n",
    "    print(' End of function {}'.format(func.__class__.__name__))\n",
    "    return funcy\n",
    "        "
   ]
  },
  {
   "cell_type": "code",
   "execution_count": 17,
   "id": "05a58292",
   "metadata": {},
   "outputs": [
    {
     "name": "stdout",
     "output_type": "stream",
     "text": [
      "2456233994832\n",
      " End of function function\n"
     ]
    }
   ],
   "source": [
    "fn = func()"
   ]
  },
  {
   "cell_type": "code",
   "execution_count": 20,
   "id": "e0e5f529",
   "metadata": {},
   "outputs": [
    {
     "name": "stdout",
     "output_type": "stream",
     "text": [
      "2456233994832\n",
      "20\n"
     ]
    }
   ],
   "source": [
    "fn()"
   ]
  },
  {
   "cell_type": "code",
   "execution_count": 23,
   "id": "2ace9271",
   "metadata": {},
   "outputs": [
    {
     "data": {
      "text/plain": [
       "(<cell at 0x0000023BE71F19A0: int object at 0x0000023BE2F46A50>,)"
      ]
     },
     "execution_count": 23,
     "metadata": {},
     "output_type": "execute_result"
    }
   ],
   "source": [
    "fn.__closure__"
   ]
  },
  {
   "cell_type": "code",
   "execution_count": 24,
   "id": "4a67a457",
   "metadata": {},
   "outputs": [
    {
     "data": {
      "text/plain": [
       "tuple"
      ]
     },
     "execution_count": 24,
     "metadata": {},
     "output_type": "execute_result"
    }
   ],
   "source": [
    "type(fn.__closure__)"
   ]
  },
  {
   "cell_type": "markdown",
   "id": "ded24b9e",
   "metadata": {},
   "source": [
    "`` To see the nonlocal variables ``"
   ]
  },
  {
   "cell_type": "code",
   "execution_count": 25,
   "id": "6f74207e",
   "metadata": {},
   "outputs": [
    {
     "data": {
      "text/plain": [
       "0"
      ]
     },
     "execution_count": 25,
     "metadata": {},
     "output_type": "execute_result"
    }
   ],
   "source": [
    "fn.__code__.co_nlocals"
   ]
  },
  {
   "cell_type": "code",
   "execution_count": 26,
   "id": "1244a26e",
   "metadata": {},
   "outputs": [],
   "source": [
    "def func():\n",
    "    n = 10 \n",
    "    print(id(n))\n",
    "    \n",
    "    def funcy():\n",
    "        msg = 'Test message'\n",
    "        print(id(n))\n",
    "        print(n+10)\n",
    "    print(' End of function {}'.format(func.__class__.__name__))\n",
    "    return funcy\n",
    "        "
   ]
  },
  {
   "cell_type": "code",
   "execution_count": 27,
   "id": "06380b06",
   "metadata": {},
   "outputs": [
    {
     "name": "stdout",
     "output_type": "stream",
     "text": [
      "2456233994832\n",
      " End of function function\n"
     ]
    }
   ],
   "source": [
    "fn = func()"
   ]
  },
  {
   "cell_type": "code",
   "execution_count": 28,
   "id": "84cf7e19",
   "metadata": {},
   "outputs": [
    {
     "name": "stdout",
     "output_type": "stream",
     "text": [
      "2456233994832\n",
      "20\n"
     ]
    }
   ],
   "source": [
    "fn()"
   ]
  },
  {
   "cell_type": "code",
   "execution_count": 29,
   "id": "d152f568",
   "metadata": {},
   "outputs": [
    {
     "data": {
      "text/plain": [
       "1"
      ]
     },
     "execution_count": 29,
     "metadata": {},
     "output_type": "execute_result"
    }
   ],
   "source": [
    "fn.__code__.co_nlocals"
   ]
  },
  {
   "cell_type": "code",
   "execution_count": 30,
   "id": "a77ef11b",
   "metadata": {},
   "outputs": [
    {
     "data": {
      "text/plain": [
       "(<cell at 0x0000023BE714BB80: int object at 0x0000023BE2F46A50>,)"
      ]
     },
     "execution_count": 30,
     "metadata": {},
     "output_type": "execute_result"
    }
   ],
   "source": [
    "fn.__closure__"
   ]
  },
  {
   "cell_type": "code",
   "execution_count": 31,
   "id": "5ce19c91",
   "metadata": {},
   "outputs": [
    {
     "data": {
      "text/plain": [
       "<cell at 0x0000023BE714BB80: int object at 0x0000023BE2F46A50>"
      ]
     },
     "execution_count": 31,
     "metadata": {},
     "output_type": "execute_result"
    }
   ],
   "source": [
    "fn.__closure__[0]"
   ]
  },
  {
   "cell_type": "code",
   "execution_count": 32,
   "id": "34beaaa3",
   "metadata": {},
   "outputs": [
    {
     "data": {
      "text/plain": [
       "10"
      ]
     },
     "execution_count": 32,
     "metadata": {},
     "output_type": "execute_result"
    }
   ],
   "source": [
    "fn.__closure__[0].cell_contents"
   ]
  },
  {
   "cell_type": "code",
   "execution_count": null,
   "id": "0f246446",
   "metadata": {},
   "outputs": [],
   "source": []
  }
 ],
 "metadata": {
  "kernelspec": {
   "display_name": "Python 3",
   "language": "python",
   "name": "python3"
  },
  "language_info": {
   "codemirror_mode": {
    "name": "ipython",
    "version": 3
   },
   "file_extension": ".py",
   "mimetype": "text/x-python",
   "name": "python",
   "nbconvert_exporter": "python",
   "pygments_lexer": "ipython3",
   "version": "3.9.6"
  }
 },
 "nbformat": 4,
 "nbformat_minor": 5
}
