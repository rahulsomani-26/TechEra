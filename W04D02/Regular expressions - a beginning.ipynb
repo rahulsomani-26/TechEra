{
 "cells": [
  {
   "cell_type": "markdown",
   "id": "20e37556",
   "metadata": {},
   "source": [
    "# Regular Expressions "
   ]
  },
  {
   "cell_type": "markdown",
   "id": "c02d7c86",
   "metadata": {},
   "source": [
    "`` Often known as re, or regex `` \n",
    "\n",
    "`` Regular Expression is a very efficient technique to search, replace ``\n",
    "\n",
    "`` The re module is implemented in 'c' language and that is why it is quite fast as well as efficient ``"
   ]
  },
  {
   "cell_type": "code",
   "execution_count": 2,
   "id": "d797fa31",
   "metadata": {},
   "outputs": [],
   "source": [
    "msg = \"\"\"This is a world of programmers, AI, ML. For any learning please contact \n",
    "         Mr Aaksh, the CEO of F5 at 7394387390. You can also drop a 7484748 mail at akash@f5.com\"\"\"\n"
   ]
  },
  {
   "cell_type": "code",
   "execution_count": 3,
   "id": "2823e7c5",
   "metadata": {},
   "outputs": [
    {
     "data": {
      "text/plain": [
       "'This is a world of programmers, AI, ML. For any learning please contact \\n         Mr Aaksh, the CEO of F5 at 7394387390. You can also drop a mail at akash@f5.com'"
      ]
     },
     "execution_count": 3,
     "metadata": {},
     "output_type": "execute_result"
    }
   ],
   "source": [
    "msg"
   ]
  },
  {
   "cell_type": "markdown",
   "id": "606e6bb1",
   "metadata": {},
   "source": [
    "`` Steps involved ``\n",
    "\n",
    "`` 1. import the module re ``\n",
    "\n",
    "`` 2. create a pattern which you want to search for `` \n",
    "\n",
    "`` 3. Then use the re functions to do the needfull ``\n"
   ]
  },
  {
   "cell_type": "code",
   "execution_count": 4,
   "id": "f0eb7262",
   "metadata": {},
   "outputs": [
    {
     "data": {
      "text/plain": [
       "'3'"
      ]
     },
     "execution_count": 4,
     "metadata": {},
     "output_type": "execute_result"
    }
   ],
   "source": [
    "import re \n",
    "pattern = r'\\d'  # \\d --> digit \n",
    "text = 'My age is 35'\n",
    "result = re.search(pattern,text)\n",
    "result.group()"
   ]
  },
  {
   "cell_type": "code",
   "execution_count": 5,
   "id": "c36593e1",
   "metadata": {},
   "outputs": [
    {
     "data": {
      "text/plain": [
       "'35'"
      ]
     },
     "execution_count": 5,
     "metadata": {},
     "output_type": "execute_result"
    }
   ],
   "source": [
    "import re \n",
    "pattern = r'\\d\\d'  # \\d --> digit \n",
    "text = 'My age is 35'\n",
    "result = re.search(pattern,text)\n",
    "result.group()"
   ]
  },
  {
   "cell_type": "markdown",
   "id": "45088529",
   "metadata": {},
   "source": [
    "`` create a string . Give any random phone numbers and some text. Find the phone number ``\n",
    "\n",
    "`` using re module `` "
   ]
  },
  {
   "cell_type": "code",
   "execution_count": 7,
   "id": "28b57430",
   "metadata": {},
   "outputs": [
    {
     "name": "stdout",
     "output_type": "stream",
     "text": [
      " Hey your number is 1234638373838937393739\n"
     ]
    }
   ],
   "source": [
    "pattern = r'\\d+'\n",
    "result = re.search(pattern,'My name is Rahul and my phone is 1234638373838937393739')\n",
    "print(' Hey your number is {}'.format(result.group()))"
   ]
  },
  {
   "cell_type": "code",
   "execution_count": 9,
   "id": "f5a6ed93",
   "metadata": {},
   "outputs": [
    {
     "name": "stdout",
     "output_type": "stream",
     "text": [
      "<re.Match object; span=(33, 55), match='1234638373838937393739'> <class 're.Match'>\n",
      "['__class__', '__class_getitem__', '__copy__', '__deepcopy__', '__delattr__', '__dir__', '__doc__', '__eq__', '__format__', '__ge__', '__getattribute__', '__getitem__', '__gt__', '__hash__', '__init__', '__init_subclass__', '__le__', '__lt__', '__ne__', '__new__', '__reduce__', '__reduce_ex__', '__repr__', '__setattr__', '__sizeof__', '__str__', '__subclasshook__', 'end', 'endpos', 'expand', 'group', 'groupdict', 'groups', 'lastgroup', 'lastindex', 'pos', 're', 'regs', 'span', 'start', 'string']\n"
     ]
    }
   ],
   "source": [
    "print(result,type(result))\n",
    "print(dir(result))"
   ]
  },
  {
   "cell_type": "code",
   "execution_count": 10,
   "id": "d4dc64f6",
   "metadata": {},
   "outputs": [
    {
     "data": {
      "text/plain": [
       "<function Match.group>"
      ]
     },
     "execution_count": 10,
     "metadata": {},
     "output_type": "execute_result"
    }
   ],
   "source": [
    "result.group"
   ]
  },
  {
   "cell_type": "code",
   "execution_count": 11,
   "id": "57bb105f",
   "metadata": {},
   "outputs": [
    {
     "name": "stdout",
     "output_type": "stream",
     "text": [
      "Help on built-in function group:\n",
      "\n",
      "group(...) method of re.Match instance\n",
      "    group([group1, ...]) -> str or tuple.\n",
      "    Return subgroup(s) of the match by indices or names.\n",
      "    For 0 returns the entire match.\n",
      "\n"
     ]
    }
   ],
   "source": [
    "help(result.group)"
   ]
  },
  {
   "cell_type": "code",
   "execution_count": 12,
   "id": "272724a0",
   "metadata": {},
   "outputs": [
    {
     "data": {
      "text/plain": [
       "<function Match.start(group=0, /)>"
      ]
     },
     "execution_count": 12,
     "metadata": {},
     "output_type": "execute_result"
    }
   ],
   "source": [
    "result.start"
   ]
  },
  {
   "cell_type": "code",
   "execution_count": 13,
   "id": "cc53722c",
   "metadata": {},
   "outputs": [
    {
     "data": {
      "text/plain": [
       "33"
      ]
     },
     "execution_count": 13,
     "metadata": {},
     "output_type": "execute_result"
    }
   ],
   "source": [
    "result.start()"
   ]
  },
  {
   "cell_type": "code",
   "execution_count": 14,
   "id": "e281b414",
   "metadata": {},
   "outputs": [
    {
     "data": {
      "text/plain": [
       "<function Match.end(group=0, /)>"
      ]
     },
     "execution_count": 14,
     "metadata": {},
     "output_type": "execute_result"
    }
   ],
   "source": [
    "result.end"
   ]
  },
  {
   "cell_type": "code",
   "execution_count": 15,
   "id": "92254409",
   "metadata": {},
   "outputs": [
    {
     "data": {
      "text/plain": [
       "55"
      ]
     },
     "execution_count": 15,
     "metadata": {},
     "output_type": "execute_result"
    }
   ],
   "source": [
    "result.end()"
   ]
  },
  {
   "cell_type": "code",
   "execution_count": 16,
   "id": "9d000bfb",
   "metadata": {},
   "outputs": [
    {
     "data": {
      "text/plain": [
       "<function Match.span(group=0, /)>"
      ]
     },
     "execution_count": 16,
     "metadata": {},
     "output_type": "execute_result"
    }
   ],
   "source": [
    "result.span"
   ]
  },
  {
   "cell_type": "code",
   "execution_count": 17,
   "id": "3771958d",
   "metadata": {},
   "outputs": [
    {
     "data": {
      "text/plain": [
       "(33, 55)"
      ]
     },
     "execution_count": 17,
     "metadata": {},
     "output_type": "execute_result"
    }
   ],
   "source": [
    "result.span()"
   ]
  },
  {
   "cell_type": "code",
   "execution_count": 19,
   "id": "c461eadb",
   "metadata": {},
   "outputs": [
    {
     "name": "stdout",
     "output_type": "stream",
     "text": [
      " Hey your data is M\n"
     ]
    }
   ],
   "source": [
    "pattern = r'\\D'\n",
    "result = re.search(pattern,'My name is Rahul and my phone is 1234638373838937393739')\n",
    "print(' Hey your data is {}'.format(result.group()))"
   ]
  },
  {
   "cell_type": "code",
   "execution_count": 29,
   "id": "5f923165",
   "metadata": {},
   "outputs": [
    {
     "name": "stdout",
     "output_type": "stream",
     "text": [
      " Hey your data is 12-46-38-37-38-38-93-73-93-73-\n"
     ]
    }
   ],
   "source": [
    "pattern = r'(\\d\\d-)+'\n",
    "result = re.search(pattern,'My name is Rahul and my phone is 12-46-38-37-38-38-93-73-93-73-97')\n",
    "print(' Hey your data is {}'.format(result.group()))"
   ]
  },
  {
   "cell_type": "code",
   "execution_count": 30,
   "id": "9f5ef6c7",
   "metadata": {},
   "outputs": [
    {
     "data": {
      "text/plain": [
       "\"Saida's email id is saida@gmail.com\""
      ]
     },
     "execution_count": 30,
     "metadata": {},
     "output_type": "execute_result"
    }
   ],
   "source": [
    "msg = \"Saida's email id is saida@gmail.com\"\n",
    "msg"
   ]
  },
  {
   "cell_type": "code",
   "execution_count": 36,
   "id": "32f06ff0",
   "metadata": {},
   "outputs": [
    {
     "name": "stdout",
     "output_type": "stream",
     "text": [
      "hey there this is your email a7885498540985@gmailyce.comed\n"
     ]
    }
   ],
   "source": [
    "msg = 'hey my mail id is a7885498540985@gmailyce.comed'\n",
    "pattern=r'\\w+\\d+@\\w+.\\w+'\n",
    "result=re.search(pattern,msg)\n",
    "print('hey there this is your email {}'.format(result.group()))"
   ]
  },
  {
   "cell_type": "code",
   "execution_count": 39,
   "id": "fa6fdc09",
   "metadata": {},
   "outputs": [
    {
     "name": "stdout",
     "output_type": "stream",
     "text": [
      "<re.Match object; span=(0, 23), match='This is . what she says'>\n"
     ]
    }
   ],
   "source": [
    "konka_says = 'This is . what she says'\n",
    "pattern = r'.+'\n",
    "result = re.search(pattern,konka_says)\n",
    "print(result)"
   ]
  },
  {
   "cell_type": "code",
   "execution_count": 40,
   "id": "e2fd393b",
   "metadata": {},
   "outputs": [
    {
     "name": "stdout",
     "output_type": "stream",
     "text": [
      "Help on function search in module re:\n",
      "\n",
      "search(pattern, string, flags=0)\n",
      "    Scan through string looking for a match to the pattern, returning\n",
      "    a Match object, or None if no match was found.\n",
      "\n"
     ]
    }
   ],
   "source": [
    "help(re.search)"
   ]
  },
  {
   "cell_type": "code",
   "execution_count": null,
   "id": "3d764fe1",
   "metadata": {},
   "outputs": [],
   "source": []
  },
  {
   "cell_type": "code",
   "execution_count": 47,
   "id": "c2ec61bd",
   "metadata": {},
   "outputs": [
    {
     "name": "stdout",
     "output_type": "stream",
     "text": [
      "<re.Match object; span=(0, 1), match='H'>\n"
     ]
    }
   ],
   "source": [
    "akash_problem = \"Hi I am an upper case AAKASH. Try finding me \"\n",
    "pattern = r'[A-Z]+'\n",
    "result = re.search(pattern,akash_problem)\n",
    "print(result)\n"
   ]
  },
  {
   "cell_type": "code",
   "execution_count": 48,
   "id": "db02c089",
   "metadata": {},
   "outputs": [
    {
     "name": "stdout",
     "output_type": "stream",
     "text": [
      "['A', 'ASCII', 'DEBUG', 'DOTALL', 'I', 'IGNORECASE', 'L', 'LOCALE', 'M', 'MULTILINE', 'Match', 'Pattern', 'RegexFlag', 'S', 'Scanner', 'T', 'TEMPLATE', 'U', 'UNICODE', 'VERBOSE', 'X', '_MAXCACHE', '__all__', '__builtins__', '__cached__', '__doc__', '__file__', '__loader__', '__name__', '__package__', '__spec__', '__version__', '_cache', '_compile', '_compile_repl', '_expand', '_locale', '_pickle', '_special_chars_map', '_subx', 'compile', 'copyreg', 'enum', 'error', 'escape', 'findall', 'finditer', 'fullmatch', 'functools', 'match', 'purge', 'search', 'split', 'sre_compile', 'sre_parse', 'sub', 'subn', 'template']\n"
     ]
    }
   ],
   "source": [
    "print(dir(re))"
   ]
  },
  {
   "cell_type": "code",
   "execution_count": 69,
   "id": "cf0807ee",
   "metadata": {},
   "outputs": [
    {
     "data": {
      "text/plain": [
       "<re.Match object; span=(9, 14), match='AKASH'>"
      ]
     },
     "execution_count": 69,
     "metadata": {},
     "output_type": "execute_result"
    }
   ],
   "source": [
    "# Finding case sensitive characters \n",
    "p = r'[A-Z]+'\n",
    "r = re.search(p,'hey i am AKASH')\n",
    "r\n"
   ]
  },
  {
   "cell_type": "code",
   "execution_count": 70,
   "id": "d236e91e",
   "metadata": {},
   "outputs": [],
   "source": [
    "msg = \"\"\"\n",
    "      Hello I am XYZ and \n",
    "      my two mail id are \n",
    "      xyz@gmail.com and xyzyp@hotmail.com\n",
    "      \"\"\"\n",
    "\n",
    "pattern = r'\\w+@\\w+.\\w+'\n",
    "result = re.findall(pattern,msg)"
   ]
  },
  {
   "cell_type": "code",
   "execution_count": 71,
   "id": "630b221e",
   "metadata": {},
   "outputs": [
    {
     "data": {
      "text/plain": [
       "['xyz@gmail.com', 'xyzyp@hotmail.com']"
      ]
     },
     "execution_count": 71,
     "metadata": {},
     "output_type": "execute_result"
    }
   ],
   "source": [
    "result"
   ]
  },
  {
   "cell_type": "code",
   "execution_count": 72,
   "id": "0ed20769",
   "metadata": {},
   "outputs": [
    {
     "data": {
      "text/plain": [
       "list"
      ]
     },
     "execution_count": 72,
     "metadata": {},
     "output_type": "execute_result"
    }
   ],
   "source": [
    "type(result)"
   ]
  },
  {
   "cell_type": "markdown",
   "id": "a593dac7",
   "metadata": {},
   "source": [
    "# Creating our own character class \n",
    "\n",
    "`` [] is used to represent a character class. A character class consists \n",
    "   of set of characters we want to match or find.  ``\n",
    "    \n",
    "`` E.g [AbC] will find any of 'A', 'b' or 'C' ``\n",
    "\n",
    " `` [A-Z] will find for the characters A-Z `` \n",
    " \n",
    " `` [AEIOU] `` \n",
    "    \n",
    " \n",
    "  \n"
   ]
  },
  {
   "cell_type": "code",
   "execution_count": 73,
   "id": "7b37f3ab",
   "metadata": {},
   "outputs": [
    {
     "name": "stdout",
     "output_type": "stream",
     "text": [
      "(0, 1)\n"
     ]
    }
   ],
   "source": [
    "text = \" Hi I am Rahul\"\n",
    "pattern = r'\\s'\n",
    "result = re.search(pattern,text)\n",
    "print(result.span())\n"
   ]
  },
  {
   "cell_type": "code",
   "execution_count": 74,
   "id": "ad68fee4",
   "metadata": {},
   "outputs": [
    {
     "name": "stdout",
     "output_type": "stream",
     "text": [
      "(2, 3)\n"
     ]
    }
   ],
   "source": [
    "text = \"Hi I am Rahul\"\n",
    "pattern = r'\\s'\n",
    "result = re.search(pattern,text)\n",
    "print(result.span())\n"
   ]
  },
  {
   "cell_type": "code",
   "execution_count": 76,
   "id": "9cce9435",
   "metadata": {},
   "outputs": [
    {
     "name": "stdout",
     "output_type": "stream",
     "text": [
      "(2, 5)\n"
     ]
    }
   ],
   "source": [
    "text = \"Hi   I am Rahul\"\n",
    "pattern = r'\\s+'\n",
    "result = re.search(pattern,text)\n",
    "print(result.span())\n"
   ]
  },
  {
   "cell_type": "markdown",
   "id": "525c52e4",
   "metadata": {},
   "source": [
    "# Inverting a character class \n",
    "\n",
    "``syntax: [^0-9]  means all but excluding 0-9 ``"
   ]
  },
  {
   "cell_type": "code",
   "execution_count": 78,
   "id": "9fa15f0b",
   "metadata": {},
   "outputs": [
    {
     "name": "stdout",
     "output_type": "stream",
     "text": [
      "<re.Match object; span=(3, 4), match=' '>\n"
     ]
    }
   ],
   "source": [
    "msg = '123 This is my number 8525376'\n",
    "pattern = r'[^0-9]'\n",
    "result = re.search(pattern,msg)\n",
    "print(result)"
   ]
  },
  {
   "cell_type": "markdown",
   "id": "81b005ba",
   "metadata": {},
   "source": [
    "# ^ : - The carret symbol\n",
    "\n",
    "`` It matches the beginning of a string ``"
   ]
  },
  {
   "cell_type": "code",
   "execution_count": 79,
   "id": "7203c009",
   "metadata": {},
   "outputs": [
    {
     "name": "stdout",
     "output_type": "stream",
     "text": [
      "<re.Match object; span=(0, 1), match='T'>\n"
     ]
    }
   ],
   "source": [
    "msg = 'This is my number 8525376'\n",
    "pattern = r'^T'\n",
    "result = re.search(pattern,msg)\n",
    "print(result)"
   ]
  },
  {
   "cell_type": "code",
   "execution_count": 80,
   "id": "78c31aa8",
   "metadata": {},
   "outputs": [
    {
     "name": "stdout",
     "output_type": "stream",
     "text": [
      "<re.Match object; span=(0, 4), match='This'>\n"
     ]
    }
   ],
   "source": [
    "msg = 'This is my number 8525376'\n",
    "pattern = r'^This'\n",
    "result = re.search(pattern,msg)\n",
    "print(result)"
   ]
  },
  {
   "cell_type": "code",
   "execution_count": 83,
   "id": "b32a931b",
   "metadata": {},
   "outputs": [
    {
     "data": {
      "text/plain": [
       "('This', (0, 4), 0, 4)"
      ]
     },
     "execution_count": 83,
     "metadata": {},
     "output_type": "execute_result"
    }
   ],
   "source": [
    "result.group(), result.span(), result.start(), result.end()"
   ]
  },
  {
   "cell_type": "markdown",
   "id": "3a9ac861",
   "metadata": {},
   "source": [
    "# Dollar, $ will look for a match at the end of the string \n",
    "\n",
    "`` Eg. r'end$'``"
   ]
  },
  {
   "cell_type": "code",
   "execution_count": 84,
   "id": "7b49a2b6",
   "metadata": {},
   "outputs": [
    {
     "name": "stdout",
     "output_type": "stream",
     "text": [
      "<re.Match object; span=(15, 17), match='er'>\n"
     ]
    }
   ],
   "source": [
    "msg = 'This is my number'\n",
    "pattern = r'er$'\n",
    "result = re.search(pattern,msg)\n",
    "print(result)"
   ]
  },
  {
   "cell_type": "code",
   "execution_count": 85,
   "id": "0359606d",
   "metadata": {},
   "outputs": [
    {
     "name": "stdout",
     "output_type": "stream",
     "text": [
      "<re.Match object; span=(11, 17), match='number'>\n"
     ]
    }
   ],
   "source": [
    "msg = 'This is my number'\n",
    "pattern = r'number$'\n",
    "result = re.search(pattern,msg)\n",
    "print(result)"
   ]
  },
  {
   "cell_type": "markdown",
   "id": "21b04835",
   "metadata": {},
   "source": [
    "###  Dot . will match for any single character ( excluding a new line character)"
   ]
  },
  {
   "cell_type": "markdown",
   "id": "998f573f",
   "metadata": {},
   "source": [
    "### Plus ( + ) will match for one or more occurences of the pattern "
   ]
  },
  {
   "cell_type": "markdown",
   "id": "e1a4f40e",
   "metadata": {},
   "source": [
    "### Star ( * ) will match for zero or more occurences\n",
    "\n",
    "`` Example:  ab*c will match abbc, abc, ac, abbc ``"
   ]
  },
  {
   "cell_type": "code",
   "execution_count": 87,
   "id": "36f16ed7",
   "metadata": {},
   "outputs": [
    {
     "name": "stdout",
     "output_type": "stream",
     "text": [
      "<re.Match object; span=(11, 14), match='num'>\n"
     ]
    }
   ],
   "source": [
    "msg = 'This is my number'\n",
    "pattern = r'nu*m'\n",
    "result = re.search(pattern,msg)\n",
    "print(result)"
   ]
  },
  {
   "cell_type": "code",
   "execution_count": 90,
   "id": "71cff970",
   "metadata": {},
   "outputs": [
    {
     "name": "stdout",
     "output_type": "stream",
     "text": [
      "['This', 'is', 'my', 'numeber']\n"
     ]
    }
   ],
   "source": [
    "msg = 'This is my numeber'\n",
    "pattern = r'\\S+'\n",
    "result = re.findall(pattern,msg)\n",
    "print(result)"
   ]
  },
  {
   "cell_type": "code",
   "execution_count": 91,
   "id": "4e7d4068",
   "metadata": {},
   "outputs": [
    {
     "data": {
      "text/plain": [
       "True"
      ]
     },
     "execution_count": 91,
     "metadata": {},
     "output_type": "execute_result"
    }
   ],
   "source": [
    "'finditer' in dir(re)"
   ]
  },
  {
   "cell_type": "code",
   "execution_count": 92,
   "id": "e4f7065d",
   "metadata": {},
   "outputs": [
    {
     "name": "stdout",
     "output_type": "stream",
     "text": [
      "['A', 'ASCII', 'DEBUG', 'DOTALL', 'I', 'IGNORECASE', 'L', 'LOCALE', 'M', 'MULTILINE', 'Match', 'Pattern', 'RegexFlag', 'S', 'Scanner', 'T', 'TEMPLATE', 'U', 'UNICODE', 'VERBOSE', 'X', '_MAXCACHE', '__all__', '__builtins__', '__cached__', '__doc__', '__file__', '__loader__', '__name__', '__package__', '__spec__', '__version__', '_cache', '_compile', '_compile_repl', '_expand', '_locale', '_pickle', '_special_chars_map', '_subx', 'compile', 'copyreg', 'enum', 'error', 'escape', 'findall', 'finditer', 'fullmatch', 'functools', 'match', 'purge', 'search', 'split', 'sre_compile', 'sre_parse', 'sub', 'subn', 'template']\n"
     ]
    }
   ],
   "source": [
    "print(dir(re))"
   ]
  },
  {
   "cell_type": "code",
   "execution_count": 93,
   "id": "200d9a11",
   "metadata": {},
   "outputs": [
    {
     "name": "stdout",
     "output_type": "stream",
     "text": [
      "Help on function finditer in module re:\n",
      "\n",
      "finditer(pattern, string, flags=0)\n",
      "    Return an iterator over all non-overlapping matches in the\n",
      "    string.  For each match, the iterator returns a Match object.\n",
      "    \n",
      "    Empty matches are included in the result.\n",
      "\n"
     ]
    }
   ],
   "source": [
    "help(re.finditer)"
   ]
  },
  {
   "cell_type": "code",
   "execution_count": 94,
   "id": "59f66d77",
   "metadata": {},
   "outputs": [],
   "source": [
    "msg = 'This is my number'\n",
    "pattern = r'\\S+'\n",
    "result = re.finditer(pattern,msg)\n"
   ]
  },
  {
   "cell_type": "code",
   "execution_count": 95,
   "id": "272c033a",
   "metadata": {},
   "outputs": [
    {
     "data": {
      "text/plain": [
       "<callable_iterator at 0x22c2c957fd0>"
      ]
     },
     "execution_count": 95,
     "metadata": {},
     "output_type": "execute_result"
    }
   ],
   "source": [
    "result"
   ]
  },
  {
   "cell_type": "code",
   "execution_count": 96,
   "id": "5cb3ea22",
   "metadata": {},
   "outputs": [
    {
     "ename": "TypeError",
     "evalue": "'callable_iterator' object is not callable",
     "output_type": "error",
     "traceback": [
      "\u001b[1;31m---------------------------------------------------------------------------\u001b[0m",
      "\u001b[1;31mTypeError\u001b[0m                                 Traceback (most recent call last)",
      "\u001b[1;32m<ipython-input-96-d04a1403ca00>\u001b[0m in \u001b[0;36m<module>\u001b[1;34m\u001b[0m\n\u001b[1;32m----> 1\u001b[1;33m \u001b[0mresult\u001b[0m\u001b[1;33m(\u001b[0m\u001b[1;33m)\u001b[0m\u001b[1;33m\u001b[0m\u001b[1;33m\u001b[0m\u001b[0m\n\u001b[0m",
      "\u001b[1;31mTypeError\u001b[0m: 'callable_iterator' object is not callable"
     ]
    }
   ],
   "source": [
    "result()"
   ]
  },
  {
   "cell_type": "code",
   "execution_count": 97,
   "id": "0be86339",
   "metadata": {},
   "outputs": [
    {
     "name": "stdout",
     "output_type": "stream",
     "text": [
      "<re.Match object; span=(0, 4), match='This'>\n",
      "<re.Match object; span=(5, 7), match='is'>\n",
      "<re.Match object; span=(8, 10), match='my'>\n",
      "<re.Match object; span=(11, 17), match='number'>\n"
     ]
    }
   ],
   "source": [
    "for i in result:\n",
    "    print(i)"
   ]
  },
  {
   "cell_type": "code",
   "execution_count": 99,
   "id": "f51c1830",
   "metadata": {},
   "outputs": [
    {
     "name": "stdout",
     "output_type": "stream",
     "text": [
      "This\n",
      "is\n",
      "my\n",
      "number\n"
     ]
    }
   ],
   "source": [
    "msg = 'This is my number'\n",
    "pattern = r'\\S+'\n",
    "result = re.finditer(pattern,msg)\n",
    "for record in result:\n",
    "    print(record.group())"
   ]
  },
  {
   "cell_type": "code",
   "execution_count": 100,
   "id": "706dacaa",
   "metadata": {},
   "outputs": [
    {
     "name": "stdout",
     "output_type": "stream",
     "text": [
      "['A', 'ASCII', 'DEBUG', 'DOTALL', 'I', 'IGNORECASE', 'L', 'LOCALE', 'M', 'MULTILINE', 'Match', 'Pattern', 'RegexFlag', 'S', 'Scanner', 'T', 'TEMPLATE', 'U', 'UNICODE', 'VERBOSE', 'X', '_MAXCACHE', '__all__', '__builtins__', '__cached__', '__doc__', '__file__', '__loader__', '__name__', '__package__', '__spec__', '__version__', '_cache', '_compile', '_compile_repl', '_expand', '_locale', '_pickle', '_special_chars_map', '_subx', 'compile', 'copyreg', 'enum', 'error', 'escape', 'findall', 'finditer', 'fullmatch', 'functools', 'match', 'purge', 'search', 'split', 'sre_compile', 'sre_parse', 'sub', 'subn', 'template']\n"
     ]
    }
   ],
   "source": [
    "print(dir(re))"
   ]
  },
  {
   "cell_type": "code",
   "execution_count": 107,
   "id": "aba733dc",
   "metadata": {},
   "outputs": [
    {
     "name": "stdout",
     "output_type": "stream",
     "text": [
      "Help on function compile in module re:\n",
      "\n",
      "compile(pattern, flags=0)\n",
      "    Compile a regular expression pattern, returning a Pattern object.\n",
      "\n"
     ]
    }
   ],
   "source": [
    " import re \n",
    " help(re.compile)"
   ]
  },
  {
   "cell_type": "code",
   "execution_count": 111,
   "id": "3b1e2039",
   "metadata": {},
   "outputs": [],
   "source": [
    "compiled_pattern = re.compile(r'\\w{3}')\n",
    "text = \"\"\"\n",
    "      Hey! my name is Ali\n",
    "      My email id is xyz@abc.com \n",
    "      reach me at 7778967\n",
    "      alternatively drop a mail at somani@classes.com\n",
    "      \"\"\"\n",
    "result = re.findall(compiled_pattern,text)\n",
    "\n"
   ]
  },
  {
   "cell_type": "code",
   "execution_count": 113,
   "id": "7b1ae0cf",
   "metadata": {},
   "outputs": [
    {
     "name": "stdout",
     "output_type": "stream",
     "text": [
      "['Hey', 'nam', 'Ali', 'ema', 'xyz', 'abc', 'com', 'rea', '777', '896', 'alt', 'ern', 'ati', 'vel', 'dro', 'mai', 'som', 'ani', 'cla', 'sse', 'com']\n"
     ]
    }
   ],
   "source": [
    "print(result)"
   ]
  },
  {
   "cell_type": "code",
   "execution_count": 114,
   "id": "dd2e60b8",
   "metadata": {},
   "outputs": [],
   "source": [
    "compiled_pattern = re.compile(r'\\w{3,5}')\n",
    "text = \"\"\"\n",
    "      Hey! my name is Ali\n",
    "      My email id is xyz@abc.com \n",
    "      reach me at 7778967\n",
    "      alternatively drop a mail at somani@classes.com\n",
    "      \"\"\"\n",
    "result = re.findall(compiled_pattern,text)\n"
   ]
  },
  {
   "cell_type": "code",
   "execution_count": 115,
   "id": "907fbe06",
   "metadata": {},
   "outputs": [
    {
     "name": "stdout",
     "output_type": "stream",
     "text": [
      "['Hey', 'name', 'Ali', 'email', 'xyz', 'abc', 'com', 'reach', '77789', 'alter', 'nativ', 'ely', 'drop', 'mail', 'soman', 'class', 'com']\n"
     ]
    }
   ],
   "source": [
    "print(result)"
   ]
  },
  {
   "cell_type": "code",
   "execution_count": 116,
   "id": "6bc6af02",
   "metadata": {},
   "outputs": [
    {
     "data": {
      "text/plain": [
       "<function re.sub(pattern, repl, string, count=0, flags=0)>"
      ]
     },
     "execution_count": 116,
     "metadata": {},
     "output_type": "execute_result"
    }
   ],
   "source": [
    "re.sub"
   ]
  },
  {
   "cell_type": "code",
   "execution_count": 117,
   "id": "15311335",
   "metadata": {},
   "outputs": [
    {
     "name": "stdout",
     "output_type": "stream",
     "text": [
      "Help on function sub in module re:\n",
      "\n",
      "sub(pattern, repl, string, count=0, flags=0)\n",
      "    Return the string obtained by replacing the leftmost\n",
      "    non-overlapping occurrences of the pattern in string by the\n",
      "    replacement repl.  repl can be either a string or a callable;\n",
      "    if a string, backslash escapes in it are processed.  If it is\n",
      "    a callable, it's passed the Match object and must return\n",
      "    a replacement string to be used.\n",
      "\n"
     ]
    }
   ],
   "source": [
    "help(re.sub)"
   ]
  },
  {
   "cell_type": "markdown",
   "id": "534b9916",
   "metadata": {},
   "source": [
    "# We will revisit this topic tomorrow"
   ]
  },
  {
   "cell_type": "code",
   "execution_count": null,
   "id": "32feb344",
   "metadata": {},
   "outputs": [],
   "source": []
  }
 ],
 "metadata": {
  "kernelspec": {
   "display_name": "Python 3",
   "language": "python",
   "name": "python3"
  },
  "language_info": {
   "codemirror_mode": {
    "name": "ipython",
    "version": 3
   },
   "file_extension": ".py",
   "mimetype": "text/x-python",
   "name": "python",
   "nbconvert_exporter": "python",
   "pygments_lexer": "ipython3",
   "version": "3.9.6"
  }
 },
 "nbformat": 4,
 "nbformat_minor": 5
}
