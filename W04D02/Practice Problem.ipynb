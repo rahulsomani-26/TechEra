{
 "cells": [
  {
   "cell_type": "markdown",
   "id": "23c06625",
   "metadata": {},
   "source": [
    "# Practice Problems "
   ]
  },
  {
   "cell_type": "code",
   "execution_count": 16,
   "id": "69054a14",
   "metadata": {},
   "outputs": [],
   "source": [
    "def counter(fn):\n",
    "    count = 0 \n",
    "    def inner(*args,**kwargs):\n",
    "        nonlocal count\n",
    "        count+=1\n",
    "        print(' The {} function has been called {} number of times'.format(fn.__name__,count))\n",
    "        return fn(*args,**kwargs)\n",
    "    return inner \n",
    "\n",
    "        "
   ]
  },
  {
   "cell_type": "code",
   "execution_count": 17,
   "id": "d5134ccc",
   "metadata": {},
   "outputs": [],
   "source": [
    "def square(x):\n",
    "    return x**2\n",
    "\n",
    "def cube(x):\n",
    "    return x**3"
   ]
  },
  {
   "cell_type": "code",
   "execution_count": 18,
   "id": "c9ae54e8",
   "metadata": {},
   "outputs": [
    {
     "data": {
      "text/plain": [
       "<function __main__.counter(fn)>"
      ]
     },
     "execution_count": 18,
     "metadata": {},
     "output_type": "execute_result"
    }
   ],
   "source": [
    "counter"
   ]
  },
  {
   "cell_type": "code",
   "execution_count": 19,
   "id": "a10447ac",
   "metadata": {},
   "outputs": [
    {
     "data": {
      "text/plain": [
       "<function __main__.counter.<locals>.inner(*args, **kwargs)>"
      ]
     },
     "execution_count": 19,
     "metadata": {},
     "output_type": "execute_result"
    }
   ],
   "source": [
    "counter(square)"
   ]
  },
  {
   "cell_type": "code",
   "execution_count": 20,
   "id": "7cc28d17",
   "metadata": {},
   "outputs": [],
   "source": [
    "counter = counter(square)"
   ]
  },
  {
   "cell_type": "code",
   "execution_count": 21,
   "id": "daf83a33",
   "metadata": {},
   "outputs": [
    {
     "name": "stdout",
     "output_type": "stream",
     "text": [
      " The square function has been called 1 number of times\n"
     ]
    },
    {
     "data": {
      "text/plain": [
       "9"
      ]
     },
     "execution_count": 21,
     "metadata": {},
     "output_type": "execute_result"
    }
   ],
   "source": [
    "counter(3)"
   ]
  },
  {
   "cell_type": "code",
   "execution_count": 22,
   "id": "d4dc845c",
   "metadata": {},
   "outputs": [
    {
     "name": "stdout",
     "output_type": "stream",
     "text": [
      " The square function has been called 2 number of times\n"
     ]
    },
    {
     "data": {
      "text/plain": [
       "16"
      ]
     },
     "execution_count": 22,
     "metadata": {},
     "output_type": "execute_result"
    }
   ],
   "source": [
    "counter(4)"
   ]
  },
  {
   "cell_type": "code",
   "execution_count": 24,
   "id": "cf3bd241",
   "metadata": {},
   "outputs": [
    {
     "name": "stdout",
     "output_type": "stream",
     "text": [
      "['__repr__', '__call__', '__get__', '__new__', '__closure__', '__doc__', '__globals__', '__module__', '__code__', '__defaults__', '__kwdefaults__', '__annotations__', '__dict__', '__name__', '__qualname__', '__hash__', '__str__', '__getattribute__', '__setattr__', '__delattr__', '__lt__', '__le__', '__eq__', '__ne__', '__gt__', '__ge__', '__init__', '__reduce_ex__', '__reduce__', '__subclasshook__', '__init_subclass__', '__format__', '__sizeof__', '__dir__', '__class__']\n"
     ]
    }
   ],
   "source": [
    "print(counter.__dir__())"
   ]
  },
  {
   "cell_type": "code",
   "execution_count": 28,
   "id": "6531261e",
   "metadata": {},
   "outputs": [
    {
     "data": {
      "text/plain": [
       "((<cell at 0x000001842B710EB0: int object at 0x0000018426FE6950>,\n",
       "  <cell at 0x000001842B710CA0: function object at 0x000001842B8100D0>),\n",
       " {'__name__': '__main__',\n",
       "  '__doc__': 'Automatically created module for IPython interactive environment',\n",
       "  '__package__': None,\n",
       "  '__loader__': None,\n",
       "  '__spec__': None,\n",
       "  '__builtin__': <module 'builtins' (built-in)>,\n",
       "  '__builtins__': <module 'builtins' (built-in)>,\n",
       "  '_ih': ['',\n",
       "   \"def my_fun(fn,*args,**kwargs):\\n    fn(*args,**kwargs)\\n    my_fun.counter+=1\\n    print('count={}'.format(my_fun.counter))\\nmy_fun.counter=0\",\n",
       "   'def square(x):\\n    return x*x\\n\\ndef cube(x):\\n    return x**3',\n",
       "   'square(3)',\n",
       "   'square(3), cube(3)',\n",
       "   'my_fun(square,3)',\n",
       "   'my_fun(cube,3)',\n",
       "   \"my_fun(print,'Hello')\",\n",
       "   'my_fun.__dict__',\n",
       "   \"def my_fun(fn,*args,**kwargs):\\n    fn(*args,**kwargs)\\n    my_fun.counter+=1\\n    print('count={}'.format(my_fun.counter))\\n    my_fun.counter=0\",\n",
       "   'def square(x):\\n    return x*x\\n\\ndef cube(x):\\n    return x**3',\n",
       "   'square(3), cube(3)',\n",
       "   'my_fun(square,3)',\n",
       "   'my_fun(cube,3)',\n",
       "   \"my_fun.counter=0\\ndef my_fun(fn,*args,**kwargs):\\n    fn(*args,**kwargs)\\n    my_fun.counter+=1\\n    print('count={}'.format(my_fun.counter))\",\n",
       "   \"my_fun(print,'Hello')\",\n",
       "   \"def counter(fn):\\n    count = 0 \\n    def inner(*args,**kwargs):\\n        nonlocal count\\n        count+=1\\n        print(' The {} function has been called {} number of times'.format(fn.__name__,count))\\n        return fn(*args,**kwargs)\\n    return inner \\n\\n        \",\n",
       "   'def square(x):\\n    return x**2\\n\\ndef cube(x):\\n    return x**3',\n",
       "   'counter',\n",
       "   'counter(square)',\n",
       "   'counter = counter(square)',\n",
       "   'counter(3)',\n",
       "   'counter(4)',\n",
       "   'counter.__dir__()',\n",
       "   'print(counter.__dir__())',\n",
       "   'counter.__closure__',\n",
       "   '`` Excercise 3 ``\\n\\n`` Use a map() function to generate a list of squared elements ``\\n   ',\n",
       "   'def create_file():\\n    pass\\n\\ndef read_from_file():\\n    pass\\n\\ndef write_to_file():\\n    pass\\n\\nwhile True:\\n    print(\\'1. Create \\')\\n    print(\\'2. Write \\')    \\n    choice = int(input(\"Enter your choice [5] to Quit\"))\\n    if choice == 1:\\n        print(\\' You pressed 1 \\')\\n    elif choice == 2:\\n        print(\\' You choosed 2\\')\\n    else:\\n        break\\n    \\n    \\n    \\n        \\n    \\n\\n    ',\n",
       "   'counter.__closure__, counter.__globals__'],\n",
       "  '_oh': {3: 9,\n",
       "   4: (9, 27),\n",
       "   8: {'counter': 3},\n",
       "   11: (9, 27),\n",
       "   18: <function __main__.counter(fn)>,\n",
       "   19: <function __main__.counter.<locals>.inner(*args, **kwargs)>,\n",
       "   21: 9,\n",
       "   22: 16,\n",
       "   23: ['__repr__',\n",
       "    '__call__',\n",
       "    '__get__',\n",
       "    '__new__',\n",
       "    '__closure__',\n",
       "    '__doc__',\n",
       "    '__globals__',\n",
       "    '__module__',\n",
       "    '__code__',\n",
       "    '__defaults__',\n",
       "    '__kwdefaults__',\n",
       "    '__annotations__',\n",
       "    '__dict__',\n",
       "    '__name__',\n",
       "    '__qualname__',\n",
       "    '__hash__',\n",
       "    '__str__',\n",
       "    '__getattribute__',\n",
       "    '__setattr__',\n",
       "    '__delattr__',\n",
       "    '__lt__',\n",
       "    '__le__',\n",
       "    '__eq__',\n",
       "    '__ne__',\n",
       "    '__gt__',\n",
       "    '__ge__',\n",
       "    '__init__',\n",
       "    '__reduce_ex__',\n",
       "    '__reduce__',\n",
       "    '__subclasshook__',\n",
       "    '__init_subclass__',\n",
       "    '__format__',\n",
       "    '__sizeof__',\n",
       "    '__dir__',\n",
       "    '__class__'],\n",
       "   25: (<cell at 0x000001842B710EB0: int object at 0x0000018426FE6950>,\n",
       "    <cell at 0x000001842B710CA0: function object at 0x000001842B8100D0>)},\n",
       "  '_dh': ['C:\\\\Users\\\\soman\\\\TE_BATCH2_PYTHON\\\\W04D02'],\n",
       "  'In': ['',\n",
       "   \"def my_fun(fn,*args,**kwargs):\\n    fn(*args,**kwargs)\\n    my_fun.counter+=1\\n    print('count={}'.format(my_fun.counter))\\nmy_fun.counter=0\",\n",
       "   'def square(x):\\n    return x*x\\n\\ndef cube(x):\\n    return x**3',\n",
       "   'square(3)',\n",
       "   'square(3), cube(3)',\n",
       "   'my_fun(square,3)',\n",
       "   'my_fun(cube,3)',\n",
       "   \"my_fun(print,'Hello')\",\n",
       "   'my_fun.__dict__',\n",
       "   \"def my_fun(fn,*args,**kwargs):\\n    fn(*args,**kwargs)\\n    my_fun.counter+=1\\n    print('count={}'.format(my_fun.counter))\\n    my_fun.counter=0\",\n",
       "   'def square(x):\\n    return x*x\\n\\ndef cube(x):\\n    return x**3',\n",
       "   'square(3), cube(3)',\n",
       "   'my_fun(square,3)',\n",
       "   'my_fun(cube,3)',\n",
       "   \"my_fun.counter=0\\ndef my_fun(fn,*args,**kwargs):\\n    fn(*args,**kwargs)\\n    my_fun.counter+=1\\n    print('count={}'.format(my_fun.counter))\",\n",
       "   \"my_fun(print,'Hello')\",\n",
       "   \"def counter(fn):\\n    count = 0 \\n    def inner(*args,**kwargs):\\n        nonlocal count\\n        count+=1\\n        print(' The {} function has been called {} number of times'.format(fn.__name__,count))\\n        return fn(*args,**kwargs)\\n    return inner \\n\\n        \",\n",
       "   'def square(x):\\n    return x**2\\n\\ndef cube(x):\\n    return x**3',\n",
       "   'counter',\n",
       "   'counter(square)',\n",
       "   'counter = counter(square)',\n",
       "   'counter(3)',\n",
       "   'counter(4)',\n",
       "   'counter.__dir__()',\n",
       "   'print(counter.__dir__())',\n",
       "   'counter.__closure__',\n",
       "   '`` Excercise 3 ``\\n\\n`` Use a map() function to generate a list of squared elements ``\\n   ',\n",
       "   'def create_file():\\n    pass\\n\\ndef read_from_file():\\n    pass\\n\\ndef write_to_file():\\n    pass\\n\\nwhile True:\\n    print(\\'1. Create \\')\\n    print(\\'2. Write \\')    \\n    choice = int(input(\"Enter your choice [5] to Quit\"))\\n    if choice == 1:\\n        print(\\' You pressed 1 \\')\\n    elif choice == 2:\\n        print(\\' You choosed 2\\')\\n    else:\\n        break\\n    \\n    \\n    \\n        \\n    \\n\\n    ',\n",
       "   'counter.__closure__, counter.__globals__'],\n",
       "  'Out': {3: 9,\n",
       "   4: (9, 27),\n",
       "   8: {'counter': 3},\n",
       "   11: (9, 27),\n",
       "   18: <function __main__.counter(fn)>,\n",
       "   19: <function __main__.counter.<locals>.inner(*args, **kwargs)>,\n",
       "   21: 9,\n",
       "   22: 16,\n",
       "   23: ['__repr__',\n",
       "    '__call__',\n",
       "    '__get__',\n",
       "    '__new__',\n",
       "    '__closure__',\n",
       "    '__doc__',\n",
       "    '__globals__',\n",
       "    '__module__',\n",
       "    '__code__',\n",
       "    '__defaults__',\n",
       "    '__kwdefaults__',\n",
       "    '__annotations__',\n",
       "    '__dict__',\n",
       "    '__name__',\n",
       "    '__qualname__',\n",
       "    '__hash__',\n",
       "    '__str__',\n",
       "    '__getattribute__',\n",
       "    '__setattr__',\n",
       "    '__delattr__',\n",
       "    '__lt__',\n",
       "    '__le__',\n",
       "    '__eq__',\n",
       "    '__ne__',\n",
       "    '__gt__',\n",
       "    '__ge__',\n",
       "    '__init__',\n",
       "    '__reduce_ex__',\n",
       "    '__reduce__',\n",
       "    '__subclasshook__',\n",
       "    '__init_subclass__',\n",
       "    '__format__',\n",
       "    '__sizeof__',\n",
       "    '__dir__',\n",
       "    '__class__'],\n",
       "   25: (<cell at 0x000001842B710EB0: int object at 0x0000018426FE6950>,\n",
       "    <cell at 0x000001842B710CA0: function object at 0x000001842B8100D0>)},\n",
       "  'get_ipython': <bound method InteractiveShell.get_ipython of <ipykernel.zmqshell.ZMQInteractiveShell object at 0x000001842B69E670>>,\n",
       "  'exit': <IPython.core.autocall.ZMQExitAutocall at 0x1842b69e820>,\n",
       "  'quit': <IPython.core.autocall.ZMQExitAutocall at 0x1842b69e820>,\n",
       "  '_': (<cell at 0x000001842B710EB0: int object at 0x0000018426FE6950>,\n",
       "   <cell at 0x000001842B710CA0: function object at 0x000001842B8100D0>),\n",
       "  '__': ['__repr__',\n",
       "   '__call__',\n",
       "   '__get__',\n",
       "   '__new__',\n",
       "   '__closure__',\n",
       "   '__doc__',\n",
       "   '__globals__',\n",
       "   '__module__',\n",
       "   '__code__',\n",
       "   '__defaults__',\n",
       "   '__kwdefaults__',\n",
       "   '__annotations__',\n",
       "   '__dict__',\n",
       "   '__name__',\n",
       "   '__qualname__',\n",
       "   '__hash__',\n",
       "   '__str__',\n",
       "   '__getattribute__',\n",
       "   '__setattr__',\n",
       "   '__delattr__',\n",
       "   '__lt__',\n",
       "   '__le__',\n",
       "   '__eq__',\n",
       "   '__ne__',\n",
       "   '__gt__',\n",
       "   '__ge__',\n",
       "   '__init__',\n",
       "   '__reduce_ex__',\n",
       "   '__reduce__',\n",
       "   '__subclasshook__',\n",
       "   '__init_subclass__',\n",
       "   '__format__',\n",
       "   '__sizeof__',\n",
       "   '__dir__',\n",
       "   '__class__'],\n",
       "  '___': 16,\n",
       "  '_i': 'def create_file():\\n    pass\\n\\ndef read_from_file():\\n    pass\\n\\ndef write_to_file():\\n    pass\\n\\nwhile True:\\n    print(\\'1. Create \\')\\n    print(\\'2. Write \\')    \\n    choice = int(input(\"Enter your choice [5] to Quit\"))\\n    if choice == 1:\\n        print(\\' You pressed 1 \\')\\n    elif choice == 2:\\n        print(\\' You choosed 2\\')\\n    else:\\n        break\\n    \\n    \\n    \\n        \\n    \\n\\n    ',\n",
       "  '_ii': '`` Excercise 3 ``\\n\\n`` Use a map() function to generate a list of squared elements ``\\n   ',\n",
       "  '_iii': 'counter.__closure__',\n",
       "  '_i1': \"def my_fun(fn,*args,**kwargs):\\n    fn(*args,**kwargs)\\n    my_fun.counter+=1\\n    print('count={}'.format(my_fun.counter))\\nmy_fun.counter=0\",\n",
       "  'my_fun': <function __main__.my_fun(fn, *args, **kwargs)>,\n",
       "  '_i2': 'def square(x):\\n    return x*x\\n\\ndef cube(x):\\n    return x**3',\n",
       "  'square': <function __main__.square(x)>,\n",
       "  'cube': <function __main__.cube(x)>,\n",
       "  '_i3': 'square(3)',\n",
       "  '_3': 9,\n",
       "  '_i4': 'square(3), cube(3)',\n",
       "  '_4': (9, 27),\n",
       "  '_i5': 'my_fun(square,3)',\n",
       "  '_i6': 'my_fun(cube,3)',\n",
       "  '_i7': \"my_fun(print,'Hello')\",\n",
       "  '_i8': 'my_fun.__dict__',\n",
       "  '_8': {'counter': 3},\n",
       "  '_i9': \"def my_fun(fn,*args,**kwargs):\\n    fn(*args,**kwargs)\\n    my_fun.counter+=1\\n    print('count={}'.format(my_fun.counter))\\n    my_fun.counter=0\",\n",
       "  '_i10': 'def square(x):\\n    return x*x\\n\\ndef cube(x):\\n    return x**3',\n",
       "  '_i11': 'square(3), cube(3)',\n",
       "  '_11': (9, 27),\n",
       "  '_i12': 'my_fun(square,3)',\n",
       "  '_i13': 'my_fun(cube,3)',\n",
       "  '_i14': \"my_fun.counter=0\\ndef my_fun(fn,*args,**kwargs):\\n    fn(*args,**kwargs)\\n    my_fun.counter+=1\\n    print('count={}'.format(my_fun.counter))\",\n",
       "  '_i15': \"my_fun(print,'Hello')\",\n",
       "  '_i16': \"def counter(fn):\\n    count = 0 \\n    def inner(*args,**kwargs):\\n        nonlocal count\\n        count+=1\\n        print(' The {} function has been called {} number of times'.format(fn.__name__,count))\\n        return fn(*args,**kwargs)\\n    return inner \\n\\n        \",\n",
       "  'counter': <function __main__.counter.<locals>.inner(*args, **kwargs)>,\n",
       "  '_i17': 'def square(x):\\n    return x**2\\n\\ndef cube(x):\\n    return x**3',\n",
       "  '_i18': 'counter',\n",
       "  '_18': <function __main__.counter(fn)>,\n",
       "  '_i19': 'counter(square)',\n",
       "  '_19': <function __main__.counter.<locals>.inner(*args, **kwargs)>,\n",
       "  '_i20': 'counter = counter(square)',\n",
       "  '_i21': 'counter(3)',\n",
       "  '_21': 9,\n",
       "  '_i22': 'counter(4)',\n",
       "  '_22': 16,\n",
       "  '_i23': 'counter.__dir__()',\n",
       "  '_23': ['__repr__',\n",
       "   '__call__',\n",
       "   '__get__',\n",
       "   '__new__',\n",
       "   '__closure__',\n",
       "   '__doc__',\n",
       "   '__globals__',\n",
       "   '__module__',\n",
       "   '__code__',\n",
       "   '__defaults__',\n",
       "   '__kwdefaults__',\n",
       "   '__annotations__',\n",
       "   '__dict__',\n",
       "   '__name__',\n",
       "   '__qualname__',\n",
       "   '__hash__',\n",
       "   '__str__',\n",
       "   '__getattribute__',\n",
       "   '__setattr__',\n",
       "   '__delattr__',\n",
       "   '__lt__',\n",
       "   '__le__',\n",
       "   '__eq__',\n",
       "   '__ne__',\n",
       "   '__gt__',\n",
       "   '__ge__',\n",
       "   '__init__',\n",
       "   '__reduce_ex__',\n",
       "   '__reduce__',\n",
       "   '__subclasshook__',\n",
       "   '__init_subclass__',\n",
       "   '__format__',\n",
       "   '__sizeof__',\n",
       "   '__dir__',\n",
       "   '__class__'],\n",
       "  '_i24': 'print(counter.__dir__())',\n",
       "  '_i25': 'counter.__closure__',\n",
       "  '_25': (<cell at 0x000001842B710EB0: int object at 0x0000018426FE6950>,\n",
       "   <cell at 0x000001842B710CA0: function object at 0x000001842B8100D0>),\n",
       "  '_i26': '`` Excercise 3 ``\\n\\n`` Use a map() function to generate a list of squared elements ``\\n   ',\n",
       "  '_i27': 'def create_file():\\n    pass\\n\\ndef read_from_file():\\n    pass\\n\\ndef write_to_file():\\n    pass\\n\\nwhile True:\\n    print(\\'1. Create \\')\\n    print(\\'2. Write \\')    \\n    choice = int(input(\"Enter your choice [5] to Quit\"))\\n    if choice == 1:\\n        print(\\' You pressed 1 \\')\\n    elif choice == 2:\\n        print(\\' You choosed 2\\')\\n    else:\\n        break\\n    \\n    \\n    \\n        \\n    \\n\\n    ',\n",
       "  'create_file': <function __main__.create_file()>,\n",
       "  'read_from_file': <function __main__.read_from_file()>,\n",
       "  'write_to_file': <function __main__.write_to_file()>,\n",
       "  'choice': 3,\n",
       "  '_i28': 'counter.__closure__, counter.__globals__'})"
      ]
     },
     "execution_count": 28,
     "metadata": {},
     "output_type": "execute_result"
    }
   ],
   "source": [
    "counter.__closure__, counter.__globals__"
   ]
  },
  {
   "cell_type": "markdown",
   "id": "ec87b7bb",
   "metadata": {},
   "source": [
    "`` Excercise 2 ``\n",
    "\n",
    "`` Define a function that can generate a list where the values are square of numbers between ``\n",
    "\n",
    "``5 and 23, both included. Then print all the values except the first 7 elements in the list ``\n",
    "\n",
    "`` (*) Note: Add Annotations and docstrings aswell in your functions ``"
   ]
  },
  {
   "cell_type": "markdown",
   "id": "b61deab6",
   "metadata": {},
   "source": [
    "`` Excercise 3 ``\n",
    "\n",
    "`` Use a map() function to generate a list of squared elements ``\n",
    "   "
   ]
  },
  {
   "cell_type": "markdown",
   "id": "2637e27f",
   "metadata": {},
   "source": [
    "`` Excercise 4 ``\n",
    "`` Demonstrate the use of filter function ``"
   ]
  },
  {
   "cell_type": "markdown",
   "id": "40d52598",
   "metadata": {},
   "source": [
    "`` Excersise 5 ``\n",
    "\n",
    "`` Write a console based application that will give option to the user, in the following way ``\n",
    "\n",
    "    `` 1. Create a File  ``\n",
    "    \n",
    "    `` 2. Write to a File ``\n",
    "    \n",
    "    `` 3. Read from a file `` \n",
    "    \n",
    "    `` 4. Search from a file `` \n",
    "    \n",
    "    `` 5. Enter your choice [5] to Quit `` \n",
    "    "
   ]
  },
  {
   "cell_type": "code",
   "execution_count": 88,
   "id": "6fe341e3",
   "metadata": {},
   "outputs": [
    {
     "name": "stdout",
     "output_type": "stream",
     "text": [
      "1. [C]reate \n",
      "2. [W]rite \n",
      "3. [R]ead \n",
      "4. [S]earch \n",
      "5. Press 5 to quit [Q]uit \n",
      "Enter your choice [5] to Quit1\n",
      "File Created\n",
      "1. [C]reate \n",
      "2. [W]rite \n",
      "3. [R]ead \n",
      "4. [S]earch \n",
      "5. Press 5 to quit [Q]uit \n",
      "Enter your choice [5] to Quit2\n",
      "File written\n",
      "1. [C]reate \n",
      "2. [W]rite \n",
      "3. [R]ead \n",
      "4. [S]earch \n",
      "5. Press 5 to quit [Q]uit \n",
      "Enter your choice [5] to Quit3\n",
      "File read\n",
      "1. [C]reate \n",
      "2. [W]rite \n",
      "3. [R]ead \n",
      "4. [S]earch \n",
      "5. Press 5 to quit [Q]uit \n",
      "Enter your choice [5] to Quit4\n",
      "File Searched\n",
      "1. [C]reate \n",
      "2. [W]rite \n",
      "3. [R]ead \n",
      "4. [S]earch \n",
      "5. Press 5 to quit [Q]uit \n",
      "Enter your choice [5] to Quit5\n"
     ]
    }
   ],
   "source": [
    "def create_file():\n",
    "    print('File Created')\n",
    "\n",
    "def read_from_file():\n",
    "    print('File read')\n",
    "\n",
    "def write_to_file():\n",
    "    try:\n",
    "        print('File written')\n",
    "    except Exception as e:\n",
    "        print(repr(e))\n",
    "\n",
    "def search_from_file():\n",
    "    print('File Searched')\n",
    "    \n",
    "while True:\n",
    "    print('1. [C]reate ')\n",
    "    print('2. [W]rite ')\n",
    "    print('3. [R]ead ')    \n",
    "    print('4. [S]earch ')    \n",
    "    print('5. Press 5 to quit [Q]uit ')    \n",
    "    \n",
    "    \n",
    "    choice = int(input(\"Enter your choice [5] to Quit\"))\n",
    "    if choice == 1:\n",
    "        create_file()\n",
    "    elif choice == 2:\n",
    "        write_to_file()\n",
    "    elif choice == 3:\n",
    "         read_from_file()\n",
    "    elif choice == 4:\n",
    "        search_from_file()\n",
    "    elif choice ==5:\n",
    "        break\n",
    "    else:\n",
    "        break\n",
    "        \n"
   ]
  },
  {
   "cell_type": "markdown",
   "id": "6e7608ae",
   "metadata": {},
   "source": [
    "`` Solution to Excercise 2 ``"
   ]
  },
  {
   "cell_type": "code",
   "execution_count": 40,
   "id": "9270e218",
   "metadata": {},
   "outputs": [],
   "source": [
    "def my_func()-> 'Returns the square of the elements in the list ':\n",
    "    \"\"\"I am using a list comprehension to test whether this works ?\"\"\"\n",
    "    return [i*i for i in range(5,24)][:5]"
   ]
  },
  {
   "cell_type": "code",
   "execution_count": 31,
   "id": "42881e62",
   "metadata": {},
   "outputs": [
    {
     "data": {
      "text/plain": [
       "<function __main__.my_func() -> 'Returns the square of the elements in the list '>"
      ]
     },
     "execution_count": 31,
     "metadata": {},
     "output_type": "execute_result"
    }
   ],
   "source": [
    "my_func"
   ]
  },
  {
   "cell_type": "code",
   "execution_count": 32,
   "id": "134ffbff",
   "metadata": {},
   "outputs": [
    {
     "name": "stdout",
     "output_type": "stream",
     "text": [
      "Help on function my_func in module __main__:\n",
      "\n",
      "my_func() -> 'Returns the square of the elements in the list '\n",
      "    I am using a list comprehension to test whether this works ?\n",
      "\n"
     ]
    }
   ],
   "source": [
    "help(my_func)"
   ]
  },
  {
   "cell_type": "code",
   "execution_count": 34,
   "id": "05e9caa0",
   "metadata": {},
   "outputs": [
    {
     "data": {
      "text/plain": [
       "{'return': 'Returns the square of the elements in the list '}"
      ]
     },
     "execution_count": 34,
     "metadata": {},
     "output_type": "execute_result"
    }
   ],
   "source": [
    "my_func.__annotations__"
   ]
  },
  {
   "cell_type": "code",
   "execution_count": 35,
   "id": "43e3b09c",
   "metadata": {},
   "outputs": [
    {
     "data": {
      "text/plain": [
       "'I am using a list comprehension to test whether this works ?'"
      ]
     },
     "execution_count": 35,
     "metadata": {},
     "output_type": "execute_result"
    }
   ],
   "source": [
    "my_func.__doc__"
   ]
  },
  {
   "cell_type": "code",
   "execution_count": 41,
   "id": "992f4522",
   "metadata": {},
   "outputs": [
    {
     "name": "stdout",
     "output_type": "stream",
     "text": [
      "[25, 36, 49, 64, 81]\n"
     ]
    }
   ],
   "source": [
    "print(my_func())"
   ]
  },
  {
   "cell_type": "markdown",
   "id": "6e6e6fe1",
   "metadata": {},
   "source": [
    "`` Solution to Excercise 3 ``\n",
    "\n",
    "`` map() ``"
   ]
  },
  {
   "cell_type": "code",
   "execution_count": 42,
   "id": "2b576bb7",
   "metadata": {},
   "outputs": [
    {
     "name": "stdout",
     "output_type": "stream",
     "text": [
      "Help on class map in module builtins:\n",
      "\n",
      "class map(object)\n",
      " |  map(func, *iterables) --> map object\n",
      " |  \n",
      " |  Make an iterator that computes the function using arguments from\n",
      " |  each of the iterables.  Stops when the shortest iterable is exhausted.\n",
      " |  \n",
      " |  Methods defined here:\n",
      " |  \n",
      " |  __getattribute__(self, name, /)\n",
      " |      Return getattr(self, name).\n",
      " |  \n",
      " |  __iter__(self, /)\n",
      " |      Implement iter(self).\n",
      " |  \n",
      " |  __next__(self, /)\n",
      " |      Implement next(self).\n",
      " |  \n",
      " |  __reduce__(...)\n",
      " |      Return state information for pickling.\n",
      " |  \n",
      " |  ----------------------------------------------------------------------\n",
      " |  Static methods defined here:\n",
      " |  \n",
      " |  __new__(*args, **kwargs) from builtins.type\n",
      " |      Create and return a new object.  See help(type) for accurate signature.\n",
      "\n"
     ]
    }
   ],
   "source": [
    "help(map)"
   ]
  },
  {
   "cell_type": "code",
   "execution_count": 55,
   "id": "12aaadf7",
   "metadata": {},
   "outputs": [],
   "source": [
    "def square(seq:\"A sequence of integers\")-> 'Returns the square of every element in the list':\n",
    "    \"\"\"Returns the square of every element\n",
    "      >>> square([1,2,3])\n",
    "      >>> [1,4,9]\n",
    "    \"\"\"\n",
    "    if type(seq) == list or type(seq)== tuple :\n",
    "        return map(lambda x: x**2, seq)\n",
    "        \n",
    "    else:\n",
    "        print('Please see the documentation')"
   ]
  },
  {
   "cell_type": "code",
   "execution_count": 50,
   "id": "1e803e75",
   "metadata": {},
   "outputs": [
    {
     "name": "stdout",
     "output_type": "stream",
     "text": [
      "Help on function square in module __main__:\n",
      "\n",
      "square(seq: 'A sequence of integers') -> 'Returns the square of every element in the list'\n",
      "    Returns the square of every element\n",
      "    >>> square([1,2,3])\n",
      "    >>> [1,4,9]\n",
      "\n"
     ]
    }
   ],
   "source": [
    "help(square)"
   ]
  },
  {
   "cell_type": "code",
   "execution_count": 51,
   "id": "d7a91e8a",
   "metadata": {},
   "outputs": [
    {
     "data": {
      "text/plain": [
       "{'seq': 'A sequence of integers',\n",
       " 'return': 'Returns the square of every element in the list'}"
      ]
     },
     "execution_count": 51,
     "metadata": {},
     "output_type": "execute_result"
    }
   ],
   "source": [
    "square.__annotations__"
   ]
  },
  {
   "cell_type": "code",
   "execution_count": 46,
   "id": "e578283c",
   "metadata": {},
   "outputs": [
    {
     "data": {
      "text/plain": [
       "'Returns the square of every element\\n      >>> square([1,2,3])\\n      >>> [1,4,9]\\n    '"
      ]
     },
     "execution_count": 46,
     "metadata": {},
     "output_type": "execute_result"
    }
   ],
   "source": [
    "square.__doc__"
   ]
  },
  {
   "cell_type": "code",
   "execution_count": 52,
   "id": "0972a0de",
   "metadata": {},
   "outputs": [
    {
     "name": "stdout",
     "output_type": "stream",
     "text": [
      " It will work \n"
     ]
    }
   ],
   "source": [
    "square([1,2,3])"
   ]
  },
  {
   "cell_type": "code",
   "execution_count": 53,
   "id": "012574f2",
   "metadata": {},
   "outputs": [
    {
     "name": "stdout",
     "output_type": "stream",
     "text": [
      " It will work \n"
     ]
    }
   ],
   "source": [
    "square((1,2,3))"
   ]
  },
  {
   "cell_type": "code",
   "execution_count": 54,
   "id": "5f37e499",
   "metadata": {},
   "outputs": [
    {
     "name": "stdout",
     "output_type": "stream",
     "text": [
      " It won\"t work \n"
     ]
    }
   ],
   "source": [
    "square('rahul')"
   ]
  },
  {
   "cell_type": "code",
   "execution_count": 57,
   "id": "c5f90dd4",
   "metadata": {},
   "outputs": [
    {
     "data": {
      "text/plain": [
       "[1, 4, 9]"
      ]
     },
     "execution_count": 57,
     "metadata": {},
     "output_type": "execute_result"
    }
   ],
   "source": [
    "list(square((1,2,3)))"
   ]
  },
  {
   "cell_type": "code",
   "execution_count": 58,
   "id": "9e8f76f3",
   "metadata": {},
   "outputs": [
    {
     "data": {
      "text/plain": [
       "[1, 4, 9, 16, 25]"
      ]
     },
     "execution_count": 58,
     "metadata": {},
     "output_type": "execute_result"
    }
   ],
   "source": [
    "list(square([1,2,3,4,5]))"
   ]
  },
  {
   "cell_type": "code",
   "execution_count": 60,
   "id": "c3409854",
   "metadata": {},
   "outputs": [
    {
     "name": "stdout",
     "output_type": "stream",
     "text": [
      "Please see the documentation\n"
     ]
    }
   ],
   "source": [
    "square('string')"
   ]
  },
  {
   "cell_type": "code",
   "execution_count": 67,
   "id": "af20154d",
   "metadata": {},
   "outputs": [],
   "source": [
    "result = square([1,2,3])"
   ]
  },
  {
   "cell_type": "code",
   "execution_count": 62,
   "id": "54920923",
   "metadata": {},
   "outputs": [
    {
     "data": {
      "text/plain": [
       "map"
      ]
     },
     "execution_count": 62,
     "metadata": {},
     "output_type": "execute_result"
    }
   ],
   "source": [
    "type(result)"
   ]
  },
  {
   "cell_type": "code",
   "execution_count": 68,
   "id": "45507d73",
   "metadata": {},
   "outputs": [
    {
     "data": {
      "text/plain": [
       "(1, 4, 9)"
      ]
     },
     "execution_count": 68,
     "metadata": {},
     "output_type": "execute_result"
    }
   ],
   "source": [
    "tuple(result)"
   ]
  },
  {
   "cell_type": "code",
   "execution_count": 69,
   "id": "71116252",
   "metadata": {},
   "outputs": [
    {
     "name": "stdout",
     "output_type": "stream",
     "text": [
      "Help on class filter in module builtins:\n",
      "\n",
      "class filter(object)\n",
      " |  filter(function or None, iterable) --> filter object\n",
      " |  \n",
      " |  Return an iterator yielding those items of iterable for which function(item)\n",
      " |  is true. If function is None, return the items that are true.\n",
      " |  \n",
      " |  Methods defined here:\n",
      " |  \n",
      " |  __getattribute__(self, name, /)\n",
      " |      Return getattr(self, name).\n",
      " |  \n",
      " |  __iter__(self, /)\n",
      " |      Implement iter(self).\n",
      " |  \n",
      " |  __next__(self, /)\n",
      " |      Implement next(self).\n",
      " |  \n",
      " |  __reduce__(...)\n",
      " |      Return state information for pickling.\n",
      " |  \n",
      " |  ----------------------------------------------------------------------\n",
      " |  Static methods defined here:\n",
      " |  \n",
      " |  __new__(*args, **kwargs) from builtins.type\n",
      " |      Create and return a new object.  See help(type) for accurate signature.\n",
      "\n"
     ]
    }
   ],
   "source": [
    "help(filter)"
   ]
  },
  {
   "cell_type": "code",
   "execution_count": 73,
   "id": "54d4057f",
   "metadata": {},
   "outputs": [
    {
     "data": {
      "text/plain": [
       "<filter at 0x1842cd0f940>"
      ]
     },
     "execution_count": 73,
     "metadata": {},
     "output_type": "execute_result"
    }
   ],
   "source": [
    "filter(lambda x: x.isupper(),['ABC','rahul','UJJWAL'])"
   ]
  },
  {
   "cell_type": "code",
   "execution_count": 78,
   "id": "766dab87",
   "metadata": {},
   "outputs": [],
   "source": [
    "\n",
    "result = filter(lambda x: x.isupper(),['ABC','rahul','UJJWAL','Rakesh'])"
   ]
  },
  {
   "cell_type": "code",
   "execution_count": 79,
   "id": "6e4be813",
   "metadata": {},
   "outputs": [
    {
     "data": {
      "text/plain": [
       "['ABC', 'UJJWAL']"
      ]
     },
     "execution_count": 79,
     "metadata": {},
     "output_type": "execute_result"
    }
   ],
   "source": [
    "list(result)"
   ]
  },
  {
   "cell_type": "code",
   "execution_count": 80,
   "id": "3a77f4e7",
   "metadata": {},
   "outputs": [],
   "source": [
    "def isUpper(x):\n",
    "    return x.isupper()"
   ]
  },
  {
   "cell_type": "code",
   "execution_count": 81,
   "id": "6c5e9f2b",
   "metadata": {},
   "outputs": [
    {
     "data": {
      "text/plain": [
       "False"
      ]
     },
     "execution_count": 81,
     "metadata": {},
     "output_type": "execute_result"
    }
   ],
   "source": [
    "isUpper('Ra')"
   ]
  },
  {
   "cell_type": "code",
   "execution_count": 82,
   "id": "84335f44",
   "metadata": {},
   "outputs": [
    {
     "data": {
      "text/plain": [
       "True"
      ]
     },
     "execution_count": 82,
     "metadata": {},
     "output_type": "execute_result"
    }
   ],
   "source": [
    "isUpper('RA')"
   ]
  },
  {
   "cell_type": "code",
   "execution_count": 83,
   "id": "306c5f99",
   "metadata": {},
   "outputs": [],
   "source": [
    "result = filter(isUpper,['ABC','rahul','UJJWAL','Rakesh'])"
   ]
  },
  {
   "cell_type": "code",
   "execution_count": 85,
   "id": "b6dafb38",
   "metadata": {},
   "outputs": [
    {
     "data": {
      "text/plain": [
       "['ABC', 'UJJWAL']"
      ]
     },
     "execution_count": 85,
     "metadata": {},
     "output_type": "execute_result"
    }
   ],
   "source": [
    "list(result)"
   ]
  },
  {
   "cell_type": "code",
   "execution_count": 7,
   "id": "924585ad",
   "metadata": {},
   "outputs": [
    {
     "name": "stdout",
     "output_type": "stream",
     "text": [
      "1. [C]reate \n",
      "2. [W]rite \n",
      "3. [R]ead \n",
      "4. [S]earch \n",
      "5. Press 5 to quit [Q]uit \n",
      "Enter your choice [5] to Quit3\n",
      "Enter a filename (with extension) to read fromujju.txt\n",
      "Error 20: Error in reading FileNotFoundError(2, 'No such file or directory')\n",
      "Could not read from the file\n",
      "1. [C]reate \n",
      "2. [W]rite \n",
      "3. [R]ead \n",
      "4. [S]earch \n",
      "5. Press 5 to quit [Q]uit \n",
      "Enter your choice [5] to Quit5\n"
     ]
    }
   ],
   "source": [
    "def create_file() -> 'Creates an empty file':\n",
    "    \"\"\"It asks for the filename from the user\"\"\"\n",
    "    file_name = input('Enter a filename (with extension)')\n",
    "    try:\n",
    "        file_handler = open(file_name,'a')\n",
    "        print(' File {} created sucessfully '. format(file_name))\n",
    "    except Exception as e:\n",
    "        print(repr(e))\n",
    "    finally:\n",
    "        file_handler.close()\n",
    "    \n",
    "def read_from_file():\n",
    "    file_name = input('Enter a filename (with extension) to read from')\n",
    "    try:\n",
    "        file_handler = open(file_name,'r')\n",
    "        print(file_handler.read())\n",
    "    except Exception as e:\n",
    "        print('Error 20: Error in reading',repr(e))\n",
    "    finally:\n",
    "        print('Could not read from the file')\n",
    "    \n",
    "\n",
    "def write_to_file():\n",
    "    file_name = input('Enter a filename (with extension) to read from')\n",
    "    try:\n",
    "        file_handler = open(file_name,'a')\n",
    "        text = input(\"Enter data you want to add to the file\")\n",
    "        file_handler.write(text)\n",
    "    except Exception as e:\n",
    "        print('Error 21: Error in reading',repr(e))\n",
    "    finally:\n",
    "        file_handler.close()\n",
    "    \n",
    "\n",
    "def search_from_file():\n",
    "    print('File Searched')\n",
    "    \n",
    "while True:\n",
    "    print('1. [C]reate ')\n",
    "    print('2. [W]rite ')\n",
    "    print('3. [R]ead ')    \n",
    "    print('4. [S]earch ')    \n",
    "    print('5. Press 5 to quit [Q]uit ')    \n",
    "    choice = int(input(\"Enter your choice [5] to Quit\"))\n",
    "    if choice == 1:\n",
    "        create_file()\n",
    "    elif choice == 2:\n",
    "        write_to_file()\n",
    "    elif choice == 3:\n",
    "         read_from_file()\n",
    "    elif choice == 4:\n",
    "        search_from_file()\n",
    "    elif choice ==5:\n",
    "        break\n",
    "    else:\n",
    "        break\n",
    "        \n"
   ]
  },
  {
   "cell_type": "code",
   "execution_count": 2,
   "id": "8d5fcc6d",
   "metadata": {},
   "outputs": [
    {
     "name": "stdout",
     "output_type": "stream",
     "text": [
      "Help on function create_file in module __main__:\n",
      "\n",
      "create_file() -> 'Creates an empty file'\n",
      "    It asks for the filename from the user\n",
      "\n"
     ]
    }
   ],
   "source": [
    "help(create_file)"
   ]
  },
  {
   "cell_type": "code",
   "execution_count": null,
   "id": "13610475",
   "metadata": {},
   "outputs": [],
   "source": []
  }
 ],
 "metadata": {
  "kernelspec": {
   "display_name": "Python 3",
   "language": "python",
   "name": "python3"
  },
  "language_info": {
   "codemirror_mode": {
    "name": "ipython",
    "version": 3
   },
   "file_extension": ".py",
   "mimetype": "text/x-python",
   "name": "python",
   "nbconvert_exporter": "python",
   "pygments_lexer": "ipython3",
   "version": "3.9.6"
  }
 },
 "nbformat": 4,
 "nbformat_minor": 5
}
