{
 "cells": [
  {
   "cell_type": "code",
   "execution_count": 1,
   "id": "4e2b923a",
   "metadata": {},
   "outputs": [
    {
     "data": {
      "text/plain": [
       "('A beautiful day', 'A beautiful day', 'A beautiful day', 'A beautiful day')"
      ]
     },
     "execution_count": 1,
     "metadata": {},
     "output_type": "execute_result"
    }
   ],
   "source": [
    "name = 'A beautiful day'\n",
    "name[:], name, name[0:], name[:100]\n"
   ]
  },
  {
   "cell_type": "code",
   "execution_count": 4,
   "id": "e288a123",
   "metadata": {},
   "outputs": [],
   "source": [
    "from time import time "
   ]
  },
  {
   "cell_type": "code",
   "execution_count": 5,
   "id": "b7272417",
   "metadata": {},
   "outputs": [
    {
     "data": {
      "text/plain": [
       "<function time.time>"
      ]
     },
     "execution_count": 5,
     "metadata": {},
     "output_type": "execute_result"
    }
   ],
   "source": [
    "time"
   ]
  },
  {
   "cell_type": "code",
   "execution_count": 6,
   "id": "71db178d",
   "metadata": {},
   "outputs": [
    {
     "data": {
      "text/plain": [
       "1633493345.7562966"
      ]
     },
     "execution_count": 6,
     "metadata": {},
     "output_type": "execute_result"
    }
   ],
   "source": [
    "time()"
   ]
  },
  {
   "cell_type": "code",
   "execution_count": 7,
   "id": "1464bb36",
   "metadata": {},
   "outputs": [
    {
     "name": "stdout",
     "output_type": "stream",
     "text": [
      "Help on built-in function time in module time:\n",
      "\n",
      "time(...)\n",
      "    time() -> floating point number\n",
      "    \n",
      "    Return the current time in seconds since the Epoch.\n",
      "    Fractions of a second may be present if the system clock provides them.\n",
      "\n"
     ]
    }
   ],
   "source": [
    "help(time)"
   ]
  },
  {
   "cell_type": "code",
   "execution_count": 11,
   "id": "284cefd6",
   "metadata": {},
   "outputs": [
    {
     "name": "stdout",
     "output_type": "stream",
     "text": [
      "A beautiful day\n",
      "Total time taken to execute = 0.0 secs \n"
     ]
    }
   ],
   "source": [
    "from time import time \n",
    "start = time()\n",
    "print(name)\n",
    "end = time()\n",
    "print('Total time taken to execute = {} secs '.format(end-start))"
   ]
  },
  {
   "cell_type": "code",
   "execution_count": 13,
   "id": "501a7dbd",
   "metadata": {},
   "outputs": [
    {
     "name": "stdout",
     "output_type": "stream",
     "text": [
      "A beautiful day\n",
      "Total time taken to execute = 0.0 secs \n"
     ]
    }
   ],
   "source": [
    "start = time()\n",
    "print(name[:10_000_000_00])\n",
    "end = time()\n",
    "print('Total time taken to execute = {} secs '.format(end-start))"
   ]
  },
  {
   "cell_type": "markdown",
   "id": "5cc0f933",
   "metadata": {},
   "source": [
    "# Dictionaries - A Gentle Introduction \n",
    "`` Dictionaries are containers that stores data in key,value pairs\n",
    "   The order is not guaranteed\n",
    "   Syntax: \n",
    "   my_var = dict()--> factory method / function \n",
    "   my_var = {key1:val1,key2:val2}\n",
    "   my_var = {} ---> ( Is it an empty dictionary ) ``"
   ]
  },
  {
   "cell_type": "code",
   "execution_count": 14,
   "id": "cf66977c",
   "metadata": {},
   "outputs": [
    {
     "data": {
      "text/plain": [
       "(dict, 2458405651008)"
      ]
     },
     "execution_count": 14,
     "metadata": {},
     "output_type": "execute_result"
    }
   ],
   "source": [
    "my_var = {}\n",
    "type(my_var), id(my_var)"
   ]
  },
  {
   "cell_type": "code",
   "execution_count": 15,
   "id": "724e2c7c",
   "metadata": {},
   "outputs": [
    {
     "data": {
      "text/plain": [
       "(dict, 2458404704320)"
      ]
     },
     "execution_count": 15,
     "metadata": {},
     "output_type": "execute_result"
    }
   ],
   "source": [
    "my_var_2 = dict()\n",
    "type(my_var_2), id(my_var_2)"
   ]
  },
  {
   "cell_type": "code",
   "execution_count": 16,
   "id": "31630baa",
   "metadata": {},
   "outputs": [],
   "source": [
    "my_dict = {\"firstname\":'Rahul','lastname':'Somani','age':35,'Profession':'Trainer'}"
   ]
  },
  {
   "cell_type": "code",
   "execution_count": 17,
   "id": "a69a9ff5",
   "metadata": {},
   "outputs": [
    {
     "data": {
      "text/plain": [
       "(dict, 2458404818496)"
      ]
     },
     "execution_count": 17,
     "metadata": {},
     "output_type": "execute_result"
    }
   ],
   "source": [
    "type(my_dict),id(my_dict)"
   ]
  },
  {
   "cell_type": "code",
   "execution_count": 18,
   "id": "aaef81da",
   "metadata": {},
   "outputs": [
    {
     "ename": "KeyError",
     "evalue": "0",
     "output_type": "error",
     "traceback": [
      "\u001b[1;31m---------------------------------------------------------------------------\u001b[0m",
      "\u001b[1;31mKeyError\u001b[0m                                  Traceback (most recent call last)",
      "\u001b[1;32m<ipython-input-18-2e042f7087f7>\u001b[0m in \u001b[0;36m<module>\u001b[1;34m\u001b[0m\n\u001b[1;32m----> 1\u001b[1;33m \u001b[0mmy_dict\u001b[0m\u001b[1;33m[\u001b[0m\u001b[1;36m0\u001b[0m\u001b[1;33m]\u001b[0m\u001b[1;33m\u001b[0m\u001b[1;33m\u001b[0m\u001b[0m\n\u001b[0m",
      "\u001b[1;31mKeyError\u001b[0m: 0"
     ]
    }
   ],
   "source": [
    "my_dict[0]"
   ]
  },
  {
   "cell_type": "markdown",
   "id": "ec314e18",
   "metadata": {},
   "source": [
    "# Access The value of a key in a dictionary, use the syntax \n",
    "``my_var[key_name]``"
   ]
  },
  {
   "cell_type": "code",
   "execution_count": 19,
   "id": "6dc3db51",
   "metadata": {},
   "outputs": [
    {
     "data": {
      "text/plain": [
       "{'firstname': 'Rahul',\n",
       " 'lastname': 'Somani',\n",
       " 'age': 35,\n",
       " 'Profession': 'Trainer'}"
      ]
     },
     "execution_count": 19,
     "metadata": {},
     "output_type": "execute_result"
    }
   ],
   "source": [
    "my_dict"
   ]
  },
  {
   "cell_type": "code",
   "execution_count": 20,
   "id": "456aab1c",
   "metadata": {},
   "outputs": [
    {
     "data": {
      "text/plain": [
       "35"
      ]
     },
     "execution_count": 20,
     "metadata": {},
     "output_type": "execute_result"
    }
   ],
   "source": [
    "my_dict['age']"
   ]
  },
  {
   "cell_type": "code",
   "execution_count": 21,
   "id": "e31a9e21",
   "metadata": {},
   "outputs": [
    {
     "data": {
      "text/plain": [
       "4"
      ]
     },
     "execution_count": 21,
     "metadata": {},
     "output_type": "execute_result"
    }
   ],
   "source": [
    "len(my_dict)"
   ]
  },
  {
   "cell_type": "code",
   "execution_count": 22,
   "id": "21eb530d",
   "metadata": {},
   "outputs": [
    {
     "name": "stdout",
     "output_type": "stream",
     "text": [
      "['__class__', '__class_getitem__', '__contains__', '__delattr__', '__delitem__', '__dir__', '__doc__', '__eq__', '__format__', '__ge__', '__getattribute__', '__getitem__', '__gt__', '__hash__', '__init__', '__init_subclass__', '__ior__', '__iter__', '__le__', '__len__', '__lt__', '__ne__', '__new__', '__or__', '__reduce__', '__reduce_ex__', '__repr__', '__reversed__', '__ror__', '__setattr__', '__setitem__', '__sizeof__', '__str__', '__subclasshook__', 'clear', 'copy', 'fromkeys', 'get', 'items', 'keys', 'pop', 'popitem', 'setdefault', 'update', 'values']\n"
     ]
    }
   ],
   "source": [
    "print(dir(dict))"
   ]
  },
  {
   "cell_type": "code",
   "execution_count": 23,
   "id": "dc660e07",
   "metadata": {},
   "outputs": [
    {
     "data": {
      "text/plain": [
       "<method 'keys' of 'dict' objects>"
      ]
     },
     "execution_count": 23,
     "metadata": {},
     "output_type": "execute_result"
    }
   ],
   "source": [
    "dict.keys"
   ]
  },
  {
   "cell_type": "code",
   "execution_count": 24,
   "id": "3a69a235",
   "metadata": {},
   "outputs": [
    {
     "name": "stdout",
     "output_type": "stream",
     "text": [
      "Help on method_descriptor:\n",
      "\n",
      "keys(...)\n",
      "    D.keys() -> a set-like object providing a view on D's keys\n",
      "\n"
     ]
    }
   ],
   "source": [
    "help(dict.keys)"
   ]
  },
  {
   "cell_type": "code",
   "execution_count": 25,
   "id": "de23ac6d",
   "metadata": {},
   "outputs": [
    {
     "data": {
      "text/plain": [
       "{'firstname': 'Rahul',\n",
       " 'lastname': 'Somani',\n",
       " 'age': 35,\n",
       " 'Profession': 'Trainer'}"
      ]
     },
     "execution_count": 25,
     "metadata": {},
     "output_type": "execute_result"
    }
   ],
   "source": [
    "my_dict"
   ]
  },
  {
   "cell_type": "code",
   "execution_count": 26,
   "id": "c6be7483",
   "metadata": {},
   "outputs": [
    {
     "data": {
      "text/plain": [
       "dict_keys(['firstname', 'lastname', 'age', 'Profession'])"
      ]
     },
     "execution_count": 26,
     "metadata": {},
     "output_type": "execute_result"
    }
   ],
   "source": [
    "my_dict.keys()"
   ]
  },
  {
   "cell_type": "code",
   "execution_count": 28,
   "id": "c0857045",
   "metadata": {},
   "outputs": [
    {
     "name": "stdout",
     "output_type": "stream",
     "text": [
      "Help on method_descriptor:\n",
      "\n",
      "items(...)\n",
      "    D.items() -> a set-like object providing a view on D's items\n",
      "\n"
     ]
    }
   ],
   "source": [
    "help(dict.items)"
   ]
  },
  {
   "cell_type": "code",
   "execution_count": 29,
   "id": "eac5bdbe",
   "metadata": {},
   "outputs": [
    {
     "name": "stdout",
     "output_type": "stream",
     "text": [
      "Help on method_descriptor:\n",
      "\n",
      "values(...)\n",
      "    D.values() -> an object providing a view on D's values\n",
      "\n"
     ]
    }
   ],
   "source": [
    "help(dict.values)"
   ]
  },
  {
   "cell_type": "code",
   "execution_count": 27,
   "id": "a4b20cf2",
   "metadata": {},
   "outputs": [
    {
     "data": {
      "text/plain": [
       "dict_items([('firstname', 'Rahul'), ('lastname', 'Somani'), ('age', 35), ('Profession', 'Trainer')])"
      ]
     },
     "execution_count": 27,
     "metadata": {},
     "output_type": "execute_result"
    }
   ],
   "source": [
    "my_dict.items()"
   ]
  },
  {
   "cell_type": "code",
   "execution_count": 30,
   "id": "808ca06a",
   "metadata": {},
   "outputs": [
    {
     "data": {
      "text/plain": [
       "dict_values(['Rahul', 'Somani', 35, 'Trainer'])"
      ]
     },
     "execution_count": 30,
     "metadata": {},
     "output_type": "execute_result"
    }
   ],
   "source": [
    "my_dict.values()"
   ]
  },
  {
   "cell_type": "code",
   "execution_count": 31,
   "id": "37e102bd",
   "metadata": {},
   "outputs": [
    {
     "data": {
      "text/plain": [
       "<function dict.__getitem__>"
      ]
     },
     "execution_count": 31,
     "metadata": {},
     "output_type": "execute_result"
    }
   ],
   "source": [
    "my_dict.__getitem__"
   ]
  },
  {
   "cell_type": "code",
   "execution_count": 32,
   "id": "a399a209",
   "metadata": {},
   "outputs": [
    {
     "data": {
      "text/plain": [
       "'Rahul'"
      ]
     },
     "execution_count": 32,
     "metadata": {},
     "output_type": "execute_result"
    }
   ],
   "source": [
    "my_dict.__getitem__('firstname')"
   ]
  },
  {
   "cell_type": "code",
   "execution_count": 33,
   "id": "b385ecb0",
   "metadata": {},
   "outputs": [
    {
     "ename": "KeyError",
     "evalue": "'firstnames'",
     "output_type": "error",
     "traceback": [
      "\u001b[1;31m---------------------------------------------------------------------------\u001b[0m",
      "\u001b[1;31mKeyError\u001b[0m                                  Traceback (most recent call last)",
      "\u001b[1;32m<ipython-input-33-5d7b87ba0ba5>\u001b[0m in \u001b[0;36m<module>\u001b[1;34m\u001b[0m\n\u001b[1;32m----> 1\u001b[1;33m \u001b[0mmy_dict\u001b[0m\u001b[1;33m.\u001b[0m\u001b[0m__getitem__\u001b[0m\u001b[1;33m(\u001b[0m\u001b[1;34m'firstnames'\u001b[0m\u001b[1;33m)\u001b[0m\u001b[1;33m\u001b[0m\u001b[1;33m\u001b[0m\u001b[0m\n\u001b[0m",
      "\u001b[1;31mKeyError\u001b[0m: 'firstnames'"
     ]
    }
   ],
   "source": [
    "my_dict.__getitem__('firstnames')"
   ]
  },
  {
   "cell_type": "code",
   "execution_count": 34,
   "id": "292b3c36",
   "metadata": {},
   "outputs": [
    {
     "data": {
      "text/plain": [
       "{'firstname': 'Rahul',\n",
       " 'lastname': 'Somani',\n",
       " 'age': 35,\n",
       " 'Profession': 'Trainer'}"
      ]
     },
     "execution_count": 34,
     "metadata": {},
     "output_type": "execute_result"
    }
   ],
   "source": [
    "my_dict"
   ]
  },
  {
   "cell_type": "code",
   "execution_count": 37,
   "id": "e4c25b96",
   "metadata": {},
   "outputs": [],
   "source": [
    "my_dict['firstname'] = 'ujjwal'"
   ]
  },
  {
   "cell_type": "code",
   "execution_count": 38,
   "id": "c576e741",
   "metadata": {},
   "outputs": [
    {
     "data": {
      "text/plain": [
       "{'firstname': 'ujjwal',\n",
       " 'lastname': 'Somani',\n",
       " 'age': 35,\n",
       " 'Profession': 'Trainer'}"
      ]
     },
     "execution_count": 38,
     "metadata": {},
     "output_type": "execute_result"
    }
   ],
   "source": [
    "my_dict"
   ]
  },
  {
   "cell_type": "code",
   "execution_count": 39,
   "id": "b9e988a2",
   "metadata": {},
   "outputs": [
    {
     "data": {
      "text/plain": [
       "True"
      ]
     },
     "execution_count": 39,
     "metadata": {},
     "output_type": "execute_result"
    }
   ],
   "source": [
    "'__setitem__' in dir(dict)"
   ]
  },
  {
   "cell_type": "code",
   "execution_count": 40,
   "id": "3b97f717",
   "metadata": {},
   "outputs": [
    {
     "data": {
      "text/plain": [
       "<function dict.pop>"
      ]
     },
     "execution_count": 40,
     "metadata": {},
     "output_type": "execute_result"
    }
   ],
   "source": [
    "my_dict.pop"
   ]
  },
  {
   "cell_type": "code",
   "execution_count": 42,
   "id": "63f60262",
   "metadata": {},
   "outputs": [
    {
     "name": "stdout",
     "output_type": "stream",
     "text": [
      "Help on built-in function pop:\n",
      "\n",
      "pop(...) method of builtins.dict instance\n",
      "    D.pop(k[,d]) -> v, remove specified key and return the corresponding value.\n",
      "    \n",
      "    If key is not found, default is returned if given, otherwise KeyError is raised\n",
      "\n"
     ]
    }
   ],
   "source": [
    "help(my_dict.pop)"
   ]
  },
  {
   "cell_type": "code",
   "execution_count": 43,
   "id": "c46adcea",
   "metadata": {},
   "outputs": [
    {
     "data": {
      "text/plain": [
       "'ujjwal'"
      ]
     },
     "execution_count": 43,
     "metadata": {},
     "output_type": "execute_result"
    }
   ],
   "source": [
    "my_dict.pop('firstname')"
   ]
  },
  {
   "cell_type": "code",
   "execution_count": 45,
   "id": "24fff19b",
   "metadata": {},
   "outputs": [
    {
     "data": {
      "text/plain": [
       "({'lastname': 'Somani', 'age': 35, 'Profession': 'Trainer'}, 3)"
      ]
     },
     "execution_count": 45,
     "metadata": {},
     "output_type": "execute_result"
    }
   ],
   "source": [
    "my_dict, len(my_dict)"
   ]
  },
  {
   "cell_type": "code",
   "execution_count": 46,
   "id": "60606e84",
   "metadata": {},
   "outputs": [
    {
     "data": {
      "text/plain": [
       "35"
      ]
     },
     "execution_count": 46,
     "metadata": {},
     "output_type": "execute_result"
    }
   ],
   "source": [
    "my_dict.pop('age')"
   ]
  },
  {
   "cell_type": "code",
   "execution_count": 47,
   "id": "5be2cb8a",
   "metadata": {},
   "outputs": [
    {
     "data": {
      "text/plain": [
       "({'lastname': 'Somani', 'Profession': 'Trainer'}, 2)"
      ]
     },
     "execution_count": 47,
     "metadata": {},
     "output_type": "execute_result"
    }
   ],
   "source": [
    "my_dict, len(my_dict)"
   ]
  },
  {
   "cell_type": "code",
   "execution_count": 48,
   "id": "b25d7a25",
   "metadata": {},
   "outputs": [
    {
     "ename": "KeyError",
     "evalue": "'name'",
     "output_type": "error",
     "traceback": [
      "\u001b[1;31m---------------------------------------------------------------------------\u001b[0m",
      "\u001b[1;31mKeyError\u001b[0m                                  Traceback (most recent call last)",
      "\u001b[1;32m<ipython-input-48-1f19d77a5e0e>\u001b[0m in \u001b[0;36m<module>\u001b[1;34m\u001b[0m\n\u001b[1;32m----> 1\u001b[1;33m \u001b[0mmy_dict\u001b[0m\u001b[1;33m.\u001b[0m\u001b[0mpop\u001b[0m\u001b[1;33m(\u001b[0m\u001b[1;34m'name'\u001b[0m\u001b[1;33m)\u001b[0m\u001b[1;33m\u001b[0m\u001b[1;33m\u001b[0m\u001b[0m\n\u001b[0m",
      "\u001b[1;31mKeyError\u001b[0m: 'name'"
     ]
    }
   ],
   "source": [
    "my_dict.pop('name')"
   ]
  },
  {
   "cell_type": "code",
   "execution_count": 49,
   "id": "e943b307",
   "metadata": {},
   "outputs": [
    {
     "data": {
      "text/plain": [
       "'Not found'"
      ]
     },
     "execution_count": 49,
     "metadata": {},
     "output_type": "execute_result"
    }
   ],
   "source": [
    "my_dict.pop('name','Not found')"
   ]
  },
  {
   "cell_type": "code",
   "execution_count": 50,
   "id": "f41ea525",
   "metadata": {},
   "outputs": [
    {
     "data": {
      "text/plain": [
       "{'lastname': 'Somani', 'Profession': 'Trainer'}"
      ]
     },
     "execution_count": 50,
     "metadata": {},
     "output_type": "execute_result"
    }
   ],
   "source": [
    "my_dict"
   ]
  },
  {
   "cell_type": "markdown",
   "id": "ddc96a53",
   "metadata": {},
   "source": [
    "`` key : value ``"
   ]
  },
  {
   "cell_type": "code",
   "execution_count": 55,
   "id": "2bb6c4e8",
   "metadata": {},
   "outputs": [
    {
     "data": {
      "text/plain": [
       "'age not present'"
      ]
     },
     "execution_count": 55,
     "metadata": {},
     "output_type": "execute_result"
    }
   ],
   "source": [
    "my_dict.pop('age','age not present')"
   ]
  },
  {
   "cell_type": "markdown",
   "id": "770c79c3",
   "metadata": {},
   "source": [
    "`` Dictionaries are not a sequence type container\n",
    "   They are infact mapping ``\n",
    "\n",
    "`` key ----> any hashable object \n",
    "   Not all objects are hashable    \n",
    "   strings are hashable , lists are not \n",
    "``"
   ]
  },
  {
   "cell_type": "code",
   "execution_count": 56,
   "id": "505d8b10",
   "metadata": {},
   "outputs": [
    {
     "data": {
      "text/plain": [
       "1"
      ]
     },
     "execution_count": 56,
     "metadata": {},
     "output_type": "execute_result"
    }
   ],
   "source": [
    "hash(1)"
   ]
  },
  {
   "cell_type": "code",
   "execution_count": 57,
   "id": "e49c8a27",
   "metadata": {},
   "outputs": [
    {
     "data": {
      "text/plain": [
       "1040"
      ]
     },
     "execution_count": 57,
     "metadata": {},
     "output_type": "execute_result"
    }
   ],
   "source": [
    "hash(1040)"
   ]
  },
  {
   "cell_type": "code",
   "execution_count": 58,
   "id": "15dc8ed3",
   "metadata": {},
   "outputs": [
    {
     "data": {
      "text/plain": [
       "461168601842738689"
      ]
     },
     "execution_count": 58,
     "metadata": {},
     "output_type": "execute_result"
    }
   ],
   "source": [
    "hash(1.2)"
   ]
  },
  {
   "cell_type": "code",
   "execution_count": 59,
   "id": "de3db58f",
   "metadata": {},
   "outputs": [
    {
     "data": {
      "text/plain": [
       "8817337779092889397"
      ]
     },
     "execution_count": 59,
     "metadata": {},
     "output_type": "execute_result"
    }
   ],
   "source": [
    "hash('rahul')"
   ]
  },
  {
   "cell_type": "code",
   "execution_count": 60,
   "id": "8e928593",
   "metadata": {},
   "outputs": [
    {
     "data": {
      "text/plain": [
       "1705610893841605637"
      ]
     },
     "execution_count": 60,
     "metadata": {},
     "output_type": "execute_result"
    }
   ],
   "source": [
    "hash(\"Rahul\")"
   ]
  },
  {
   "cell_type": "code",
   "execution_count": 61,
   "id": "7b9723fe",
   "metadata": {},
   "outputs": [
    {
     "data": {
      "text/plain": [
       "5425191054426249843"
      ]
     },
     "execution_count": 61,
     "metadata": {},
     "output_type": "execute_result"
    }
   ],
   "source": [
    "hash('akash')"
   ]
  },
  {
   "cell_type": "code",
   "execution_count": 62,
   "id": "65efd3f4",
   "metadata": {},
   "outputs": [
    {
     "name": "stdout",
     "output_type": "stream",
     "text": [
      "Help on built-in function hash in module builtins:\n",
      "\n",
      "hash(obj, /)\n",
      "    Return the hash value for the given object.\n",
      "    \n",
      "    Two objects that compare equal must also have the same hash value, but the\n",
      "    reverse is not necessarily true.\n",
      "\n"
     ]
    }
   ],
   "source": [
    "help(hash)"
   ]
  },
  {
   "cell_type": "code",
   "execution_count": 63,
   "id": "b1409246",
   "metadata": {},
   "outputs": [
    {
     "name": "stdout",
     "output_type": "stream",
     "text": [
      "['__class__', '__class_getitem__', '__contains__', '__delattr__', '__delitem__', '__dir__', '__doc__', '__eq__', '__format__', '__ge__', '__getattribute__', '__getitem__', '__gt__', '__hash__', '__init__', '__init_subclass__', '__ior__', '__iter__', '__le__', '__len__', '__lt__', '__ne__', '__new__', '__or__', '__reduce__', '__reduce_ex__', '__repr__', '__reversed__', '__ror__', '__setattr__', '__setitem__', '__sizeof__', '__str__', '__subclasshook__', 'clear', 'copy', 'fromkeys', 'get', 'items', 'keys', 'pop', 'popitem', 'setdefault', 'update', 'values']\n"
     ]
    }
   ],
   "source": [
    "print(dir(dict))"
   ]
  },
  {
   "cell_type": "code",
   "execution_count": 64,
   "id": "169661d4",
   "metadata": {},
   "outputs": [
    {
     "data": {
      "text/plain": [
       "<method 'update' of 'dict' objects>"
      ]
     },
     "execution_count": 64,
     "metadata": {},
     "output_type": "execute_result"
    }
   ],
   "source": [
    "dict.update"
   ]
  },
  {
   "cell_type": "code",
   "execution_count": 65,
   "id": "8bcfffaf",
   "metadata": {},
   "outputs": [
    {
     "name": "stdout",
     "output_type": "stream",
     "text": [
      "Help on method_descriptor:\n",
      "\n",
      "update(...)\n",
      "    D.update([E, ]**F) -> None.  Update D from dict/iterable E and F.\n",
      "    If E is present and has a .keys() method, then does:  for k in E: D[k] = E[k]\n",
      "    If E is present and lacks a .keys() method, then does:  for k, v in E: D[k] = v\n",
      "    In either case, this is followed by: for k in F:  D[k] = F[k]\n",
      "\n"
     ]
    }
   ],
   "source": [
    "help(dict.update)"
   ]
  },
  {
   "cell_type": "code",
   "execution_count": 66,
   "id": "6b7e5255",
   "metadata": {},
   "outputs": [],
   "source": [
    "friend_names = {'first':'rahul','second':'amit','third':'neha'}\n",
    "new_friend= {'third':'Sneha'}\n"
   ]
  },
  {
   "cell_type": "code",
   "execution_count": 67,
   "id": "a35f3ec9",
   "metadata": {},
   "outputs": [
    {
     "data": {
      "text/plain": [
       "{'first': 'rahul', 'second': 'amit', 'third': 'neha'}"
      ]
     },
     "execution_count": 67,
     "metadata": {},
     "output_type": "execute_result"
    }
   ],
   "source": [
    "friend_names "
   ]
  },
  {
   "cell_type": "code",
   "execution_count": 69,
   "id": "44b362cc",
   "metadata": {},
   "outputs": [
    {
     "data": {
      "text/plain": [
       "({'third': 'Sneha'}, 1, 1)"
      ]
     },
     "execution_count": 69,
     "metadata": {},
     "output_type": "execute_result"
    }
   ],
   "source": [
    "new_friend, len(new_friend), new_friend.__len__()"
   ]
  },
  {
   "cell_type": "code",
   "execution_count": 70,
   "id": "db91b0bd",
   "metadata": {},
   "outputs": [],
   "source": [
    "friend_names.update(new_friend)"
   ]
  },
  {
   "cell_type": "code",
   "execution_count": 71,
   "id": "060d55b7",
   "metadata": {},
   "outputs": [
    {
     "data": {
      "text/plain": [
       "{'first': 'rahul', 'second': 'amit', 'third': 'Sneha'}"
      ]
     },
     "execution_count": 71,
     "metadata": {},
     "output_type": "execute_result"
    }
   ],
   "source": [
    "friend_names"
   ]
  },
  {
   "cell_type": "code",
   "execution_count": 73,
   "id": "c38649e5",
   "metadata": {},
   "outputs": [],
   "source": [
    "friend_names.update({'fourth':'Ujjwal'})"
   ]
  },
  {
   "cell_type": "code",
   "execution_count": 74,
   "id": "c1a626d3",
   "metadata": {},
   "outputs": [
    {
     "data": {
      "text/plain": [
       "{'first': 'rahul', 'second': 'amit', 'third': 'Sneha', 'fourth': 'Ujjwal'}"
      ]
     },
     "execution_count": 74,
     "metadata": {},
     "output_type": "execute_result"
    }
   ],
   "source": [
    "friend_names"
   ]
  },
  {
   "cell_type": "code",
   "execution_count": 75,
   "id": "88a72585",
   "metadata": {},
   "outputs": [],
   "source": [
    "# Passing an iterable "
   ]
  },
  {
   "cell_type": "code",
   "execution_count": 77,
   "id": "1debac71",
   "metadata": {},
   "outputs": [],
   "source": [
    "friend_names.update(fifth='Somani',sixth='Gopal')"
   ]
  },
  {
   "cell_type": "code",
   "execution_count": 78,
   "id": "187c0ad1",
   "metadata": {},
   "outputs": [
    {
     "data": {
      "text/plain": [
       "{'first': 'rahul',\n",
       " 'second': 'amit',\n",
       " 'third': 'Sneha',\n",
       " 'fourth': 'Ujjwal',\n",
       " 'fifth': 'Somani',\n",
       " 'sixth': 'Gopal'}"
      ]
     },
     "execution_count": 78,
     "metadata": {},
     "output_type": "execute_result"
    }
   ],
   "source": [
    "friend_names"
   ]
  },
  {
   "cell_type": "code",
   "execution_count": 79,
   "id": "36d2e8e4",
   "metadata": {},
   "outputs": [
    {
     "ename": "ValueError",
     "evalue": "dictionary update sequence element #1 has length 4; 2 is required",
     "output_type": "error",
     "traceback": [
      "\u001b[1;31m---------------------------------------------------------------------------\u001b[0m",
      "\u001b[1;31mValueError\u001b[0m                                Traceback (most recent call last)",
      "\u001b[1;32m<ipython-input-79-ad31d06a7507>\u001b[0m in \u001b[0;36m<module>\u001b[1;34m\u001b[0m\n\u001b[1;32m----> 1\u001b[1;33m \u001b[0mfriend_names\u001b[0m\u001b[1;33m.\u001b[0m\u001b[0mupdate\u001b[0m\u001b[1;33m(\u001b[0m\u001b[1;33m[\u001b[0m\u001b[1;34m'Ma'\u001b[0m\u001b[1;33m,\u001b[0m\u001b[1;34m'baba'\u001b[0m\u001b[1;33m]\u001b[0m\u001b[1;33m)\u001b[0m\u001b[1;33m\u001b[0m\u001b[1;33m\u001b[0m\u001b[0m\n\u001b[0m",
      "\u001b[1;31mValueError\u001b[0m: dictionary update sequence element #1 has length 4; 2 is required"
     ]
    }
   ],
   "source": [
    "# HW -2 Try to make use of list to update a dictionary \n",
    "friend_names.update(['Ma','baba']) "
   ]
  },
  {
   "cell_type": "code",
   "execution_count": 80,
   "id": "252e40be",
   "metadata": {},
   "outputs": [],
   "source": [
    "# Try to update a tuple \n",
    "x = 1,2,3"
   ]
  },
  {
   "cell_type": "code",
   "execution_count": 81,
   "id": "76bae680",
   "metadata": {},
   "outputs": [
    {
     "data": {
      "text/plain": [
       "(tuple, 2458423169728)"
      ]
     },
     "execution_count": 81,
     "metadata": {},
     "output_type": "execute_result"
    }
   ],
   "source": [
    "type(x), id(x)"
   ]
  },
  {
   "cell_type": "code",
   "execution_count": 82,
   "id": "4b09c888",
   "metadata": {},
   "outputs": [
    {
     "data": {
      "text/plain": [
       "3"
      ]
     },
     "execution_count": 82,
     "metadata": {},
     "output_type": "execute_result"
    }
   ],
   "source": [
    "len(x)"
   ]
  },
  {
   "cell_type": "code",
   "execution_count": 84,
   "id": "f075c0b6",
   "metadata": {},
   "outputs": [
    {
     "data": {
      "text/plain": [
       "(1, 1)"
      ]
     },
     "execution_count": 84,
     "metadata": {},
     "output_type": "execute_result"
    }
   ],
   "source": [
    "x[0], x.__getitem__(0)"
   ]
  },
  {
   "cell_type": "code",
   "execution_count": 85,
   "id": "41c18a64",
   "metadata": {},
   "outputs": [
    {
     "ename": "AttributeError",
     "evalue": "'tuple' object has no attribute '__setitem__'",
     "output_type": "error",
     "traceback": [
      "\u001b[1;31m---------------------------------------------------------------------------\u001b[0m",
      "\u001b[1;31mAttributeError\u001b[0m                            Traceback (most recent call last)",
      "\u001b[1;32m<ipython-input-85-63273f157e11>\u001b[0m in \u001b[0;36m<module>\u001b[1;34m\u001b[0m\n\u001b[1;32m----> 1\u001b[1;33m \u001b[0mx\u001b[0m\u001b[1;33m.\u001b[0m\u001b[0m__setitem__\u001b[0m\u001b[1;33m(\u001b[0m\u001b[1;33m)\u001b[0m\u001b[1;33m\u001b[0m\u001b[1;33m\u001b[0m\u001b[0m\n\u001b[0m",
      "\u001b[1;31mAttributeError\u001b[0m: 'tuple' object has no attribute '__setitem__'"
     ]
    }
   ],
   "source": [
    "x.__setitem__()"
   ]
  },
  {
   "cell_type": "code",
   "execution_count": 86,
   "id": "aae188bf",
   "metadata": {},
   "outputs": [
    {
     "ename": "TypeError",
     "evalue": "'tuple' object does not support item assignment",
     "output_type": "error",
     "traceback": [
      "\u001b[1;31m---------------------------------------------------------------------------\u001b[0m",
      "\u001b[1;31mTypeError\u001b[0m                                 Traceback (most recent call last)",
      "\u001b[1;32m<ipython-input-86-2ee6296d0398>\u001b[0m in \u001b[0;36m<module>\u001b[1;34m\u001b[0m\n\u001b[1;32m----> 1\u001b[1;33m \u001b[0mx\u001b[0m\u001b[1;33m[\u001b[0m\u001b[1;36m0\u001b[0m\u001b[1;33m]\u001b[0m\u001b[1;33m=\u001b[0m \u001b[1;34m'r'\u001b[0m\u001b[1;33m\u001b[0m\u001b[1;33m\u001b[0m\u001b[0m\n\u001b[0m",
      "\u001b[1;31mTypeError\u001b[0m: 'tuple' object does not support item assignment"
     ]
    }
   ],
   "source": [
    "x[0]= 'r'"
   ]
  },
  {
   "cell_type": "code",
   "execution_count": 87,
   "id": "2f57a088",
   "metadata": {},
   "outputs": [],
   "source": [
    "d = {0:1,2:3,4:'rahul'}"
   ]
  },
  {
   "cell_type": "code",
   "execution_count": 88,
   "id": "c4f04eb0",
   "metadata": {},
   "outputs": [
    {
     "data": {
      "text/plain": [
       "{0: 1, 2: 3, 4: 'rahul'}"
      ]
     },
     "execution_count": 88,
     "metadata": {},
     "output_type": "execute_result"
    }
   ],
   "source": [
    "d"
   ]
  },
  {
   "cell_type": "code",
   "execution_count": 89,
   "id": "aa6f0025",
   "metadata": {},
   "outputs": [
    {
     "data": {
      "text/plain": [
       "1"
      ]
     },
     "execution_count": 89,
     "metadata": {},
     "output_type": "execute_result"
    }
   ],
   "source": [
    "d[0]"
   ]
  },
  {
   "cell_type": "code",
   "execution_count": 90,
   "id": "dbd011e6",
   "metadata": {},
   "outputs": [
    {
     "data": {
      "text/plain": [
       "3"
      ]
     },
     "execution_count": 90,
     "metadata": {},
     "output_type": "execute_result"
    }
   ],
   "source": [
    "d[2]"
   ]
  },
  {
   "cell_type": "code",
   "execution_count": 91,
   "id": "e385a858",
   "metadata": {},
   "outputs": [
    {
     "data": {
      "text/plain": [
       "'rahul'"
      ]
     },
     "execution_count": 91,
     "metadata": {},
     "output_type": "execute_result"
    }
   ],
   "source": [
    "d[4]"
   ]
  },
  {
   "cell_type": "code",
   "execution_count": 93,
   "id": "2302f6b8",
   "metadata": {},
   "outputs": [],
   "source": [
    "t = 1,2,3"
   ]
  },
  {
   "cell_type": "code",
   "execution_count": 100,
   "id": "076dd94d",
   "metadata": {},
   "outputs": [
    {
     "data": {
      "text/plain": [
       "(tuple, 2458423269312, 3, (1, 2, 300))"
      ]
     },
     "execution_count": 100,
     "metadata": {},
     "output_type": "execute_result"
    }
   ],
   "source": [
    "type(t), id(t), len(t),t"
   ]
  },
  {
   "cell_type": "code",
   "execution_count": 95,
   "id": "00a0ae33",
   "metadata": {},
   "outputs": [],
   "source": [
    "# convert the tuple to a list \n",
    "l = list(t)"
   ]
  },
  {
   "cell_type": "code",
   "execution_count": 96,
   "id": "682e24ca",
   "metadata": {},
   "outputs": [
    {
     "data": {
      "text/plain": [
       "([1, 2, 3], list, 2458423273664, 3)"
      ]
     },
     "execution_count": 96,
     "metadata": {},
     "output_type": "execute_result"
    }
   ],
   "source": [
    "l,type(l),id(l),len(l)"
   ]
  },
  {
   "cell_type": "code",
   "execution_count": 101,
   "id": "8ec0e9fe",
   "metadata": {},
   "outputs": [],
   "source": [
    "l[-1] = 300 "
   ]
  },
  {
   "cell_type": "code",
   "execution_count": 102,
   "id": "28d2fcbd",
   "metadata": {},
   "outputs": [
    {
     "data": {
      "text/plain": [
       "[1, 2, 300]"
      ]
     },
     "execution_count": 102,
     "metadata": {},
     "output_type": "execute_result"
    }
   ],
   "source": [
    "l"
   ]
  },
  {
   "cell_type": "code",
   "execution_count": 99,
   "id": "d62b40f7",
   "metadata": {},
   "outputs": [
    {
     "data": {
      "text/plain": [
       "(2458423269312, 3, (1, 2, 300))"
      ]
     },
     "execution_count": 99,
     "metadata": {},
     "output_type": "execute_result"
    }
   ],
   "source": [
    "t = tuple(l)\n",
    "id(t), len(t), t"
   ]
  },
  {
   "cell_type": "code",
   "execution_count": 103,
   "id": "0cf4fb16",
   "metadata": {},
   "outputs": [
    {
     "data": {
      "text/plain": [
       "tuple"
      ]
     },
     "execution_count": 103,
     "metadata": {},
     "output_type": "execute_result"
    }
   ],
   "source": [
    "tuple  # Rao type this and run it to see the output . "
   ]
  },
  {
   "cell_type": "code",
   "execution_count": 104,
   "id": "5be5110a",
   "metadata": {},
   "outputs": [
    {
     "name": "stdout",
     "output_type": "stream",
     "text": [
      "['__class__', '__class_getitem__', '__contains__', '__delattr__', '__delitem__', '__dir__', '__doc__', '__eq__', '__format__', '__ge__', '__getattribute__', '__getitem__', '__gt__', '__hash__', '__init__', '__init_subclass__', '__ior__', '__iter__', '__le__', '__len__', '__lt__', '__ne__', '__new__', '__or__', '__reduce__', '__reduce_ex__', '__repr__', '__reversed__', '__ror__', '__setattr__', '__setitem__', '__sizeof__', '__str__', '__subclasshook__', 'clear', 'copy', 'fromkeys', 'get', 'items', 'keys', 'pop', 'popitem', 'setdefault', 'update', 'values']\n"
     ]
    }
   ],
   "source": [
    "print(dir(dict))"
   ]
  },
  {
   "cell_type": "code",
   "execution_count": 105,
   "id": "e83e2c76",
   "metadata": {},
   "outputs": [
    {
     "data": {
      "text/plain": [
       "<method 'popitem' of 'dict' objects>"
      ]
     },
     "execution_count": 105,
     "metadata": {},
     "output_type": "execute_result"
    }
   ],
   "source": [
    " dict.popitem"
   ]
  },
  {
   "cell_type": "code",
   "execution_count": 106,
   "id": "be0efc10",
   "metadata": {},
   "outputs": [
    {
     "name": "stdout",
     "output_type": "stream",
     "text": [
      "Help on method_descriptor:\n",
      "\n",
      "popitem(self, /)\n",
      "    Remove and return a (key, value) pair as a 2-tuple.\n",
      "    \n",
      "    Pairs are returned in LIFO (last-in, first-out) order.\n",
      "    Raises KeyError if the dict is empty.\n",
      "\n"
     ]
    }
   ],
   "source": [
    "help(dict.popitem)"
   ]
  },
  {
   "cell_type": "code",
   "execution_count": 107,
   "id": "e85ea238",
   "metadata": {},
   "outputs": [
    {
     "ename": "KeyError",
     "evalue": "'popitem(): dictionary is empty'",
     "output_type": "error",
     "traceback": [
      "\u001b[1;31m---------------------------------------------------------------------------\u001b[0m",
      "\u001b[1;31mKeyError\u001b[0m                                  Traceback (most recent call last)",
      "\u001b[1;32m<ipython-input-107-d131d31b6076>\u001b[0m in \u001b[0;36m<module>\u001b[1;34m\u001b[0m\n\u001b[0;32m      1\u001b[0m \u001b[0md\u001b[0m \u001b[1;33m=\u001b[0m \u001b[1;33m{\u001b[0m\u001b[1;33m}\u001b[0m\u001b[1;33m\u001b[0m\u001b[1;33m\u001b[0m\u001b[0m\n\u001b[1;32m----> 2\u001b[1;33m \u001b[0md\u001b[0m\u001b[1;33m.\u001b[0m\u001b[0mpopitem\u001b[0m\u001b[1;33m(\u001b[0m\u001b[1;33m)\u001b[0m\u001b[1;33m\u001b[0m\u001b[1;33m\u001b[0m\u001b[0m\n\u001b[0m",
      "\u001b[1;31mKeyError\u001b[0m: 'popitem(): dictionary is empty'"
     ]
    }
   ],
   "source": [
    "d = {} \n",
    "d.popitem()"
   ]
  },
  {
   "cell_type": "code",
   "execution_count": 108,
   "id": "a1626fff",
   "metadata": {},
   "outputs": [
    {
     "data": {
      "text/plain": [
       "(2, 'raghu')"
      ]
     },
     "execution_count": 108,
     "metadata": {},
     "output_type": "execute_result"
    }
   ],
   "source": [
    "d = {1:'rahul',2:'raghu'} \n",
    "d.popitem()"
   ]
  },
  {
   "cell_type": "code",
   "execution_count": 109,
   "id": "f227339b",
   "metadata": {},
   "outputs": [],
   "source": [
    "d = {1:'rahul',2:'raghu'} \n",
    "result=d.popitem()"
   ]
  },
  {
   "cell_type": "code",
   "execution_count": 110,
   "id": "3fe1df43",
   "metadata": {},
   "outputs": [
    {
     "data": {
      "text/plain": [
       "(tuple, (2, 'raghu'))"
      ]
     },
     "execution_count": 110,
     "metadata": {},
     "output_type": "execute_result"
    }
   ],
   "source": [
    "type(result), result "
   ]
  },
  {
   "cell_type": "code",
   "execution_count": 111,
   "id": "b83edebe",
   "metadata": {},
   "outputs": [
    {
     "data": {
      "text/plain": [
       "({1: 'rahul'}, 1)"
      ]
     },
     "execution_count": 111,
     "metadata": {},
     "output_type": "execute_result"
    }
   ],
   "source": [
    "d, len(d)"
   ]
  },
  {
   "cell_type": "code",
   "execution_count": 114,
   "id": "361d2cee",
   "metadata": {},
   "outputs": [
    {
     "data": {
      "text/plain": [
       "{}"
      ]
     },
     "execution_count": 114,
     "metadata": {},
     "output_type": "execute_result"
    }
   ],
   "source": [
    "d"
   ]
  },
  {
   "cell_type": "code",
   "execution_count": 115,
   "id": "12c9b2c7",
   "metadata": {},
   "outputs": [
    {
     "ename": "KeyError",
     "evalue": "'popitem(): dictionary is empty'",
     "output_type": "error",
     "traceback": [
      "\u001b[1;31m---------------------------------------------------------------------------\u001b[0m",
      "\u001b[1;31mKeyError\u001b[0m                                  Traceback (most recent call last)",
      "\u001b[1;32m<ipython-input-115-83c64cff336b>\u001b[0m in \u001b[0;36m<module>\u001b[1;34m\u001b[0m\n\u001b[1;32m----> 1\u001b[1;33m \u001b[0md\u001b[0m\u001b[1;33m.\u001b[0m\u001b[0mpopitem\u001b[0m\u001b[1;33m(\u001b[0m\u001b[1;33m)\u001b[0m\u001b[1;33m\u001b[0m\u001b[1;33m\u001b[0m\u001b[0m\n\u001b[0m",
      "\u001b[1;31mKeyError\u001b[0m: 'popitem(): dictionary is empty'"
     ]
    }
   ],
   "source": [
    "d.popitem()"
   ]
  },
  {
   "cell_type": "code",
   "execution_count": 116,
   "id": "73b26d02",
   "metadata": {},
   "outputs": [
    {
     "data": {
      "text/plain": [
       "2458373750000"
      ]
     },
     "execution_count": 116,
     "metadata": {},
     "output_type": "execute_result"
    }
   ],
   "source": [
    "s = 'python'\n",
    "id(s)"
   ]
  },
  {
   "cell_type": "code",
   "execution_count": 117,
   "id": "1ee1c3b0",
   "metadata": {},
   "outputs": [
    {
     "data": {
      "text/plain": [
       "2458423354416"
      ]
     },
     "execution_count": 117,
     "metadata": {},
     "output_type": "execute_result"
    }
   ],
   "source": [
    "s = s+'is easy'\n",
    "id(s)"
   ]
  },
  {
   "cell_type": "code",
   "execution_count": 118,
   "id": "f930f987",
   "metadata": {},
   "outputs": [
    {
     "data": {
      "text/plain": [
       "'pythonis easy'"
      ]
     },
     "execution_count": 118,
     "metadata": {},
     "output_type": "execute_result"
    }
   ],
   "source": [
    "s"
   ]
  },
  {
   "cell_type": "code",
   "execution_count": 119,
   "id": "cc92afab",
   "metadata": {},
   "outputs": [
    {
     "name": "stdout",
     "output_type": "stream",
     "text": [
      "current address of s = 2458373750000\n",
      "current value = python is easy and address of s = 2458423346416\n"
     ]
    }
   ],
   "source": [
    "s='python'\n",
    "print('current address of s = {}'.format(id(s)))\n",
    "s +=' is easy'\n",
    "print('current value = {} and address of s = {}'.format(s,id(s)))\n",
    "\n"
   ]
  },
  {
   "cell_type": "code",
   "execution_count": 120,
   "id": "0a992bb1",
   "metadata": {},
   "outputs": [
    {
     "data": {
      "text/plain": [
       "0.5"
      ]
     },
     "execution_count": 120,
     "metadata": {},
     "output_type": "execute_result"
    }
   ],
   "source": [
    "1/2"
   ]
  },
  {
   "cell_type": "code",
   "execution_count": 121,
   "id": "da324df2",
   "metadata": {},
   "outputs": [
    {
     "data": {
      "text/plain": [
       "0"
      ]
     },
     "execution_count": 121,
     "metadata": {},
     "output_type": "execute_result"
    }
   ],
   "source": [
    "int(1/2)"
   ]
  },
  {
   "cell_type": "code",
   "execution_count": 124,
   "id": "86a8b8d1",
   "metadata": {},
   "outputs": [
    {
     "data": {
      "text/plain": [
       "2"
      ]
     },
     "execution_count": 124,
     "metadata": {},
     "output_type": "execute_result"
    }
   ],
   "source": [
    "int(\"2\")"
   ]
  },
  {
   "cell_type": "code",
   "execution_count": 127,
   "id": "f43d35dd",
   "metadata": {},
   "outputs": [
    {
     "name": "stdout",
     "output_type": "stream",
     "text": [
      "****************************************Start of the program****************************************\n",
      "Enter a number 10\n",
      "Enter another number0\n",
      "Lets find the division\n"
     ]
    },
    {
     "ename": "ZeroDivisionError",
     "evalue": "division by zero",
     "output_type": "error",
     "traceback": [
      "\u001b[1;31m---------------------------------------------------------------------------\u001b[0m",
      "\u001b[1;31mZeroDivisionError\u001b[0m                         Traceback (most recent call last)",
      "\u001b[1;32m<ipython-input-127-60f651cafd72>\u001b[0m in \u001b[0;36m<module>\u001b[1;34m\u001b[0m\n\u001b[0;32m      3\u001b[0m \u001b[0mnum2\u001b[0m \u001b[1;33m=\u001b[0m \u001b[0mint\u001b[0m\u001b[1;33m(\u001b[0m\u001b[0minput\u001b[0m\u001b[1;33m(\u001b[0m\u001b[1;34m\"Enter another number\"\u001b[0m\u001b[1;33m)\u001b[0m\u001b[1;33m)\u001b[0m\u001b[1;33m\u001b[0m\u001b[1;33m\u001b[0m\u001b[0m\n\u001b[0;32m      4\u001b[0m \u001b[0mprint\u001b[0m\u001b[1;33m(\u001b[0m\u001b[1;34m'Lets find the division'\u001b[0m\u001b[1;33m)\u001b[0m\u001b[1;33m\u001b[0m\u001b[1;33m\u001b[0m\u001b[0m\n\u001b[1;32m----> 5\u001b[1;33m \u001b[0mresult\u001b[0m \u001b[1;33m=\u001b[0m \u001b[0mint\u001b[0m\u001b[1;33m(\u001b[0m\u001b[0mnum1\u001b[0m\u001b[1;33m/\u001b[0m\u001b[0mnum2\u001b[0m \u001b[1;33m)\u001b[0m\u001b[1;33m\u001b[0m\u001b[1;33m\u001b[0m\u001b[0m\n\u001b[0m\u001b[0;32m      6\u001b[0m \u001b[0mprint\u001b[0m\u001b[1;33m(\u001b[0m\u001b[0mresult\u001b[0m\u001b[1;33m)\u001b[0m\u001b[1;33m\u001b[0m\u001b[1;33m\u001b[0m\u001b[0m\n\u001b[0;32m      7\u001b[0m \u001b[0mprint\u001b[0m\u001b[1;33m(\u001b[0m\u001b[1;34m'End of program'\u001b[0m\u001b[1;33m.\u001b[0m\u001b[0mcenter\u001b[0m\u001b[1;33m(\u001b[0m\u001b[1;36m100\u001b[0m\u001b[1;33m,\u001b[0m\u001b[1;34m'-'\u001b[0m\u001b[1;33m)\u001b[0m\u001b[1;33m)\u001b[0m\u001b[1;33m\u001b[0m\u001b[1;33m\u001b[0m\u001b[0m\n",
      "\u001b[1;31mZeroDivisionError\u001b[0m: division by zero"
     ]
    }
   ],
   "source": [
    "# Run time error \n",
    "print('Start of the program'.center(100,'*'))\n",
    "num1 = int(input(\"Enter a number \"))\n",
    "num2 = int(input(\"Enter another number\"))\n",
    "print('Lets find the division')\n",
    "result = int(num1/num2)\n",
    "print(result)\n",
    "print('End of program'.center(100,'-'))\n"
   ]
  },
  {
   "cell_type": "markdown",
   "id": "7573e9f2",
   "metadata": {},
   "source": [
    "# set \n",
    "# used in mathematics, statistics\n",
    "# set consist of unique elements\n",
    "# The order is not preserverd, i.e, their is no gurantee of the order \n",
    "# Non sequence type container \n"
   ]
  },
  {
   "cell_type": "markdown",
   "id": "7c446c28",
   "metadata": {},
   "source": [
    "`` Syntax: \n",
    "    my_var = {1,2,3}\n",
    "    my_var = set()\n",
    "    ``"
   ]
  },
  {
   "cell_type": "code",
   "execution_count": 128,
   "id": "f64fa13f",
   "metadata": {},
   "outputs": [],
   "source": [
    "s = {1,2,3}"
   ]
  },
  {
   "cell_type": "code",
   "execution_count": 129,
   "id": "dac0de3d",
   "metadata": {},
   "outputs": [
    {
     "data": {
      "text/plain": [
       "(set, {1, 2, 3}, 3, 2458427059104)"
      ]
     },
     "execution_count": 129,
     "metadata": {},
     "output_type": "execute_result"
    }
   ],
   "source": [
    "type(s), s , len(s), id(s)"
   ]
  },
  {
   "cell_type": "code",
   "execution_count": 130,
   "id": "c1126b5c",
   "metadata": {},
   "outputs": [
    {
     "data": {
      "text/plain": [
       "(set, {1, 2, 3}, 3, 2458427058208)"
      ]
     },
     "execution_count": 130,
     "metadata": {},
     "output_type": "execute_result"
    }
   ],
   "source": [
    "s = {1,2,3,2,2,1,3,1}\n",
    "type(s), s, len(s), id(s)"
   ]
  },
  {
   "cell_type": "code",
   "execution_count": 131,
   "id": "7c6d5d9a",
   "metadata": {},
   "outputs": [
    {
     "ename": "TypeError",
     "evalue": "'set' object is not subscriptable",
     "output_type": "error",
     "traceback": [
      "\u001b[1;31m---------------------------------------------------------------------------\u001b[0m",
      "\u001b[1;31mTypeError\u001b[0m                                 Traceback (most recent call last)",
      "\u001b[1;32m<ipython-input-131-c9c96910e542>\u001b[0m in \u001b[0;36m<module>\u001b[1;34m\u001b[0m\n\u001b[1;32m----> 1\u001b[1;33m \u001b[0ms\u001b[0m\u001b[1;33m[\u001b[0m\u001b[1;36m0\u001b[0m\u001b[1;33m]\u001b[0m\u001b[1;33m\u001b[0m\u001b[1;33m\u001b[0m\u001b[0m\n\u001b[0m",
      "\u001b[1;31mTypeError\u001b[0m: 'set' object is not subscriptable"
     ]
    }
   ],
   "source": [
    "s[0]"
   ]
  },
  {
   "cell_type": "code",
   "execution_count": 132,
   "id": "1caa5a30",
   "metadata": {},
   "outputs": [],
   "source": [
    "s = {'a',1,100,'c','b','z',23}"
   ]
  },
  {
   "cell_type": "code",
   "execution_count": 133,
   "id": "3bd88e74",
   "metadata": {},
   "outputs": [
    {
     "data": {
      "text/plain": [
       "{1, 100, 23, 'a', 'b', 'c', 'z'}"
      ]
     },
     "execution_count": 133,
     "metadata": {},
     "output_type": "execute_result"
    }
   ],
   "source": [
    "s"
   ]
  },
  {
   "cell_type": "code",
   "execution_count": 136,
   "id": "9ea6b5c3",
   "metadata": {},
   "outputs": [
    {
     "data": {
      "text/plain": [
       "{1, 100, 23, 'a', 'b', 'c', 'z'}"
      ]
     },
     "execution_count": 136,
     "metadata": {},
     "output_type": "execute_result"
    }
   ],
   "source": [
    "s"
   ]
  },
  {
   "cell_type": "code",
   "execution_count": 137,
   "id": "7b95e761",
   "metadata": {},
   "outputs": [],
   "source": [
    "l = ['some', 'of', 'you','may', 'some', 'times','make', 'some','mistake']"
   ]
  },
  {
   "cell_type": "code",
   "execution_count": 138,
   "id": "54e2d24c",
   "metadata": {},
   "outputs": [
    {
     "data": {
      "text/plain": [
       "(list,\n",
       " ['some', 'of', 'you', 'may', 'some', 'times', 'make', 'some', 'mistake'],\n",
       " 9)"
      ]
     },
     "execution_count": 138,
     "metadata": {},
     "output_type": "execute_result"
    }
   ],
   "source": [
    "type(l),l, len(l)"
   ]
  },
  {
   "cell_type": "code",
   "execution_count": 139,
   "id": "d0cbfc8c",
   "metadata": {},
   "outputs": [],
   "source": [
    "new_list = set(l)"
   ]
  },
  {
   "cell_type": "code",
   "execution_count": 140,
   "id": "eb77ac2a",
   "metadata": {},
   "outputs": [
    {
     "data": {
      "text/plain": [
       "{'make', 'may', 'mistake', 'of', 'some', 'times', 'you'}"
      ]
     },
     "execution_count": 140,
     "metadata": {},
     "output_type": "execute_result"
    }
   ],
   "source": [
    "new_list"
   ]
  },
  {
   "cell_type": "code",
   "execution_count": 141,
   "id": "7942a1cc",
   "metadata": {},
   "outputs": [
    {
     "name": "stdout",
     "output_type": "stream",
     "text": [
      "['__and__', '__class__', '__class_getitem__', '__contains__', '__delattr__', '__dir__', '__doc__', '__eq__', '__format__', '__ge__', '__getattribute__', '__gt__', '__hash__', '__iand__', '__init__', '__init_subclass__', '__ior__', '__isub__', '__iter__', '__ixor__', '__le__', '__len__', '__lt__', '__ne__', '__new__', '__or__', '__rand__', '__reduce__', '__reduce_ex__', '__repr__', '__ror__', '__rsub__', '__rxor__', '__setattr__', '__sizeof__', '__str__', '__sub__', '__subclasshook__', '__xor__', 'add', 'clear', 'copy', 'difference', 'difference_update', 'discard', 'intersection', 'intersection_update', 'isdisjoint', 'issubset', 'issuperset', 'pop', 'remove', 'symmetric_difference', 'symmetric_difference_update', 'union', 'update']\n"
     ]
    }
   ],
   "source": [
    "print(dir(set))"
   ]
  },
  {
   "cell_type": "code",
   "execution_count": 142,
   "id": "e1dc1740",
   "metadata": {},
   "outputs": [
    {
     "name": "stdout",
     "output_type": "stream",
     "text": [
      "Help on method_descriptor:\n",
      "\n",
      "union(...)\n",
      "    Return the union of sets as a new set.\n",
      "    \n",
      "    (i.e. all elements that are in either set.)\n",
      "\n"
     ]
    }
   ],
   "source": [
    "help(set.union)"
   ]
  },
  {
   "cell_type": "code",
   "execution_count": null,
   "id": "5f75b48f",
   "metadata": {},
   "outputs": [],
   "source": []
  },
  {
   "cell_type": "code",
   "execution_count": 143,
   "id": "022cf010",
   "metadata": {},
   "outputs": [
    {
     "name": "stdout",
     "output_type": "stream",
     "text": [
      " Union of s1 and s2 = {1, 2, 3, 4, 5}\n"
     ]
    }
   ],
   "source": [
    "s1 = {1,2,3}\n",
    "s2 = {2,3,4,5}\n",
    "print(' Union of s1 and s2 = {}'.format(s1.union(s2)))\n"
   ]
  },
  {
   "cell_type": "code",
   "execution_count": 144,
   "id": "25b984a2",
   "metadata": {},
   "outputs": [
    {
     "name": "stdout",
     "output_type": "stream",
     "text": [
      "Help on method_descriptor:\n",
      "\n",
      "intersection(...)\n",
      "    Return the intersection of two sets as a new set.\n",
      "    \n",
      "    (i.e. all elements that are in both sets.)\n",
      "\n"
     ]
    }
   ],
   "source": [
    "help(set.intersection)"
   ]
  },
  {
   "cell_type": "code",
   "execution_count": null,
   "id": "02641ce1",
   "metadata": {},
   "outputs": [],
   "source": []
  },
  {
   "cell_type": "code",
   "execution_count": 145,
   "id": "1faea628",
   "metadata": {},
   "outputs": [
    {
     "name": "stdout",
     "output_type": "stream",
     "text": [
      " Intersection of s1 and s2 = {2, 3}\n"
     ]
    }
   ],
   "source": [
    "s1 = {1,2,3}\n",
    "s2 = {2,3,4,5}\n",
    "print(' Intersection of s1 and s2 = {}'.format(s1.intersection(s2)))"
   ]
  },
  {
   "cell_type": "code",
   "execution_count": 146,
   "id": "e9d10bb0",
   "metadata": {},
   "outputs": [
    {
     "name": "stdout",
     "output_type": "stream",
     "text": [
      " Intersection of s1 and s2 = {2, 3}\n"
     ]
    }
   ],
   "source": [
    "s1 = {1,2,3}\n",
    "s2 = {2,3,4,5}\n",
    "print(' Intersection of s1 and s2 = {}'.format(s2.intersection(s1)))"
   ]
  },
  {
   "cell_type": "code",
   "execution_count": 147,
   "id": "201a3386",
   "metadata": {},
   "outputs": [
    {
     "data": {
      "text/plain": [
       "{1, 2, 3}"
      ]
     },
     "execution_count": 147,
     "metadata": {},
     "output_type": "execute_result"
    }
   ],
   "source": [
    "s1"
   ]
  },
  {
   "cell_type": "code",
   "execution_count": 148,
   "id": "e9c2509c",
   "metadata": {},
   "outputs": [
    {
     "data": {
      "text/plain": [
       "<method 'pop' of 'set' objects>"
      ]
     },
     "execution_count": 148,
     "metadata": {},
     "output_type": "execute_result"
    }
   ],
   "source": [
    "set.pop"
   ]
  },
  {
   "cell_type": "code",
   "execution_count": 149,
   "id": "7dffd127",
   "metadata": {},
   "outputs": [
    {
     "name": "stdout",
     "output_type": "stream",
     "text": [
      "Help on method_descriptor:\n",
      "\n",
      "pop(...)\n",
      "    Remove and return an arbitrary set element.\n",
      "    Raises KeyError if the set is empty.\n",
      "\n"
     ]
    }
   ],
   "source": [
    "help(set.pop)"
   ]
  },
  {
   "cell_type": "code",
   "execution_count": 150,
   "id": "685e8b0e",
   "metadata": {},
   "outputs": [
    {
     "data": {
      "text/plain": [
       "(set, 6, {1, 100, 2000, 'a', 'b', 'rahul'})"
      ]
     },
     "execution_count": 150,
     "metadata": {},
     "output_type": "execute_result"
    }
   ],
   "source": [
    "s = {'a',1,100,'b','rahul',2000,True}\n",
    "type(s), len(s), s"
   ]
  },
  {
   "cell_type": "code",
   "execution_count": 157,
   "id": "b7ca4075",
   "metadata": {},
   "outputs": [],
   "source": [
    "result = s.pop()"
   ]
  },
  {
   "cell_type": "code",
   "execution_count": 158,
   "id": "4456a075",
   "metadata": {},
   "outputs": [
    {
     "data": {
      "text/plain": [
       "('rahul', {'a', 'b'}, 2)"
      ]
     },
     "execution_count": 158,
     "metadata": {},
     "output_type": "execute_result"
    }
   ],
   "source": [
    "result,s,len(s)"
   ]
  },
  {
   "cell_type": "code",
   "execution_count": 159,
   "id": "95d62a34",
   "metadata": {},
   "outputs": [
    {
     "data": {
      "text/plain": [
       "{'a', 'b'}"
      ]
     },
     "execution_count": 159,
     "metadata": {},
     "output_type": "execute_result"
    }
   ],
   "source": [
    "s"
   ]
  },
  {
   "cell_type": "code",
   "execution_count": 160,
   "id": "c44c0b3d",
   "metadata": {},
   "outputs": [
    {
     "ename": "TypeError",
     "evalue": "set.pop() takes no arguments (1 given)",
     "output_type": "error",
     "traceback": [
      "\u001b[1;31m---------------------------------------------------------------------------\u001b[0m",
      "\u001b[1;31mTypeError\u001b[0m                                 Traceback (most recent call last)",
      "\u001b[1;32m<ipython-input-160-728c9777cab1>\u001b[0m in \u001b[0;36m<module>\u001b[1;34m\u001b[0m\n\u001b[1;32m----> 1\u001b[1;33m \u001b[0ms\u001b[0m\u001b[1;33m.\u001b[0m\u001b[0mpop\u001b[0m\u001b[1;33m(\u001b[0m\u001b[1;36m0\u001b[0m\u001b[1;33m)\u001b[0m\u001b[1;33m\u001b[0m\u001b[1;33m\u001b[0m\u001b[0m\n\u001b[0m",
      "\u001b[1;31mTypeError\u001b[0m: set.pop() takes no arguments (1 given)"
     ]
    }
   ],
   "source": [
    "s.pop(0)"
   ]
  },
  {
   "cell_type": "markdown",
   "id": "c5a9dd13",
   "metadata": {},
   "source": [
    "`` Difference of two set A and B is mathematically represented \n",
    "   by A-B, gives us all the elements that are in ONLY A but not in B ``"
   ]
  },
  {
   "cell_type": "code",
   "execution_count": null,
   "id": "b939e865",
   "metadata": {},
   "outputs": [],
   "source": []
  },
  {
   "cell_type": "code",
   "execution_count": 162,
   "id": "94ccaea0",
   "metadata": {},
   "outputs": [
    {
     "name": "stdout",
     "output_type": "stream",
     "text": [
      "{4, 5}\n",
      "set()\n"
     ]
    }
   ],
   "source": [
    "\n",
    "s1= {1,2,3,4,5}\n",
    "s2= {1,2,3}\n",
    "print(s2-s1)\n",
    "print(s1-s2)"
   ]
  },
  {
   "cell_type": "code",
   "execution_count": null,
   "id": "126911b4",
   "metadata": {},
   "outputs": [],
   "source": []
  }
 ],
 "metadata": {
  "kernelspec": {
   "display_name": "Python 3",
   "language": "python",
   "name": "python3"
  },
  "language_info": {
   "codemirror_mode": {
    "name": "ipython",
    "version": 3
   },
   "file_extension": ".py",
   "mimetype": "text/x-python",
   "name": "python",
   "nbconvert_exporter": "python",
   "pygments_lexer": "ipython3",
   "version": "3.9.6"
  }
 },
 "nbformat": 4,
 "nbformat_minor": 5
}
